{
 "cells": [
  {
   "cell_type": "code",
   "execution_count": 2,
   "metadata": {},
   "outputs": [],
   "source": [
    "import pandas as pd"
   ]
  },
  {
   "cell_type": "code",
   "execution_count": 25,
   "metadata": {},
   "outputs": [
    {
     "data": {
      "text/html": [
       "<div>\n",
       "<style scoped>\n",
       "    .dataframe tbody tr th:only-of-type {\n",
       "        vertical-align: middle;\n",
       "    }\n",
       "\n",
       "    .dataframe tbody tr th {\n",
       "        vertical-align: top;\n",
       "    }\n",
       "\n",
       "    .dataframe thead th {\n",
       "        text-align: right;\n",
       "    }\n",
       "</style>\n",
       "<table border=\"1\" class=\"dataframe\">\n",
       "  <thead>\n",
       "    <tr style=\"text-align: right;\">\n",
       "      <th></th>\n",
       "      <th>year</th>\n",
       "      <th>rx_dom</th>\n",
       "      <th>otc_dom</th>\n",
       "      <th>self_dom</th>\n",
       "      <th>stock_rx</th>\n",
       "      <th>stock_otc</th>\n",
       "      <th>stock_self</th>\n",
       "    </tr>\n",
       "  </thead>\n",
       "  <tbody>\n",
       "  </tbody>\n",
       "</table>\n",
       "</div>"
      ],
      "text/plain": [
       "Empty DataFrame\n",
       "Columns: [year, rx_dom, otc_dom, self_dom, stock_rx, stock_otc, stock_self]\n",
       "Index: []"
      ]
     },
     "execution_count": 25,
     "metadata": {},
     "output_type": "execute_result"
    }
   ],
   "source": [
    "f_columns=[\"year\",\"rx_dom\",\"otc_dom\",\"self_dom\",\"stock_rx\",\"stock_otc\",\"stock_self\"]\n",
    "final_df=pd.DataFrame(columns=f_columns)\n",
    "final_df\n"
   ]
  },
  {
   "attachments": {},
   "cell_type": "markdown",
   "metadata": {},
   "source": [
    "国内向け出荷額だけ見よう"
   ]
  },
  {
   "cell_type": "code",
   "execution_count": 26,
   "metadata": {},
   "outputs": [
    {
     "name": "stdout",
     "output_type": "stream",
     "text": [
      "449 305760642 3185119 3133637\n",
      "449 270040334 6477823 6443836\n",
      "449 241872294 4913599 4831649\n",
      "449 205740571 7869200 7752876\n"
     ]
    }
   ],
   "source": [
    "# type 1\n",
    "# header =[]\n",
    "names=[\n",
    "# \"2015-4.xls\",\n",
    "\"2015-5.xls\",\n",
    "# \"2016-4.xls\",\n",
    "\"2016-5.xls\",\n",
    "# \"2017-4.xls\",\n",
    "\"2017-5.xls\",\n",
    "# \"2018-4.xls\",\n",
    "\"2018-5.xls\"\n",
    "]\n",
    "year=2015\n",
    "header=[\"id\",\"class\",\"num\",\"agg_agg\",\"agg_dom\",\"agg_ex\",\"rx_agg\",\"rx_dom\",\"rx_ex\",\"etc_agg\",\"etc_dom\",\"etc_ex\",\"self_agg\",\"self_dom\",\"self_ex\",\"id2\",\"class2\",\"otc_agg\",\"otc_dom\",\"otc_ex\",\"hou_agg\",\"hou_dom\",\"hou_ex\",\"stock_agg\",\"stock_rx\",\"stock_etc\",\"stock_self\",\"stock_otc\",\"stock_hou\"]\n",
    "index=190\n",
    "for it,name in enumerate(names):\n",
    "    data=pd.read_excel(name,header=None,names=header)\n",
    "    print(data.loc[190,\"id\"],data.loc[190,\"rx_dom\"],data.loc[190,\"otc_dom\"],data.loc[190,\"self_dom\"])\n",
    "    column_names=[\"rx_dom\",\"otc_dom\",\"self_dom\",\"stock_rx\",\"stock_otc\",\"stock_self\"]\n",
    "    row_list=[data.loc[index,cname] for cname in column_names]\n",
    "    row_list.insert(0,year+it)\n",
    "    final_df=pd.concat([final_df,pd.DataFrame(row_list,index=f_columns).T],ignore_index=False)"
   ]
  },
  {
   "cell_type": "code",
   "execution_count": 27,
   "metadata": {},
   "outputs": [
    {
     "data": {
      "text/html": [
       "<div>\n",
       "<style scoped>\n",
       "    .dataframe tbody tr th:only-of-type {\n",
       "        vertical-align: middle;\n",
       "    }\n",
       "\n",
       "    .dataframe tbody tr th {\n",
       "        vertical-align: top;\n",
       "    }\n",
       "\n",
       "    .dataframe thead th {\n",
       "        text-align: right;\n",
       "    }\n",
       "</style>\n",
       "<table border=\"1\" class=\"dataframe\">\n",
       "  <thead>\n",
       "    <tr style=\"text-align: right;\">\n",
       "      <th></th>\n",
       "      <th>year</th>\n",
       "      <th>rx_dom</th>\n",
       "      <th>otc_dom</th>\n",
       "      <th>self_dom</th>\n",
       "      <th>stock_rx</th>\n",
       "      <th>stock_otc</th>\n",
       "      <th>stock_self</th>\n",
       "    </tr>\n",
       "  </thead>\n",
       "  <tbody>\n",
       "    <tr>\n",
       "      <th>0</th>\n",
       "      <td>2015</td>\n",
       "      <td>305760642</td>\n",
       "      <td>3185119</td>\n",
       "      <td>3133637</td>\n",
       "      <td>23754403</td>\n",
       "      <td>120102</td>\n",
       "      <td>114141</td>\n",
       "    </tr>\n",
       "    <tr>\n",
       "      <th>0</th>\n",
       "      <td>2016</td>\n",
       "      <td>270040334</td>\n",
       "      <td>6477823</td>\n",
       "      <td>6443836</td>\n",
       "      <td>23126418</td>\n",
       "      <td>624056</td>\n",
       "      <td>573573</td>\n",
       "    </tr>\n",
       "    <tr>\n",
       "      <th>0</th>\n",
       "      <td>2017</td>\n",
       "      <td>241872294</td>\n",
       "      <td>4913599</td>\n",
       "      <td>4831649</td>\n",
       "      <td>22635821</td>\n",
       "      <td>661297</td>\n",
       "      <td>654787</td>\n",
       "    </tr>\n",
       "    <tr>\n",
       "      <th>0</th>\n",
       "      <td>2018</td>\n",
       "      <td>205740571</td>\n",
       "      <td>7869200</td>\n",
       "      <td>7752876</td>\n",
       "      <td>23718504</td>\n",
       "      <td>623418</td>\n",
       "      <td>619004</td>\n",
       "    </tr>\n",
       "  </tbody>\n",
       "</table>\n",
       "</div>"
      ],
      "text/plain": [
       "   year     rx_dom  otc_dom self_dom  stock_rx stock_otc stock_self\n",
       "0  2015  305760642  3185119  3133637  23754403    120102     114141\n",
       "0  2016  270040334  6477823  6443836  23126418    624056     573573\n",
       "0  2017  241872294  4913599  4831649  22635821    661297     654787\n",
       "0  2018  205740571  7869200  7752876  23718504    623418     619004"
      ]
     },
     "execution_count": 27,
     "metadata": {},
     "output_type": "execute_result"
    }
   ],
   "source": [
    "final_df"
   ]
  },
  {
   "cell_type": "code",
   "execution_count": 5,
   "metadata": {},
   "outputs": [
    {
     "name": "stdout",
     "output_type": "stream",
     "text": [
      "26\n",
      "True\n",
      "449 336784001 2359049\n",
      "True\n",
      "449 289439116 1854383\n"
     ]
    }
   ],
   "source": [
    "names2=[\n",
    "# \"yakuji-h25tou-04.xls\",\n",
    "\"yakuji-h25tou-05.xls\",\n",
    "# \"yakuji-h26tou-04.xls\",\n",
    "\"yakuji-h26tou-05.xls\"\n",
    "]\n",
    "year=2013\n",
    "index=189\n",
    "header2=[\"id\",\"class\",\"num\",\"agg_agg\",\"agg_dom\",\"agg_ex\",\"rx_agg\",\"rx_dom\",\"rx_ex\",\"etc_agg\",\"etc_dom\",\"etc_ex\",\"na\",\"id2\",\"class2\",\"otc_agg\",\"otc_dom\",\"otc_ex\",\"hou_agg\",\"hou_dom\",\"hou_ex\",\"stock_agg\",\"stock_rx\",\"stock_etc\",\"stock_otc\",\"stock_hou\"]\n",
    "print(len(header2))\n",
    "for it,name in enumerate(names2):\n",
    "    data=pd.read_excel(name,header=None,names=header2)\n",
    "    # print(data.iloc[16])\n",
    "    print(data.loc[index,\"id\"]==449)\n",
    "    print(data.loc[index,\"id\"],data.loc[index,\"rx_dom\"],data.loc[index,\"otc_dom\"])\n",
    "    final_df=pd.concat([final_df,pd.DataFrame([year+it,data.loc[index,\"rx_dom\"],data.loc[index,\"otc_dom\"],0,data.loc[index,\"stock_rx\"],data.loc[index,\"stock_otc\"],0],index=f_columns).T],ignore_index=False)"
   ]
  },
  {
   "cell_type": "code",
   "execution_count": 6,
   "metadata": {},
   "outputs": [
    {
     "data": {
      "text/html": [
       "<div>\n",
       "<style scoped>\n",
       "    .dataframe tbody tr th:only-of-type {\n",
       "        vertical-align: middle;\n",
       "    }\n",
       "\n",
       "    .dataframe tbody tr th {\n",
       "        vertical-align: top;\n",
       "    }\n",
       "\n",
       "    .dataframe thead th {\n",
       "        text-align: right;\n",
       "    }\n",
       "</style>\n",
       "<table border=\"1\" class=\"dataframe\">\n",
       "  <thead>\n",
       "    <tr style=\"text-align: right;\">\n",
       "      <th></th>\n",
       "      <th>year</th>\n",
       "      <th>rx_dom</th>\n",
       "      <th>otc_dom</th>\n",
       "      <th>self_dom</th>\n",
       "      <th>stock_rx</th>\n",
       "      <th>stock_otc</th>\n",
       "      <th>stock_self</th>\n",
       "    </tr>\n",
       "  </thead>\n",
       "  <tbody>\n",
       "    <tr>\n",
       "      <th>0</th>\n",
       "      <td>2015</td>\n",
       "      <td>305760642</td>\n",
       "      <td>3185119</td>\n",
       "      <td>3133637</td>\n",
       "      <td>23754403</td>\n",
       "      <td>120102</td>\n",
       "      <td>114141</td>\n",
       "    </tr>\n",
       "    <tr>\n",
       "      <th>0</th>\n",
       "      <td>2016</td>\n",
       "      <td>270040334</td>\n",
       "      <td>6477823</td>\n",
       "      <td>6443836</td>\n",
       "      <td>23126418</td>\n",
       "      <td>624056</td>\n",
       "      <td>573573</td>\n",
       "    </tr>\n",
       "    <tr>\n",
       "      <th>0</th>\n",
       "      <td>2017</td>\n",
       "      <td>241872294</td>\n",
       "      <td>4913599</td>\n",
       "      <td>4831649</td>\n",
       "      <td>22635821</td>\n",
       "      <td>661297</td>\n",
       "      <td>654787</td>\n",
       "    </tr>\n",
       "    <tr>\n",
       "      <th>0</th>\n",
       "      <td>2018</td>\n",
       "      <td>205740571</td>\n",
       "      <td>7869200</td>\n",
       "      <td>7752876</td>\n",
       "      <td>23718504</td>\n",
       "      <td>623418</td>\n",
       "      <td>619004</td>\n",
       "    </tr>\n",
       "    <tr>\n",
       "      <th>0</th>\n",
       "      <td>2013</td>\n",
       "      <td>336784001</td>\n",
       "      <td>2359049</td>\n",
       "      <td>0</td>\n",
       "      <td>38304642</td>\n",
       "      <td>121849</td>\n",
       "      <td>0</td>\n",
       "    </tr>\n",
       "    <tr>\n",
       "      <th>0</th>\n",
       "      <td>2014</td>\n",
       "      <td>289439116</td>\n",
       "      <td>1854383</td>\n",
       "      <td>0</td>\n",
       "      <td>23755753</td>\n",
       "      <td>79269</td>\n",
       "      <td>0</td>\n",
       "    </tr>\n",
       "  </tbody>\n",
       "</table>\n",
       "</div>"
      ],
      "text/plain": [
       "   year     rx_dom  otc_dom self_dom  stock_rx stock_otc stock_self\n",
       "0  2015  305760642  3185119  3133637  23754403    120102     114141\n",
       "0  2016  270040334  6477823  6443836  23126418    624056     573573\n",
       "0  2017  241872294  4913599  4831649  22635821    661297     654787\n",
       "0  2018  205740571  7869200  7752876  23718504    623418     619004\n",
       "0  2013  336784001  2359049        0  38304642    121849          0\n",
       "0  2014  289439116  1854383        0  23755753     79269          0"
      ]
     },
     "execution_count": 6,
     "metadata": {},
     "output_type": "execute_result"
    }
   ],
   "source": [
    "final_df"
   ]
  },
  {
   "cell_type": "code",
   "execution_count": 7,
   "metadata": {},
   "outputs": [
    {
     "name": "stdout",
     "output_type": "stream",
     "text": [
      "24\n",
      "449 その他のアレルギー用薬\n",
      "237,785,087 11,112,773 11,096,252 2019 2019\n"
     ]
    }
   ],
   "source": [
    "names=[\n",
    "# \"yakuji-2020-03.xlsx\",\n",
    "\"yakuji-2020-04.xlsx\",\n",
    "]\n",
    "header=[\"id\",\"class\",\"num\",\"agg_agg\",\"agg_dom\",\"agg_ex\",\"rx_agg\",\"rx_dom\",\"rx_ex\",\"otc_agg\",\"otc_dom\",\"otc_ex\",\"self_agg\",\"self_dom\",\"self_ex\",\"hou_agg\",\"hou_dom\",\"hou_ex\",\"stock_agg\",\"stock_rx\",\"stock_otc\",\"stock_self\",\"stock_hou\",\"nan\"]\n",
    "print(len(header))\n",
    "index=139\n",
    "year=2019\n",
    "for it,name in enumerate(names):\n",
    "    data=pd.read_excel(name,header=None)\n",
    "    data.dropna(how=\"all\",inplace=True)\n",
    "    data.dropna(how=\"all\",inplace=True,axis=1)\n",
    "    data.columns=header\n",
    "    data.reset_index(inplace=True)\n",
    "    # print(data.iloc[index])\n",
    "    print(data.loc[index,\"id\"],data.loc[index,\"class\"])\n",
    "    print(data.loc[index,\"rx_dom\"],data.loc[index,\"otc_dom\"],data.loc[index,\"self_dom\"],year+it,year)\n",
    "    final_df=pd.concat([final_df,pd.DataFrame([year+it,data.loc[index,\"rx_dom\"],data.loc[index,\"otc_dom\"],data.loc[index,\"self_dom\"],data.loc[index,\"stock_rx\"],data.loc[index,\"stock_otc\"],data.loc[index,\"stock_self\"]],index=f_columns).T],ignore_index=False)"
   ]
  },
  {
   "cell_type": "code",
   "execution_count": 8,
   "metadata": {},
   "outputs": [
    {
     "name": "stdout",
     "output_type": "stream",
     "text": [
      "449 その他のアレルギー用薬\n",
      "225,964,577 8,421,809 8,410,263\n",
      "449 その他のアレルギー用薬\n",
      "226,049,764 7,060,159 6,962,008\n"
     ]
    }
   ],
   "source": [
    "names=[\n",
    "# \"yakuji-2021-03.xlsx\",\n",
    "\"yakuji-2021-04.xlsx\",\n",
    "# \"yakuji-2022-03.xlsx\",\n",
    "\"yakuji-2022-04.xlsx\",\n",
    "]\n",
    "index=140\n",
    "year=2020\n",
    "header=[\"id\",\"class\",\"num\",\"agg_agg\",\"agg_dom\",\"agg_ex\",\"rx_agg\",\"rx_dom\",\"rx_ex\",\"otc_agg\",\"otc_dom\",\"otc_ex\",\"self_agg\",\"self_dom\",\"self_ex\",\"hou_agg\",\"hou_dom\",\"hou_ex\",\"stock_agg\",\"stock_rx\",\"stock_otc\",\"stock_self\",\"stock_hou\",\"nan\"]\n",
    "for it,name in enumerate(names):\n",
    "    data=pd.read_excel(name,header=None)\n",
    "    data.dropna(how=\"all\",inplace=True)\n",
    "    data.dropna(how=\"all\",inplace=True,axis=1)\n",
    "    data.columns=header\n",
    "    data.reset_index(inplace=True)\n",
    "    print(data.loc[index,\"id\"],data.loc[index,\"class\"])\n",
    "    print(data.loc[index,\"rx_dom\"],data.loc[index,\"otc_dom\"],data.loc[index,\"self_dom\"])\n",
    "    final_df=pd.concat([final_df,pd.DataFrame([year+it,data.loc[index,\"rx_dom\"],data.loc[index,\"otc_dom\"],data.loc[index,\"self_dom\"],data.loc[index,\"stock_rx\"],data.loc[index,\"stock_otc\"],data.loc[index,\"stock_self\"]],index=f_columns).T],ignore_index=False)"
   ]
  },
  {
   "cell_type": "code",
   "execution_count": 9,
   "metadata": {},
   "outputs": [
    {
     "data": {
      "text/html": [
       "<div>\n",
       "<style scoped>\n",
       "    .dataframe tbody tr th:only-of-type {\n",
       "        vertical-align: middle;\n",
       "    }\n",
       "\n",
       "    .dataframe tbody tr th {\n",
       "        vertical-align: top;\n",
       "    }\n",
       "\n",
       "    .dataframe thead th {\n",
       "        text-align: right;\n",
       "    }\n",
       "</style>\n",
       "<table border=\"1\" class=\"dataframe\">\n",
       "  <thead>\n",
       "    <tr style=\"text-align: right;\">\n",
       "      <th></th>\n",
       "      <th>rx_dom</th>\n",
       "      <th>otc_dom</th>\n",
       "      <th>self_dom</th>\n",
       "      <th>stock_rx</th>\n",
       "      <th>stock_otc</th>\n",
       "      <th>stock_self</th>\n",
       "    </tr>\n",
       "    <tr>\n",
       "      <th>year</th>\n",
       "      <th></th>\n",
       "      <th></th>\n",
       "      <th></th>\n",
       "      <th></th>\n",
       "      <th></th>\n",
       "      <th></th>\n",
       "    </tr>\n",
       "  </thead>\n",
       "  <tbody>\n",
       "    <tr>\n",
       "      <th>2013</th>\n",
       "      <td>336784001</td>\n",
       "      <td>2359049</td>\n",
       "      <td>0</td>\n",
       "      <td>38304642</td>\n",
       "      <td>121849</td>\n",
       "      <td>0</td>\n",
       "    </tr>\n",
       "    <tr>\n",
       "      <th>2014</th>\n",
       "      <td>289439116</td>\n",
       "      <td>1854383</td>\n",
       "      <td>0</td>\n",
       "      <td>23755753</td>\n",
       "      <td>79269</td>\n",
       "      <td>0</td>\n",
       "    </tr>\n",
       "    <tr>\n",
       "      <th>2015</th>\n",
       "      <td>305760642</td>\n",
       "      <td>3185119</td>\n",
       "      <td>3133637</td>\n",
       "      <td>23754403</td>\n",
       "      <td>120102</td>\n",
       "      <td>114141</td>\n",
       "    </tr>\n",
       "    <tr>\n",
       "      <th>2016</th>\n",
       "      <td>270040334</td>\n",
       "      <td>6477823</td>\n",
       "      <td>6443836</td>\n",
       "      <td>23126418</td>\n",
       "      <td>624056</td>\n",
       "      <td>573573</td>\n",
       "    </tr>\n",
       "    <tr>\n",
       "      <th>2017</th>\n",
       "      <td>241872294</td>\n",
       "      <td>4913599</td>\n",
       "      <td>4831649</td>\n",
       "      <td>22635821</td>\n",
       "      <td>661297</td>\n",
       "      <td>654787</td>\n",
       "    </tr>\n",
       "    <tr>\n",
       "      <th>2018</th>\n",
       "      <td>205740571</td>\n",
       "      <td>7869200</td>\n",
       "      <td>7752876</td>\n",
       "      <td>23718504</td>\n",
       "      <td>623418</td>\n",
       "      <td>619004</td>\n",
       "    </tr>\n",
       "    <tr>\n",
       "      <th>2019</th>\n",
       "      <td>237785087</td>\n",
       "      <td>11112773</td>\n",
       "      <td>11096252</td>\n",
       "      <td>57564582</td>\n",
       "      <td>6155749</td>\n",
       "      <td>6155508</td>\n",
       "    </tr>\n",
       "    <tr>\n",
       "      <th>2020</th>\n",
       "      <td>225964577</td>\n",
       "      <td>8421809</td>\n",
       "      <td>8410263</td>\n",
       "      <td>60509613</td>\n",
       "      <td>5196126</td>\n",
       "      <td>5153274</td>\n",
       "    </tr>\n",
       "    <tr>\n",
       "      <th>2021</th>\n",
       "      <td>226049764</td>\n",
       "      <td>7060159</td>\n",
       "      <td>6962008</td>\n",
       "      <td>51409796</td>\n",
       "      <td>4606525</td>\n",
       "      <td>4528553</td>\n",
       "    </tr>\n",
       "  </tbody>\n",
       "</table>\n",
       "</div>"
      ],
      "text/plain": [
       "         rx_dom   otc_dom  self_dom  stock_rx  stock_otc  stock_self\n",
       "year                                                                \n",
       "2013  336784001   2359049         0  38304642     121849           0\n",
       "2014  289439116   1854383         0  23755753      79269           0\n",
       "2015  305760642   3185119   3133637  23754403     120102      114141\n",
       "2016  270040334   6477823   6443836  23126418     624056      573573\n",
       "2017  241872294   4913599   4831649  22635821     661297      654787\n",
       "2018  205740571   7869200   7752876  23718504     623418      619004\n",
       "2019  237785087  11112773  11096252  57564582    6155749     6155508\n",
       "2020  225964577   8421809   8410263  60509613    5196126     5153274\n",
       "2021  226049764   7060159   6962008  51409796    4606525     4528553"
      ]
     },
     "execution_count": 9,
     "metadata": {},
     "output_type": "execute_result"
    }
   ],
   "source": [
    "# for column in final_df.columns:\n",
    "final_df=final_df.replace(',','',regex=True)\n",
    "final_df=final_df.sort_values(\"year\")\n",
    "# final_df=final_df.set_index(\"year\")\n",
    "for col in final_df.columns:\n",
    "    final_df[col]=final_df[col].astype(int)\n",
    "final_df=final_df.set_index(\"year\")\n",
    "final_df"
   ]
  },
  {
   "cell_type": "code",
   "execution_count": 10,
   "metadata": {},
   "outputs": [],
   "source": [
    "final_df.to_csv(\"data_ship_processed.csv\")"
   ]
  },
  {
   "cell_type": "code",
   "execution_count": 11,
   "metadata": {},
   "outputs": [
    {
     "data": {
      "text/plain": [
       "<AxesSubplot:xlabel='year'>"
      ]
     },
     "execution_count": 11,
     "metadata": {},
     "output_type": "execute_result"
    },
    {
     "data": {
      "image/png": "[encoded data removed]",
      "text/plain": [
       "<Figure size 432x288 with 1 Axes>"
      ]
     },
     "metadata": {
      "needs_background": "light"
     },
     "output_type": "display_data"
    }
   ],
   "source": [
    "final_df.plot()"
   ]
  },
  {
   "cell_type": "code",
   "execution_count": 12,
   "metadata": {},
   "outputs": [
    {
     "data": {
      "text/plain": [
       "<AxesSubplot:xlabel='year'>"
      ]
     },
     "execution_count": 12,
     "metadata": {},
     "output_type": "execute_result"
    },
    {
     "data": {
      "image/png": "[encoded data removed]",
      "text/plain": [
       "<Figure size 432x288 with 1 Axes>"
      ]
     },
     "metadata": {
      "needs_background": "light"
     },
     "output_type": "display_data"
    },
    {
     "data": {
      "image/png": "[encoded data removed]",
      "text/plain": [
       "<Figure size 432x288 with 1 Axes>"
      ]
     },
     "metadata": {
      "needs_background": "light"
     },
     "output_type": "display_data"
    }
   ],
   "source": [
    "final_df.plot(y=[\"stock_otc\",\"otc_dom\"])\n",
    "final_df.plot(y=[\"stock_self\",\"self_dom\"])"
   ]
  },
  {
   "attachments": {},
   "cell_type": "markdown",
   "metadata": {},
   "source": []
  }
 ],
 "metadata": {
  "kernelspec": {
   "display_name": "Python 3",
   "language": "python",
   "name": "python3"
  },
  "language_info": {
   "codemirror_mode": {
    "name": "ipython",
    "version": 3
   },
   "file_extension": ".py",
   "mimetype": "text/x-python",
   "name": "python",
   "nbconvert_exporter": "python",
   "pygments_lexer": "ipython3",
   "version": "3.10.4"
  },
  "orig_nbformat": 4
 },
 "nbformat": 4,
 "nbformat_minor": 2
}
