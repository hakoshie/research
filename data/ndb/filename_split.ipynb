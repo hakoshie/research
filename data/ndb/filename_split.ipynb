{
 "cells": [
  {
   "cell_type": "code",
   "execution_count": 4,
   "metadata": {},
   "outputs": [],
   "source": [
    "import os\n",
    "def split_file_names(input_file, output_folder, n):\n",
    "    with open(input_file, 'r') as f:\n",
    "        file_names = f.read().splitlines()\n",
    "\n",
    "    output_files = {}\n",
    "\n",
    "    for i, file_name in enumerate(file_names, start=1):\n",
    "        remainder = i % n\n",
    "        if remainder not in output_files:\n",
    "            output_files[remainder] = []\n",
    "        output_files[remainder].append(file_name)\n",
    "\n",
    "    for remainder, file_list in output_files.items():\n",
    "        output_file_name = f'filename_{remainder}.txt'\n",
    "        with open(os.path.join(output_folder, output_file_name), 'w') as output_file:\n",
    "            output_file.write('\\n'.join(file_list))\n",
    "\n",
    "# パラメータを設定\n",
    "input_file_name = 'filenames.txt'  # 入力ファイル名\n",
    "output_folder_name = 'namefiles'  # 出力フォルダ名\n",
    "n = 6  # nの値\n",
    "os.makedirs(output_folder_name, exist_ok=True)\n",
    "\n",
    "# ファイル名を分類して出力ファイルに保存\n",
    "split_file_names(input_file_name, output_folder_name, n)"
   ]
  }
 ],
 "metadata": {
  "kernelspec": {
   "display_name": "Python 3",
   "language": "python",
   "name": "python3"
  },
  "language_info": {
   "codemirror_mode": {
    "name": "ipython",
    "version": 3
   },
   "file_extension": ".py",
   "mimetype": "text/x-python",
   "name": "python",
   "nbconvert_exporter": "python",
   "pygments_lexer": "ipython3",
   "version": "3.10.4"
  },
  "orig_nbformat": 4
 },
 "nbformat": 4,
 "nbformat_minor": 2
}
