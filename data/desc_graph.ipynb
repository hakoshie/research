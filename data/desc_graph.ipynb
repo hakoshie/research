{
 "cells": [
  {
   "cell_type": "code",
   "execution_count": 1,
   "metadata": {},
   "outputs": [],
   "source": [
    "import pandas as pd\n",
    "import numpy as np"
   ]
  },
  {
   "cell_type": "code",
   "execution_count": 2,
   "metadata": {},
   "outputs": [
    {
     "data": {
      "text/plain": [
       "<AxesSubplot:xlabel='year'>"
      ]
     },
     "execution_count": 2,
     "metadata": {},
     "output_type": "execute_result"
    },
    {
     "data": {
      "image/png": "[encoded data removed]",
      "text/plain": [
       "<Figure size 432x288 with 1 Axes>"
      ]
     },
     "metadata": {
      "needs_background": "light"
     },
     "output_type": "display_data"
    }
   ],
   "source": [
    "df=pd.read_csv(\"./merged/len3_ship_mon_Y_DN.csv\",encoding=\"shift-jis\",index_col=0)\n",
    "\n",
    "#前処理\n",
    "df.replace('-',\"0\",inplace=True)\n",
    "df[\"otc_dom\"].replace(\",\",\"\",regex=True,inplace=True)\n",
    "df[\"rx_dom\"].replace(\",\",\"\",regex=True,inplace=True)\n",
    "df[\"stock_otc_lag\"].replace(\",\",\"\",regex=True,inplace=True)\n",
    "df[\"stock_rx_lag\"].replace(\",\",\"\",regex=True,inplace=True)\n",
    "# fillna\n",
    "df[\"otc_dom\"].fillna(0,inplace=True)\n",
    "df[\"rx_dom\"].fillna(0,inplace=True)\n",
    "df[\"stock_otc_lag\"].fillna(0,inplace=True)\n",
    "df[\"stock_rx_lag\"].fillna(0,inplace=True)\n",
    "df[\"otc_dom\"]=df[\"otc_dom\"].astype(int)\n",
    "df[\"rx_dom\"]=df[\"rx_dom\"].astype(int)\n",
    "df[\"stock_otc_lag\"]=df[\"stock_otc_lag\"].astype(int)\n",
    "df[\"stock_rx_lag\"]=df[\"stock_rx_lag\"].astype(float)\n",
    "df=df.loc[df[\"otc_dom\"]>0]\n",
    "df=df.loc[df[\"rx_dom\"]>0]\n",
    "# df=df.loc[df[\"stock_otc_lag\"]>0]\n",
    "# df=df.loc[df[\"stock_rx_lag\"]>0]\n",
    "df=df.loc[df[\"generic_share_q\"]>0]\n",
    "# df[[\"rx_dom\",\"otc_dom\",\"self_dom\"]].describe()\n",
    "df[[\"rx_dom\",\"otc_dom\"]]=df[[\"rx_dom\",\"otc_dom\"]]/1e6\n",
    "df.groupby(\"year\").sum()[[\"rx_dom\",\"otc_dom\"]].plot()\n",
    "# df.groupby(\"year\").sum()[[\"otc_dom\",\"self_dom\"]].plot()\n",
    "# df[[\"rx_dom\",\"otc_dom\"]].plot()"
   ]
  },
  {
   "cell_type": "code",
   "execution_count": 3,
   "metadata": {},
   "outputs": [
    {
     "data": {
      "text/plain": [
       "nan"
      ]
     },
     "execution_count": 3,
     "metadata": {},
     "output_type": "execute_result"
    }
   ],
   "source": [
    "np.sum([0,np.nan])"
   ]
  },
  {
   "cell_type": "code",
   "execution_count": 4,
   "metadata": {},
   "outputs": [
    {
     "data": {
      "text/plain": [
       "count    0.0\n",
       "mean     NaN\n",
       "std      NaN\n",
       "min      NaN\n",
       "25%      NaN\n",
       "50%      NaN\n",
       "75%      NaN\n",
       "max      NaN\n",
       "Name: self_dom, dtype: float64"
      ]
     },
     "execution_count": 4,
     "metadata": {},
     "output_type": "execute_result"
    }
   ],
   "source": [
    "\n",
    "df.loc[df[\"self_dom\"]>0][\"self_dom\"].describe()"
   ]
  },
  {
   "cell_type": "code",
   "execution_count": 5,
   "metadata": {},
   "outputs": [],
   "source": [
    "df=pd.read_csv(\"./merged/len3_ship_DN.csv\",encoding=\"shift-jis\",index_col=0)\n",
    "#前処理\n",
    "df.replace('-',\"0\",inplace=True)\n",
    "df[\"otc_dom\"].replace(\",\",\"\",regex=True,inplace=True)\n",
    "df[\"rx_dom\"].replace(\",\",\"\",regex=True,inplace=True)\n",
    "df[\"stock_otc_lag\"].replace(\",\",\"\",regex=True,inplace=True)\n",
    "df[\"stock_rx_lag\"].replace(\",\",\"\",regex=True,inplace=True)\n",
    "# fillna\n",
    "df[\"otc_dom\"].fillna(0,inplace=True)\n",
    "df[\"rx_dom\"].fillna(0,inplace=True)\n",
    "df[\"stock_otc_lag\"].fillna(0,inplace=True)\n",
    "df[\"stock_rx_lag\"].fillna(0,inplace=True)\n",
    "df[\"otc_dom\"]=df[\"otc_dom\"].astype(int)\n",
    "df[\"rx_dom\"]=df[\"rx_dom\"].astype(int)\n",
    "df[\"stock_otc_lag\"]=df[\"stock_otc_lag\"].astype(int)\n",
    "df[\"stock_rx_lag\"]=df[\"stock_rx_lag\"].astype(float)\n",
    "df=df.loc[df[\"otc_dom\"]>0]\n",
    "df=df.loc[df[\"rx_dom\"]>0]\n",
    "# df=df.loc[df[\"stock_otc_lag\"]>0]\n",
    "# df=df.loc[df[\"stock_rx_lag\"]>0]\n",
    "df=df.loc[df[\"generic_share_q\"]>0]\n",
    "df[[\"rx_dom\",\"otc_dom\",\"self_dom\"]]=df[[\"rx_dom\",\"otc_dom\",\"self_dom\"]]/1e6\n",
    "df[\"self_dom\"]=df[\"self_dom\"].replace(0,np.nan)\n",
    "# df[[\"rx_dom\",\"otc_dom\"]].describe()"
   ]
  },
  {
   "cell_type": "code",
   "execution_count": 6,
   "metadata": {},
   "outputs": [
    {
     "data": {
      "text/html": [
       "<div>\n",
       "<style scoped>\n",
       "    .dataframe tbody tr th:only-of-type {\n",
       "        vertical-align: middle;\n",
       "    }\n",
       "\n",
       "    .dataframe tbody tr th {\n",
       "        vertical-align: top;\n",
       "    }\n",
       "\n",
       "    .dataframe thead th {\n",
       "        text-align: right;\n",
       "    }\n",
       "</style>\n",
       "<table border=\"1\" class=\"dataframe\">\n",
       "  <thead>\n",
       "    <tr style=\"text-align: right;\">\n",
       "      <th></th>\n",
       "      <th>otc_dom</th>\n",
       "      <th>self_dom</th>\n",
       "    </tr>\n",
       "    <tr>\n",
       "      <th>year</th>\n",
       "      <th></th>\n",
       "      <th></th>\n",
       "    </tr>\n",
       "  </thead>\n",
       "  <tbody>\n",
       "    <tr>\n",
       "      <th>2008</th>\n",
       "      <td>201.657413</td>\n",
       "      <td>NaN</td>\n",
       "    </tr>\n",
       "    <tr>\n",
       "      <th>2009</th>\n",
       "      <td>210.639165</td>\n",
       "      <td>NaN</td>\n",
       "    </tr>\n",
       "    <tr>\n",
       "      <th>2010</th>\n",
       "      <td>205.681515</td>\n",
       "      <td>NaN</td>\n",
       "    </tr>\n",
       "    <tr>\n",
       "      <th>2011</th>\n",
       "      <td>230.315869</td>\n",
       "      <td>NaN</td>\n",
       "    </tr>\n",
       "    <tr>\n",
       "      <th>2012</th>\n",
       "      <td>240.901242</td>\n",
       "      <td>NaN</td>\n",
       "    </tr>\n",
       "    <tr>\n",
       "      <th>2013</th>\n",
       "      <td>245.444698</td>\n",
       "      <td>NaN</td>\n",
       "    </tr>\n",
       "    <tr>\n",
       "      <th>2014</th>\n",
       "      <td>253.254777</td>\n",
       "      <td>NaN</td>\n",
       "    </tr>\n",
       "    <tr>\n",
       "      <th>2015</th>\n",
       "      <td>353.030724</td>\n",
       "      <td>163.562212</td>\n",
       "    </tr>\n",
       "    <tr>\n",
       "      <th>2016</th>\n",
       "      <td>280.730466</td>\n",
       "      <td>93.580036</td>\n",
       "    </tr>\n",
       "    <tr>\n",
       "      <th>2017</th>\n",
       "      <td>256.774492</td>\n",
       "      <td>92.057241</td>\n",
       "    </tr>\n",
       "    <tr>\n",
       "      <th>2018</th>\n",
       "      <td>288.549256</td>\n",
       "      <td>125.022337</td>\n",
       "    </tr>\n",
       "    <tr>\n",
       "      <th>2019</th>\n",
       "      <td>287.072613</td>\n",
       "      <td>106.896963</td>\n",
       "    </tr>\n",
       "    <tr>\n",
       "      <th>2020</th>\n",
       "      <td>261.503817</td>\n",
       "      <td>100.390122</td>\n",
       "    </tr>\n",
       "    <tr>\n",
       "      <th>2021</th>\n",
       "      <td>275.206217</td>\n",
       "      <td>104.694392</td>\n",
       "    </tr>\n",
       "  </tbody>\n",
       "</table>\n",
       "</div>"
      ],
      "text/plain": [
       "         otc_dom    self_dom\n",
       "year                        \n",
       "2008  201.657413         NaN\n",
       "2009  210.639165         NaN\n",
       "2010  205.681515         NaN\n",
       "2011  230.315869         NaN\n",
       "2012  240.901242         NaN\n",
       "2013  245.444698         NaN\n",
       "2014  253.254777         NaN\n",
       "2015  353.030724  163.562212\n",
       "2016  280.730466   93.580036\n",
       "2017  256.774492   92.057241\n",
       "2018  288.549256  125.022337\n",
       "2019  287.072613  106.896963\n",
       "2020  261.503817  100.390122\n",
       "2021  275.206217  104.694392"
      ]
     },
     "execution_count": 6,
     "metadata": {},
     "output_type": "execute_result"
    }
   ],
   "source": [
    "df.groupby(\"year\").sum()[[\"otc_dom\",\"self_dom\"]].replace(0,np.nan)"
   ]
  },
  {
   "cell_type": "code",
   "execution_count": 7,
   "metadata": {},
   "outputs": [
    {
     "data": {
      "image/png": "[encoded data removed]",
      "text/plain": [
       "<Figure size 432x288 with 1 Axes>"
      ]
     },
     "metadata": {
      "needs_background": "light"
     },
     "output_type": "display_data"
    },
    {
     "data": {
      "image/png": "[encoded data removed]",
      "text/plain": [
       "<Figure size 432x288 with 1 Axes>"
      ]
     },
     "metadata": {
      "needs_background": "light"
     },
     "output_type": "display_data"
    }
   ],
   "source": [
    "import matplotlib\n",
    "import matplotlib.pyplot as plt\n",
    "font = {'family' : 'yu mincho'}\n",
    "matplotlib.rc('font', **font)\n",
    "ax=df.groupby(\"year\").sum()[[\"rx_dom\",\"otc_dom\"]].plot(color=[\"C0\",\"orange\"],ylabel=\"単位：10億円\",title=\"国内出荷額\")\n",
    "ax.legend([\"医療用医薬品\",\"OTC\"],loc=\"upper left\")\n",
    "plt.savefig(\"../estimate/event/plots/desc_rx_otc.png\",dpi=300, transparent=False, facecolor=\"white\")\n",
    "ax2=df.groupby(\"year\").sum()[[\"otc_dom\",\"self_dom\"]].replace(0,np.nan).plot(color=[\"orange\",\"green\"],ylabel=\"単位：10億円\",title=\"国内出荷額\")\n",
    "ax2.legend([\"OTC\",\"スイッチOTC\"],loc=\"upper left\")\n",
    "ax2.set_ylim(0,400)\n",
    "plt.savefig(\"../estimate/event/plots/desc_otc.png\",dpi=300, transparent=False, facecolor=\"white\")"
   ]
  },
  {
   "cell_type": "code",
   "execution_count": 8,
   "metadata": {},
   "outputs": [
    {
     "data": {
      "text/plain": [
       "21"
      ]
     },
     "execution_count": 8,
     "metadata": {},
     "output_type": "execute_result"
    }
   ],
   "source": [
    "# import sys\n",
    "# sys.exit()\n",
    "len(set(df[\"id\"]))"
   ]
  },
  {
   "cell_type": "code",
   "execution_count": 9,
   "metadata": {},
   "outputs": [
    {
     "data": {
      "text/plain": [
       "count    113.000000\n",
       "mean       6.957551\n",
       "std       14.906737\n",
       "min        0.000469\n",
       "25%        0.141605\n",
       "50%        0.495190\n",
       "75%        4.429304\n",
       "max      103.468737\n",
       "Name: self_dom, dtype: float64"
      ]
     },
     "execution_count": 9,
     "metadata": {},
     "output_type": "execute_result"
    }
   ],
   "source": [
    "df.loc[df[\"self_dom\"]>0][\"self_dom\"].describe()"
   ]
  },
  {
   "cell_type": "code",
   "execution_count": 10,
   "metadata": {},
   "outputs": [],
   "source": [
    "df=pd.read_csv(\"./merged/len4_ndb_DN.csv\",encoding=\"shift-jis\",index_col=0)"
   ]
  },
  {
   "cell_type": "code",
   "execution_count": 11,
   "metadata": {},
   "outputs": [
    {
     "data": {
      "text/plain": [
       "32"
      ]
     },
     "execution_count": 11,
     "metadata": {},
     "output_type": "execute_result"
    }
   ],
   "source": [
    "df.columns\n",
    "len(set(df[\"id\"]))"
   ]
  },
  {
   "cell_type": "code",
   "execution_count": 12,
   "metadata": {},
   "outputs": [
    {
     "data": {
      "text/html": [
       "<div>\n",
       "<style scoped>\n",
       "    .dataframe tbody tr th:only-of-type {\n",
       "        vertical-align: middle;\n",
       "    }\n",
       "\n",
       "    .dataframe tbody tr th {\n",
       "        vertical-align: top;\n",
       "    }\n",
       "\n",
       "    .dataframe thead th {\n",
       "        text-align: right;\n",
       "    }\n",
       "</style>\n",
       "<table border=\"1\" class=\"dataframe\">\n",
       "  <thead>\n",
       "    <tr style=\"text-align: right;\">\n",
       "      <th></th>\n",
       "      <th>総計</th>\n",
       "      <th>mean_price</th>\n",
       "    </tr>\n",
       "  </thead>\n",
       "  <tbody>\n",
       "    <tr>\n",
       "      <th>count</th>\n",
       "      <td>4.360000e+02</td>\n",
       "      <td>436.000000</td>\n",
       "    </tr>\n",
       "    <tr>\n",
       "      <th>mean</th>\n",
       "      <td>3.174177e+09</td>\n",
       "      <td>143.317480</td>\n",
       "    </tr>\n",
       "    <tr>\n",
       "      <th>std</th>\n",
       "      <td>6.870684e+09</td>\n",
       "      <td>392.741619</td>\n",
       "    </tr>\n",
       "    <tr>\n",
       "      <th>min</th>\n",
       "      <td>3.605813e+05</td>\n",
       "      <td>5.400000</td>\n",
       "    </tr>\n",
       "    <tr>\n",
       "      <th>25%</th>\n",
       "      <td>6.806452e+07</td>\n",
       "      <td>10.835614</td>\n",
       "    </tr>\n",
       "    <tr>\n",
       "      <th>50%</th>\n",
       "      <td>2.786511e+08</td>\n",
       "      <td>25.557643</td>\n",
       "    </tr>\n",
       "    <tr>\n",
       "      <th>75%</th>\n",
       "      <td>2.421159e+09</td>\n",
       "      <td>97.697571</td>\n",
       "    </tr>\n",
       "    <tr>\n",
       "      <th>max</th>\n",
       "      <td>3.766192e+10</td>\n",
       "      <td>2899.505261</td>\n",
       "    </tr>\n",
       "  </tbody>\n",
       "</table>\n",
       "</div>"
      ],
      "text/plain": [
       "                 総計   mean_price\n",
       "count  4.360000e+02   436.000000\n",
       "mean   3.174177e+09   143.317480\n",
       "std    6.870684e+09   392.741619\n",
       "min    3.605813e+05     5.400000\n",
       "25%    6.806452e+07    10.835614\n",
       "50%    2.786511e+08    25.557643\n",
       "75%    2.421159e+09    97.697571\n",
       "max    3.766192e+10  2899.505261"
      ]
     },
     "execution_count": 12,
     "metadata": {},
     "output_type": "execute_result"
    }
   ],
   "source": [
    "df=df.loc[df[\"year\"]>2014]\n",
    "df[\"mean_price\"]=df[\"revenue\"]/df[\"総計\"]\n",
    "df[[\"総計\",\"mean_price\"]].describe()"
   ]
  },
  {
   "cell_type": "code",
   "execution_count": 13,
   "metadata": {},
   "outputs": [
    {
     "name": "stderr",
     "output_type": "stream",
     "text": [
      "C:\\Users\\hakos\\AppData\\Local\\Temp\\ipykernel_22704\\2847407326.py:1: DtypeWarning: Columns (118) have mixed types. Specify dtype option on import or set low_memory=False.\n",
      "  df=pd.read_csv(\"./merged/len3_ndb_blp_DN_firm_FC.csv\",encoding=\"utf-8-sig\",index_col=0)\n"
     ]
    },
    {
     "data": {
      "text/plain": [
       "Index(['薬効分類', '薬効分類名称', '医薬品コード', '医薬品名', '薬価基準収載医薬品コード', '薬価', 'generic',\n",
       "       '総計', 'year', 'in_hospital',\n",
       "       ...\n",
       "       'b', 'c', 'd', '_merge', 'wholesale_price', 'markup', 'oral_per',\n",
       "       'brand', 'Pharmacopoeia', 'otc'],\n",
       "      dtype='object', length=136)"
      ]
     },
     "execution_count": 13,
     "metadata": {},
     "output_type": "execute_result"
    }
   ],
   "source": [
    "df=pd.read_csv(\"./merged/len3_ndb_blp_DN_firm_FC.csv\",encoding=\"utf-8-sig\",index_col=0)\n",
    "df=df.loc[df[\"総計\"]>0]\n",
    "df.columns"
   ]
  },
  {
   "cell_type": "code",
   "execution_count": 14,
   "metadata": {},
   "outputs": [
    {
     "data": {
      "text/html": [
       "<div>\n",
       "<style scoped>\n",
       "    .dataframe tbody tr th:only-of-type {\n",
       "        vertical-align: middle;\n",
       "    }\n",
       "\n",
       "    .dataframe tbody tr th {\n",
       "        vertical-align: top;\n",
       "    }\n",
       "\n",
       "    .dataframe thead th {\n",
       "        text-align: right;\n",
       "    }\n",
       "</style>\n",
       "<table border=\"1\" class=\"dataframe\">\n",
       "  <thead>\n",
       "    <tr style=\"text-align: right;\">\n",
       "      <th></th>\n",
       "      <th>総計</th>\n",
       "      <th>薬価</th>\n",
       "    </tr>\n",
       "  </thead>\n",
       "  <tbody>\n",
       "    <tr>\n",
       "      <th>count</th>\n",
       "      <td>2.467300e+04</td>\n",
       "      <td>24673.000000</td>\n",
       "    </tr>\n",
       "    <tr>\n",
       "      <th>mean</th>\n",
       "      <td>1.333124e-02</td>\n",
       "      <td>357.346671</td>\n",
       "    </tr>\n",
       "    <tr>\n",
       "      <th>std</th>\n",
       "      <td>4.526902e-02</td>\n",
       "      <td>2079.828181</td>\n",
       "    </tr>\n",
       "    <tr>\n",
       "      <th>min</th>\n",
       "      <td>7.012987e-07</td>\n",
       "      <td>0.660000</td>\n",
       "    </tr>\n",
       "    <tr>\n",
       "      <th>25%</th>\n",
       "      <td>3.518760e-04</td>\n",
       "      <td>12.200000</td>\n",
       "    </tr>\n",
       "    <tr>\n",
       "      <th>50%</th>\n",
       "      <td>2.266922e-03</td>\n",
       "      <td>31.400000</td>\n",
       "    </tr>\n",
       "    <tr>\n",
       "      <th>75%</th>\n",
       "      <td>9.503580e-03</td>\n",
       "      <td>110.400000</td>\n",
       "    </tr>\n",
       "    <tr>\n",
       "      <th>max</th>\n",
       "      <td>9.541906e-01</td>\n",
       "      <td>80171.300000</td>\n",
       "    </tr>\n",
       "  </tbody>\n",
       "</table>\n",
       "</div>"
      ],
      "text/plain": [
       "                 総計            薬価\n",
       "count  2.467300e+04  24673.000000\n",
       "mean   1.333124e-02    357.346671\n",
       "std    4.526902e-02   2079.828181\n",
       "min    7.012987e-07      0.660000\n",
       "25%    3.518760e-04     12.200000\n",
       "50%    2.266922e-03     31.400000\n",
       "75%    9.503580e-03    110.400000\n",
       "max    9.541906e-01  80171.300000"
      ]
     },
     "execution_count": 14,
     "metadata": {},
     "output_type": "execute_result"
    }
   ],
   "source": [
    "df=df.loc[df[\"year\"]>2014]\n",
    "df[\"薬価\"]=df[\"薬価\"].astype(float)\n",
    "df[\"総計\"]=df[\"総計\"].astype(float)/1e6/1e3\n",
    "df[[\"総計\",\"薬価\"]].describe()"
   ]
  },
  {
   "cell_type": "code",
   "execution_count": 15,
   "metadata": {},
   "outputs": [
    {
     "data": {
      "text/plain": [
       "Index(['薬効分類', '薬効分類名称', '医薬品コード', '医薬品名', '薬価基準収載医薬品コード', '薬価', 'generic',\n",
       "       '総計', 'year', 'in_hospital',\n",
       "       ...\n",
       "       'b', 'c', 'd', '_merge', 'wholesale_price', 'markup', 'oral_per',\n",
       "       'brand', 'Pharmacopoeia', 'otc'],\n",
       "      dtype='object', length=136)"
      ]
     },
     "execution_count": 15,
     "metadata": {},
     "output_type": "execute_result"
    }
   ],
   "source": [
    "df.columns"
   ]
  },
  {
   "cell_type": "code",
   "execution_count": 16,
   "metadata": {},
   "outputs": [
    {
     "data": {
      "text/plain": [
       "year  generic\n",
       "2015  0.0        30.852636\n",
       "      1.0        18.233005\n",
       "2016  0.0        27.833543\n",
       "      1.0        19.200605\n",
       "2017  0.0        23.741180\n",
       "      1.0        22.588640\n",
       "2018  0.0        26.146664\n",
       "      1.0        20.783022\n",
       "2019  0.0        22.857372\n",
       "      1.0        24.142900\n",
       "2020  0.0        20.444493\n",
       "      1.0        24.942634\n",
       "2021  0.0        20.399243\n",
       "      1.0        26.755715\n",
       "Name: 総計, dtype: float64"
      ]
     },
     "execution_count": 16,
     "metadata": {},
     "output_type": "execute_result"
    }
   ],
   "source": [
    "# 1e9\n",
    "df.groupby([\"year\",\"generic\"]).sum()[\"総計\"]"
   ]
  },
  {
   "cell_type": "code",
   "execution_count": 17,
   "metadata": {},
   "outputs": [
    {
     "data": {
      "image/png": "[encoded data removed]",
      "text/plain": [
       "<Figure size 432x288 with 1 Axes>"
      ]
     },
     "metadata": {
      "needs_background": "light"
     },
     "output_type": "display_data"
    }
   ],
   "source": [
    "df[\"generic\"]=df[\"generic\"].astype(int)\n",
    "ax=df.groupby([\"year\"]).sum()[\"総計\"].plot(ylim=(0,5.5e1),color=\"green\")\n",
    "df.groupby([\"year\",\"generic\"]).sum()[\"総計\"].unstack().plot(ax=ax,ylim=(0,5.5e1),color=[\"C0\",\"orange\"])\n",
    "ax.set_ylabel(\"単位：10億日分\")\n",
    "ax.set_title(\"処方量\")\n",
    "ax.legend([\"全体\",\"先発品\",\"後発品\"],loc=\"lower left\")\n",
    "plt.savefig(\"../estimate/event/plots/desc_ndb.png\",dpi=300, transparent=False, facecolor=\"white\")\n"
   ]
  }
 ],
 "metadata": {
  "kernelspec": {
   "display_name": "Python 3",
   "language": "python",
   "name": "python3"
  },
  "language_info": {
   "codemirror_mode": {
    "name": "ipython",
    "version": 3
   },
   "file_extension": ".py",
   "mimetype": "text/x-python",
   "name": "python",
   "nbconvert_exporter": "python",
   "pygments_lexer": "ipython3",
   "version": "3.10.4"
  }
 },
 "nbformat": 4,
 "nbformat_minor": 2
}
