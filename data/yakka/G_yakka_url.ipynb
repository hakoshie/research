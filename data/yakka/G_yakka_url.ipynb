{
 "cells": [
  {
   "cell_type": "code",
   "execution_count": 28,
   "metadata": {},
   "outputs": [],
   "source": [
    "import pandas as pd\n",
    "import requests\n",
    "import time\n"
   ]
  },
  {
   "cell_type": "code",
   "execution_count": 29,
   "metadata": {},
   "outputs": [
    {
     "name": "stderr",
     "output_type": "stream",
     "text": [
      "C:\\Users\\hakos\\AppData\\Local\\Temp\\ipykernel_38980\\238015773.py:1: DtypeWarning: Columns (118,119,131) have mixed types. Specify dtype option on import or set low_memory=False.\n",
      "  data=pd.read_csv('../merged/len3_ndb_blp_DN_firm_filled.csv',encoding='utf-8',index_col=0)\n"
     ]
    },
    {
     "data": {
      "text/plain": [
       "(51,\n",
       " ['アルデイン坐剤２０ｍｇ',\n",
       "  'アンブロキソール塩酸塩錠１５ｍｇ「タナベ」',\n",
       "  'イオウ・サリチル酸・チアントール軟膏',\n",
       "  'ウブテック錠５ｍｇ',\n",
       "  'エピナスチン塩酸塩錠２０ｍｇ「タイヨー」',\n",
       "  'オリベート錠２\\u3000２ｍｇ',\n",
       "  'クラレットカプセル１ｍｇ',\n",
       "  'クラレット細粒０．１％',\n",
       "  'クロトリマゾール１００ｍｇ腟錠',\n",
       "  'サワダロン錠２００ｍｇ',\n",
       "  'ジクロフェナクナトリウム坐剤５０ｍｇ「タナベ」',\n",
       "  'ソロムコ錠１５ｍｇ',\n",
       "  'タイペミンカプセル１ｍｇ',\n",
       "  'チクロピジン塩酸塩錠１００ｍｇ「タイヨー」',\n",
       "  'ニチステート錠１００ｍｇ',\n",
       "  'ビホナゾールクリーム１％「タイヨー」',\n",
       "  'ピロキシカム２０ｍｇ坐剤',\n",
       "  'フルチカゾンプロピオン酸エステル日本臓器１１２\\u3000８．１６ｍｇ１６',\n",
       "  'フルチカゾンプロピオン酸エステル５０トーワ２８\\u3000２．０４ｍｇ４',\n",
       "  'フルチカゾンプロピオン酸エステル５０日医工２８\\u3000２．０４ｍｇ４',\n",
       "  'フルチカゾンプロピオン酸エステル５０日本臓器２８\\u3000２．０４ｍｇ４',\n",
       "  'フルチカゾンプロピオン酸エステル５０ＣＥＯ２８\\u3000２．０４ｍｇ４',\n",
       "  'フルチカゾンプロピオン酸エステル５０ＤＳＰ２８\\u3000２．０４ｍｇ４',\n",
       "  'フルチカゾンプロピオン酸エステル５０ＪＧ２８\\u3000２．０４ｍｇ４',\n",
       "  'フルチカゾンプロピオン酸エステル５０ＪＧ５６\\u3000４．０８ｍｇ８',\n",
       "  'フルチカゾン点鼻液５０μｇイセイ２８噴霧用\\u3000２．０４ｍｇ４ｍＬ',\n",
       "  'フルチカゾン点鼻５０μｇ「アメル」２８噴霧\\u3000２．０４ｍｇ４ｍＬ',\n",
       "  'フルチカゾン点鼻５０μｇ「イセイ」５６噴霧\\u3000４．０８ｍｇ８ｍＬ',\n",
       "  'フルチカゾン点鼻５０μｇ「サワイ」２８噴霧\\u3000２．０４ｍｇ４ｍＬ',\n",
       "  'フルチカゾン点鼻５０μｇ「トーワ」２８噴霧\\u3000２．０４ｍｇ４ｍＬ',\n",
       "  'フルチカゾン点鼻５０μｇ「ＮｉｋＰ」２８噴霧\\u3000２．０４ｍｇ４ｍＬ',\n",
       "  'プロピオン酸フルチカゾン点鼻５０ＣＨ２８\\u3000２．０４ｍｇ４ｍＬ',\n",
       "  'プロピオン酸フルチカゾン点鼻５０ＣＨ５６\\u3000４．０８ｍｇ８ｍＬ',\n",
       "  'ベクロメタゾンパウダー２５μｇトーワ\\u3000１．５０ｍｇ０．９０８７ｇ',\n",
       "  'ベクロメタゾン点鼻液５０μｇファイザー\\u3000９．３７５ｍｇ７．５ｇ',\n",
       "  'ベタメタゾン酪酸エステルプロピオン酸クリーム０．０５％「ＭＹＫ」',\n",
       "  'ベタメタゾン酪酸エステルプロピオン酸ローション０．０５％ＭＹＫ',\n",
       "  'ベーエム錠１００ｍｇ',\n",
       "  'ホスポールクリーム１％',\n",
       "  'ボナフェック坐剤５０\\u3000５０ｍｇ',\n",
       "  'ミロピンカプセル１ｍｇ',\n",
       "  'メチレフト錠２５\\u3000０．０２５ｍｇ',\n",
       "  'メチレフト錠５０\\u3000０．０５ｍｇ',\n",
       "  'ルアダン錠２００ｍｇ',\n",
       "  'ロキソプロフェンナトリウム錠６０ｍｇ「タイヨー」',\n",
       "  'ロンバニンカプセル１ｍｇ',\n",
       "  'Ｄソルビトール内用液６５％「マルイシ」',\n",
       "  'Ｄソルビトール原末「マルイシ」',\n",
       "  'Ｄソルビトール液\\u3000６５％',\n",
       "  'Ｄソルビトール液\\u3000７５％',\n",
       "  'Ｄソルビトール経口液７５％「コーワ」'])"
      ]
     },
     "execution_count": 29,
     "metadata": {},
     "output_type": "execute_result"
    }
   ],
   "source": [
    "data=pd.read_csv('../merged/len3_ndb_blp_DN_firm_filled.csv',encoding='utf-8',index_col=0)\n",
    "data.columns\n",
    "med_name=sorted(list(set(data[data[\"メーカー名\"].isna()][\"医薬品名\"])))\n",
    "len(med_name),med_name"
   ]
  },
  {
   "cell_type": "code",
   "execution_count": 30,
   "metadata": {},
   "outputs": [],
   "source": [
    "\n",
    "search_results = []\n",
    "\n",
    "# Loop through the CSV data and perform searches\n",
    "for i,name in enumerate(med_name):\n",
    "    query =name \n",
    "    url= f\"https://www.google.co.jp/search?q={query}\"\n",
    "    # if i>5:\n",
    "    #     break\n",
    "    # Send a request to Google CSE\n",
    " \n",
    "    search_results.append((query,url))\n",
    " \n",
    "\n",
    "# Now, search_results contains the search results for each query in your CSV\n",
    "\n"
   ]
  },
  {
   "cell_type": "code",
   "execution_count": 31,
   "metadata": {},
   "outputs": [],
   "source": [
    "# for i,x in enumerate(search_results):\n",
    "#     print(x[0],i)"
   ]
  },
  {
   "cell_type": "code",
   "execution_count": 32,
   "metadata": {},
   "outputs": [
    {
     "name": "stdout",
     "output_type": "stream",
     "text": [
      "<built-in function id> 50\n",
      "<built-in function id> 50\n",
      "<built-in function id> 50\n",
      "<built-in function id> 50\n",
      "<built-in function id> 50\n",
      "<built-in function id> 50\n",
      "<built-in function id> 50\n",
      "<built-in function id> 50\n",
      "<built-in function id> 50\n",
      "<built-in function id> 50\n",
      "<built-in function id> 50\n",
      "<built-in function id> 50\n",
      "<built-in function id> 50\n",
      "<built-in function id> 50\n",
      "<built-in function id> 50\n",
      "<built-in function id> 50\n",
      "<built-in function id> 50\n",
      "<built-in function id> 50\n",
      "<built-in function id> 50\n",
      "<built-in function id> 50\n",
      "<built-in function id> 50\n",
      "<built-in function id> 50\n",
      "<built-in function id> 50\n",
      "<built-in function id> 50\n",
      "<built-in function id> 50\n",
      "<built-in function id> 50\n",
      "<built-in function id> 50\n",
      "<built-in function id> 50\n",
      "<built-in function id> 50\n",
      "<built-in function id> 50\n",
      "<built-in function id> 50\n",
      "<built-in function id> 50\n",
      "<built-in function id> 50\n",
      "<built-in function id> 50\n",
      "<built-in function id> 50\n",
      "<built-in function id> 50\n",
      "<built-in function id> 50\n",
      "<built-in function id> 50\n",
      "<built-in function id> 50\n",
      "<built-in function id> 50\n",
      "<built-in function id> 50\n",
      "<built-in function id> 50\n",
      "<built-in function id> 50\n",
      "<built-in function id> 50\n",
      "<built-in function id> 50\n",
      "<built-in function id> 50\n",
      "<built-in function id> 50\n",
      "<built-in function id> 50\n",
      "<built-in function id> 50\n",
      "<built-in function id> 50\n",
      "<built-in function id> 50\n"
     ]
    }
   ],
   "source": [
    "result_df=pd.DataFrame()\n",
    "result_dicts=[]\n",
    "# i=0\n",
    "for url,query in search_results:\n",
    "    print(id,i)\n",
    "    # i+=1\n",
    "\n",
    "        # print(k)\n",
    "    result_dicts.append({\n",
    "        \"url\":url,\n",
    "        \"Query\": query,\n",
    "\n",
    "    })\n",
    "result_df = pd.DataFrame(result_dicts)\n"
   ]
  },
  {
   "cell_type": "code",
   "execution_count": 33,
   "metadata": {},
   "outputs": [
    {
     "data": {
      "text/plain": [
       "(51, 2)"
      ]
     },
     "execution_count": 33,
     "metadata": {},
     "output_type": "execute_result"
    }
   ],
   "source": [
    "result_df.shape\n",
    "# result_df.replace(\"\\xa0\",\"\",regex=True,inplace=True)\n",
    "# result_df.to_csv(\"search_result.csv\",encoding=\"shift-jis\")"
   ]
  },
  {
   "cell_type": "code",
   "execution_count": 34,
   "metadata": {},
   "outputs": [
    {
     "name": "stdout",
     "output_type": "stream",
     "text": [
      "Search results with hyperlinks saved to G_yakka_hyperlinks.xlsx\n"
     ]
    }
   ],
   "source": [
    "from openpyxl import Workbook\n",
    "from openpyxl.worksheet.hyperlink import Hyperlink\n",
    "# result_df = pd.DataFrame(result_dicts)\n",
    "\n",
    "# Create a new Excel workbook\n",
    "wb = Workbook()\n",
    "\n",
    "# Create a new Excel sheet\n",
    "ws = wb.active\n",
    "\n",
    "# Add column headers to the sheet\n",
    "column_names = result_df.columns.tolist()\n",
    "ws.append(column_names)\n",
    "\n",
    "# Make the URLs in the \"Link\" column clickable hyperlinks\n",
    "# Make the URLs in the \"Link\" column clickable hyperlinks\n",
    "for _, row in result_df.iterrows():\n",
    "    # print(row)\n",
    "    ws.append([row['Query'],row[\"url\"]])\n",
    "\n",
    "target_columns = [\"url\"]  # ハイパーリンクを設定したい列名を指定\n",
    "\n",
    "for column_name in target_columns:\n",
    "    column_index = column_names.index(column_name) + 1  # 列名から列のインデックスを取得\n",
    "\n",
    "    for row in ws.iter_rows(min_row=2, max_row=ws.max_row, min_col=column_index, max_col=column_index):\n",
    "        for cell in row:\n",
    "            cell.hyperlink = cell.value\n",
    "\n",
    "# Save the workbook to an Excel file\n",
    "output_file = 'G_yakka_hyperlinks.xlsx'  # Specify the desired output file name\n",
    "wb.save(output_file)\n",
    "\n",
    "print(f\"Search results with hyperlinks saved to {output_file}\")"
   ]
  }
 ],
 "metadata": {
  "kernelspec": {
   "display_name": "Python 3",
   "language": "python",
   "name": "python3"
  },
  "language_info": {
   "codemirror_mode": {
    "name": "ipython",
    "version": 3
   },
   "file_extension": ".py",
   "mimetype": "text/x-python",
   "name": "python",
   "nbconvert_exporter": "python",
   "pygments_lexer": "ipython3",
   "version": "3.10.4"
  },
  "orig_nbformat": 4
 },
 "nbformat": 4,
 "nbformat_minor": 2
}
