{
 "cells": [
  {
   "cell_type": "code",
   "execution_count": 29,
   "metadata": {},
   "outputs": [],
   "source": [
    "import re\n",
    "import unicodedata\n",
    "import pickle\n",
    "import pandas as pd\n",
    "import numpy as np"
   ]
  },
  {
   "cell_type": "code",
   "execution_count": 30,
   "metadata": {},
   "outputs": [
    {
     "name": "stderr",
     "output_type": "stream",
     "text": [
      "C:\\Users\\hakos\\AppData\\Local\\Temp\\ipykernel_29480\\1787095041.py:1: DtypeWarning: Columns (118,119,131) have mixed types. Specify dtype option on import or set low_memory=False.\n",
      "  data=pd.read_csv(\"../merged/len3_ndb_blp_DN_firm.csv\",encoding=\"utf-8\",index_col=0)\n"
     ]
    },
    {
     "data": {
      "text/plain": [
       "(アンブロキソール塩酸塩錠１５ｍｇ「タイヨー」    16\n",
       " カモスタットメシル酸塩錠１００ｍｇ「日医工」    16\n",
       " ダイフェン配合錠                  16\n",
       " Ｄソルビトール経口液７５％「コーワ」        16\n",
       " Ｄソルビトール液　７５％              16\n",
       "                           ..\n",
       " ロスバスタチンＯＤ錠５ｍｇ「サワイ」         1\n",
       " ロスバスタチン錠２．５ｍｇ「三和」          1\n",
       " アトルバスタチン錠５ｍｇ「ＹＤ」           1\n",
       " ロスバスタチンＯＤ錠２．５ｍｇ「三和」        1\n",
       " イトラコナゾール５０ｍｇ錠              1\n",
       " Name: 医薬品名, Length: 298, dtype: int64,\n",
       " 2239001F1017    247\n",
       " 2319001M1019    135\n",
       " 3999003F1017    115\n",
       " 3399001F1015     56\n",
       " 2590004F1010     52\n",
       "                ... \n",
       " 1319722M1013      1\n",
       " 1319702Q2014      1\n",
       " 2590008F1018      1\n",
       " 2325001F1017      1\n",
       " 6290004F1011      1\n",
       " Name: 薬価基準収載医薬品コード, Length: 141, dtype: int64)"
      ]
     },
     "execution_count": 30,
     "metadata": {},
     "output_type": "execute_result"
    }
   ],
   "source": [
    "data=pd.read_csv(\"../merged/len3_ndb_blp_DN_firm.csv\",encoding=\"utf-8\",index_col=0)\n",
    "data.head()\n",
    "data_lack=data[data[\"メーカー名\"].isna()]\n",
    "data_lack[\"医薬品名\"].value_counts(),data_lack[\"薬価基準収載医薬品コード\"].value_counts()"
   ]
  },
  {
   "cell_type": "code",
   "execution_count": 31,
   "metadata": {},
   "outputs": [],
   "source": [
    "# load name2cleaned.pkl\n",
    "with open('name2cleaned.pkl', 'rb') as f:\n",
    "    name2cleaned = pickle.load(f)\n",
    "with open('name2cleaned_nk.pkl', 'rb') as f:\n",
    "    name2cleaned_nk = pickle.load(f)\n",
    "with open('name2firm.pkl', 'rb') as f:\n",
    "    name2firm = pickle.load(f)\n",
    "with open('name2firm_ii.pkl', 'rb') as f:\n",
    "    name2firm_ii = pickle.load(f)\n",
    "with open('name2firm_nk.pkl', 'rb') as f:\n",
    "    name2firm_nk = pickle.load(f)\n",
    "with open('cleaned2firm.pkl', 'rb') as f:\n",
    "    cleaned2firm = pickle.load(f)\n",
    "with open('cleaned2firm_nk.pkl', 'rb') as f:\n",
    "    cleaned2firm_nk = pickle.load(f)\n",
    "# load name2firm_ma.pkl\n",
    "with open('name2firm_ma.pkl', 'rb') as f:\n",
    "    name2firm_ma = pickle.load(f)"
   ]
  },
  {
   "cell_type": "code",
   "execution_count": 32,
   "metadata": {},
   "outputs": [],
   "source": [
    "def cnt(data):\n",
    "    data_lack=data[data[\"メーカー名\"].isna()]\n",
    "    print(len(set(data_lack[\"医薬品名\"])))"
   ]
  },
  {
   "cell_type": "code",
   "execution_count": 33,
   "metadata": {},
   "outputs": [
    {
     "name": "stdout",
     "output_type": "stream",
     "text": [
      "175\n",
      "136\n",
      "118\n",
      "14\n",
      "0\n",
      "0\n"
     ]
    }
   ],
   "source": [
    "data.loc[data[\"メーカー名\"].isna(),\"メーカー名\"]=data.loc[data[\"メーカー名\"].isna(),\"医薬品名\"].map(name2firm)\n",
    "cnt(data)\n",
    "data.loc[data[\"メーカー名\"].isna(),\"メーカー名\"]=data.loc[data[\"メーカー名\"].isna(),\"医薬品名\"].map(name2firm_ma)\n",
    "cnt(data)\n",
    "data.loc[data[\"メーカー名\"].isna(),\"メーカー名\"]=data.loc[data[\"メーカー名\"].isna(),\"医薬品名\"].map(name2firm_ii)\n",
    "cnt(data)\n",
    "data.loc[data[\"メーカー名\"].isna(),\"メーカー名\"]=data.loc[data[\"メーカー名\"].isna(),\"医薬品名\"].map(name2firm_nk)\n",
    "cnt(data)\n",
    "data.loc[data[\"メーカー名\"].isna(),\"メーカー名\"]=data.loc[data[\"メーカー名\"].isna(),\"医薬品名\"].map(name2cleaned).map(cleaned2firm)\n",
    "cnt(data)\n",
    "# data.loc[data[\"メーカー名\"].isna(),\"メーカー名\"]=data.loc[data[\"メーカー名\"].isna(),\"医薬品名\"].map(name2cleaned_nk).map(cleaned2firm_nk)\n",
    "cnt(data)"
   ]
  },
  {
   "cell_type": "code",
   "execution_count": 34,
   "metadata": {},
   "outputs": [
    {
     "data": {
      "text/plain": [
       "Series([], Name: 医薬品名, dtype: int64)"
      ]
     },
     "execution_count": 34,
     "metadata": {},
     "output_type": "execute_result"
    }
   ],
   "source": [
    "data_lack=data[data[\"メーカー名\"].isna()]\n",
    "data_lack[\"医薬品名\"].value_counts()\n",
    "# data_lack[\"薬価基準収載医薬品コード\"].value_counts()"
   ]
  },
  {
   "cell_type": "code",
   "execution_count": 35,
   "metadata": {},
   "outputs": [],
   "source": [
    "data.to_csv(\"../merged/len3_ndb_blp_DN_firm_filled.csv\",encoding=\"utf-8\")"
   ]
  }
 ],
 "metadata": {
  "kernelspec": {
   "display_name": "Python 3",
   "language": "python",
   "name": "python3"
  },
  "language_info": {
   "codemirror_mode": {
    "name": "ipython",
    "version": 3
   },
   "file_extension": ".py",
   "mimetype": "text/x-python",
   "name": "python",
   "nbconvert_exporter": "python",
   "pygments_lexer": "ipython3",
   "version": "3.10.4"
  },
  "orig_nbformat": 4
 },
 "nbformat": 4,
 "nbformat_minor": 2
}
