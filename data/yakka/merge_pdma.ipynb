{
 "cells": [
  {
   "cell_type": "code",
   "execution_count": 46,
   "metadata": {},
   "outputs": [],
   "source": [
    "import re\n",
    "import unicodedata\n",
    "import pickle\n",
    "import pandas as pd\n",
    "import numpy as np"
   ]
  },
  {
   "cell_type": "code",
   "execution_count": 47,
   "metadata": {},
   "outputs": [
    {
     "name": "stderr",
     "output_type": "stream",
     "text": [
      "C:\\Users\\hakos\\AppData\\Local\\Temp\\ipykernel_11888\\1787095041.py:1: DtypeWarning: Columns (118,119,131) have mixed types. Specify dtype option on import or set low_memory=False.\n",
      "  data=pd.read_csv(\"../merged/len3_ndb_blp_DN_firm.csv\",encoding=\"utf-8\",index_col=0)\n"
     ]
    },
    {
     "data": {
      "text/plain": [
       "(ダイフェン配合錠                           16\n",
       " アンブロキソール塩酸塩錠１５ｍｇ「トーワ」              16\n",
       " Ｄソルビトール液　７５％                       16\n",
       " Ｄソルビトール経口液７５％「コーワ」                 16\n",
       " Ｄソルビトール液　６５％                       16\n",
       "                                    ..\n",
       " ベクロメタゾンプロピオン酸エステル８．５ｍｇ８．５ｇ点鼻液       1\n",
       " ケトチフェン点鼻液０．０５％「ツルハラ」　６．０４８ｍｇ８ｍＬ     1\n",
       " オメプラゾール錠２０ｍｇ「日医工」                   1\n",
       " ヒアルロン酸Ｎａ点眼液０．１％「ファイザー」　５ｍＬ          1\n",
       " イトラコナゾール５０ｍｇ錠                       1\n",
       " Name: 医薬品名, Length: 806, dtype: int64,\n",
       " 2239001F1017    289\n",
       " 2319001M1019    135\n",
       " 3999003F1017    115\n",
       " 2655708N1016     92\n",
       " 6250002F1017     76\n",
       "                ... \n",
       " 2189017F4013      1\n",
       " 2646730N1011      1\n",
       " 2590009F5158      1\n",
       " 3999004M4010      1\n",
       " 2590008F1018      1\n",
       " Name: 薬価基準収載医薬品コード, Length: 208, dtype: int64)"
      ]
     },
     "execution_count": 47,
     "metadata": {},
     "output_type": "execute_result"
    }
   ],
   "source": [
    "data=pd.read_csv(\"../merged/len3_ndb_blp_DN_firm.csv\",encoding=\"utf-8\",index_col=0)\n",
    "data.head()\n",
    "data_lack=data[data[\"メーカー名\"].isna()]\n",
    "data_lack[\"医薬品名\"].value_counts(),data_lack[\"薬価基準収載医薬品コード\"].value_counts()"
   ]
  },
  {
   "cell_type": "code",
   "execution_count": 48,
   "metadata": {},
   "outputs": [],
   "source": [
    "# load name2cleaned.pkl\n",
    "with open('name2cleaned.pkl', 'rb') as f:\n",
    "    name2cleaned = pickle.load(f)\n",
    "with open('name2cleaned_nk.pkl', 'rb') as f:\n",
    "    name2cleaned_nk = pickle.load(f)\n",
    "with open('name2firm.pkl', 'rb') as f:\n",
    "    name2firm = pickle.load(f)\n",
    "with open('name2firm_ii.pkl', 'rb') as f:\n",
    "    name2firm_ii = pickle.load(f)\n",
    "with open('name2firm_nk.pkl', 'rb') as f:\n",
    "    name2firm_nk = pickle.load(f)\n",
    "with open('cleaned2firm.pkl', 'rb') as f:\n",
    "    cleaned2firm = pickle.load(f)\n",
    "with open('cleaned2firm_nk.pkl', 'rb') as f:\n",
    "    cleaned2firm_nk = pickle.load(f)\n",
    "# load name2firm_ma.pkl\n",
    "with open('name2firm_ma.pkl', 'rb') as f:\n",
    "    name2firm_ma = pickle.load(f)"
   ]
  },
  {
   "cell_type": "code",
   "execution_count": 49,
   "metadata": {},
   "outputs": [],
   "source": [
    "data.loc[data[\"メーカー名\"].isna(),\"メーカー名\"]=data.loc[data[\"メーカー名\"].isna(),\"医薬品名\"].map(name2firm)\n",
    "data.loc[data[\"メーカー名\"].isna(),\"メーカー名\"]=data.loc[data[\"メーカー名\"].isna(),\"医薬品名\"].map(name2firm_ma)\n",
    "data.loc[data[\"メーカー名\"].isna(),\"メーカー名\"]=data.loc[data[\"メーカー名\"].isna(),\"医薬品名\"].map(name2firm_ii)\n",
    "data.loc[data[\"メーカー名\"].isna(),\"メーカー名\"]=data.loc[data[\"メーカー名\"].isna(),\"医薬品名\"].map(name2firm_nk)\n",
    "data.loc[data[\"メーカー名\"].isna(),\"メーカー名\"]=data.loc[data[\"メーカー名\"].isna(),\"医薬品名\"].map(name2cleaned).map(cleaned2firm)\n",
    "data.loc[data[\"メーカー名\"].isna(),\"メーカー名\"]=data.loc[data[\"メーカー名\"].isna(),\"医薬品名\"].map(name2cleaned_nk).map(cleaned2firm_nk)"
   ]
  },
  {
   "cell_type": "code",
   "execution_count": 50,
   "metadata": {},
   "outputs": [
    {
     "data": {
      "text/plain": [
       "Series([], Name: 医薬品名, dtype: int64)"
      ]
     },
     "execution_count": 50,
     "metadata": {},
     "output_type": "execute_result"
    }
   ],
   "source": [
    "data_lack=data[data[\"メーカー名\"].isna()]\n",
    "data_lack[\"医薬品名\"].value_counts()\n",
    "# data_lack[\"薬価基準収載医薬品コード\"].value_counts()"
   ]
  },
  {
   "cell_type": "code",
   "execution_count": 51,
   "metadata": {},
   "outputs": [],
   "source": [
    "data.to_csv(\"../merged/len3_ndb_blp_DN_firm_filled.csv\",encoding=\"utf-8\")"
   ]
  }
 ],
 "metadata": {
  "kernelspec": {
   "display_name": "Python 3",
   "language": "python",
   "name": "python3"
  },
  "language_info": {
   "codemirror_mode": {
    "name": "ipython",
    "version": 3
   },
   "file_extension": ".py",
   "mimetype": "text/x-python",
   "name": "python",
   "nbconvert_exporter": "python",
   "pygments_lexer": "ipython3",
   "version": "3.10.4"
  },
  "orig_nbformat": 4
 },
 "nbformat": 4,
 "nbformat_minor": 2
}
