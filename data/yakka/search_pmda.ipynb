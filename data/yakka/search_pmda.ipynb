{
 "cells": [
  {
   "cell_type": "code",
   "execution_count": 18,
   "metadata": {},
   "outputs": [],
   "source": [
    "from selenium import webdriver\n",
    "from selenium.webdriver.common.keys import Keys\n",
    "from selenium.webdriver.common.by import By\n",
    "from selenium.webdriver.support.ui import WebDriverWait\n",
    "from selenium.webdriver.support import expected_conditions as EC\n",
    "import os \n",
    "import time\n",
    "import pandas as pd\n",
    "import numpy as np\n",
    "import re\n"
   ]
  },
  {
   "cell_type": "code",
   "execution_count": 19,
   "metadata": {},
   "outputs": [
    {
     "name": "stderr",
     "output_type": "stream",
     "text": [
      "C:\\Users\\hakos\\AppData\\Local\\Temp\\ipykernel_28924\\388202102.py:3: DtypeWarning: Columns (118,119,131) have mixed types. Specify dtype option on import or set low_memory=False.\n",
      "  data=pd.read_csv('../merged/len3_ndb_blp_DN_firm_val.csv',encoding='utf-8',index_col=0)\n"
     ]
    },
    {
     "data": {
      "text/plain": [
       "Index(['薬効分類', '薬効分類名称', '医薬品コード', '医薬品名', '薬価基準収載医薬品コード', '薬価_x', '後発品区分',\n",
       "       '総計', 'year', 'in_hospital',\n",
       "       ...\n",
       "       '同一剤形・規格の後発医薬品がある先発医薬品', '薬価_y', '経過措置による使用期限', '備考', 'Unnamed: 15',\n",
       "       'Unnamed: 16', 'Unnamed: 17', 'Unnamed: 18', 'Unnamed: 4', '_merge'],\n",
       "      dtype='object', length=132)"
      ]
     },
     "execution_count": 19,
     "metadata": {},
     "output_type": "execute_result"
    }
   ],
   "source": [
    "os.getcwd()\n",
    "os.chdir(\"C:/Users/hakos/GDrive/Downloads/Research/data/yakka\")\n",
    "data=pd.read_csv('../merged/len3_ndb_blp_DN_firm_val.csv',encoding='utf-8',index_col=0)\n",
    "data.columns"
   ]
  },
  {
   "cell_type": "code",
   "execution_count": 20,
   "metadata": {},
   "outputs": [
    {
     "data": {
      "text/plain": [
       "112"
      ]
     },
     "execution_count": 20,
     "metadata": {},
     "output_type": "execute_result"
    }
   ],
   "source": [
    "len(set(data[data[\"メーカー名\"].isna()][\"医薬品名\"]))\n",
    "data[data[\"メーカー名\"].isna()][\"医薬品名\"].value_counts()\n",
    "med_name=list(set(data[data[\"メーカー名\"].isna()][\"医薬品名\"]))\n",
    "len(med_name)"
   ]
  },
  {
   "cell_type": "code",
   "execution_count": 21,
   "metadata": {},
   "outputs": [],
   "source": [
    "# import re\n",
    "# import unicodedata\n",
    "# name =   'プロカテロール塩酸塩シロップ５μｇ／ｍＬ\\u3000日医工\\u3000０．０００５％'\n",
    "\n",
    "# # 全角スペース（\\u3000）を正規表現で削除\n",
    "# match = re.search(r'.*\\u3000', name)\n",
    "\n",
    "# if match:\n",
    "#     result = match.group()\n",
    "# else:\n",
    "#     result = name\n",
    "# result = re.sub(r'\\u3000', ' ', result)\n",
    "# result = unicodedata.normalize('NFKC', result)\n",
    "# print(result)\n",
    "# results = [\n",
    "#     unicodedata.normalize('NFKC', re.sub(r'\\u3000', ' ', re.search(r'.*\\u3000', name).group()) if re.search(r'.*\\u3000', name) else name)\n",
    "#     for name in med_name\n",
    "# ]\n",
    "\n",
    "# # 結果を出力\n",
    "# for result in results:\n",
    "#     print(result)"
   ]
  },
  {
   "cell_type": "code",
   "execution_count": 22,
   "metadata": {},
   "outputs": [],
   "source": [
    "import re\n",
    "import unicodedata\n",
    "\n",
    "\n",
    "# クリーン前のテキストをキー、クリーン後のテキストを値とする辞書を作成\n",
    "name2cleaned = {}\n",
    "cleaned=[]\n",
    "# テキストごとに処理を行うループ\n",
    "for name in med_name:\n",
    "    # クリーン処理を実行\n",
    "    cleaned_name = unicodedata.normalize('NFKC', re.sub(r'\\u3000', ' ', re.search(r'.*\\u3000', name).group()) if re.search(r'.*\\u3000', name) else name)\n",
    "    \n",
    "    cleaned.append(cleaned_name)\n",
    "    # クリーン前のテキストをキー、クリーン後のテキストを値として辞書に追加\n",
    "    name2cleaned[name] = cleaned_name\n",
    "\n",
    "# 辞書を出力\n",
    "# for original_name in name2cleaned.keys():\n",
    "#     print(f'Original name: {original_name}')\n",
    "#     print(f'Cleaned name:  {name2cleaned[original_name]}')\n",
    "#     print()\n"
   ]
  },
  {
   "cell_type": "code",
   "execution_count": 23,
   "metadata": {},
   "outputs": [],
   "source": [
    "#　初期化　危ない\n",
    "clean=0\n",
    "name2firm={}\n",
    "name2name={}"
   ]
  },
  {
   "cell_type": "code",
   "execution_count": 24,
   "metadata": {},
   "outputs": [],
   "source": [
    "def get_maker(key):\n",
    "    # Geckodriverのパスを指定してインスタンスを作成\n",
    "    os.chdir(\"C:\\\\Users\\\\hakos\\\\Downloads\")\n",
    "    os.getcwd()\n",
    "    driver = webdriver.Firefox()\n",
    "    driver.minimize_window()\n",
    "    # ウェブページを開く\n",
    "    driver.get('https://www.pmda.go.jp/PmdaSearch/iyakuSearch/')\n",
    "\n",
    "    wait = WebDriverWait(driver, 5)\n",
    "    search_box = wait.until(EC.presence_of_element_located((By.ID, 'txtName')))\n",
    "    search_box.clear()\n",
    "    search_box.send_keys(key)\n",
    "    search_box.send_keys(Keys.RETURN)\n",
    "\n",
    "    # search_button = driver.find_element(By.XPATH, '//input[@name=\"btnA\"]')  # XPathを使用してボタンを指定\n",
    "    # search_button.click()\n",
    "\n",
    "    # 結果を取得\n",
    "\n",
    "    time.sleep(2)\n",
    "\n",
    "    # 自分で遷移する必要がある\n",
    "    driver.switch_to.window(driver.window_handles[1])\n",
    "    try:\n",
    "        element = driver.find_element(By.XPATH, \"//tr[@class='TrColor01']//div[contains(text(), '製造販売元')]\")\n",
    "        maker = element.text\n",
    "        maker= maker.replace(\"製造販売元／\", \"\").replace(\"株式会社\", \"\")\n",
    "        try:\n",
    "            element=driver.find_element(By.XPATH, \"//tr[@class='TrColor01']/td[2]/div\")\n",
    "            name=element.text\n",
    "        except:\n",
    "            name=None\n",
    "            # print(\"name error\")\n",
    "    except:\n",
    "        maker = None\n",
    "        name=None\n",
    "    # ページが完全に読み込まれるのを待つ（任意）\n",
    "    time.sleep(2)\n",
    "    # ブラウザを閉じる\n",
    "    driver.quit()\n",
    "    return (maker,name)\n",
    "none_count=0\n",
    "# med_name=list(set(data[data[\"メーカー名\"].isna()][\"医薬品名\"]))\n",
    "# test\n",
    "# get_maker(\"アレグラ\")\n"
   ]
  },
  {
   "cell_type": "code",
   "execution_count": 26,
   "metadata": {},
   "outputs": [
    {
     "name": "stdout",
     "output_type": "stream",
     "text": [
      "0 1 2 3 4 5 6 7 8 9 10 11 12 13 14 15 16 17 18 19 20 21 22 23 24 25 26 27 28 29 30 31 32 33 34 35 36 37 38 39 40 41 42 43 44 45 46 47 48 49 50 51 52 53 54 55 56 57 58 59 60 61 62 63 64 65 66 67 68 69 70 71 72 73 74 75 76 77 78 79 80 81 82 83 84 85 86 87 88 89 90 91 92 93 94 95 96 97 98 99 100 101 102 103 104 105 106 107 108 109 110 111 "
     ]
    }
   ],
   "source": [
    "failed=[]\n",
    "if clean:\n",
    "    med_name=cleaned\n",
    "for i,key in enumerate(med_name):\n",
    "    if key not in name2firm.keys():\n",
    "        value,name=get_maker(key)\n",
    "        if value is None:\n",
    "            none_count+=1\n",
    "            failed.append(key)\n",
    "        else:\n",
    "            name2firm[key]=value\n",
    "            name2name[key]=name\n",
    "            # print(i,key,value,name)\n",
    "    else:\n",
    "        continue\n",
    "    print(i,end=\" \")\n",
    "    time.sleep(3)"
   ]
  },
  {
   "cell_type": "code",
   "execution_count": 28,
   "metadata": {},
   "outputs": [
    {
     "data": {
      "text/plain": [
       "({'複方ヨード・グリセリン': '小堺製薬',\n",
       "  'エパルレスタット錠５０ｍｇ「オーハラ」': '大原薬品工業',\n",
       "  '亜鉛華軟膏': '日興製薬',\n",
       "  'ビルヘキサル錠２００ｍｇ': ',テイコクメディックス',\n",
       "  'ジスチグミン臭化物錠\\u3000５ｍｇ': '日医工岐阜工場',\n",
       "  'ビルヘキサル錠４００ｍｇ': ',テイコクメディックス',\n",
       "  'アシクロビン顆粒４０％': ',テイコクメディックス',\n",
       "  'アシクロビル錠２００ｍｇ「マイラン」': ',テイコクメディックス',\n",
       "  'カモスタットメシル酸塩錠１００ｍｇ「オーハラ」': '大原薬品工業',\n",
       "  '薬用炭': '日医工',\n",
       "  'イオウ': '小堺製薬',\n",
       "  '乳酸': 'エイワイファーマ',\n",
       "  'Ｄソルビトール': '大塚製薬工場'},\n",
       " {'複方ヨード・グリセリン': '複方ヨード・グリセリン「コザカイ・Ｍ」',\n",
       "  'エパルレスタット錠５０ｍｇ「オーハラ」': 'エパルレスタット錠５０ｍｇ「オーハラ」',\n",
       "  '亜鉛華軟膏': '亜鉛華(10%)単軟膏「ニッコー」',\n",
       "  'ビルヘキサル錠２００ｍｇ': 'アイラックス錠200mg／アイラックス錠400mg',\n",
       "  'ジスチグミン臭化物錠\\u3000５ｍｇ': 'ジスチグミン臭化物錠5mg「ＮＩＧ」',\n",
       "  'ビルヘキサル錠４００ｍｇ': 'アイラックス錠200mg／アイラックス錠400mg',\n",
       "  'アシクロビン顆粒４０％': 'アイラックス錠200mg／アイラックス錠400mg',\n",
       "  'アシクロビル錠２００ｍｇ「マイラン」': 'アイラックス錠200mg／アイラックス錠400mg',\n",
       "  'カモスタットメシル酸塩錠１００ｍｇ「オーハラ」': 'カモスタットメシル酸塩錠100mg「オーハラ」',\n",
       "  '薬用炭': '薬用炭「日医工」',\n",
       "  'イオウ': 'イオウ「コザカイ・Ｍ」',\n",
       "  '乳酸': 'ソリタックス‐Ｈ輸液',\n",
       "  'Ｄソルビトール': 'オーツカＭＶ注'})"
      ]
     },
     "execution_count": 28,
     "metadata": {},
     "output_type": "execute_result"
    }
   ],
   "source": [
    "name2firm, name2name"
   ]
  },
  {
   "cell_type": "code",
   "execution_count": 29,
   "metadata": {},
   "outputs": [],
   "source": [
    "import pickle\n",
    "os.chdir(\"C:/Users/hakos/GDrive/Downloads/Research/data/yakka\")\n",
    "\n",
    "# Open the file in binary write mode and dump the dictionary into it\n",
    "# clean=0\n",
    "# with open('name2firm.pkl', 'rb') as f:\n",
    "#     name2firm = pickle.load(f)\n",
    "if clean:\n",
    "    file_path = './pickle/cleaned2firm.pkl'\n",
    "    with open(file_path, 'wb') as file:\n",
    "        pickle.dump(name2firm, file)\n",
    "    file_path = './pickle/name2cleaned.pkl'\n",
    "    with open(file_path, 'wb') as file:\n",
    "        pickle.dump(name2cleaned, file)\n",
    "else:\n",
    "    file_path = './pickle/name2firm.pkl'\n",
    "    with open(file_path, 'wb') as file:\n",
    "        pickle.dump(name2firm, file)\n",
    "    file_path = './pickle/name2name.pkl'\n",
    "    with open(file_path, 'wb') as file:\n",
    "        pickle.dump(name2name, file)\n"
   ]
  },
  {
   "cell_type": "code",
   "execution_count": 32,
   "metadata": {},
   "outputs": [
    {
     "data": {
      "text/plain": [
       "(374, 132)"
      ]
     },
     "execution_count": 32,
     "metadata": {},
     "output_type": "execute_result"
    }
   ],
   "source": [
    "data.loc[data[\"メーカー名\"].isna(),\"メーカー名\"]=data.loc[data[\"メーカー名\"].isna(),\"医薬品名\"].map(name2cleaned).map(name2firm)\n",
    "data.loc[data[\"メーカー名\"].isna(),\"メーカー名\"]=data.loc[data[\"メーカー名\"].isna(),\"医薬品名\"].map(name2firm)\n",
    "data[data[\"メーカー名\"].isna()].shape"
   ]
  },
  {
   "cell_type": "code",
   "execution_count": 33,
   "metadata": {},
   "outputs": [
    {
     "data": {
      "text/plain": [
       "99"
      ]
     },
     "execution_count": 33,
     "metadata": {},
     "output_type": "execute_result"
    }
   ],
   "source": [
    "len(set(data[data[\"メーカー名\"].isna()][\"医薬品名\"]))"
   ]
  },
  {
   "cell_type": "code",
   "execution_count": 13,
   "metadata": {},
   "outputs": [],
   "source": [
    "os.chdir(\"C:/Users/hakos/GDrive/Downloads/Research/data/yakka\")\n",
    "# data.to_csv('../merged/len3_ndb_blp_DN_firm_filled.csv',encoding='utf-8')"
   ]
  }
 ],
 "metadata": {
  "kernelspec": {
   "display_name": "Python 3",
   "language": "python",
   "name": "python3"
  },
  "language_info": {
   "codemirror_mode": {
    "name": "ipython",
    "version": 3
   },
   "file_extension": ".py",
   "mimetype": "text/x-python",
   "name": "python",
   "nbconvert_exporter": "python",
   "pygments_lexer": "ipython3",
   "version": "3.10.4"
  },
  "orig_nbformat": 4
 },
 "nbformat": 4,
 "nbformat_minor": 2
}
