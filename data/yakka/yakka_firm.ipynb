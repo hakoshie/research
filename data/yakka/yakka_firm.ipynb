{
 "cells": [
  {
   "cell_type": "code",
   "execution_count": 257,
   "metadata": {},
   "outputs": [],
   "source": [
    "import pandas as pd\n",
    "import numpy as np\n",
    "import os"
   ]
  },
  {
   "cell_type": "code",
   "execution_count": 258,
   "metadata": {},
   "outputs": [
    {
     "name": "stdout",
     "output_type": "stream",
     "text": [
      "2014 tp20151211-01_1.xls\n",
      "2014 tp20151211-01_3.xls\n",
      "2015 tp20151211-01_1.xls\n",
      "2015 tp20151211-01_3.xls\n",
      "2016 tp20180314-01_1.xls\n",
      "2016 tp20171208-01_3.xls\n",
      "2017 tp20180314-01_1.xls\n",
      "2017 tp20171208-01_3.xls\n",
      "2018 tp20190904-01_01.xls\n",
      "2018 tp20190904-01_03.xls\n",
      "2019 tp20200122-01_01.xls\n",
      "2019 tp20200122-01_03.xls\n",
      "2020 tp20210218-01_01.xlsx\n",
      "2020 tp20210218-01_03.xlsx\n",
      "2021 tp20220201-01_01.xlsx\n",
      "2021 tp20211210-01_03.xlsx\n"
     ]
    }
   ],
   "source": [
    "start_y=2014\n",
    "files=['tp20151211-01_1.xls',\n",
    "'tp20151211-01_3.xls',\n",
    "'tp20151211-01_1.xls',\n",
    "'tp20151211-01_3.xls',\n",
    "'tp20180314-01_1.xls',\n",
    "'tp20171208-01_3.xls',\n",
    "'tp20180314-01_1.xls',\n",
    "'tp20171208-01_3.xls',\n",
    "'tp20190904-01_01.xls',\n",
    "'tp20190904-01_03.xls',\n",
    "'tp20200122-01_01.xls',\n",
    "'tp20200122-01_03.xls',\n",
    "'tp20210218-01_01.xlsx',\n",
    "'tp20210218-01_03.xlsx',\n",
    "'tp20220201-01_01.xlsx',\n",
    "'tp20211210-01_03.xlsx']\n",
    "for i,name in enumerate(files):\n",
    "    print(start_y+i//2,name)"
   ]
  },
  {
   "cell_type": "code",
   "execution_count": 259,
   "metadata": {},
   "outputs": [
    {
     "name": "stdout",
     "output_type": "stream",
     "text": [
      "2014 tp20151211-01_1.xls\n",
      "2014 tp20151211-01_3.xls\n",
      "2015 tp20151211-01_1.xls\n",
      "2015 tp20151211-01_3.xls\n",
      "2016 tp20180314-01_1.xls\n",
      "2016 tp20171208-01_3.xls\n",
      "2017 tp20180314-01_1.xls\n",
      "2017 tp20171208-01_3.xls\n",
      "2018 tp20190904-01_01.xls\n",
      "2018 tp20190904-01_03.xls\n",
      "2019 tp20200122-01_01.xls\n",
      "2019 tp20200122-01_03.xls\n",
      "2020 tp20210218-01_01.xlsx\n",
      "2020 tp20210218-01_03.xlsx\n",
      "2021 tp20220201-01_01.xlsx\n",
      "2021 tp20211210-01_03.xlsx\n"
     ]
    }
   ],
   "source": [
    "#ディレクトリ直下のファイルのパスを取得する\n",
    "firm_data=pd.DataFrame()\n",
    "for i,name in enumerate(files):\n",
    "    print(start_y+i//2,name)\n",
    "    data_i=pd.read_excel(name)\n",
    "    data_i['year']=start_y+i//2\n",
    "    firm_data = pd.concat([firm_data,data_i],axis=0,ignore_index=True)\n",
    "    this_year = start_y+i//2\n",
    "    last_year = (start_y+i//2)-1\n",
    "    if i%2==1:\n",
    "        # 現在のDataFrameから年とIDの組み合わせを取得\n",
    "        firm_data_two=firm_data[firm_data['year']>=(last_year)]\n",
    "        existing_combinations = set(zip(firm_data_two['year'], firm_data_two[\"薬価基準収載医薬品コード\"]))\n",
    "\n",
    "        # 昨年に対応する行を作成し、今年のIDがない場合、今年のIDを持つ行をコピー\n",
    "        new_rows = []\n",
    "        for this_year, id in existing_combinations:\n",
    "            if (last_year, id) not in existing_combinations:\n",
    "                this_year_row = firm_data[(firm_data['year'] == this_year) & (firm_data[\"薬価基準収載医薬品コード\"] == id)]\n",
    "                new_row = this_year_row.copy()\n",
    "                new_row['year'] = last_year\n",
    "                new_rows.append(new_row)\n",
    "        if this_year==2019 or this_year==2020:\n",
    "            # this yearに対応する行を作成し、last yearのIDがない場合、last yearのIDを持つ行をコピー\n",
    "            for last_year, id in existing_combinations:\n",
    "                if (this_year, id) not in existing_combinations:\n",
    "                    last_year_row = firm_data[(firm_data['year'] == last_year) & (firm_data[\"薬価基準収載医薬品コード\"] == id)]\n",
    "                    new_row = last_year_row.copy()\n",
    "                    new_row['year'] = this_year\n",
    "                    new_rows.append(new_row)\n",
    "        # 新しい行を現在のDataFrameに追加\n",
    "        firm_data = pd.concat([firm_data] + new_rows,axis=0, ignore_index=True)\n",
    "    "
   ]
  },
  {
   "cell_type": "code",
   "execution_count": 260,
   "metadata": {},
   "outputs": [
    {
     "data": {
      "text/plain": [
       "(111256, 21)"
      ]
     },
     "execution_count": 260,
     "metadata": {},
     "output_type": "execute_result"
    }
   ],
   "source": [
    "firm_data=firm_data[firm_data[\"メーカー名\"].notna()]\n",
    "firm_data.shape"
   ]
  },
  {
   "cell_type": "markdown",
   "metadata": {},
   "source": [
    "大正薬品工業は名前を変えた"
   ]
  },
  {
   "cell_type": "code",
   "execution_count": 261,
   "metadata": {},
   "outputs": [
    {
     "data": {
      "text/plain": [
       "1         2014\n",
       "2         2014\n",
       "3         2014\n",
       "4         2014\n",
       "5         2014\n",
       "          ... \n",
       "121777    2020\n",
       "121778    2020\n",
       "121779    2020\n",
       "121780    2020\n",
       "121781    2020\n",
       "Name: year, Length: 111256, dtype: int64"
      ]
     },
     "execution_count": 261,
     "metadata": {},
     "output_type": "execute_result"
    }
   ],
   "source": [
    "firm_data[\"year\"]"
   ]
  },
  {
   "cell_type": "code",
   "execution_count": 262,
   "metadata": {},
   "outputs": [],
   "source": [
    "dup=firm_data[firm_data.duplicated([\"薬価基準収載医薬品コード\",\"year\"])]\n",
    "#同じ年で名前が変わっている? 2023まで入れればね\n",
    "for id in set(dup[\"薬価基準収載医薬品コード\"]):\n",
    "    df_id=dup[dup[\"薬価基準収載医薬品コード\"]==id]\n",
    "    year=set(df_id[\"year\"])\n",
    "    maker=set(df_id[\"メーカー名\"])\n",
    "    if len(maker)>1:\n",
    "        print(id,year)\n",
    "        print(maker)"
   ]
  },
  {
   "cell_type": "code",
   "execution_count": 263,
   "metadata": {},
   "outputs": [
    {
     "data": {
      "text/plain": [
       "(337, 16386, 0)"
      ]
     },
     "execution_count": 263,
     "metadata": {},
     "output_type": "execute_result"
    }
   ],
   "source": [
    "len(set(firm_data[\"メーカー名\"])),len(set(firm_data[\"薬価基準収載医薬品コード\"])),sum(firm_data[\"メーカー名\"].isna())"
   ]
  },
  {
   "cell_type": "code",
   "execution_count": 264,
   "metadata": {},
   "outputs": [
    {
     "name": "stdout",
     "output_type": "stream",
     "text": [
      "{'ファイザー', 'メルクバイオファーマ', '生化学工業', '共和薬品工業', '小西製薬', 'アストラゼネカ', 'ユーシービージャパン', 'レクメド', '日新製薬（山形）', '生晃栄養薬品', 'アルフレッサファーマ', 'ヤクルト本社', 'アミカス・セラピューティクス', 'キッセイ薬品工業', 'クラシエ製薬', '興和', '日医工', '堀井薬品工業', 'クリニジェン', '陽進堂', 'ファイザーＵＰＪ', '鈴粉末薬品', 'ジェーピーエス製薬', 'アボットジャパン', '第一三共', 'グラフィコ', '帝國漢方製薬', '大塚製薬工場', '旭化成ファーマ', '日東電工', '富士製薬工業', '大杉製薬', 'サンケミファ', 'ヴィアトリス製薬', 'シオノギファーマ', '日本たばこ産業', 'フヂミ製薬所', 'ヴィーブヘルスケア', 'ＬＴＬファーマ', '富士フイルムワコーケミカル', 'アサヒグループ食品', '味の素製薬', 'ビオメディクス', 'アステラス製薬', '健栄製薬', 'ブリストル・マイヤーズ', '日本点眼薬研究所', '皇漢堂製薬', 'ニプロＥＳファーマ', '薬師製薬', 'グラクソ・スミスクライン・コンシューマー・ヘルスケア・ジャパン', '日本ベーリンガーインゲルハイム', '東興薬品工業', 'ケミックス', 'スキャンポファーマ', '武田テバ薬品', 'マイラン製薬', 'シャイアー・ジャパン', '小林化工', 'ローマン工業', '高田製薬', 'ニプロパッチ', '沢井製薬', '小野薬品工業', '協和発酵キリン', 'エフピー', 'バイオジェン・ジャパン', '康和薬通', 'レオファーマ', '昭和製薬', '富士化学工業', 'シー・エイチ・オー新薬', 'ミヤリサン製薬', 'アスペンジャパン', '高杉製薬', 'ＫＭバイオロジクス', 'ヤクハン製薬', '佐藤製薬', '同仁医薬化工', '鳥居薬品', '原沢製薬工業', '日本化薬', '小堺製薬', '日本ビーシージー製造', '東菱薬品工業', '鶴原製薬', '昭和薬品化工', '今津薬品工業', 'Ｈｕｙａ\\u3000Ｊａｐａｎ', '日本ジェネリック', '日東薬品工業', '日興製薬', '大日本住友製薬', '日本臓器製薬', '太陽ファルマ', 'スミス・アンド・ネフュー\\u3000ウンドマネジメント', '日本薬品工業', '丸石製薬', 'エルメッド\\u3000エーザイ', '森下仁丹', '雪印メグミルク', '廣貫堂', '前田薬品工業', 'サンノーバ', '摩耶堂製薬', '日産化学工業', 'アッヴィ', 'バクスター', 'アクテリオン\\u3000ファーマシューティカルズジャパン', '祐徳薬品工業', 'ＤＳファーマプロモ', 'シオエ製薬', '扶桑薬品工業', 'メドレックス', 'Ｍｅ\\u3000ファルマ', 'レコルダティ・レア・ディジーズ・ジャパン', '日産化学', '辰巳化学', 'エイワイファーマ', 'ヤンセンファーマ', '富士フイルムＲＩファーマ', '東レ・メディカル', '阪本漢法製薬', '大晃生薬', '小池メディカル', 'ノボ\\u3000ノルディスク\\u3000ファーマ', '三笠製薬', 'イーエヌ大塚製薬', '参天製薬', 'ジェンザイム・ジャパン', '佐藤薬品工業', '浜理薬品工業', '大鵬薬品工業', '救急薬品工業', '千寿製薬', 'トライックス', 'ニプロファーマ', '大原薬品工業', '和歌山酸素', '京都薬品工業', '遼東化学工業', '大正薬品工業', '大木製薬', 'オーファンパシフィック', '積水メディカル', 'インスメッド', 'ニッテン', '兼一薬品工業', '協和化学工業', '寿製薬', 'エイエムオー・ジャパン', 'サンファーマ', 'タツミ薬品工業', 'あゆみ製薬', 'ＩＬＳ', '天藤製薬', '富士フイルム富山化学', '大蔵製薬', '東洋製薬化成', '全薬工業', 'あすか製薬', 'ジェイドルフ製薬', 'サンドファーマ', 'エムジーファーマ', 'アールテック・ウエノ', '東海製薬', 'ジョンソン・エンド・ジョンソン', '三恵薬品', 'ムンディファーマ', 'コーアバイオテックベイ', '吉田養真堂', '三和化学研究所', '大協薬品工業', 'ウチダ和漢薬', '帝人ファーマ', 'アサヒフードアンドヘルスケア', 'スミス・アンド・ネフュー', '長生堂製薬', '参天アイケア', '東光薬品工業', 'ツムラ', '日本ケミファ', '栃本天海堂', '富山化学工業', '東レ', '星医療酸器', '協和キリン', '共栄製薬', 'ムネ製薬', '日本家庭用塩', '帝國製薬', '岩城製薬', '第一三共プロファーマ', '藤永製薬', 'リードケミカル', 'カイゲンファーマ', 'テイカ製薬', 'シオノケミカル', 'マイランＥＰＤ', 'ガルデルマ', '小財家興産', '日医工ファーマ', '小太郎漢方製薬', 'ワコーケミカル', '持田製薬販売', 'ＳＢＩファーマ', 'オオサキメディカル', '富士フイルムファーマ', 'オルガノン', '化研生薬', 'アムジェン', '共和クリティケア', '三全製薬', 'ノバルティス\\u3000ファーマ', '大和薬品工業', 'フェリング・ファーマ', '田辺三菱製薬工場', '小島漢方', 'ニプロ', 'マルホ', '東亜薬品工業', '持田製薬', 'グラクソ・スミスクライン', 'レコルダティ・レア・ディシーズ・ジャパン', '大塚製薬', '藤本製薬', '協和新薬', 'ホシエヌ製薬', 'メルクセローノ', '福地製薬', '日本粉末薬品', '山善製薬', 'コーアイセイ', '金田直隆商店', 'ＤＳファーマバイオメディカル', 'メディサ新薬', 'ダイト', '化学及血清療法研究所', '日医工サノフィ', '司生堂製薬', '東豊薬品', '太虎精堂製薬', 'バイエル薬品', 'ブリストル・マイヤーズ\\u3000スクイブ', 'リョートーファイン', 'ゼリア新薬工業', '松浦薬業', '日本アルコン', 'ポーラファルマ', 'わかもと製薬', '甘糟化学産業', 'インサイト・バイオサイエンシズ・ジャパン', 'ノーベルファーマ', 'サンド', '昭和電工', '日本製薬', '田辺三菱製薬', '安西メディカル', '日本イーライリリー', 'ビーブランド・メディコーデンタル', 'ＭＳＤ', '武田テバファーマ', 'ツキオカフィルム製薬', '塩野義製薬', '富田製薬', 'あすかＡｃｔａｖｉｓ製薬', 'Ｍｅｉｊｉ\\u3000Ｓｅｉｋａ\\u3000ファルマ', '高砂薬業', '久光製薬', 'セルジーン', '中外製薬', '日東メディック', 'ミノファーゲン製薬', 'トクホン', 'ゾンネボード製薬', '東亜薬品', 'ギリアド・サイエンシズ', 'フェルゼンファーマ', '龍角散', 'そーせい', '大石膏盛堂', 'アトルファーマ', '東和製薬：和歌山', '伏見製薬所', 'エール薬品', '本草製薬', 'エルメッド', '池田薬品工業', '三和生薬', '堀江生薬', '国産薬品工業', '日本新薬', '恵美須薬品化工', '三友薬品', '日本メジフィジックス', '富士薬品', 'クレハ', 'ライオン', 'ＡＥＧＥＲＩＯＮ\\u3000ＰＨＡＲＭＡＣＥＵＴＩＣＡＬＳ', '東和薬品', '大興製薬', '日本エア・リキード', 'ザイダスファーマ', 'タカミツ', '吉田製薬', 'ビオフェルミン製薬', 'サノフィ', '東洋薬行', 'サラヤ', '共創未来ファーマ', '明治薬品', 'トーヨーケム', 'ＣＳＬベーリング', '杏林製薬', 'テバ製薬', '武田薬品工業', 'セオリアファーマ', '東海カプセル', '資生堂', 'キョーリンリメディオ', '東洋カプセル', '全星薬品工業', '科研製薬', '第一薬品産業', '岡山大鵬薬品', 'ＥＡファーマ', '大成薬品工業', 'ナガセ医薬品', '東亞合成', '中北薬品', '第一三共エスファ', '大峰堂薬品工業', '大正製薬', '日医工岐阜工場', 'トーアエイヨー', '明治', 'エーザイ'}\n"
     ]
    }
   ],
   "source": [
    "print(set(firm_data[\"メーカー名\"]))"
   ]
  },
  {
   "cell_type": "code",
   "execution_count": 265,
   "metadata": {},
   "outputs": [
    {
     "name": "stdout",
     "output_type": "stream",
     "text": [
      "initial 2671\n"
     ]
    }
   ],
   "source": [
    "data_ndb=pd.read_csv(\"../merged/len3_ndb_blp_DN.csv\",encoding=\"shift-jis\",index_col=0)\n",
    "# data_n=data_n[data_n[\"year\"]>=2018]\n",
    "print(\"initial\",len(set(data_ndb[\"薬価基準収載医薬品コード\"])))"
   ]
  },
  {
   "cell_type": "code",
   "execution_count": 266,
   "metadata": {},
   "outputs": [
    {
     "data": {
      "text/plain": [
       "Index(['薬効分類', '薬効分類名称', '医薬品コード', '医薬品名', '薬価基準収載医薬品コード', '薬価', '後発品区分', '総計',\n",
       "       'year', 'in_hospital',\n",
       "       ...\n",
       "       'id_625.0', 'id_629.0', 'id_799.0', 'q_share', 'r_share',\n",
       "       'generic_share_q', 'generic_share_r', 'lag_generic_share_q',\n",
       "       'mean_price_g', 'mean_price_b'],\n",
       "      dtype='object', length=112)"
      ]
     },
     "execution_count": 266,
     "metadata": {},
     "output_type": "execute_result"
    }
   ],
   "source": [
    "data_ndb.columns"
   ]
  },
  {
   "cell_type": "code",
   "execution_count": 267,
   "metadata": {},
   "outputs": [
    {
     "data": {
      "text/plain": [
       "207"
      ]
     },
     "execution_count": 267,
     "metadata": {},
     "output_type": "execute_result"
    }
   ],
   "source": [
    "len(set(data_ndb[\"薬価基準収載医薬品コード\"]) - set(firm_data[\"薬価基準収載医薬品コード\"]))"
   ]
  },
  {
   "cell_type": "code",
   "execution_count": 268,
   "metadata": {},
   "outputs": [
    {
     "data": {
      "text/plain": [
       "(25798, 112)"
      ]
     },
     "execution_count": 268,
     "metadata": {},
     "output_type": "execute_result"
    }
   ],
   "source": [
    "data_ndb.shape"
   ]
  },
  {
   "cell_type": "code",
   "execution_count": 269,
   "metadata": {},
   "outputs": [
    {
     "data": {
      "text/plain": [
       "Index(['薬効分類', '薬効分類名称', '医薬品コード', '医薬品名', '薬価基準収載医薬品コード', '薬価', '後発品区分', '総計',\n",
       "       'year', 'in_hospital',\n",
       "       ...\n",
       "       'id_625.0', 'id_629.0', 'id_799.0', 'q_share', 'r_share',\n",
       "       'generic_share_q', 'generic_share_r', 'lag_generic_share_q',\n",
       "       'mean_price_g', 'mean_price_b'],\n",
       "      dtype='object', length=112)"
      ]
     },
     "execution_count": 269,
     "metadata": {},
     "output_type": "execute_result"
    }
   ],
   "source": [
    "data_ndb.columns"
   ]
  },
  {
   "cell_type": "code",
   "execution_count": 270,
   "metadata": {},
   "outputs": [
    {
     "data": {
      "text/plain": [
       "0"
      ]
     },
     "execution_count": 270,
     "metadata": {},
     "output_type": "execute_result"
    }
   ],
   "source": [
    "data_ndb.duplicated(subset=['year', \"医薬品コード\",\"in_hospital\"],keep=False).sum()"
   ]
  },
  {
   "cell_type": "markdown",
   "metadata": {},
   "source": [
    "yearを最初は入れない"
   ]
  },
  {
   "cell_type": "code",
   "execution_count": 271,
   "metadata": {},
   "outputs": [
    {
     "name": "stdout",
     "output_type": "stream",
     "text": [
      "(25701, 133) (3739, 133)\n",
      "both          21962\n",
      "left_only      3739\n",
      "right_only        0\n",
      "Name: _merge, dtype: int64\n"
     ]
    }
   ],
   "source": [
    "# data_tmp=data_ndb.merge(firm_data,on=[\"薬価基準収載医薬品コード\"],how=\"left\",indicator=True)\n",
    "# condition = (data_tmp['year_x'] != data_tmp['year_y']) & data_tmp.duplicated(subset=['year_x', \"医薬品コード\",\"in_hospital\"], keep=False)\n",
    "# # condition =  data_tmp.duplicated(subset=['year_x', \"医薬品コード\",\"in_hospital\"],keep=False)\n",
    "# data_tmp = data_tmp[~condition]\n",
    "# data_left_only=data_ndb.merge(firm_data,on=[\"薬価基準収載医薬品コード\"],how=\"left\",indicator=True).query('_merge == \"left_only\"')\n",
    "# print(data_tmp.shape,data_left_only.shape)\n",
    "# print(data_tmp[\"_merge\"].value_counts())"
   ]
  },
  {
   "cell_type": "code",
   "execution_count": 272,
   "metadata": {},
   "outputs": [],
   "source": [
    "# duplicated かつ一つもyearが一致しないものがある?\n",
    "# condition =  data_tmp.duplicated(subset=['year_x', \"医薬品コード\",\"in_hospital\"],keep=False)\n",
    "# data_tmp = data_tmp[condition]\n",
    "# data_tmp[[\"in_hospital\",\"医薬品コード\",\"year_x\"]].value_counts()\n",
    "# data_tmp2=data_tmp[~(data_tmp['year_x'] != data_tmp['year_y'])]\n",
    "# data_tmp2[[\"in_hospital\",\"医薬品コード\",\"year_x\"]].value_counts()\n",
    "# set(map(tuple,data_tmp[[\"in_hospital\",\"医薬品名\",\"year_x\"]].to_records(index=False)))-set(map(tuple,data_tmp2[[\"in_hospital\",\"医薬品名\",\"year_x\"]].to_records(index=False)))\n",
    "# len(set(data_left_only[\"薬価基準収載医薬品コード\"]))"
   ]
  },
  {
   "cell_type": "markdown",
   "metadata": {},
   "source": [
    "year を入れてもうまくいく"
   ]
  },
  {
   "cell_type": "code",
   "execution_count": 273,
   "metadata": {},
   "outputs": [
    {
     "name": "stdout",
     "output_type": "stream",
     "text": [
      "(25798, 132) (3836, 132)\n",
      "both          21962\n",
      "left_only      3836\n",
      "right_only        0\n",
      "Name: _merge, dtype: int64\n"
     ]
    }
   ],
   "source": [
    "data_tmp=data_ndb.merge(firm_data,on=[\"薬価基準収載医薬品コード\",\"year\"],how=\"left\",indicator=True)\n",
    "data_left_only=data_ndb.merge(firm_data,on=[\"薬価基準収載医薬品コード\",\"year\"],how=\"left\",indicator=True).query('_merge == \"left_only\"')\n",
    "print(data_tmp.shape,data_left_only.shape)\n",
    "print(data_tmp[\"_merge\"].value_counts())"
   ]
  },
  {
   "cell_type": "code",
   "execution_count": 274,
   "metadata": {},
   "outputs": [
    {
     "name": "stdout",
     "output_type": "stream",
     "text": [
      "Empty DataFrame\n",
      "Columns: [year, 医薬品コード, メーカー名, in_hospital]\n",
      "Index: []\n"
     ]
    }
   ],
   "source": [
    "dups=data_tmp[data_tmp.duplicated(subset=[\"year\",\"医薬品コード\",\"in_hospital\"],keep=False)]\n",
    "print(dups[[\"year\",\"医薬品コード\",\"メーカー名\",\"in_hospital\"]])"
   ]
  },
  {
   "cell_type": "code",
   "execution_count": 275,
   "metadata": {},
   "outputs": [
    {
     "data": {
      "text/plain": [
       "207"
      ]
     },
     "execution_count": 275,
     "metadata": {},
     "output_type": "execute_result"
    }
   ],
   "source": [
    "len(set(data_left_only[\"薬価基準収載医薬品コード\"])-set(firm_data[\"薬価基準収載医薬品コード\"]))"
   ]
  }
 ],
 "metadata": {
  "kernelspec": {
   "display_name": "Python 3",
   "language": "python",
   "name": "python3"
  },
  "language_info": {
   "codemirror_mode": {
    "name": "ipython",
    "version": 3
   },
   "file_extension": ".py",
   "mimetype": "text/x-python",
   "name": "python",
   "nbconvert_exporter": "python",
   "pygments_lexer": "ipython3",
   "version": "3.10.4"
  },
  "orig_nbformat": 4
 },
 "nbformat": 4,
 "nbformat_minor": 2
}
