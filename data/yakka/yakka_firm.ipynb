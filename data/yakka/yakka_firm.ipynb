{
 "cells": [
  {
   "cell_type": "code",
   "execution_count": 1,
   "metadata": {},
   "outputs": [],
   "source": [
    "import pandas as pd\n",
    "import numpy as np\n",
    "import os"
   ]
  },
  {
   "cell_type": "code",
   "execution_count": 2,
   "metadata": {},
   "outputs": [
    {
     "name": "stdout",
     "output_type": "stream",
     "text": [
      "2014 tp20151211-01_1.xls\n",
      "2014 tp20151211-01_3.xls\n",
      "2015 tp20151211-01_1.xls\n",
      "2015 tp20151211-01_3.xls\n",
      "2016 tp20180314-01_1.xls\n",
      "2016 tp20171208-01_3.xls\n",
      "2017 tp20180314-01_1.xls\n",
      "2017 tp20171208-01_3.xls\n",
      "2018 tp20190904-01_01.xls\n",
      "2018 tp20190904-01_03.xls\n",
      "2019 tp20200122-01_01.xls\n",
      "2019 tp20200122-01_03.xls\n",
      "2020 tp20210218-01_01.xlsx\n",
      "2020 tp20210218-01_03.xlsx\n",
      "2021 tp20220201-01_01.xlsx\n",
      "2021 tp20211210-01_03.xlsx\n"
     ]
    }
   ],
   "source": [
    "# 開始年\n",
    "start_y=2014\n",
    "# dfにするファイル名\n",
    "files=[\n",
    "'tp20151211-01_1.xls',\n",
    "'tp20151211-01_3.xls',\n",
    "'tp20151211-01_1.xls',\n",
    "'tp20151211-01_3.xls',\n",
    "'tp20180314-01_1.xls',\n",
    "'tp20171208-01_3.xls',\n",
    "'tp20180314-01_1.xls',\n",
    "'tp20171208-01_3.xls',\n",
    "'tp20190904-01_01.xls',\n",
    "'tp20190904-01_03.xls',\n",
    "'tp20200122-01_01.xls',\n",
    "'tp20200122-01_03.xls',\n",
    "'tp20210218-01_01.xlsx',\n",
    "'tp20210218-01_03.xlsx',\n",
    "'tp20220201-01_01.xlsx',\n",
    "'tp20211210-01_03.xlsx']\n",
    "for i,name in enumerate(files):\n",
    "    print(start_y+i//2,name)"
   ]
  },
  {
   "cell_type": "markdown",
   "metadata": {},
   "source": [
    "なぜ複雑な処理をするかというと、年度ごとに生産企業名が変わっていたり、年度途中で追加、廃止されたりしていて、ndbのほうとラグが出ているために、うまくjoinできない場合があるから"
   ]
  },
  {
   "cell_type": "markdown",
   "metadata": {},
   "source": [
    "header"
   ]
  },
  {
   "cell_type": "code",
   "execution_count": 3,
   "metadata": {},
   "outputs": [
    {
     "name": "stdout",
     "output_type": "stream",
     "text": [
      "['区分', '薬価基準収載医薬品コード', '成分名', '規格', '品名', 'メーカー名', '診療報酬において加算等の算定対象となる後発医薬品', '先発医薬品', '同一剤形・規格の後発医薬品がある先発医薬品', '薬価', '経過措置による使用期限', '備考']\n"
     ]
    }
   ],
   "source": [
    "# header for -2014\n",
    "str=\"区分\t薬価基準収載医薬品コード\t成分名\t規格\t品名\t\t\tメーカー名\t診療報酬において加算等の算定対象となる後発医薬品\t先発医薬品\t同一剤形・規格の後発医薬品がある先発医薬品\t薬価\t経過措置による使用期限\t備考\"\n",
    "str=str.split()\n",
    "print(str)\n",
    "header0=['区分', '薬価基準収載医薬品コード', '成分名', '規格',\"局方\",\"麻薬\", '品名', 'メーカー名', '診療報酬において加算等の算定対象となる後発医薬品', '先発医薬品', '同一剤形・規格の後発医薬品がある先発医薬品', '薬価', '経過措置による使用期限', '備考']"
   ]
  },
  {
   "cell_type": "code",
   "execution_count": 4,
   "metadata": {},
   "outputs": [],
   "source": [
    "# 2015 1\n",
    "header0=['区分', '薬価基準収載医薬品コード', '成分名', '規格',\"局方\",\"麻薬\",\"kome\",'品名', 'メーカー名', '診療報酬において加算等の算定対象となる後発医薬品', '先発医薬品', '同一剤形・規格の後発医薬品がある先発医薬品', '薬価', '経過措置による使用期限', '備考',\"a\",\"b\",\"c\",\"d\"]\n",
    "# 2015 3\n",
    "header1=['区分', '薬価基準収載医薬品コード', '成分名', '規格',\"局方\",\"麻薬\",\"kome\",'品名', 'メーカー名', '診療報酬において加算等の算定対象となる後発医薬品', '先発医薬品', '同一剤形・規格の後発医薬品がある先発医薬品', '薬価', '経過措置による使用期限', '備考']\n",
    "# -2018\n",
    "header2=['区分', '薬価基準収載医薬品コード', '成分名', '規格',\"局方\",\"麻薬\",\"kome\", '品名', 'メーカー名', '診療報酬において加算等の算定対象となる後発医薬品', '先発医薬品', '同一剤形・規格の後発医薬品がある先発医薬品', '薬価', '経過措置による使用期限', '備考']"
   ]
  },
  {
   "cell_type": "code",
   "execution_count": 5,
   "metadata": {},
   "outputs": [
    {
     "data": {
      "text/html": [
       "<div>\n",
       "<style scoped>\n",
       "    .dataframe tbody tr th:only-of-type {\n",
       "        vertical-align: middle;\n",
       "    }\n",
       "\n",
       "    .dataframe tbody tr th {\n",
       "        vertical-align: top;\n",
       "    }\n",
       "\n",
       "    .dataframe thead th {\n",
       "        text-align: right;\n",
       "    }\n",
       "</style>\n",
       "<table border=\"1\" class=\"dataframe\">\n",
       "  <thead>\n",
       "    <tr style=\"text-align: right;\">\n",
       "      <th></th>\n",
       "      <th>区分</th>\n",
       "      <th>薬価基準収載医薬品コード</th>\n",
       "      <th>成分名</th>\n",
       "      <th>規格</th>\n",
       "      <th>局方</th>\n",
       "      <th>麻薬</th>\n",
       "      <th>kome</th>\n",
       "      <th>品名</th>\n",
       "      <th>メーカー名</th>\n",
       "      <th>診療報酬において加算等の算定対象となる後発医薬品</th>\n",
       "      <th>先発医薬品</th>\n",
       "      <th>同一剤形・規格の後発医薬品がある先発医薬品</th>\n",
       "      <th>薬価</th>\n",
       "      <th>経過措置による使用期限</th>\n",
       "      <th>備考</th>\n",
       "    </tr>\n",
       "  </thead>\n",
       "  <tbody>\n",
       "    <tr>\n",
       "      <th>0</th>\n",
       "      <td>外用薬</td>\n",
       "      <td>1112700X1011</td>\n",
       "      <td>ハロタン</td>\n",
       "      <td>１ｍＬ</td>\n",
       "      <td>局</td>\n",
       "      <td>NaN</td>\n",
       "      <td>NaN</td>\n",
       "      <td>ハロタン</td>\n",
       "      <td>NaN</td>\n",
       "      <td>NaN</td>\n",
       "      <td>NaN</td>\n",
       "      <td>NaN</td>\n",
       "      <td>54.4</td>\n",
       "      <td>NaN</td>\n",
       "      <td>NaN</td>\n",
       "    </tr>\n",
       "    <tr>\n",
       "      <th>1</th>\n",
       "      <td>外用薬</td>\n",
       "      <td>1114700X1016</td>\n",
       "      <td>麻酔用エーテル</td>\n",
       "      <td>１ｍＬ</td>\n",
       "      <td>局</td>\n",
       "      <td>NaN</td>\n",
       "      <td>NaN</td>\n",
       "      <td>麻酔用エーテル</td>\n",
       "      <td>NaN</td>\n",
       "      <td>NaN</td>\n",
       "      <td>NaN</td>\n",
       "      <td>NaN</td>\n",
       "      <td>9.4</td>\n",
       "      <td>NaN</td>\n",
       "      <td>NaN</td>\n",
       "    </tr>\n",
       "    <tr>\n",
       "      <th>2</th>\n",
       "      <td>外用薬</td>\n",
       "      <td>1116700X1010</td>\n",
       "      <td>亜酸化窒素</td>\n",
       "      <td>１ｇ</td>\n",
       "      <td>局</td>\n",
       "      <td>NaN</td>\n",
       "      <td>NaN</td>\n",
       "      <td>亜酸化窒素</td>\n",
       "      <td>NaN</td>\n",
       "      <td>NaN</td>\n",
       "      <td>NaN</td>\n",
       "      <td>NaN</td>\n",
       "      <td>3.9</td>\n",
       "      <td>NaN</td>\n",
       "      <td>NaN</td>\n",
       "    </tr>\n",
       "    <tr>\n",
       "      <th>3</th>\n",
       "      <td>外用薬</td>\n",
       "      <td>1116700X1045</td>\n",
       "      <td>亜酸化窒素</td>\n",
       "      <td>１ｇ</td>\n",
       "      <td>局</td>\n",
       "      <td>NaN</td>\n",
       "      <td>NaN</td>\n",
       "      <td>マルワ亜酸化窒素</td>\n",
       "      <td>和歌山酸素</td>\n",
       "      <td>NaN</td>\n",
       "      <td>NaN</td>\n",
       "      <td>NaN</td>\n",
       "      <td>4.3</td>\n",
       "      <td>NaN</td>\n",
       "      <td>NaN</td>\n",
       "    </tr>\n",
       "    <tr>\n",
       "      <th>4</th>\n",
       "      <td>外用薬</td>\n",
       "      <td>1116700X1053</td>\n",
       "      <td>亜酸化窒素</td>\n",
       "      <td>１ｇ</td>\n",
       "      <td>局</td>\n",
       "      <td>NaN</td>\n",
       "      <td>※</td>\n",
       "      <td>液化亜酸化窒素（日本エア・リキード）</td>\n",
       "      <td>日本エア・リキード</td>\n",
       "      <td>NaN</td>\n",
       "      <td>NaN</td>\n",
       "      <td>NaN</td>\n",
       "      <td>4.3</td>\n",
       "      <td>NaN</td>\n",
       "      <td>NaN</td>\n",
       "    </tr>\n",
       "    <tr>\n",
       "      <th>...</th>\n",
       "      <td>...</td>\n",
       "      <td>...</td>\n",
       "      <td>...</td>\n",
       "      <td>...</td>\n",
       "      <td>...</td>\n",
       "      <td>...</td>\n",
       "      <td>...</td>\n",
       "      <td>...</td>\n",
       "      <td>...</td>\n",
       "      <td>...</td>\n",
       "      <td>...</td>\n",
       "      <td>...</td>\n",
       "      <td>...</td>\n",
       "      <td>...</td>\n",
       "      <td>...</td>\n",
       "    </tr>\n",
       "    <tr>\n",
       "      <th>2609</th>\n",
       "      <td>外用薬</td>\n",
       "      <td>8219701S1025</td>\n",
       "      <td>フェンタニルクエン酸塩</td>\n",
       "      <td>１ｍｇ１枚</td>\n",
       "      <td>NaN</td>\n",
       "      <td>麻</td>\n",
       "      <td>NaN</td>\n",
       "      <td>フェントステープ１ｍｇ</td>\n",
       "      <td>久光製薬</td>\n",
       "      <td>NaN</td>\n",
       "      <td>先発品</td>\n",
       "      <td>NaN</td>\n",
       "      <td>586.9</td>\n",
       "      <td>NaN</td>\n",
       "      <td>NaN</td>\n",
       "    </tr>\n",
       "    <tr>\n",
       "      <th>2610</th>\n",
       "      <td>外用薬</td>\n",
       "      <td>8219701S2021</td>\n",
       "      <td>フェンタニルクエン酸塩</td>\n",
       "      <td>２ｍｇ１枚</td>\n",
       "      <td>NaN</td>\n",
       "      <td>麻</td>\n",
       "      <td>NaN</td>\n",
       "      <td>フェントステープ２ｍｇ</td>\n",
       "      <td>久光製薬</td>\n",
       "      <td>NaN</td>\n",
       "      <td>先発品</td>\n",
       "      <td>NaN</td>\n",
       "      <td>1094.0</td>\n",
       "      <td>NaN</td>\n",
       "      <td>NaN</td>\n",
       "    </tr>\n",
       "    <tr>\n",
       "      <th>2611</th>\n",
       "      <td>外用薬</td>\n",
       "      <td>8219701S3028</td>\n",
       "      <td>フェンタニルクエン酸塩</td>\n",
       "      <td>４ｍｇ１枚</td>\n",
       "      <td>NaN</td>\n",
       "      <td>麻</td>\n",
       "      <td>NaN</td>\n",
       "      <td>フェントステープ４ｍｇ</td>\n",
       "      <td>久光製薬</td>\n",
       "      <td>NaN</td>\n",
       "      <td>先発品</td>\n",
       "      <td>NaN</td>\n",
       "      <td>2039.0</td>\n",
       "      <td>NaN</td>\n",
       "      <td>NaN</td>\n",
       "    </tr>\n",
       "    <tr>\n",
       "      <th>2612</th>\n",
       "      <td>外用薬</td>\n",
       "      <td>8219701S4024</td>\n",
       "      <td>フェンタニルクエン酸塩</td>\n",
       "      <td>６ｍｇ１枚</td>\n",
       "      <td>NaN</td>\n",
       "      <td>麻</td>\n",
       "      <td>NaN</td>\n",
       "      <td>フェントステープ６ｍｇ</td>\n",
       "      <td>久光製薬</td>\n",
       "      <td>NaN</td>\n",
       "      <td>先発品</td>\n",
       "      <td>NaN</td>\n",
       "      <td>2935.1</td>\n",
       "      <td>NaN</td>\n",
       "      <td>NaN</td>\n",
       "    </tr>\n",
       "    <tr>\n",
       "      <th>2613</th>\n",
       "      <td>外用薬</td>\n",
       "      <td>8219701S5020</td>\n",
       "      <td>フェンタニルクエン酸塩</td>\n",
       "      <td>８ｍｇ１枚</td>\n",
       "      <td>NaN</td>\n",
       "      <td>麻</td>\n",
       "      <td>NaN</td>\n",
       "      <td>フェントステープ８ｍｇ</td>\n",
       "      <td>久光製薬</td>\n",
       "      <td>NaN</td>\n",
       "      <td>先発品</td>\n",
       "      <td>NaN</td>\n",
       "      <td>3800.7</td>\n",
       "      <td>NaN</td>\n",
       "      <td>NaN</td>\n",
       "    </tr>\n",
       "  </tbody>\n",
       "</table>\n",
       "<p>2614 rows × 15 columns</p>\n",
       "</div>"
      ],
      "text/plain": [
       "       区分  薬価基準収載医薬品コード          成分名     規格   局方   麻薬 kome  \\\n",
       "0     外用薬  1112700X1011         ハロタン    １ｍＬ    局  NaN  NaN   \n",
       "1     外用薬  1114700X1016      麻酔用エーテル    １ｍＬ    局  NaN  NaN   \n",
       "2     外用薬  1116700X1010        亜酸化窒素     １ｇ    局  NaN  NaN   \n",
       "3     外用薬  1116700X1045        亜酸化窒素     １ｇ    局  NaN  NaN   \n",
       "4     外用薬  1116700X1053        亜酸化窒素     １ｇ    局  NaN    ※   \n",
       "...   ...           ...          ...    ...  ...  ...  ...   \n",
       "2609  外用薬  8219701S1025  フェンタニルクエン酸塩  １ｍｇ１枚  NaN    麻  NaN   \n",
       "2610  外用薬  8219701S2021  フェンタニルクエン酸塩  ２ｍｇ１枚  NaN    麻  NaN   \n",
       "2611  外用薬  8219701S3028  フェンタニルクエン酸塩  ４ｍｇ１枚  NaN    麻  NaN   \n",
       "2612  外用薬  8219701S4024  フェンタニルクエン酸塩  ６ｍｇ１枚  NaN    麻  NaN   \n",
       "2613  外用薬  8219701S5020  フェンタニルクエン酸塩  ８ｍｇ１枚  NaN    麻  NaN   \n",
       "\n",
       "                      品名      メーカー名 診療報酬において加算等の算定対象となる後発医薬品 先発医薬品  \\\n",
       "0                   ハロタン        NaN                      NaN   NaN   \n",
       "1                麻酔用エーテル        NaN                      NaN   NaN   \n",
       "2                  亜酸化窒素        NaN                      NaN   NaN   \n",
       "3               マルワ亜酸化窒素      和歌山酸素                      NaN   NaN   \n",
       "4     液化亜酸化窒素（日本エア・リキード）  日本エア・リキード                      NaN   NaN   \n",
       "...                  ...        ...                      ...   ...   \n",
       "2609         フェントステープ１ｍｇ       久光製薬                      NaN   先発品   \n",
       "2610         フェントステープ２ｍｇ       久光製薬                      NaN   先発品   \n",
       "2611         フェントステープ４ｍｇ       久光製薬                      NaN   先発品   \n",
       "2612         フェントステープ６ｍｇ       久光製薬                      NaN   先発品   \n",
       "2613         フェントステープ８ｍｇ       久光製薬                      NaN   先発品   \n",
       "\n",
       "     同一剤形・規格の後発医薬品がある先発医薬品      薬価 経過措置による使用期限   備考  \n",
       "0                      NaN    54.4         NaN  NaN  \n",
       "1                      NaN     9.4         NaN  NaN  \n",
       "2                      NaN     3.9         NaN  NaN  \n",
       "3                      NaN     4.3         NaN  NaN  \n",
       "4                      NaN     4.3         NaN  NaN  \n",
       "...                    ...     ...         ...  ...  \n",
       "2609                   NaN   586.9         NaN  NaN  \n",
       "2610                   NaN  1094.0         NaN  NaN  \n",
       "2611                   NaN  2039.0         NaN  NaN  \n",
       "2612                   NaN  2935.1         NaN  NaN  \n",
       "2613                   NaN  3800.7         NaN  NaN  \n",
       "\n",
       "[2614 rows x 15 columns]"
      ]
     },
     "execution_count": 5,
     "metadata": {},
     "output_type": "execute_result"
    }
   ],
   "source": [
    "header0=['区分', '薬価基準収載医薬品コード', '成分名', '規格',\"局方\",\"麻薬\",\"kome\",'品名', 'メーカー名', '診療報酬において加算等の算定対象となる後発医薬品', '先発医薬品', '同一剤形・規格の後発医薬品がある先発医薬品', '薬価', '経過措置による使用期限', '備考',\"a\",\"b\",\"c\",\"d\"]\n",
    "header1=['区分', '薬価基準収載医薬品コード', '成分名', '規格',\"局方\",\"麻薬\",\"kome\",'品名', 'メーカー名', '診療報酬において加算等の算定対象となる後発医薬品', '先発医薬品', '同一剤形・規格の後発医薬品がある先発医薬品', '薬価', '経過措置による使用期限', '備考']\n",
    "data_i=pd.read_excel(f\"./datafiles/tp20151211-01_1.xls\",names=header0)\n",
    "data_i=pd.read_excel(f\"./datafiles/tp20151211-01_3.xls\",names=header1)\n",
    "data_i\n"
   ]
  },
  {
   "cell_type": "code",
   "execution_count": 6,
   "metadata": {},
   "outputs": [
    {
     "name": "stdout",
     "output_type": "stream",
     "text": [
      "2014 tp20151211-01_1.xls\n",
      "2014 tp20151211-01_3.xls\n",
      "2015 tp20151211-01_1.xls\n",
      "2015 tp20151211-01_3.xls\n",
      "2016 tp20180314-01_1.xls\n",
      "2016 tp20171208-01_3.xls\n",
      "2017 tp20180314-01_1.xls\n",
      "2017 tp20171208-01_3.xls\n",
      "2018 tp20190904-01_01.xls\n",
      "2018 tp20190904-01_03.xls\n",
      "2019 tp20200122-01_01.xls\n",
      "2019 tp20200122-01_03.xls\n",
      "2020 tp20210218-01_01.xlsx\n",
      "2020 tp20210218-01_03.xlsx\n",
      "2021 tp20220201-01_01.xlsx\n",
      "2021 tp20211210-01_03.xlsx\n"
     ]
    }
   ],
   "source": [
    "firm_data=pd.DataFrame()\n",
    "for i,name in enumerate(files):\n",
    "    print(start_y+i//2,name)\n",
    "    this_year = start_y+i//2\n",
    "    last_year = (start_y+i//2)-1\n",
    "    if this_year<=2015 and i%2==0:\n",
    "        data_i=pd.read_excel(f\"./datafiles/{name}\",names=header0)\n",
    "    elif this_year<=2015 and i%2==1:\n",
    "        data_i=pd.read_excel(f\"./datafiles/{name}\",names=header1)\n",
    "    else:\n",
    "        data_i=pd.read_excel(f\"./datafiles/{name}\",names=header2)\n",
    "    data_i['year']=start_y+i//2\n",
    "    firm_data = pd.concat([firm_data,data_i],axis=0,ignore_index=True)\n",
    "    # continue\n",
    "    # 1年に1回のみ実行\n",
    "    if i%2==1 and this_year>=2015:\n",
    "        # 現在のDataFrameから年とIDの組み合わせを取得\n",
    "        # firm_data_2y=firm_data[firm_data['year']>=(last_year)]\n",
    "        firm_data_last=firm_data[firm_data['year']==(last_year)]\n",
    "        firm_data_this=firm_data[firm_data['year']==(this_year)]\n",
    "        set_this=set(firm_data_this[\"薬価基準収載医薬品コード\"])\n",
    "        set_last=set(firm_data_last[\"薬価基準収載医薬品コード\"])\n",
    "        # existing_combinations = set(zip(firm_data_2y['year'], firm_data_2y[\"薬価基準収載医薬品コード\"]))\n",
    "        # this yearにだけある\n",
    "        set_this_m_last=set_this-set_last\n",
    "        # last year にだけある\n",
    "        set_last_m_this=set_last-set_this\n",
    "\n",
    "        # 去年に、今年のIDがない場合、今年のIDを持つ行をコピー、昨年に対応する行を作成\n",
    "        new_rows = []\n",
    "        for id in set_this_m_last:\n",
    "            this_year_row = firm_data[(firm_data['year'] == this_year) & (firm_data[\"薬価基準収載医薬品コード\"] == id)]\n",
    "            new_row = this_year_row.copy()\n",
    "            new_row['year'] = last_year\n",
    "            new_rows.append(new_row)\n",
    "        if this_year in [2018,2019,2020]:\n",
    "            # 今年に、last yearのIDがない場合、last yearのIDを持つ行をコピーしthis yearに対応する行を作成\n",
    "            for id in set_last_m_this:\n",
    "                    last_year_row = firm_data[(firm_data['year'] == last_year) & (firm_data[\"薬価基準収載医薬品コード\"] == id)]\n",
    "                    new_row = last_year_row.copy()\n",
    "                    new_row['year'] = this_year\n",
    "                    new_rows.append(new_row)\n",
    "        # 新しい行を現在のDataFrameに追加\n",
    "        firm_data = pd.concat([firm_data] + new_rows,axis=0, ignore_index=True)\n",
    "    "
   ]
  },
  {
   "cell_type": "code",
   "execution_count": 7,
   "metadata": {},
   "outputs": [],
   "source": [
    "# sorted(list(set(firm_data[\"メーカー名\"])))"
   ]
  },
  {
   "cell_type": "code",
   "execution_count": 8,
   "metadata": {},
   "outputs": [],
   "source": [
    "import re\n",
    "import unicodedata\n",
    "# make name clean\n",
    "maker_set=sorted(list(set(firm_data[\"メーカー名\"].fillna(\"統一\"))))\n",
    "maker2cleaned = {}\n",
    "cleaned=[]\n",
    "# テキストごとに処理を行うループ\n",
    "for maker in maker_set:\n",
    "    # クリーン処理を実行\n",
    "    cleaned_maker = unicodedata.normalize(\"NFKC\", maker)\n",
    "    # \\u3000を空白に置換\n",
    "    cleaned_maker = re.sub(\"\\u3000\", \" \", cleaned_maker)\n",
    "    #　空白を削除\n",
    "    cleaned_maker = re.sub(\" \", \"\", cleaned_maker)\n",
    "    # ,を削除\n",
    "    cleaned_maker = re.sub(\",\", \"\", cleaned_maker)\n",
    "    cleaned.append(cleaned_maker)\n",
    "    # クリーン前のテキストをキー、クリーン後のテキストを値として辞書に追加\n",
    "    maker2cleaned[maker] = cleaned_maker\n",
    "\n",
    "maker_name=dict([# ('大塚製薬', '大塚製薬工場'),\n",
    "# ('持田製薬', '持田製薬販売'),\n",
    "# ('ブリストル・マイヤーズ', 'ブリストル・マイヤーズスクイブ'),\n",
    "# ('サンド', 'サンドファーマ'),\n",
    "# ('日医工', '日医工岐阜工場'),\n",
    "('富士製薬', '富士製薬工業'),\n",
    "# ('グラクソ・スミスクライン', 'グラクソ・スミスクライン・コンシューマー・ヘルスケア・ジャパン')\n",
    "# ('ニプロ', 'ニプロパッチ'),\n",
    "('エルメッドエーザイ','エルメッド'),\n",
    "# ('ニプロ', 'ニプロESファーマ'),\n",
    "('長生堂', '長生堂製薬'),\n",
    "('東光薬品', '東光薬品工業'),\n",
    "('岩城', '岩城製薬'),\n",
    "('共和薬品', '共和薬品工業'),\n",
    "# ('寿製薬', '千寿製薬'),\n",
    "# ('日医工', '日医工サノフィ'),\n",
    "# ('ファイザー', 'ファイザーUPJ'),\n",
    "('高田', '高田製薬'),\n",
    "# ('日医工', '日医工岐阜'),\n",
    "# ('サノフィ', '日医工サノフィ'),\n",
    "# ('第一三共', '第一三共エスファ'),\n",
    "('大原', '大原薬品工業'),\n",
    "('日医工岐阜', '日医工岐阜工場'),\n",
    "# ('エーザイ', 'エルメッドエーザイ'),\n",
    "# ('日医工', '日医工ファーマ'),\n",
    "('沢井', '沢井製薬'),\n",
    "('鶴原', '鶴原製薬'),\n",
    "# ('ニプロ', 'ニプロファーマ'),\n",
    "(\"協和発酵キリン\",\"協和キリン\")\n",
    "])\n",
    "firm_data[\"メーカー名\"]=firm_data[\"メーカー名\"].map(maker2cleaned).replace(maker_name)"
   ]
  },
  {
   "cell_type": "code",
   "execution_count": 9,
   "metadata": {},
   "outputs": [
    {
     "data": {
      "text/plain": [
       "(105641, 19)"
      ]
     },
     "execution_count": 9,
     "metadata": {},
     "output_type": "execute_result"
    }
   ],
   "source": [
    "firm_data.drop(\"薬価\",inplace=True,axis=1)\n",
    "# firm_data_o=firm_data.copy()\n",
    "firm_data[\"メーカー名\"]=firm_data[\"メーカー名\"]\n",
    "unified_data=firm_data[firm_data[\"メーカー名\"].isna()]\n",
    "firm_data_w_maker=firm_data[firm_data[\"メーカー名\"].notna()]\n",
    "firm_data_w_maker.shape"
   ]
  },
  {
   "cell_type": "code",
   "execution_count": 10,
   "metadata": {},
   "outputs": [],
   "source": [
    "firm_data.loc[firm_data[\"メーカー名\"].isna(),\"メーカー名\"]=\"統一\""
   ]
  },
  {
   "cell_type": "code",
   "execution_count": 11,
   "metadata": {},
   "outputs": [
    {
     "data": {
      "text/plain": [
       "(9283, 19)"
      ]
     },
     "execution_count": 11,
     "metadata": {},
     "output_type": "execute_result"
    }
   ],
   "source": [
    "unified_data.shape"
   ]
  },
  {
   "cell_type": "code",
   "execution_count": 12,
   "metadata": {},
   "outputs": [],
   "source": [
    "# unified_data.to_csv(\"tmp.csv\",encoding=\"utf_8_sig\")"
   ]
  },
  {
   "cell_type": "code",
   "execution_count": 13,
   "metadata": {},
   "outputs": [
    {
     "name": "stdout",
     "output_type": "stream",
     "text": [
      "initial 17912 17929\n"
     ]
    }
   ],
   "source": [
    "print(\"initial\",len(set(firm_data[\"薬価基準収載医薬品コード\"])),len(set(firm_data[\"品名\"])))"
   ]
  },
  {
   "cell_type": "markdown",
   "metadata": {},
   "source": [
    "大正薬品工業は名前を変えた"
   ]
  },
  {
   "cell_type": "code",
   "execution_count": 14,
   "metadata": {},
   "outputs": [
    {
     "data": {
      "text/plain": [
       "1         2014\n",
       "2         2014\n",
       "3         2014\n",
       "4         2014\n",
       "5         2014\n",
       "          ... \n",
       "114919    2020\n",
       "114920    2020\n",
       "114921    2020\n",
       "114922    2020\n",
       "114923    2020\n",
       "Name: year, Length: 105641, dtype: int64"
      ]
     },
     "execution_count": 14,
     "metadata": {},
     "output_type": "execute_result"
    }
   ],
   "source": [
    "firm_data_w_maker[\"year\"]"
   ]
  },
  {
   "cell_type": "code",
   "execution_count": 15,
   "metadata": {},
   "outputs": [
    {
     "name": "stdout",
     "output_type": "stream",
     "text": [
      "initial 2671 2743 2744\n"
     ]
    }
   ],
   "source": [
    "data_ndb=pd.read_csv(\"../merged/len3_ndb_blp_DN.csv\",encoding=\"shift-jis\",index_col=0)\n",
    "# data_n=data_n[data_n[\"year\"]>=2018]\n",
    "data_ndb[\"医薬品コード\"]=data_ndb[\"医薬品コード\"].astype(int)\n",
    "print(\"initial\",len(set(data_ndb[\"薬価基準収載医薬品コード\"])),len(set(data_ndb[\"医薬品コード\"])),len(set(data_ndb[\"医薬品名\"])))"
   ]
  },
  {
   "cell_type": "code",
   "execution_count": 16,
   "metadata": {},
   "outputs": [
    {
     "data": {
      "text/plain": [
       "Index(['薬効分類', '薬効分類名称', '医薬品コード', '医薬品名', '薬価基準収載医薬品コード', '薬価', '後発品区分', '総計',\n",
       "       'year', 'in_hospital',\n",
       "       ...\n",
       "       'id_625.0', 'id_629.0', 'id_799.0', 'q_share', 'r_share',\n",
       "       'generic_share_q', 'generic_share_r', 'lag_generic_share_q',\n",
       "       'mean_price_g', 'mean_price_b'],\n",
       "      dtype='object', length=112)"
      ]
     },
     "execution_count": 16,
     "metadata": {},
     "output_type": "execute_result"
    }
   ],
   "source": [
    "data_ndb.columns"
   ]
  },
  {
   "cell_type": "code",
   "execution_count": 17,
   "metadata": {},
   "outputs": [
    {
     "data": {
      "text/plain": [
       "0"
      ]
     },
     "execution_count": 17,
     "metadata": {},
     "output_type": "execute_result"
    }
   ],
   "source": [
    "len(set(data_ndb[\"薬価基準収載医薬品コード\"]) - set(firm_data[\"薬価基準収載医薬品コード\"]))"
   ]
  },
  {
   "cell_type": "code",
   "execution_count": 18,
   "metadata": {},
   "outputs": [
    {
     "data": {
      "text/plain": [
       "0"
      ]
     },
     "execution_count": 18,
     "metadata": {},
     "output_type": "execute_result"
    }
   ],
   "source": [
    "data_ndb.duplicated(subset=['year', \"医薬品コード\",\"in_hospital\"],keep=False).sum()"
   ]
  },
  {
   "cell_type": "markdown",
   "metadata": {},
   "source": [
    "year を入れてもうまくいく"
   ]
  },
  {
   "cell_type": "code",
   "execution_count": 19,
   "metadata": {},
   "outputs": [
    {
     "name": "stdout",
     "output_type": "stream",
     "text": [
      "Series([], Name: year, dtype: int64)\n"
     ]
    }
   ],
   "source": [
    "dups=firm_data[firm_data.duplicated(subset=[\"year\",\"品名\",\"薬価基準収載医薬品コード\",\"メーカー名\"],keep=False)]\n",
    "# print(dups[[\"year\",\"薬価基準収載医薬品コード\",\"品名\",\"メーカー名\"]])\n",
    "print(dups[\"year\"].value_counts())"
   ]
  },
  {
   "cell_type": "code",
   "execution_count": 20,
   "metadata": {},
   "outputs": [
    {
     "name": "stdout",
     "output_type": "stream",
     "text": [
      "Empty DataFrame\n",
      "Columns: [year, 薬価基準収載医薬品コード, 医薬品名, 医薬品コード, in_hospital, oral]\n",
      "Index: []\n"
     ]
    },
    {
     "data": {
      "text/plain": [
       "(25798, 112)"
      ]
     },
     "execution_count": 20,
     "metadata": {},
     "output_type": "execute_result"
    }
   ],
   "source": [
    "dups=data_ndb[data_ndb.duplicated(subset=[\"year\",\"医薬品コード\",\"in_hospital\"],keep=False)]\n",
    "print(dups[[\"year\",\"薬価基準収載医薬品コード\",\"医薬品名\",\"医薬品コード\",\"in_hospital\",\"oral\"]])\n",
    "data_ndb.shape"
   ]
  },
  {
   "cell_type": "code",
   "execution_count": 21,
   "metadata": {},
   "outputs": [
    {
     "name": "stdout",
     "output_type": "stream",
     "text": [
      "(25798, 130) (25798, 130)\n",
      "both          25798\n",
      "left_only         0\n",
      "right_only        0\n",
      "Name: _merge, dtype: int64\n"
     ]
    }
   ],
   "source": [
    "data_merged=data_ndb.merge(firm_data,on=[\"薬価基準収載医薬品コード\",\"year\"],how=\"left\",indicator=True)\n",
    "# data_merged.loc[data_merged['_merge'] == 'left_only', 'メーカー名'] = data_merged.loc[data_merged['_merge'] == 'left_only','薬価基準収載医薬品コード'].map(code2maker)\n",
    "# data_left_only=data_ndb.merge(firm_data,on=[\"薬価基準収載医薬品コード\",\"year\"],how=\"left\",indicator=True).query('_merge == \"left_only\"')\n",
    "print(data_merged.shape,data_merged.shape)\n",
    "print(data_merged[\"_merge\"].value_counts())"
   ]
  },
  {
   "cell_type": "code",
   "execution_count": 22,
   "metadata": {},
   "outputs": [
    {
     "name": "stdout",
     "output_type": "stream",
     "text": [
      "Empty DataFrame\n",
      "Columns: [year, 薬価基準収載医薬品コード, 医薬品名, 医薬品コード, メーカー名, in_hospital, oral]\n",
      "Index: []\n"
     ]
    }
   ],
   "source": [
    "dups=data_merged[data_merged.duplicated(subset=[\"year\",\"医薬品コード\",\"in_hospital\"],keep=False)]\n",
    "print(dups[[\"year\",\"薬価基準収載医薬品コード\",\"医薬品名\",\"医薬品コード\",\"メーカー名\",\"in_hospital\",\"oral\"]])"
   ]
  },
  {
   "cell_type": "code",
   "execution_count": 23,
   "metadata": {},
   "outputs": [
    {
     "data": {
      "text/plain": [
       "(0, 0, 0)"
      ]
     },
     "execution_count": 23,
     "metadata": {},
     "output_type": "execute_result"
    }
   ],
   "source": [
    "len(set(data_merged.loc[data_merged[\"メーカー名\"].isna(),\"薬価基準収載医薬品コード\"])),len(set(data_merged.loc[data_merged[\"メーカー名\"].isna(),\"医薬品コード\"])),len(set(data_merged.loc[data_merged[\"メーカー名\"].isna(),\"医薬品名\"]))"
   ]
  },
  {
   "cell_type": "code",
   "execution_count": 24,
   "metadata": {},
   "outputs": [
    {
     "data": {
      "text/plain": [
       "Series([], Name: 医薬品名, dtype: int64)"
      ]
     },
     "execution_count": 24,
     "metadata": {},
     "output_type": "execute_result"
    }
   ],
   "source": [
    "data_merged.loc[data_merged[\"メーカー名\"].isna(),\"医薬品名\"].value_counts()"
   ]
  },
  {
   "cell_type": "code",
   "execution_count": 25,
   "metadata": {},
   "outputs": [],
   "source": [
    "for id in set(data_merged.loc[data_merged[\"メーカー名\"].isna(),\"薬価基準収載医薬品コード\"]):\n",
    "    maker=set(firm_data.loc[firm_data[\"薬価基準収載医薬品コード\"]==id,\"メーカー名\"])\n",
    "    year=set(firm_data.loc[firm_data[\"薬価基準収載医薬品コード\"]==id,\"year\"])\n",
    "    year_merged=set(data_merged.loc[data_merged[\"薬価基準収載医薬品コード\"]==id,\"year\"])\n",
    "    if len(maker)>1:\n",
    "        print(id,year,\"ym\",year_merged)\n",
    "        print(maker)"
   ]
  },
  {
   "cell_type": "code",
   "execution_count": 26,
   "metadata": {},
   "outputs": [
    {
     "data": {
      "text/plain": [
       "(0, 0, 0)"
      ]
     },
     "execution_count": 26,
     "metadata": {},
     "output_type": "execute_result"
    }
   ],
   "source": [
    "len(set(data_merged.loc[data_merged[\"メーカー名\"].isna(),\"薬価基準収載医薬品コード\"])),len(set(data_merged.loc[data_merged[\"メーカー名\"].isna(),\"医薬品コード\"])),len(set(data_merged.loc[data_merged[\"メーカー名\"].isna(),\"医薬品名\"]))"
   ]
  },
  {
   "cell_type": "code",
   "execution_count": 27,
   "metadata": {},
   "outputs": [
    {
     "data": {
      "text/plain": [
       "8376    0.665198\n",
       "8377    0.665198\n",
       "8378    0.665198\n",
       "8379    0.665198\n",
       "8380    0.665198\n",
       "          ...   \n",
       "8598    0.665198\n",
       "8599    0.665198\n",
       "8600    0.665198\n",
       "8601    0.665198\n",
       "8602    0.665198\n",
       "Name: oral_per, Length: 227, dtype: float64"
      ]
     },
     "execution_count": 27,
     "metadata": {},
     "output_type": "execute_result"
    }
   ],
   "source": [
    "# calculate the mean of oral\n",
    "data_merged[\"oral_per\"] = data_merged.groupby([\"year\",\"薬効分類\"])[\"oral\"].transform(\"mean\")\n",
    "data_merged.loc[(data_merged[\"薬効分類\"]==114)& (data_merged[\"year\"]==2017),\"oral_per\"]"
   ]
  },
  {
   "cell_type": "code",
   "execution_count": 28,
   "metadata": {},
   "outputs": [
    {
     "name": "stdout",
     "output_type": "stream",
     "text": [
      "(200, 134)\n"
     ]
    },
    {
     "name": "stdout",
     "output_type": "stream",
     "text": [
      "Index(['薬効分類', '薬効分類名称', '医薬品コード', '医薬品名', '薬価基準収載医薬品コード', '薬価', 'generic',\n",
      "       '総計', 'year', 'in_hospital', 'oral', 'id_l4', 'Approved', 'KEGG',\n",
      "       'Ingredient', 'date', 'release_year', '成分', 'variable', 'id_x',\n",
      "       'revenue', 'elapsed', 'elapsed_m6', 'elapsed_m5', 'elapsed_m4',\n",
      "       'elapsed_m3', 'elapsed_m2', 'elapsed_m1', 'elapsed_0', 'elapsed_1'],\n",
      "      dtype='object') (26198, 134) (400, 134)\n"
     ]
    }
   ],
   "source": [
    "# add self and nonself\n",
    "\n",
    "\n",
    "# もとのデータに結合\n",
    "data_merged=data_merged.rename(columns={\"後発品区分\":\"generic\"})\n",
    "data_merged[\"brand\"]=1-data_merged[\"generic\"]\n",
    "data_merged.loc[:,\"Pharmacopoeia\"]=data_merged[\"局方\"].replace(\"局\",1).fillna(0)\n",
    "data_merged[\"otc\"]=0\n",
    "data4add=data_merged.copy()\n",
    "data4add.drop_duplicates(subset=[\"year\",\"薬効分類\"],keep=\"first\",inplace=True)\n",
    "print(data4add.shape)\n",
    "add_data=pd.DataFrame()\n",
    "for index,row in data4add.iterrows():\n",
    "    nonself_row=row.copy()\n",
    "    nonself_row.update({\"医薬品名\": \"nonself\", \"メーカー名\": \"nonself\",\"総計\":row[\"nonself_quantity\"],\"薬価\":row[\"mean_price\"],\"brand\":0,\"generic\":0,\"otc\":1,\"in_hospital\":0,\"oral\":row[\"oral_per\"],\"同一剤形・規格の後発医薬品がある先発医薬品\":0,\"Pharmacopoeia\":0})\n",
    "    self_row=row.copy()\n",
    "    self_row.update({\"医薬品名\": \"self\", \"メーカー名\": \"self\",\"総計\":row[\"self_quantity\"],\"薬価\":row[\"mean_price\"],\"brand\":0,\"generic\":1,\"otc\":1,\"in_hospital\":0,\"oral\":row[\"oral_per\"],\"同一剤形・規格の後発医薬品がある先発医薬品\":0,\"Pharmacopoeia\":0})\n",
    "    add_data=pd.concat([add_data,pd.DataFrame(nonself_row).T,pd.DataFrame(self_row).T],axis=0)\n",
    "add_data.reset_index(inplace=True,drop=True)\n",
    "add_data.shape\n",
    "data_merged=pd.concat([data_merged,add_data],axis=0)\n",
    "data_merged.reset_index(inplace=True,drop=True)\n",
    "print(data_merged.columns[:30],data_merged.shape,add_data.shape)\n",
    "# add_data.to_csv(\"tmp.csv\",encoding=\"utf-8\")"
   ]
  },
  {
   "cell_type": "code",
   "execution_count": 29,
   "metadata": {},
   "outputs": [
    {
     "name": "stdout",
     "output_type": "stream",
     "text": [
      "0\n"
     ]
    },
    {
     "data": {
      "text/plain": [
       "(0, 0, 2671)"
      ]
     },
     "execution_count": 29,
     "metadata": {},
     "output_type": "execute_result"
    }
   ],
   "source": [
    "# data_merged.loc[data_merged[\"メーカー名\"].isna(),\"メーカー名\"]=data_merged.loc[data_merged[\"メーカー名\"].isna(),\"薬価基準収載医薬品コード\"].map(map_dict)\n",
    "data_rest=data_merged.loc[data_merged[\"メーカー名\"].isna()]\n",
    "print(len(set(data_rest[\"薬価基準収載医薬品コード\"])-set(firm_data_w_maker[\"薬価基準収載医薬品コード\"])))\n",
    "len(set(data_rest[\"薬価基準収載医薬品コード\"])),len(set(data_rest[\"医薬品名\"])),len(set(data_merged[\"薬価基準収載医薬品コード\"]))"
   ]
  },
  {
   "cell_type": "code",
   "execution_count": 30,
   "metadata": {},
   "outputs": [
    {
     "data": {
      "text/plain": [
       "0"
      ]
     },
     "execution_count": 30,
     "metadata": {},
     "output_type": "execute_result"
    }
   ],
   "source": [
    "len(set(data_rest[\"医薬品名\"]))"
   ]
  },
  {
   "cell_type": "code",
   "execution_count": 31,
   "metadata": {},
   "outputs": [],
   "source": [
    "data_merged.to_csv(\"../merged/len3_ndb_blp_DN_firm.csv\",encoding=\"utf-8-sig\")"
   ]
  }
 ],
 "metadata": {
  "kernelspec": {
   "display_name": "Python 3",
   "language": "python",
   "name": "python3"
  },
  "language_info": {
   "codemirror_mode": {
    "name": "ipython",
    "version": 3
   },
   "file_extension": ".py",
   "mimetype": "text/x-python",
   "name": "python",
   "nbconvert_exporter": "python",
   "pygments_lexer": "ipython3",
   "version": "3.10.4"
  },
  "orig_nbformat": 4
 },
 "nbformat": 4,
 "nbformat_minor": 2
}
