{
 "cells": [
  {
   "cell_type": "code",
   "execution_count": 1,
   "metadata": {},
   "outputs": [],
   "source": [
    "import pandas as pd\n",
    "import numpy as np\n",
    "import pickle\n",
    "import re\n",
    "import unicodedata"
   ]
  },
  {
   "cell_type": "code",
   "execution_count": 2,
   "metadata": {},
   "outputs": [
    {
     "name": "stderr",
     "output_type": "stream",
     "text": [
      "C:\\Users\\hakos\\AppData\\Local\\Temp\\ipykernel_39208\\3130333295.py:1: DtypeWarning: Columns (118) have mixed types. Specify dtype option on import or set low_memory=False.\n",
      "  data=pd.read_csv(\"../merged/len3_ndb_blp_DN_firm.csv\",encoding=\"utf-8\",index_col=0)\n"
     ]
    },
    {
     "data": {
      "text/plain": [
       "52"
      ]
     },
     "execution_count": 2,
     "metadata": {},
     "output_type": "execute_result"
    }
   ],
   "source": [
    "data=pd.read_csv(\"../merged/len3_ndb_blp_DN_firm.csv\",encoding=\"utf-8\",index_col=0)\n",
    "data.loc[data[\"メーカー名\"].isna()].shape\n",
    "data.loc[data[\"メーカー名\"].isna(),\"医薬品名\"].value_counts()\n",
    "len(set(data.loc[data[\"メーカー名\"].isna(),\"医薬品名\"]))\n"
   ]
  },
  {
   "cell_type": "code",
   "execution_count": 3,
   "metadata": {},
   "outputs": [
    {
     "data": {
      "text/plain": [
       "(25, 52)"
      ]
     },
     "execution_count": 3,
     "metadata": {},
     "output_type": "execute_result"
    }
   ],
   "source": [
    "\n",
    "#n2n\n",
    "name2name_ii = pd.read_pickle('./pickle/name2name_ii.pkl')\n",
    "name2name_nk = pd.read_pickle('./pickle/name2name_nk.pkl')\n",
    "name2name_cl_nk=pd.read_pickle('./pickle/name2name_cl_nk.pkl')\n",
    "name2name=pd.read_pickle('./pickle/name2name.pkl')\n",
    "\n",
    "#c2f\n",
    "code2firm=pd.read_pickle('./pickle/code2firm.pkl')\n",
    "# n2f\n",
    "name2firm_ii = pd.read_pickle('./pickle/name2firm_ii.pkl')\n",
    "name2firm_nk = pd.read_pickle('./pickle/name2firm_nk.pkl')\n",
    "# name2firm_ma=pd.read_pickle('./pickle/name2firm_ma.pkl')\n",
    "name2firm=pd.read_pickle('./pickle/name2firm.pkl')\n",
    "\n",
    "# cl nk\n",
    "cleaned2firm=pd.read_pickle('./pickle/cleaned2firm_nk.pkl')\n",
    "name2cleaned=pd.read_pickle('./pickle/name2cleaned_nk.pkl')\n",
    "\n",
    "# name2firm_cl_nk = {name: cleaned2firm[cleaned] for name, cleaned in name2cleaned.items()}\n",
    "# update \n",
    "# name2name_nk.update(name2name)\n",
    "name2name_nk.update(name2name_ii)\n",
    "name2name_nk.update(name2name_cl_nk)\n",
    "\n",
    "# name2firm_nk.update(name2firm)\n",
    "name2firm_nk.update(name2firm_ii)\n",
    "name2firm_nk.update(cleaned2firm)\n",
    "\n",
    "# make them list\n",
    "name2name_ii=list(name2name_ii.items())\n",
    "name2name_nk=list(name2name_nk.items())\n",
    "name2name_cl_nk=list(name2name_cl_nk.items())\n",
    "len(name2name_ii),len(name2name_nk)\n"
   ]
  },
  {
   "cell_type": "code",
   "execution_count": 4,
   "metadata": {},
   "outputs": [],
   "source": [
    "# name2firm_nk"
   ]
  },
  {
   "cell_type": "code",
   "execution_count": 5,
   "metadata": {},
   "outputs": [
    {
     "data": {
      "text/plain": [
       "(25, 51, 14)"
      ]
     },
     "execution_count": 5,
     "metadata": {},
     "output_type": "execute_result"
    }
   ],
   "source": [
    "cnt=0\n",
    "def delete_ok(name2name,delete_no=0):\n",
    "    delete_list=[]\n",
    "    # keyとvalueについて、「」内が同じかどうかを確認する\n",
    "    for i,(key,value) in enumerate(name2name):\n",
    "        cleaned_key = unicodedata.normalize('NFKC', re.sub(r'\\u3000', ' ', re.search(r'.*\\u3000', key).group()) if re.search(r'.*\\u3000', key) else key)\n",
    "        #空白を削除\n",
    "        cleaned_key = cleaned_key.replace(' ','')\n",
    "        # print(cleaned_key,value,cleaned_key==value)\n",
    "        if cleaned_key==value or key==value:\n",
    "            # cnt+=1\n",
    "            delete_list.append(i)\n",
    "            continue\n",
    "        try:\n",
    "            pattern = r'「(.*?)」'\n",
    "            key_v=re.findall(pattern, key)[0]\n",
    "            key_v = ''.join([unicodedata.normalize('NFKC', char) for char in key_v])\n",
    "            value_v=re.findall(pattern, value)[0]\n",
    "            value_v = ''.join([unicodedata.normalize('NFKC', char) for char in value_v])\n",
    "            # print(key_v,value_v,key_v==value_v)\n",
    "            \n",
    "            if key_v==value_v:\n",
    "                delete_list.append(i)\n",
    "        except:\n",
    "            continue\n",
    "            # remove key and value\n",
    "    # delete\n",
    "    if delete_no>0:\n",
    "        name2name=[name2name[i] for i in range(len(name2name)) if i in delete_list]\n",
    "    else:\n",
    "        name2name = [name2name[i] for i in range(len(name2name)) if i not in delete_list]\n",
    "    return name2name\n",
    "name2name_ii=delete_ok(name2name_ii,delete_no=1)\n",
    "name2name_nk=delete_ok(name2name_nk,delete_no=1)\n",
    "name2name_cl_nk=delete_ok(name2name_cl_nk,delete_no=1)\n",
    "len(name2name_ii),len(name2name_nk),len(name2name_cl_nk)"
   ]
  },
  {
   "cell_type": "code",
   "execution_count": 6,
   "metadata": {},
   "outputs": [],
   "source": [
    "# for x in dict(name2name_ii).keys():\n",
    "#     print(x,data.loc[data[\"医薬品名\"]==x,\"医薬品コード\"].unique().astype(int))"
   ]
  },
  {
   "cell_type": "code",
   "execution_count": 7,
   "metadata": {},
   "outputs": [],
   "source": [
    "# for x in dict(name2name_nk).keys():\n",
    "#     print(x,data.loc[data[\"医薬品名\"]==x,\"医薬品コード\"].unique().astype(int))"
   ]
  },
  {
   "cell_type": "code",
   "execution_count": 8,
   "metadata": {},
   "outputs": [
    {
     "data": {
      "text/plain": [
       "51"
      ]
     },
     "execution_count": 8,
     "metadata": {},
     "output_type": "execute_result"
    }
   ],
   "source": [
    "name2name_nk=dict(name2name_nk)\n",
    "name2firm = {key: name2firm_nk[key] for key in name2firm_nk if key in name2name_nk}\n",
    "len(name2firm)"
   ]
  },
  {
   "cell_type": "code",
   "execution_count": 9,
   "metadata": {},
   "outputs": [
    {
     "name": "stdout",
     "output_type": "stream",
     "text": [
      "0\n"
     ]
    }
   ],
   "source": [
    "data[\"医薬品コード\"]=data[\"医薬品コード\"].astype(int).astype(str)\n",
    "data.loc[data[\"メーカー名\"].isna(),\"メーカー名\"]=data.loc[data[\"メーカー名\"].isna(),\"医薬品名\"].map(name2firm_nk)\n",
    "data.loc[data[\"メーカー名\"].isna(),\"メーカー名\"]=data.loc[data[\"メーカー名\"].isna(),\"医薬品名\"].map(name2firm_ii)\n",
    "# data.loc[data[\"メーカー名\"].isna(),\"メーカー名\"]=data.loc[data[\"メーカー名\"].isna(),\"医薬品名\"].map(name2firm_ma)\n",
    "data.loc[data[\"メーカー名\"].isna(),\"メーカー名\"]=data.loc[data[\"メーカー名\"].isna(),\"医薬品名\"].map(name2cleaned).map(cleaned2firm)\n",
    "# data.loc[data[\"メーカー名\"].isna(),\"メーカー名\"]=data.loc[data[\"メーカー名\"].isna(),\"医薬品コード\"].map(code2firm)\n",
    "data_lack=data[data[\"メーカー名\"].isna()]\n",
    "print(len(set(data_lack[\"医薬品名\"])))\n",
    "data.to_csv(\"../merged/len3_ndb_blp_DN_firm_val.csv\",encoding=\"utf-8\")"
   ]
  },
  {
   "cell_type": "code",
   "execution_count": 10,
   "metadata": {},
   "outputs": [
    {
     "data": {
      "text/plain": [
       "set()"
      ]
     },
     "execution_count": 10,
     "metadata": {},
     "output_type": "execute_result"
    }
   ],
   "source": [
    "set(data_lack[\"医薬品名\"])"
   ]
  },
  {
   "cell_type": "markdown",
   "metadata": {},
   "source": [
    "医薬品名に対してレセプト電算コードが一意でないもの"
   ]
  },
  {
   "cell_type": "code",
   "execution_count": 11,
   "metadata": {},
   "outputs": [],
   "source": [
    "\n",
    "# data=pd.read_csv(\"../merged/len3_ndb_blp_DN.csv\",encoding=\"shift-jis\",index_col=0)\n",
    "# data[\"医薬品コード\"]=data[\"医薬品コード\"].astype(int)\n",
    "# name_set=set(data[\"医薬品名\"])\n",
    "# for name in name_set:\n",
    "#     code_set=set(data.loc[data[\"医薬品名\"]==name,\"医薬品コード\"])\n",
    "#     # yjコードが変わってるのは結構ある\n",
    "#     yj_code_set=set(data.loc[data[\"医薬品名\"]==name,\"薬価基準収載医薬品コード\"])\n",
    "#     maker_set=set(data.loc[data[\"医薬品名\"]==name,\"メーカー名\"])\n",
    "#     if len(code_set)!=1:\n",
    "#         print(name,code_set,yj_code_set,maker_set)"
   ]
  },
  {
   "cell_type": "markdown",
   "metadata": {},
   "source": [
    "統一収載でした\n",
    "\n",
    "\n",
    "- ビホナゾール１％クリーム {622331600, 622781000}\n",
    "\n",
    "- クロトリマゾール１％クリーム {622330200, 622780800} クロトリマゾールクリーム1％「イワキ」岩城製薬\n",
    "\n",
    "- ジクロフェナクナトリウム５０ｍｇ坐剤 {622330800, 622849300}"
   ]
  }
 ],
 "metadata": {
  "kernelspec": {
   "display_name": "Python 3",
   "language": "python",
   "name": "python3"
  },
  "language_info": {
   "codemirror_mode": {
    "name": "ipython",
    "version": 3
   },
   "file_extension": ".py",
   "mimetype": "text/x-python",
   "name": "python",
   "nbconvert_exporter": "python",
   "pygments_lexer": "ipython3",
   "version": "3.10.4"
  },
  "orig_nbformat": 4
 },
 "nbformat": 4,
 "nbformat_minor": 2
}
