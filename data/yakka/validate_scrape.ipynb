{
 "cells": [
  {
   "cell_type": "code",
   "execution_count": 3,
   "metadata": {},
   "outputs": [],
   "source": [
    "import pandas as pd\n",
    "import numpy as np\n",
    "import pickle\n",
    "import re\n",
    "import unicodedata\n",
    "\n",
    "# load name2name.pkl\n",
    "name2name = pd.read_pickle('name2name_nk.pkl')\n",
    "name2name=list(name2name.items())"
   ]
  },
  {
   "cell_type": "code",
   "execution_count": 210,
   "metadata": {},
   "outputs": [
    {
     "data": {
      "text/plain": [
       "47"
      ]
     },
     "execution_count": 210,
     "metadata": {},
     "output_type": "execute_result"
    }
   ],
   "source": [
    "cnt=0\n",
    "delete_list=[]\n",
    "# keyとvalueについて、「」内が同じかどうかを確認する\n",
    "for i,(key,value) in enumerate(name2name):\n",
    "    cleaned_key = unicodedata.normalize('NFKC', re.sub(r'\\u3000', ' ', re.search(r'.*\\u3000', key).group()) if re.search(r'.*\\u3000', key) else key)\n",
    "    #空白を削除\n",
    "    cleaned_key = cleaned_key.replace(' ','')\n",
    "    # print(cleaned_key,value,cleaned_key==value)\n",
    "    if cleaned_key==value:\n",
    "        cnt+=1\n",
    "        delete_list.append(i)\n",
    "        continue\n",
    "    try:\n",
    "        pattern = r'「(.*?)」'\n",
    "        key_v=re.findall(pattern, key)[0]\n",
    "        key_v = ''.join([unicodedata.normalize('NFKC', char) for char in key_v])\n",
    "        value_v=re.findall(pattern, value)[0]\n",
    "        value_v = ''.join([unicodedata.normalize('NFKC', char) for char in value_v])\n",
    "        # print(key_v,value_v,key_v==value_v)\n",
    "        \n",
    "        if key_v==value_v:\n",
    "            cnt+=1\n",
    "            delete_list.append(i)\n",
    "    except:\n",
    "        continue\n",
    "        # remove key and value\n",
    "# delete\n",
    "name2name = [name2name[i] for i in range(len(name2name)) if i not in delete_list]\n",
    "len(name2name)"
   ]
  },
  {
   "cell_type": "code",
   "execution_count": 211,
   "metadata": {},
   "outputs": [
    {
     "data": {
      "text/plain": [
       "[('ロペラミド塩酸塩１ｍｇ錠', 'ロペラミド錠1mg「EMEC」'),\n",
       " ('クロトリマゾール１％クリーム', 'クロトリマゾールクリーム1%「イワキ」'),\n",
       " ('塩酸ロペラミド１ｍｇ錠', 'カグダリンカプセル1mg'),\n",
       " ('ブテナフィン塩酸塩１％クリーム', 'ブテナフィン塩酸塩クリーム1%「トーワ」'),\n",
       " ('イトラコナゾール５０ｍｇカプセル', 'イトラコナゾールカプセル50mg「SW」'),\n",
       " ('スルファメトキサゾール・トリメトプリム錠', 'ダイフェン配合錠'),\n",
       " ('ツロブテロール塩酸塩１ｍｇ錠', 'セキナリン錠1mg'),\n",
       " ('オキシコナゾール硝酸塩６００ｍｇ腟錠', 'オキシコナゾール硝酸塩腟錠600mg「F」'),\n",
       " ('ケトコナゾール２％クリーム', 'プルナクリーム2%'),\n",
       " ('アシクロビル２００ｍｇ錠', 'アシクロビン錠200'),\n",
       " ('クロモグリク酸ナトリウム１％２ｍＬ吸入液', 'リノジェット吸入液'),\n",
       " ('イトラコナゾール５０ｍｇ錠', 'イトラコナゾール錠50「MEEK」'),\n",
       " ('ジクロフェナクナトリウム５０ｍｇ坐剤', 'ジクロフェナクナトリウム坐剤50mg「JG」'),\n",
       " ('プロカテロール塩酸塩０．０２５ｍｇ錠', 'プロカテロール塩酸塩錠25μg「日医工」'),\n",
       " ('ビダラビン３％クリーム', 'カサールクリーム3%'),\n",
       " ('アンブロキソール塩酸塩４５ｍｇ徐放性口腔内崩壊錠', 'アンブロキソール塩酸塩徐放OD錠45mg「ZE」'),\n",
       " ('アンブロキソール塩酸塩０．３％シロップ', 'アンブロキソール塩酸塩シロップ小児用0.3%「タイヨー」'),\n",
       " ('プロカテロール塩酸塩０．０００５％シロップ', 'プロカテロール塩酸塩シロップ5μg/mL「テバ」'),\n",
       " ('ツロブテロール（１ｍｇ）貼付剤', 'ツロブテロールテープ1mg「サワイ」'),\n",
       " ('ビホナゾール１％液', 'ビルミチンクリーム1%'),\n",
       " ('ロキソプロフェンナトリウム６０ｍｇ錠', 'ロキソプロフェンナトリウム錠60mg「クニヒロ」'),\n",
       " ('オフロキサシン３ｍｇ１ｍＬ点耳液', 'オフロキサシン耳科用液0.3%「CEO」'),\n",
       " ('テルビナフィン塩酸塩１％液', 'テビナシールクリーム1%'),\n",
       " ('トルナフタート液\\u3000２％', 'ハイアラージン外用液2%'),\n",
       " ('フルコナゾール１００ｍｇカプセル', 'フルコナゾールカプセル100mg「F」'),\n",
       " ('ミコナゾール硝酸塩１％クリーム', 'ミコナゾール硝酸塩クリーム1%「YD」'),\n",
       " ('イトラコナゾール１００ｍｇ錠', 'イトラコナゾール錠100「MEEK」'),\n",
       " ('ロペラミド塩酸塩１ｍｇカプセル', 'ロペナカプセル1mg'),\n",
       " ('テルビナフィン塩酸塩１２５ｍｇ錠', 'テルビー錠125mg'),\n",
       " ('リトドリン塩酸塩５ｍｇ錠', 'ウテロン錠5mg'),\n",
       " ('プロカテロール塩酸塩シロップ５μｇ／ｍＬ\\u3000トーワ\\u3000０．０００５％', 'プロカテロール塩酸塩シロップ5μg/mL「トーワ」'),\n",
       " ('テルビナフィン塩酸塩１％クリーム', 'テビナシールクリーム1%'),\n",
       " ('ツロブテロール（２ｍｇ）貼付剤', 'ツロブテロールテープ2mg「日医工」'),\n",
       " ('カモスタットメシル酸塩１００ｍｇ錠', 'リビリスター錠100'),\n",
       " ('ビダラビン３％軟膏', 'ビダラビン軟膏3%「MEEK」'),\n",
       " ('クロモグリク酸ナトリウム１９０ｍｇ９．５ｍＬ点鼻液', 'クロモグリク酸Na点鼻液2%「ファイザー」'),\n",
       " ('クレンブテロール塩酸塩１０μｇ錠', 'トニール錠10μg'),\n",
       " ('塩酸ロペラミド１ｍｇカプセル', 'カグダリンカプセル1mg'),\n",
       " ('スルピリド錠５０ｍｇ（ＴＹＫ）', 'スルピリド錠50mg（TYK）'),\n",
       " ('イソコナゾール硝酸塩３００ｍｇ腟錠', 'イソコナゾール硝酸塩腟錠300mg「F」'),\n",
       " ('ビホナゾール１％クリーム', 'ビルミチンクリーム1%'),\n",
       " ('アンブロキソール塩酸塩４５ｍｇ徐放カプセル', 'ムコソレートLカプセル45'),\n",
       " ('ケトコナゾール２％ローション', 'プルナローション2%'),\n",
       " ('ツロブテロール塩酸塩０．１％シロップ用', 'セキナリンDS小児用0.1%'),\n",
       " ('アンブロキソール塩酸塩１５ｍｇ錠', 'ムコブリン錠15mg'),\n",
       " ('ベクロメタゾンプロピオン酸エステル８．５ｍｇ８．５ｇ点鼻液', 'ナイスピー点鼻液50μg'),\n",
       " ('プロカテロール塩酸塩０．０５ｍｇ錠', 'プロカテロール塩酸塩錠50μg「日医工」')]"
      ]
     },
     "execution_count": 211,
     "metadata": {},
     "output_type": "execute_result"
    }
   ],
   "source": [
    "name2name"
   ]
  },
  {
   "cell_type": "markdown",
   "metadata": {},
   "source": [
    "医薬品名に対してレセプト電算コードが一意でないもの"
   ]
  },
  {
   "cell_type": "code",
   "execution_count": 4,
   "metadata": {},
   "outputs": [
    {
     "name": "stderr",
     "output_type": "stream",
     "text": [
      "C:\\Users\\hakos\\AppData\\Local\\Temp\\ipykernel_29824\\2193001143.py:1: DtypeWarning: Columns (118,119,131) have mixed types. Specify dtype option on import or set low_memory=False.\n",
      "  data=pd.read_csv(\"../merged/len3_ndb_blp_DN_firm.csv\",encoding=\"utf-8\",index_col=0)\n"
     ]
    },
    {
     "data": {
      "text/plain": [
       "アンブロキソール塩酸塩錠１５ｍｇ「タイヨー」    16\n",
       "カモスタットメシル酸塩錠１００ｍｇ「日医工」    16\n",
       "ダイフェン配合錠                  16\n",
       "Ｄソルビトール経口液７５％「コーワ」        16\n",
       "Ｄソルビトール液　７５％              16\n",
       "                          ..\n",
       "ロスバスタチンＯＤ錠５ｍｇ「サワイ」         1\n",
       "ロスバスタチン錠２．５ｍｇ「三和」          1\n",
       "アトルバスタチン錠５ｍｇ「ＹＤ」           1\n",
       "ロスバスタチンＯＤ錠２．５ｍｇ「三和」        1\n",
       "イトラコナゾール５０ｍｇ錠              1\n",
       "Name: 医薬品名, Length: 298, dtype: int64"
      ]
     },
     "execution_count": 4,
     "metadata": {},
     "output_type": "execute_result"
    }
   ],
   "source": [
    "data=pd.read_csv(\"../merged/len3_ndb_blp_DN_firm.csv\",encoding=\"utf-8\",index_col=0)\n",
    "data.loc[data[\"メーカー名\"].isna()].shape\n",
    "data.loc[data[\"メーカー名\"].isna(),\"医薬品名\"].value_counts()"
   ]
  },
  {
   "cell_type": "code",
   "execution_count": 213,
   "metadata": {},
   "outputs": [
    {
     "name": "stdout",
     "output_type": "stream",
     "text": [
      "ビホナゾール１％クリーム {622331600, 622781000} {'2655708N1016'}\n",
      "クロトリマゾール１％クリーム {622330200, 622780800} {'2655700N1010'}\n",
      "ジクロフェナクナトリウム５０ｍｇ坐剤 {622330800, 622849300} {'1147700J3017'}\n"
     ]
    }
   ],
   "source": [
    "\n",
    "# data=pd.read_csv(\"../merged/len3_ndb_blp_DN.csv\",encoding=\"shift-jis\",index_col=0)\n",
    "data[\"医薬品コード\"]=data[\"医薬品コード\"].astype(int)\n",
    "name_set=set(data[\"医薬品名\"])\n",
    "for name in name_set:\n",
    "    code_set=set(data.loc[data[\"医薬品名\"]==name,\"医薬品コード\"])\n",
    "    # yjコードが変わってるのは結構ある\n",
    "    yj_code_set=set(data.loc[data[\"医薬品名\"]==name,\"薬価基準収載医薬品コード\"])\n",
    "    if len(code_set)!=1:\n",
    "        print(name,code_set,yj_code_set)"
   ]
  },
  {
   "cell_type": "markdown",
   "metadata": {},
   "source": [
    "- ビホナゾール１％クリーム {622331600, 622781000}ビホナゾールクリーム1％「サワイ」沢井製薬\n",
    "    - https://shinryohoshu.mhlw.go.jp/shinryohoshu/file/info/yinfo140530.pdf\n",
    "    - https://icode-search.com/index.php?rcode=620659301&stype=2&smaker=%E6%B2%A2%E4%BA%95%E8%A3%BD%E8%96%AC&hmaker=%E6%B2%A2%E4%BA%95%E8%A3%BD%E8%96%AC\n",
    "\n",
    "\n",
    "- クロトリマゾール１％クリーム {622330200, 622780800} クロトリマゾールクリーム1％「イワキ」岩城製薬\n",
    "    - 622330200, 不明  この順番はここしかなさそう\n",
    "    - 622780800, https://icode-search.com/index.php?rcode=620656502&stype=2&smaker=%E5%B2%A9%E5%9F%8E%E8%A3%BD%E8%96%AC&hmaker=%E5%B2%A9%E5%9F%8E%E8%A3%BD%E8%96%AC\n",
    "\n",
    "\n",
    "- ジクロフェナクナトリウム５０ｍｇ坐剤 {622330800, 622849300}\n",
    "    - 622330800, ジクロフェナクNa坐剤50mg「日新」日新製薬, https://shinryohoshu.mhlw.go.jp/shinryohoshu/file/info/yinfo150605.pdf\n",
    "    - 622849300, ジクロフェナクＮａ坐剤５０ｍｇ「ＮＩＧ」,日医工岐阜工場, https://icode-search.com/index.php?rcode=621362361&stype=2&smaker=%E6%97%A5%E5%8C%BB%E5%B7%A5%E5%B2%90%E9%98%9C%E5%B7%A5%E5%A0%B4&hmaker=%E6%AD%A6%E7%94%B0%E8%96%AC%E5%93%81"
   ]
  },
  {
   "cell_type": "code",
   "execution_count": 214,
   "metadata": {},
   "outputs": [
    {
     "data": {
      "text/plain": [
       "21095    2020\n",
       "24583    2021\n",
       "Name: year, dtype: int64"
      ]
     },
     "execution_count": 214,
     "metadata": {},
     "output_type": "execute_result"
    }
   ],
   "source": [
    "data[data[\"医薬品コード\"]==622330200][\"year\"]\n",
    "data[data[\"医薬品コード\"]==622780800][\"year\"]"
   ]
  },
  {
   "cell_type": "code",
   "execution_count": 215,
   "metadata": {},
   "outputs": [
    {
     "name": "stdout",
     "output_type": "stream",
     "text": [
      "(3740, 132)\n",
      "(1643, 132)\n"
     ]
    }
   ],
   "source": [
    "import pandas as pd\n",
    "import numpy as np\n",
    "\n",
    "receipt_set=list(set(data[\"医薬品コード\"]))\n",
    "# data.replace([np.nan], [pd.NA], inplace=True)\n",
    "print(data.loc[data[\"メーカー名\"].isna()].shape)\n",
    "for id in receipt_set:\n",
    "    n=data.loc[data[\"医薬品コード\"]==id,\"メーカー名\"].nunique()\n",
    "    if n==1:\n",
    "        maker=data.loc[data[\"医薬品コード\"]==id,\"メーカー名\"].dropna().unique()\n",
    "        # print(maker,n)\n",
    "        k=data.loc[data[\"医薬品コード\"]==id,\"メーカー名\"].shape[0]\n",
    "        data.loc[data[\"医薬品コード\"]==id,\"メーカー名\"]=np.array([maker]*k)\n",
    "    # else:\n",
    "    #     print(n)\n",
    "print(data.loc[data[\"メーカー名\"].isna()].shape)"
   ]
  },
  {
   "cell_type": "code",
   "execution_count": 216,
   "metadata": {},
   "outputs": [
    {
     "data": {
      "text/plain": [
       "アンブロキソール塩酸塩錠１５ｍｇ「タイヨー」    16\n",
       "カモスタットメシル酸塩錠１００ｍｇ「日医工」    16\n",
       "ダイフェン配合錠                  16\n",
       "Ｄソルビトール経口液７５％「コーワ」        16\n",
       "Ｄソルビトール液　７５％              16\n",
       "                          ..\n",
       "ロスバスタチンＯＤ錠５ｍｇ「サワイ」         1\n",
       "ロスバスタチン錠２．５ｍｇ「三和」          1\n",
       "アトルバスタチン錠５ｍｇ「ＹＤ」           1\n",
       "ロスバスタチンＯＤ錠２．５ｍｇ「三和」        1\n",
       "イトラコナゾール５０ｍｇ錠              1\n",
       "Name: 医薬品名, Length: 298, dtype: int64"
      ]
     },
     "execution_count": 216,
     "metadata": {},
     "output_type": "execute_result"
    }
   ],
   "source": [
    "data.loc[data[\"メーカー名\"].isna()].shape\n",
    "data.loc[data[\"メーカー名\"].isna(),\"医薬品名\"].value_counts()"
   ]
  }
 ],
 "metadata": {
  "kernelspec": {
   "display_name": "Python 3",
   "language": "python",
   "name": "python3"
  },
  "language_info": {
   "codemirror_mode": {
    "name": "ipython",
    "version": 3
   },
   "file_extension": ".py",
   "mimetype": "text/x-python",
   "name": "python",
   "nbconvert_exporter": "python",
   "pygments_lexer": "ipython3",
   "version": "3.10.4"
  },
  "orig_nbformat": 4
 },
 "nbformat": 4,
 "nbformat_minor": 2
}
