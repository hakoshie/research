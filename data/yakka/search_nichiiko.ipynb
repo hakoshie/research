{
 "cells": [
  {
   "cell_type": "code",
   "execution_count": 31,
   "metadata": {},
   "outputs": [],
   "source": [
    "import requests\n",
    "from bs4 import BeautifulSoup\n",
    "import unicodedata\n",
    "import pandas as pd\n",
    "import re\n",
    "import time"
   ]
  },
  {
   "cell_type": "code",
   "execution_count": 32,
   "metadata": {},
   "outputs": [
    {
     "name": "stderr",
     "output_type": "stream",
     "text": [
      "C:\\Users\\hakos\\AppData\\Local\\Temp\\ipykernel_17836\\2245958985.py:1: DtypeWarning: Columns (118,119,131) have mixed types. Specify dtype option on import or set low_memory=False.\n",
      "  data=pd.read_csv(\"../merged/len3_ndb_blp_DN_firm_val.csv\",encoding=\"utf-8\",index_col=0)\n"
     ]
    },
    {
     "data": {
      "text/plain": [
       "ジスチグミン臭化物錠　５ｍｇ                     16\n",
       "Ｄソルビトール                            16\n",
       "複方ヨード・グリセリン                        15\n",
       "トルナフタート液　２％                        14\n",
       "薬用炭                                14\n",
       "                                   ..\n",
       "ケトチフェン点鼻液０．０５％「ツルハラ」　６．０４８ｍｇ８ｍＬ     1\n",
       "クロモグリク酸ナトリウム１９０ｍｇ９．５ｍＬ点鼻液           1\n",
       "ビホナゾール１％液                           1\n",
       "カモスタットメシル酸塩１００ｍｇ錠                   1\n",
       "イトラコナゾール５０ｍｇ錠                       1\n",
       "Name: 医薬品名, Length: 61, dtype: int64"
      ]
     },
     "execution_count": 32,
     "metadata": {},
     "output_type": "execute_result"
    }
   ],
   "source": [
    "data=pd.read_csv(\"../merged/len3_ndb_blp_DN_firm_val.csv\",encoding=\"utf-8\",index_col=0)\n",
    "data.head()\n",
    "data[\"医薬品コード\"]=data[\"医薬品コード\"].astype(int).astype(str)\n",
    "data.loc[data[\"メーカー名\"].isna(),\"医薬品名\"].value_counts()\n"
   ]
  },
  {
   "cell_type": "code",
   "execution_count": 33,
   "metadata": {},
   "outputs": [
    {
     "data": {
      "text/plain": [
       "62"
      ]
     },
     "execution_count": 33,
     "metadata": {},
     "output_type": "execute_result"
    }
   ],
   "source": [
    "search_nums=set(data.loc[data[\"メーカー名\"].isna(),\"医薬品コード\"])\n",
    "len(search_nums)"
   ]
  },
  {
   "cell_type": "code",
   "execution_count": 34,
   "metadata": {},
   "outputs": [
    {
     "name": "stdout",
     "output_type": "stream",
     "text": [
      "文字列が含まれる<td>要素のテキスト: 620177407611230132\n",
      "武田テバ薬品\n",
      "文字列が含まれる<td>要素のテキスト: 620008988622773100\n",
      "武田テバ薬品\n",
      "文字列が含まれる<td>要素のテキスト: 621472501622730100\n",
      "日医工\n",
      "文字列が含まれる<td>要素のテキスト: 620003996622747800\n",
      "武田テバファーマ\n",
      "文字列が含まれる<td>要素のテキスト: 621730103622781600\n",
      "文字列が含まれる<td>要素のテキスト: 621675401622781600\n",
      "日医工\n",
      "文字列が含まれる<td>要素のテキスト: 621373439622781000\n",
      "武田テバ薬品\n",
      "文字列が含まれる<td>要素のテキスト: 620882208610461256\n",
      "武田テバファーマ\n",
      "文字列が含まれる<td>要素のテキスト: 620006496622782300\n",
      "武田テバファーマ\n",
      "文字列が含まれる<td>要素のテキスト: 621705802622781700\n",
      "前田\n",
      "文字列が含まれる<td>要素のテキスト: 621407306622773800\n",
      "日医工岐阜工場\n",
      "文字列が含まれる<td>要素のテキスト: 621569101622747300\n",
      "日医工\n",
      "文字列が含まれる<td>要素のテキスト: 620004237622774100\n",
      "日医工\n",
      "文字列が含まれる<td>要素のテキスト: 620564921610461096\n",
      "日医工\n",
      "文字列が含まれる<td>要素のテキスト: 620007158622311700\n",
      "サンノーバ\n"
     ]
    }
   ],
   "source": [
    "# test\n",
    "# ここにあなたのHTMLコードを設定してください\n",
    "code2firm={}\n",
    "url=\"https://www.nichiiko.co.jp/medicine/transitional/measure/\"\n",
    "r=requests.get(url)\n",
    "soup=BeautifulSoup(r.content,\"html.parser\")\n",
    "\n",
    "td_elements = soup.find_all('td', class_=\"recept-code\")\n",
    "for target_number in search_nums:\n",
    "\n",
    "    # print(td_elements)\n",
    "\n",
    "    td_target = None\n",
    "    for td_element in td_elements:\n",
    "        if target_number in td_element.text:\n",
    "            td_target = td_element\n",
    "            print(\"文字列が含まれる<td>要素のテキスト:\", td_element.text)\n",
    "    # 対象の<td>要素が見つかった場合\n",
    "    if td_target:\n",
    "        # 前の<td>要素を取得\n",
    "        previous_td = td_target.find_previous_sibling('td')\n",
    "        previous_td = previous_td.find_previous_sibling('td')\n",
    "        previous_td = previous_td.find_previous_sibling('td')\n",
    "        if previous_td:\n",
    "            code2firm[target_number]=previous_td.text\n",
    "            print(previous_td.text)\n"
   ]
  },
  {
   "cell_type": "code",
   "execution_count": 38,
   "metadata": {},
   "outputs": [],
   "source": [
    "code2firm\n",
    "# save as pickle\n",
    "import pickle\n",
    "with open(\"./pickle/code2firm.pkl\",\"wb\") as f:\n",
    "    pickle.dump(code2firm,f)\n"
   ]
  },
  {
   "cell_type": "code",
   "execution_count": 37,
   "metadata": {},
   "outputs": [
    {
     "data": {
      "text/plain": [
       "47"
      ]
     },
     "execution_count": 37,
     "metadata": {},
     "output_type": "execute_result"
    }
   ],
   "source": [
    "data.loc[data[\"メーカー名\"].isna(),\"メーカー名\"]=data.loc[data[\"メーカー名\"].isna(),\"医薬品コード\"].map(code2firm)\n",
    "len(set(data.loc[data[\"メーカー名\"].isna(),\"医薬品名\"]))"
   ]
  }
 ],
 "metadata": {
  "kernelspec": {
   "display_name": "Python 3",
   "language": "python",
   "name": "python3"
  },
  "language_info": {
   "codemirror_mode": {
    "name": "ipython",
    "version": 3
   },
   "file_extension": ".py",
   "mimetype": "text/x-python",
   "name": "python",
   "nbconvert_exporter": "python",
   "pygments_lexer": "ipython3",
   "version": "3.10.4"
  },
  "orig_nbformat": 4
 },
 "nbformat": 4,
 "nbformat_minor": 2
}
