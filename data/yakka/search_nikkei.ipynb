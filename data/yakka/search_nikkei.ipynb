{
 "cells": [
  {
   "cell_type": "code",
   "execution_count": 42,
   "metadata": {},
   "outputs": [],
   "source": [
    "from selenium import webdriver\n",
    "from selenium.webdriver.common.keys import Keys\n",
    "from selenium.webdriver.common.by import By\n",
    "from selenium.webdriver.support.ui import WebDriverWait\n",
    "from selenium.webdriver.support import expected_conditions as EC\n",
    "from selenium.webdriver.common.keys import Keys\n",
    "import os \n",
    "import time\n",
    "import pandas as pd\n",
    "import numpy as np\n",
    "import re\n",
    "import unicodedata\n"
   ]
  },
  {
   "cell_type": "code",
   "execution_count": 43,
   "metadata": {},
   "outputs": [
    {
     "name": "stderr",
     "output_type": "stream",
     "text": [
      "C:\\Users\\hakos\\AppData\\Local\\Temp\\ipykernel_12932\\3713961272.py:3: DtypeWarning: Columns (118,119,131) have mixed types. Specify dtype option on import or set low_memory=False.\n",
      "  data=pd.read_csv('../merged/len3_ndb_blp_DN_firm_filled.csv',encoding='utf-8',index_col=0)\n"
     ]
    },
    {
     "data": {
      "text/plain": [
       "Index(['薬効分類', '薬効分類名称', '医薬品コード', '医薬品名', '薬価基準収載医薬品コード', '薬価_x', '後発品区分',\n",
       "       '総計', 'year', 'in_hospital',\n",
       "       ...\n",
       "       '同一剤形・規格の後発医薬品がある先発医薬品', '薬価_y', '経過措置による使用期限', '備考', 'Unnamed: 15',\n",
       "       'Unnamed: 16', 'Unnamed: 17', 'Unnamed: 18', 'Unnamed: 4', '_merge'],\n",
       "      dtype='object', length=132)"
      ]
     },
     "execution_count": 43,
     "metadata": {},
     "output_type": "execute_result"
    }
   ],
   "source": [
    "os.getcwd()\n",
    "os.chdir(\"C:/Users/hakos/GDrive/Downloads/Research/data/yakka\")\n",
    "data=pd.read_csv('../merged/len3_ndb_blp_DN_firm_filled.csv',encoding='utf-8',index_col=0)\n",
    "data.columns"
   ]
  },
  {
   "cell_type": "code",
   "execution_count": 44,
   "metadata": {},
   "outputs": [
    {
     "data": {
      "text/plain": [
       "54"
      ]
     },
     "execution_count": 44,
     "metadata": {},
     "output_type": "execute_result"
    }
   ],
   "source": [
    "len(set(data[data[\"メーカー名\"].isna()][\"医薬品名\"]))\n",
    "data[data[\"メーカー名\"].isna()][\"医薬品名\"].value_counts()\n",
    "med_name=list(set(data[data[\"メーカー名\"].isna()][\"医薬品名\"]))\n",
    "len(med_name)"
   ]
  },
  {
   "cell_type": "code",
   "execution_count": 45,
   "metadata": {},
   "outputs": [],
   "source": [
    "# make name clean\n",
    "# クリーン前のテキストをキー、クリーン後のテキストを値とする辞書を作成\n",
    "name2cleaned = {}\n",
    "cleaned=[]\n",
    "# テキストごとに処理を行うループ\n",
    "for name in med_name:\n",
    "    # クリーン処理を実行\n",
    "    cleaned_name = unicodedata.normalize('NFKC', re.sub(r'\\u3000', ' ', re.search(r'.*\\u3000', name).group()) if re.search(r'.*\\u3000', name) else name)\n",
    "    \n",
    "    cleaned.append(cleaned_name)\n",
    "    # クリーン前のテキストをキー、クリーン後のテキストを値として辞書に追加\n",
    "    name2cleaned[name] = cleaned_name\n",
    "\n",
    "# 辞書を出力\n",
    "# for original_name in name2cleaned.keys():\n",
    "#     print(f'Original name: {original_name}')\n",
    "#     print(f'Cleaned name:  {name2cleaned[original_name]}')\n",
    "#     print()\n"
   ]
  },
  {
   "cell_type": "markdown",
   "metadata": {},
   "source": [
    "## test"
   ]
  },
  {
   "cell_type": "code",
   "execution_count": 46,
   "metadata": {},
   "outputs": [],
   "source": [
    "\n",
    "# os.chdir(\"C:\\\\Users\\\\hakos\\\\Downloads\")\n",
    "# os.getcwd()\n",
    "# key=\"アレグラ\"\n",
    "# driver = webdriver.Firefox()\n",
    "# # driver.minimize_window()\n",
    "# # ウェブページを開く\n",
    "# driver.get('https://medical.nikkeibp.co.jp/inc/all/drugdic/')\n",
    "\n",
    "# # 検索\n",
    "# wait = WebDriverWait(driver, 5)\n",
    "# search_box = wait.until(EC.presence_of_element_located((By.ID, 'searchWords')))\n",
    "# search_box.clear()\n",
    "# search_box.send_keys(key)\n",
    "# search_box.send_keys(Keys.RETURN)\n",
    "\n",
    "# time.sleep(2)\n",
    "# element = driver.find_element(By.XPATH,\"//*[@id='article01']/ul/li/div/a\")\n",
    "\n",
    "# # HTML要素からURLを取得します\n",
    "# url = element.get_attribute(\"href\")\n",
    "\n",
    "# # 取得したURLにアクセスします\n",
    "# driver.get(url)\n",
    "\n",
    "# time.sleep(2)\n",
    "\n",
    "\n",
    "# # 自分で遷移する必要がある\n",
    "# try:\n",
    "#     element = driver.find_element(By.XPATH,\"//*[@id='id-body']/div[1]/div[2]/div[1]/div/div[3]/div[2]/dl[2]/dd/div/a/span\")\n",
    "#     maker = element.text\n",
    "# except:\n",
    "#     maker = None\n",
    "# print(maker)\n",
    "# # ページが完全に読み込まれるのを待つ（任意）\n",
    "# # time.sleep(2)\n",
    "# # ブラウザを閉じる\n",
    "# driver.quit()"
   ]
  },
  {
   "cell_type": "code",
   "execution_count": 47,
   "metadata": {},
   "outputs": [],
   "source": [
    "#　初期化　危ない\n",
    "name2firm={}"
   ]
  },
  {
   "cell_type": "code",
   "execution_count": 48,
   "metadata": {},
   "outputs": [
    {
     "name": "stdout",
     "output_type": "stream",
     "text": [
      "0 1 2 3 4 5 6 7 8 9 10 11 12 13 14 15 16 17 18 19 20 21 22 23 24 25 26 27 28 29 30 31 32 33 34 35 36 37 38 39 40 41 42 43 44 45 46 47 48 49 50 51 52 53 "
     ]
    }
   ],
   "source": [
    "os.chdir(\"C:\\\\Users\\\\hakos\\\\Downloads\")\n",
    "os.getcwd()\n",
    "def get_maker(key):\n",
    "    driver = webdriver.Firefox()\n",
    "    # driver.minimize_window()\n",
    "    # ウェブページを開く\n",
    "    driver.get('https://medical.nikkeibp.co.jp/inc/all/drugdic/')\n",
    "\n",
    "    # 検索\n",
    "    wait = WebDriverWait(driver, 5)\n",
    "    search_box = wait.until(EC.presence_of_element_located((By.ID, 'searchWords')))\n",
    "    search_box.clear()\n",
    "    search_box.send_keys(key)\n",
    "    search_box.send_keys(Keys.RETURN)\n",
    "\n",
    "    time.sleep(2)\n",
    "    try:\n",
    "        element = driver.find_element(By.XPATH,\"//*[@id='article01']/ul/li/div/a\")\n",
    "\n",
    "        # HTML要素からURLを取得します\n",
    "        url = element.get_attribute(\"href\")\n",
    "\n",
    "        # 取得したURLにアクセスします\n",
    "        driver.get(url)\n",
    "    except:\n",
    "        driver.quit()\n",
    "        return None\n",
    "    time.sleep(2)\n",
    "\n",
    "    try:\n",
    "        element = driver.find_element(By.XPATH,\"//*[@id='id-body']/div[1]/div[2]/div[1]/div/div[3]/div[2]/dl[2]/dd/div/a/span\")\n",
    "        maker = element.text\n",
    "    except:\n",
    "        maker = None\n",
    "    # ブラウザを閉じる\n",
    "    driver.quit()\n",
    "    return maker\n",
    "nonecount=0\n",
    "# med_name=list(set(data[data[\"メーカー名\"].isna()][\"医薬品名\"]))\n",
    "failed=[]\n",
    "for i,key in enumerate(med_name):\n",
    "    if key not in name2firm.keys():\n",
    "        value=get_maker(key)\n",
    "        name2firm[key]=value\n",
    "        \n",
    "        if value is None:\n",
    "            nonecount+=1\n",
    "            failed.append(key)\n",
    "    else:\n",
    "        continue\n",
    "    print(i,end=\" \")\n",
    "    time.sleep(1)"
   ]
  },
  {
   "cell_type": "code",
   "execution_count": 54,
   "metadata": {},
   "outputs": [
    {
     "data": {
      "text/plain": [
       "{'エピナスチン塩酸塩錠２０ｍｇ「タイヨー」': None,\n",
       " 'Ｄソルビトール液\\u3000７５％': None,\n",
       " 'フルチカゾンプロピオン酸エステル日本臓器１１２\\u3000８．１６ｍｇ１６': None,\n",
       " 'ロンバニンカプセル１ｍｇ': None,\n",
       " 'ツロブテロール（１ｍｇ）貼付剤': '沢井製薬',\n",
       " 'アンブロキソール塩酸塩錠１５ｍｇ「タナベ」': None,\n",
       " 'Ｄソルビトール液\\u3000６５％': None,\n",
       " 'クラレットカプセル１ｍｇ': None,\n",
       " 'ルアダン錠２００ｍｇ': None,\n",
       " 'フルチカゾンプロピオン酸エステル５０ＣＥＯ２８\\u3000２．０４ｍｇ４': None,\n",
       " 'ニチステート錠１００ｍｇ': None,\n",
       " 'フルチカゾンプロピオン酸エステル５０トーワ２８\\u3000２．０４ｍｇ４': None,\n",
       " 'フルチカゾンプロピオン酸エステル５０ＪＧ５６\\u3000４．０８ｍｇ８': None,\n",
       " 'ホスポールクリーム１％': None,\n",
       " 'フルチカゾン点鼻５０μｇ「トーワ」２８噴霧\\u3000２．０４ｍｇ４ｍＬ': None,\n",
       " 'フルチカゾンプロピオン酸エステル５０日医工２８\\u3000２．０４ｍｇ４': None,\n",
       " 'ベタメタゾン酪酸エステルプロピオン酸クリーム０．０５％「ＭＹＫ」': None,\n",
       " 'Ｄソルビトール内用液６５％「マルイシ」': None,\n",
       " 'フルチカゾン点鼻５０μｇ「サワイ」２８噴霧\\u3000２．０４ｍｇ４ｍＬ': None,\n",
       " 'フルチカゾン点鼻５０μｇ「アメル」２８噴霧\\u3000２．０４ｍｇ４ｍＬ': None,\n",
       " 'ウブテック錠５ｍｇ': None,\n",
       " 'ミロピンカプセル１ｍｇ': None,\n",
       " 'フルチカゾン点鼻５０μｇ「ＮｉｋＰ」２８噴霧\\u3000２．０４ｍｇ４ｍＬ': None,\n",
       " 'オリベート錠２\\u3000２ｍｇ': None,\n",
       " 'ベクロメタゾン点鼻液５０μｇファイザー\\u3000９．３７５ｍｇ７．５ｇ': None,\n",
       " 'ビホナゾールクリーム１％「タイヨー」': None,\n",
       " 'プロピオン酸フルチカゾン点鼻５０ＣＨ２８\\u3000２．０４ｍｇ４ｍＬ': None,\n",
       " 'サワダロン錠２００ｍｇ': None,\n",
       " 'ツロブテロール（２ｍｇ）貼付剤': '日医工',\n",
       " 'メチレフト錠５０\\u3000０．０５ｍｇ': None,\n",
       " 'ロキソプロフェンナトリウム錠６０ｍｇ「タイヨー」': None,\n",
       " 'クラレット細粒０．１％': None,\n",
       " 'タイペミンカプセル１ｍｇ': None,\n",
       " 'クロトリマゾール１００ｍｇ腟錠': None,\n",
       " 'フルチカゾンプロピオン酸エステル５０ＪＧ２８\\u3000２．０４ｍｇ４': None,\n",
       " 'ソロムコ錠１５ｍｇ': None,\n",
       " 'Ｄソルビトール原末「マルイシ」': None,\n",
       " 'ジクロフェナクナトリウム坐剤５０ｍｇ「タナベ」': None,\n",
       " 'Ｄソルビトール経口液７５％「コーワ」': None,\n",
       " 'フルチカゾン点鼻５０μｇ「イセイ」５６噴霧\\u3000４．０８ｍｇ８ｍＬ': None,\n",
       " 'プロピオン酸フルチカゾン点鼻５０ＣＨ５６\\u3000４．０８ｍｇ８ｍＬ': None,\n",
       " 'フルチカゾン点鼻液５０μｇイセイ２８噴霧用\\u3000２．０４ｍｇ４ｍＬ': None,\n",
       " 'ベタメタゾン酪酸エステルプロピオン酸ローション０．０５％ＭＹＫ': None,\n",
       " 'イオウ・サリチル酸・チアントール軟膏': None,\n",
       " 'チクロピジン塩酸塩錠１００ｍｇ「タイヨー」': None,\n",
       " 'ベーエム錠１００ｍｇ': None,\n",
       " 'アルデイン坐剤２０ｍｇ': None,\n",
       " 'ベクロメタゾンパウダー２５μｇトーワ\\u3000１．５０ｍｇ０．９０８７ｇ': None,\n",
       " 'フルチカゾンプロピオン酸エステル５０ＤＳＰ２８\\u3000２．０４ｍｇ４': None,\n",
       " 'ボナフェック坐剤５０\\u3000５０ｍｇ': None,\n",
       " 'フルチカゾンプロピオン酸エステル５０日本臓器２８\\u3000２．０４ｍｇ４': None,\n",
       " 'スルピリド錠５０ｍｇ（ＴＹＫ）': '日医工岐阜工場',\n",
       " 'メチレフト錠２５\\u3000０．０２５ｍｇ': None,\n",
       " 'ピロキシカム２０ｍｇ坐剤': None}"
      ]
     },
     "execution_count": 54,
     "metadata": {},
     "output_type": "execute_result"
    }
   ],
   "source": [
    "name2firm"
   ]
  },
  {
   "cell_type": "code",
   "execution_count": 50,
   "metadata": {},
   "outputs": [],
   "source": [
    "import pickle\n",
    "os.chdir(\"C:/Users/hakos/GDrive/Downloads/Research/data/yakka\")\n",
    "\n",
    "file_path = 'cleaned2firm_nk.pkl'\n",
    "with open(file_path, 'wb') as file:\n",
    "    pickle.dump(name2firm, file)\n",
    "\n",
    "file_path = 'name2cleaned_nk.pkl'\n",
    "with open(file_path, 'wb') as file:\n",
    "    pickle.dump(name2cleaned, file)"
   ]
  },
  {
   "cell_type": "code",
   "execution_count": 57,
   "metadata": {},
   "outputs": [
    {
     "data": {
      "text/plain": [
       "(210, 132)"
      ]
     },
     "execution_count": 57,
     "metadata": {},
     "output_type": "execute_result"
    }
   ],
   "source": [
    "# 残り全体\n",
    "# data.loc[data[\"メーカー名\"].isna(),\"メーカー名\"]=data.loc[data[\"メーカー名\"].isna(),\"医薬品名\"].map(name2cleaned).map(name2firm)\n",
    "data.loc[data[\"メーカー名\"].isna(),\"メーカー名\"]=data.loc[data[\"メーカー名\"].isna(),\"医薬品名\"].map(name2firm)\n",
    "data[data[\"メーカー名\"].isna()].shape"
   ]
  },
  {
   "cell_type": "code",
   "execution_count": 58,
   "metadata": {},
   "outputs": [
    {
     "data": {
      "text/plain": [
       "51"
      ]
     },
     "execution_count": 58,
     "metadata": {},
     "output_type": "execute_result"
    }
   ],
   "source": [
    "# 残り医薬品名\n",
    "len(set(data[data[\"メーカー名\"].isna()][\"医薬品名\"]))"
   ]
  },
  {
   "cell_type": "code",
   "execution_count": 59,
   "metadata": {},
   "outputs": [
    {
     "data": {
      "text/plain": [
       "{'アルデイン坐剤２０ｍｇ',\n",
       " 'アンブロキソール塩酸塩錠１５ｍｇ「タナベ」',\n",
       " 'イオウ・サリチル酸・チアントール軟膏',\n",
       " 'ウブテック錠５ｍｇ',\n",
       " 'エピナスチン塩酸塩錠２０ｍｇ「タイヨー」',\n",
       " 'オリベート錠２\\u3000２ｍｇ',\n",
       " 'クラレットカプセル１ｍｇ',\n",
       " 'クラレット細粒０．１％',\n",
       " 'クロトリマゾール１００ｍｇ腟錠',\n",
       " 'サワダロン錠２００ｍｇ',\n",
       " 'ジクロフェナクナトリウム坐剤５０ｍｇ「タナベ」',\n",
       " 'ソロムコ錠１５ｍｇ',\n",
       " 'タイペミンカプセル１ｍｇ',\n",
       " 'チクロピジン塩酸塩錠１００ｍｇ「タイヨー」',\n",
       " 'ニチステート錠１００ｍｇ',\n",
       " 'ビホナゾールクリーム１％「タイヨー」',\n",
       " 'ピロキシカム２０ｍｇ坐剤',\n",
       " 'フルチカゾンプロピオン酸エステル日本臓器１１２\\u3000８．１６ｍｇ１６',\n",
       " 'フルチカゾンプロピオン酸エステル５０トーワ２８\\u3000２．０４ｍｇ４',\n",
       " 'フルチカゾンプロピオン酸エステル５０日医工２８\\u3000２．０４ｍｇ４',\n",
       " 'フルチカゾンプロピオン酸エステル５０日本臓器２８\\u3000２．０４ｍｇ４',\n",
       " 'フルチカゾンプロピオン酸エステル５０ＣＥＯ２８\\u3000２．０４ｍｇ４',\n",
       " 'フルチカゾンプロピオン酸エステル５０ＤＳＰ２８\\u3000２．０４ｍｇ４',\n",
       " 'フルチカゾンプロピオン酸エステル５０ＪＧ２８\\u3000２．０４ｍｇ４',\n",
       " 'フルチカゾンプロピオン酸エステル５０ＪＧ５６\\u3000４．０８ｍｇ８',\n",
       " 'フルチカゾン点鼻液５０μｇイセイ２８噴霧用\\u3000２．０４ｍｇ４ｍＬ',\n",
       " 'フルチカゾン点鼻５０μｇ「アメル」２８噴霧\\u3000２．０４ｍｇ４ｍＬ',\n",
       " 'フルチカゾン点鼻５０μｇ「イセイ」５６噴霧\\u3000４．０８ｍｇ８ｍＬ',\n",
       " 'フルチカゾン点鼻５０μｇ「サワイ」２８噴霧\\u3000２．０４ｍｇ４ｍＬ',\n",
       " 'フルチカゾン点鼻５０μｇ「トーワ」２８噴霧\\u3000２．０４ｍｇ４ｍＬ',\n",
       " 'フルチカゾン点鼻５０μｇ「ＮｉｋＰ」２８噴霧\\u3000２．０４ｍｇ４ｍＬ',\n",
       " 'プロピオン酸フルチカゾン点鼻５０ＣＨ２８\\u3000２．０４ｍｇ４ｍＬ',\n",
       " 'プロピオン酸フルチカゾン点鼻５０ＣＨ５６\\u3000４．０８ｍｇ８ｍＬ',\n",
       " 'ベクロメタゾンパウダー２５μｇトーワ\\u3000１．５０ｍｇ０．９０８７ｇ',\n",
       " 'ベクロメタゾン点鼻液５０μｇファイザー\\u3000９．３７５ｍｇ７．５ｇ',\n",
       " 'ベタメタゾン酪酸エステルプロピオン酸クリーム０．０５％「ＭＹＫ」',\n",
       " 'ベタメタゾン酪酸エステルプロピオン酸ローション０．０５％ＭＹＫ',\n",
       " 'ベーエム錠１００ｍｇ',\n",
       " 'ホスポールクリーム１％',\n",
       " 'ボナフェック坐剤５０\\u3000５０ｍｇ',\n",
       " 'ミロピンカプセル１ｍｇ',\n",
       " 'メチレフト錠２５\\u3000０．０２５ｍｇ',\n",
       " 'メチレフト錠５０\\u3000０．０５ｍｇ',\n",
       " 'ルアダン錠２００ｍｇ',\n",
       " 'ロキソプロフェンナトリウム錠６０ｍｇ「タイヨー」',\n",
       " 'ロンバニンカプセル１ｍｇ',\n",
       " 'Ｄソルビトール内用液６５％「マルイシ」',\n",
       " 'Ｄソルビトール原末「マルイシ」',\n",
       " 'Ｄソルビトール液\\u3000６５％',\n",
       " 'Ｄソルビトール液\\u3000７５％',\n",
       " 'Ｄソルビトール経口液７５％「コーワ」'}"
      ]
     },
     "execution_count": 59,
     "metadata": {},
     "output_type": "execute_result"
    }
   ],
   "source": [
    "set(data[data[\"メーカー名\"].isna()][\"医薬品名\"])"
   ]
  },
  {
   "cell_type": "code",
   "execution_count": 61,
   "metadata": {},
   "outputs": [],
   "source": [
    "name2firm['アルデイン坐剤２０ｍｇ']=\"長生堂製薬\"\n",
    "name2firm['アンブロキソール塩酸塩錠１５ｍｇ「タナベ」']=\"長生堂製薬\"\n",
    "name2firm['イオウ・サリチル酸・チアントール軟膏']=\"日本薬品工業\"\n",
    "name2firm['ウブテック錠５ｍｇ']=\"大正薬品工業\"\n",
    "name2firm['エピナスチン塩酸塩錠２０ｍｇ「タイヨー」']=\"武田テバ\"\n",
    "name2firm['オリベート錠２\\u3000２ｍｇ']=\"沢井製薬\"\n",
    "name2firm['クラレットカプセル１ｍｇ']=\"龍角散\"\n",
    "name2firm['クラレット細粒０．１％']=\"龍角散\"\n",
    "name2firm['クロトリマゾール１００ｍｇ腟錠']=\"富士製薬\"\n",
    "name2firm['サワダロン錠２００ｍｇ']=\"沢井\"\n",
    "name2firm['ジクロフェナクナトリウム坐剤５０ｍｇ「タナベ」']=\"長生堂製薬\"\n",
    "name2firm['ソロムコ錠１５ｍｇ']=\"共和薬品工業\"\n",
    "name2firm['タイペミンカプセル１ｍｇ']=\"日本ジェネリック\"\n",
    "name2firm['チクロピジン塩酸塩錠１００ｍｇ「タイヨー」']=\"武田テバファーマ\"\n",
    "name2firm['ニチステート錠１００ｍｇ']=\"日医工\"\n",
    "name2firm['ビホナゾールクリーム１％「タイヨー」']=\"武田テバ\"\n",
    "name2firm['ピロキシカム２０ｍｇ坐剤']=\"長生堂製薬\"\n",
    "name2firm['フルチカゾンプロピオン酸エステル日本臓器１１２\\u3000８．１６ｍｇ１６']=\"日本臓器製薬\"\n",
    "name2firm['フルチカゾンプロピオン酸エステル５０トーワ２８\\u3000２．０４ｍｇ４']=\"東和薬品\"\n",
    "name2firm['フルチカゾンプロピオン酸エステル５０日医工２８\\u3000２．０４ｍｇ４']=\"日医工\"\n",
    "name2firm['フルチカゾンプロピオン酸エステル５０日本臓器２８\\u3000２．０４ｍｇ４']=\"日本臓器製薬\"\n",
    "name2firm['フルチカゾンプロピオン酸エステル５０ＣＥＯ２８\\u3000２．０４ｍｇ４']=\"セオリアファーマ\"\n",
    "name2firm['フルチカゾンプロピオン酸エステル５０ＤＳＰ２８\\u3000２．０４ｍｇ４']=\"東興薬品\"\n",
    "name2firm['フルチカゾンプロピオン酸エステル５０ＪＧ２８\\u3000２．０４ｍｇ４']=\"長生堂製薬\"\n",
    "name2firm['フルチカゾンプロピオン酸エステル５０ＪＧ５６\\u3000４．０８ｍｇ８']=\"長生堂製薬\"\n",
    "name2firm['フルチカゾン点鼻液５０μｇイセイ２８噴霧用\\u3000２．０４ｍｇ４ｍＬ']=\"コーアイセイ\"\n",
    "name2firm['フルチカゾン点鼻５０μｇ「アメル」２８噴霧\\u3000２．０４ｍｇ４ｍＬ']=\"共和薬品\"\n",
    "name2firm['フルチカゾン点鼻５０μｇ「イセイ」５６噴霧\\u3000４．０８ｍｇ８ｍＬ']=\"コーアイセイ\"\n",
    "name2firm['フルチカゾン点鼻５０μｇ「サワイ」２８噴霧\\u3000２．０４ｍｇ４ｍＬ']=\"沢井製薬\"\n",
    "name2firm['フルチカゾン点鼻５０μｇ「トーワ」２８噴霧\\u3000２．０４ｍｇ４ｍＬ']=\"東和薬品\"\n",
    "name2firm['フルチカゾン点鼻５０μｇ「ＮｉｋＰ」２８噴霧\\u3000２．０４ｍｇ４ｍＬ']=\"日医工ファーマ\"\n",
    "name2firm['プロピオン酸フルチカゾン点鼻５０ＣＨ２８\\u3000２．０４ｍｇ４ｍＬ']=\"長生堂製薬\"\n",
    "name2firm['プロピオン酸フルチカゾン点鼻５０ＣＨ５６\\u3000４．０８ｍｇ８ｍＬ']=\"長生堂製薬\"\n",
    "name2firm['ベクロメタゾンパウダー２５μｇトーワ\\u3000１．５０ｍｇ０．９０８７ｇ']=\"東和薬品\"\n",
    "name2firm['ベクロメタゾン点鼻液５０μｇファイザー\\u3000９．３７５ｍｇ７．５ｇ']=\"マイラン製薬\"\n",
    "name2firm['ベタメタゾン酪酸エステルプロピオン酸クリーム０．０５％「ＭＹＫ」']=\"前田薬品工業\"\n",
    "name2firm['ベタメタゾン酪酸エステルプロピオン酸ローション０．０５％ＭＹＫ']=\"前田薬品工業\"\n",
    "name2firm['ベーエム錠１００ｍｇ']=\"キョーリンリメディオ\"\n",
    "name2firm['ホスポールクリーム１％']=\"沢井製薬\"\n",
    "name2firm['ボナフェック坐剤５０\\u3000５０ｍｇ']=\"日新製薬\"\n",
    "name2firm['ミロピンカプセル１ｍｇ']=\"沢井製薬\"\n",
    "name2firm['メチレフト錠２５\\u3000０．０２５ｍｇ']=\"沢井製薬\"\n",
    "name2firm['メチレフト錠５０\\u3000０．０５ｍｇ']=\"沢井製薬\"\n",
    "name2firm['ルアダン錠２００ｍｇ']=\"科研製薬\"\n",
    "name2firm['ロキソプロフェンナトリウム錠６０ｍｇ「タイヨー」']=\"武田テバファーマ\"\n",
    "name2firm['ロンバニンカプセル１ｍｇ']=\"辰巳化学\"\n",
    "name2firm['Ｄソルビトール内用液６５％「マルイシ」']=\"丸石製薬\"\n",
    "name2firm['Ｄソルビトール原末「マルイシ」']=\"丸石製薬\"\n",
    "name2firm['Ｄソルビトール液\\u3000６５％']=\"丸石製薬\"\n",
    "name2firm['Ｄソルビトール液\\u3000７５％']=\"丸石製薬\"\n",
    "name2firm['Ｄソルビトール経口液７５％「コーワ」']=\"興和\""
   ]
  },
  {
   "cell_type": "code",
   "execution_count": 62,
   "metadata": {},
   "outputs": [
    {
     "data": {
      "text/plain": [
       "(0, 132)"
      ]
     },
     "execution_count": 62,
     "metadata": {},
     "output_type": "execute_result"
    }
   ],
   "source": [
    "# 残り全体\n",
    "# data.loc[data[\"メーカー名\"].isna(),\"メーカー名\"]=data.loc[data[\"メーカー名\"].isna(),\"医薬品名\"].map(name2cleaned).map(name2firm)\n",
    "data.loc[data[\"メーカー名\"].isna(),\"メーカー名\"]=data.loc[data[\"メーカー名\"].isna(),\"医薬品名\"].map(name2firm)\n",
    "data[data[\"メーカー名\"].isna()].shape"
   ]
  },
  {
   "cell_type": "code",
   "execution_count": 60,
   "metadata": {},
   "outputs": [],
   "source": [
    "os.chdir(\"C:/Users/hakos/GDrive/Downloads/Research/data/yakka\")\n",
    "data.to_csv('../merged/len3_ndb_blp_DN_firm_filled.csv',encoding='utf-8')"
   ]
  }
 ],
 "metadata": {
  "kernelspec": {
   "display_name": "Python 3",
   "language": "python",
   "name": "python3"
  },
  "language_info": {
   "codemirror_mode": {
    "name": "ipython",
    "version": 3
   },
   "file_extension": ".py",
   "mimetype": "text/x-python",
   "name": "python",
   "nbconvert_exporter": "python",
   "pygments_lexer": "ipython3",
   "version": "3.10.4"
  },
  "orig_nbformat": 4
 },
 "nbformat": 4,
 "nbformat_minor": 2
}
