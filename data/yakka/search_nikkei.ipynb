{
 "cells": [
  {
   "cell_type": "code",
   "execution_count": 1,
   "metadata": {},
   "outputs": [],
   "source": [
    "from selenium import webdriver\n",
    "from selenium.webdriver.common.keys import Keys\n",
    "from selenium.webdriver.common.by import By\n",
    "from selenium.webdriver.support.ui import WebDriverWait\n",
    "from selenium.webdriver.support import expected_conditions as EC\n",
    "import requests\n",
    "from bs4 import BeautifulSoup\n",
    "import os \n",
    "import time\n",
    "import pandas as pd\n",
    "import numpy as np\n",
    "import re\n",
    "import unicodedata\n",
    "import pickle\n"
   ]
  },
  {
   "cell_type": "markdown",
   "metadata": {},
   "source": [
    "日経メディカルの情報は最新すぎる"
   ]
  },
  {
   "cell_type": "code",
   "execution_count": 2,
   "metadata": {},
   "outputs": [
    {
     "name": "stderr",
     "output_type": "stream",
     "text": [
      "C:\\Users\\hakos\\AppData\\Local\\Temp\\ipykernel_43036\\388202102.py:3: DtypeWarning: Columns (118,119,131) have mixed types. Specify dtype option on import or set low_memory=False.\n",
      "  data=pd.read_csv('../merged/len3_ndb_blp_DN_firm_val.csv',encoding='utf-8',index_col=0)\n"
     ]
    },
    {
     "data": {
      "text/plain": [
       "Index(['薬効分類', '薬効分類名称', '医薬品コード', '医薬品名', '薬価基準収載医薬品コード', '薬価_x', '後発品区分',\n",
       "       '総計', 'year', 'in_hospital',\n",
       "       ...\n",
       "       '同一剤形・規格の後発医薬品がある先発医薬品', '薬価_y', '経過措置による使用期限', '備考', 'Unnamed: 15',\n",
       "       'Unnamed: 16', 'Unnamed: 17', 'Unnamed: 18', 'Unnamed: 4', '_merge'],\n",
       "      dtype='object', length=132)"
      ]
     },
     "execution_count": 2,
     "metadata": {},
     "output_type": "execute_result"
    }
   ],
   "source": [
    "os.getcwd()\n",
    "os.chdir(\"C:/Users/hakos/GDrive/Downloads/Research/data/yakka\")\n",
    "data=pd.read_csv('../merged/len3_ndb_blp_DN_firm_val.csv',encoding='utf-8',index_col=0)\n",
    "data.columns"
   ]
  },
  {
   "cell_type": "markdown",
   "metadata": {},
   "source": [
    "iyakuinfo, pdmaは先にmergeする"
   ]
  },
  {
   "cell_type": "code",
   "execution_count": 3,
   "metadata": {},
   "outputs": [],
   "source": [
    "\n",
    "# with open('name2cleaned.pkl', 'rb') as f:\n",
    "#     name2cleaned = pickle.load(f)\n",
    "# with open('cleaned2firm.pkl', 'rb') as f:\n",
    "#     cleaned2firm = pickle.load(f)\n",
    "# with open('name2firm.pkl', 'rb') as f:\n",
    "#     name2firm = pickle.load(f)\n",
    "# with open('name2firm_ii.pkl', 'rb') as f:\n",
    "#     name2firm_ii = pickle.load(f)\n",
    "# with open('name2firm_ma.pkl', 'rb') as f:\n",
    "#     name2firm_ma = pickle.load(f)\n",
    "# with open('name2firm_nk.pkl', 'rb') as f:\n",
    "#     name2firm_nk = pickle.load(f)\n",
    "\n",
    "# data.loc[data[\"メーカー名\"].isna(),\"メーカー名\"]=data.loc[data[\"メーカー名\"].isna(),\"医薬品名\"].map(name2firm)\n",
    "# data.loc[data[\"メーカー名\"].isna(),\"メーカー名\"]=data.loc[data[\"メーカー名\"].isna(),\"医薬品名\"].map(name2firm_ii)\n",
    "# data.loc[data[\"メーカー名\"].isna(),\"メーカー名\"]=data.loc[data[\"メーカー名\"].isna(),\"医薬品名\"].map(name2firm_ma)\n",
    "# data.loc[data[\"メーカー名\"].isna(),\"メーカー名\"]=data.loc[data[\"メーカー名\"].isna(),\"医薬品名\"].map(name2cleaned).map(cleaned2firm)\n",
    "# data.loc[data[\"メーカー名\"].isna(),\"メーカー名\"]=data.loc[data[\"メーカー名\"].isna(),\"医薬品名\"].map(name2firm_nk)\n",
    "# data_lack=data[data[\"メーカー名\"].isna()]\n",
    "# data_lack[\"医薬品名\"].value_counts(),data_lack[\"薬価基準収載医薬品コード\"].value_counts()"
   ]
  },
  {
   "cell_type": "code",
   "execution_count": 4,
   "metadata": {},
   "outputs": [
    {
     "data": {
      "text/plain": [
       "110"
      ]
     },
     "execution_count": 4,
     "metadata": {},
     "output_type": "execute_result"
    }
   ],
   "source": [
    "len(set(data[data[\"メーカー名\"].isna()][\"医薬品名\"]))\n",
    "data[data[\"メーカー名\"].isna()][\"医薬品名\"].value_counts()\n",
    "med_name=list(set(data[data[\"メーカー名\"].isna()][\"医薬品名\"]))\n",
    "len(med_name)"
   ]
  },
  {
   "cell_type": "code",
   "execution_count": 5,
   "metadata": {},
   "outputs": [],
   "source": [
    "# make name clean\n",
    "# クリーン前のテキストをキー、クリーン後のテキストを値とする辞書を作成\n",
    "name2cleaned = {}\n",
    "cleaned=[]\n",
    "# テキストごとに処理を行うループ\n",
    "for name in med_name:\n",
    "    # クリーン処理を実行\n",
    "    cleaned_name = unicodedata.normalize('NFKC', re.sub(r'\\u3000', ' ', re.search(r'.*\\u3000', name).group()) if re.search(r'.*\\u3000', name) else name)\n",
    "    \n",
    "    cleaned.append(cleaned_name)\n",
    "    # クリーン前のテキストをキー、クリーン後のテキストを値として辞書に追加\n",
    "    name2cleaned[name] = cleaned_name\n",
    "\n",
    "# 辞書を出力\n",
    "# for original_name in name2cleaned.keys():\n",
    "#     print(f'Original name: {original_name}')\n",
    "#     print(f'Cleaned name:  {name2cleaned[original_name]}')\n",
    "#     print()\n"
   ]
  },
  {
   "cell_type": "markdown",
   "metadata": {},
   "source": [
    "## test"
   ]
  },
  {
   "cell_type": "code",
   "execution_count": 6,
   "metadata": {},
   "outputs": [],
   "source": [
    "\n",
    "# os.chdir(\"C:\\\\Users\\\\hakos\\\\Downloads\")\n",
    "# os.getcwd()\n",
    "# key=\"アレグラ\"\n",
    "# driver = webdriver.Firefox()\n",
    "# driver.minimize_window()\n",
    "# # ウェブページを開く\n",
    "# driver.get(f'https://medical.nikkeibp.co.jp/inc/all/drugdic/search?words={key}')\n",
    "\n",
    "# wait = WebDriverWait(driver, 1)\n",
    "# element = wait.until(EC.presence_of_element_located((By.XPATH,\"//*[@id='article01']/ul/li/div/a\")))\n",
    "# # element = driver.find_element(By.XPATH,\"//*[@id='article01']/ul/li/div/a\")\n",
    "\n",
    "# # HTML要素からURLを取得します\n",
    "# url = element.get_attribute(\"href\")\n",
    "\n",
    "# # 取得したURLにアクセスします\n",
    "# driver.get(url)\n",
    "\n",
    "# try:\n",
    "#     element = wait.until(EC.presence_of_element_located((By.XPATH,\"//*[@id='id-body']/div[1]/div[2]/div[1]/div/div[3]/div[2]/dl[2]/dd/div/a/span\")))\n",
    "#     maker = element.text\n",
    "#     try:\n",
    "#         element = driver.find_element(By.XPATH,\"/html/body/div[1]/div[1]/ul/li[last()]/a\")\n",
    "#         name = element.text\n",
    "#     except:\n",
    "#         name = None\n",
    "# except:\n",
    "#     maker = None\n",
    "\n",
    "# print(name,maker)\n",
    "\n",
    "# driver.quit()"
   ]
  },
  {
   "cell_type": "markdown",
   "metadata": {},
   "source": [
    "動的サイトなのでbs4じゃ無理らしい"
   ]
  },
  {
   "cell_type": "code",
   "execution_count": 7,
   "metadata": {},
   "outputs": [],
   "source": [
    "#　初期化　危ない\n",
    "clean=1\n",
    "name2firm={}\n",
    "name2name={}"
   ]
  },
  {
   "cell_type": "code",
   "execution_count": 10,
   "metadata": {},
   "outputs": [
    {
     "name": "stderr",
     "output_type": "stream",
     "text": [
      "C:\\Users\\hakos\\AppData\\Local\\Temp\\ipykernel_43036\\1101232084.py:10: DeprecationWarning: headless property is deprecated, instead use add_argument('-headless')\n",
      "  fireFoxOptions.headless=True\n"
     ]
    },
    {
     "name": "stdout",
     "output_type": "stream",
     "text": [
      "0 1 2 3 4 5 6 7 8 9 10 11 12 13 14 15 16 17 18 19 20 21 22 23 24 25 26 27 28 29 30 31 32 33 34 35 36 37 38 39 40 41 42 43 44 45 46 47 48 49 50 51 52 53 54 55 56 57 58 59 60 61 62 63 64 65 66 67 68 69 70 71 72 73 74 75 76 77 78 79 80 81 82 83 84 85 86 87 88 89 90 91 92 93 94 95 96 97 98 99 100 101 102 103 104 105 106 107 108 109 "
     ]
    }
   ],
   "source": [
    "from selenium.webdriver.firefox.options import Options\n",
    "os.chdir(\"C:\\\\Users\\\\hakos\\\\Downloads\")\n",
    "os.getcwd()\n",
    "def get_maker(key):\n",
    "# Create Firefox options\n",
    "    \n",
    "\n",
    "    # Create a Firefox WebDriver instance using the options\n",
    "    fireFoxOptions = Options()\n",
    "    fireFoxOptions.headless=True\n",
    "    # fireFoxOptions.addArguments(\"--headless\")\n",
    "    driver = webdriver.Firefox(options=fireFoxOptions)\n",
    "    # driver = webdriver.Firefox()\n",
    "    driver.minimize_window()\n",
    "    # ウェブページを開く\n",
    "    driver.get(f'https://medical.nikkeibp.co.jp/inc/all/drugdic/search?words={key}')\n",
    "\n",
    "    wait = WebDriverWait(driver, 5)\n",
    "    try:\n",
    "        element = wait.until(EC.presence_of_element_located((By.XPATH,\"//*[@id='article01']/ul/li/div/a\")))\n",
    "        # element = driver.find_element(By.XPATH,\"//*[@id='article01']/ul/li/div/a\")\n",
    "    except:\n",
    "        driver.quit()\n",
    "        return (None,None)\n",
    "\n",
    "    # HTML要素からURLを取得します\n",
    "    url = element.get_attribute(\"href\")\n",
    "\n",
    "    # 取得したURLにアクセスします\n",
    "    driver.get(url)\n",
    "\n",
    "    try:\n",
    "        element = wait.until(EC.presence_of_element_located((By.XPATH,\"//*[@id='id-body']/div[1]/div[2]/div[1]/div/div[3]/div[2]/dl[2]/dd/div/a/span\")))\n",
    "        maker = element.text\n",
    "        try:\n",
    "            element = driver.find_element(By.XPATH,\"/html/body/div[1]/div[1]/ul/li[last()]/a\")\n",
    "            name = element.text\n",
    "        except:\n",
    "            name = None\n",
    "    except:\n",
    "        maker = None\n",
    "    driver.quit()\n",
    "    return (maker,name)\n",
    "none_count=0\n",
    "# med_name=list(set(data[data[\"メーカー名\"].isna()][\"医薬品名\"]))\n",
    "failed=[]\n",
    "if clean:\n",
    "    med_name=cleaned\n",
    "for i,key in enumerate(med_name):\n",
    "    if key not in name2firm.keys():\n",
    "        maker,name=get_maker(key)\n",
    "        if maker is None:\n",
    "            none_count+=1\n",
    "            failed.append(key)\n",
    "        else:\n",
    "            name2firm[key]=maker\n",
    "            name2name[key]=name\n",
    "        # print(maker,name)\n",
    "    else:\n",
    "        continue\n",
    "    print(i,end=\" \")\n",
    "    time.sleep(1)"
   ]
  },
  {
   "cell_type": "markdown",
   "metadata": {},
   "source": [
    "name2firm"
   ]
  },
  {
   "cell_type": "code",
   "execution_count": 12,
   "metadata": {},
   "outputs": [
    {
     "data": {
      "text/plain": [
       "({'イトラコナゾール50mgカプセル': '沢井製薬',\n",
       "  'フェルビナクテープ35mg「三笠」 ': '三笠製薬',\n",
       "  'イトラコナゾール50mg錠': '小林化工',\n",
       "  'イソコナゾール硝酸塩300mg腟錠': '富士製薬',\n",
       "  'テルビナフィン塩酸塩125mg錠': 'ダイト',\n",
       "  'ジクロフェナクナトリウム50mg坐剤': '日本ジェネリック',\n",
       "  'ラクツロース経口ゼリー分包16.05g「サトウ」 ': '佐藤製薬',\n",
       "  'ベクロメタゾンプロピオン酸エステル8.5mg8.5g点鼻液': '東興薬品',\n",
       "  'ロペラミド塩酸塩1mgカプセル': '堀井薬品',\n",
       "  'トルナフタート液 ': '長生堂製薬',\n",
       "  'ベクロメタゾン点鼻液50μg「DSP」 ': '東興薬品',\n",
       "  '塩酸ロペラミド1mg錠': '寿製薬',\n",
       "  'ロキソプロフェンナトリウム60mg錠': '皇漢堂製薬',\n",
       "  'スルファメトキサゾール・トリメトプリム錠': '鶴原製薬',\n",
       "  '亜鉛華軟膏': '小堺製薬',\n",
       "  'イトラコナゾール100mg錠': '小林化工',\n",
       "  'ビクロックス錠400 ': '小林化工',\n",
       "  'クロモグリク酸ナトリウム190mg9.5mL点鼻液': 'マイラン製薬',\n",
       "  'アシクロビン錠200 ': '日医工',\n",
       "  'ツロブテロール塩酸塩1mg錠': '東和薬品',\n",
       "  'ケトプロフェンパップXR120mg「テイコク」 ': '帝國製薬',\n",
       "  'ロペラミド塩酸塩1mg錠': 'アルフレッサ\\u3000ファーマ',\n",
       "  'ベクロメタゾン点鼻液50μg「杏林」 ': 'キョーリンリメディオ',\n",
       "  'アンブロキソール塩酸塩45mg徐放性口腔内崩壊錠': '全星薬品',\n",
       "  'ケトプロフェンテープ20mg「三和」 ': '救急薬品',\n",
       "  '複方ヨード・グリセリン': '健栄製薬',\n",
       "  'フルコナゾール100mgカプセル': '富士製薬',\n",
       "  'オキシコナゾール硝酸塩600mg腟錠': '富士製薬',\n",
       "  'アンブロキソール塩酸塩15mg錠': '龍角散',\n",
       "  'カモスタットメシル酸塩100mg錠': '武田テバ薬品',\n",
       "  'イオウ': '興和',\n",
       "  'クレンブテロール塩酸塩10μg錠': '原沢製薬',\n",
       "  'アンブロキソール塩酸塩45mg徐放カプセル': '武田テバ薬品',\n",
       "  '乳酸': '大塚製薬工場',\n",
       "  'オフロキサシン3mg1mL点耳液': 'セオリア\\u3000ファーマ',\n",
       "  'ベクロメタゾン点鼻液50μg「CEO」 ': 'セオリア\\u3000ファーマ',\n",
       "  'アシクロビン錠400 ': '日医工',\n",
       "  'プロカテロール塩酸塩0.025mg錠': '日医工',\n",
       "  'ジスチグミン臭化物錠 ': '鳥居薬品',\n",
       "  'アシクロビル200mg錠': '日医工',\n",
       "  '薬用炭': '日医工',\n",
       "  'プロカテロール塩酸塩0.05mg錠': '日医工',\n",
       "  '塩酸ロペラミド1mgカプセル': '寿製薬',\n",
       "  'リトドリン塩酸塩5mg錠': 'サンド'},\n",
       " 44,\n",
       " 66)"
      ]
     },
     "execution_count": 12,
     "metadata": {},
     "output_type": "execute_result"
    }
   ],
   "source": [
    "name2firm,len(name2firm)"
   ]
  },
  {
   "cell_type": "code",
   "execution_count": 13,
   "metadata": {},
   "outputs": [],
   "source": [
    "import pickle\n",
    "os.chdir(\"C:/Users/hakos/GDrive/Downloads/Research/data/yakka\")\n",
    "\n",
    "if not clean:\n",
    "    file_path = './pickle/name2firm_nk.pkl'\n",
    "    with open(file_path, 'wb') as file:\n",
    "        pickle.dump(name2firm, file)\n",
    "    file_path = './pickle/name2name_nk.pkl'\n",
    "    with open(file_path, 'wb') as file:\n",
    "        pickle.dump(name2name, file)\n",
    "else:\n",
    "    file_path = './pickle/cleaned2firm_nk.pkl'\n",
    "    with open(file_path, 'wb') as file:\n",
    "        pickle.dump(name2firm, file)    \n",
    "    file_path = './pickle/name2cleaned_nk.pkl'\n",
    "    with open(file_path, 'wb') as file:\n",
    "        pickle.dump(name2cleaned, file)\n",
    "    file_path = './pickle/name2name_cl_nk.pkl'\n",
    "    with open(file_path, 'wb') as file:\n",
    "        pickle.dump(name2name, file)"
   ]
  },
  {
   "cell_type": "code",
   "execution_count": 14,
   "metadata": {},
   "outputs": [
    {
     "data": {
      "text/plain": [
       "(257, 132)"
      ]
     },
     "execution_count": 14,
     "metadata": {},
     "output_type": "execute_result"
    }
   ],
   "source": [
    "# 残り全体\n",
    "if clean:\n",
    "    data.loc[data[\"メーカー名\"].isna(),\"メーカー名\"]=data.loc[data[\"メーカー名\"].isna(),\"医薬品名\"].map(name2cleaned).map(name2firm)\n",
    "else:\n",
    "    data.loc[data[\"メーカー名\"].isna(),\"メーカー名\"]=data.loc[data[\"メーカー名\"].isna(),\"医薬品名\"].map(name2firm)\n",
    "data[data[\"メーカー名\"].isna()].shape"
   ]
  },
  {
   "cell_type": "code",
   "execution_count": 15,
   "metadata": {},
   "outputs": [
    {
     "data": {
      "text/plain": [
       "66"
      ]
     },
     "execution_count": 15,
     "metadata": {},
     "output_type": "execute_result"
    }
   ],
   "source": [
    "# 残り医薬品名\n",
    "len(set(data[data[\"メーカー名\"].isna()][\"医薬品名\"]))"
   ]
  },
  {
   "cell_type": "code",
   "execution_count": null,
   "metadata": {},
   "outputs": [
    {
     "data": {
      "text/plain": [
       "{'アシクロビル錠２００ｍｇ「マイラン」',\n",
       " 'アシクロビル２００ｍｇ錠',\n",
       " 'アシクロビン錠２００\\u3000２００ｍｇ',\n",
       " 'アシクロビン錠４００\\u3000４００ｍｇ',\n",
       " 'アシクロビン顆粒４０％',\n",
       " 'アルデイン坐剤２０ｍｇ',\n",
       " 'アンブロキソール塩酸塩錠１５ｍｇ「タナベ」',\n",
       " 'アンブロキソール塩酸塩０．３％シロップ',\n",
       " 'アンブロキソール塩酸塩１５ｍｇ錠',\n",
       " 'アンブロキソール塩酸塩４５ｍｇ徐放カプセル',\n",
       " 'アンブロキソール塩酸塩４５ｍｇ徐放性口腔内崩壊錠',\n",
       " 'イオウ',\n",
       " 'イオウ・サリチル酸・チアントール軟膏',\n",
       " 'イソコナゾール硝酸塩３００ｍｇ腟錠',\n",
       " 'イトラコナゾール１００ｍｇ錠',\n",
       " 'イトラコナゾール５０ｍｇカプセル',\n",
       " 'ウブテック錠５ｍｇ',\n",
       " 'エピナスチン塩酸塩錠２０ｍｇ「タイヨー」',\n",
       " 'オキシコナゾール硝酸塩６００ｍｇ腟錠',\n",
       " 'オフロキサシン３ｍｇ１ｍＬ点耳液',\n",
       " 'オリベート錠２\\u3000２ｍｇ',\n",
       " 'カモスタットメシル酸塩１００ｍｇ錠',\n",
       " 'クラレットカプセル１ｍｇ',\n",
       " 'クラレット細粒０．１％',\n",
       " 'クレンブテロール塩酸塩１０μｇ錠',\n",
       " 'クロトリマゾール１％クリーム',\n",
       " 'クロトリマゾール１００ｍｇ腟錠',\n",
       " 'クロモグリク酸ナトリウム１％２ｍＬ吸入液',\n",
       " 'クロモグリク酸ナトリウム１９０ｍｇ９．５ｍＬ点鼻液',\n",
       " 'クロモグリク酸Ｎａ吸入液１％「アメル」\\u3000２ｍＬ',\n",
       " 'ケトコナゾール２％クリーム',\n",
       " 'ケトコナゾール２％ローション',\n",
       " 'ケトチフェンネーザル０．０５％「ＴＹＫ」\\u3000６．０４８ｍｇ８ｍＬ',\n",
       " 'ケトチフェン点鼻液０．０５％「ツルハラ」\\u3000６．０４８ｍｇ８ｍＬ',\n",
       " 'ケトプロフェンテープ２０ｍｇ「三和」\\u3000７ｃｍ×１０ｃｍ',\n",
       " 'ケトプロフェンパップＸＲ１２０ｍｇ「テイコク」\\u3000１０×１４ｃｍ',\n",
       " 'サワダロン錠２００ｍｇ',\n",
       " 'ジクロフェナクナトリウム坐剤５０ｍｇ「タナベ」',\n",
       " 'ジクロフェナクナトリウム５０ｍｇ坐剤',\n",
       " 'ジスチグミン臭化物錠\\u3000５ｍｇ',\n",
       " 'スルピリド錠５０ｍｇ（ＴＹＫ）',\n",
       " 'スルファメトキサゾール・トリメトプリム錠',\n",
       " 'ソロムコ錠１５ｍｇ',\n",
       " 'タイペミンカプセル１ｍｇ',\n",
       " 'チクロピジン塩酸塩錠１００ｍｇ「タイヨー」',\n",
       " 'ツロブテロール塩酸塩０．１％シロップ用',\n",
       " 'ツロブテロール塩酸塩１ｍｇ錠',\n",
       " 'ツロブテロール（１ｍｇ）貼付剤',\n",
       " 'ツロブテロール（２ｍｇ）貼付剤',\n",
       " 'テルビナフィン塩酸塩１％クリーム',\n",
       " 'テルビナフィン塩酸塩１％液',\n",
       " 'テルビナフィン塩酸塩１２５ｍｇ錠',\n",
       " 'トルナフタート液\\u3000２％',\n",
       " 'ニチステート錠１００ｍｇ',\n",
       " 'ヒアルロン酸ナトリウム点眼液０．１％「ＴＳ」\\u3000５ｍＬ',\n",
       " 'ビクロックス錠４００\\u3000４００ｍｇ',\n",
       " 'ビダラビン３％クリーム',\n",
       " 'ビダラビン３％軟膏',\n",
       " 'ビホナゾールクリーム１％「タイヨー」',\n",
       " 'ビホナゾール１％クリーム',\n",
       " 'ビホナゾール１％液',\n",
       " 'ビルヘキサル錠２００ｍｇ',\n",
       " 'ビルヘキサル錠４００ｍｇ',\n",
       " 'ピロキシカム２０ｍｇ坐剤',\n",
       " 'フェルビナクテープ３５ｍｇ「三笠」\\u3000７ｃｍ×１０ｃｍ',\n",
       " 'フルコナゾール１００ｍｇカプセル',\n",
       " 'フルチカゾンプロピオン酸エステル日本臓器１１２\\u3000８．１６ｍｇ１６',\n",
       " 'フルチカゾンプロピオン酸エステル５０トーワ２８\\u3000２．０４ｍｇ４',\n",
       " 'フルチカゾンプロピオン酸エステル５０日本臓器２８\\u3000２．０４ｍｇ４',\n",
       " 'フルチカゾンプロピオン酸エステル５０ＣＥＯ２８\\u3000２．０４ｍｇ４',\n",
       " 'フルチカゾンプロピオン酸エステル５０ＤＳＰ２８\\u3000２．０４ｍｇ４',\n",
       " 'フルチカゾンプロピオン酸エステル５０ＪＧ２８\\u3000２．０４ｍｇ４',\n",
       " 'フルチカゾンプロピオン酸エステル５０ＪＧ５６\\u3000４．０８ｍｇ８',\n",
       " 'ブテナフィン塩酸塩１％クリーム',\n",
       " 'プロカテロール塩酸塩０．０００５％シロップ',\n",
       " 'プロカテロール塩酸塩０．０２５ｍｇ錠',\n",
       " 'プロカテロール塩酸塩０．０５ｍｇ錠',\n",
       " 'ベクロメタゾンプロピオン酸エステル８．５ｍｇ８．５ｇ点鼻液',\n",
       " 'ベクロメタゾン点鼻液５０μｇ「杏林」\\u3000８．５ｍｇ８．５ｇ',\n",
       " 'ベクロメタゾン点鼻液５０μｇ「ＣＥＯ」\\u3000８．５ｍｇ８．５ｇ',\n",
       " 'ベクロメタゾン点鼻液５０μｇ「ＤＳＰ」\\u3000８．５ｍｇ８．５ｇ',\n",
       " 'ベタメタゾン酪酸エステルプロピオン酸クリーム０．０５％「ＭＹＫ」',\n",
       " 'ベーエム錠１００ｍｇ',\n",
       " 'ホスポールクリーム１％',\n",
       " 'ボナフェック坐剤５０\\u3000５０ｍｇ',\n",
       " 'ミコナゾール硝酸塩１％クリーム',\n",
       " 'ミロピンカプセル１ｍｇ',\n",
       " 'メチレフト錠２５\\u3000０．０２５ｍｇ',\n",
       " 'メチレフト錠５０\\u3000０．０５ｍｇ',\n",
       " 'ラクツロース経口ゼリー分包１６．０５ｇ「サトウ」\\u3000４０．４９６％',\n",
       " 'リトドリン塩酸塩５ｍｇ錠',\n",
       " 'ルアダン錠２００ｍｇ',\n",
       " 'ロキソプロフェンナトリウム錠６０ｍｇ「タイヨー」',\n",
       " 'ロキソプロフェンナトリウム６０ｍｇ錠',\n",
       " 'ロペラミド塩酸塩１ｍｇカプセル',\n",
       " 'ロペラミド塩酸塩１ｍｇ錠',\n",
       " 'ロンバニンカプセル１ｍｇ',\n",
       " '乳酸',\n",
       " '亜鉛華軟膏',\n",
       " '塩酸ロペラミド１ｍｇカプセル',\n",
       " '塩酸ロペラミド１ｍｇ錠',\n",
       " '薬用炭',\n",
       " '複方ヨード・グリセリン',\n",
       " 'Ｄソルビトール',\n",
       " 'Ｄソルビトール内用液６５％「マルイシ」',\n",
       " 'Ｄソルビトール原末「マルイシ」',\n",
       " 'Ｄソルビトール液\\u3000６５％',\n",
       " 'Ｄソルビトール液\\u3000７５％',\n",
       " 'Ｄソルビトール経口液７５％「コーワ」'}"
      ]
     },
     "execution_count": 21,
     "metadata": {},
     "output_type": "execute_result"
    }
   ],
   "source": [
    "set(data[data[\"メーカー名\"].isna()][\"医薬品名\"])"
   ]
  },
  {
   "cell_type": "markdown",
   "metadata": {},
   "source": [
    "手作業"
   ]
  },
  {
   "cell_type": "code",
   "execution_count": null,
   "metadata": {},
   "outputs": [],
   "source": [
    "name2firm['アルデイン坐剤２０ｍｇ']=\"長生堂製薬\"\n",
    "name2firm['アンブロキソール塩酸塩錠１５ｍｇ「タナベ」']=\"長生堂製薬\"\n",
    "name2firm['イオウ・サリチル酸・チアントール軟膏']=\"日本薬品工業\"\n",
    "name2firm['ウブテック錠５ｍｇ']=\"大正薬品工業\"\n",
    "name2firm['エピナスチン塩酸塩錠２０ｍｇ「タイヨー」']=\"武田テバ\"\n",
    "name2firm['オリベート錠２\\u3000２ｍｇ']=\"沢井製薬\"\n",
    "name2firm['クラレットカプセル１ｍｇ']=\"龍角散\"\n",
    "name2firm['クラレット細粒０．１％']=\"龍角散\"\n",
    "name2firm['クロトリマゾール１００ｍｇ腟錠']=\"富士製薬\"\n",
    "name2firm['サワダロン錠２００ｍｇ']=\"沢井\"\n",
    "name2firm['ジクロフェナクナトリウム坐剤５０ｍｇ「タナベ」']=\"長生堂製薬\"\n",
    "name2firm['ソロムコ錠１５ｍｇ']=\"共和薬品工業\"\n",
    "name2firm['タイペミンカプセル１ｍｇ']=\"日本ジェネリック\"\n",
    "name2firm['チクロピジン塩酸塩錠１００ｍｇ「タイヨー」']=\"武田テバファーマ\"\n",
    "name2firm['ニチステート錠１００ｍｇ']=\"日医工\"\n",
    "name2firm['ビホナゾールクリーム１％「タイヨー」']=\"武田テバ\"\n",
    "name2firm['ピロキシカム２０ｍｇ坐剤']=\"長生堂製薬\"\n",
    "name2firm['フルチカゾンプロピオン酸エステル日本臓器１１２\\u3000８．１６ｍｇ１６']=\"日本臓器製薬\"\n",
    "name2firm['フルチカゾンプロピオン酸エステル５０トーワ２８\\u3000２．０４ｍｇ４']=\"東和薬品\"\n",
    "name2firm['フルチカゾンプロピオン酸エステル５０日医工２８\\u3000２．０４ｍｇ４']=\"日医工\"\n",
    "name2firm['フルチカゾンプロピオン酸エステル５０日本臓器２８\\u3000２．０４ｍｇ４']=\"日本臓器製薬\"\n",
    "name2firm['フルチカゾンプロピオン酸エステル５０ＣＥＯ２８\\u3000２．０４ｍｇ４']=\"セオリアファーマ\"\n",
    "name2firm['フルチカゾンプロピオン酸エステル５０ＤＳＰ２８\\u3000２．０４ｍｇ４']=\"東興薬品\"\n",
    "name2firm['フルチカゾンプロピオン酸エステル５０ＪＧ２８\\u3000２．０４ｍｇ４']=\"長生堂製薬\"\n",
    "name2firm['フルチカゾンプロピオン酸エステル５０ＪＧ５６\\u3000４．０８ｍｇ８']=\"長生堂製薬\"\n",
    "name2firm['フルチカゾン点鼻液５０μｇイセイ２８噴霧用\\u3000２．０４ｍｇ４ｍＬ']=\"コーアイセイ\"\n",
    "name2firm['フルチカゾン点鼻５０μｇ「アメル」２８噴霧\\u3000２．０４ｍｇ４ｍＬ']=\"共和薬品\"\n",
    "name2firm['フルチカゾン点鼻５０μｇ「イセイ」５６噴霧\\u3000４．０８ｍｇ８ｍＬ']=\"コーアイセイ\"\n",
    "name2firm['フルチカゾン点鼻５０μｇ「サワイ」２８噴霧\\u3000２．０４ｍｇ４ｍＬ']=\"沢井製薬\"\n",
    "name2firm['フルチカゾン点鼻５０μｇ「トーワ」２８噴霧\\u3000２．０４ｍｇ４ｍＬ']=\"東和薬品\"\n",
    "name2firm['フルチカゾン点鼻５０μｇ「ＮｉｋＰ」２８噴霧\\u3000２．０４ｍｇ４ｍＬ']=\"日医工ファーマ\"\n",
    "name2firm['プロピオン酸フルチカゾン点鼻５０ＣＨ２８\\u3000２．０４ｍｇ４ｍＬ']=\"長生堂製薬\"\n",
    "name2firm['プロピオン酸フルチカゾン点鼻５０ＣＨ５６\\u3000４．０８ｍｇ８ｍＬ']=\"長生堂製薬\"\n",
    "name2firm['ベクロメタゾンパウダー２５μｇトーワ\\u3000１．５０ｍｇ０．９０８７ｇ']=\"東和薬品\"\n",
    "name2firm['ベクロメタゾン点鼻液５０μｇファイザー\\u3000９．３７５ｍｇ７．５ｇ']=\"マイラン製薬\"\n",
    "name2firm['ベタメタゾン酪酸エステルプロピオン酸クリーム０．０５％「ＭＹＫ」']=\"前田薬品工業\"\n",
    "name2firm['ベタメタゾン酪酸エステルプロピオン酸ローション０．０５％ＭＹＫ']=\"前田薬品工業\"\n",
    "name2firm['ベーエム錠１００ｍｇ']=\"キョーリンリメディオ\"\n",
    "name2firm['ホスポールクリーム１％']=\"沢井製薬\"\n",
    "name2firm['ボナフェック坐剤５０\\u3000５０ｍｇ']=\"日新製薬\"\n",
    "name2firm['ミロピンカプセル１ｍｇ']=\"沢井製薬\"\n",
    "name2firm['メチレフト錠２５\\u3000０．０２５ｍｇ']=\"沢井製薬\"\n",
    "name2firm['メチレフト錠５０\\u3000０．０５ｍｇ']=\"沢井製薬\"\n",
    "name2firm['ルアダン錠２００ｍｇ']=\"科研製薬\"\n",
    "name2firm['ロキソプロフェンナトリウム錠６０ｍｇ「タイヨー」']=\"武田テバファーマ\"\n",
    "name2firm['ロンバニンカプセル１ｍｇ']=\"辰巳化学\"\n",
    "name2firm['Ｄソルビトール内用液６５％「マルイシ」']=\"丸石製薬\"\n",
    "name2firm['Ｄソルビトール原末「マルイシ」']=\"丸石製薬\"\n",
    "name2firm['Ｄソルビトール液\\u3000６５％']=\"丸石製薬\"\n",
    "name2firm['Ｄソルビトール液\\u3000７５％']=\"丸石製薬\"\n",
    "name2firm['Ｄソルビトール経口液７５％「コーワ」']=\"興和\""
   ]
  },
  {
   "cell_type": "code",
   "execution_count": null,
   "metadata": {},
   "outputs": [
    {
     "data": {
      "text/plain": [
       "(291, 132)"
      ]
     },
     "execution_count": 23,
     "metadata": {},
     "output_type": "execute_result"
    }
   ],
   "source": [
    "# 残り全体\n",
    "# data.loc[data[\"メーカー名\"].isna(),\"メーカー名\"]=data.loc[data[\"メーカー名\"].isna(),\"医薬品名\"].map(name2cleaned).map(name2firm)\n",
    "data.loc[data[\"メーカー名\"].isna(),\"メーカー名\"]=data.loc[data[\"メーカー名\"].isna(),\"医薬品名\"].map(name2firm)\n",
    "data[data[\"メーカー名\"].isna()].shape"
   ]
  },
  {
   "cell_type": "code",
   "execution_count": null,
   "metadata": {},
   "outputs": [],
   "source": [
    "os.chdir(\"C:/Users/hakos/GDrive/Downloads/Research/data/yakka\")\n",
    "# data.to_csv('../merged/len3_ndb_blp_DN_firm_filled.csv',encoding='utf-8')"
   ]
  }
 ],
 "metadata": {
  "kernelspec": {
   "display_name": "Python 3",
   "language": "python",
   "name": "python3"
  },
  "language_info": {
   "codemirror_mode": {
    "name": "ipython",
    "version": 3
   },
   "file_extension": ".py",
   "mimetype": "text/x-python",
   "name": "python",
   "nbconvert_exporter": "python",
   "pygments_lexer": "ipython3",
   "version": "3.10.4"
  },
  "orig_nbformat": 4
 },
 "nbformat": 4,
 "nbformat_minor": 2
}
