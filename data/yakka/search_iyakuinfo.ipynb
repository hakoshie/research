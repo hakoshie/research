{
 "cells": [
  {
   "cell_type": "code",
   "execution_count": 1,
   "metadata": {},
   "outputs": [],
   "source": [
    "import requests\n",
    "from bs4 import BeautifulSoup\n",
    "import unicodedata\n",
    "import pandas as pd\n",
    "import re\n",
    "import time"
   ]
  },
  {
   "cell_type": "markdown",
   "metadata": {},
   "source": [
    "iyakuinfo　速すぎる"
   ]
  },
  {
   "cell_type": "code",
   "execution_count": 2,
   "metadata": {},
   "outputs": [
    {
     "name": "stderr",
     "output_type": "stream",
     "text": [
      "C:\\Users\\hakos\\AppData\\Local\\Temp\\ipykernel_19252\\1102737598.py:1: DtypeWarning: Columns (118) have mixed types. Specify dtype option on import or set low_memory=False.\n",
      "  data=pd.read_csv(\"../merged/len3_ndb_blp_DN_firm.csv\",encoding=\"utf-8\",index_col=0)\n"
     ]
    },
    {
     "data": {
      "text/html": [
       "<div>\n",
       "<style scoped>\n",
       "    .dataframe tbody tr th:only-of-type {\n",
       "        vertical-align: middle;\n",
       "    }\n",
       "\n",
       "    .dataframe tbody tr th {\n",
       "        vertical-align: top;\n",
       "    }\n",
       "\n",
       "    .dataframe thead th {\n",
       "        text-align: right;\n",
       "    }\n",
       "</style>\n",
       "<table border=\"1\" class=\"dataframe\">\n",
       "  <thead>\n",
       "    <tr style=\"text-align: right;\">\n",
       "      <th></th>\n",
       "      <th>薬効分類</th>\n",
       "      <th>薬効分類名称</th>\n",
       "      <th>医薬品コード</th>\n",
       "      <th>医薬品名</th>\n",
       "      <th>薬価基準収載医薬品コード</th>\n",
       "      <th>薬価_x</th>\n",
       "      <th>後発品区分</th>\n",
       "      <th>総計</th>\n",
       "      <th>year</th>\n",
       "      <th>in_hospital</th>\n",
       "      <th>...</th>\n",
       "      <th>先発医薬品</th>\n",
       "      <th>同一剤形・規格の後発医薬品がある先発医薬品</th>\n",
       "      <th>薬価_y</th>\n",
       "      <th>経過措置による使用期限</th>\n",
       "      <th>備考</th>\n",
       "      <th>a</th>\n",
       "      <th>b</th>\n",
       "      <th>c</th>\n",
       "      <th>d</th>\n",
       "      <th>_merge</th>\n",
       "    </tr>\n",
       "  </thead>\n",
       "  <tbody>\n",
       "    <tr>\n",
       "      <th>0</th>\n",
       "      <td>114.0</td>\n",
       "      <td>解熱鎮痛消炎剤</td>\n",
       "      <td>620007096.0</td>\n",
       "      <td>ボルタレン錠２５ｍｇ</td>\n",
       "      <td>1147002F1560</td>\n",
       "      <td>13.1</td>\n",
       "      <td>0.0</td>\n",
       "      <td>2.489539e+07</td>\n",
       "      <td>2014</td>\n",
       "      <td>1</td>\n",
       "      <td>...</td>\n",
       "      <td>先発品</td>\n",
       "      <td>○</td>\n",
       "      <td>13.1</td>\n",
       "      <td>NaN</td>\n",
       "      <td>NaN</td>\n",
       "      <td>NaN</td>\n",
       "      <td>NaN</td>\n",
       "      <td>NaN</td>\n",
       "      <td>NaN</td>\n",
       "      <td>both</td>\n",
       "    </tr>\n",
       "    <tr>\n",
       "      <th>1</th>\n",
       "      <td>114.0</td>\n",
       "      <td>解熱鎮痛消炎剤</td>\n",
       "      <td>620007095.0</td>\n",
       "      <td>ボルタレンＳＲカプセル３７．５ｍｇ</td>\n",
       "      <td>1147002N1174</td>\n",
       "      <td>23.2</td>\n",
       "      <td>0.0</td>\n",
       "      <td>1.024590e+07</td>\n",
       "      <td>2014</td>\n",
       "      <td>1</td>\n",
       "      <td>...</td>\n",
       "      <td>先発品</td>\n",
       "      <td>○</td>\n",
       "      <td>23.2</td>\n",
       "      <td>NaN</td>\n",
       "      <td>NaN</td>\n",
       "      <td>NaN</td>\n",
       "      <td>NaN</td>\n",
       "      <td>NaN</td>\n",
       "      <td>NaN</td>\n",
       "      <td>both</td>\n",
       "    </tr>\n",
       "    <tr>\n",
       "      <th>2</th>\n",
       "      <td>114.0</td>\n",
       "      <td>解熱鎮痛消炎剤</td>\n",
       "      <td>620007096.0</td>\n",
       "      <td>ボルタレン錠２５ｍｇ</td>\n",
       "      <td>1147002F1560</td>\n",
       "      <td>13.1</td>\n",
       "      <td>0.0</td>\n",
       "      <td>5.025912e+07</td>\n",
       "      <td>2014</td>\n",
       "      <td>0</td>\n",
       "      <td>...</td>\n",
       "      <td>先発品</td>\n",
       "      <td>○</td>\n",
       "      <td>13.1</td>\n",
       "      <td>NaN</td>\n",
       "      <td>NaN</td>\n",
       "      <td>NaN</td>\n",
       "      <td>NaN</td>\n",
       "      <td>NaN</td>\n",
       "      <td>NaN</td>\n",
       "      <td>both</td>\n",
       "    </tr>\n",
       "    <tr>\n",
       "      <th>3</th>\n",
       "      <td>114.0</td>\n",
       "      <td>解熱鎮痛消炎剤</td>\n",
       "      <td>620007095.0</td>\n",
       "      <td>ボルタレンＳＲカプセル３７．５ｍｇ</td>\n",
       "      <td>1147002N1174</td>\n",
       "      <td>23.2</td>\n",
       "      <td>0.0</td>\n",
       "      <td>2.742935e+07</td>\n",
       "      <td>2014</td>\n",
       "      <td>0</td>\n",
       "      <td>...</td>\n",
       "      <td>先発品</td>\n",
       "      <td>○</td>\n",
       "      <td>23.2</td>\n",
       "      <td>NaN</td>\n",
       "      <td>NaN</td>\n",
       "      <td>NaN</td>\n",
       "      <td>NaN</td>\n",
       "      <td>NaN</td>\n",
       "      <td>NaN</td>\n",
       "      <td>both</td>\n",
       "    </tr>\n",
       "    <tr>\n",
       "      <th>4</th>\n",
       "      <td>114.0</td>\n",
       "      <td>解熱鎮痛消炎剤</td>\n",
       "      <td>661140081.0</td>\n",
       "      <td>ボルタレンサポ５０ｍｇ</td>\n",
       "      <td>1147700J3084</td>\n",
       "      <td>63.1</td>\n",
       "      <td>0.0</td>\n",
       "      <td>5.339043e+06</td>\n",
       "      <td>2014</td>\n",
       "      <td>1</td>\n",
       "      <td>...</td>\n",
       "      <td>先発品</td>\n",
       "      <td>○</td>\n",
       "      <td>63.1</td>\n",
       "      <td>NaN</td>\n",
       "      <td>NaN</td>\n",
       "      <td>NaN</td>\n",
       "      <td>NaN</td>\n",
       "      <td>NaN</td>\n",
       "      <td>NaN</td>\n",
       "      <td>both</td>\n",
       "    </tr>\n",
       "  </tbody>\n",
       "</table>\n",
       "<p>5 rows × 131 columns</p>\n",
       "</div>"
      ],
      "text/plain": [
       "    薬効分類   薬効分類名称       医薬品コード               医薬品名  薬価基準収載医薬品コード  薬価_x  後発品区分  \\\n",
       "0  114.0  解熱鎮痛消炎剤  620007096.0         ボルタレン錠２５ｍｇ  1147002F1560  13.1    0.0   \n",
       "1  114.0  解熱鎮痛消炎剤  620007095.0  ボルタレンＳＲカプセル３７．５ｍｇ  1147002N1174  23.2    0.0   \n",
       "2  114.0  解熱鎮痛消炎剤  620007096.0         ボルタレン錠２５ｍｇ  1147002F1560  13.1    0.0   \n",
       "3  114.0  解熱鎮痛消炎剤  620007095.0  ボルタレンＳＲカプセル３７．５ｍｇ  1147002N1174  23.2    0.0   \n",
       "4  114.0  解熱鎮痛消炎剤  661140081.0        ボルタレンサポ５０ｍｇ  1147700J3084  63.1    0.0   \n",
       "\n",
       "             総計  year  in_hospital  ...  先発医薬品  同一剤形・規格の後発医薬品がある先発医薬品  薬価_y  \\\n",
       "0  2.489539e+07  2014            1  ...    先発品                      ○  13.1   \n",
       "1  1.024590e+07  2014            1  ...    先発品                      ○  23.2   \n",
       "2  5.025912e+07  2014            0  ...    先発品                      ○  13.1   \n",
       "3  2.742935e+07  2014            0  ...    先発品                      ○  23.2   \n",
       "4  5.339043e+06  2014            1  ...    先発品                      ○  63.1   \n",
       "\n",
       "  経過措置による使用期限   備考   a   b   c   d  _merge  \n",
       "0         NaN  NaN NaN NaN NaN NaN    both  \n",
       "1         NaN  NaN NaN NaN NaN NaN    both  \n",
       "2         NaN  NaN NaN NaN NaN NaN    both  \n",
       "3         NaN  NaN NaN NaN NaN NaN    both  \n",
       "4         NaN  NaN NaN NaN NaN NaN    both  \n",
       "\n",
       "[5 rows x 131 columns]"
      ]
     },
     "execution_count": 2,
     "metadata": {},
     "output_type": "execute_result"
    }
   ],
   "source": [
    "data=pd.read_csv(\"../merged/len3_ndb_blp_DN_firm.csv\",encoding=\"utf-8\",index_col=0)\n",
    "data.head()\n"
   ]
  },
  {
   "cell_type": "code",
   "execution_count": 3,
   "metadata": {},
   "outputs": [],
   "source": [
    "# set(data[\"メーカー名\"])"
   ]
  },
  {
   "cell_type": "code",
   "execution_count": 4,
   "metadata": {},
   "outputs": [
    {
     "name": "stdout",
     "output_type": "stream",
     "text": [
      "ジスチグミン臭化物錠５ｍｇ「テバ」 武田テバ薬品\n"
     ]
    }
   ],
   "source": [
    "# test\n",
    "# ここにあなたのHTMLコードを設定してください\n",
    "url=\"https://www.iyaku.info/medicine/?sk2=ジスチグミン臭化物錠５ｍｇ「テバ」&sk3=&sf=1#st\"\n",
    "\n",
    "r=requests.get(url)\n",
    "soup=BeautifulSoup(r.content,\"html.parser\")\n",
    "# 指定されたCSSセレクターを使用して要素を取得します\n",
    "target_element = soup.select_one(\"#medicine > div.form_search2.mt40 > table.tb_bot > tr:nth-child(1) > td.w210.pl00 > p\")\n",
    "name=soup.select_one(\"#medicine > div.form_search2.mt40 > table:nth-child(3) > tr:nth-child(1) > td.w500 > p > strong\")\n",
    "# 要素が存在するか確認します\n",
    "if target_element:\n",
    "    # 要素のテキストを取得します\n",
    "    text = target_element.get_text()\n",
    "    name=name.get_text()\n",
    "    print(name,text)\n",
    "else:\n",
    "    print(\"要素が見つかりませんでした\")\n"
   ]
  },
  {
   "cell_type": "code",
   "execution_count": 5,
   "metadata": {},
   "outputs": [
    {
     "data": {
      "text/plain": [
       "52"
      ]
     },
     "execution_count": 5,
     "metadata": {},
     "output_type": "execute_result"
    }
   ],
   "source": [
    "med_names=list(set(data.loc[data[\"メーカー名\"].isna(),\"医薬品名\"]))\n",
    "len(med_names)"
   ]
  },
  {
   "cell_type": "markdown",
   "metadata": {},
   "source": [
    "cleanしても意味がなかった"
   ]
  },
  {
   "cell_type": "code",
   "execution_count": 6,
   "metadata": {},
   "outputs": [
    {
     "data": {
      "text/plain": [
       "52"
      ]
     },
     "execution_count": 6,
     "metadata": {},
     "output_type": "execute_result"
    }
   ],
   "source": [
    "name2cleaned = {}\n",
    "cleaned=[]\n",
    "for med_name in med_names:\n",
    "    # クリーン処理を実行\n",
    "    cleaned_name = unicodedata.normalize('NFKC', re.sub(r'\\u3000', ' ', re.search(r'.*\\u3000', med_name).group()) if re.search(r'.*\\u3000', med_name) else med_name)\n",
    "    \n",
    "    cleaned.append(cleaned_name)\n",
    "    # クリーン前のテキストをキー、クリーン後のテキストを値として辞書に追加\n",
    "    name2cleaned[med_name] = cleaned_name\n",
    "len(cleaned)"
   ]
  },
  {
   "cell_type": "code",
   "execution_count": 7,
   "metadata": {},
   "outputs": [
    {
     "data": {
      "text/plain": [
       "['アンブロキソール塩酸塩内用液0.75%「JG」',\n",
       " 'ビスコポール外用液1%',\n",
       " 'マーヨン錠「50μg」 ',\n",
       " 'アンブロキソール塩酸塩内用液0.75%「ツルハラ」',\n",
       " 'アンブロキソール塩酸塩内用液0.75%「タイヨー」']"
      ]
     },
     "execution_count": 7,
     "metadata": {},
     "output_type": "execute_result"
    }
   ],
   "source": [
    "cleaned[:5]"
   ]
  },
  {
   "cell_type": "code",
   "execution_count": 8,
   "metadata": {},
   "outputs": [],
   "source": [
    "# matched=[]\n",
    "# for name in cleaned:\n",
    "#     pattern = r'「(.*?)」'\n",
    "#     matches = re.findall(pattern, name,flags=re.MULTILINE)\n",
    "#     for match in matches:\n",
    "#         # print(match)\n",
    "#         matched.append(match)\n",
    "# # pd.Series(matched).value_counts(),len(matched)"
   ]
  },
  {
   "cell_type": "code",
   "execution_count": 9,
   "metadata": {},
   "outputs": [
    {
     "name": "stdout",
     "output_type": "stream",
     "text": [
      "0 1 2 3 4 5 6 7 8 9 10 11 12 13 14 15 16 17 18 19 20 21 22 23 24 25 26 27 28 29 30 31 32 33 34 35 36 37 38 39 40 41 42 43 44 45 46 47 48 49 50 51 "
     ]
    }
   ],
   "source": [
    "# data_lack=data[data[\"メーカー名\"].isna()]\n",
    "name2firm={}\n",
    "name2name={}\n",
    "failed=[]\n",
    "for i,med_name in enumerate(med_names):\n",
    "    url=f\"https://www.iyaku.info/medicine/?sk2={med_name}&sk3=&sf=1#st\"\n",
    "    # print(url)\n",
    "    r=requests.get(url)\n",
    "    soup=BeautifulSoup(r.content,\"html.parser\")\n",
    "    # 指定されたCSSセレクターを使用して要素を取得します\n",
    "    target_element = soup.select_one(\"#medicine > div.form_search2.mt40 > table.tb_bot > tr:nth-child(1) > td.w210.pl00 > p\")\n",
    "    name=soup.select_one(\"#medicine > div.form_search2.mt40 > table:nth-child(3) > tr:nth-child(1) > td.w500 > p > strong\")\n",
    "    # 要素が存在するか確認します\n",
    "    if target_element:\n",
    "        # 要素のテキストを取得します\n",
    "        text = target_element.get_text()\n",
    "        name=name.get_text()\n",
    "        name2name[med_name]=name\n",
    "        name2firm[med_name]=text\n",
    "        # print(text)\n",
    "    else:\n",
    "        failed.append(med_name)\n",
    "        # print(\"要素が見つかりませんでした\")\n",
    "    print(i, end=\" \")\n",
    "    time.sleep(1)"
   ]
  },
  {
   "cell_type": "code",
   "execution_count": 10,
   "metadata": {},
   "outputs": [
    {
     "data": {
      "text/plain": [
       "25"
      ]
     },
     "execution_count": 10,
     "metadata": {},
     "output_type": "execute_result"
    }
   ],
   "source": [
    "len(name2firm)"
   ]
  },
  {
   "cell_type": "code",
   "execution_count": 16,
   "metadata": {},
   "outputs": [],
   "source": [
    "import pickle\n",
    "\n",
    "file_path = './pickle/name2firm_ii.pkl'\n",
    "with open(file_path, 'wb') as file:\n",
    "    pickle.dump(name2firm, file)\n",
    "file_path = './pickle/name2name_ii.pkl'\n",
    "with open(file_path, 'wb') as file:\n",
    "    pickle.dump(name2name, file)"
   ]
  },
  {
   "cell_type": "code",
   "execution_count": 12,
   "metadata": {},
   "outputs": [],
   "source": [
    "data.loc[data[\"メーカー名\"].isna(),\"メーカー名\"]=data.loc[data[\"メーカー名\"].isna(),\"医薬品名\"].map(name2firm)"
   ]
  },
  {
   "cell_type": "code",
   "execution_count": 13,
   "metadata": {},
   "outputs": [
    {
     "data": {
      "text/plain": [
       "(ピロキシカム坐剤２０ｍｇ「ＪＧ」                2\n",
       " アポラキート錠２００ｍｇ                    2\n",
       " アシクロビル錠２００ｍｇ「ファイザー」             2\n",
       " ビクロックス錠２００　２００ｍｇ                2\n",
       " ビフォノールクリーム１％                    2\n",
       " ビスコポールクリーム１％                    2\n",
       " マリンゾールクリーム１％                    2\n",
       " ビスコポール外用液１％                     2\n",
       " マイコゾールクリーム１％                    2\n",
       " ビルミチンクリーム１％                     2\n",
       " ビクロノール外用液１％                     2\n",
       " ビクロノールクリーム１％                    2\n",
       " ラニチジン錠１５０ｍｇ「サワイ」                2\n",
       " ラニチジン錠１５０ｍｇ「日医工」                2\n",
       " ロペラミド塩酸塩細粒０．１％「フソー」             2\n",
       " ロペラミド塩酸塩細粒小児用０．０５％「タイヨー」        2\n",
       " ツロブテロール塩酸塩１ｍｇ錠                  2\n",
       " マーヨン錠「５０μｇ」　０．０５ｍｇ              2\n",
       " エプカロール錠５０μｇ　０．０５ｍｇ              2\n",
       " プロカテロール塩酸塩錠５０μｇ「日医工」　０．０５ｍｇ     2\n",
       " プロカテロール塩酸塩錠５０μｇ「サワイ」　０．０５ｍｇ     2\n",
       " エプカロール錠２５μｇ　０．０２５ｍｇ             2\n",
       " 塩酸アンブロキソール内用液０．７５％「ＰＨ」          2\n",
       " アシクロビル錠２００ｍｇ「テバ」                2\n",
       " チモロール点眼液Ｔ０．５％                   1\n",
       " フラボキサート塩酸塩錠２００ｍｇ「フソー」           1\n",
       " プロカテロール塩酸塩錠２５μｇ「トーワ」　０．０２５ｍｇ    1\n",
       " Name: 医薬品名, dtype: int64,\n",
       " 2655708N1016    12\n",
       " 2259004F2010     8\n",
       " 6250002F1017     6\n",
       " 2325002F1011     4\n",
       " 2655708Q1012     4\n",
       " 2259004F1013     3\n",
       " 2590002F1010     3\n",
       " 1149701J1013     2\n",
       " 2239001S1015     2\n",
       " 2259002F1014     2\n",
       " 2319001C1013     2\n",
       " 2319001C2010     2\n",
       " 1319702Q2014     1\n",
       " Name: 薬価基準収載医薬品コード, dtype: int64)"
      ]
     },
     "execution_count": 13,
     "metadata": {},
     "output_type": "execute_result"
    }
   ],
   "source": [
    "data_lack=data[data[\"メーカー名\"].isna()]\n",
    "data_lack[\"医薬品名\"].value_counts(),data_lack[\"薬価基準収載医薬品コード\"].value_counts()"
   ]
  },
  {
   "cell_type": "code",
   "execution_count": 14,
   "metadata": {},
   "outputs": [
    {
     "data": {
      "text/plain": [
       "(25798, 131)"
      ]
     },
     "execution_count": 14,
     "metadata": {},
     "output_type": "execute_result"
    }
   ],
   "source": [
    "data.shape\n",
    "# data.to_csv(\"../merged/len3_ndb_blp_DN_firm_filled.csv\",encoding=\"utf-8\")"
   ]
  },
  {
   "cell_type": "code",
   "execution_count": 15,
   "metadata": {},
   "outputs": [
    {
     "data": {
      "text/plain": [
       "{'アンブロキソール塩酸塩内用液０．７５％「ＪＧ」': 'アンブロキソール塩酸塩内用液０．７５％「ＪＧ」',\n",
       " 'アンブロキソール塩酸塩内用液０．７５％「ツルハラ」': 'アンブロキソール塩酸塩内用液０．７５％「ツルハラ」',\n",
       " 'アンブロキソール塩酸塩内用液０．７５％「タイヨー」': 'アンブロキソール塩酸塩内用液０．７５％「タイヨー」',\n",
       " 'ツロブテロール塩酸塩ＤＳ小児用０．１％「タカタ」': 'ツロブテロール塩酸塩ＤＳ小児用０．１％「タカタ」',\n",
       " 'オキシブチニン塩酸塩錠２ｍｇ「トーワ」': 'オキシブチニン塩酸塩錠２ｍｇ「トーワ」',\n",
       " 'ビホナゾールクリーム１％「ＹＤ」': 'ビホナゾールクリーム１％「ＹＤ」',\n",
       " 'クロトリマゾールクリーム１％「イワキ」': 'クロトリマゾールクリーム１％「イワキ」',\n",
       " 'アシクロビル錠２００ｍｇ「トーワ」': 'アシクロビル錠２００ｍｇ「トーワ」',\n",
       " 'ツロブテロール塩酸塩錠１ｍｇ「トーワ」': 'ツロブテロール塩酸塩錠１ｍｇ「トーワ」',\n",
       " 'フラボキサート塩酸塩錠２００ｍｇ「日医工」': 'フラボキサート塩酸塩錠２００ｍｇ「日医工」',\n",
       " 'アシクロビル錠２００ｍｇ「サワイ」': 'アシクロビル錠２００ｍｇ「サワイ」',\n",
       " 'ツロブテロール塩酸塩ＤＳ０．１％「オーハラ」': 'ツロブテロール塩酸塩ＤＳ０．１％「オーハラ」',\n",
       " 'イルソグラジンマレイン酸塩錠２ｍｇ「日医工」': 'イルソグラジンマレイン酸塩錠２ｍｇ「日医工」',\n",
       " 'トリメブチンマレイン酸塩錠１００ｍｇ「トーワ」': 'トリメブチンマレイン酸塩錠１００ｍｇ「トーワ」',\n",
       " 'ツロブテロール塩酸塩ＤＳ小児用０．１％「トーワ」': 'ツロブテロール塩酸塩ＤＳ小児用０．１％「トーワ」',\n",
       " 'オキシブチニン塩酸塩錠２ｍｇ「日医工」': 'オキシブチニン塩酸塩錠２ｍｇ「日医工」',\n",
       " 'エルサメット配合錠': 'エルサメット配合錠',\n",
       " 'フラボキサート塩酸塩錠２００ｍｇ「サワイ」': 'フラボキサート塩酸塩錠２００ｍｇ「サワイ」',\n",
       " 'トラニラストカプセル１００ｍｇ「ＣＨ」': 'トラニラストカプセル１００ｍｇ「ＣＨ」',\n",
       " 'アシクロビル錠２００ｍｇ「ＣＨ」': 'アシクロビル錠２００ｍｇ「ＣＨ」',\n",
       " 'トリメブチンマレイン酸塩細粒２０％「ツルハラ」': 'トリメブチンマレイン酸塩細粒２０％「ツルハラ」',\n",
       " 'ビホナゾールクリーム１％「Ｆ」': 'ビホナゾールクリーム１％「Ｆ」',\n",
       " 'ビホナゾールクリーム１％「サワイ」': 'ビホナゾールクリーム１％「サワイ」',\n",
       " 'オキシブチニン塩酸塩錠２ｍｇ「サワイ」': 'オキシブチニン塩酸塩錠２ｍｇ「サワイ」',\n",
       " 'ナフトピジルＯＤ錠２５ｍｇ「ＥＥ」': 'ナフトピジルＯＤ錠２５ｍｇ「ＥＥ」'}"
      ]
     },
     "execution_count": 15,
     "metadata": {},
     "output_type": "execute_result"
    }
   ],
   "source": [
    "name2name"
   ]
  }
 ],
 "metadata": {
  "kernelspec": {
   "display_name": "Python 3",
   "language": "python",
   "name": "python3"
  },
  "language_info": {
   "codemirror_mode": {
    "name": "ipython",
    "version": 3
   },
   "file_extension": ".py",
   "mimetype": "text/x-python",
   "name": "python",
   "nbconvert_exporter": "python",
   "pygments_lexer": "ipython3",
   "version": "3.10.4"
  },
  "orig_nbformat": 4
 },
 "nbformat": 4,
 "nbformat_minor": 2
}
