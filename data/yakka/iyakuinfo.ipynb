{
 "cells": [
  {
   "cell_type": "code",
   "execution_count": 14,
   "metadata": {},
   "outputs": [],
   "source": [
    "import requests\n",
    "from bs4 import BeautifulSoup\n",
    "import unicodedata\n",
    "import pandas as pd\n",
    "import re\n",
    "import time"
   ]
  },
  {
   "cell_type": "markdown",
   "metadata": {},
   "source": [
    "iyakuinfo　速すぎる"
   ]
  },
  {
   "cell_type": "code",
   "execution_count": 15,
   "metadata": {},
   "outputs": [
    {
     "name": "stderr",
     "output_type": "stream",
     "text": [
      "C:\\Users\\hakos\\AppData\\Local\\Temp\\ipykernel_41688\\1102737598.py:1: DtypeWarning: Columns (118,119,131) have mixed types. Specify dtype option on import or set low_memory=False.\n",
      "  data=pd.read_csv(\"../merged/len3_ndb_blp_DN_firm.csv\",encoding=\"utf-8\",index_col=0)\n"
     ]
    },
    {
     "data": {
      "text/html": [
       "<div>\n",
       "<style scoped>\n",
       "    .dataframe tbody tr th:only-of-type {\n",
       "        vertical-align: middle;\n",
       "    }\n",
       "\n",
       "    .dataframe tbody tr th {\n",
       "        vertical-align: top;\n",
       "    }\n",
       "\n",
       "    .dataframe thead th {\n",
       "        text-align: right;\n",
       "    }\n",
       "</style>\n",
       "<table border=\"1\" class=\"dataframe\">\n",
       "  <thead>\n",
       "    <tr style=\"text-align: right;\">\n",
       "      <th></th>\n",
       "      <th>薬効分類</th>\n",
       "      <th>薬効分類名称</th>\n",
       "      <th>医薬品コード</th>\n",
       "      <th>医薬品名</th>\n",
       "      <th>薬価基準収載医薬品コード</th>\n",
       "      <th>薬価_x</th>\n",
       "      <th>後発品区分</th>\n",
       "      <th>総計</th>\n",
       "      <th>year</th>\n",
       "      <th>in_hospital</th>\n",
       "      <th>...</th>\n",
       "      <th>同一剤形・規格の後発医薬品がある先発医薬品</th>\n",
       "      <th>薬価_y</th>\n",
       "      <th>経過措置による使用期限</th>\n",
       "      <th>備考</th>\n",
       "      <th>Unnamed: 15</th>\n",
       "      <th>Unnamed: 16</th>\n",
       "      <th>Unnamed: 17</th>\n",
       "      <th>Unnamed: 18</th>\n",
       "      <th>Unnamed: 4</th>\n",
       "      <th>_merge</th>\n",
       "    </tr>\n",
       "  </thead>\n",
       "  <tbody>\n",
       "    <tr>\n",
       "      <th>0</th>\n",
       "      <td>114.0</td>\n",
       "      <td>解熱鎮痛消炎剤</td>\n",
       "      <td>620007096.0</td>\n",
       "      <td>ボルタレン錠２５ｍｇ</td>\n",
       "      <td>1147002F1560</td>\n",
       "      <td>13.1</td>\n",
       "      <td>0.0</td>\n",
       "      <td>2.489539e+07</td>\n",
       "      <td>2014</td>\n",
       "      <td>1</td>\n",
       "      <td>...</td>\n",
       "      <td>○</td>\n",
       "      <td>13.1</td>\n",
       "      <td>NaN</td>\n",
       "      <td>NaN</td>\n",
       "      <td>NaN</td>\n",
       "      <td>NaN</td>\n",
       "      <td>NaN</td>\n",
       "      <td>NaN</td>\n",
       "      <td>NaN</td>\n",
       "      <td>both</td>\n",
       "    </tr>\n",
       "    <tr>\n",
       "      <th>1</th>\n",
       "      <td>114.0</td>\n",
       "      <td>解熱鎮痛消炎剤</td>\n",
       "      <td>620007095.0</td>\n",
       "      <td>ボルタレンＳＲカプセル３７．５ｍｇ</td>\n",
       "      <td>1147002N1174</td>\n",
       "      <td>23.2</td>\n",
       "      <td>0.0</td>\n",
       "      <td>1.024590e+07</td>\n",
       "      <td>2014</td>\n",
       "      <td>1</td>\n",
       "      <td>...</td>\n",
       "      <td>○</td>\n",
       "      <td>23.2</td>\n",
       "      <td>NaN</td>\n",
       "      <td>NaN</td>\n",
       "      <td>NaN</td>\n",
       "      <td>NaN</td>\n",
       "      <td>NaN</td>\n",
       "      <td>NaN</td>\n",
       "      <td>NaN</td>\n",
       "      <td>both</td>\n",
       "    </tr>\n",
       "    <tr>\n",
       "      <th>2</th>\n",
       "      <td>114.0</td>\n",
       "      <td>解熱鎮痛消炎剤</td>\n",
       "      <td>620007096.0</td>\n",
       "      <td>ボルタレン錠２５ｍｇ</td>\n",
       "      <td>1147002F1560</td>\n",
       "      <td>13.1</td>\n",
       "      <td>0.0</td>\n",
       "      <td>5.025912e+07</td>\n",
       "      <td>2014</td>\n",
       "      <td>0</td>\n",
       "      <td>...</td>\n",
       "      <td>○</td>\n",
       "      <td>13.1</td>\n",
       "      <td>NaN</td>\n",
       "      <td>NaN</td>\n",
       "      <td>NaN</td>\n",
       "      <td>NaN</td>\n",
       "      <td>NaN</td>\n",
       "      <td>NaN</td>\n",
       "      <td>NaN</td>\n",
       "      <td>both</td>\n",
       "    </tr>\n",
       "    <tr>\n",
       "      <th>3</th>\n",
       "      <td>114.0</td>\n",
       "      <td>解熱鎮痛消炎剤</td>\n",
       "      <td>620007095.0</td>\n",
       "      <td>ボルタレンＳＲカプセル３７．５ｍｇ</td>\n",
       "      <td>1147002N1174</td>\n",
       "      <td>23.2</td>\n",
       "      <td>0.0</td>\n",
       "      <td>2.742935e+07</td>\n",
       "      <td>2014</td>\n",
       "      <td>0</td>\n",
       "      <td>...</td>\n",
       "      <td>○</td>\n",
       "      <td>23.2</td>\n",
       "      <td>NaN</td>\n",
       "      <td>NaN</td>\n",
       "      <td>NaN</td>\n",
       "      <td>NaN</td>\n",
       "      <td>NaN</td>\n",
       "      <td>NaN</td>\n",
       "      <td>NaN</td>\n",
       "      <td>both</td>\n",
       "    </tr>\n",
       "    <tr>\n",
       "      <th>4</th>\n",
       "      <td>114.0</td>\n",
       "      <td>解熱鎮痛消炎剤</td>\n",
       "      <td>661140081.0</td>\n",
       "      <td>ボルタレンサポ５０ｍｇ</td>\n",
       "      <td>1147700J3084</td>\n",
       "      <td>63.1</td>\n",
       "      <td>0.0</td>\n",
       "      <td>5.339043e+06</td>\n",
       "      <td>2014</td>\n",
       "      <td>1</td>\n",
       "      <td>...</td>\n",
       "      <td>○</td>\n",
       "      <td>63.1</td>\n",
       "      <td>NaN</td>\n",
       "      <td>NaN</td>\n",
       "      <td>NaN</td>\n",
       "      <td>NaN</td>\n",
       "      <td>NaN</td>\n",
       "      <td>NaN</td>\n",
       "      <td>NaN</td>\n",
       "      <td>both</td>\n",
       "    </tr>\n",
       "  </tbody>\n",
       "</table>\n",
       "<p>5 rows × 132 columns</p>\n",
       "</div>"
      ],
      "text/plain": [
       "    薬効分類   薬効分類名称       医薬品コード               医薬品名  薬価基準収載医薬品コード  薬価_x  後発品区分  \\\n",
       "0  114.0  解熱鎮痛消炎剤  620007096.0         ボルタレン錠２５ｍｇ  1147002F1560  13.1    0.0   \n",
       "1  114.0  解熱鎮痛消炎剤  620007095.0  ボルタレンＳＲカプセル３７．５ｍｇ  1147002N1174  23.2    0.0   \n",
       "2  114.0  解熱鎮痛消炎剤  620007096.0         ボルタレン錠２５ｍｇ  1147002F1560  13.1    0.0   \n",
       "3  114.0  解熱鎮痛消炎剤  620007095.0  ボルタレンＳＲカプセル３７．５ｍｇ  1147002N1174  23.2    0.0   \n",
       "4  114.0  解熱鎮痛消炎剤  661140081.0        ボルタレンサポ５０ｍｇ  1147700J3084  63.1    0.0   \n",
       "\n",
       "             総計  year  in_hospital  ...  同一剤形・規格の後発医薬品がある先発医薬品  薬価_y  \\\n",
       "0  2.489539e+07  2014            1  ...                      ○  13.1   \n",
       "1  1.024590e+07  2014            1  ...                      ○  23.2   \n",
       "2  5.025912e+07  2014            0  ...                      ○  13.1   \n",
       "3  2.742935e+07  2014            0  ...                      ○  23.2   \n",
       "4  5.339043e+06  2014            1  ...                      ○  63.1   \n",
       "\n",
       "   経過措置による使用期限   備考 Unnamed: 15 Unnamed: 16  Unnamed: 17 Unnamed: 18  \\\n",
       "0          NaN  NaN         NaN         NaN          NaN         NaN   \n",
       "1          NaN  NaN         NaN         NaN          NaN         NaN   \n",
       "2          NaN  NaN         NaN         NaN          NaN         NaN   \n",
       "3          NaN  NaN         NaN         NaN          NaN         NaN   \n",
       "4          NaN  NaN         NaN         NaN          NaN         NaN   \n",
       "\n",
       "  Unnamed: 4  _merge  \n",
       "0        NaN    both  \n",
       "1        NaN    both  \n",
       "2        NaN    both  \n",
       "3        NaN    both  \n",
       "4        NaN    both  \n",
       "\n",
       "[5 rows x 132 columns]"
      ]
     },
     "execution_count": 15,
     "metadata": {},
     "output_type": "execute_result"
    }
   ],
   "source": [
    "data=pd.read_csv(\"../merged/len3_ndb_blp_DN_firm.csv\",encoding=\"utf-8\",index_col=0)\n",
    "data.head()\n"
   ]
  },
  {
   "cell_type": "code",
   "execution_count": 16,
   "metadata": {},
   "outputs": [],
   "source": [
    "# set(data[\"メーカー名\"])"
   ]
  },
  {
   "cell_type": "code",
   "execution_count": 17,
   "metadata": {},
   "outputs": [
    {
     "name": "stdout",
     "output_type": "stream",
     "text": [
      "武田テバ薬品\n"
     ]
    }
   ],
   "source": [
    "# test\n",
    "# ここにあなたのHTMLコードを設定してください\n",
    "url=\"https://www.iyaku.info/medicine/?sk2=ジスチグミン臭化物錠５ｍｇ「テバ」&sk3=&sf=1#st\"\n",
    "\n",
    "r=requests.get(url)\n",
    "soup=BeautifulSoup(r.content,\"html.parser\")\n",
    "# 指定されたCSSセレクターを使用して要素を取得します\n",
    "target_element = soup.select_one(\"#medicine > div.form_search2.mt40 > table.tb_bot > tr:nth-child(1) > td.w210.pl00 > p\")\n",
    "\n",
    "# 要素が存在するか確認します\n",
    "if target_element:\n",
    "    # 要素のテキストを取得します\n",
    "    text = target_element.get_text()\n",
    "    print(text)\n",
    "else:\n",
    "    print(\"要素が見つかりませんでした\")\n"
   ]
  },
  {
   "cell_type": "code",
   "execution_count": 18,
   "metadata": {},
   "outputs": [
    {
     "data": {
      "text/plain": [
       "332"
      ]
     },
     "execution_count": 18,
     "metadata": {},
     "output_type": "execute_result"
    }
   ],
   "source": [
    "med_name=list(set(data.loc[data[\"メーカー名\"].isna(),\"医薬品名\"]))\n",
    "len(med_name)"
   ]
  },
  {
   "cell_type": "markdown",
   "metadata": {},
   "source": [
    "cleanしても意味がなかった"
   ]
  },
  {
   "cell_type": "code",
   "execution_count": 19,
   "metadata": {},
   "outputs": [
    {
     "data": {
      "text/plain": [
       "332"
      ]
     },
     "execution_count": 19,
     "metadata": {},
     "output_type": "execute_result"
    }
   ],
   "source": [
    "name2cleaned = {}\n",
    "cleaned=[]\n",
    "for name in med_name:\n",
    "    # クリーン処理を実行\n",
    "    cleaned_name = unicodedata.normalize('NFKC', re.sub(r'\\u3000', ' ', re.search(r'.*\\u3000', name).group()) if re.search(r'.*\\u3000', name) else name)\n",
    "    \n",
    "    cleaned.append(cleaned_name)\n",
    "    # クリーン前のテキストをキー、クリーン後のテキストを値として辞書に追加\n",
    "    name2cleaned[name] = cleaned_name\n",
    "len(cleaned)"
   ]
  },
  {
   "cell_type": "code",
   "execution_count": 20,
   "metadata": {},
   "outputs": [
    {
     "data": {
      "text/plain": [
       "['アンブロキソール塩酸塩錠15mg「KN」',\n",
       " 'クロピドグレル錠75mg「EE」',\n",
       " 'フルチカゾンプロピオン酸エステル50日本臓器28 ',\n",
       " 'エンテカビル錠0.5mg「KN」',\n",
       " 'ロキソプロフェンNa錠60mg「テバ」']"
      ]
     },
     "execution_count": 20,
     "metadata": {},
     "output_type": "execute_result"
    }
   ],
   "source": [
    "cleaned[:5]"
   ]
  },
  {
   "cell_type": "code",
   "execution_count": 21,
   "metadata": {},
   "outputs": [],
   "source": [
    "# matched=[]\n",
    "# for name in cleaned:\n",
    "#     pattern = r'「(.*?)」'\n",
    "#     matches = re.findall(pattern, name,flags=re.MULTILINE)\n",
    "#     for match in matches:\n",
    "#         # print(match)\n",
    "#         matched.append(match)\n",
    "# # pd.Series(matched).value_counts(),len(matched)"
   ]
  },
  {
   "cell_type": "code",
   "execution_count": 22,
   "metadata": {},
   "outputs": [
    {
     "name": "stdout",
     "output_type": "stream",
     "text": [
      "0 1 2 3 4 5 6 7 8 9 10 11 12 13 14 15 16 17 18 19 20 21 22 23 24 25 26 27 28 29 30 31 32 33 34 35 36 37 38 39 40 41 42 43 44 45 46 47 48 49 50 51 52 53 54 55 56 57 58 59 60 61 62 63 64 65 66 67 68 69 70 71 72 73 74 75 76 77 78 79 80 81 82 83 84 85 86 87 88 89 90 91 92 93 94 95 96 97 98 99 100 101 102 103 104 105 106 107 108 109 110 111 112 113 114 115 116 117 118 119 120 121 122 123 124 125 126 127 128 129 130 131 132 133 134 135 136 137 138 139 140 141 142 143 144 145 146 147 148 149 150 151 152 153 154 155 156 157 158 159 160 161 162 163 164 165 166 167 168 169 170 171 172 173 174 175 176 177 178 179 180 181 182 183 184 185 186 187 188 189 190 191 192 193 194 195 196 197 198 199 200 201 202 203 204 205 206 207 208 209 210 211 212 213 214 215 216 217 218 219 220 221 222 223 224 225 226 227 228 229 230 231 232 233 234 235 236 237 238 239 240 241 242 243 244 245 246 247 248 249 250 251 252 253 254 255 256 257 258 259 260 261 262 263 264 265 266 267 268 269 270 271 272 273 274 275 276 277 278 279 280 281 282 283 284 285 286 287 288 289 290 291 292 293 294 295 296 297 298 299 300 301 302 303 304 305 306 307 308 309 310 311 312 313 314 315 316 317 318 319 320 321 322 323 324 325 326 327 328 329 330 331 "
     ]
    }
   ],
   "source": [
    "# data_lack=data[data[\"メーカー名\"].isna()]\n",
    "name2firm={}\n",
    "failed=[]\n",
    "for i,name in enumerate(med_name):\n",
    "    url=f\"https://www.iyaku.info/medicine/?sk2={name}&sk3=&sf=1#st\"\n",
    "    # print(url)\n",
    "    r=requests.get(url)\n",
    "    soup=BeautifulSoup(r.content,\"html.parser\")\n",
    "    # 指定されたCSSセレクターを使用して要素を取得します\n",
    "    target_element = soup.select_one(\"#medicine > div.form_search2.mt40 > table.tb_bot > tr:nth-child(1) > td.w210.pl00 > p\")\n",
    "\n",
    "    # 要素が存在するか確認します\n",
    "    if target_element:\n",
    "        # 要素のテキストを取得します\n",
    "        text = target_element.get_text()\n",
    "        name2firm[name]=text\n",
    "        # print(text)\n",
    "    else:\n",
    "        failed.append(name)\n",
    "        # print(\"要素が見つかりませんでした\")\n",
    "    print(i, end=\" \")\n",
    "    time.sleep(1)"
   ]
  },
  {
   "cell_type": "code",
   "execution_count": 23,
   "metadata": {},
   "outputs": [
    {
     "data": {
      "text/plain": [
       "56"
      ]
     },
     "execution_count": 23,
     "metadata": {},
     "output_type": "execute_result"
    }
   ],
   "source": [
    "len(name2firm)"
   ]
  },
  {
   "cell_type": "code",
   "execution_count": null,
   "metadata": {},
   "outputs": [],
   "source": [
    "import pickle\n",
    "\n",
    "file_path = 'name2firm_ii.pkl'\n",
    "with open(file_path, 'wb') as file:\n",
    "    pickle.dump(name2firm, file)"
   ]
  },
  {
   "cell_type": "code",
   "execution_count": 24,
   "metadata": {},
   "outputs": [],
   "source": [
    "data.loc[data[\"メーカー名\"].isna(),\"メーカー名\"]=data.loc[data[\"メーカー名\"].isna(),\"医薬品名\"].map(name2firm)"
   ]
  },
  {
   "cell_type": "code",
   "execution_count": 25,
   "metadata": {},
   "outputs": [
    {
     "data": {
      "text/plain": [
       "(Ｄソルビトール原末「マルイシ」        16\n",
       " Ｄソルビトール液　６５％           16\n",
       " Ｄソルビトール内用液６５％「マルイシ」    16\n",
       " Ｄソルビトール液　７５％           16\n",
       " Ｄソルビトール経口液７５％「コーワ」     16\n",
       "                        ..\n",
       " ナフトピジルＯＤ錠５０ｍｇ「あすか」      1\n",
       " ナフトピジルＯＤ錠２５ｍｇ「ＫＮ」       1\n",
       " スチブロン軟膏０．０５％            1\n",
       " ビホナゾール１％液               1\n",
       " イトラコナゾール５０ｍｇ錠           1\n",
       " Name: 医薬品名, Length: 276, dtype: int64,\n",
       " 2319001M1019    104\n",
       " 2239001F1017     85\n",
       " 2655708N1016     54\n",
       " 2259004F2010     51\n",
       " 1329707Q1017     45\n",
       "                ... \n",
       " 2646730N1011      1\n",
       " 2655702N1019      1\n",
       " 2659710Q1019      1\n",
       " 1319720Q3019      1\n",
       " 1149117F1012      1\n",
       " Name: 薬価基準収載医薬品コード, Length: 121, dtype: int64)"
      ]
     },
     "execution_count": 25,
     "metadata": {},
     "output_type": "execute_result"
    }
   ],
   "source": [
    "data_lack=data[data[\"メーカー名\"].isna()]\n",
    "data_lack[\"医薬品名\"].value_counts(),data_lack[\"薬価基準収載医薬品コード\"].value_counts()"
   ]
  },
  {
   "cell_type": "code",
   "execution_count": 26,
   "metadata": {},
   "outputs": [
    {
     "data": {
      "text/plain": [
       "(25798, 132)"
      ]
     },
     "execution_count": 26,
     "metadata": {},
     "output_type": "execute_result"
    }
   ],
   "source": [
    "data.shape\n",
    "# data.to_csv(\"../merged/len3_ndb_blp_DN_firm_filled.csv\",encoding=\"utf-8\")"
   ]
  }
 ],
 "metadata": {
  "kernelspec": {
   "display_name": "Python 3",
   "language": "python",
   "name": "python3"
  },
  "language_info": {
   "codemirror_mode": {
    "name": "ipython",
    "version": 3
   },
   "file_extension": ".py",
   "mimetype": "text/x-python",
   "name": "python",
   "nbconvert_exporter": "python",
   "pygments_lexer": "ipython3",
   "version": "3.10.4"
  },
  "orig_nbformat": 4
 },
 "nbformat": 4,
 "nbformat_minor": 2
}
