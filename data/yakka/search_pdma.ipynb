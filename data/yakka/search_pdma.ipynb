{
 "cells": [
  {
   "cell_type": "code",
   "execution_count": 47,
   "metadata": {},
   "outputs": [
    {
     "data": {
      "text/plain": [
       "'C:\\\\Users\\\\hakos\\\\Downloads'"
      ]
     },
     "execution_count": 47,
     "metadata": {},
     "output_type": "execute_result"
    }
   ],
   "source": [
    "from selenium import webdriver\n",
    "from selenium.webdriver.common.keys import Keys\n",
    "from selenium.webdriver.common.by import By\n",
    "from selenium.webdriver.support.ui import WebDriverWait\n",
    "from selenium.webdriver.support import expected_conditions as EC\n",
    "import os \n",
    "import time\n",
    "os.chdir(\"C:\\\\Users\\\\hakos\\\\Downloads\")\n",
    "os.getcwd()\n"
   ]
  },
  {
   "cell_type": "code",
   "execution_count": 66,
   "metadata": {},
   "outputs": [
    {
     "name": "stdout",
     "output_type": "stream",
     "text": [
      "製造販売元／サノフィ株式会社\n"
     ]
    }
   ],
   "source": [
    "# Geckodriverのパスを指定してインスタンスを作成\n",
    "driver = webdriver.Firefox()\n",
    "\n",
    "# ウェブページを開く\n",
    "driver.get('https://www.pmda.go.jp/PmdaSearch/iyakuSearch/')\n",
    "\n",
    "wait = WebDriverWait(driver, 10)\n",
    "search_box = wait.until(EC.presence_of_element_located((By.ID, 'txtName')))\n",
    "search_box.clear()\n",
    "search_box.send_keys('アレグラ')\n",
    "\n",
    "search_button = driver.find_element(By.XPATH, '//input[@name=\"btnA\"]')  # XPathを使用してボタンを指定\n",
    "search_button.click()\n",
    "\n",
    "# 結果を取得\n",
    "\n",
    "time.sleep(3)\n",
    "\n",
    "# 自分で遷移する必要がある\n",
    "driver.switch_to.window(driver.window_handles[1])\n",
    "element = driver.find_element(By.XPATH, \"//tr[@class='TrColor01']//div[contains(text(), '製造販売元')]\")\n",
    "manufacture_seller = element.text\n",
    "print(manufacture_seller)\n",
    "\n",
    "# ページが完全に読み込まれるのを待つ（任意）\n",
    "time.sleep(1)\n",
    "\n",
    "# ブラウザを閉じる\n",
    "driver.quit()\n"
   ]
  }
 ],
 "metadata": {
  "kernelspec": {
   "display_name": "Python 3",
   "language": "python",
   "name": "python3"
  },
  "language_info": {
   "codemirror_mode": {
    "name": "ipython",
    "version": 3
   },
   "file_extension": ".py",
   "mimetype": "text/x-python",
   "name": "python",
   "nbconvert_exporter": "python",
   "pygments_lexer": "ipython3",
   "version": "3.10.4"
  },
  "orig_nbformat": 4
 },
 "nbformat": 4,
 "nbformat_minor": 2
}
