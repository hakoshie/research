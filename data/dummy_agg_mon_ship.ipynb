{
 "cells": [
  {
   "cell_type": "code",
   "execution_count": 1,
   "metadata": {},
   "outputs": [],
   "source": [
    "import pandas as pd\n",
    "import numpy as np\n",
    "import statsmodels.api as sm"
   ]
  },
  {
   "cell_type": "code",
   "execution_count": 2,
   "metadata": {},
   "outputs": [
    {
     "data": {
      "text/html": [
       "<div>\n",
       "<style scoped>\n",
       "    .dataframe tbody tr th:only-of-type {\n",
       "        vertical-align: middle;\n",
       "    }\n",
       "\n",
       "    .dataframe tbody tr th {\n",
       "        vertical-align: top;\n",
       "    }\n",
       "\n",
       "    .dataframe thead th {\n",
       "        text-align: right;\n",
       "    }\n",
       "</style>\n",
       "<table border=\"1\" class=\"dataframe\">\n",
       "  <thead>\n",
       "    <tr style=\"text-align: right;\">\n",
       "      <th></th>\n",
       "      <th>year</th>\n",
       "      <th>id</th>\n",
       "      <th>efficacy</th>\n",
       "      <th>rx_dom</th>\n",
       "      <th>otc_dom</th>\n",
       "      <th>self_dom</th>\n",
       "      <th>stock_rx</th>\n",
       "      <th>stock_otc</th>\n",
       "      <th>stock_self</th>\n",
       "      <th>Approved</th>\n",
       "      <th>KEGG</th>\n",
       "      <th>Ingredient</th>\n",
       "      <th>variable</th>\n",
       "    </tr>\n",
       "  </thead>\n",
       "  <tbody>\n",
       "  </tbody>\n",
       "</table>\n",
       "</div>"
      ],
      "text/plain": [
       "Empty DataFrame\n",
       "Columns: [year, id, efficacy, rx_dom, otc_dom, self_dom, stock_rx, stock_otc, stock_self, Approved, KEGG, Ingredient, variable]\n",
       "Index: []"
      ]
     },
     "execution_count": 2,
     "metadata": {},
     "output_type": "execute_result"
    }
   ],
   "source": [
    "data=pd.read_csv(\"./merged/len3_ship_mon.csv\",encoding=\"shift-jis\",index_col=0)\n",
    "# drop never treated group\n",
    "data=data.dropna(subset=[\"Approved\"])\n",
    "data"
   ]
  },
  {
   "cell_type": "markdown",
   "metadata": {},
   "source": [
    "1 observation が複数行にまたがっているので経過年数ダミー以外は落として1行にまとめよう"
   ]
  },
  {
   "cell_type": "code",
   "execution_count": 3,
   "metadata": {},
   "outputs": [
    {
     "data": {
      "text/html": [
       "<div>\n",
       "<style scoped>\n",
       "    .dataframe tbody tr th:only-of-type {\n",
       "        vertical-align: middle;\n",
       "    }\n",
       "\n",
       "    .dataframe tbody tr th {\n",
       "        vertical-align: top;\n",
       "    }\n",
       "\n",
       "    .dataframe thead th {\n",
       "        text-align: right;\n",
       "    }\n",
       "</style>\n",
       "<table border=\"1\" class=\"dataframe\">\n",
       "  <thead>\n",
       "    <tr style=\"text-align: right;\">\n",
       "      <th></th>\n",
       "      <th>year</th>\n",
       "      <th>id</th>\n",
       "      <th>efficacy</th>\n",
       "      <th>rx_dom</th>\n",
       "      <th>otc_dom</th>\n",
       "      <th>self_dom</th>\n",
       "      <th>stock_rx</th>\n",
       "      <th>stock_otc</th>\n",
       "      <th>stock_self</th>\n",
       "      <th>Approved</th>\n",
       "      <th>KEGG</th>\n",
       "      <th>Ingredient</th>\n",
       "      <th>variable</th>\n",
       "      <th>elasped</th>\n",
       "    </tr>\n",
       "  </thead>\n",
       "  <tbody>\n",
       "  </tbody>\n",
       "</table>\n",
       "</div>"
      ],
      "text/plain": [
       "Empty DataFrame\n",
       "Columns: [year, id, efficacy, rx_dom, otc_dom, self_dom, stock_rx, stock_otc, stock_self, Approved, KEGG, Ingredient, variable, elasped]\n",
       "Index: []"
      ]
     },
     "execution_count": 3,
     "metadata": {},
     "output_type": "execute_result"
    }
   ],
   "source": [
    "data[\"elasped\"]=data[\"year\"]-data[\"Approved\"]\n",
    "# data.loc[(data['elasped'] > 10) | (data[\"elasped\"]< -5), 'elasped'] = np.nan\n",
    "dummies=pd.get_dummies(data[\"elasped\"],prefix=\"elasped\")\n",
    "dummies.columns = dummies.columns.str.replace('-', 'm').str.replace(r'\\..*', '', regex=True)\n",
    "colnames=dummies.columns.to_list()\n",
    "# count ver.\n",
    "# aggregated_data = pd.concat([data.groupby(['year', 'id']).first(), dummies.groupby([data['year'], data['id']]).sum()], axis=1).reset_index()\n",
    "\n",
    "# dummy ver.\n",
    "aggregated_df = pd.concat([\n",
    "    data.groupby(['year', 'id']).first(), \n",
    "    dummies.groupby([data['year'], data['id']]).apply(lambda x: (x[colnames] > 0).any().astype(int))\n",
    "], axis=1).reset_index()\n",
    "aggregated_df"
   ]
  },
  {
   "cell_type": "code",
   "execution_count": 4,
   "metadata": {},
   "outputs": [
    {
     "data": {
      "text/plain": [
       "[]"
      ]
     },
     "execution_count": 4,
     "metadata": {},
     "output_type": "execute_result"
    }
   ],
   "source": [
    "colnames"
   ]
  },
  {
   "cell_type": "markdown",
   "metadata": {},
   "source": [
    "connect generic usage"
   ]
  },
  {
   "cell_type": "code",
   "execution_count": 5,
   "metadata": {},
   "outputs": [
    {
     "data": {
      "text/html": [
       "<div>\n",
       "<style scoped>\n",
       "    .dataframe tbody tr th:only-of-type {\n",
       "        vertical-align: middle;\n",
       "    }\n",
       "\n",
       "    .dataframe tbody tr th {\n",
       "        vertical-align: top;\n",
       "    }\n",
       "\n",
       "    .dataframe thead th {\n",
       "        text-align: right;\n",
       "    }\n",
       "</style>\n",
       "<table border=\"1\" class=\"dataframe\">\n",
       "  <thead>\n",
       "    <tr style=\"text-align: right;\">\n",
       "      <th></th>\n",
       "      <th>Year</th>\n",
       "      <th>Percentage</th>\n",
       "    </tr>\n",
       "  </thead>\n",
       "  <tbody>\n",
       "    <tr>\n",
       "      <th>0</th>\n",
       "      <td>2007</td>\n",
       "      <td>34.90</td>\n",
       "    </tr>\n",
       "    <tr>\n",
       "      <th>1</th>\n",
       "      <td>2008</td>\n",
       "      <td>35.35</td>\n",
       "    </tr>\n",
       "    <tr>\n",
       "      <th>2</th>\n",
       "      <td>2009</td>\n",
       "      <td>35.80</td>\n",
       "    </tr>\n",
       "    <tr>\n",
       "      <th>3</th>\n",
       "      <td>2010</td>\n",
       "      <td>37.85</td>\n",
       "    </tr>\n",
       "    <tr>\n",
       "      <th>4</th>\n",
       "      <td>2011</td>\n",
       "      <td>39.90</td>\n",
       "    </tr>\n",
       "    <tr>\n",
       "      <th>5</th>\n",
       "      <td>2012</td>\n",
       "      <td>43.40</td>\n",
       "    </tr>\n",
       "    <tr>\n",
       "      <th>6</th>\n",
       "      <td>2013</td>\n",
       "      <td>46.90</td>\n",
       "    </tr>\n",
       "    <tr>\n",
       "      <th>7</th>\n",
       "      <td>2014</td>\n",
       "      <td>51.55</td>\n",
       "    </tr>\n",
       "    <tr>\n",
       "      <th>8</th>\n",
       "      <td>2015</td>\n",
       "      <td>56.20</td>\n",
       "    </tr>\n",
       "    <tr>\n",
       "      <th>9</th>\n",
       "      <td>2016</td>\n",
       "      <td>61.00</td>\n",
       "    </tr>\n",
       "    <tr>\n",
       "      <th>10</th>\n",
       "      <td>2017</td>\n",
       "      <td>65.80</td>\n",
       "    </tr>\n",
       "    <tr>\n",
       "      <th>11</th>\n",
       "      <td>2018</td>\n",
       "      <td>72.60</td>\n",
       "    </tr>\n",
       "    <tr>\n",
       "      <th>12</th>\n",
       "      <td>2019</td>\n",
       "      <td>76.70</td>\n",
       "    </tr>\n",
       "    <tr>\n",
       "      <th>13</th>\n",
       "      <td>2020</td>\n",
       "      <td>78.30</td>\n",
       "    </tr>\n",
       "    <tr>\n",
       "      <th>14</th>\n",
       "      <td>2021</td>\n",
       "      <td>79.00</td>\n",
       "    </tr>\n",
       "    <tr>\n",
       "      <th>15</th>\n",
       "      <td>2022</td>\n",
       "      <td>79.00</td>\n",
       "    </tr>\n",
       "  </tbody>\n",
       "</table>\n",
       "</div>"
      ],
      "text/plain": [
       "    Year  Percentage\n",
       "0   2007       34.90\n",
       "1   2008       35.35\n",
       "2   2009       35.80\n",
       "3   2010       37.85\n",
       "4   2011       39.90\n",
       "5   2012       43.40\n",
       "6   2013       46.90\n",
       "7   2014       51.55\n",
       "8   2015       56.20\n",
       "9   2016       61.00\n",
       "10  2017       65.80\n",
       "11  2018       72.60\n",
       "12  2019       76.70\n",
       "13  2020       78.30\n",
       "14  2021       79.00\n",
       "15  2022       79.00"
      ]
     },
     "execution_count": 5,
     "metadata": {},
     "output_type": "execute_result"
    }
   ],
   "source": [
    "dusage=pd.read_csv(\"./generic/generic_usage_imp.csv\")\n",
    "dusage"
   ]
  },
  {
   "cell_type": "code",
   "execution_count": 6,
   "metadata": {},
   "outputs": [
    {
     "data": {
      "text/html": [
       "<div>\n",
       "<style scoped>\n",
       "    .dataframe tbody tr th:only-of-type {\n",
       "        vertical-align: middle;\n",
       "    }\n",
       "\n",
       "    .dataframe tbody tr th {\n",
       "        vertical-align: top;\n",
       "    }\n",
       "\n",
       "    .dataframe thead th {\n",
       "        text-align: right;\n",
       "    }\n",
       "</style>\n",
       "<table border=\"1\" class=\"dataframe\">\n",
       "  <thead>\n",
       "    <tr style=\"text-align: right;\">\n",
       "      <th></th>\n",
       "      <th>year</th>\n",
       "      <th>id</th>\n",
       "      <th>efficacy</th>\n",
       "      <th>rx_dom</th>\n",
       "      <th>otc_dom</th>\n",
       "      <th>self_dom</th>\n",
       "      <th>stock_rx</th>\n",
       "      <th>stock_otc</th>\n",
       "      <th>stock_self</th>\n",
       "      <th>Approved</th>\n",
       "      <th>KEGG</th>\n",
       "      <th>Ingredient</th>\n",
       "      <th>variable</th>\n",
       "      <th>elasped</th>\n",
       "      <th>Year</th>\n",
       "      <th>Percentage</th>\n",
       "    </tr>\n",
       "  </thead>\n",
       "  <tbody>\n",
       "  </tbody>\n",
       "</table>\n",
       "</div>"
      ],
      "text/plain": [
       "Empty DataFrame\n",
       "Columns: [year, id, efficacy, rx_dom, otc_dom, self_dom, stock_rx, stock_otc, stock_self, Approved, KEGG, Ingredient, variable, elasped, Year, Percentage]\n",
       "Index: []"
      ]
     },
     "execution_count": 6,
     "metadata": {},
     "output_type": "execute_result"
    }
   ],
   "source": [
    "merged_df=aggregated_df.merge(dusage,left_on=\"year\",right_on=\"Year\")\n",
    "merged_df"
   ]
  },
  {
   "cell_type": "code",
   "execution_count": 7,
   "metadata": {},
   "outputs": [
    {
     "data": {
      "text/html": [
       "<div>\n",
       "<style scoped>\n",
       "    .dataframe tbody tr th:only-of-type {\n",
       "        vertical-align: middle;\n",
       "    }\n",
       "\n",
       "    .dataframe tbody tr th {\n",
       "        vertical-align: top;\n",
       "    }\n",
       "\n",
       "    .dataframe thead th {\n",
       "        text-align: right;\n",
       "    }\n",
       "</style>\n",
       "<table border=\"1\" class=\"dataframe\">\n",
       "  <thead>\n",
       "    <tr style=\"text-align: right;\">\n",
       "      <th></th>\n",
       "      <th>year</th>\n",
       "      <th>id</th>\n",
       "      <th>efficacy</th>\n",
       "      <th>rx_dom</th>\n",
       "      <th>otc_dom</th>\n",
       "      <th>self_dom</th>\n",
       "      <th>stock_rx</th>\n",
       "      <th>stock_otc</th>\n",
       "      <th>stock_self</th>\n",
       "      <th>Approved</th>\n",
       "      <th>KEGG</th>\n",
       "      <th>Ingredient</th>\n",
       "      <th>variable</th>\n",
       "      <th>elasped</th>\n",
       "      <th>Year</th>\n",
       "      <th>generic_per</th>\n",
       "    </tr>\n",
       "  </thead>\n",
       "  <tbody>\n",
       "  </tbody>\n",
       "</table>\n",
       "</div>"
      ],
      "text/plain": [
       "Empty DataFrame\n",
       "Columns: [year, id, efficacy, rx_dom, otc_dom, self_dom, stock_rx, stock_otc, stock_self, Approved, KEGG, Ingredient, variable, elasped, Year, generic_per]\n",
       "Index: []"
      ]
     },
     "execution_count": 7,
     "metadata": {},
     "output_type": "execute_result"
    }
   ],
   "source": [
    "id_dummies=pd.get_dummies(merged_df[\"id\"],prefix=\"id\")\n",
    "df_with_dummies=pd.concat([merged_df,id_dummies],axis=1)\n",
    "df_with_dummies.rename(columns={\"Percentage\":\"generic_per\"},inplace=True)\n",
    "df_with_dummies"
   ]
  },
  {
   "cell_type": "code",
   "execution_count": 8,
   "metadata": {},
   "outputs": [],
   "source": [
    "# df_with_dummies.to_csv(\"len3_agg.csv\",encoding=\"shift-jis\")\n",
    "df_with_dummies.to_csv(\"./merged/len3_ship_mon_agg_drop_never.csv\",encoding=\"shift-jis\")"
   ]
  }
 ],
 "metadata": {
  "kernelspec": {
   "display_name": "Python 3",
   "language": "python",
   "name": "python3"
  },
  "language_info": {
   "codemirror_mode": {
    "name": "ipython",
    "version": 3
   },
   "file_extension": ".py",
   "mimetype": "text/x-python",
   "name": "python",
   "nbconvert_exporter": "python",
   "pygments_lexer": "ipython3",
   "version": "3.10.4"
  },
  "orig_nbformat": 4
 },
 "nbformat": 4,
 "nbformat_minor": 2
}
