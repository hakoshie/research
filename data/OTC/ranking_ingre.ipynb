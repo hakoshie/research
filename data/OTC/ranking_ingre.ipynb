{
 "cells": [
  {
   "cell_type": "code",
   "execution_count": 2,
   "metadata": {},
   "outputs": [],
   "source": [
    "import pandas as pd\n",
    "import matplotlib.pyplot as plt"
   ]
  },
  {
   "cell_type": "code",
   "execution_count": 3,
   "metadata": {},
   "outputs": [],
   "source": [
    "data3=pd.read_csv(\"ingre_cate_len3.csv\",index_col=0)\n",
    "data3[\"id_cnt\"]=data3.groupby(\"id\")[\"id\"].transform(\"count\")\n",
    "# data3\n",
    "data3=data3.sort_values(by=[\"id_cnt\",\"id\",\"Approved\"],ascending=[False,True,True]).reset_index(drop=1)"
   ]
  },
  {
   "cell_type": "code",
   "execution_count": 8,
   "metadata": {},
   "outputs": [
    {
     "data": {
      "image/png": "[encoded data removed]",
      "text/plain": [
       "<Figure size 432x288 with 1 Axes>"
      ]
     },
     "metadata": {
      "needs_background": "light"
     },
     "output_type": "display_data"
    }
   ],
   "source": [
    "count_distribution = data3.groupby('id')['id'].count()\n",
    "count_distribution.hist(bins=15)\n",
    "plt.xlabel('スイッチの回数',fontname ='MS Gothic')\n",
    "plt.ylabel('Frequency')\n",
    "plt.title('薬効分類ごとのスイッチの回数の分布',fontname ='MS Gothic')\n",
    "plt.axis(\"square\")\n",
    "# plt.show()\n",
    "plt.savefig(\"distr.png\",dpi=500)"
   ]
  },
  {
   "cell_type": "code",
   "execution_count": 5,
   "metadata": {},
   "outputs": [],
   "source": [
    "data3.to_csv(\"ranking_len3.csv\")"
   ]
  }
 ],
 "metadata": {
  "kernelspec": {
   "display_name": "Python 3",
   "language": "python",
   "name": "python3"
  },
  "language_info": {
   "codemirror_mode": {
    "name": "ipython",
    "version": 3
   },
   "file_extension": ".py",
   "mimetype": "text/x-python",
   "name": "python",
   "nbconvert_exporter": "python",
   "pygments_lexer": "ipython3",
   "version": "3.10.4"
  },
  "orig_nbformat": 4
 },
 "nbformat": 4,
 "nbformat_minor": 2
}
