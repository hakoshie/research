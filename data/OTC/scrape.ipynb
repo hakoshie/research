{
 "cells": [
  {
   "cell_type": "code",
   "execution_count": 1,
   "metadata": {},
   "outputs": [
    {
     "data": {
      "text/html": [
       "<div>\n",
       "<style scoped>\n",
       "    .dataframe tbody tr th:only-of-type {\n",
       "        vertical-align: middle;\n",
       "    }\n",
       "\n",
       "    .dataframe tbody tr th {\n",
       "        vertical-align: top;\n",
       "    }\n",
       "\n",
       "    .dataframe thead th {\n",
       "        text-align: right;\n",
       "    }\n",
       "</style>\n",
       "<table border=\"1\" class=\"dataframe\">\n",
       "  <thead>\n",
       "    <tr style=\"text-align: right;\">\n",
       "      <th></th>\n",
       "      <th>Approved</th>\n",
       "      <th>KEGG</th>\n",
       "      <th>Ingredient</th>\n",
       "    </tr>\n",
       "  </thead>\n",
       "  <tbody>\n",
       "    <tr>\n",
       "      <th>0</th>\n",
       "      <td>1983</td>\n",
       "      <td>D04269</td>\n",
       "      <td>Soysterol</td>\n",
       "    </tr>\n",
       "    <tr>\n",
       "      <th>1</th>\n",
       "      <td>1983</td>\n",
       "      <td>D01612</td>\n",
       "      <td>Sodium picosulfate</td>\n",
       "    </tr>\n",
       "    <tr>\n",
       "      <th>2</th>\n",
       "      <td>1984</td>\n",
       "      <td>D08751</td>\n",
       "      <td>Semi-alkaline proteinase</td>\n",
       "    </tr>\n",
       "    <tr>\n",
       "      <th>3</th>\n",
       "      <td>1985</td>\n",
       "      <td>D01585</td>\n",
       "      <td>Exalamide</td>\n",
       "    </tr>\n",
       "    <tr>\n",
       "      <th>4</th>\n",
       "      <td>1985</td>\n",
       "      <td>D01506</td>\n",
       "      <td>Dimemorfan phosphate</td>\n",
       "    </tr>\n",
       "    <tr>\n",
       "      <th>...</th>\n",
       "      <td>...</td>\n",
       "      <td>...</td>\n",
       "      <td>...</td>\n",
       "    </tr>\n",
       "    <tr>\n",
       "      <th>93</th>\n",
       "      <td>2020</td>\n",
       "      <td>D01357</td>\n",
       "      <td>Betamethasone valerate</td>\n",
       "    </tr>\n",
       "    <tr>\n",
       "      <th>94</th>\n",
       "      <td>2021</td>\n",
       "      <td>D01007</td>\n",
       "      <td>Propiverine hydrochloride</td>\n",
       "    </tr>\n",
       "    <tr>\n",
       "      <th>95</th>\n",
       "      <td>2021</td>\n",
       "      <td>D00118</td>\n",
       "      <td>Naproxen</td>\n",
       "    </tr>\n",
       "    <tr>\n",
       "      <th>96</th>\n",
       "      <td>2021</td>\n",
       "      <td>D02729</td>\n",
       "      <td>Itopride hydrochloride</td>\n",
       "    </tr>\n",
       "    <tr>\n",
       "      <th>97</th>\n",
       "      <td>2022</td>\n",
       "      <td>D03306</td>\n",
       "      <td>Calcium polycarbophil</td>\n",
       "    </tr>\n",
       "  </tbody>\n",
       "</table>\n",
       "<p>98 rows × 3 columns</p>\n",
       "</div>"
      ],
      "text/plain": [
       "    Approved    KEGG                 Ingredient\n",
       "0       1983  D04269                  Soysterol\n",
       "1       1983  D01612         Sodium picosulfate\n",
       "2       1984  D08751   Semi-alkaline proteinase\n",
       "3       1985  D01585                  Exalamide\n",
       "4       1985  D01506       Dimemorfan phosphate\n",
       "..       ...     ...                        ...\n",
       "93      2020  D01357     Betamethasone valerate\n",
       "94      2021  D01007  Propiverine hydrochloride\n",
       "95      2021  D00118                   Naproxen\n",
       "96      2021  D02729     Itopride hydrochloride\n",
       "97      2022  D03306      Calcium polycarbophil\n",
       "\n",
       "[98 rows x 3 columns]"
      ]
     },
     "execution_count": 1,
     "metadata": {},
     "output_type": "execute_result"
    }
   ],
   "source": [
    "import requests\n",
    "from bs4 import BeautifulSoup\n",
    "import pandas as pd\n",
    "data=pd.read_csv(\"approved_ingredients_kegg.csv\")\n",
    "data\n"
   ]
  },
  {
   "cell_type": "code",
   "execution_count": 2,
   "metadata": {},
   "outputs": [],
   "source": [
    "import re\n",
    "# as per recommendation from @freylis, compile once only\n",
    "CLEANR = re.compile('<.*?>') \n",
    "\n",
    "def cleanhtml(raw_html):\n",
    "  cleantext = re.sub(CLEANR, '', raw_html)\n",
    "  return cleantext"
   ]
  },
  {
   "cell_type": "code",
   "execution_count": 3,
   "metadata": {},
   "outputs": [],
   "source": [
    "id_list=[]"
   ]
  },
  {
   "cell_type": "code",
   "execution_count": 4,
   "metadata": {},
   "outputs": [],
   "source": [
    "for x in data[\"KEGG\"]:\n",
    "    number=x\n",
    "    url=f\"https://www.genome.jp/entry/{number}\"\n",
    "    # print(url)\n",
    "    r=requests.get(url)\n",
    "    soup=BeautifulSoup(r.content,\"html.parser\")\n",
    "    try:\n",
    "        found=soup.find(string=re.compile(\"Therapeutic category:\")).find_next('td').text.strip()\n",
    "    except:\n",
    "        found=''\n",
    "    id_list.append(found)"
   ]
  },
  {
   "cell_type": "code",
   "execution_count": 5,
   "metadata": {},
   "outputs": [
    {
     "data": {
      "text/plain": [
       "98"
      ]
     },
     "execution_count": 5,
     "metadata": {},
     "output_type": "execute_result"
    }
   ],
   "source": [
    "len(id_list)"
   ]
  },
  {
   "cell_type": "code",
   "execution_count": 6,
   "metadata": {},
   "outputs": [],
   "source": [
    "data[\"id\"]=id_list\n"
   ]
  },
  {
   "cell_type": "code",
   "execution_count": 7,
   "metadata": {},
   "outputs": [],
   "source": [
    "data.to_csv(\"kegg_with_category.csv\")"
   ]
  },
  {
   "cell_type": "code",
   "execution_count": 8,
   "metadata": {},
   "outputs": [
    {
     "data": {
      "text/plain": [
       "['',\n",
       " '2359',\n",
       " '',\n",
       " '',\n",
       " '2229',\n",
       " '1145 2649',\n",
       " '1149',\n",
       " '2189 3919',\n",
       " '',\n",
       " '1242',\n",
       " '2234',\n",
       " '2329',\n",
       " '1249',\n",
       " '',\n",
       " '2529 2655',\n",
       " '',\n",
       " '',\n",
       " '',\n",
       " '',\n",
       " '2172',\n",
       " '2319',\n",
       " '2119',\n",
       " '2646',\n",
       " '4413',\n",
       " '',\n",
       " '2649',\n",
       " '',\n",
       " '2649',\n",
       " '2249',\n",
       " '',\n",
       " '3136',\n",
       " '2646',\n",
       " '3214',\n",
       " '2655',\n",
       " '2655',\n",
       " '2529 2655',\n",
       " '1149 2649',\n",
       " '1149 2649',\n",
       " '1219',\n",
       " '2399',\n",
       " '2649',\n",
       " '2329',\n",
       " '1319 1329 2259 4490',\n",
       " '2325',\n",
       " '2325',\n",
       " '',\n",
       " '2329',\n",
       " '',\n",
       " '2329',\n",
       " '7990',\n",
       " '2659',\n",
       " '2659',\n",
       " '2655',\n",
       " '1149 1319',\n",
       " '2659 6290',\n",
       " '2325',\n",
       " '2325',\n",
       " '1319 1329 4490',\n",
       " '4490',\n",
       " '3992',\n",
       " '1231',\n",
       " '2655',\n",
       " '1319 2399 2454 2646',\n",
       " '1319 6250',\n",
       " '2239',\n",
       " '3327 4490',\n",
       " '2529 2655',\n",
       " '4490',\n",
       " '2590',\n",
       " '1147 1319 2649',\n",
       " '6250',\n",
       " '1149 2649',\n",
       " '1319 4490',\n",
       " '2329',\n",
       " '1329 2290 2459',\n",
       " '2529 2655 6290',\n",
       " '',\n",
       " '1319',\n",
       " '1319 4490',\n",
       " '4490',\n",
       " '2189 3399',\n",
       " '4490',\n",
       " '1319 4490',\n",
       " '4490',\n",
       " '',\n",
       " '',\n",
       " '2790',\n",
       " '4490',\n",
       " '4490',\n",
       " '',\n",
       " '1329 2290',\n",
       " '1319 3999',\n",
       " '',\n",
       " '2646',\n",
       " '2590',\n",
       " '1149',\n",
       " '2399',\n",
       " '2399']"
      ]
     },
     "execution_count": 8,
     "metadata": {},
     "output_type": "execute_result"
    }
   ],
   "source": [
    "id_list"
   ]
  },
  {
   "cell_type": "code",
   "execution_count": 9,
   "metadata": {},
   "outputs": [],
   "source": [
    "# number=\"D01479\"\n",
    "# url=f\"https://www.genome.jp/entry/{number}\"\n",
    "# print(url)\n",
    "# r=requests.get(url)\n",
    "# soup=BeautifulSoup(r.content,\"html.parser\")\n",
    "# found=soup.find(string=re.compile(\"Therapeutic category:\")).find_next('td').text.strip()\n",
    "# found"
   ]
  },
  {
   "cell_type": "code",
   "execution_count": 10,
   "metadata": {},
   "outputs": [],
   "source": [
    "\n",
    "# print(type(found))"
   ]
  },
  {
   "cell_type": "code",
   "execution_count": 11,
   "metadata": {},
   "outputs": [],
   "source": [
    "# x=\"1234 5678\"\n",
    "# x.strip()"
   ]
  }
 ],
 "metadata": {
  "kernelspec": {
   "display_name": "Python 3",
   "language": "python",
   "name": "python3"
  },
  "language_info": {
   "codemirror_mode": {
    "name": "ipython",
    "version": 3
   },
   "file_extension": ".py",
   "mimetype": "text/x-python",
   "name": "python",
   "nbconvert_exporter": "python",
   "pygments_lexer": "ipython3",
   "version": "3.10.4"
  },
  "orig_nbformat": 4
 },
 "nbformat": 4,
 "nbformat_minor": 2
}
