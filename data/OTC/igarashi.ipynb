{
 "cells": [
  {
   "cell_type": "code",
   "execution_count": 33,
   "metadata": {},
   "outputs": [],
   "source": [
    "import pandas as pd\n",
    "import numpy as np"
   ]
  },
  {
   "cell_type": "markdown",
   "metadata": {},
   "source": [
    "2019のデータらしい"
   ]
  },
  {
   "cell_type": "code",
   "execution_count": 34,
   "metadata": {},
   "outputs": [
    {
     "data": {
      "text/html": [
       "<div>\n",
       "<style scoped>\n",
       "    .dataframe tbody tr th:only-of-type {\n",
       "        vertical-align: middle;\n",
       "    }\n",
       "\n",
       "    .dataframe tbody tr th {\n",
       "        vertical-align: top;\n",
       "    }\n",
       "\n",
       "    .dataframe thead th {\n",
       "        text-align: right;\n",
       "    }\n",
       "</style>\n",
       "<table border=\"1\" class=\"dataframe\">\n",
       "  <thead>\n",
       "    <tr style=\"text-align: right;\">\n",
       "      <th></th>\n",
       "      <th>薬効</th>\n",
       "      <th>otc</th>\n",
       "      <th>税制対象</th>\n",
       "      <th>税制対象割合</th>\n",
       "      <th>otc_per</th>\n",
       "      <th>sotc_per</th>\n",
       "    </tr>\n",
       "  </thead>\n",
       "  <tbody>\n",
       "    <tr>\n",
       "      <th>0</th>\n",
       "      <td>かぜ関連小計</td>\n",
       "      <td>161468727</td>\n",
       "      <td>77904872</td>\n",
       "      <td>48.2%</td>\n",
       "      <td>0.369691</td>\n",
       "      <td>0.558973</td>\n",
       "    </tr>\n",
       "    <tr>\n",
       "      <th>1</th>\n",
       "      <td>鼻炎関連小計</td>\n",
       "      <td>31626317</td>\n",
       "      <td>15525556</td>\n",
       "      <td>49.1%</td>\n",
       "      <td>0.072410</td>\n",
       "      <td>0.111397</td>\n",
       "    </tr>\n",
       "    <tr>\n",
       "      <th>2</th>\n",
       "      <td>鎮痛・鎮痒・収斂・消炎剤</td>\n",
       "      <td>91018396</td>\n",
       "      <td>34534873</td>\n",
       "      <td>37.9%</td>\n",
       "      <td>0.208391</td>\n",
       "      <td>0.247790</td>\n",
       "    </tr>\n",
       "    <tr>\n",
       "      <th>3</th>\n",
       "      <td>消化器官用薬合計</td>\n",
       "      <td>72207173</td>\n",
       "      <td>5816576</td>\n",
       "      <td>8.1%</td>\n",
       "      <td>0.165322</td>\n",
       "      <td>0.041734</td>\n",
       "    </tr>\n",
       "    <tr>\n",
       "      <th>4</th>\n",
       "      <td>ビタミン剤</td>\n",
       "      <td>80445821</td>\n",
       "      <td>5589554</td>\n",
       "      <td>6.9%</td>\n",
       "      <td>0.184185</td>\n",
       "      <td>0.040105</td>\n",
       "    </tr>\n",
       "    <tr>\n",
       "      <th>5</th>\n",
       "      <td>合計</td>\n",
       "      <td>436766434</td>\n",
       "      <td>139371431</td>\n",
       "      <td>31.9%</td>\n",
       "      <td>1.000000</td>\n",
       "      <td>1.000000</td>\n",
       "    </tr>\n",
       "  </tbody>\n",
       "</table>\n",
       "</div>"
      ],
      "text/plain": [
       "             薬効        otc       税制対象 税制対象割合   otc_per  sotc_per\n",
       "0        かぜ関連小計  161468727   77904872  48.2%  0.369691  0.558973\n",
       "1        鼻炎関連小計   31626317   15525556  49.1%  0.072410  0.111397\n",
       "2  鎮痛・鎮痒・収斂・消炎剤   91018396   34534873  37.9%  0.208391  0.247790\n",
       "3      消化器官用薬合計   72207173    5816576   8.1%  0.165322  0.041734\n",
       "4         ビタミン剤   80445821    5589554   6.9%  0.184185  0.040105\n",
       "5            合計  436766434  139371431  31.9%  1.000000  1.000000"
      ]
     },
     "execution_count": 34,
     "metadata": {},
     "output_type": "execute_result"
    }
   ],
   "source": [
    "# aggregateのところだけを抜き出す、idは別で保存\n",
    "data_3=pd.read_csv('igarashi2.csv')\n",
    "main_ids=data_3[\"分類\"]\n",
    "data_3=data_3.iloc[[4,7,8,17,18,19],[1,3,4,5]]\n",
    "data_3.reset_index(drop=True,inplace=True)\n",
    "data_3\n",
    "data_3[\"otc\"]=data_3[\"otc\"].astype(int)\n",
    "data_3[\"税制対象\"]=data_3[\"税制対象\"].astype(int)\n",
    "data_3[\"otc_per\"]=data_3[\"otc\"]/data_3.iloc[5,1]\n",
    "data_3[\"sotc_per\"]=data_3[\"税制対象\"]/data_3.iloc[5,2]\n",
    "data_3[\"薬効\"]\n",
    "data_3"
   ]
  },
  {
   "cell_type": "code",
   "execution_count": 35,
   "metadata": {},
   "outputs": [
    {
     "data": {
      "text/plain": [
       "(3493, 112)"
      ]
     },
     "execution_count": 35,
     "metadata": {},
     "output_type": "execute_result"
    }
   ],
   "source": [
    "data_ndb=pd.read_csv(\"../merged/len3_ndb_blp_DN.csv\",encoding=\"shift-jis\",index_col=0)\n",
    "data_ndb=data_ndb[data_ndb[\"year\"]==2019]\n",
    "data_ndb.shape"
   ]
  },
  {
   "cell_type": "code",
   "execution_count": 36,
   "metadata": {},
   "outputs": [
    {
     "name": "stdout",
     "output_type": "stream",
     "text": [
      "{224, 449, 132, 231, 264, 232, 233, 234, 235, 236, 237, 239, 114, 118, 441, 31, 222, 223}\n"
     ]
    }
   ],
   "source": [
    "main_ids.dropna(inplace=True)\n",
    "main_ids\n",
    "unique_items = []\n",
    "for item in main_ids:\n",
    "    item_data = item.split()\n",
    "    unique_items.extend(item_data)\n",
    "\n",
    "idset=set(np.array(unique_items).astype(int))\n",
    "print(idset)\n",
    "np.array(unique_items).astype(int)\n",
    "ids=[]\n",
    "ids.append([114, 118, 222, 223, 224, 441])\n",
    "ids.append([132, 449])\n",
    "ids.append([264])\n",
    "ids.append([231, 232, 233, 234,235, 236, 237, 239])\n",
    "# ids\n",
    "prices=[]"
   ]
  },
  {
   "cell_type": "code",
   "execution_count": 37,
   "metadata": {},
   "outputs": [
    {
     "data": {
      "text/plain": [
       "[61.29607427055703, 335.01701030927836, 15.068, 59.86833984374999]"
      ]
     },
     "execution_count": 37,
     "metadata": {},
     "output_type": "execute_result"
    }
   ],
   "source": [
    "for i in range(4):\n",
    "    prices.append(data_ndb[data_ndb[\"薬効分類\"].isin(ids[i])][\"薬価\"].mean())\n",
    "prices"
   ]
  },
  {
   "cell_type": "code",
   "execution_count": 38,
   "metadata": {},
   "outputs": [
    {
     "data": {
      "text/plain": [
       "(1.0, 1.0)"
      ]
     },
     "execution_count": 38,
     "metadata": {},
     "output_type": "execute_result"
    }
   ],
   "source": [
    "data_3[\"otc_per\"].sum()-1,data_3[\"sotc_per\"].sum()-1"
   ]
  },
  {
   "cell_type": "markdown",
   "metadata": {},
   "source": [
    "全項目じゃないほう: 初再診+医学管理等＋投薬＋調剤+薬剤"
   ]
  },
  {
   "cell_type": "markdown",
   "metadata": {},
   "source": [
    "0,6,7,9,11 #解熱鎮痛剤 全部同じ  \n",
    "1,2 #鼻炎 同じ  \n",
    "3,4,5 #胃腸 4,5は同じ  \n",
    "8,10,12 #外用消炎　全部同じ  "
   ]
  },
  {
   "cell_type": "code",
   "execution_count": 39,
   "metadata": {},
   "outputs": [
    {
     "data": {
      "text/plain": [
       "0     173.570\n",
       "1     140.465\n",
       "2     140.465\n",
       "3      27.390\n",
       "4      75.208\n",
       "5      75.208\n",
       "6     107.422\n",
       "7     107.422\n",
       "8      15.612\n",
       "9     107.422\n",
       "10     15.612\n",
       "11    107.422\n",
       "12     15.612\n",
       "Name: 金額/日, dtype: float64"
      ]
     },
     "execution_count": 39,
     "metadata": {},
     "output_type": "execute_result"
    }
   ],
   "source": [
    "data_price=pd.read_csv('igarashi.csv')\n",
    "data_price[\"金額/日\"]"
   ]
  },
  {
   "cell_type": "code",
   "execution_count": 40,
   "metadata": {},
   "outputs": [
    {
     "data": {
      "text/html": [
       "<div>\n",
       "<style scoped>\n",
       "    .dataframe tbody tr th:only-of-type {\n",
       "        vertical-align: middle;\n",
       "    }\n",
       "\n",
       "    .dataframe tbody tr th {\n",
       "        vertical-align: top;\n",
       "    }\n",
       "\n",
       "    .dataframe thead th {\n",
       "        text-align: right;\n",
       "    }\n",
       "</style>\n",
       "<table border=\"1\" class=\"dataframe\">\n",
       "  <thead>\n",
       "    <tr style=\"text-align: right;\">\n",
       "      <th></th>\n",
       "      <th>症状</th>\n",
       "      <th>レセプト件数</th>\n",
       "      <th>全項目金額</th>\n",
       "      <th>全項目金額/件</th>\n",
       "      <th>全項目3割負担</th>\n",
       "      <th>金額</th>\n",
       "      <th>金額/件</th>\n",
       "      <th>3割負担</th>\n",
       "      <th>平均日数（枚数）</th>\n",
       "      <th>薬効</th>\n",
       "      <th>金額/日</th>\n",
       "      <th>OTC金額</th>\n",
       "      <th>rx金額/日</th>\n",
       "    </tr>\n",
       "  </thead>\n",
       "  <tbody>\n",
       "    <tr>\n",
       "      <th>0</th>\n",
       "      <td>かぜ （全薬剤）</td>\n",
       "      <td>5379</td>\n",
       "      <td>33152340</td>\n",
       "      <td>6163</td>\n",
       "      <td>1849</td>\n",
       "      <td>30199740</td>\n",
       "      <td>5614</td>\n",
       "      <td>1684</td>\n",
       "      <td>4.889</td>\n",
       "      <td>かぜ薬</td>\n",
       "      <td>173.570</td>\n",
       "      <td>849</td>\n",
       "      <td>344.446717</td>\n",
       "    </tr>\n",
       "    <tr>\n",
       "      <th>1</th>\n",
       "      <td>鼻炎① （全薬剤）</td>\n",
       "      <td>77598</td>\n",
       "      <td>667322650</td>\n",
       "      <td>8600</td>\n",
       "      <td>2580</td>\n",
       "      <td>572286677</td>\n",
       "      <td>7375</td>\n",
       "      <td>2213</td>\n",
       "      <td>28.200</td>\n",
       "      <td>抗ア薬</td>\n",
       "      <td>140.465</td>\n",
       "      <td>3961</td>\n",
       "      <td>78.475177</td>\n",
       "    </tr>\n",
       "    <tr>\n",
       "      <th>2</th>\n",
       "      <td>便秘 （全薬剤）</td>\n",
       "      <td>4134</td>\n",
       "      <td>24054390</td>\n",
       "      <td>5819</td>\n",
       "      <td>1746</td>\n",
       "      <td>21592212</td>\n",
       "      <td>5223</td>\n",
       "      <td>1567</td>\n",
       "      <td>32.168</td>\n",
       "      <td>便秘薬</td>\n",
       "      <td>27.390</td>\n",
       "      <td>881</td>\n",
       "      <td>48.713007</td>\n",
       "    </tr>\n",
       "    <tr>\n",
       "      <th>3</th>\n",
       "      <td>胃炎 （全薬剤）</td>\n",
       "      <td>635</td>\n",
       "      <td>3648900</td>\n",
       "      <td>5746</td>\n",
       "      <td>1724</td>\n",
       "      <td>3092507</td>\n",
       "      <td>4870</td>\n",
       "      <td>1461</td>\n",
       "      <td>7.062</td>\n",
       "      <td>胃腸薬</td>\n",
       "      <td>75.208</td>\n",
       "      <td>531</td>\n",
       "      <td>206.881903</td>\n",
       "    </tr>\n",
       "    <tr>\n",
       "      <th>4</th>\n",
       "      <td>頭痛 （全薬剤）</td>\n",
       "      <td>1495</td>\n",
       "      <td>7576520</td>\n",
       "      <td>5068</td>\n",
       "      <td>1520</td>\n",
       "      <td>6138331</td>\n",
       "      <td>4106</td>\n",
       "      <td>1232</td>\n",
       "      <td>6.153</td>\n",
       "      <td>解熱鎮痛</td>\n",
       "      <td>107.422</td>\n",
       "      <td>661</td>\n",
       "      <td>200.227531</td>\n",
       "    </tr>\n",
       "    <tr>\n",
       "      <th>5</th>\n",
       "      <td>腰痛② （外用消炎）</td>\n",
       "      <td>593</td>\n",
       "      <td>4319520</td>\n",
       "      <td>7284</td>\n",
       "      <td>2185</td>\n",
       "      <td>2633273</td>\n",
       "      <td>4441</td>\n",
       "      <td>1332</td>\n",
       "      <td>81.430</td>\n",
       "      <td>外用消炎</td>\n",
       "      <td>15.612</td>\n",
       "      <td>1271</td>\n",
       "      <td>16.357608</td>\n",
       "    </tr>\n",
       "  </tbody>\n",
       "</table>\n",
       "</div>"
      ],
      "text/plain": [
       "           症状  レセプト件数      全項目金額  全項目金額/件  全項目3割負担         金額  金額/件  3割負担  \\\n",
       "0    かぜ （全薬剤）    5379   33152340     6163     1849   30199740  5614  1684   \n",
       "1   鼻炎① （全薬剤）   77598  667322650     8600     2580  572286677  7375  2213   \n",
       "2    便秘 （全薬剤）    4134   24054390     5819     1746   21592212  5223  1567   \n",
       "3    胃炎 （全薬剤）     635    3648900     5746     1724    3092507  4870  1461   \n",
       "4    頭痛 （全薬剤）    1495    7576520     5068     1520    6138331  4106  1232   \n",
       "5  腰痛② （外用消炎）     593    4319520     7284     2185    2633273  4441  1332   \n",
       "\n",
       "   平均日数（枚数）    薬効     金額/日  OTC金額      rx金額/日  \n",
       "0     4.889   かぜ薬  173.570    849  344.446717  \n",
       "1    28.200   抗ア薬  140.465   3961   78.475177  \n",
       "2    32.168   便秘薬   27.390    881   48.713007  \n",
       "3     7.062   胃腸薬   75.208    531  206.881903  \n",
       "4     6.153  解熱鎮痛  107.422    661  200.227531  \n",
       "5    81.430  外用消炎   15.612   1271   16.357608  "
      ]
     },
     "execution_count": 40,
     "metadata": {},
     "output_type": "execute_result"
    }
   ],
   "source": [
    "data_price=data_price.drop_duplicates(subset='薬効',keep='first')\n",
    "data_price[\"rx金額/日\"]=data_price[\"3割負担\"]/data_price[\"平均日数（枚数）\"]\n",
    "data_price.reset_index(drop=True,inplace=True)\n",
    "data_price"
   ]
  },
  {
   "cell_type": "markdown",
   "metadata": {},
   "source": [
    "share otc  \n",
    "0 かぜ関連小計  \n",
    "1          鼻炎関連小計  \n",
    "2    鎮痛・鎮痒・収斂・消炎剤  \n",
    "3        消化器官用薬合計  \n",
    "4           ビタミン剤  \n",
    "5              合計"
   ]
  },
  {
   "cell_type": "code",
   "execution_count": 41,
   "metadata": {},
   "outputs": [
    {
     "data": {
      "text/plain": [
       "109.27177080187441"
      ]
     },
     "execution_count": 41,
     "metadata": {},
     "output_type": "execute_result"
    }
   ],
   "source": [
    "# 重みづけOTC価格\n",
    "# pay per day\n",
    "ppd=list(data_price.loc[:,\"金額/日\"].astype(int))\n",
    "ppd_rx=list(data_price.loc[:,\"rx金額/日\"].astype(int))\n",
    "# sotc全体に対するシェアで重みづける、これが重み\n",
    "share_sotc=list(data_3.iloc[:,4])\n",
    "ppd[0]*share_sotc[0]+ppd[1]*share_sotc[1]+ppd[2]*share_sotc[3]/3+ppd[3]*share_sotc[3]*2/3+ppd[4]*share_sotc[2]+ppd[5]*share_sotc[2]\n",
    "# ppd[0]*share_sotc[0]+ppd[1]*share_sotc[1]+ppd[2]*share_sotc[3]/2+ppd[3]*share_sotc[3]*1/2+ppd[4]*share_sotc[2]+ppd[5]*share_sotc[2]"
   ]
  },
  {
   "cell_type": "code",
   "execution_count": 42,
   "metadata": {},
   "outputs": [
    {
     "data": {
      "text/plain": [
       "59.95685559995722"
      ]
     },
     "execution_count": 42,
     "metadata": {},
     "output_type": "execute_result"
    }
   ],
   "source": [
    "# 重みづけ薬価\n",
    "avg_pr=0\n",
    "for i in range(4):\n",
    "    avg_pr+=prices[i]*share_sotc[i]\n",
    "avg_pr"
   ]
  },
  {
   "cell_type": "code",
   "execution_count": 21,
   "metadata": {},
   "outputs": [
    {
     "data": {
      "text/plain": [
       "203.18373384129302"
      ]
     },
     "execution_count": 21,
     "metadata": {},
     "output_type": "execute_result"
    }
   ],
   "source": [
    "# 重みづけ３割負担\n",
    "ppd=ppd_rx\n",
    "ppd[0]*share_sotc[0]+ppd[1]*share_sotc[1]+ppd[2]*share_sotc[3]/3+ppd[3]*share_sotc[3]*2/3+ppd[4]*share_sotc[2]+ppd[5]*share_sotc[2]"
   ]
  },
  {
   "cell_type": "code",
   "execution_count": 1,
   "metadata": {},
   "outputs": [
    {
     "data": {
      "text/plain": [
       "3.3833333333333333"
      ]
     },
     "execution_count": 1,
     "metadata": {},
     "output_type": "execute_result"
    }
   ],
   "source": [
    "203/60"
   ]
  },
  {
   "cell_type": "markdown",
   "metadata": {},
   "source": [
    "そもそもセルメ主要薬効はどれくらいを占めるのか"
   ]
  },
  {
   "cell_type": "code",
   "execution_count": 22,
   "metadata": {},
   "outputs": [
    {
     "data": {
      "text/html": [
       "<div>\n",
       "<style scoped>\n",
       "    .dataframe tbody tr th:only-of-type {\n",
       "        vertical-align: middle;\n",
       "    }\n",
       "\n",
       "    .dataframe tbody tr th {\n",
       "        vertical-align: top;\n",
       "    }\n",
       "\n",
       "    .dataframe thead th {\n",
       "        text-align: right;\n",
       "    }\n",
       "</style>\n",
       "<table border=\"1\" class=\"dataframe\">\n",
       "  <thead>\n",
       "    <tr style=\"text-align: right;\">\n",
       "      <th></th>\n",
       "      <th>year</th>\n",
       "      <th>id</th>\n",
       "      <th>efficacy</th>\n",
       "      <th>rx_dom</th>\n",
       "      <th>otc_dom</th>\n",
       "      <th>self_dom</th>\n",
       "      <th>stock_rx</th>\n",
       "      <th>stock_otc</th>\n",
       "      <th>stock_self</th>\n",
       "      <th>stock_rx_lag</th>\n",
       "      <th>...</th>\n",
       "      <th>id_264</th>\n",
       "      <th>id_265</th>\n",
       "      <th>id_332</th>\n",
       "      <th>id_339</th>\n",
       "      <th>id_399</th>\n",
       "      <th>id_441</th>\n",
       "      <th>id_449</th>\n",
       "      <th>id_625</th>\n",
       "      <th>id_629</th>\n",
       "      <th>id_799</th>\n",
       "    </tr>\n",
       "  </thead>\n",
       "  <tbody>\n",
       "    <tr>\n",
       "      <th>275</th>\n",
       "      <td>2019</td>\n",
       "      <td>114</td>\n",
       "      <td>解熱鎮痛消炎剤</td>\n",
       "      <td>143805120</td>\n",
       "      <td>55891566.0</td>\n",
       "      <td>37376219</td>\n",
       "      <td>37427896.0</td>\n",
       "      <td>10323037.0</td>\n",
       "      <td>7378055.0</td>\n",
       "      <td>16911795.0</td>\n",
       "      <td>...</td>\n",
       "      <td>0</td>\n",
       "      <td>0</td>\n",
       "      <td>0</td>\n",
       "      <td>0</td>\n",
       "      <td>0</td>\n",
       "      <td>0</td>\n",
       "      <td>0</td>\n",
       "      <td>0</td>\n",
       "      <td>0</td>\n",
       "      <td>0</td>\n",
       "    </tr>\n",
       "    <tr>\n",
       "      <th>276</th>\n",
       "      <td>2019</td>\n",
       "      <td>121</td>\n",
       "      <td>局所麻酔剤</td>\n",
       "      <td>11455407</td>\n",
       "      <td>0.0</td>\n",
       "      <td>0</td>\n",
       "      <td>2721089.0</td>\n",
       "      <td>0.0</td>\n",
       "      <td>0.0</td>\n",
       "      <td>995778.0</td>\n",
       "      <td>...</td>\n",
       "      <td>0</td>\n",
       "      <td>0</td>\n",
       "      <td>0</td>\n",
       "      <td>0</td>\n",
       "      <td>0</td>\n",
       "      <td>0</td>\n",
       "      <td>0</td>\n",
       "      <td>0</td>\n",
       "      <td>0</td>\n",
       "      <td>0</td>\n",
       "    </tr>\n",
       "    <tr>\n",
       "      <th>277</th>\n",
       "      <td>2019</td>\n",
       "      <td>123</td>\n",
       "      <td>自律神経剤</td>\n",
       "      <td>2340838</td>\n",
       "      <td>0.0</td>\n",
       "      <td>0</td>\n",
       "      <td>443724.0</td>\n",
       "      <td>0.0</td>\n",
       "      <td>0.0</td>\n",
       "      <td>89317.0</td>\n",
       "      <td>...</td>\n",
       "      <td>0</td>\n",
       "      <td>0</td>\n",
       "      <td>0</td>\n",
       "      <td>0</td>\n",
       "      <td>0</td>\n",
       "      <td>0</td>\n",
       "      <td>0</td>\n",
       "      <td>0</td>\n",
       "      <td>0</td>\n",
       "      <td>0</td>\n",
       "    </tr>\n",
       "    <tr>\n",
       "      <th>278</th>\n",
       "      <td>2019</td>\n",
       "      <td>131</td>\n",
       "      <td>眼科用剤</td>\n",
       "      <td>317582854</td>\n",
       "      <td>71689734.0</td>\n",
       "      <td>3927990</td>\n",
       "      <td>35943525.0</td>\n",
       "      <td>11120794.0</td>\n",
       "      <td>2159959.0</td>\n",
       "      <td>76672849.0</td>\n",
       "      <td>...</td>\n",
       "      <td>0</td>\n",
       "      <td>0</td>\n",
       "      <td>0</td>\n",
       "      <td>0</td>\n",
       "      <td>0</td>\n",
       "      <td>0</td>\n",
       "      <td>0</td>\n",
       "      <td>0</td>\n",
       "      <td>0</td>\n",
       "      <td>0</td>\n",
       "    </tr>\n",
       "    <tr>\n",
       "      <th>279</th>\n",
       "      <td>2019</td>\n",
       "      <td>132</td>\n",
       "      <td>耳鼻科用剤</td>\n",
       "      <td>41068867</td>\n",
       "      <td>20513544.0</td>\n",
       "      <td>4429304</td>\n",
       "      <td>17291231.0</td>\n",
       "      <td>5797883.0</td>\n",
       "      <td>2384657.0</td>\n",
       "      <td>3896325.0</td>\n",
       "      <td>...</td>\n",
       "      <td>0</td>\n",
       "      <td>0</td>\n",
       "      <td>0</td>\n",
       "      <td>0</td>\n",
       "      <td>0</td>\n",
       "      <td>0</td>\n",
       "      <td>0</td>\n",
       "      <td>0</td>\n",
       "      <td>0</td>\n",
       "      <td>0</td>\n",
       "    </tr>\n",
       "  </tbody>\n",
       "</table>\n",
       "<p>5 rows × 96 columns</p>\n",
       "</div>"
      ],
      "text/plain": [
       "     year   id efficacy     rx_dom     otc_dom  self_dom    stock_rx  \\\n",
       "275  2019  114  解熱鎮痛消炎剤  143805120  55891566.0  37376219  37427896.0   \n",
       "276  2019  121    局所麻酔剤   11455407         0.0         0   2721089.0   \n",
       "277  2019  123    自律神経剤    2340838         0.0         0    443724.0   \n",
       "278  2019  131     眼科用剤  317582854  71689734.0   3927990  35943525.0   \n",
       "279  2019  132    耳鼻科用剤   41068867  20513544.0   4429304  17291231.0   \n",
       "\n",
       "      stock_otc  stock_self  stock_rx_lag  ...  id_264  id_265  id_332 id_339  \\\n",
       "275  10323037.0   7378055.0    16911795.0  ...       0       0       0      0   \n",
       "276         0.0         0.0      995778.0  ...       0       0       0      0   \n",
       "277         0.0         0.0       89317.0  ...       0       0       0      0   \n",
       "278  11120794.0   2159959.0    76672849.0  ...       0       0       0      0   \n",
       "279   5797883.0   2384657.0     3896325.0  ...       0       0       0      0   \n",
       "\n",
       "    id_399 id_441  id_449 id_625 id_629  id_799  \n",
       "275      0      0       0      0      0       0  \n",
       "276      0      0       0      0      0       0  \n",
       "277      0      0       0      0      0       0  \n",
       "278      0      0       0      0      0       0  \n",
       "279      0      0       0      0      0       0  \n",
       "\n",
       "[5 rows x 96 columns]"
      ]
     },
     "execution_count": 22,
     "metadata": {},
     "output_type": "execute_result"
    }
   ],
   "source": [
    "# data ship\n",
    "data_ship=pd.read_csv(\"../merged/len3_ship_DN.csv\",encoding=\"shift-jis\",index_col=0)\n",
    "data_ship=data_ship[data_ship[\"year\"]==2019]\n",
    "# data_s[\"id\"].astype(str)\n",
    "\n",
    "data_ship.head()\n"
   ]
  },
  {
   "cell_type": "code",
   "execution_count": 23,
   "metadata": {},
   "outputs": [
    {
     "data": {
      "text/plain": [
       "(0.8342919807740469, 0.6606591447997165)"
      ]
     },
     "execution_count": 23,
     "metadata": {},
     "output_type": "execute_result"
    }
   ],
   "source": [
    "data_ship_main=data_ship[data_ship[\"id\"].isin(idset)]\n",
    "data_ship_main[\"self_dom\"].sum()/data_ship[\"self_dom\"].sum(),data_ship_main[\"otc_dom\"].sum()/data_ship[\"otc_dom\"].sum()"
   ]
  },
  {
   "cell_type": "markdown",
   "metadata": {},
   "source": [
    "rxとの比"
   ]
  },
  {
   "cell_type": "code",
   "execution_count": 24,
   "metadata": {},
   "outputs": [
    {
     "ename": "KeyError",
     "evalue": "9",
     "output_type": "error",
     "traceback": [
      "\u001b[1;31m---------------------------------------------------------------------------\u001b[0m",
      "\u001b[1;31mValueError\u001b[0m                                Traceback (most recent call last)",
      "File \u001b[1;32mc:\\Users\\hakos\\AppData\\Local\\Programs\\Python\\Python310\\lib\\site-packages\\pandas\\core\\indexes\\range.py:385\u001b[0m, in \u001b[0;36mRangeIndex.get_loc\u001b[1;34m(self, key, method, tolerance)\u001b[0m\n\u001b[0;32m    384\u001b[0m \u001b[39mtry\u001b[39;00m:\n\u001b[1;32m--> 385\u001b[0m     \u001b[39mreturn\u001b[39;00m \u001b[39mself\u001b[39;49m\u001b[39m.\u001b[39;49m_range\u001b[39m.\u001b[39;49mindex(new_key)\n\u001b[0;32m    386\u001b[0m \u001b[39mexcept\u001b[39;00m \u001b[39mValueError\u001b[39;00m \u001b[39mas\u001b[39;00m err:\n",
      "\u001b[1;31mValueError\u001b[0m: 9 is not in range",
      "\nThe above exception was the direct cause of the following exception:\n",
      "\u001b[1;31mKeyError\u001b[0m                                  Traceback (most recent call last)",
      "\u001b[1;32mc:\\Users\\hakos\\GDrive\\Downloads\\Research\\data\\OTC\\igarashi.ipynb セル 17\u001b[0m line \u001b[0;36m<cell line: 2>\u001b[1;34m()\u001b[0m\n\u001b[0;32m      <a href='vscode-notebook-cell:/c%3A/Users/hakos/GDrive/Downloads/Research/data/OTC/igarashi.ipynb#X21sZmlsZQ%3D%3D?line=0'>1</a>\u001b[0m data_price[\u001b[39m\"\u001b[39m\u001b[39m金額/日2\u001b[39m\u001b[39m\"\u001b[39m]\u001b[39m=\u001b[39mdata_price[\u001b[39m\"\u001b[39m\u001b[39m金額/日\u001b[39m\u001b[39m\"\u001b[39m]\u001b[39m.\u001b[39mcopy()\n\u001b[1;32m----> <a href='vscode-notebook-cell:/c%3A/Users/hakos/GDrive/Downloads/Research/data/OTC/igarashi.ipynb#X21sZmlsZQ%3D%3D?line=1'>2</a>\u001b[0m data_price\u001b[39m.\u001b[39mloc[\u001b[39m9\u001b[39m,\u001b[39m\"\u001b[39m\u001b[39m金額/日2\u001b[39m\u001b[39m\"\u001b[39m]\u001b[39m=\u001b[39mdata_price[\u001b[39m\"\u001b[39;49m\u001b[39m金額/日\u001b[39;49m\u001b[39m\"\u001b[39;49m][\u001b[39m9\u001b[39;49m]\u001b[39m+\u001b[39mdata_price[\u001b[39m\"\u001b[39m\u001b[39m金額/日\u001b[39m\u001b[39m\"\u001b[39m][\u001b[39m10\u001b[39m]\n\u001b[0;32m      <a href='vscode-notebook-cell:/c%3A/Users/hakos/GDrive/Downloads/Research/data/OTC/igarashi.ipynb#X21sZmlsZQ%3D%3D?line=2'>3</a>\u001b[0m data_price\u001b[39m.\u001b[39mloc[\u001b[39m11\u001b[39m,\u001b[39m\"\u001b[39m\u001b[39m金額/日2\u001b[39m\u001b[39m\"\u001b[39m]\u001b[39m=\u001b[39mdata_price\u001b[39m.\u001b[39mloc[\u001b[39m11\u001b[39m,\u001b[39m\"\u001b[39m\u001b[39m金額/日\u001b[39m\u001b[39m\"\u001b[39m]\u001b[39m+\u001b[39mdata_price\u001b[39m.\u001b[39mloc[\u001b[39m12\u001b[39m,\u001b[39m\"\u001b[39m\u001b[39m金額/日\u001b[39m\u001b[39m\"\u001b[39m]\n\u001b[0;32m      <a href='vscode-notebook-cell:/c%3A/Users/hakos/GDrive/Downloads/Research/data/OTC/igarashi.ipynb#X21sZmlsZQ%3D%3D?line=3'>4</a>\u001b[0m data_price[\u001b[39m\"\u001b[39m\u001b[39m金額/日\u001b[39m\u001b[39m\"\u001b[39m]\u001b[39m/\u001b[39mdata_price[\u001b[39m\"\u001b[39m\u001b[39mrx金額/日\u001b[39m\u001b[39m\"\u001b[39m],np\u001b[39m.\u001b[39mmean(data_price[\u001b[39m\"\u001b[39m\u001b[39m金額/日\u001b[39m\u001b[39m\"\u001b[39m]\u001b[39m/\u001b[39mdata_price[\u001b[39m\"\u001b[39m\u001b[39mrx金額/日\u001b[39m\u001b[39m\"\u001b[39m])\n",
      "File \u001b[1;32mc:\\Users\\hakos\\AppData\\Local\\Programs\\Python\\Python310\\lib\\site-packages\\pandas\\core\\series.py:958\u001b[0m, in \u001b[0;36mSeries.__getitem__\u001b[1;34m(self, key)\u001b[0m\n\u001b[0;32m    955\u001b[0m     \u001b[39mreturn\u001b[39;00m \u001b[39mself\u001b[39m\u001b[39m.\u001b[39m_values[key]\n\u001b[0;32m    957\u001b[0m \u001b[39melif\u001b[39;00m key_is_scalar:\n\u001b[1;32m--> 958\u001b[0m     \u001b[39mreturn\u001b[39;00m \u001b[39mself\u001b[39;49m\u001b[39m.\u001b[39;49m_get_value(key)\n\u001b[0;32m    960\u001b[0m \u001b[39mif\u001b[39;00m is_hashable(key):\n\u001b[0;32m    961\u001b[0m     \u001b[39m# Otherwise index.get_value will raise InvalidIndexError\u001b[39;00m\n\u001b[0;32m    962\u001b[0m     \u001b[39mtry\u001b[39;00m:\n\u001b[0;32m    963\u001b[0m         \u001b[39m# For labels that don't resolve as scalars like tuples and frozensets\u001b[39;00m\n",
      "File \u001b[1;32mc:\\Users\\hakos\\AppData\\Local\\Programs\\Python\\Python310\\lib\\site-packages\\pandas\\core\\series.py:1069\u001b[0m, in \u001b[0;36mSeries._get_value\u001b[1;34m(self, label, takeable)\u001b[0m\n\u001b[0;32m   1066\u001b[0m     \u001b[39mreturn\u001b[39;00m \u001b[39mself\u001b[39m\u001b[39m.\u001b[39m_values[label]\n\u001b[0;32m   1068\u001b[0m \u001b[39m# Similar to Index.get_value, but we do not fall back to positional\u001b[39;00m\n\u001b[1;32m-> 1069\u001b[0m loc \u001b[39m=\u001b[39m \u001b[39mself\u001b[39;49m\u001b[39m.\u001b[39;49mindex\u001b[39m.\u001b[39;49mget_loc(label)\n\u001b[0;32m   1070\u001b[0m \u001b[39mreturn\u001b[39;00m \u001b[39mself\u001b[39m\u001b[39m.\u001b[39mindex\u001b[39m.\u001b[39m_get_values_for_loc(\u001b[39mself\u001b[39m, loc, label)\n",
      "File \u001b[1;32mc:\\Users\\hakos\\AppData\\Local\\Programs\\Python\\Python310\\lib\\site-packages\\pandas\\core\\indexes\\range.py:387\u001b[0m, in \u001b[0;36mRangeIndex.get_loc\u001b[1;34m(self, key, method, tolerance)\u001b[0m\n\u001b[0;32m    385\u001b[0m         \u001b[39mreturn\u001b[39;00m \u001b[39mself\u001b[39m\u001b[39m.\u001b[39m_range\u001b[39m.\u001b[39mindex(new_key)\n\u001b[0;32m    386\u001b[0m     \u001b[39mexcept\u001b[39;00m \u001b[39mValueError\u001b[39;00m \u001b[39mas\u001b[39;00m err:\n\u001b[1;32m--> 387\u001b[0m         \u001b[39mraise\u001b[39;00m \u001b[39mKeyError\u001b[39;00m(key) \u001b[39mfrom\u001b[39;00m \u001b[39merr\u001b[39;00m\n\u001b[0;32m    388\u001b[0m \u001b[39mself\u001b[39m\u001b[39m.\u001b[39m_check_indexing_error(key)\n\u001b[0;32m    389\u001b[0m \u001b[39mraise\u001b[39;00m \u001b[39mKeyError\u001b[39;00m(key)\n",
      "\u001b[1;31mKeyError\u001b[0m: 9"
     ]
    }
   ],
   "source": [
    "\n",
    "data_price[\"金額/日2\"]=data_price[\"金額/日\"].copy()\n",
    "data_price.loc[9,\"金額/日2\"]=data_price[\"金額/日\"][9]+data_price[\"金額/日\"][10]\n",
    "data_price.loc[11,\"金額/日2\"]=data_price.loc[11,\"金額/日\"]+data_price.loc[12,\"金額/日\"]\n",
    "data_price[\"金額/日\"]/data_price[\"rx金額/日\"],np.mean(data_price[\"金額/日\"]/data_price[\"rx金額/日\"])"
   ]
  },
  {
   "cell_type": "markdown",
   "metadata": {},
   "source": [
    "RXの金額で重みづけるか"
   ]
  },
  {
   "cell_type": "code",
   "execution_count": null,
   "metadata": {},
   "outputs": [
    {
     "data": {
      "text/html": [
       "<div>\n",
       "<style scoped>\n",
       "    .dataframe tbody tr th:only-of-type {\n",
       "        vertical-align: middle;\n",
       "    }\n",
       "\n",
       "    .dataframe tbody tr th {\n",
       "        vertical-align: top;\n",
       "    }\n",
       "\n",
       "    .dataframe thead th {\n",
       "        text-align: right;\n",
       "    }\n",
       "</style>\n",
       "<table border=\"1\" class=\"dataframe\">\n",
       "  <thead>\n",
       "    <tr style=\"text-align: right;\">\n",
       "      <th></th>\n",
       "      <th>症状</th>\n",
       "      <th>レセプト件数</th>\n",
       "      <th>全項目金額</th>\n",
       "      <th>全項目金額/件</th>\n",
       "      <th>全項目3割負担</th>\n",
       "      <th>金額</th>\n",
       "      <th>金額/件</th>\n",
       "      <th>3割負担</th>\n",
       "      <th>平均日数（枚数）</th>\n",
       "      <th>薬効</th>\n",
       "      <th>金額/日</th>\n",
       "      <th>OTC金額</th>\n",
       "      <th>rx金額/日</th>\n",
       "      <th>金額/日2</th>\n",
       "    </tr>\n",
       "  </thead>\n",
       "  <tbody>\n",
       "    <tr>\n",
       "      <th>0</th>\n",
       "      <td>かぜ （全薬剤）</td>\n",
       "      <td>5379</td>\n",
       "      <td>33152340</td>\n",
       "      <td>6163</td>\n",
       "      <td>1849</td>\n",
       "      <td>30199740</td>\n",
       "      <td>5614</td>\n",
       "      <td>1684</td>\n",
       "      <td>4.889</td>\n",
       "      <td>かぜ薬</td>\n",
       "      <td>173.570</td>\n",
       "      <td>849</td>\n",
       "      <td>344.446717</td>\n",
       "      <td>173.570</td>\n",
       "    </tr>\n",
       "    <tr>\n",
       "      <th>1</th>\n",
       "      <td>鼻炎① （全薬剤）</td>\n",
       "      <td>77598</td>\n",
       "      <td>667322650</td>\n",
       "      <td>8600</td>\n",
       "      <td>2580</td>\n",
       "      <td>572286677</td>\n",
       "      <td>7375</td>\n",
       "      <td>2213</td>\n",
       "      <td>28.200</td>\n",
       "      <td>抗ア薬</td>\n",
       "      <td>140.465</td>\n",
       "      <td>3961</td>\n",
       "      <td>78.475177</td>\n",
       "      <td>140.465</td>\n",
       "    </tr>\n",
       "    <tr>\n",
       "      <th>2</th>\n",
       "      <td>鼻炎② （抗ア薬）</td>\n",
       "      <td>37709</td>\n",
       "      <td>292673860</td>\n",
       "      <td>7761</td>\n",
       "      <td>2328</td>\n",
       "      <td>250699601</td>\n",
       "      <td>6648</td>\n",
       "      <td>1994</td>\n",
       "      <td>28.686</td>\n",
       "      <td>抗ア薬</td>\n",
       "      <td>140.465</td>\n",
       "      <td>4029</td>\n",
       "      <td>69.511260</td>\n",
       "      <td>140.465</td>\n",
       "    </tr>\n",
       "    <tr>\n",
       "      <th>3</th>\n",
       "      <td>便秘 （全薬剤）</td>\n",
       "      <td>4134</td>\n",
       "      <td>24054390</td>\n",
       "      <td>5819</td>\n",
       "      <td>1746</td>\n",
       "      <td>21592212</td>\n",
       "      <td>5223</td>\n",
       "      <td>1567</td>\n",
       "      <td>32.168</td>\n",
       "      <td>便秘薬</td>\n",
       "      <td>27.390</td>\n",
       "      <td>881</td>\n",
       "      <td>48.713007</td>\n",
       "      <td>27.390</td>\n",
       "    </tr>\n",
       "    <tr>\n",
       "      <th>4</th>\n",
       "      <td>胃炎 （全薬剤）</td>\n",
       "      <td>635</td>\n",
       "      <td>3648900</td>\n",
       "      <td>5746</td>\n",
       "      <td>1724</td>\n",
       "      <td>3092507</td>\n",
       "      <td>4870</td>\n",
       "      <td>1461</td>\n",
       "      <td>7.062</td>\n",
       "      <td>胃腸薬</td>\n",
       "      <td>75.208</td>\n",
       "      <td>531</td>\n",
       "      <td>206.881903</td>\n",
       "      <td>75.208</td>\n",
       "    </tr>\n",
       "    <tr>\n",
       "      <th>5</th>\n",
       "      <td>胸やけ （全薬剤）</td>\n",
       "      <td>1402</td>\n",
       "      <td>11153680</td>\n",
       "      <td>7956</td>\n",
       "      <td>2387</td>\n",
       "      <td>9031581</td>\n",
       "      <td>6442</td>\n",
       "      <td>1933</td>\n",
       "      <td>29.344</td>\n",
       "      <td>胃腸薬</td>\n",
       "      <td>75.208</td>\n",
       "      <td>2207</td>\n",
       "      <td>65.873773</td>\n",
       "      <td>75.208</td>\n",
       "    </tr>\n",
       "    <tr>\n",
       "      <th>6</th>\n",
       "      <td>頭痛 （全薬剤）</td>\n",
       "      <td>1495</td>\n",
       "      <td>7576520</td>\n",
       "      <td>5068</td>\n",
       "      <td>1520</td>\n",
       "      <td>6138331</td>\n",
       "      <td>4106</td>\n",
       "      <td>1232</td>\n",
       "      <td>6.153</td>\n",
       "      <td>解熱鎮痛</td>\n",
       "      <td>107.422</td>\n",
       "      <td>661</td>\n",
       "      <td>200.227531</td>\n",
       "      <td>107.422</td>\n",
       "    </tr>\n",
       "    <tr>\n",
       "      <th>7</th>\n",
       "      <td>腰痛① （消炎鎮痛）</td>\n",
       "      <td>118</td>\n",
       "      <td>661040</td>\n",
       "      <td>5602</td>\n",
       "      <td>1681</td>\n",
       "      <td>495376</td>\n",
       "      <td>4198</td>\n",
       "      <td>1259</td>\n",
       "      <td>9.933</td>\n",
       "      <td>解熱鎮痛</td>\n",
       "      <td>107.422</td>\n",
       "      <td>1067</td>\n",
       "      <td>126.749220</td>\n",
       "      <td>107.422</td>\n",
       "    </tr>\n",
       "    <tr>\n",
       "      <th>8</th>\n",
       "      <td>腰痛② （外用消炎）</td>\n",
       "      <td>593</td>\n",
       "      <td>4319520</td>\n",
       "      <td>7284</td>\n",
       "      <td>2185</td>\n",
       "      <td>2633273</td>\n",
       "      <td>4441</td>\n",
       "      <td>1332</td>\n",
       "      <td>81.430</td>\n",
       "      <td>外用消炎</td>\n",
       "      <td>15.612</td>\n",
       "      <td>1271</td>\n",
       "      <td>16.357608</td>\n",
       "      <td>15.612</td>\n",
       "    </tr>\n",
       "    <tr>\n",
       "      <th>9</th>\n",
       "      <td>腰痛③</td>\n",
       "      <td>833</td>\n",
       "      <td>6069780</td>\n",
       "      <td>7287</td>\n",
       "      <td>2186</td>\n",
       "      <td>3859760</td>\n",
       "      <td>4634</td>\n",
       "      <td>1390</td>\n",
       "      <td>10.110</td>\n",
       "      <td>解熱鎮痛</td>\n",
       "      <td>107.422</td>\n",
       "      <td>1998</td>\n",
       "      <td>137.487636</td>\n",
       "      <td>123.034</td>\n",
       "    </tr>\n",
       "    <tr>\n",
       "      <th>10</th>\n",
       "      <td>腰痛④ (全薬剤)</td>\n",
       "      <td>2412</td>\n",
       "      <td>18810190</td>\n",
       "      <td>7799</td>\n",
       "      <td>2340</td>\n",
       "      <td>11599807</td>\n",
       "      <td>4809</td>\n",
       "      <td>1443</td>\n",
       "      <td>11.833</td>\n",
       "      <td>解熱鎮痛</td>\n",
       "      <td>107.422</td>\n",
       "      <td>1588</td>\n",
       "      <td>121.947097</td>\n",
       "      <td>123.034</td>\n",
       "    </tr>\n",
       "  </tbody>\n",
       "</table>\n",
       "</div>"
      ],
      "text/plain": [
       "            症状  レセプト件数      全項目金額  全項目金額/件  全項目3割負担         金額  金額/件  3割負担  \\\n",
       "0     かぜ （全薬剤）    5379   33152340     6163     1849   30199740  5614  1684   \n",
       "1    鼻炎① （全薬剤）   77598  667322650     8600     2580  572286677  7375  2213   \n",
       "2    鼻炎② （抗ア薬）   37709  292673860     7761     2328  250699601  6648  1994   \n",
       "3     便秘 （全薬剤）    4134   24054390     5819     1746   21592212  5223  1567   \n",
       "4     胃炎 （全薬剤）     635    3648900     5746     1724    3092507  4870  1461   \n",
       "5    胸やけ （全薬剤）    1402   11153680     7956     2387    9031581  6442  1933   \n",
       "6     頭痛 （全薬剤）    1495    7576520     5068     1520    6138331  4106  1232   \n",
       "7   腰痛① （消炎鎮痛）     118     661040     5602     1681     495376  4198  1259   \n",
       "8   腰痛② （外用消炎）     593    4319520     7284     2185    2633273  4441  1332   \n",
       "9          腰痛③     833    6069780     7287     2186    3859760  4634  1390   \n",
       "10   腰痛④ (全薬剤)    2412   18810190     7799     2340   11599807  4809  1443   \n",
       "\n",
       "    平均日数（枚数）    薬効     金額/日  OTC金額      rx金額/日    金額/日2  \n",
       "0      4.889   かぜ薬  173.570    849  344.446717  173.570  \n",
       "1     28.200   抗ア薬  140.465   3961   78.475177  140.465  \n",
       "2     28.686   抗ア薬  140.465   4029   69.511260  140.465  \n",
       "3     32.168   便秘薬   27.390    881   48.713007   27.390  \n",
       "4      7.062   胃腸薬   75.208    531  206.881903   75.208  \n",
       "5     29.344   胃腸薬   75.208   2207   65.873773   75.208  \n",
       "6      6.153  解熱鎮痛  107.422    661  200.227531  107.422  \n",
       "7      9.933  解熱鎮痛  107.422   1067  126.749220  107.422  \n",
       "8     81.430  外用消炎   15.612   1271   16.357608   15.612  \n",
       "9     10.110  解熱鎮痛  107.422   1998  137.487636  123.034  \n",
       "10    11.833  解熱鎮痛  107.422   1588  121.947097  123.034  "
      ]
     },
     "execution_count": 221,
     "metadata": {},
     "output_type": "execute_result"
    }
   ],
   "source": [
    "data_2=data.copy()\n",
    "data_2.drop([10,12],inplace=True)\n",
    "data_2.reset_index(drop=True,inplace=True)\n",
    "data_2"
   ]
  },
  {
   "cell_type": "code",
   "execution_count": null,
   "metadata": {},
   "outputs": [
    {
     "data": {
      "text/plain": [
       "911628865"
      ]
     },
     "execution_count": 222,
     "metadata": {},
     "output_type": "execute_result"
    }
   ],
   "source": [
    "sum_p=data_2[\"金額\"].sum()\n",
    "sum_p"
   ]
  },
  {
   "cell_type": "code",
   "execution_count": null,
   "metadata": {},
   "outputs": [
    {
     "data": {
      "text/plain": [
       "0     0.503910\n",
       "1     1.789929\n",
       "2     2.020752\n",
       "3     0.562273\n",
       "4     0.363531\n",
       "5     1.141699\n",
       "6     0.536500\n",
       "7     0.847516\n",
       "8     0.954418\n",
       "9     0.894873\n",
       "10    1.008913\n",
       "dtype: float64"
      ]
     },
     "execution_count": 223,
     "metadata": {},
     "output_type": "execute_result"
    }
   ],
   "source": [
    "data_2[\"金額/日2\"]/data_2[\"rx金額/日\"]"
   ]
  },
  {
   "cell_type": "code",
   "execution_count": null,
   "metadata": {},
   "outputs": [
    {
     "data": {
      "text/plain": [
       "1.7453724590201782"
      ]
     },
     "execution_count": 224,
     "metadata": {},
     "output_type": "execute_result"
    }
   ],
   "source": [
    "# 平均的にrxの何倍の価格か\n",
    "np.sum((data_2[\"金額/日2\"]/data_2[\"rx金額/日\"])*(data_2[\"金額\"]/sum_p))"
   ]
  },
  {
   "cell_type": "code",
   "execution_count": null,
   "metadata": {},
   "outputs": [
    {
     "data": {
      "text/plain": [
       "(27.305563298647854, 6971.556509985015)"
      ]
     },
     "execution_count": 225,
     "metadata": {},
     "output_type": "execute_result"
    }
   ],
   "source": [
    "# 平均的に何日分か、平均金額は何円か\n",
    "np.sum(data_2[\"平均日数（枚数）\"]*(data_2[\"金額\"]/sum_p)),np.sum(data_2[\"金額/件\"]*(data_2[\"金額\"]/sum_p))"
   ]
  }
 ],
 "metadata": {
  "kernelspec": {
   "display_name": "Python 3",
   "language": "python",
   "name": "python3"
  },
  "language_info": {
   "codemirror_mode": {
    "name": "ipython",
    "version": 3
   },
   "file_extension": ".py",
   "mimetype": "text/x-python",
   "name": "python",
   "nbconvert_exporter": "python",
   "pygments_lexer": "ipython3",
   "version": "3.10.4"
  },
  "orig_nbformat": 4
 },
 "nbformat": 4,
 "nbformat_minor": 2
}
