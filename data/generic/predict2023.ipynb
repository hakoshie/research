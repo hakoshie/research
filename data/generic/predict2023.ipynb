{
 "cells": [
  {
   "cell_type": "code",
   "execution_count": 16,
   "metadata": {},
   "outputs": [
    {
     "name": "stdout",
     "output_type": "stream",
     "text": [
      "Optimization terminated successfully.\n",
      "         Current function value: 0.576173\n",
      "         Iterations 6\n",
      "予測された次の期の割合: 0.83\n"
     ]
    }
   ],
   "source": [
    "import pandas as pd\n",
    "import statsmodels.api as sm\n",
    "\n",
    "# データを読み込みます\n",
    "data = pd.read_csv('generic_usage_imp.csv')\n",
    "\n",
    "# 年度と割合をXとyに分割します\n",
    "X = data['Year']\n",
    "y = data['Percentage']/100\n",
    "\n",
    "# 定数項（切片）を追加します\n",
    "X = sm.add_constant(X)\n",
    "\n",
    "# 線形回帰モデルを作成します\n",
    "model = sm.Logit(y, X).fit()\n",
    "\n",
    "# 予測したい年度を指定します\n",
    "next_year = 2023\n",
    "\n",
    "# 予測を実行します\n",
    "predicted_percentage = model.predict([1, next_year])\n",
    "\n",
    "print(f'予測された次の期の割合: {predicted_percentage[0]:.2f}')\n"
   ]
  }
 ],
 "metadata": {
  "kernelspec": {
   "display_name": "Python 3",
   "language": "python",
   "name": "python3"
  },
  "language_info": {
   "codemirror_mode": {
    "name": "ipython",
    "version": 3
   },
   "file_extension": ".py",
   "mimetype": "text/x-python",
   "name": "python",
   "nbconvert_exporter": "python",
   "pygments_lexer": "ipython3",
   "version": "3.10.4"
  },
  "orig_nbformat": 4
 },
 "nbformat": 4,
 "nbformat_minor": 2
}
