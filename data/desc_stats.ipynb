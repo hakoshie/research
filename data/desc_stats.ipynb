{
 "cells": [
  {
   "cell_type": "code",
   "execution_count": 1,
   "metadata": {},
   "outputs": [],
   "source": [
    "import pandas as pd\n",
    "import numpy as np"
   ]
  },
  {
   "cell_type": "code",
   "execution_count": 2,
   "metadata": {},
   "outputs": [
    {
     "data": {
      "text/html": [
       "<div>\n",
       "<style scoped>\n",
       "    .dataframe tbody tr th:only-of-type {\n",
       "        vertical-align: middle;\n",
       "    }\n",
       "\n",
       "    .dataframe tbody tr th {\n",
       "        vertical-align: top;\n",
       "    }\n",
       "\n",
       "    .dataframe thead th {\n",
       "        text-align: right;\n",
       "    }\n",
       "</style>\n",
       "<table border=\"1\" class=\"dataframe\">\n",
       "  <thead>\n",
       "    <tr style=\"text-align: right;\">\n",
       "      <th></th>\n",
       "      <th>rx_dom</th>\n",
       "      <th>otc_dom</th>\n",
       "      <th>self_dom</th>\n",
       "    </tr>\n",
       "  </thead>\n",
       "  <tbody>\n",
       "    <tr>\n",
       "      <th>count</th>\n",
       "      <td>2.752000e+03</td>\n",
       "      <td>2.752000e+03</td>\n",
       "      <td>2752.0</td>\n",
       "    </tr>\n",
       "    <tr>\n",
       "      <th>mean</th>\n",
       "      <td>1.378616e+07</td>\n",
       "      <td>1.311866e+06</td>\n",
       "      <td>0.0</td>\n",
       "    </tr>\n",
       "    <tr>\n",
       "      <th>std</th>\n",
       "      <td>1.450122e+07</td>\n",
       "      <td>2.333219e+06</td>\n",
       "      <td>0.0</td>\n",
       "    </tr>\n",
       "    <tr>\n",
       "      <th>min</th>\n",
       "      <td>2.983500e+04</td>\n",
       "      <td>1.200000e+01</td>\n",
       "      <td>0.0</td>\n",
       "    </tr>\n",
       "    <tr>\n",
       "      <th>25%</th>\n",
       "      <td>1.805011e+06</td>\n",
       "      <td>2.771450e+04</td>\n",
       "      <td>0.0</td>\n",
       "    </tr>\n",
       "    <tr>\n",
       "      <th>50%</th>\n",
       "      <td>1.199820e+07</td>\n",
       "      <td>2.485425e+05</td>\n",
       "      <td>0.0</td>\n",
       "    </tr>\n",
       "    <tr>\n",
       "      <th>75%</th>\n",
       "      <td>1.981822e+07</td>\n",
       "      <td>1.183112e+06</td>\n",
       "      <td>0.0</td>\n",
       "    </tr>\n",
       "    <tr>\n",
       "      <th>max</th>\n",
       "      <td>1.121442e+08</td>\n",
       "      <td>2.966552e+07</td>\n",
       "      <td>0.0</td>\n",
       "    </tr>\n",
       "  </tbody>\n",
       "</table>\n",
       "</div>"
      ],
      "text/plain": [
       "             rx_dom       otc_dom  self_dom\n",
       "count  2.752000e+03  2.752000e+03    2752.0\n",
       "mean   1.378616e+07  1.311866e+06       0.0\n",
       "std    1.450122e+07  2.333219e+06       0.0\n",
       "min    2.983500e+04  1.200000e+01       0.0\n",
       "25%    1.805011e+06  2.771450e+04       0.0\n",
       "50%    1.199820e+07  2.485425e+05       0.0\n",
       "75%    1.981822e+07  1.183112e+06       0.0\n",
       "max    1.121442e+08  2.966552e+07       0.0"
      ]
     },
     "execution_count": 2,
     "metadata": {},
     "output_type": "execute_result"
    }
   ],
   "source": [
    "df=pd.read_csv(\"./merged/len3_ship_mon_Y_DN.csv\",encoding=\"shift-jis\",index_col=0)\n",
    "\n",
    "#前処理\n",
    "df.replace('-',\"0\",inplace=True)\n",
    "df[\"otc_dom\"].replace(\",\",\"\",regex=True,inplace=True)\n",
    "df[\"rx_dom\"].replace(\",\",\"\",regex=True,inplace=True)\n",
    "df[\"stock_otc_lag\"].replace(\",\",\"\",regex=True,inplace=True)\n",
    "df[\"stock_rx_lag\"].replace(\",\",\"\",regex=True,inplace=True)\n",
    "# fillna\n",
    "df[\"otc_dom\"].fillna(0,inplace=True)\n",
    "df[\"rx_dom\"].fillna(0,inplace=True)\n",
    "df[\"stock_otc_lag\"].fillna(0,inplace=True)\n",
    "df[\"stock_rx_lag\"].fillna(0,inplace=True)\n",
    "df[\"otc_dom\"]=df[\"otc_dom\"].astype(int)\n",
    "df[\"rx_dom\"]=df[\"rx_dom\"].astype(int)\n",
    "df[\"stock_otc_lag\"]=df[\"stock_otc_lag\"].astype(int)\n",
    "df[\"stock_rx_lag\"]=df[\"stock_rx_lag\"].astype(float)\n",
    "df=df.loc[df[\"otc_dom\"]>0]\n",
    "df=df.loc[df[\"rx_dom\"]>0]\n",
    "df=df.loc[df[\"stock_otc_lag\"]>0]\n",
    "df=df.loc[df[\"stock_rx_lag\"]>0]\n",
    "df=df.loc[df[\"generic_share_q\"]>0]\n",
    "df[[\"rx_dom\",\"otc_dom\",\"self_dom\"]].describe()"
   ]
  },
  {
   "cell_type": "code",
   "execution_count": 3,
   "metadata": {},
   "outputs": [
    {
     "data": {
      "text/plain": [
       "count    0.0\n",
       "mean     NaN\n",
       "std      NaN\n",
       "min      NaN\n",
       "25%      NaN\n",
       "50%      NaN\n",
       "75%      NaN\n",
       "max      NaN\n",
       "Name: self_dom, dtype: float64"
      ]
     },
     "execution_count": 3,
     "metadata": {},
     "output_type": "execute_result"
    }
   ],
   "source": [
    "df.loc[df[\"self_dom\"]>0][\"self_dom\"].describe()"
   ]
  },
  {
   "cell_type": "code",
   "execution_count": 4,
   "metadata": {},
   "outputs": [
    {
     "data": {
      "text/html": [
       "<div>\n",
       "<style scoped>\n",
       "    .dataframe tbody tr th:only-of-type {\n",
       "        vertical-align: middle;\n",
       "    }\n",
       "\n",
       "    .dataframe tbody tr th {\n",
       "        vertical-align: top;\n",
       "    }\n",
       "\n",
       "    .dataframe thead th {\n",
       "        text-align: right;\n",
       "    }\n",
       "</style>\n",
       "<table border=\"1\" class=\"dataframe\">\n",
       "  <thead>\n",
       "    <tr style=\"text-align: right;\">\n",
       "      <th></th>\n",
       "      <th>rx_dom</th>\n",
       "      <th>otc_dom</th>\n",
       "    </tr>\n",
       "  </thead>\n",
       "  <tbody>\n",
       "    <tr>\n",
       "      <th>count</th>\n",
       "      <td>2.130000e+02</td>\n",
       "      <td>2.130000e+02</td>\n",
       "    </tr>\n",
       "    <tr>\n",
       "      <th>mean</th>\n",
       "      <td>1.552942e+08</td>\n",
       "      <td>1.568697e+07</td>\n",
       "    </tr>\n",
       "    <tr>\n",
       "      <th>std</th>\n",
       "      <td>1.484851e+08</td>\n",
       "      <td>2.595221e+07</td>\n",
       "    </tr>\n",
       "    <tr>\n",
       "      <th>min</th>\n",
       "      <td>8.741860e+05</td>\n",
       "      <td>1.381800e+04</td>\n",
       "    </tr>\n",
       "    <tr>\n",
       "      <th>25%</th>\n",
       "      <td>2.533214e+07</td>\n",
       "      <td>4.259030e+05</td>\n",
       "    </tr>\n",
       "    <tr>\n",
       "      <th>50%</th>\n",
       "      <td>1.530709e+08</td>\n",
       "      <td>3.270722e+06</td>\n",
       "    </tr>\n",
       "    <tr>\n",
       "      <th>75%</th>\n",
       "      <td>2.411454e+08</td>\n",
       "      <td>1.668112e+07</td>\n",
       "    </tr>\n",
       "    <tr>\n",
       "      <th>max</th>\n",
       "      <td>8.654794e+08</td>\n",
       "      <td>1.561291e+08</td>\n",
       "    </tr>\n",
       "  </tbody>\n",
       "</table>\n",
       "</div>"
      ],
      "text/plain": [
       "             rx_dom       otc_dom\n",
       "count  2.130000e+02  2.130000e+02\n",
       "mean   1.552942e+08  1.568697e+07\n",
       "std    1.484851e+08  2.595221e+07\n",
       "min    8.741860e+05  1.381800e+04\n",
       "25%    2.533214e+07  4.259030e+05\n",
       "50%    1.530709e+08  3.270722e+06\n",
       "75%    2.411454e+08  1.668112e+07\n",
       "max    8.654794e+08  1.561291e+08"
      ]
     },
     "execution_count": 4,
     "metadata": {},
     "output_type": "execute_result"
    }
   ],
   "source": [
    "df=pd.read_csv(\"./merged/len3_ship_DN.csv\",encoding=\"shift-jis\",index_col=0)\n",
    "#前処理\n",
    "df.replace('-',\"0\",inplace=True)\n",
    "df[\"otc_dom\"].replace(\",\",\"\",regex=True,inplace=True)\n",
    "df[\"rx_dom\"].replace(\",\",\"\",regex=True,inplace=True)\n",
    "df[\"stock_otc_lag\"].replace(\",\",\"\",regex=True,inplace=True)\n",
    "df[\"stock_rx_lag\"].replace(\",\",\"\",regex=True,inplace=True)\n",
    "# fillna\n",
    "df[\"otc_dom\"].fillna(0,inplace=True)\n",
    "df[\"rx_dom\"].fillna(0,inplace=True)\n",
    "df[\"stock_otc_lag\"].fillna(0,inplace=True)\n",
    "df[\"stock_rx_lag\"].fillna(0,inplace=True)\n",
    "df[\"otc_dom\"]=df[\"otc_dom\"].astype(int)\n",
    "df[\"rx_dom\"]=df[\"rx_dom\"].astype(int)\n",
    "df[\"stock_otc_lag\"]=df[\"stock_otc_lag\"].astype(int)\n",
    "df[\"stock_rx_lag\"]=df[\"stock_rx_lag\"].astype(float)\n",
    "df=df.loc[df[\"otc_dom\"]>0]\n",
    "df=df.loc[df[\"rx_dom\"]>0]\n",
    "df=df.loc[df[\"stock_otc_lag\"]>0]\n",
    "df=df.loc[df[\"stock_rx_lag\"]>0]\n",
    "df=df.loc[df[\"generic_share_q\"]>0]\n",
    "df[[\"rx_dom\",\"otc_dom\"]].describe()"
   ]
  },
  {
   "cell_type": "code",
   "execution_count": 5,
   "metadata": {},
   "outputs": [
    {
     "data": {
      "text/plain": [
       "count    1.120000e+02\n",
       "mean     7.019668e+06\n",
       "std      1.495904e+07\n",
       "min      3.219600e+04\n",
       "25%      1.514862e+05\n",
       "50%      5.091800e+05\n",
       "75%      4.529890e+06\n",
       "max      1.034687e+08\n",
       "Name: self_dom, dtype: float64"
      ]
     },
     "execution_count": 5,
     "metadata": {},
     "output_type": "execute_result"
    }
   ],
   "source": [
    "df.loc[df[\"self_dom\"]>0][\"self_dom\"].describe()"
   ]
  },
  {
   "cell_type": "code",
   "execution_count": 6,
   "metadata": {},
   "outputs": [],
   "source": [
    "df=pd.read_csv(\"./merged/len4_ndb_DN.csv\",encoding=\"shift-jis\",index_col=0)"
   ]
  },
  {
   "cell_type": "code",
   "execution_count": 7,
   "metadata": {},
   "outputs": [
    {
     "data": {
      "text/plain": [
       "Index(['year', 'id', '後発品区分', '薬効分類', '薬効分類名称', '医薬品コード', '医薬品名',\n",
       "       '薬価基準収載医薬品コード', '薬価', '総計', 'in_hospital', 'oral', 'id_l4', 'Approved',\n",
       "       'KEGG', 'Ingredient', 'date', 'release_year', '成分', 'variable',\n",
       "       'revenue', 'elapsed', 'elapsed_m8', 'elapsed_m7', 'elapsed_m6',\n",
       "       'elapsed_m5', 'elapsed_m4', 'elapsed_m3', 'elapsed_m2', 'elapsed_m1',\n",
       "       'elapsed_0', 'elapsed_1', 'elapsed_2', 'elapsed_3', 'elapsed_4',\n",
       "       'elapsed_5', 'elapsed_6', 'elapsed_7', 'elapsed_8', 'elapsed_9',\n",
       "       'elapsed_10', 'elapsed_11', 'elapsed_12', 'elapsed_13', 'elapsed_14',\n",
       "       'elapsed_15', 'elapsed_16', 'elapsed_17', 'elapsed_18', 'elapsed_19',\n",
       "       'elapsed_20', 'elapsed_21', 'elapsed_22', 'elapsed_23', 'elapsed_24',\n",
       "       'elapsed_25', 'elapsed_26', 'elapsed_27', 'elapsed_28', 'elapsed_29',\n",
       "       'elapsed_30', 'elapsed_31', 'Year', 'generic_per', 'generic_share_q',\n",
       "       'generic_share_r', 'id_1147.0', 'id_1149.0', 'id_1219.0', 'id_1231.0',\n",
       "       'id_1319.0', 'id_1324.0', 'id_1329.0', 'id_2189.0', 'id_2239.0',\n",
       "       'id_2259.0', 'id_2290.0', 'id_2319.0', 'id_2325.0', 'id_2329.0',\n",
       "       'id_2399.0', 'id_2454.0', 'id_2459.0', 'id_2529.0', 'id_2590.0',\n",
       "       'id_2646.0', 'id_2649.0', 'id_2655.0', 'id_2659.0', 'id_3327.0',\n",
       "       'id_3399.0', 'id_3992.0', 'id_3999.0', 'id_4413.0', 'id_4490.0',\n",
       "       'id_6250.0', 'id_6290.0', 'id_7990.0'],\n",
       "      dtype='object')"
      ]
     },
     "execution_count": 7,
     "metadata": {},
     "output_type": "execute_result"
    }
   ],
   "source": [
    "df.columns"
   ]
  },
  {
   "cell_type": "code",
   "execution_count": 8,
   "metadata": {},
   "outputs": [
    {
     "data": {
      "text/html": [
       "<div>\n",
       "<style scoped>\n",
       "    .dataframe tbody tr th:only-of-type {\n",
       "        vertical-align: middle;\n",
       "    }\n",
       "\n",
       "    .dataframe tbody tr th {\n",
       "        vertical-align: top;\n",
       "    }\n",
       "\n",
       "    .dataframe thead th {\n",
       "        text-align: right;\n",
       "    }\n",
       "</style>\n",
       "<table border=\"1\" class=\"dataframe\">\n",
       "  <thead>\n",
       "    <tr style=\"text-align: right;\">\n",
       "      <th></th>\n",
       "      <th>総計</th>\n",
       "      <th>mean_price</th>\n",
       "    </tr>\n",
       "  </thead>\n",
       "  <tbody>\n",
       "    <tr>\n",
       "      <th>count</th>\n",
       "      <td>4.360000e+02</td>\n",
       "      <td>436.000000</td>\n",
       "    </tr>\n",
       "    <tr>\n",
       "      <th>mean</th>\n",
       "      <td>3.174177e+09</td>\n",
       "      <td>143.317480</td>\n",
       "    </tr>\n",
       "    <tr>\n",
       "      <th>std</th>\n",
       "      <td>6.870684e+09</td>\n",
       "      <td>392.741619</td>\n",
       "    </tr>\n",
       "    <tr>\n",
       "      <th>min</th>\n",
       "      <td>3.605813e+05</td>\n",
       "      <td>5.400000</td>\n",
       "    </tr>\n",
       "    <tr>\n",
       "      <th>25%</th>\n",
       "      <td>6.806452e+07</td>\n",
       "      <td>10.835614</td>\n",
       "    </tr>\n",
       "    <tr>\n",
       "      <th>50%</th>\n",
       "      <td>2.786511e+08</td>\n",
       "      <td>25.557643</td>\n",
       "    </tr>\n",
       "    <tr>\n",
       "      <th>75%</th>\n",
       "      <td>2.421159e+09</td>\n",
       "      <td>97.697571</td>\n",
       "    </tr>\n",
       "    <tr>\n",
       "      <th>max</th>\n",
       "      <td>3.766192e+10</td>\n",
       "      <td>2899.505261</td>\n",
       "    </tr>\n",
       "  </tbody>\n",
       "</table>\n",
       "</div>"
      ],
      "text/plain": [
       "                 総計   mean_price\n",
       "count  4.360000e+02   436.000000\n",
       "mean   3.174177e+09   143.317480\n",
       "std    6.870684e+09   392.741619\n",
       "min    3.605813e+05     5.400000\n",
       "25%    6.806452e+07    10.835614\n",
       "50%    2.786511e+08    25.557643\n",
       "75%    2.421159e+09    97.697571\n",
       "max    3.766192e+10  2899.505261"
      ]
     },
     "execution_count": 8,
     "metadata": {},
     "output_type": "execute_result"
    }
   ],
   "source": [
    "df=df.loc[df[\"year\"]>2014]\n",
    "df[\"mean_price\"]=df[\"revenue\"]/df[\"総計\"]\n",
    "df[[\"総計\",\"mean_price\"]].describe()"
   ]
  },
  {
   "cell_type": "code",
   "execution_count": 9,
   "metadata": {},
   "outputs": [
    {
     "name": "stderr",
     "output_type": "stream",
     "text": [
      "C:\\Users\\hakos\\AppData\\Local\\Temp\\ipykernel_10516\\2847407326.py:1: DtypeWarning: Columns (118) have mixed types. Specify dtype option on import or set low_memory=False.\n",
      "  df=pd.read_csv(\"./merged/len3_ndb_blp_DN_firm_FC.csv\",encoding=\"utf-8-sig\",index_col=0)\n"
     ]
    },
    {
     "data": {
      "text/plain": [
       "Index(['薬効分類', '薬効分類名称', '医薬品コード', '医薬品名', '薬価基準収載医薬品コード', '薬価', 'generic',\n",
       "       '総計', 'year', 'in_hospital',\n",
       "       ...\n",
       "       'b', 'c', 'd', '_merge', 'wholesale_price', 'markup', 'oral_per',\n",
       "       'brand', 'Pharmacopoeia', 'otc'],\n",
       "      dtype='object', length=136)"
      ]
     },
     "execution_count": 9,
     "metadata": {},
     "output_type": "execute_result"
    }
   ],
   "source": [
    "df=pd.read_csv(\"./merged/len3_ndb_blp_DN_firm_FC.csv\",encoding=\"utf-8-sig\",index_col=0)\n",
    "df=df.loc[df[\"総計\"]>0]\n",
    "df.columns"
   ]
  },
  {
   "cell_type": "code",
   "execution_count": 10,
   "metadata": {},
   "outputs": [
    {
     "data": {
      "text/html": [
       "<div>\n",
       "<style scoped>\n",
       "    .dataframe tbody tr th:only-of-type {\n",
       "        vertical-align: middle;\n",
       "    }\n",
       "\n",
       "    .dataframe tbody tr th {\n",
       "        vertical-align: top;\n",
       "    }\n",
       "\n",
       "    .dataframe thead th {\n",
       "        text-align: right;\n",
       "    }\n",
       "</style>\n",
       "<table border=\"1\" class=\"dataframe\">\n",
       "  <thead>\n",
       "    <tr style=\"text-align: right;\">\n",
       "      <th></th>\n",
       "      <th>総計</th>\n",
       "      <th>薬価</th>\n",
       "    </tr>\n",
       "  </thead>\n",
       "  <tbody>\n",
       "    <tr>\n",
       "      <th>count</th>\n",
       "      <td>2.467300e+04</td>\n",
       "      <td>24673.000000</td>\n",
       "    </tr>\n",
       "    <tr>\n",
       "      <th>mean</th>\n",
       "      <td>1.333124e+07</td>\n",
       "      <td>357.346671</td>\n",
       "    </tr>\n",
       "    <tr>\n",
       "      <th>std</th>\n",
       "      <td>4.526902e+07</td>\n",
       "      <td>2079.828181</td>\n",
       "    </tr>\n",
       "    <tr>\n",
       "      <th>min</th>\n",
       "      <td>7.012987e+02</td>\n",
       "      <td>0.660000</td>\n",
       "    </tr>\n",
       "    <tr>\n",
       "      <th>25%</th>\n",
       "      <td>3.518760e+05</td>\n",
       "      <td>12.200000</td>\n",
       "    </tr>\n",
       "    <tr>\n",
       "      <th>50%</th>\n",
       "      <td>2.266922e+06</td>\n",
       "      <td>31.400000</td>\n",
       "    </tr>\n",
       "    <tr>\n",
       "      <th>75%</th>\n",
       "      <td>9.503580e+06</td>\n",
       "      <td>110.400000</td>\n",
       "    </tr>\n",
       "    <tr>\n",
       "      <th>max</th>\n",
       "      <td>9.541906e+08</td>\n",
       "      <td>80171.300000</td>\n",
       "    </tr>\n",
       "  </tbody>\n",
       "</table>\n",
       "</div>"
      ],
      "text/plain": [
       "                 総計            薬価\n",
       "count  2.467300e+04  24673.000000\n",
       "mean   1.333124e+07    357.346671\n",
       "std    4.526902e+07   2079.828181\n",
       "min    7.012987e+02      0.660000\n",
       "25%    3.518760e+05     12.200000\n",
       "50%    2.266922e+06     31.400000\n",
       "75%    9.503580e+06    110.400000\n",
       "max    9.541906e+08  80171.300000"
      ]
     },
     "execution_count": 10,
     "metadata": {},
     "output_type": "execute_result"
    }
   ],
   "source": [
    "df=df.loc[df[\"year\"]>2014]\n",
    "df[\"薬価\"]=df[\"薬価\"].astype(float)\n",
    "df[[\"総計\",\"薬価\"]].describe()"
   ]
  }
 ],
 "metadata": {
  "kernelspec": {
   "display_name": "Python 3",
   "language": "python",
   "name": "python3"
  },
  "language_info": {
   "codemirror_mode": {
    "name": "ipython",
    "version": 3
   },
   "file_extension": ".py",
   "mimetype": "text/x-python",
   "name": "python",
   "nbconvert_exporter": "python",
   "pygments_lexer": "ipython3",
   "version": "3.10.4"
  }
 },
 "nbformat": 4,
 "nbformat_minor": 2
}
