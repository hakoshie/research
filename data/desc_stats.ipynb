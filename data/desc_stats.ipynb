{
 "cells": [
  {
   "cell_type": "code",
   "execution_count": 35,
   "metadata": {},
   "outputs": [],
   "source": [
    "import pandas as pd\n",
    "import numpy as np"
   ]
  },
  {
   "cell_type": "code",
   "execution_count": 36,
   "metadata": {},
   "outputs": [
    {
     "data": {
      "text/html": [
       "<div>\n",
       "<style scoped>\n",
       "    .dataframe tbody tr th:only-of-type {\n",
       "        vertical-align: middle;\n",
       "    }\n",
       "\n",
       "    .dataframe tbody tr th {\n",
       "        vertical-align: top;\n",
       "    }\n",
       "\n",
       "    .dataframe thead th {\n",
       "        text-align: right;\n",
       "    }\n",
       "</style>\n",
       "<table border=\"1\" class=\"dataframe\">\n",
       "  <thead>\n",
       "    <tr style=\"text-align: right;\">\n",
       "      <th></th>\n",
       "      <th>rx_dom</th>\n",
       "      <th>otc_dom</th>\n",
       "      <th>self_dom</th>\n",
       "    </tr>\n",
       "  </thead>\n",
       "  <tbody>\n",
       "    <tr>\n",
       "      <th>count</th>\n",
       "      <td>2.752000e+03</td>\n",
       "      <td>2.752000e+03</td>\n",
       "      <td>2752.0</td>\n",
       "    </tr>\n",
       "    <tr>\n",
       "      <th>mean</th>\n",
       "      <td>1.378616e+07</td>\n",
       "      <td>1.311866e+06</td>\n",
       "      <td>0.0</td>\n",
       "    </tr>\n",
       "    <tr>\n",
       "      <th>std</th>\n",
       "      <td>1.450122e+07</td>\n",
       "      <td>2.333219e+06</td>\n",
       "      <td>0.0</td>\n",
       "    </tr>\n",
       "    <tr>\n",
       "      <th>min</th>\n",
       "      <td>2.983500e+04</td>\n",
       "      <td>1.200000e+01</td>\n",
       "      <td>0.0</td>\n",
       "    </tr>\n",
       "    <tr>\n",
       "      <th>25%</th>\n",
       "      <td>1.805011e+06</td>\n",
       "      <td>2.771450e+04</td>\n",
       "      <td>0.0</td>\n",
       "    </tr>\n",
       "    <tr>\n",
       "      <th>50%</th>\n",
       "      <td>1.199820e+07</td>\n",
       "      <td>2.485425e+05</td>\n",
       "      <td>0.0</td>\n",
       "    </tr>\n",
       "    <tr>\n",
       "      <th>75%</th>\n",
       "      <td>1.981822e+07</td>\n",
       "      <td>1.183112e+06</td>\n",
       "      <td>0.0</td>\n",
       "    </tr>\n",
       "    <tr>\n",
       "      <th>max</th>\n",
       "      <td>1.121442e+08</td>\n",
       "      <td>2.966552e+07</td>\n",
       "      <td>0.0</td>\n",
       "    </tr>\n",
       "  </tbody>\n",
       "</table>\n",
       "</div>"
      ],
      "text/plain": [
       "             rx_dom       otc_dom  self_dom\n",
       "count  2.752000e+03  2.752000e+03    2752.0\n",
       "mean   1.378616e+07  1.311866e+06       0.0\n",
       "std    1.450122e+07  2.333219e+06       0.0\n",
       "min    2.983500e+04  1.200000e+01       0.0\n",
       "25%    1.805011e+06  2.771450e+04       0.0\n",
       "50%    1.199820e+07  2.485425e+05       0.0\n",
       "75%    1.981822e+07  1.183112e+06       0.0\n",
       "max    1.121442e+08  2.966552e+07       0.0"
      ]
     },
     "execution_count": 36,
     "metadata": {},
     "output_type": "execute_result"
    }
   ],
   "source": [
    "df=pd.read_csv(\"./merged/len3_ship_mon_Y_DN.csv\",encoding=\"shift-jis\",index_col=0)\n",
    "\n",
    "#前処理\n",
    "df.replace('-',\"0\",inplace=True)\n",
    "df[\"otc_dom\"].replace(\",\",\"\",regex=True,inplace=True)\n",
    "df[\"rx_dom\"].replace(\",\",\"\",regex=True,inplace=True)\n",
    "df[\"stock_otc_lag\"].replace(\",\",\"\",regex=True,inplace=True)\n",
    "df[\"stock_rx_lag\"].replace(\",\",\"\",regex=True,inplace=True)\n",
    "# fillna\n",
    "df[\"otc_dom\"].fillna(0,inplace=True)\n",
    "df[\"rx_dom\"].fillna(0,inplace=True)\n",
    "df[\"stock_otc_lag\"].fillna(0,inplace=True)\n",
    "df[\"stock_rx_lag\"].fillna(0,inplace=True)\n",
    "df[\"otc_dom\"]=df[\"otc_dom\"].astype(int)\n",
    "df[\"rx_dom\"]=df[\"rx_dom\"].astype(int)\n",
    "df[\"stock_otc_lag\"]=df[\"stock_otc_lag\"].astype(int)\n",
    "df[\"stock_rx_lag\"]=df[\"stock_rx_lag\"].astype(float)\n",
    "df=df.loc[df[\"otc_dom\"]>0]\n",
    "df=df.loc[df[\"rx_dom\"]>0]\n",
    "df=df.loc[df[\"stock_otc_lag\"]>0]\n",
    "df=df.loc[df[\"stock_rx_lag\"]>0]\n",
    "df=df.loc[df[\"generic_share_q\"]>0]\n",
    "df[[\"rx_dom\",\"otc_dom\",\"self_dom\"]].describe()"
   ]
  },
  {
   "cell_type": "code",
   "execution_count": 37,
   "metadata": {},
   "outputs": [
    {
     "data": {
      "text/plain": [
       "count    0.0\n",
       "mean     NaN\n",
       "std      NaN\n",
       "min      NaN\n",
       "25%      NaN\n",
       "50%      NaN\n",
       "75%      NaN\n",
       "max      NaN\n",
       "Name: self_dom, dtype: float64"
      ]
     },
     "execution_count": 37,
     "metadata": {},
     "output_type": "execute_result"
    }
   ],
   "source": [
    "df.loc[df[\"self_dom\"]>0][\"self_dom\"].describe()"
   ]
  },
  {
   "cell_type": "code",
   "execution_count": 38,
   "metadata": {},
   "outputs": [
    {
     "data": {
      "text/html": [
       "<div>\n",
       "<style scoped>\n",
       "    .dataframe tbody tr th:only-of-type {\n",
       "        vertical-align: middle;\n",
       "    }\n",
       "\n",
       "    .dataframe tbody tr th {\n",
       "        vertical-align: top;\n",
       "    }\n",
       "\n",
       "    .dataframe thead th {\n",
       "        text-align: right;\n",
       "    }\n",
       "</style>\n",
       "<table border=\"1\" class=\"dataframe\">\n",
       "  <thead>\n",
       "    <tr style=\"text-align: right;\">\n",
       "      <th></th>\n",
       "      <th>rx_dom</th>\n",
       "      <th>otc_dom</th>\n",
       "    </tr>\n",
       "  </thead>\n",
       "  <tbody>\n",
       "    <tr>\n",
       "      <th>count</th>\n",
       "      <td>213.000000</td>\n",
       "      <td>213.000000</td>\n",
       "    </tr>\n",
       "    <tr>\n",
       "      <th>mean</th>\n",
       "      <td>155294.183038</td>\n",
       "      <td>15686.969629</td>\n",
       "    </tr>\n",
       "    <tr>\n",
       "      <th>std</th>\n",
       "      <td>148485.076014</td>\n",
       "      <td>25952.206332</td>\n",
       "    </tr>\n",
       "    <tr>\n",
       "      <th>min</th>\n",
       "      <td>874.186000</td>\n",
       "      <td>13.818000</td>\n",
       "    </tr>\n",
       "    <tr>\n",
       "      <th>25%</th>\n",
       "      <td>25332.135000</td>\n",
       "      <td>425.903000</td>\n",
       "    </tr>\n",
       "    <tr>\n",
       "      <th>50%</th>\n",
       "      <td>153070.881000</td>\n",
       "      <td>3270.722000</td>\n",
       "    </tr>\n",
       "    <tr>\n",
       "      <th>75%</th>\n",
       "      <td>241145.381000</td>\n",
       "      <td>16681.115000</td>\n",
       "    </tr>\n",
       "    <tr>\n",
       "      <th>max</th>\n",
       "      <td>865479.417000</td>\n",
       "      <td>156129.120000</td>\n",
       "    </tr>\n",
       "  </tbody>\n",
       "</table>\n",
       "</div>"
      ],
      "text/plain": [
       "              rx_dom        otc_dom\n",
       "count     213.000000     213.000000\n",
       "mean   155294.183038   15686.969629\n",
       "std    148485.076014   25952.206332\n",
       "min       874.186000      13.818000\n",
       "25%     25332.135000     425.903000\n",
       "50%    153070.881000    3270.722000\n",
       "75%    241145.381000   16681.115000\n",
       "max    865479.417000  156129.120000"
      ]
     },
     "execution_count": 38,
     "metadata": {},
     "output_type": "execute_result"
    }
   ],
   "source": [
    "df=pd.read_csv(\"./merged/len3_ship_DN.csv\",encoding=\"shift-jis\",index_col=0)\n",
    "#前処理\n",
    "df.replace('-',\"0\",inplace=True)\n",
    "df[\"otc_dom\"].replace(\",\",\"\",regex=True,inplace=True)\n",
    "df[\"rx_dom\"].replace(\",\",\"\",regex=True,inplace=True)\n",
    "df[\"stock_otc_lag\"].replace(\",\",\"\",regex=True,inplace=True)\n",
    "df[\"stock_rx_lag\"].replace(\",\",\"\",regex=True,inplace=True)\n",
    "# fillna\n",
    "df[\"otc_dom\"].fillna(0,inplace=True)\n",
    "df[\"rx_dom\"].fillna(0,inplace=True)\n",
    "df[\"stock_otc_lag\"].fillna(0,inplace=True)\n",
    "df[\"stock_rx_lag\"].fillna(0,inplace=True)\n",
    "df[\"otc_dom\"]=df[\"otc_dom\"].astype(int)\n",
    "df[\"rx_dom\"]=df[\"rx_dom\"].astype(int)\n",
    "df[\"stock_otc_lag\"]=df[\"stock_otc_lag\"].astype(int)\n",
    "df[\"stock_rx_lag\"]=df[\"stock_rx_lag\"].astype(float)\n",
    "df=df.loc[df[\"otc_dom\"]>0]\n",
    "df=df.loc[df[\"rx_dom\"]>0]\n",
    "df=df.loc[df[\"stock_otc_lag\"]>0]\n",
    "df=df.loc[df[\"stock_rx_lag\"]>0]\n",
    "df=df.loc[df[\"generic_share_q\"]>0]\n",
    "df[[\"rx_dom\",\"otc_dom\"]]=df[[\"rx_dom\",\"otc_dom\"]]/1000\n",
    "df[[\"rx_dom\",\"otc_dom\"]].describe()"
   ]
  },
  {
   "cell_type": "code",
   "execution_count": 39,
   "metadata": {},
   "outputs": [
    {
     "data": {
      "text/plain": [
       "18"
      ]
     },
     "execution_count": 39,
     "metadata": {},
     "output_type": "execute_result"
    }
   ],
   "source": [
    "len(set(df[\"id\"]))"
   ]
  },
  {
   "cell_type": "code",
   "execution_count": 40,
   "metadata": {},
   "outputs": [
    {
     "data": {
      "text/plain": [
       "count    1.120000e+02\n",
       "mean     7.019668e+06\n",
       "std      1.495904e+07\n",
       "min      3.219600e+04\n",
       "25%      1.514862e+05\n",
       "50%      5.091800e+05\n",
       "75%      4.529890e+06\n",
       "max      1.034687e+08\n",
       "Name: self_dom, dtype: float64"
      ]
     },
     "execution_count": 40,
     "metadata": {},
     "output_type": "execute_result"
    }
   ],
   "source": [
    "df.loc[df[\"self_dom\"]>0][\"self_dom\"].describe()"
   ]
  },
  {
   "cell_type": "code",
   "execution_count": 41,
   "metadata": {},
   "outputs": [],
   "source": [
    "df=pd.read_csv(\"./merged/len4_ndb_DN.csv\",encoding=\"shift-jis\",index_col=0)"
   ]
  },
  {
   "cell_type": "code",
   "execution_count": 42,
   "metadata": {},
   "outputs": [
    {
     "data": {
      "text/plain": [
       "32"
      ]
     },
     "execution_count": 42,
     "metadata": {},
     "output_type": "execute_result"
    }
   ],
   "source": [
    "df.columns\n",
    "len(set(df[\"id\"]))"
   ]
  },
  {
   "cell_type": "code",
   "execution_count": 43,
   "metadata": {},
   "outputs": [
    {
     "data": {
      "text/html": [
       "<div>\n",
       "<style scoped>\n",
       "    .dataframe tbody tr th:only-of-type {\n",
       "        vertical-align: middle;\n",
       "    }\n",
       "\n",
       "    .dataframe tbody tr th {\n",
       "        vertical-align: top;\n",
       "    }\n",
       "\n",
       "    .dataframe thead th {\n",
       "        text-align: right;\n",
       "    }\n",
       "</style>\n",
       "<table border=\"1\" class=\"dataframe\">\n",
       "  <thead>\n",
       "    <tr style=\"text-align: right;\">\n",
       "      <th></th>\n",
       "      <th>総計</th>\n",
       "      <th>mean_price</th>\n",
       "    </tr>\n",
       "  </thead>\n",
       "  <tbody>\n",
       "    <tr>\n",
       "      <th>count</th>\n",
       "      <td>4.360000e+02</td>\n",
       "      <td>436.000000</td>\n",
       "    </tr>\n",
       "    <tr>\n",
       "      <th>mean</th>\n",
       "      <td>3.174177e+09</td>\n",
       "      <td>143.317480</td>\n",
       "    </tr>\n",
       "    <tr>\n",
       "      <th>std</th>\n",
       "      <td>6.870684e+09</td>\n",
       "      <td>392.741619</td>\n",
       "    </tr>\n",
       "    <tr>\n",
       "      <th>min</th>\n",
       "      <td>3.605813e+05</td>\n",
       "      <td>5.400000</td>\n",
       "    </tr>\n",
       "    <tr>\n",
       "      <th>25%</th>\n",
       "      <td>6.806452e+07</td>\n",
       "      <td>10.835614</td>\n",
       "    </tr>\n",
       "    <tr>\n",
       "      <th>50%</th>\n",
       "      <td>2.786511e+08</td>\n",
       "      <td>25.557643</td>\n",
       "    </tr>\n",
       "    <tr>\n",
       "      <th>75%</th>\n",
       "      <td>2.421159e+09</td>\n",
       "      <td>97.697571</td>\n",
       "    </tr>\n",
       "    <tr>\n",
       "      <th>max</th>\n",
       "      <td>3.766192e+10</td>\n",
       "      <td>2899.505261</td>\n",
       "    </tr>\n",
       "  </tbody>\n",
       "</table>\n",
       "</div>"
      ],
      "text/plain": [
       "                 総計   mean_price\n",
       "count  4.360000e+02   436.000000\n",
       "mean   3.174177e+09   143.317480\n",
       "std    6.870684e+09   392.741619\n",
       "min    3.605813e+05     5.400000\n",
       "25%    6.806452e+07    10.835614\n",
       "50%    2.786511e+08    25.557643\n",
       "75%    2.421159e+09    97.697571\n",
       "max    3.766192e+10  2899.505261"
      ]
     },
     "execution_count": 43,
     "metadata": {},
     "output_type": "execute_result"
    }
   ],
   "source": [
    "df=df.loc[df[\"year\"]>2014]\n",
    "df[\"mean_price\"]=df[\"revenue\"]/df[\"総計\"]\n",
    "df[[\"総計\",\"mean_price\"]].describe()"
   ]
  },
  {
   "cell_type": "code",
   "execution_count": 44,
   "metadata": {},
   "outputs": [
    {
     "name": "stderr",
     "output_type": "stream",
     "text": [
      "C:\\Users\\hakos\\AppData\\Local\\Temp\\ipykernel_21152\\2847407326.py:1: DtypeWarning: Columns (118) have mixed types. Specify dtype option on import or set low_memory=False.\n",
      "  df=pd.read_csv(\"./merged/len3_ndb_blp_DN_firm_FC.csv\",encoding=\"utf-8-sig\",index_col=0)\n"
     ]
    },
    {
     "data": {
      "text/plain": [
       "Index(['薬効分類', '薬効分類名称', '医薬品コード', '医薬品名', '薬価基準収載医薬品コード', '薬価', 'generic',\n",
       "       '総計', 'year', 'in_hospital',\n",
       "       ...\n",
       "       'b', 'c', 'd', '_merge', 'wholesale_price', 'markup', 'oral_per',\n",
       "       'brand', 'Pharmacopoeia', 'otc'],\n",
       "      dtype='object', length=136)"
      ]
     },
     "execution_count": 44,
     "metadata": {},
     "output_type": "execute_result"
    }
   ],
   "source": [
    "df=pd.read_csv(\"./merged/len3_ndb_blp_DN_firm_FC.csv\",encoding=\"utf-8-sig\",index_col=0)\n",
    "df=df.loc[df[\"総計\"]>0]\n",
    "df.columns"
   ]
  },
  {
   "cell_type": "code",
   "execution_count": 45,
   "metadata": {},
   "outputs": [
    {
     "data": {
      "text/html": [
       "<div>\n",
       "<style scoped>\n",
       "    .dataframe tbody tr th:only-of-type {\n",
       "        vertical-align: middle;\n",
       "    }\n",
       "\n",
       "    .dataframe tbody tr th {\n",
       "        vertical-align: top;\n",
       "    }\n",
       "\n",
       "    .dataframe thead th {\n",
       "        text-align: right;\n",
       "    }\n",
       "</style>\n",
       "<table border=\"1\" class=\"dataframe\">\n",
       "  <thead>\n",
       "    <tr style=\"text-align: right;\">\n",
       "      <th></th>\n",
       "      <th>総計</th>\n",
       "      <th>薬価</th>\n",
       "    </tr>\n",
       "  </thead>\n",
       "  <tbody>\n",
       "    <tr>\n",
       "      <th>count</th>\n",
       "      <td>24673.000000</td>\n",
       "      <td>24673.000000</td>\n",
       "    </tr>\n",
       "    <tr>\n",
       "      <th>mean</th>\n",
       "      <td>13.331239</td>\n",
       "      <td>357.346671</td>\n",
       "    </tr>\n",
       "    <tr>\n",
       "      <th>std</th>\n",
       "      <td>45.269019</td>\n",
       "      <td>2079.828181</td>\n",
       "    </tr>\n",
       "    <tr>\n",
       "      <th>min</th>\n",
       "      <td>0.000701</td>\n",
       "      <td>0.660000</td>\n",
       "    </tr>\n",
       "    <tr>\n",
       "      <th>25%</th>\n",
       "      <td>0.351876</td>\n",
       "      <td>12.200000</td>\n",
       "    </tr>\n",
       "    <tr>\n",
       "      <th>50%</th>\n",
       "      <td>2.266922</td>\n",
       "      <td>31.400000</td>\n",
       "    </tr>\n",
       "    <tr>\n",
       "      <th>75%</th>\n",
       "      <td>9.503580</td>\n",
       "      <td>110.400000</td>\n",
       "    </tr>\n",
       "    <tr>\n",
       "      <th>max</th>\n",
       "      <td>954.190571</td>\n",
       "      <td>80171.300000</td>\n",
       "    </tr>\n",
       "  </tbody>\n",
       "</table>\n",
       "</div>"
      ],
      "text/plain": [
       "                 総計            薬価\n",
       "count  24673.000000  24673.000000\n",
       "mean      13.331239    357.346671\n",
       "std       45.269019   2079.828181\n",
       "min        0.000701      0.660000\n",
       "25%        0.351876     12.200000\n",
       "50%        2.266922     31.400000\n",
       "75%        9.503580    110.400000\n",
       "max      954.190571  80171.300000"
      ]
     },
     "execution_count": 45,
     "metadata": {},
     "output_type": "execute_result"
    }
   ],
   "source": [
    "df=df.loc[df[\"year\"]>2014]\n",
    "df[\"薬価\"]=df[\"薬価\"].astype(float)\n",
    "df[\"総計\"]=df[\"総計\"].astype(float)/1e6\n",
    "df[[\"総計\",\"薬価\"]].describe()"
   ]
  }
 ],
 "metadata": {
  "kernelspec": {
   "display_name": "Python 3",
   "language": "python",
   "name": "python3"
  },
  "language_info": {
   "codemirror_mode": {
    "name": "ipython",
    "version": 3
   },
   "file_extension": ".py",
   "mimetype": "text/x-python",
   "name": "python",
   "nbconvert_exporter": "python",
   "pygments_lexer": "ipython3",
   "version": "3.10.4"
  }
 },
 "nbformat": 4,
 "nbformat_minor": 2
}
