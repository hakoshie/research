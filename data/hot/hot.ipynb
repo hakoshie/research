{
 "cells": [
  {
   "cell_type": "code",
   "execution_count": 9,
   "metadata": {},
   "outputs": [],
   "source": [
    "import pandas as pd\n",
    "import os\n",
    "import numpy as np"
   ]
  },
  {
   "cell_type": "code",
   "execution_count": 10,
   "metadata": {},
   "outputs": [
    {
     "name": "stdout",
     "output_type": "stream",
     "text": [
      "['h20140331', 'h20150228', 'h20150331', 'h20160229', 'h20160331', 'h20170228', 'h20170331', 'h20180228', 'h20180331', 'h20190228', 'h20190331', 'h20200229', 'h20200331', 'h20210228', 'h20210331', 'h20220228', 'h20220331']\n",
      "h20140331 2014\n",
      "h20150228 2014\n",
      "h20150331 2015\n",
      "h20160229 2015\n",
      "h20160331 2016\n",
      "h20170228 2016\n",
      "h20170331 2017\n",
      "h20180228 2017\n",
      "h20180331 2018\n",
      "h20190228 2018\n",
      "h20190331 2019\n",
      "h20200229 2019\n",
      "h20200331 2020\n",
      "h20210228 2020\n",
      "h20210331 2021\n",
      "h20220228 2021\n",
      "h20220331 2022\n"
     ]
    }
   ],
   "source": [
    "import os\n",
    "\n",
    "dirs = [d for d in os.listdir('./') if os.path.isdir(d)]\n",
    "print(dirs)\n",
    "data_hot=pd.DataFrame()\n",
    "for d in dirs:\n",
    "    data_i=pd.read_csv(f\"./{d}/MEDIS{d[1:]}.TXT\",encoding=\"cp932\")\n",
    "    year=int(d[1:5])\n",
    "    if d[5:7]==\"02\":\n",
    "        year-=1\n",
    "    data_i[\"year\"]=year\n",
    "    print(d,year)\n",
    "    data_hot=pd.concat([data_hot,data_i],axis=0)\n",
    "data_hot=data_hot.reset_index(drop=True)\n",
    "# data_hot.head()"
   ]
  },
  {
   "cell_type": "code",
   "execution_count": 11,
   "metadata": {},
   "outputs": [
    {
     "name": "stderr",
     "output_type": "stream",
     "text": [
      "c:\\Users\\hakos\\AppData\\Local\\Programs\\Python\\Python310\\lib\\site-packages\\pandas\\core\\dtypes\\cast.py:1196: RuntimeWarning: invalid value encountered in cast\n",
      "  return values.astype(dtype, copy=copy)\n"
     ]
    },
    {
     "data": {
      "text/plain": [
       "Index(['基準番号（ＨＯＴコード）', '処方用番号（ＨＯＴ７）', '会社識別用番号', '調剤用番号', '物流用番号', 'ＪＡＮコード',\n",
       "       '薬価基準収載医薬品コード', '個別医薬品コード', 'レセプト電算処理システムコード（１）', 'レセプト電算処理システムコード（２）',\n",
       "       '告示名称', '販売名', 'レセプト電算処理システム医薬品名', '規格単位', '包装形態', '包装単位数', '包装単位単位',\n",
       "       '包装総量数', '包装総量単位', '区分', '製造会社', '販売会社', '更新区分', '更新年月日', 'year'],\n",
       "      dtype='object')"
      ]
     },
     "execution_count": 11,
     "metadata": {},
     "output_type": "execute_result"
    }
   ],
   "source": [
    "data_hot.shape\n",
    "data_hot[\"ＪＡＮコード\"]=data_hot[\"ＪＡＮコード\"].fillna(0).astype(int).astype(str)\n",
    "data_hot.columns"
   ]
  },
  {
   "cell_type": "code",
   "execution_count": 12,
   "metadata": {},
   "outputs": [],
   "source": [
    "data_hot[\"区分\"].value_counts()\n",
    "# data_hot=data_hot[((data_hot[\"区分\"]==\"内\") |(data_hot[\"区分\"]==\"外\"))]\n",
    "data_hot=data_hot[data_hot[\"区分\"].isin([\"内\",\"外\"])]\n",
    "data_hot.drop_duplicates(subset=[\"個別医薬品コード\",\"year\"],inplace=True,keep=\"first\")"
   ]
  },
  {
   "cell_type": "code",
   "execution_count": 13,
   "metadata": {},
   "outputs": [
    {
     "data": {
      "text/plain": [
       "(150422, 25)"
      ]
     },
     "execution_count": 13,
     "metadata": {},
     "output_type": "execute_result"
    }
   ],
   "source": [
    "data_hot.shape"
   ]
  },
  {
   "cell_type": "code",
   "execution_count": 14,
   "metadata": {},
   "outputs": [
    {
     "data": {
      "text/plain": [
       "year  レセプト電算処理システムコード（１）\n",
       "2014  610406008.0           1\n",
       "      610406009.0           1\n",
       "      610406013.0           1\n",
       "      610406015.0           1\n",
       "      610406047.0           1\n",
       "                           ..\n",
       "2022  667990005.0           1\n",
       "      667990006.0           1\n",
       "      667990007.0           1\n",
       "      668110001.0           1\n",
       "      668110002.0           1\n",
       "Length: 149622, dtype: int64"
      ]
     },
     "execution_count": 14,
     "metadata": {},
     "output_type": "execute_result"
    }
   ],
   "source": [
    "data_hot.groupby([\"year\",\"レセプト電算処理システムコード（１）\"]).size()"
   ]
  },
  {
   "cell_type": "code",
   "execution_count": 15,
   "metadata": {},
   "outputs": [
    {
     "data": {
      "text/plain": [
       "year  レセプト電算処理システムコード（２）\n",
       "2014  610406193.0           1\n",
       "      610407122.0           1\n",
       "      610412112.0           2\n",
       "      610412125.0           1\n",
       "      610412136.0           2\n",
       "                           ..\n",
       "2022  667120028.0           1\n",
       "      667120031.0           1\n",
       "      667120034.0           1\n",
       "      667190004.0           2\n",
       "      667190005.0           1\n",
       "Length: 9148, dtype: int64"
      ]
     },
     "execution_count": 15,
     "metadata": {},
     "output_type": "execute_result"
    }
   ],
   "source": [
    "# pd.options.display.max_rows = None\n",
    "data_hot.groupby([\"year\",\"レセプト電算処理システムコード（２）\"]).size()"
   ]
  },
  {
   "cell_type": "code",
   "execution_count": 16,
   "metadata": {},
   "outputs": [],
   "source": [
    "# data_hot[data_hot[\"レセプト電算処理システムコード（１）\"]==610406002]"
   ]
  },
  {
   "cell_type": "code",
   "execution_count": 17,
   "metadata": {},
   "outputs": [
    {
     "name": "stderr",
     "output_type": "stream",
     "text": [
      "C:\\Users\\hakos\\AppData\\Local\\Temp\\ipykernel_13884\\284754022.py:1: DtypeWarning: Columns (118) have mixed types. Specify dtype option on import or set low_memory=False.\n",
      "  data_blp=pd.read_csv(\"../merged/len3_ndb_blp_DN_firm.csv\",encoding=\"utf-8-sig\",index_col=0)\n"
     ]
    }
   ],
   "source": [
    "data_blp=pd.read_csv(\"../merged/len3_ndb_blp_DN_firm.csv\",encoding=\"utf-8-sig\",index_col=0)"
   ]
  },
  {
   "cell_type": "code",
   "execution_count": 18,
   "metadata": {},
   "outputs": [
    {
     "data": {
      "text/plain": [
       "(2743, 2746)"
      ]
     },
     "execution_count": 18,
     "metadata": {},
     "output_type": "execute_result"
    }
   ],
   "source": [
    "len(set(data_blp[\"医薬品コード\"])),len(set(data_blp[\"医薬品名\"]))"
   ]
  },
  {
   "cell_type": "code",
   "execution_count": 19,
   "metadata": {},
   "outputs": [
    {
     "data": {
      "text/plain": [
       "((3739, 136), (26198, 136))"
      ]
     },
     "execution_count": 19,
     "metadata": {},
     "output_type": "execute_result"
    }
   ],
   "source": [
    "toitsu_code_set=set(data_blp.loc[data_blp[\"メーカー名\"]==\"統一\",\"医薬品コード\"])\n",
    "# data_toitsu=data_blp.loc[data_blp[\"医薬品コード\"].isin(toitsu_code_set),:]\n",
    "data_toitsu=data_blp.loc[data_blp[\"メーカー名\"]==\"統一\",:]\n",
    "data_toitsu.shape,data_blp.shape"
   ]
  },
  {
   "cell_type": "code",
   "execution_count": 20,
   "metadata": {},
   "outputs": [
    {
     "name": "stderr",
     "output_type": "stream",
     "text": [
      "c:\\Users\\hakos\\AppData\\Local\\Programs\\Python\\Python310\\lib\\site-packages\\pandas\\core\\reshape\\merge.py:1214: RuntimeWarning: invalid value encountered in cast\n",
      "  if not (rk == rk.astype(lk.dtype))[~np.isnan(rk)].all():\n"
     ]
    },
    {
     "data": {
      "text/plain": [
       "(3739, 160)"
      ]
     },
     "execution_count": 20,
     "metadata": {},
     "output_type": "execute_result"
    }
   ],
   "source": [
    "# data_merged=pd.merge(data_blp,data_hot,left_on=[\"医薬品コード\",\"year\"],right_on=[\"レセプト電算処理システムコード（１）\",\"year\"],how=\"left\")\n",
    "data_merged=pd.merge(data_toitsu,data_hot,left_on=[\"医薬品コード\",\"year\"],right_on=[\"レセプト電算処理システムコード（１）\",\"year\"],how=\"left\")\n",
    "data_merged.shape"
   ]
  },
  {
   "cell_type": "code",
   "execution_count": 21,
   "metadata": {},
   "outputs": [
    {
     "data": {
      "text/plain": [
       "806"
      ]
     },
     "execution_count": 21,
     "metadata": {},
     "output_type": "execute_result"
    }
   ],
   "source": [
    "len(set(data_blp.loc[data_blp[\"メーカー名\"]==\"統一\",\"医薬品名\"]))"
   ]
  },
  {
   "cell_type": "code",
   "execution_count": 22,
   "metadata": {},
   "outputs": [],
   "source": [
    "data_map=data_merged[~data_merged[\"製造会社\"].isna()].drop_duplicates(subset=[\"医薬品コード\"])\n",
    "map=data_map[\"製造会社\"].set_axis(data_map[\"医薬品コード\"]) # map: 医薬品コード to 製造会社\n",
    "data_blp[\"メーカー名\"]=data_blp[\"医薬品コード\"].map(map).fillna(data_blp[\"メーカー名\"])"
   ]
  },
  {
   "cell_type": "code",
   "execution_count": 23,
   "metadata": {},
   "outputs": [
    {
     "data": {
      "text/plain": [
       "(54, 0)"
      ]
     },
     "execution_count": 23,
     "metadata": {},
     "output_type": "execute_result"
    }
   ],
   "source": [
    "len(set(data_blp.loc[data_blp[\"メーカー名\"]==\"統一\",\"医薬品名\"])),len(set(data_blp.loc[data_blp[\"メーカー名\"].isna(),\"医薬品名\"]))\n"
   ]
  },
  {
   "cell_type": "code",
   "execution_count": 24,
   "metadata": {},
   "outputs": [],
   "source": [
    "len(set(data_blp[\"メーカー名\"]))\n",
    "data_blp.to_csv(\"../merged/len3_ndb_blp_DN_firm_filled.csv\",encoding=\"utf-8-sig\")"
   ]
  },
  {
   "cell_type": "code",
   "execution_count": 25,
   "metadata": {},
   "outputs": [
    {
     "ename": "SystemExit",
     "evalue": "",
     "output_type": "error",
     "traceback": [
      "An exception has occurred, use %tb to see the full traceback.\n",
      "\u001b[1;31mSystemExit\u001b[0m\n"
     ]
    },
    {
     "name": "stderr",
     "output_type": "stream",
     "text": [
      "c:\\Users\\hakos\\AppData\\Local\\Programs\\Python\\Python310\\lib\\site-packages\\IPython\\core\\interactiveshell.py:3377: UserWarning: To exit: use 'exit', 'quit', or Ctrl-D.\n",
      "  warn(\"To exit: use 'exit', 'quit', or Ctrl-D.\", stacklevel=1)\n"
     ]
    }
   ],
   "source": [
    "import sys\n",
    "sys.exit()"
   ]
  },
  {
   "cell_type": "markdown",
   "metadata": {},
   "source": [
    "製造会社がないものは統一名収載そのものか確かめる"
   ]
  },
  {
   "cell_type": "code",
   "execution_count": null,
   "metadata": {},
   "outputs": [
    {
     "name": "stdout",
     "output_type": "stream",
     "text": [
      "56\n"
     ]
    },
    {
     "data": {
      "text/plain": [
       "医薬品名                           year\n",
       "Ｄソルビトール液　７５％                   2021    2\n",
       "トルナフタート液　２％                    2016    2\n",
       "塩酸ロペラミド１ｍｇカプセル                 2016    2\n",
       "                               2017    2\n",
       "                               2018    2\n",
       "                               2019    2\n",
       "塩酸ロペラミド１ｍｇ錠                    2016    2\n",
       "                               2017    2\n",
       "ツロブテロール塩酸塩１ｍｇ錠                 2018    2\n",
       "塩酸ロペラミド１ｍｇ錠                    2019    2\n",
       "薬用炭                            2015    2\n",
       "                               2016    2\n",
       "                               2017    2\n",
       "                               2018    2\n",
       "                               2019    2\n",
       "ジスチグミン臭化物錠　５ｍｇ                 2021    2\n",
       "                               2020    2\n",
       "                               2018    2\n",
       "                               2017    2\n",
       "                               2016    2\n",
       "                               2015    2\n",
       "トルナフタート液　２％                    2015    2\n",
       "                               2017    2\n",
       "ジクロフェナクナトリウム５０ｍｇ坐剤             2021    2\n",
       "トルナフタート液　２％                    2018    2\n",
       "プロカテロール塩酸塩０．０５ｍｇ錠              2018    2\n",
       "                               2016    2\n",
       "                               2015    2\n",
       "プロカテロール塩酸塩０．０２５ｍｇ錠             2018    2\n",
       "                               2016    2\n",
       "ロペラミド塩酸塩１ｍｇカプセル                2020    2\n",
       "                               2021    2\n",
       "ロペラミド塩酸塩１ｍｇ錠                   2020    2\n",
       "                               2021    2\n",
       "ビホナゾール１％クリーム                   2020    2\n",
       "                               2018    2\n",
       "                               2016    2\n",
       "                               2015    2\n",
       "ビダラビン３％軟膏                      2021    2\n",
       "ビダラビン３％クリーム                    2021    2\n",
       "塩酸ロペラミド１ｍｇカプセル                 2015    2\n",
       "トルナフタート液　２％                    2021    2\n",
       "                               2020    2\n",
       "                               2019    2\n",
       "ジスチグミン臭化物錠　５ｍｇ                 2014    2\n",
       "                               2019    2\n",
       "ジクロフェナクナトリウム５０ｍｇ坐剤             2015    2\n",
       "Ｄソルビトール                        2018    2\n",
       "イトラコナゾール１００ｍｇ錠                 2021    2\n",
       "Ｄソルビトール                        2020    2\n",
       "                               2021    2\n",
       "ケトコナゾール２％ローション                 2021    2\n",
       "Ｄソルビトール液　６５％                   2015    2\n",
       "                               2016    2\n",
       "                               2017    2\n",
       "                               2018    2\n",
       "                               2019    2\n",
       "                               2020    2\n",
       "                               2021    2\n",
       "アンブロキソール塩酸塩４５ｍｇ徐放カプセル          2021    2\n",
       "アンブロキソール塩酸塩１５ｍｇ錠               2021    2\n",
       "                               2020    2\n",
       "Ｄソルビトール液　７５％                   2014    2\n",
       "                               2015    2\n",
       "                               2016    2\n",
       "                               2017    2\n",
       "                               2018    2\n",
       "                               2019    2\n",
       "                               2020    2\n",
       "Ｄソルビトール                        2019    2\n",
       "Ｄソルビトール液　６５％                   2014    2\n",
       "Ｄソルビトール                        2017    2\n",
       "複方ヨード・グリセリン                    2018    2\n",
       "ケトコナゾール２％ローション                 2020    2\n",
       "ケトコナゾール２％クリーム                  2021    2\n",
       "                               2020    2\n",
       "薬用炭                            2020    2\n",
       "                               2021    2\n",
       "Ｄソルビトール                        2016    2\n",
       "複方ヨード・グリセリン                    2016    2\n",
       "                               2017    2\n",
       "クロトリマゾール１％クリーム                 2018    2\n",
       "複方ヨード・グリセリン                    2015    2\n",
       "クレンブテロール塩酸塩１０μｇ錠               2021    2\n",
       "Ｄソルビトール                        2015    2\n",
       "                               2014    2\n",
       "複方ヨード・グリセリン                    2020    2\n",
       "                               2021    2\n",
       "                               2019    2\n",
       "リトドリン塩酸塩５ｍｇ錠                   2021    1\n",
       "                               2018    1\n",
       "                               2019    1\n",
       "塩酸ロペラミド１ｍｇ錠                    2015    1\n",
       "リトドリン塩酸塩５ｍｇ錠                   2016    1\n",
       "                               2020    1\n",
       "ロキソプロフェンナトリウム６０ｍｇ錠             2016    1\n",
       "                               2017    1\n",
       "                               2018    1\n",
       "                               2019    1\n",
       "複方ヨード・グリセリン                    2014    1\n",
       "塩酸ロペラミド１ｍｇ錠                    2018    1\n",
       "亜鉛華軟膏                          2018    1\n",
       "                               2015    1\n",
       "                               2016    1\n",
       "リトドリン塩酸塩５ｍｇ錠                   2017    1\n",
       "アシクロビル２００ｍｇ錠                   2015    1\n",
       "リトドリン塩酸塩５ｍｇ錠                   2015    1\n",
       "クロモグリク酸ナトリウム１％２ｍＬ吸入液           2020    1\n",
       "クロトリマゾール１％クリーム                 2021    1\n",
       "                               2020    1\n",
       "                               2016    1\n",
       "クレンブテロール塩酸塩１０μｇ錠               2020    1\n",
       "カモスタットメシル酸塩１００ｍｇ錠              2015    1\n",
       "オフロキサシン３ｍｇ１ｍＬ点耳液               2021    1\n",
       "                               2020    1\n",
       "                               2019    1\n",
       "オキシコナゾール硝酸塩６００ｍｇ腟錠             2021    1\n",
       "イトラコナゾール５０ｍｇ錠                  2021    1\n",
       "イトラコナゾール５０ｍｇカプセル               2021    1\n",
       "                               2020    1\n",
       "イソコナゾール硝酸塩３００ｍｇ腟錠              2021    1\n",
       "                               2020    1\n",
       "イオウ・サリチル酸・チアントール軟膏             2021    1\n",
       "                               2020    1\n",
       "                               2019    1\n",
       "                               2018    1\n",
       "                               2017    1\n",
       "                               2016    1\n",
       "                               2015    1\n",
       "アンブロキソール塩酸塩４５ｍｇ徐放性口腔内崩壊錠       2021    1\n",
       "アンブロキソール塩酸塩１５ｍｇ錠               2019    1\n",
       "                               2018    1\n",
       "                               2017    1\n",
       "                               2016    1\n",
       "                               2015    1\n",
       "アンブロキソール塩酸塩０．３％シロップ            2021    1\n",
       "アシクロビル２００ｍｇ錠                   2018    1\n",
       "クロトリマゾール１００ｍｇ腟錠                2020    1\n",
       "クロモグリク酸ナトリウム１％２ｍＬ吸入液           2021    1\n",
       "ミコナゾール硝酸塩１％クリーム                2021    1\n",
       "クロモグリク酸ナトリウム１９０ｍｇ９．５ｍＬ点鼻液      2021    1\n",
       "ベクロメタゾンプロピオン酸エステル８．５ｍｇ８．５ｇ点鼻液  2021    1\n",
       "プロカテロール塩酸塩０．０２５ｍｇ錠             2015    1\n",
       "プロカテロール塩酸塩０．０００５％シロップ          2021    1\n",
       "                               2020    1\n",
       "ブテナフィン塩酸塩１％クリーム                2021    1\n",
       "                               2020    1\n",
       "フルコナゾール１００ｍｇカプセル               2021    1\n",
       "                               2020    1\n",
       "ピロキシカム２０ｍｇ坐剤                   2018    1\n",
       "                               2016    1\n",
       "                               2015    1\n",
       "ビホナゾール１％液                      2020    1\n",
       "アシクロビル２００ｍｇ錠                   2016    1\n",
       "ビダラビン３％軟膏                      2020    1\n",
       "ビダラビン３％クリーム                    2020    1\n",
       "テルビナフィン塩酸塩１２５ｍｇ錠               2021    1\n",
       "                               2020    1\n",
       "テルビナフィン塩酸塩１％液                  2021    1\n",
       "テルビナフィン塩酸塩１％クリーム               2021    1\n",
       "                               2020    1\n",
       "ツロブテロール（２ｍｇ）貼付剤                2021    1\n",
       "                               2020    1\n",
       "ツロブテロール（１ｍｇ）貼付剤                2021    1\n",
       "ツロブテロール塩酸塩０．１％シロップ用            2018    1\n",
       "                               2016    1\n",
       "スルファメトキサゾール・トリメトプリム錠           2021    1\n",
       "                               2019    1\n",
       "                               2018    1\n",
       "                               2016    1\n",
       "ビホナゾール１％クリーム                   2021    1\n",
       "dtype: int64"
      ]
     },
     "execution_count": 129,
     "metadata": {},
     "output_type": "execute_result"
    }
   ],
   "source": [
    "data_merged[\"製造会社\"].isna()\n",
    "set(data_merged.loc[data_merged[\"製造会社\"].isna(),\"医薬品名\"])\n",
    "rest_code=set(data_merged.loc[data_merged[\"製造会社\"].isna(),\"医薬品コード\"])\n",
    "pd.options.display.max_rows = None\n",
    "print(len(rest_code))\n",
    "# 真の統一名収載\n",
    "data_merged.loc[data_merged[\"医薬品コード\"].isin(rest_code),[\"医薬品名\",\"year\"]].value_counts()"
   ]
  },
  {
   "cell_type": "code",
   "execution_count": null,
   "metadata": {},
   "outputs": [
    {
     "name": "stdout",
     "output_type": "stream",
     "text": [
      "0 662650007\n",
      "1 622774600\n"
     ]
    }
   ],
   "source": [
    "# たしかにそう\n",
    "for code in rest_code:\n",
    "    if len(data_hot[data_hot[\"レセプト電算処理システムコード（２）\"]==code])<2:\n",
    "        print(len(data_hot[data_hot[\"レセプト電算処理システムコード（２）\"]==code]),code)"
   ]
  },
  {
   "cell_type": "code",
   "execution_count": null,
   "metadata": {},
   "outputs": [],
   "source": []
  },
  {
   "cell_type": "code",
   "execution_count": null,
   "metadata": {},
   "outputs": [],
   "source": []
  },
  {
   "cell_type": "code",
   "execution_count": null,
   "metadata": {},
   "outputs": [
    {
     "data": {
      "text/plain": [
       "(1, 1)"
      ]
     },
     "execution_count": 131,
     "metadata": {},
     "output_type": "execute_result"
    }
   ],
   "source": [
    "X=np.array(data_hot[\"レセプト電算処理システムコード（１）\"].isna())\n",
    "Y=np.array(data_hot[\"レセプト電算処理システムコード（２）\"].isna())\n",
    "X.sum(),Y.sum(),\n",
    "rest_code=rest_code-set(data_hot.loc[~Y,\"レセプト電算処理システムコード（２）\"])\n",
    "len(rest_code-set(data_hot.loc[~X,\"レセプト電算処理システムコード（１）\"])),len(rest_code)"
   ]
  },
  {
   "cell_type": "code",
   "execution_count": null,
   "metadata": {},
   "outputs": [
    {
     "data": {
      "text/plain": [
       "医薬品名                year\n",
       "イオウ・サリチル酸・チアントール軟膏  2015    1\n",
       "                    2016    1\n",
       "                    2017    1\n",
       "                    2018    1\n",
       "                    2019    1\n",
       "                    2020    1\n",
       "                    2021    1\n",
       "dtype: int64"
      ]
     },
     "execution_count": 132,
     "metadata": {},
     "output_type": "execute_result"
    }
   ],
   "source": [
    "data_merged.loc[data_merged[\"医薬品コード\"].isin(rest_code),[\"医薬品名\",\"year\"]].value_counts()"
   ]
  },
  {
   "cell_type": "markdown",
   "metadata": {},
   "source": [
    "レセプト電算コード(１)は常にあり、(２)のみのものはない"
   ]
  },
  {
   "cell_type": "code",
   "execution_count": null,
   "metadata": {},
   "outputs": [
    {
     "data": {
      "text/plain": [
       "(0, 111039, 111088)"
      ]
     },
     "execution_count": 133,
     "metadata": {},
     "output_type": "execute_result"
    }
   ],
   "source": [
    "(X&~Y).sum(),(~X&Y).sum(),(Y).sum()+(X&~Y).sum()"
   ]
  },
  {
   "cell_type": "code",
   "execution_count": null,
   "metadata": {},
   "outputs": [
    {
     "data": {
      "text/plain": [
       "(150422, 25)"
      ]
     },
     "execution_count": 134,
     "metadata": {},
     "output_type": "execute_result"
    }
   ],
   "source": [
    "# data_hot[\"レセプト電算処理システムコード（１）\"]=data_hot[\"レセプト電算処理システムコード（１）\"].fillna(0).astype(int)\n",
    "# data_hot[\"レセプト電算処理システムコード（２）\"]=data_hot[\"レセプト電算処理システムコード（２）\"].fillna(0).astype(int)\n",
    "data_hot.shape"
   ]
  },
  {
   "cell_type": "code",
   "execution_count": null,
   "metadata": {},
   "outputs": [
    {
     "name": "stderr",
     "output_type": "stream",
     "text": [
      "c:\\Users\\hakos\\AppData\\Local\\Programs\\Python\\Python310\\lib\\site-packages\\pandas\\core\\reshape\\merge.py:1214: RuntimeWarning: invalid value encountered in cast\n",
      "  if not (rk == rk.astype(lk.dtype))[~np.isnan(rk)].all():\n"
     ]
    }
   ],
   "source": [
    "data_merged=data_blp.merge(data_hot,left_on=[\"メーカー名\",\"医薬品コード\"],right_on=[\"製造会社\",\"レセプト電算処理システムコード（１）\"],how=\"left\")"
   ]
  },
  {
   "cell_type": "code",
   "execution_count": null,
   "metadata": {},
   "outputs": [
    {
     "name": "stdout",
     "output_type": "stream",
     "text": [
      "1\n",
      "55\n",
      "2687\n"
     ]
    }
   ],
   "source": [
    "hot_set=set(data_hot[\"レセプト電算処理システムコード（１）\"]).union(set(data_hot[\"レセプト電算処理システムコード（２）\"]))\n",
    "print(len(toitsu_code_set-hot_set))\n",
    "print(len(set(data_blp[\"医薬品コード\"])-set(data_hot[\"レセプト電算処理システムコード（１）\"])))\n",
    "print(len(set(data_blp[\"医薬品コード\"])-set(data_hot[\"レセプト電算処理システムコード（２）\"])))\n"
   ]
  },
  {
   "cell_type": "code",
   "execution_count": null,
   "metadata": {},
   "outputs": [],
   "source": [
    "data_hot[\"receipt\"]=data_hot[\"レセプト電算処理システムコード（１）\"].fillna(data_hot[\"レセプト電算処理システムコード（２）\"])"
   ]
  },
  {
   "cell_type": "code",
   "execution_count": null,
   "metadata": {},
   "outputs": [
    {
     "data": {
      "text/plain": [
       "55"
      ]
     },
     "execution_count": 138,
     "metadata": {},
     "output_type": "execute_result"
    }
   ],
   "source": [
    "len(toitsu_code_set-set(data_hot[\"receipt\"]))"
   ]
  },
  {
   "cell_type": "code",
   "execution_count": null,
   "metadata": {},
   "outputs": [
    {
     "data": {
      "text/plain": [
       "662650007    7\n",
       "Name: 医薬品コード, dtype: int64"
      ]
     },
     "execution_count": 139,
     "metadata": {},
     "output_type": "execute_result"
    }
   ],
   "source": [
    "pd.options.display.max_rows = None\n",
    "data_blp.loc[~data_blp[\"医薬品コード\"].isin(hot_set),\"医薬品名\"].value_counts()\n",
    "data_blp.loc[~data_blp[\"医薬品コード\"].isin(hot_set),\"医薬品コード\"].value_counts()"
   ]
  },
  {
   "cell_type": "code",
   "execution_count": null,
   "metadata": {},
   "outputs": [],
   "source": [
    "# data_blp[data_blp[\"薬価基準収載医薬品コード\"]==\"2659800M1011\"]"
   ]
  }
 ],
 "metadata": {
  "kernelspec": {
   "display_name": "Python 3",
   "language": "python",
   "name": "python3"
  },
  "language_info": {
   "codemirror_mode": {
    "name": "ipython",
    "version": 3
   },
   "file_extension": ".py",
   "mimetype": "text/x-python",
   "name": "python",
   "nbconvert_exporter": "python",
   "pygments_lexer": "ipython3",
   "version": "3.10.4"
  }
 },
 "nbformat": 4,
 "nbformat_minor": 2
}
