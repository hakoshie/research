{
 "cells": [
  {
   "cell_type": "code",
   "execution_count": 10,
   "metadata": {},
   "outputs": [],
   "source": [
    "import pandas as pd\n",
    "import matplotlib.pyplot as plt"
   ]
  },
  {
   "cell_type": "code",
   "execution_count": 11,
   "metadata": {},
   "outputs": [
    {
     "data": {
      "text/html": [
       "<div>\n",
       "<style scoped>\n",
       "    .dataframe tbody tr th:only-of-type {\n",
       "        vertical-align: middle;\n",
       "    }\n",
       "\n",
       "    .dataframe tbody tr th {\n",
       "        vertical-align: top;\n",
       "    }\n",
       "\n",
       "    .dataframe thead th {\n",
       "        text-align: right;\n",
       "    }\n",
       "</style>\n",
       "<table border=\"1\" class=\"dataframe\">\n",
       "  <thead>\n",
       "    <tr style=\"text-align: right;\">\n",
       "      <th></th>\n",
       "      <th>year</th>\n",
       "      <th>id</th>\n",
       "      <th>efficacy</th>\n",
       "      <th>rx_agg</th>\n",
       "      <th>rx_pro_agg</th>\n",
       "      <th>rx_pro_dom</th>\n",
       "      <th>otc_agg</th>\n",
       "      <th>otc_pro_agg</th>\n",
       "      <th>otc_pro_dom</th>\n",
       "      <th>self_agg</th>\n",
       "      <th>self_pro_agg</th>\n",
       "      <th>self_pro_dom</th>\n",
       "    </tr>\n",
       "  </thead>\n",
       "  <tbody>\n",
       "    <tr>\n",
       "      <th>0</th>\n",
       "      <td>2008</td>\n",
       "      <td>0</td>\n",
       "      <td>総　　　　数</td>\n",
       "      <td>7833978217</td>\n",
       "      <td>5992764560</td>\n",
       "      <td>4467278271</td>\n",
       "      <td>598437749</td>\n",
       "      <td>582666794</td>\n",
       "      <td>15770955</td>\n",
       "      <td>0</td>\n",
       "      <td>0</td>\n",
       "      <td>0</td>\n",
       "    </tr>\n",
       "    <tr>\n",
       "      <th>1</th>\n",
       "      <td>2008</td>\n",
       "      <td>429</td>\n",
       "      <td>その他の腫瘍用薬</td>\n",
       "      <td>263245830</td>\n",
       "      <td>28772797</td>\n",
       "      <td>16966811</td>\n",
       "      <td>0</td>\n",
       "      <td>0</td>\n",
       "      <td>0</td>\n",
       "      <td>0</td>\n",
       "      <td>0</td>\n",
       "      <td>0</td>\n",
       "    </tr>\n",
       "    <tr>\n",
       "      <th>2</th>\n",
       "      <td>2008</td>\n",
       "      <td>43</td>\n",
       "      <td>放射性医薬品</td>\n",
       "      <td>33915325</td>\n",
       "      <td>32119390</td>\n",
       "      <td>32119390</td>\n",
       "      <td>0</td>\n",
       "      <td>0</td>\n",
       "      <td>0</td>\n",
       "      <td>0</td>\n",
       "      <td>0</td>\n",
       "      <td>0</td>\n",
       "    </tr>\n",
       "    <tr>\n",
       "      <th>3</th>\n",
       "      <td>2008</td>\n",
       "      <td>44</td>\n",
       "      <td>アレルギー用薬</td>\n",
       "      <td>313499752</td>\n",
       "      <td>242222482</td>\n",
       "      <td>118992292</td>\n",
       "      <td>2184119</td>\n",
       "      <td>2184119</td>\n",
       "      <td>0</td>\n",
       "      <td>0</td>\n",
       "      <td>0</td>\n",
       "      <td>0</td>\n",
       "    </tr>\n",
       "    <tr>\n",
       "      <th>4</th>\n",
       "      <td>2008</td>\n",
       "      <td>441</td>\n",
       "      <td>抗ヒスタミン剤</td>\n",
       "      <td>5975975</td>\n",
       "      <td>5975975</td>\n",
       "      <td>3810786</td>\n",
       "      <td>1623776</td>\n",
       "      <td>1623776</td>\n",
       "      <td>0</td>\n",
       "      <td>0</td>\n",
       "      <td>0</td>\n",
       "      <td>0</td>\n",
       "    </tr>\n",
       "  </tbody>\n",
       "</table>\n",
       "</div>"
      ],
      "text/plain": [
       "   year   id  efficacy      rx_agg  rx_pro_agg  rx_pro_dom    otc_agg  \\\n",
       "0  2008    0    総　　　　数  7833978217  5992764560  4467278271  598437749   \n",
       "1  2008  429  その他の腫瘍用薬   263245830    28772797    16966811          0   \n",
       "2  2008   43    放射性医薬品    33915325    32119390    32119390          0   \n",
       "3  2008   44   アレルギー用薬   313499752   242222482   118992292    2184119   \n",
       "4  2008  441   抗ヒスタミン剤     5975975     5975975     3810786    1623776   \n",
       "\n",
       "   otc_pro_agg  otc_pro_dom  self_agg  self_pro_agg  self_pro_dom  \n",
       "0    582666794     15770955         0             0             0  \n",
       "1            0            0         0             0             0  \n",
       "2            0            0         0             0             0  \n",
       "3      2184119            0         0             0             0  \n",
       "4      1623776            0         0             0             0  "
      ]
     },
     "execution_count": 11,
     "metadata": {},
     "output_type": "execute_result"
    }
   ],
   "source": [
    "data=pd.read_csv(\"./data_prod_whole.csv\",encoding=\"shift-jis\")\n",
    "data.head()"
   ]
  },
  {
   "cell_type": "code",
   "execution_count": 12,
   "metadata": {},
   "outputs": [],
   "source": [
    "data_agg=data.loc[data[\"id\"]==0]"
   ]
  },
  {
   "cell_type": "code",
   "execution_count": 15,
   "metadata": {},
   "outputs": [
    {
     "data": {
      "text/plain": [
       "<AxesSubplot:xlabel='year'>"
      ]
     },
     "execution_count": 15,
     "metadata": {},
     "output_type": "execute_result"
    },
    {
     "data": {
      "image/png": "[encoded data removed]",
      "text/plain": [
       "<Figure size 432x288 with 1 Axes>"
      ]
     },
     "metadata": {
      "needs_background": "light"
     },
     "output_type": "display_data"
    }
   ],
   "source": [
    "data_agg.plot(x=\"year\",y=[\"rx_agg\",\"otc_agg\"])"
   ]
  }
 ],
 "metadata": {
  "kernelspec": {
   "display_name": "Python 3",
   "language": "python",
   "name": "python3"
  },
  "language_info": {
   "codemirror_mode": {
    "name": "ipython",
    "version": 3
   },
   "file_extension": ".py",
   "mimetype": "text/x-python",
   "name": "python",
   "nbconvert_exporter": "python",
   "pygments_lexer": "ipython3",
   "version": "3.10.4"
  },
  "orig_nbformat": 4
 },
 "nbformat": 4,
 "nbformat_minor": 2
}
