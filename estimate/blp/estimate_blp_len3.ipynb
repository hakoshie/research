{
 "cells": [
  {
   "cell_type": "code",
   "execution_count": 13,
   "metadata": {},
   "outputs": [],
   "source": [
    "import pandas as pd\n",
    "import numpy as np\n",
    "import statsmodels.api as sm\n",
    "# from linearmodels.panel.data import PanelData\n",
    "# from linearmodels.panel import PanelOLS, PooledOLS, RandomEffects, compare\n",
    "import matplotlib.pyplot as plt\n",
    "import pyblp\n",
    "import sys\n",
    "import datetime\n",
    "import warnings\n",
    "\n",
    "# Suppress all warnings\n",
    "warnings.filterwarnings(\"ignore\")\n",
    "\n",
    "# def mute():\n",
    "#     sys.stdout = open('nul', 'w')\n",
    "#     # a=0\n",
    "# def unmute():\n",
    "#     sys.stdout = sys.__stdout__\n",
    "\n",
    "drop_self,drop_nonself=0,0\n",
    "if len(sys.argv) > 2:\n",
    "    drop_self = int(sys.argv[1])\n",
    "    drop_nonself = int(sys.argv[2])\n",
    "    print(f\"Received parameters: param1={drop_self}, param2={drop_nonself}\")\n",
    "else:\n",
    "    print(\"Insufficient parameters. Please provide two parameters.\")\n",
    "# Call the function with suppressed output\n",
    "# mute()\n",
    "save=0\n",
    "\n",
    "product_data=pd.read_csv(\"../../data/merged/len3_ndb_blp_DN_firm_FC.csv\",encoding=\"utf-8\",index_col=0)\n",
    "print(product_data.columns[:30])\n",
    "# rename\n",
    "product_data=product_data.rename(columns={\"薬価\":\"prices\",\n",
    "                    \"同一剤形・規格の後発医薬品がある先発医薬品\":\"long_term\",\n",
    "                    \"医薬品名\":\"product_ids\",\n",
    "                    \"薬効分類\":\"TClass\",\n",
    "                    \"メーカー名\":\"firm_ids\"})\n",
    "\n",
    "product_data[\"long_term\"] = product_data[\"long_term\"].replace(\"○\", 1).fillna(0)\n",
    "product_data.loc[product_data[\"firm_ids\"]==\"self\",\"prices\"]=product_data.loc[product_data[\"firm_ids\"]==\"self\",\"mean_price\"]*0.5\n",
    "product_data.loc[product_data[\"firm_ids\"]==\"nonself\",\"prices\"]=product_data.loc[product_data[\"firm_ids\"]==\"nonself\",\"mean_price\"]*0.5*0.7\n",
    "product_data = product_data[product_data[\"year\"] > 2014]\n",
    "product_data.loc[:,\"market_ids\"]=product_data.loc[:,\"TClass\"].astype(int).astype(str)+\"-\"+product_data.loc[:,\"year\"].astype(int).astype(str)\n",
    "product_data.loc[:,\"shares\"]=product_data[\"総計\"]/(120000000*100)\n",
    "if drop_nonself:\n",
    "    product_data = product_data[product_data[\"firm_ids\"]!=\"nonself\"]\n",
    "if drop_self:\n",
    "    product_data = product_data[product_data[\"firm_ids\"]!=\"self\"]\n",
    "\n",
    "product_data[\"prices\"]=product_data[\"prices\"]*3.4\n",
    "# unmute()\n",
    "# # otcのシェア\n",
    "# # print(product_data.loc[product_data[\"firm_ids\"].isin([\"self\",\"nonself\"]),\"shares\"].sum()/product_data[\"shares\"].sum())\n",
    "# mute()\n",
    "# drop which doesn't have generic\n",
    "# product_data=product_data[~((product_data[\"long_term\"]==0)&(product_data[\"generic\"]==0))]\n",
    "product_data=product_data.loc[product_data[\"shares\"]>0]\n",
    "# unmute()\n",
    "# print(product_data.loc[product_data[\"markup\"].isna(),[\"product_ids\",\"firm_ids\",\"prices\",\"markup\",\"year\"]])\n",
    "# print(set(product_data.loc[product_data[\"markup\"].isna(),\"year\"]))\n",
    "# mute()\n",
    "product_data=product_data[[\"wholesale_price\",\"markup\",\"product_ids\",\"market_ids\",\"firm_ids\",\"prices\",\"brand\",\"oral\",\"generic\",\"in_hospital\",\"TClass\",\"year\",\"shares\",\"id_l4\",\"long_term\",\"otc\",\"Pharmacopoeia\"]]\n",
    "product_data=product_data.astype({\"prices\":float,\"shares\":float,\"oral\":float,\"generic\":int,\"otc\":int,\"in_hospital\":int,\"long_term\":int})\n",
    "product_data.reset_index(drop=True,inplace=True)\n",
    "# unmute()\n",
    "# # print(product_data.corr())\n",
    "# # print(product_data.corr()>0.1)\n",
    "# mute()\n",
    "# specify instruments\n",
    "demand_instruments=pyblp.build_blp_instruments(pyblp.Formulation(\"1+generic+in_hospital+oral+long_term+Pharmacopoeia\"),product_data=product_data)\n",
    "# demand_instruments=pyblp.build_blp_instruments(formulation=pyblp.Formulation(\"1+prices+generic+oral+in_hospital\"),product_data=product_data)\n",
    "\n",
    "MD=demand_instruments.shape[1]\n",
    "demand_instruments=pd.DataFrame(demand_instruments, columns=[f'demand_instruments{i}' for i in range(MD)])\n",
    "product_data=pd.concat([product_data,demand_instruments],axis=1)\n",
    "# unmute()\n",
    "# print(product_data.corr().to_csv('correlation_matrix.csv', sep='\\t'))\n",
    "# print(product_data.corr()>0.1)\n",
    "# mute()\n",
    "# lagged demand instruments\n",
    "# demand_instrument_columns = [col for col in product_data.columns if col.startswith('demand_instrument')]\n",
    "# def lag_demand_instruments(group):\n",
    "#     for col in demand_instrument_columns:\n",
    "#         for i in range(N_DI):  # 0から1までのラグを取得\n",
    "#             lagged_column_name = f'demand_instruments{i+N_DI}'\n",
    "#             group[lagged_column_name] = group[col].shift(1)\n",
    "#     return group\n",
    "# product_data=product_data.sort_values(['TClass', 'year'])\n",
    "# product_data = product_data.groupby('id_l4').apply(lag_demand_instruments)\n",
    "# product_data.shape\n",
    "\n",
    "product_data.loc[product_data[\"product_ids\"]==\"self\"][\"shares\"]\n",
    "# nesting\n",
    "product_data[\"nesting_ids\"]=product_data[\"generic\"].astype(str)+product_data[\"otc\"].astype(str)\n",
    "logit_formulation= pyblp.Formulation('prices+in_hospital+oral+generic+otc+long_term+Pharmacopoeia', absorb='C(TClass)+C(year)+C(firm_ids)')\n",
    "if drop_self and drop_nonself:\n",
    "    logit_formulation= pyblp.Formulation('prices+in_hospital+oral+generic+long_term+Pharmacopoeia', absorb='C(TClass)+C(year)+C(firm_ids)')\n",
    "# logit_formulation= pyblp.Formulation('prices+oral+in_hospital+long_term', absorb='C(market_ids)+C(firm_ids)')\n",
    "\n",
    "# typeで怒られがち\n",
    "problem = pyblp.Problem(product_formulations=logit_formulation, product_data=product_data)\n",
    "# problem\n",
    "optimization=pyblp.Optimization('l-bfgs-b')\n",
    "logit_results = problem.solve(rho=0.7, optimization=optimization,rho_bounds=(0,1))\n",
    "\n",
    "# unmute()\n",
    "print(logit_results)\n",
    "# mute()\n",
    "\n",
    "# print(np.round(logit_results.beta.T/(1-logit_results.rho),4))\n",
    "# print(np.round(logit_results.beta_se.T,6))\n",
    "data = np.vstack((logit_results.beta.T/(1-logit_results.rho),\n",
    "logit_results.beta_se.T))\n",
    "\n",
    "# Find the maximum width for each column\n",
    "max_widths = [max(len(f\"{num:.4f}\") for num in col) for col in zip(*data)]\n",
    "\n",
    "# Format and print the aligned data\n",
    "for row in data:\n",
    "    formatted_row = [f\"{num:.4f}\".rjust(max_width) for num, max_width in zip(row, max_widths)]\n",
    "    print(\" \".join(formatted_row))\n",
    "instruments_results=logit_results.compute_optimal_instruments()\n",
    "instruments_results\n",
    "updated_problem=instruments_results.to_problem()\n",
    "updated_results=updated_problem.solve(rho=0.7,optimization=optimization,rho_bounds=(0,1))\n",
    "# unmute()\n",
    "print(updated_results)\n",
    "# mute()\n",
    "print(np.round(updated_results.beta.T/(1-updated_results.rho),4))\n",
    "costs = updated_results.compute_costs()\n",
    "# plt.hist(costs, bins=50)\n",
    "# plt.legend([\"Marginal Costs\"])\n",
    "# plt.show()\n",
    "markups = updated_results.compute_markups(costs=costs)\n",
    "# plt.hist(markups, bins=50)\n",
    "# plt.legend([\"Markups\"])\n",
    "cs=logit_results.compute_consumer_surpluses()\n",
    "cs2=logit_results.compute_consumer_surpluses(eliminate_product_ids=[\"self\"])\n",
    "cs3=logit_results.compute_consumer_surpluses(eliminate_product_ids=[\"nonself\"])\n",
    "cs4=logit_results.compute_consumer_surpluses(eliminate_product_ids=[\"nonself\",\"self\"])\n",
    "# unmute()\n",
    "print(\"logit\")\n",
    "print([np.mean(cs),np.mean(cs2),np.mean(cs3),np.mean(cs4)]/np.mean(cs))\n",
    "print(sum(cs),sum(cs2),sum(cs3),sum(cs4))\n",
    "# mute()\n",
    "cs=updated_results.compute_consumer_surpluses()\n",
    "cs2=updated_results.compute_consumer_surpluses(eliminate_product_ids=[\"self\"])\n",
    "cs3=updated_results.compute_consumer_surpluses(eliminate_product_ids=[\"nonself\"])\n",
    "cs4=updated_results.compute_consumer_surpluses(eliminate_product_ids=[\"nonself\",\"self\"])\n",
    "# unmute()\n",
    "print(\"updated\") \n",
    "print([np.mean(cs),np.mean(cs2),np.mean(cs3),np.mean(cs4)]/np.mean(cs))\n",
    "print(sum(cs),sum(cs2),sum(cs3),sum(cs4))\n",
    "print(\"delta\",np.mean(logit_results.delta),np.sum(logit_results.delta))\n",
    "print(\"optimal delta\",np.mean(updated_results.delta),\"drop_self\",drop_self,\"drop_nonself\",drop_nonself)\n",
    "# mute()\n",
    "\n",
    "# Get the current date and time\n",
    "current_time = datetime.datetime.now()\n",
    "\n",
    "# Format the time as a string\n",
    "time_string = current_time.strftime(\"%Y-%m-%d_%H-%M-%S\")\n",
    "if save:\n",
    "    logit_results.to_pickle(f\"./results/NL_len3_{time_string}_{drop_self}{drop_nonself}.pkl\")\n",
    "\n"
   ]
  },
  {
   "cell_type": "code",
   "execution_count": 22,
   "metadata": {},
   "outputs": [
    {
     "data": {
      "text/plain": [
       "(array([77994.93846267]),\n",
       " array([76753.63111249]),\n",
       " array([75215.49733687]),\n",
       " array([73930.74756725]))"
      ]
     },
     "execution_count": 22,
     "metadata": {},
     "output_type": "execute_result"
    }
   ],
   "source": [
    "# unmute()\n",
    "cs=logit_results.compute_consumer_surpluses()\n",
    "cs2=logit_results.compute_consumer_surpluses(eliminate_product_ids=[\"self\"])\n",
    "cs3=logit_results.compute_consumer_surpluses(eliminate_product_ids=[\"nonself\"])\n",
    "cs4=logit_results.compute_consumer_surpluses(eliminate_product_ids=[\"nonself\",\"self\"])\n",
    "print(\"logit\")\n",
    "print([np.mean(cs),np.mean(cs2),np.mean(cs3),np.mean(cs4)]/np.mean(cs))\n",
    "sum(cs),sum(cs2),sum(cs3),sum(cs4)\n",
    "sum(cs)/7,sum(cs2)/7,sum(cs3)/7,sum(cs4)/7\n",
    "\n"
   ]
  },
  {
   "cell_type": "code",
   "execution_count": 15,
   "metadata": {},
   "outputs": [],
   "source": [
    "elasticities = logit_results.compute_elasticities()\n",
    "# %matplotlib inline\n",
    "import matplotlib.pyplot as plt\n",
    "single_market = product_data['market_ids'] == '131-2015'\n",
    "K=sum(single_market)\n",
    "# plt.colorbar(plt.matshow(elasticities[single_market][:,:K]))\n",
    "product_data[single_market].shape,K\n",
    "elasticities[single_market][:,:K]\n",
    "diversions = logit_results.compute_diversion_ratios()\n"
   ]
  },
  {
   "cell_type": "code",
   "execution_count": 16,
   "metadata": {},
   "outputs": [
    {
     "data": {
      "text/plain": [
       "(0.00022203724491606244, 0.0004970533001789853, 0.007509073991519506)"
      ]
     },
     "execution_count": 16,
     "metadata": {},
     "output_type": "execute_result"
    }
   ],
   "source": [
    "\n",
    "(logit_results.problem.products[\"firm_ids\"]==\"self\").shape\n",
    "self_m=np.array(pd.DataFrame(elasticities).loc[logit_results.problem.products[\"firm_ids\"]==\"self\"].mean(axis=1))\n",
    "nonself_m=np.array(pd.DataFrame(elasticities).loc[logit_results.problem.products[\"firm_ids\"]==\"nonself\"].mean(axis=1))\n",
    "other_m = np.array(pd.DataFrame(elasticities).loc[~np.isin(logit_results.problem.products[\"firm_ids\"], [\"self\", \"nonself\"])].mean(axis=1))\n",
    "len(self_m),len(nonself_m),len(other_m) \n",
    "np.mean(self_m),np.mean(nonself_m),np.mean(other_m)\n",
    "np.std(self_m),np.std(nonself_m),np.std(other_m)"
   ]
  },
  {
   "cell_type": "code",
   "execution_count": 17,
   "metadata": {},
   "outputs": [
    {
     "data": {
      "image/png": "[encoded data removed]",
      "text/plain": [
       "<Figure size 432x288 with 1 Axes>"
      ]
     },
     "metadata": {
      "needs_background": "light"
     },
     "output_type": "display_data"
    }
   ],
   "source": [
    "plt.hist(self_m,density=True,alpha=0.5)\n",
    "plt.hist(nonself_m,density=True,alpha=0.5)\n",
    "plt.hist(other_m,density=True,alpha=0.9)\n",
    "plt.legend([\"self\",\"nonself\",\"other\"])\n",
    "plt.xlim(-1e-2,1e-3)\n",
    "plt.show()"
   ]
  },
  {
   "cell_type": "code",
   "execution_count": 18,
   "metadata": {},
   "outputs": [
    {
     "data": {
      "image/png": "[encoded data removed]",
      "text/plain": [
       "<Figure size 432x288 with 1 Axes>"
      ]
     },
     "metadata": {
      "needs_background": "light"
     },
     "output_type": "display_data"
    }
   ],
   "source": [
    "import seaborn as sns\n",
    "def x_weights(data):\n",
    "    x_weights = np.ones_like(data) / len(data)\n",
    "    return x_weights\n",
    "sns.kdeplot(x=self_m, label='self',fill=True,weights=x_weights(self_m))\n",
    "sns.kdeplot(x=nonself_m, label='nonself',fill=True,weights=x_weights(nonself_m))\n",
    "sns.kdeplot(x=other_m, label='other',fill=True,weights=x_weights(other_m))\n",
    "plt.title('Mean Elasticity Distribution')\n",
    "plt.legend()\n",
    "plt.xlim(-.5e-2,.5e-2)\n",
    "plt.show()"
   ]
  },
  {
   "cell_type": "code",
   "execution_count": 19,
   "metadata": {},
   "outputs": [
    {
     "data": {
      "image/png": "[encoded data removed]",
      "text/plain": [
       "<Figure size 432x288 with 1 Axes>"
      ]
     },
     "metadata": {
      "needs_background": "light"
     },
     "output_type": "display_data"
    }
   ],
   "source": [
    "import seaborn as sns\n",
    "def x_weights(data):\n",
    "    x_weights = np.ones_like(data) / len(data)\n",
    "    return x_weights\n",
    "sns.kdeplot(x=self_m, label='self',fill=True)\n",
    "sns.kdeplot(x=nonself_m, label='nonself',fill=True)\n",
    "sns.kdeplot(x=other_m, label='other',fill=True)\n",
    "plt.title('Mean Elasticity Distribution')\n",
    "plt.legend()\n",
    "plt.xlim(-1e-2,1e-2)\n",
    "plt.show()"
   ]
  }
 ],
 "metadata": {
  "kernelspec": {
   "display_name": "Python 3",
   "language": "python",
   "name": "python3"
  },
  "language_info": {
   "codemirror_mode": {
    "name": "ipython",
    "version": 3
   },
   "file_extension": ".py",
   "mimetype": "text/x-python",
   "name": "python",
   "nbconvert_exporter": "python",
   "pygments_lexer": "ipython3",
   "version": "3.10.4"
  },
  "orig_nbformat": 4
 },
 "nbformat": 4,
 "nbformat_minor": 2
}
