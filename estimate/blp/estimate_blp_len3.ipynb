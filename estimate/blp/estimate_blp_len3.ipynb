{
 "cells": [
  {
   "cell_type": "code",
   "execution_count": 240,
   "metadata": {},
   "outputs": [],
   "source": [
    "import pandas as pd\n",
    "import numpy as np\n",
    "import statsmodels.api as sm\n",
    "# from linearmodels.panel.data import PanelData\n",
    "# from linearmodels.panel import PanelOLS, PooledOLS, RandomEffects, compare\n",
    "import matplotlib.pyplot as plt\n",
    "import pyblp"
   ]
  },
  {
   "cell_type": "code",
   "execution_count": 241,
   "metadata": {},
   "outputs": [
    {
     "name": "stdout",
     "output_type": "stream",
     "text": [
      "Index(['薬効分類', '薬効分類名称', '医薬品コード', '医薬品名', '薬価基準収載医薬品コード', '薬価', '後発品区分', '総計',\n",
      "       'year', 'in_hospital', 'oral', 'id_l4', 'Approved', 'KEGG',\n",
      "       'Ingredient', 'date', 'release_year', '成分', 'variable', 'id_x',\n",
      "       'revenue', 'elapsed', 'elapsed_m6', 'elapsed_m5', 'elapsed_m4',\n",
      "       'elapsed_m3', 'elapsed_m2', 'elapsed_m1', 'elapsed_0', 'elapsed_1'],\n",
      "      dtype='object')\n"
     ]
    },
    {
     "name": "stderr",
     "output_type": "stream",
     "text": [
      "C:\\Users\\hakos\\AppData\\Local\\Temp\\ipykernel_38712\\2118006142.py:2: DtypeWarning: Columns (118) have mixed types. Specify dtype option on import or set low_memory=False.\n",
      "  product_data=pd.read_csv(\"../../data/merged/len3_ndb_blp_DN_firm_FC.csv\",encoding=\"utf-8\",index_col=0)\n"
     ]
    }
   ],
   "source": [
    "drop_otc,drop_sotc=1,0\n",
    "product_data=pd.read_csv(\"../../data/merged/len3_ndb_blp_DN_firm_FC.csv\",encoding=\"utf-8\",index_col=0)\n",
    "print(product_data.columns[:30])\n",
    "product_data=product_data.rename(columns={\"薬価\":\"prices\",\n",
    "                    # \"lag_mean_price\":\"demand_instruments0\",\n",
    "                    # \"lag_sum_quantity\":\"demand_instruments1\",\n",
    "                    # \"lag_generic_share_q\":\"demand_instruments2\",\n",
    "                    \"同一剤形・規格の後発医薬品がある先発医薬品\":\"long_run\",\n",
    "                    \"後発品区分\":\"generic\"})\n",
    "# \"long_run\"列の欠損値を0で埋める\n",
    "product_data[\"long_run\"].fillna(0, inplace=True)\n",
    "\n",
    "# \"long_run\"列の\"○\"を1に置き換える\n",
    "product_data[\"long_run\"] = product_data[\"long_run\"].replace(\"○\", 1)\n",
    "product_data.loc[product_data[\"メーカー名\"]==\"sotc\",\"prices\"]=product_data.loc[product_data[\"メーカー名\"]==\"sotc\",\"mean_price_g\"]\n",
    "# \"year\"列でフィルタリング\n",
    "product_data = product_data[product_data[\"year\"] > 2014]\n",
    "if drop_otc:\n",
    "    product_data = product_data[product_data[\"メーカー名\"]!=\"otc\"]\n",
    "if drop_sotc:\n",
    "    product_data = product_data[product_data[\"メーカー名\"]!=\"sotc\"]\n"
   ]
  },
  {
   "cell_type": "code",
   "execution_count": 242,
   "metadata": {},
   "outputs": [
    {
     "name": "stdout",
     "output_type": "stream",
     "text": [
      "Index(['market_ids', 'firm_ids', 'prices', 'oral', 'generic', 'in_hospital',\n",
      "       '薬効分類', 'year', 'shares', 'id_l4', 'long_run', 'otc', 'Pharmacopoeia'],\n",
      "      dtype='object')\n",
      "(24561, 13)\n"
     ]
    }
   ],
   "source": [
    "save=0\n",
    "product_data.loc[:,\"market_ids\"]=product_data.loc[:,\"薬効分類\"].astype(int).astype(str)+\"-\"+product_data.loc[:,\"year\"].astype(int).astype(str)\n",
    "product_data.loc[:,\"firm_ids\"]=product_data.loc[:,\"メーカー名\"].astype(str)\n",
    "product_data.loc[:,\"shares\"]=product_data[\"総計\"]/(120000000*100)\n",
    "product_data.loc[:,\"Pharmacopoeia\"]=product_data[\"局方\"].replace(\"局\",1).fillna(0)\n",
    "# print(product_data[\"Pharmacopoeia\"].value_counts())\n",
    "\n",
    "# drop which doesn't have generic\n",
    "# product_data=product_data[~((product_data[\"long_run\"]==0)&(zproduct_data[\"generic\"]==0))]\n",
    "product_data=product_data.loc[product_data[\"shares\"]>0]\n",
    "\n",
    "product_data=product_data[[\"market_ids\",\"firm_ids\",\"prices\",\"oral\",\"generic\",\"in_hospital\",\"薬効分類\",\"year\",\"shares\",\"id_l4\",\"long_run\",\"otc\",\"Pharmacopoeia\"]]\n",
    "product_data=product_data.astype({\"prices\":float,\"shares\":float,\"oral\":float,\"generic\":int,\"otc\":int,\"in_hospital\":int,\"long_run\":int})\n",
    "\n",
    "product_data.reset_index(drop=True,inplace=True)\n",
    "print(product_data.columns[:20])\n",
    "print(product_data.shape)"
   ]
  },
  {
   "cell_type": "code",
   "execution_count": 243,
   "metadata": {},
   "outputs": [],
   "source": [
    "# product_data[\"long_run\"].value_counts()\n",
    "# product_data[\"lag_sum_quantity\"].isna().sum()\n",
    "# product_data.shape\n"
   ]
  },
  {
   "cell_type": "code",
   "execution_count": 244,
   "metadata": {},
   "outputs": [
    {
     "data": {
      "text/plain": [
       "((24561, 10), (24561, 13))"
      ]
     },
     "execution_count": 244,
     "metadata": {},
     "output_type": "execute_result"
    }
   ],
   "source": [
    "demand_instruments=pyblp.build_blp_instruments(pyblp.Formulation(\"1+generic+oral+long_run+Pharmacopoeia\"),product_data=product_data)\n",
    "# demand_instruments=pyblp.build_blp_instruments(formulation=pyblp.Formulation(\"1+prices+generic+oral+in_hospital\"),product_data=product_data)\n",
    "demand_instruments\n",
    "demand_instruments.shape,product_data.shape"
   ]
  },
  {
   "cell_type": "code",
   "execution_count": 245,
   "metadata": {},
   "outputs": [
    {
     "data": {
      "text/plain": [
       "(Index(['market_ids', 'firm_ids', 'prices', 'oral', 'generic', 'in_hospital',\n",
       "        '薬効分類', 'year', 'shares', 'id_l4', 'long_run', 'otc', 'Pharmacopoeia',\n",
       "        'demand_instruments0', 'demand_instruments1', 'demand_instruments2',\n",
       "        'demand_instruments3', 'demand_instruments4', 'demand_instruments5',\n",
       "        'demand_instruments6', 'demand_instruments7', 'demand_instruments8',\n",
       "        'demand_instruments9'],\n",
       "       dtype='object'),\n",
       " (24561, 23))"
      ]
     },
     "execution_count": 245,
     "metadata": {},
     "output_type": "execute_result"
    }
   ],
   "source": [
    "MD=demand_instruments.shape[1]\n",
    "demand_instruments=pd.DataFrame(demand_instruments, columns=[f'demand_instruments{i}' for i in range(MD)])\n",
    "product_data=pd.concat([product_data,demand_instruments],axis=1)\n",
    "product_data.columns,product_data.shape"
   ]
  },
  {
   "cell_type": "code",
   "execution_count": 246,
   "metadata": {},
   "outputs": [
    {
     "data": {
      "text/plain": [
       "Index(['market_ids', 'firm_ids', 'prices', 'oral', 'generic', 'in_hospital',\n",
       "       '薬効分類', 'year', 'shares', 'id_l4', 'long_run', 'otc', 'Pharmacopoeia',\n",
       "       'demand_instruments0', 'demand_instruments1', 'demand_instruments2',\n",
       "       'demand_instruments3', 'demand_instruments4', 'demand_instruments5',\n",
       "       'demand_instruments6', 'demand_instruments7', 'demand_instruments8',\n",
       "       'demand_instruments9'],\n",
       "      dtype='object')"
      ]
     },
     "execution_count": 246,
     "metadata": {},
     "output_type": "execute_result"
    }
   ],
   "source": [
    "# lagged demand instruments\n",
    "# demand_instrument_columns = [col for col in product_data.columns if col.startswith('demand_instrument')]\n",
    "# def lag_demand_instruments(group):\n",
    "#     for col in demand_instrument_columns:\n",
    "#         for i in range(N_DI):  # 0から1までのラグを取得\n",
    "#             lagged_column_name = f'demand_instruments{i+N_DI}'\n",
    "#             group[lagged_column_name] = group[col].shift(1)\n",
    "#     return group\n",
    "# product_data=product_data.sort_values(['薬効分類', 'year'])\n",
    "# product_data = product_data.groupby('id_l4').apply(lag_demand_instruments)\n",
    "# product_data.shape\n",
    "\n",
    "product_data.shape\n",
    "product_data.columns[:30]"
   ]
  },
  {
   "cell_type": "code",
   "execution_count": 247,
   "metadata": {},
   "outputs": [
    {
     "name": "stdout",
     "output_type": "stream",
     "text": [
      "Initializing the problem ...\n",
      "Absorbing demand-side fixed effects ...\n"
     ]
    },
    {
     "name": "stderr",
     "output_type": "stream",
     "text": [
      "Detected collinearity issues with [otc] and at least one other column in X1. Absorbed fixed effects may be creating collinearity problems. To disable collinearity checks, set options.collinear_atol = options.collinear_rtol = 0.\n",
      "Detected collinearity issues with [demand_instruments5, oral, generic, long_run, otc, Pharmacopoeia] and at least one other column in ZD. Absorbed fixed effects may be creating collinearity problems. To disable collinearity checks, set options.collinear_atol = options.collinear_rtol = 0.\n",
      "Detected that the 2SLS weighting matrix is nearly singular with condition number +4.319882E+27. To disable singularity checks, set options.singular_tol = numpy.inf.\n"
     ]
    },
    {
     "name": "stdout",
     "output_type": "stream",
     "text": [
      "Initialized the problem after 00:00:01.\n",
      "\n",
      "Dimensions:\n",
      "======================================\n",
      " T     N     F    K1    MD    ED    H \n",
      "---  -----  ---  ----  ----  ----  ---\n",
      "175  24561  190   7     16    2     4 \n",
      "======================================\n",
      "\n",
      "Formulations:\n",
      "============================================================================================\n",
      "     Column Indices:          0      1         2          3        4       5         6      \n",
      "--------------------------  ------  ----  -----------  -------  --------  ---  -------------\n",
      "X1: Linear Characteristics  prices  oral  in_hospital  generic  long_run  otc  Pharmacopoeia\n",
      "============================================================================================\n",
      "Solving the problem ...\n",
      "\n",
      "Rho Initial Values:\n",
      "=============\n",
      " All Groups  \n",
      "-------------\n",
      "+7.000000E-01\n",
      "=============\n",
      "Starting optimization ...\n",
      "\n",
      "GMM   Computation  Optimization   Objective   Fixed Point  Contraction  Clipped    Objective      Objective      Gradient                  \n",
      "Step     Time       Iterations   Evaluations  Iterations   Evaluations  Shares       Value       Improvement       Norm           Theta    \n",
      "----  -----------  ------------  -----------  -----------  -----------  -------  -------------  -------------  -------------  -------------\n",
      " 1     00:00:01         0             1            0            0          0     +3.188482E+01                 +5.695350E+01  +7.000000E-01\n",
      " 1     00:00:01         0             2            0            0          0     +9.936705E+01                 +5.560081E+00  +1.710000E+00\n",
      " 1     00:00:01         0             3            0            0          0     +5.150907E+01                 +6.181528E+01  +8.024904E-01\n",
      " 1     00:00:01         0             4            0            0          0     +4.758715E+01                 +3.324337E+01  +7.040514E-01\n",
      " 1     00:00:01         0             5            0            0          0     +4.057629E+01                 +2.738464E+01  +7.000098E-01\n",
      " 1     00:00:01         0             6            0            0          0     +4.045186E+01                 +3.065071E+01  +7.000000E-01\n",
      " 1     00:00:01         0             7            0            0          0     +3.188482E+01                 +5.695350E+01  +7.000000E-01\n",
      " 1     00:00:01         0             8            0            0          0     +4.483346E+01                 +3.678174E+01  +7.000000E-01\n",
      " 1     00:00:01         0             9            0            0          0     +3.188482E+01                 +5.695350E+01  +7.000000E-01\n",
      " 1     00:00:01         0            10            0            0          0     +2.472318E+01  +7.161642E+00  +6.223836E+01  +7.000000E-01\n",
      " 1     00:00:01         0            11            0            0          0     +4.890470E+01                 +5.335218E+01  +7.000000E-01\n",
      " 1     00:00:01         0            12            0            0          0     +2.472318E+01                 +6.223836E+01  +7.000000E-01\n",
      " 1     00:00:01         0            13            0            0          0     +3.695887E+01                 +5.385432E+01  +7.000000E-01\n",
      " 1     00:00:01         0            14            0            0          0     +2.472318E+01                 +6.223836E+01  +7.000000E-01\n",
      " 1     00:00:01         0            15            0            0          0     +3.634841E+01                 +4.534731E+01  +7.000000E-01\n",
      " 1     00:00:01         0            16            0            0          0     +2.472318E+01                 +6.223836E+01  +7.000000E-01\n",
      " 1     00:00:01         0            17            0            0          0     +3.531632E+01                 +6.466266E+01  +7.000000E-01\n",
      " 1     00:00:01         0            18            0            0          0     +2.472318E+01                 +6.223836E+01  +7.000000E-01\n",
      " 1     00:00:01         0            19            0            0          0     +4.491398E+01                 +3.629278E+01  +7.000000E-01\n",
      " 1     00:00:01         0            20            0            0          0     +2.472318E+01                 +6.223836E+01  +7.000000E-01\n",
      " 1     00:00:01         0            21            0            0          0     +2.971964E+01                 +3.430620E+01  +7.000000E-01\n",
      " 1     00:00:01         1            22            0            0          0     +3.851944E+01                 +4.947857E+01  +7.000000E-01\n",
      " 1     00:00:01         1            23            0            0          0     +2.971964E+01                 +3.430620E+01  +7.000000E-01\n",
      " 1     00:00:01         1            24            0            0          0     +4.813320E+01                 +4.884029E+01  +7.000000E-01\n",
      " 1     00:00:01         1            25            0            0          0     +2.971964E+01                 +3.430620E+01  +7.000000E-01\n",
      " 1     00:00:01         1            26            0            0          0     +3.683590E+01                 +4.980942E+01  +7.000000E-01\n",
      " 1     00:00:01         1            27            0            0          0     +2.971964E+01                 +3.430620E+01  +7.000000E-01\n",
      " 1     00:00:01         1            28            0            0          0     +4.237842E+01                 +4.338854E+01  +7.000000E-01\n",
      " 1     00:00:01         1            29            0            0          0     +2.971964E+01                 +3.430620E+01  +7.000000E-01\n",
      " 1     00:00:02         1            30            0            0          0     +4.521994E+01                 +5.712039E+01  +7.000000E-01\n",
      " 1     00:00:01         1            31            0            0          0     +2.971964E+01                 +3.430620E+01  +7.000000E-01\n",
      " 1     00:00:01         1            32            0            0          0     +5.275635E+01                 +5.159544E+01  +7.000000E-01\n",
      " 1     00:00:01         1            33            0            0          0     +2.971964E+01                 +3.430620E+01  +7.000000E-01\n",
      " 1     00:00:01         1            34            0            0          0     +3.400462E+01                 +7.990237E+01  +7.000000E-01\n",
      " 1     00:00:01         1            35            0            0          0     +2.971964E+01                 +3.430620E+01  +7.000000E-01\n",
      " 1     00:00:01         1            36            0            0          0     +4.828692E+01                 +5.932802E+01  +7.000000E-01\n",
      " 1     00:00:01         1            37            0            0          0     +2.971964E+01                 +3.430620E+01  +7.000000E-01\n",
      " 1     00:00:01         1            38            0            0          0     +4.626813E+01                 +5.424812E+01  +7.000000E-01\n",
      " 1     00:00:01         1            39            0            0          0     +2.971964E+01                 +3.430620E+01  +7.000000E-01\n",
      " 1     00:00:01         1            40            0            0          0     +2.548004E+01                 +5.138463E+01  +7.000000E-01\n",
      " 1     00:00:01         1            41            0            0          0     +3.932901E+01                 +3.587262E+01  +7.000000E-01\n",
      " 1     00:00:01         1            42            0            0          0     +2.548004E+01                 +5.138463E+01  +7.000000E-01\n",
      " 1     00:00:01         1            43            0            0          0     +3.837451E+01                 +4.222763E+01  +7.000000E-01\n",
      " 1     00:00:01         1            44            0            0          0     +2.548004E+01                 +5.138463E+01  +7.000000E-01\n",
      " 1     00:00:01         1            45            0            0          0     +3.744490E+01                 +6.968400E+01  +7.000000E-01\n",
      " 1     00:00:01         1            46            0            0          0     +2.548004E+01                 +5.138463E+01  +7.000000E-01\n",
      " 1     00:00:01         1            47            0            0          0     +3.682126E+01                 +5.362448E+01  +7.000000E-01\n",
      " 1     00:00:01         1            48            0            0          0     +2.548004E+01                 +5.138463E+01  +7.000000E-01\n",
      " 1     00:00:01         1            49            0            0          0     +5.175648E+01                 +4.496668E+01  +7.000000E-01\n",
      " 1     00:00:01         1            50            0            0          0     +2.548004E+01                 +5.138463E+01  +7.000000E-01\n",
      "\n",
      "GMM   Computation  Optimization   Objective   Fixed Point  Contraction  Clipped    Objective      Objective      Gradient                  \n",
      "Step     Time       Iterations   Evaluations  Iterations   Evaluations  Shares       Value       Improvement       Norm           Theta    \n",
      "----  -----------  ------------  -----------  -----------  -----------  -------  -------------  -------------  -------------  -------------\n",
      " 1     00:00:01         1            51            0            0          0     +3.851944E+01                 +4.947857E+01  +7.000000E-01\n",
      " 1     00:00:01         1            52            0            0          0     +4.813320E+01                 +4.884029E+01  +7.000000E-01\n",
      " 1     00:00:01         1            53            0            0          0     +3.683590E+01                 +4.980942E+01  +7.000000E-01\n",
      " 1     00:00:01         1            54            0            0          0     +4.237842E+01                 +4.338854E+01  +7.000000E-01\n",
      " 1     00:00:01         1            55            0            0          0     +4.521994E+01                 +5.712039E+01  +7.000000E-01\n",
      " 1     00:00:01         1            56            0            0          0     +5.275635E+01                 +5.159544E+01  +7.000000E-01\n",
      " 1     00:00:01         1            57            0            0          0     +3.400462E+01                 +7.990237E+01  +7.000000E-01\n",
      " 1     00:00:01         1            58            0            0          0     +4.828692E+01                 +5.932802E+01  +7.000000E-01\n",
      " 1     00:00:01         1            59            0            0          0     +4.626813E+01                 +5.424812E+01  +7.000000E-01\n",
      " 1     00:00:01         1            60            0            0          0     +2.548004E+01                 +5.138463E+01  +7.000000E-01\n",
      " 1     00:00:01         1            61            0            0          0     +3.932901E+01                 +3.587262E+01  +7.000000E-01\n",
      " 1     00:00:01         1            62            0            0          0     +3.837451E+01                 +4.222763E+01  +7.000000E-01\n",
      "\n",
      "The optimization routine failed to converge. This problem can sometimes be mitigated by choosing more reasonable initial parameter values, setting more conservative bounds, or configuring other optimization settings.\n",
      "\n",
      "\n",
      "Optimization failed after 00:00:47.\n",
      "Computing the Hessian and and updating the weighting matrix ...\n"
     ]
    },
    {
     "name": "stderr",
     "output_type": "stream",
     "text": [
      "Detected that the estimated covariance matrix of aggregate GMM moments is nearly singular with condition number +3.540958E+27. To disable singularity checks, set options.singular_tol = numpy.inf.\n"
     ]
    },
    {
     "name": "stdout",
     "output_type": "stream",
     "text": [
      "Computed results after 00:00:03.\n",
      "\n",
      "Problem Results Summary:\n",
      "============================================================================\n",
      "GMM     Objective      Gradient                    Clipped  Weighting Matrix\n",
      "Step      Value          Norm          Hessian     Shares   Condition Number\n",
      "----  -------------  -------------  -------------  -------  ----------------\n",
      " 1    +2.971964E+01  +3.430620E+01  +1.348890E+09     0      +9.055541E+26  \n",
      "============================================================================\n",
      "\n",
      "Starting optimization ...\n",
      "\n",
      "GMM   Computation  Optimization   Objective   Fixed Point  Contraction  Clipped    Objective      Objective      Gradient                  \n",
      "Step     Time       Iterations   Evaluations  Iterations   Evaluations  Shares       Value       Improvement       Norm           Theta    \n",
      "----  -----------  ------------  -----------  -----------  -----------  -------  -------------  -------------  -------------  -------------\n",
      " 2     00:00:01         0             1            0            0          0     +7.091347E+01                 +7.009762E+01  +7.000000E-01\n",
      " 2     00:00:01         0             2            0            0          0     +7.236165E+01                 +7.296530E+01  +1.710000E+00\n",
      " 2     00:00:01         0             3            0            0          0     +5.356861E+01  +1.734486E+01  +2.404287E-08  +1.194877E+00\n",
      "\n",
      "Optimization completed after 00:00:02.\n",
      "Computing the Hessian and estimating standard errors ...\n",
      "Computed results after 00:00:02.\n",
      "\n",
      "Problem Results Summary:\n",
      "===============================================================================================\n",
      "GMM     Objective      Gradient                    Clipped  Weighting Matrix  Covariance Matrix\n",
      "Step      Value          Norm          Hessian     Shares   Condition Number  Condition Number \n",
      "----  -------------  -------------  -------------  -------  ----------------  -----------------\n",
      " 2    +5.356861E+01  +2.404287E-08  +1.416466E+02     0      +2.497990E+41      +9.801703E+36  \n",
      "===============================================================================================\n",
      "\n",
      "Cumulative Statistics:\n",
      "=================================================\n",
      "Computation  Optimizer  Optimization   Objective \n",
      "   Time      Converged   Iterations   Evaluations\n",
      "-----------  ---------  ------------  -----------\n",
      " 00:00:54       No           2            67     \n",
      "=================================================\n",
      "\n",
      "Rho Estimates (Robust SEs in Parentheses):\n",
      "===============\n",
      "  All Groups   \n",
      "---------------\n",
      " +1.194877E+00 \n",
      "(+1.006169E-01)\n",
      "===============\n",
      "\n",
      "Beta Estimates (Robust SEs in Parentheses):\n",
      "=====================================================================================================================\n",
      "    prices            oral          in_hospital        generic         long_run            otc         Pharmacopoeia \n",
      "---------------  ---------------  ---------------  ---------------  ---------------  ---------------  ---------------\n",
      " +3.279216E-05    +2.208584E+00    -9.691610E-02    +2.838332E-02    -1.142482E-01    -5.572930E-19    +1.580031E-01 \n",
      "(+6.268383E-05)  (+4.658236E-02)  (+4.834136E-02)  (+3.089502E-02)  (+3.782449E-02)  (+1.556112E-20)  (+9.443528E-03)\n",
      "=====================================================================================================================\n"
     ]
    },
    {
     "name": "stderr",
     "output_type": "stream",
     "text": [
      "Detected that the estimated covariance matrix of aggregate GMM moments is nearly singular with condition number +2.589672E+27. To disable singularity checks, set options.singular_tol = numpy.inf.\n",
      "Detected that the estimated covariance matrix of aggregate GMM moments is nearly singular with condition number +2.593338E+27. To disable singularity checks, set options.singular_tol = numpy.inf.\n"
     ]
    },
    {
     "data": {
      "text/plain": [
       "Problem Results Summary:\n",
       "===============================================================================================\n",
       "GMM     Objective      Gradient                    Clipped  Weighting Matrix  Covariance Matrix\n",
       "Step      Value          Norm          Hessian     Shares   Condition Number  Condition Number \n",
       "----  -------------  -------------  -------------  -------  ----------------  -----------------\n",
       " 2    +5.356861E+01  +2.404287E-08  +1.416466E+02     0      +2.497990E+41      +9.801703E+36  \n",
       "===============================================================================================\n",
       "\n",
       "Cumulative Statistics:\n",
       "=================================================\n",
       "Computation  Optimizer  Optimization   Objective \n",
       "   Time      Converged   Iterations   Evaluations\n",
       "-----------  ---------  ------------  -----------\n",
       " 00:00:54       No           2            67     \n",
       "=================================================\n",
       "\n",
       "Rho Estimates (Robust SEs in Parentheses):\n",
       "===============\n",
       "  All Groups   \n",
       "---------------\n",
       " +1.194877E+00 \n",
       "(+1.006169E-01)\n",
       "===============\n",
       "\n",
       "Beta Estimates (Robust SEs in Parentheses):\n",
       "=====================================================================================================================\n",
       "    prices            oral          in_hospital        generic         long_run            otc         Pharmacopoeia \n",
       "---------------  ---------------  ---------------  ---------------  ---------------  ---------------  ---------------\n",
       " +3.279216E-05    +2.208584E+00    -9.691610E-02    +2.838332E-02    -1.142482E-01    -5.572930E-19    +1.580031E-01 \n",
       "(+6.268383E-05)  (+4.658236E-02)  (+4.834136E-02)  (+3.089502E-02)  (+3.782449E-02)  (+1.556112E-20)  (+9.443528E-03)\n",
       "====================================================================================================================="
      ]
     },
     "execution_count": 247,
     "metadata": {},
     "output_type": "execute_result"
    }
   ],
   "source": [
    "product_data[\"nesting_ids\"]=product_data[\"oral\"].astype(int).astype(str)+product_data[\"otc\"].astype(int).astype(str)\n",
    "logit_formulation= pyblp.Formulation('1+prices+oral+in_hospital+generic+long_run+otc+Pharmacopoeia', absorb='C(market_ids)+C(firm_ids)')\n",
    "if drop_sotc and drop_otc:\n",
    "    logit_formulation= pyblp.Formulation('1+prices+oral+in_hospital+generic+long_run+Pharmacopoeia', absorb='C(market_ids)+C(firm_ids)')\n",
    "# logit_formulation= pyblp.Formulation('prices+oral+in_hospital+long_run', absorb='C(market_ids)+C(firm_ids)')\n",
    "logit_formulation\n",
    "# product_data[\"shares\"]-=1e-10\n",
    "# typeで怒られがち\n",
    "problem = pyblp.Problem(product_formulations=logit_formulation, product_data=product_data)\n",
    "# problem\n",
    "optimization=pyblp.Optimization('bfgs')\n",
    "logit_results = problem.solve(rho=0.7, optimization=optimization)\n",
    "logit_results"
   ]
  },
  {
   "cell_type": "code",
   "execution_count": 248,
   "metadata": {},
   "outputs": [
    {
     "name": "stdout",
     "output_type": "stream",
     "text": [
      "-0.0002 -11.3332 0.4973 -0.1456 0.5863 0.0000 -0.8108\n",
      " 0.0001   0.0466 0.0483  0.0309 0.0378 0.0000  0.0094\n"
     ]
    }
   ],
   "source": [
    "# print(np.round(logit_results.beta.T/(1-logit_results.rho),4))\n",
    "# print(np.round(logit_results.beta_se.T,6))\n",
    "data = np.vstack((logit_results.beta.T/(1-logit_results.rho),\n",
    "logit_results.beta_se.T))\n",
    "\n",
    "# Find the maximum width for each column\n",
    "max_widths = [max(len(f\"{num:.4f}\") for num in col) for col in zip(*data)]\n",
    "\n",
    "# Format and print the aligned data\n",
    "for row in data:\n",
    "    formatted_row = [f\"{num:.4f}\".rjust(max_width) for num, max_width in zip(row, max_widths)]\n",
    "    print(\" \".join(formatted_row))"
   ]
  },
  {
   "cell_type": "code",
   "execution_count": 249,
   "metadata": {},
   "outputs": [
    {
     "name": "stdout",
     "output_type": "stream",
     "text": [
      "Computing optimal instruments for theta ...\n",
      "Computed optimal instruments after 00:00:01.\n",
      "\n",
      "Optimal Instrument Results Summary:\n",
      "=======================\n",
      "Computation  Error Term\n",
      "   Time        Draws   \n",
      "-----------  ----------\n",
      " 00:00:01        1     \n",
      "=======================\n"
     ]
    },
    {
     "data": {
      "text/plain": [
       "Optimal Instrument Results Summary:\n",
       "=======================\n",
       "Computation  Error Term\n",
       "   Time        Draws   \n",
       "-----------  ----------\n",
       " 00:00:01        1     \n",
       "======================="
      ]
     },
     "execution_count": 249,
     "metadata": {},
     "output_type": "execute_result"
    }
   ],
   "source": [
    "instruments_results=logit_results.compute_optimal_instruments()\n",
    "instruments_results"
   ]
  },
  {
   "cell_type": "code",
   "execution_count": 250,
   "metadata": {},
   "outputs": [
    {
     "name": "stdout",
     "output_type": "stream",
     "text": [
      "Re-creating the problem ...\n",
      "Absorbing demand-side fixed effects ...\n"
     ]
    },
    {
     "name": "stderr",
     "output_type": "stream",
     "text": [
      "Detected collinearity issues with [otc] and at least one other column in X1. Absorbed fixed effects may be creating collinearity problems. To disable collinearity checks, set options.collinear_atol = options.collinear_rtol = 0.\n",
      "Detected collinearity issues with [otc] and at least one other column in ZD. Absorbed fixed effects may be creating collinearity problems. To disable collinearity checks, set options.collinear_atol = options.collinear_rtol = 0.\n",
      "Detected that the 2SLS weighting matrix is nearly singular with condition number +6.545904E+31. To disable singularity checks, set options.singular_tol = numpy.inf.\n"
     ]
    },
    {
     "name": "stdout",
     "output_type": "stream",
     "text": [
      "Re-created the problem after 00:00:00.\n",
      "\n",
      "Dimensions:\n",
      "======================================\n",
      " T     N     F    K1    MD    ED    H \n",
      "---  -----  ---  ----  ----  ----  ---\n",
      "175  24561  190   7     8     2     4 \n",
      "======================================\n",
      "\n",
      "Formulations:\n",
      "============================================================================================\n",
      "     Column Indices:          0      1         2          3        4       5         6      \n",
      "--------------------------  ------  ----  -----------  -------  --------  ---  -------------\n",
      "X1: Linear Characteristics  prices  oral  in_hospital  generic  long_run  otc  Pharmacopoeia\n",
      "============================================================================================\n",
      "Solving the problem ...\n",
      "\n",
      "Rho Initial Values:\n",
      "=============\n",
      " All Groups  \n",
      "-------------\n",
      "+7.000000E-01\n",
      "=============\n",
      "Starting optimization ...\n",
      "\n",
      "GMM   Computation  Optimization   Objective   Fixed Point  Contraction  Clipped    Objective      Objective      Gradient                  \n",
      "Step     Time       Iterations   Evaluations  Iterations   Evaluations  Shares       Value       Improvement       Norm           Theta    \n",
      "----  -----------  ------------  -----------  -----------  -----------  -------  -------------  -------------  -------------  -------------\n",
      " 1     00:00:01         0             1            0            0          0     +1.689384E+03                 +4.145623E+02  +7.000000E-01\n",
      " 1     00:00:01         0             2            0            0          0     +1.296619E+03  +3.927644E+02  +3.631888E+02  -3.100000E-01\n",
      " 1     00:00:01         1             3            0            0          0     +6.246005E+02  +6.720186E+02  +2.520748E+02  -2.494495E+00\n",
      " 1     00:00:01         2             4            0            0          0     +1.965480E-06  +6.246005E+02  +3.376234E-07  -7.450270E+00\n",
      "\n",
      "Optimization completed after 00:00:03.\n",
      "Computing the Hessian and and updating the weighting matrix ...\n"
     ]
    },
    {
     "name": "stderr",
     "output_type": "stream",
     "text": [
      "Detected that the estimated covariance matrix of aggregate GMM moments is nearly singular with condition number +1.016788E+32. To disable singularity checks, set options.singular_tol = numpy.inf.\n"
     ]
    },
    {
     "name": "stdout",
     "output_type": "stream",
     "text": [
      "Computed results after 00:00:02.\n",
      "\n",
      "Problem Results Summary:\n",
      "============================================================================\n",
      "GMM     Objective      Gradient                    Clipped  Weighting Matrix\n",
      "Step      Value          Norm          Hessian     Shares   Condition Number\n",
      "----  -------------  -------------  -------------  -------  ----------------\n",
      " 1    +1.965480E-06  +3.376234E-07  +5.086390E+01     0          +INF       \n",
      "============================================================================\n",
      "\n",
      "Starting optimization ...\n",
      "\n",
      "GMM   Computation  Optimization   Objective   Fixed Point  Contraction  Clipped    Objective      Objective      Gradient                  \n",
      "Step     Time       Iterations   Evaluations  Iterations   Evaluations  Shares       Value       Improvement       Norm           Theta    \n",
      "----  -----------  ------------  -----------  -----------  -----------  -------  -------------  -------------  -------------  -------------\n",
      " 2     00:00:01         0             1            0            0          0     +5.967925E-10                 +1.611155E-05  -7.450270E+00\n",
      " 2     00:00:01         0             2            0            0          0     +3.654374E-10  +2.313551E-10  +1.260760E-05  -7.450254E+00\n",
      " 2     00:00:01         1             3            0            0          0     +4.751297E-11  +3.179244E-10  +4.546025E-06  -7.450217E+00\n",
      "\n",
      "Optimization completed after 00:00:02.\n",
      "Computing the Hessian and estimating standard errors ...\n",
      "Computed results after 00:00:02.\n",
      "\n",
      "Problem Results Summary:\n",
      "===============================================================================================\n",
      "GMM     Objective      Gradient                    Clipped  Weighting Matrix  Covariance Matrix\n",
      "Step      Value          Norm          Hessian     Shares   Condition Number  Condition Number \n",
      "----  -------------  -------------  -------------  -------  ----------------  -----------------\n",
      " 2    +4.751297E-11  +4.546025E-06  +2.174810E-01     0      +2.774150E+32      +4.645719E+38  \n",
      "===============================================================================================\n",
      "\n",
      "Cumulative Statistics:\n",
      "=================================================\n",
      "Computation  Optimizer  Optimization   Objective \n",
      "   Time      Converged   Iterations   Evaluations\n",
      "-----------  ---------  ------------  -----------\n",
      " 00:00:09       Yes          5             9     \n",
      "=================================================\n",
      "\n",
      "Rho Estimates (Robust SEs in Parentheses):\n",
      "===============\n",
      "  All Groups   \n",
      "---------------\n",
      " -7.450217E+00 \n",
      "(+3.032505E+00)\n",
      "===============\n",
      "\n",
      "Beta Estimates (Robust SEs in Parentheses):\n",
      "=====================================================================================================================\n",
      "    prices            oral          in_hospital        generic         long_run            otc         Pharmacopoeia \n",
      "---------------  ---------------  ---------------  ---------------  ---------------  ---------------  ---------------\n",
      " -6.197882E-04    +3.701516E+00    +3.999335E+00    -1.752715E+00    +1.678211E+00    -6.517541E-19    +1.779534E-01 \n",
      "(+1.550840E-03)  (+7.284722E-01)  (+1.442354E+00)  (+8.825594E-01)  (+1.005372E+00)  (+1.145355E-19)  (+2.267285E-01)\n",
      "=====================================================================================================================\n"
     ]
    },
    {
     "name": "stderr",
     "output_type": "stream",
     "text": [
      "Detected that the estimated covariance matrix of aggregate GMM moments is nearly singular with condition number +1.016775E+32. To disable singularity checks, set options.singular_tol = numpy.inf.\n",
      "Detected that the estimated covariance matrix of aggregate GMM moments is nearly singular with condition number +1.016775E+32. To disable singularity checks, set options.singular_tol = numpy.inf.\n"
     ]
    },
    {
     "data": {
      "text/plain": [
       "Problem Results Summary:\n",
       "===============================================================================================\n",
       "GMM     Objective      Gradient                    Clipped  Weighting Matrix  Covariance Matrix\n",
       "Step      Value          Norm          Hessian     Shares   Condition Number  Condition Number \n",
       "----  -------------  -------------  -------------  -------  ----------------  -----------------\n",
       " 2    +4.751297E-11  +4.546025E-06  +2.174810E-01     0      +2.774150E+32      +4.645719E+38  \n",
       "===============================================================================================\n",
       "\n",
       "Cumulative Statistics:\n",
       "=================================================\n",
       "Computation  Optimizer  Optimization   Objective \n",
       "   Time      Converged   Iterations   Evaluations\n",
       "-----------  ---------  ------------  -----------\n",
       " 00:00:09       Yes          5             9     \n",
       "=================================================\n",
       "\n",
       "Rho Estimates (Robust SEs in Parentheses):\n",
       "===============\n",
       "  All Groups   \n",
       "---------------\n",
       " -7.450217E+00 \n",
       "(+3.032505E+00)\n",
       "===============\n",
       "\n",
       "Beta Estimates (Robust SEs in Parentheses):\n",
       "=====================================================================================================================\n",
       "    prices            oral          in_hospital        generic         long_run            otc         Pharmacopoeia \n",
       "---------------  ---------------  ---------------  ---------------  ---------------  ---------------  ---------------\n",
       " -6.197882E-04    +3.701516E+00    +3.999335E+00    -1.752715E+00    +1.678211E+00    -6.517541E-19    +1.779534E-01 \n",
       "(+1.550840E-03)  (+7.284722E-01)  (+1.442354E+00)  (+8.825594E-01)  (+1.005372E+00)  (+1.145355E-19)  (+2.267285E-01)\n",
       "====================================================================================================================="
      ]
     },
     "execution_count": 250,
     "metadata": {},
     "output_type": "execute_result"
    }
   ],
   "source": [
    "updated_problem=instruments_results.to_problem()\n",
    "updated_results=updated_problem.solve(rho=0.7,optimization=optimization)\n",
    "updated_results"
   ]
  },
  {
   "cell_type": "code",
   "execution_count": 251,
   "metadata": {},
   "outputs": [
    {
     "name": "stdout",
     "output_type": "stream",
     "text": [
      "[[-1.000e-04  4.380e-01  4.733e-01 -2.074e-01  1.986e-01 -0.000e+00\n",
      "   2.110e-02]]\n"
     ]
    }
   ],
   "source": [
    "print(np.round(updated_results.beta.T/(1-updated_results.rho),4))"
   ]
  },
  {
   "cell_type": "code",
   "execution_count": 252,
   "metadata": {},
   "outputs": [
    {
     "name": "stdout",
     "output_type": "stream",
     "text": [
      "Computing marginal costs ...\n",
      "Finished after 00:00:01.\n",
      "\n"
     ]
    },
    {
     "data": {
      "image/png": "[encoded data removed]",
      "text/plain": [
       "<Figure size 432x288 with 1 Axes>"
      ]
     },
     "metadata": {
      "needs_background": "light"
     },
     "output_type": "display_data"
    },
    {
     "name": "stdout",
     "output_type": "stream",
     "text": [
      "Computing markups ...\n",
      "Finished after 00:00:00.\n",
      "\n"
     ]
    },
    {
     "data": {
      "text/plain": [
       "<matplotlib.legend.Legend at 0x1e6d3536230>"
      ]
     },
     "execution_count": 252,
     "metadata": {},
     "output_type": "execute_result"
    },
    {
     "data": {
      "image/png": "[encoded data removed]",
      "text/plain": [
       "<Figure size 432x288 with 1 Axes>"
      ]
     },
     "metadata": {
      "needs_background": "light"
     },
     "output_type": "display_data"
    }
   ],
   "source": [
    "costs = updated_results.compute_costs()\n",
    "plt.hist(costs, bins=50)\n",
    "plt.legend([\"Marginal Costs\"])\n",
    "plt.show()\n",
    "markups = updated_results.compute_markups(costs=costs)\n",
    "plt.hist(markups, bins=50)\n",
    "plt.legend([\"Markups\"])"
   ]
  },
  {
   "cell_type": "code",
   "execution_count": 253,
   "metadata": {},
   "outputs": [
    {
     "name": "stdout",
     "output_type": "stream",
     "text": [
      "Computing consumer surpluses with the equation that assumes away nonlinear income effects ...\n",
      "Finished after 00:00:00.\n",
      "\n"
     ]
    },
    {
     "data": {
      "text/plain": [
       "(array([55194.75062668]), 315.3985750095825)"
      ]
     },
     "execution_count": 253,
     "metadata": {},
     "output_type": "execute_result"
    }
   ],
   "source": [
    "cs=updated_results.compute_consumer_surpluses()\n",
    "sum(cs),np.mean(cs)"
   ]
  },
  {
   "cell_type": "code",
   "execution_count": 254,
   "metadata": {},
   "outputs": [],
   "source": [
    "import datetime\n",
    "\n",
    "# Get the current date and time\n",
    "current_time = datetime.datetime.now()\n",
    "\n",
    "# Format the time as a string\n",
    "time_string = current_time.strftime(\"%Y-%m-%d_%H-%M-%S\")\n",
    "if save:\n",
    "    logit_results.to_pickle(f\"./results/MNL_len3_{time_string}.pkl\")"
   ]
  },
  {
   "cell_type": "code",
   "execution_count": 255,
   "metadata": {},
   "outputs": [
    {
     "name": "stdout",
     "output_type": "stream",
     "text": [
      "Computing elasticities with respect to prices ...\n",
      "Finished after 00:00:00.\n",
      "\n"
     ]
    }
   ],
   "source": [
    "elasticities = logit_results.compute_elasticities()"
   ]
  },
  {
   "cell_type": "code",
   "execution_count": 256,
   "metadata": {},
   "outputs": [
    {
     "data": {
      "text/plain": [
       "<matplotlib.colorbar.Colorbar at 0x1e6c94f51b0>"
      ]
     },
     "execution_count": 256,
     "metadata": {},
     "output_type": "execute_result"
    },
    {
     "data": {
      "image/png": "[encoded data removed]",
      "text/plain": [
       "<Figure size 288x288 with 2 Axes>"
      ]
     },
     "metadata": {
      "needs_background": "light"
     },
     "output_type": "display_data"
    }
   ],
   "source": [
    "%matplotlib inline\n",
    "import matplotlib.pyplot as plt\n",
    "single_market = product_data['market_ids'] == '131-2015'\n",
    "K=sum(single_market)\n",
    "plt.colorbar(plt.matshow(elasticities[single_market][:,:K]))"
   ]
  },
  {
   "cell_type": "code",
   "execution_count": 257,
   "metadata": {},
   "outputs": [
    {
     "data": {
      "text/plain": [
       "((156, 24), 156)"
      ]
     },
     "execution_count": 257,
     "metadata": {},
     "output_type": "execute_result"
    }
   ],
   "source": [
    "product_data[single_market].shape,K"
   ]
  },
  {
   "cell_type": "code",
   "execution_count": 258,
   "metadata": {},
   "outputs": [
    {
     "data": {
      "text/plain": [
       "array([[-2.89761222e-04,  1.79164018e-03, -3.14042995e-06, ...,\n",
       "        -1.46427285e-06, -2.39475584e-07, -4.67724511e-09],\n",
       "       [ 7.43386821e-03, -5.93198925e-03, -3.14042995e-06, ...,\n",
       "        -1.46427285e-06, -2.39475584e-07, -4.67724511e-09],\n",
       "       [-2.64408260e-06, -6.37251629e-07, -4.34023501e-03, ...,\n",
       "         1.02533324e-04,  1.67688881e-05, -4.67724511e-09],\n",
       "       ...,\n",
       "       [-2.64408260e-06, -6.37251629e-07,  2.19903498e-04, ...,\n",
       "        -8.11554330e-02,  1.67688881e-05, -4.67724511e-09],\n",
       "       [-2.64408260e-06, -6.37251629e-07,  2.19903498e-04, ...,\n",
       "         1.02533324e-04, -1.42525944e-02, -4.67724511e-09],\n",
       "       [-2.64408260e-06, -6.37251629e-07, -3.14042995e-06, ...,\n",
       "        -1.46427285e-06, -2.39475584e-07,  2.48876819e-03]])"
      ]
     },
     "execution_count": 258,
     "metadata": {},
     "output_type": "execute_result"
    }
   ],
   "source": [
    "elasticities[single_market][:,:K]"
   ]
  },
  {
   "cell_type": "code",
   "execution_count": 259,
   "metadata": {},
   "outputs": [
    {
     "name": "stdout",
     "output_type": "stream",
     "text": [
      "Computing diversion ratios with respect to prices ...\n"
     ]
    },
    {
     "name": "stdout",
     "output_type": "stream",
     "text": [
      "Finished after 00:00:00.\n",
      "\n"
     ]
    },
    {
     "data": {
      "text/plain": [
       "<matplotlib.colorbar.Colorbar at 0x1e6cca8df30>"
      ]
     },
     "execution_count": 259,
     "metadata": {},
     "output_type": "execute_result"
    },
    {
     "data": {
      "image/png": "[encoded data removed]",
      "text/plain": [
       "<Figure size 288x288 with 2 Axes>"
      ]
     },
     "metadata": {
      "needs_background": "light"
     },
     "output_type": "display_data"
    }
   ],
   "source": [
    "diversions = logit_results.compute_diversion_ratios()\n",
    "plt.colorbar(plt.matshow(diversions[single_market][:,:K]))"
   ]
  }
 ],
 "metadata": {
  "kernelspec": {
   "display_name": "Python 3",
   "language": "python",
   "name": "python3"
  },
  "language_info": {
   "codemirror_mode": {
    "name": "ipython",
    "version": 3
   },
   "file_extension": ".py",
   "mimetype": "text/x-python",
   "name": "python",
   "nbconvert_exporter": "python",
   "pygments_lexer": "ipython3",
   "version": "3.10.4"
  },
  "orig_nbformat": 4
 },
 "nbformat": 4,
 "nbformat_minor": 2
}
