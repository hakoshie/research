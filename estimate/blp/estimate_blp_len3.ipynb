{
 "cells": [
  {
   "cell_type": "code",
   "execution_count": 3,
   "metadata": {},
   "outputs": [],
   "source": [
    "import pandas as pd\n",
    "import numpy as np\n",
    "import statsmodels.api as sm\n",
    "# from linearmodels.panel.data import PanelData\n",
    "# from linearmodels.panel import PanelOLS, PooledOLS, RandomEffects, compare\n",
    "import matplotlib.pyplot as plt\n",
    "import pyblp"
   ]
  },
  {
   "cell_type": "code",
   "execution_count": 4,
   "metadata": {},
   "outputs": [
    {
     "data": {
      "text/html": [
       "<div>\n",
       "<style scoped>\n",
       "    .dataframe tbody tr th:only-of-type {\n",
       "        vertical-align: middle;\n",
       "    }\n",
       "\n",
       "    .dataframe tbody tr th {\n",
       "        vertical-align: top;\n",
       "    }\n",
       "\n",
       "    .dataframe thead th {\n",
       "        text-align: right;\n",
       "    }\n",
       "</style>\n",
       "<table border=\"1\" class=\"dataframe\">\n",
       "  <thead>\n",
       "    <tr style=\"text-align: right;\">\n",
       "      <th></th>\n",
       "      <th>薬効分類</th>\n",
       "      <th>薬効分類名称</th>\n",
       "      <th>医薬品コード</th>\n",
       "      <th>医薬品名</th>\n",
       "      <th>薬価基準収載医薬品コード</th>\n",
       "      <th>prices</th>\n",
       "      <th>後発品区分</th>\n",
       "      <th>総計</th>\n",
       "      <th>year</th>\n",
       "      <th>in_hospital</th>\n",
       "      <th>...</th>\n",
       "      <th>id_449.0</th>\n",
       "      <th>id_625.0</th>\n",
       "      <th>id_629.0</th>\n",
       "      <th>id_799.0</th>\n",
       "      <th>q_share</th>\n",
       "      <th>shares</th>\n",
       "      <th>generic_share_q</th>\n",
       "      <th>demand_instruments2</th>\n",
       "      <th>y_sq</th>\n",
       "      <th>market_ids</th>\n",
       "    </tr>\n",
       "  </thead>\n",
       "  <tbody>\n",
       "    <tr>\n",
       "      <th>0</th>\n",
       "      <td>114.0</td>\n",
       "      <td>解熱鎮痛消炎剤</td>\n",
       "      <td>620007096.0</td>\n",
       "      <td>ボルタレン錠２５ｍｇ</td>\n",
       "      <td>1147002F1560</td>\n",
       "      <td>13.1</td>\n",
       "      <td>0.0</td>\n",
       "      <td>2.489539e+07</td>\n",
       "      <td>2014.0</td>\n",
       "      <td>1</td>\n",
       "      <td>...</td>\n",
       "      <td>0.0</td>\n",
       "      <td>0.0</td>\n",
       "      <td>0.0</td>\n",
       "      <td>0.0</td>\n",
       "      <td>0.007258</td>\n",
       "      <td>0.002068</td>\n",
       "      <td>0.236142</td>\n",
       "      <td>0.053889</td>\n",
       "      <td>4056196.0</td>\n",
       "      <td>114-2014</td>\n",
       "    </tr>\n",
       "    <tr>\n",
       "      <th>1</th>\n",
       "      <td>114.0</td>\n",
       "      <td>解熱鎮痛消炎剤</td>\n",
       "      <td>620007095.0</td>\n",
       "      <td>ボルタレンＳＲカプセル３７．５ｍｇ</td>\n",
       "      <td>1147002N1174</td>\n",
       "      <td>23.2</td>\n",
       "      <td>0.0</td>\n",
       "      <td>1.024590e+07</td>\n",
       "      <td>2014.0</td>\n",
       "      <td>1</td>\n",
       "      <td>...</td>\n",
       "      <td>0.0</td>\n",
       "      <td>0.0</td>\n",
       "      <td>0.0</td>\n",
       "      <td>0.0</td>\n",
       "      <td>0.002987</td>\n",
       "      <td>0.001507</td>\n",
       "      <td>0.236142</td>\n",
       "      <td>0.053889</td>\n",
       "      <td>4056196.0</td>\n",
       "      <td>114-2014</td>\n",
       "    </tr>\n",
       "    <tr>\n",
       "      <th>2</th>\n",
       "      <td>114.0</td>\n",
       "      <td>解熱鎮痛消炎剤</td>\n",
       "      <td>620007096.0</td>\n",
       "      <td>ボルタレン錠２５ｍｇ</td>\n",
       "      <td>1147002F1560</td>\n",
       "      <td>13.1</td>\n",
       "      <td>0.0</td>\n",
       "      <td>5.025912e+07</td>\n",
       "      <td>2014.0</td>\n",
       "      <td>0</td>\n",
       "      <td>...</td>\n",
       "      <td>0.0</td>\n",
       "      <td>0.0</td>\n",
       "      <td>0.0</td>\n",
       "      <td>0.0</td>\n",
       "      <td>0.014653</td>\n",
       "      <td>0.004175</td>\n",
       "      <td>0.236142</td>\n",
       "      <td>0.053889</td>\n",
       "      <td>4056196.0</td>\n",
       "      <td>114-2014</td>\n",
       "    </tr>\n",
       "    <tr>\n",
       "      <th>3</th>\n",
       "      <td>114.0</td>\n",
       "      <td>解熱鎮痛消炎剤</td>\n",
       "      <td>620007095.0</td>\n",
       "      <td>ボルタレンＳＲカプセル３７．５ｍｇ</td>\n",
       "      <td>1147002N1174</td>\n",
       "      <td>23.2</td>\n",
       "      <td>0.0</td>\n",
       "      <td>2.742935e+07</td>\n",
       "      <td>2014.0</td>\n",
       "      <td>0</td>\n",
       "      <td>...</td>\n",
       "      <td>0.0</td>\n",
       "      <td>0.0</td>\n",
       "      <td>0.0</td>\n",
       "      <td>0.0</td>\n",
       "      <td>0.007997</td>\n",
       "      <td>0.004036</td>\n",
       "      <td>0.236142</td>\n",
       "      <td>0.053889</td>\n",
       "      <td>4056196.0</td>\n",
       "      <td>114-2014</td>\n",
       "    </tr>\n",
       "    <tr>\n",
       "      <th>4</th>\n",
       "      <td>114.0</td>\n",
       "      <td>解熱鎮痛消炎剤</td>\n",
       "      <td>661140081.0</td>\n",
       "      <td>ボルタレンサポ５０ｍｇ</td>\n",
       "      <td>1147700J3084</td>\n",
       "      <td>63.1</td>\n",
       "      <td>0.0</td>\n",
       "      <td>5.339043e+06</td>\n",
       "      <td>2014.0</td>\n",
       "      <td>1</td>\n",
       "      <td>...</td>\n",
       "      <td>0.0</td>\n",
       "      <td>0.0</td>\n",
       "      <td>0.0</td>\n",
       "      <td>0.0</td>\n",
       "      <td>0.001557</td>\n",
       "      <td>0.002136</td>\n",
       "      <td>0.236142</td>\n",
       "      <td>0.053889</td>\n",
       "      <td>4056196.0</td>\n",
       "      <td>114-2014</td>\n",
       "    </tr>\n",
       "  </tbody>\n",
       "</table>\n",
       "<p>5 rows × 108 columns</p>\n",
       "</div>"
      ],
      "text/plain": [
       "    薬効分類   薬効分類名称       医薬品コード               医薬品名  薬価基準収載医薬品コード  prices  \\\n",
       "0  114.0  解熱鎮痛消炎剤  620007096.0         ボルタレン錠２５ｍｇ  1147002F1560    13.1   \n",
       "1  114.0  解熱鎮痛消炎剤  620007095.0  ボルタレンＳＲカプセル３７．５ｍｇ  1147002N1174    23.2   \n",
       "2  114.0  解熱鎮痛消炎剤  620007096.0         ボルタレン錠２５ｍｇ  1147002F1560    13.1   \n",
       "3  114.0  解熱鎮痛消炎剤  620007095.0  ボルタレンＳＲカプセル３７．５ｍｇ  1147002N1174    23.2   \n",
       "4  114.0  解熱鎮痛消炎剤  661140081.0        ボルタレンサポ５０ｍｇ  1147700J3084    63.1   \n",
       "\n",
       "   後発品区分            総計    year  in_hospital  ...  id_449.0  id_625.0  \\\n",
       "0    0.0  2.489539e+07  2014.0            1  ...       0.0       0.0   \n",
       "1    0.0  1.024590e+07  2014.0            1  ...       0.0       0.0   \n",
       "2    0.0  5.025912e+07  2014.0            0  ...       0.0       0.0   \n",
       "3    0.0  2.742935e+07  2014.0            0  ...       0.0       0.0   \n",
       "4    0.0  5.339043e+06  2014.0            1  ...       0.0       0.0   \n",
       "\n",
       "   id_629.0 id_799.0   q_share    shares  generic_share_q demand_instruments2  \\\n",
       "0       0.0      0.0  0.007258  0.002068         0.236142            0.053889   \n",
       "1       0.0      0.0  0.002987  0.001507         0.236142            0.053889   \n",
       "2       0.0      0.0  0.014653  0.004175         0.236142            0.053889   \n",
       "3       0.0      0.0  0.007997  0.004036         0.236142            0.053889   \n",
       "4       0.0      0.0  0.001557  0.002136         0.236142            0.053889   \n",
       "\n",
       "        y_sq  market_ids  \n",
       "0  4056196.0    114-2014  \n",
       "1  4056196.0    114-2014  \n",
       "2  4056196.0    114-2014  \n",
       "3  4056196.0    114-2014  \n",
       "4  4056196.0    114-2014  \n",
       "\n",
       "[5 rows x 108 columns]"
      ]
     },
     "execution_count": 4,
     "metadata": {},
     "output_type": "execute_result"
    }
   ],
   "source": [
    "save=0\n",
    "product_data=pd.read_csv(\"../../data/merged/len3_ndb_agg_blp_imputed_lags.csv\",encoding=\"shift-jis\",index_col=0)\n",
    "product_data[\"market_ids\"]=product_data[\"薬効分類\"].astype(int).astype(str)+\"-\"+product_data[\"year\"].astype(int).astype(str)\n",
    "product_data[\"generic_share_q\"].fillna(0,inplace=True)\n",
    "product_data[\"generic_share_r\"].fillna(0,inplace=True)\n",
    "product_data[\"lag_sum_quantity\"]=np.log(product_data[\"lag_sum_quantity\"]+0.001)\n",
    "product_data[\"otc_dom\"]=np.log(product_data[\"otc_dom\"]+0.001)\n",
    "product_data.rename(columns={\"薬価\":\"prices\",\"r_share\":\"shares\",\n",
    "                    # \"elasped_0\":\"demand_instruments0\",\n",
    "                    # \"elasped_1\":\"demand_instruments1\",\n",
    "                    # 'elasped_2': 'demand_instruments2',\n",
    "                    # 'elasped_3': 'demand_instruments3',\n",
    "                    # 'elasped_4': 'demand_instruments4',\n",
    "                    # 'elasped_5': 'demand_instruments5',\n",
    "                    # 'elasped_6': 'demand_instruments6',\n",
    "                    # 'elasped_7': 'demand_instruments7',\n",
    "                    # 'elasped_8': 'demand_instruments8',\n",
    "                    # 'elasped_9': 'demand_instruments9',\n",
    "                    # \"generic_per\":\"demand_instruments4\",\n",
    "                    # \"mean_price\":\"demand_instruments10\",\n",
    "                    # \"generic_share_q\":\"demand_instruments7\",\n",
    "                    \"lag_mean_price\":\"demand_instruments0\",\n",
    "                    \"lag_sum_quantity\":\"demand_instruments1\",\n",
    "                    \"generic_share_r\":\"demand_instruments2\",\n",
    "                    \"otc_dom\":\"demand_instruments3\",\n",
    "                    },inplace=True)\n",
    "product_data=product_data.loc[product_data[\"shares\"]>0]\n",
    "# data[\"shares\"]=data[\"r_share\"]\n",
    "product_data.head()"
   ]
  },
  {
   "cell_type": "code",
   "execution_count": 5,
   "metadata": {},
   "outputs": [],
   "source": [
    "# product_data[\"demand_instruments12\"].isna().sum()\n",
    "# product_data[\"lag_sum_quantity\"].isna().sum()"
   ]
  },
  {
   "cell_type": "code",
   "execution_count": 6,
   "metadata": {},
   "outputs": [
    {
     "data": {
      "text/plain": [
       "prices + oral + in_hospital + 後発品区分 + Absorb[C(薬効分類)] + Absorb[C(year)]"
      ]
     },
     "execution_count": 6,
     "metadata": {},
     "output_type": "execute_result"
    }
   ],
   "source": [
    "logit_formulation = pyblp.Formulation('prices+oral+in_hospital+後発品区分', absorb='C(薬効分類)+C(year)')\n",
    "logit_formulation"
   ]
  },
  {
   "cell_type": "code",
   "execution_count": 7,
   "metadata": {},
   "outputs": [
    {
     "name": "stdout",
     "output_type": "stream",
     "text": [
      "Initializing the problem ...\n",
      "Absorbing demand-side fixed effects ...\n",
      "Initialized the problem after 00:00:00.\n",
      "\n",
      "Dimensions:\n",
      "============================\n",
      " T     N     K1    MD    ED \n",
      "---  -----  ----  ----  ----\n",
      "200  25798   4     7     2  \n",
      "============================\n",
      "\n",
      "Formulations:\n",
      "============================================================\n",
      "     Column Indices:          0      1         2         3  \n",
      "--------------------------  ------  ----  -----------  -----\n",
      "X1: Linear Characteristics  prices  oral  in_hospital  後発品区分\n",
      "============================================================\n"
     ]
    },
    {
     "data": {
      "text/plain": [
       "Dimensions:\n",
       "============================\n",
       " T     N     K1    MD    ED \n",
       "---  -----  ----  ----  ----\n",
       "200  25798   4     7     2  \n",
       "============================\n",
       "\n",
       "Formulations:\n",
       "============================================================\n",
       "     Column Indices:          0      1         2         3  \n",
       "--------------------------  ------  ----  -----------  -----\n",
       "X1: Linear Characteristics  prices  oral  in_hospital  後発品区分\n",
       "============================================================"
      ]
     },
     "execution_count": 7,
     "metadata": {},
     "output_type": "execute_result"
    }
   ],
   "source": [
    "# product_data[\"shares\"]-=1e-10\n",
    "problem = pyblp.Problem(logit_formulation, product_data)\n",
    "problem"
   ]
  },
  {
   "cell_type": "code",
   "execution_count": 8,
   "metadata": {},
   "outputs": [
    {
     "name": "stdout",
     "output_type": "stream",
     "text": [
      "Solving the problem ...\n",
      "Updating the weighting matrix ...\n",
      "Computed results after 00:00:00.\n",
      "\n",
      "Problem Results Summary:\n",
      "==============================================\n",
      "GMM     Objective    Clipped  Weighting Matrix\n",
      "Step      Value      Shares   Condition Number\n",
      "----  -------------  -------  ----------------\n",
      " 1    +4.503131E+04     0      +1.860120E+07  \n",
      "==============================================\n",
      "\n",
      "Estimating standard errors ...\n",
      "Computed results after 00:00:00.\n",
      "\n",
      "Problem Results Summary:\n",
      "=================================================================\n",
      "GMM     Objective    Clipped  Weighting Matrix  Covariance Matrix\n",
      "Step      Value      Shares   Condition Number  Condition Number \n",
      "----  -------------  -------  ----------------  -----------------\n",
      " 2    +3.004951E+02     0      +2.156652E+08      +3.712969E+07  \n",
      "=================================================================\n",
      "\n",
      "Cumulative Statistics:\n",
      "========================\n",
      "Computation   Objective \n",
      "   Time      Evaluations\n",
      "-----------  -----------\n",
      " 00:00:00         2     \n",
      "========================\n",
      "\n",
      "Beta Estimates (Robust SEs in Parentheses):\n",
      "==================================================================\n",
      "    prices            oral          in_hospital         後発品区分     \n",
      "---------------  ---------------  ---------------  ---------------\n",
      " -2.722553E-03    +1.556678E+00    +4.056351E-01    -3.224037E+00 \n",
      "(+1.823582E-03)  (+1.357477E-01)  (+7.633175E-02)  (+9.744334E-01)\n",
      "==================================================================\n"
     ]
    },
    {
     "data": {
      "text/plain": [
       "Problem Results Summary:\n",
       "=================================================================\n",
       "GMM     Objective    Clipped  Weighting Matrix  Covariance Matrix\n",
       "Step      Value      Shares   Condition Number  Condition Number \n",
       "----  -------------  -------  ----------------  -----------------\n",
       " 2    +3.004951E+02     0      +2.156652E+08      +3.712969E+07  \n",
       "=================================================================\n",
       "\n",
       "Cumulative Statistics:\n",
       "========================\n",
       "Computation   Objective \n",
       "   Time      Evaluations\n",
       "-----------  -----------\n",
       " 00:00:00         2     \n",
       "========================\n",
       "\n",
       "Beta Estimates (Robust SEs in Parentheses):\n",
       "==================================================================\n",
       "    prices            oral          in_hospital         後発品区分     \n",
       "---------------  ---------------  ---------------  ---------------\n",
       " -2.722553E-03    +1.556678E+00    +4.056351E-01    -3.224037E+00 \n",
       "(+1.823582E-03)  (+1.357477E-01)  (+7.633175E-02)  (+9.744334E-01)\n",
       "=================================================================="
      ]
     },
     "execution_count": 8,
     "metadata": {},
     "output_type": "execute_result"
    }
   ],
   "source": [
    "logit_results = problem.solve()\n",
    "logit_results"
   ]
  },
  {
   "cell_type": "code",
   "execution_count": 9,
   "metadata": {},
   "outputs": [],
   "source": [
    "import datetime\n",
    "\n",
    "# Get the current date and time\n",
    "current_time = datetime.datetime.now()\n",
    "\n",
    "# Format the time as a string\n",
    "time_string = current_time.strftime(\"%Y-%m-%d_%H-%M-%S\")\n",
    "if save:\n",
    "    logit_results.to_pickle(f\"./results/MNL_len3_{time_string}.pkl\")"
   ]
  },
  {
   "cell_type": "code",
   "execution_count": 10,
   "metadata": {},
   "outputs": [],
   "source": [
    "# how to load pickle\n",
    "# import pickle\n",
    "# with open(\"./results/logit_blp_len3.pkl\", \"rb\") as f:\n",
    "#     example = pickle.load(f)\n",
    "# example"
   ]
  },
  {
   "cell_type": "code",
   "execution_count": 11,
   "metadata": {},
   "outputs": [
    {
     "name": "stdout",
     "output_type": "stream",
     "text": [
      "Computing elasticities with respect to prices ...\n",
      "Finished after 00:00:00.\n",
      "\n"
     ]
    }
   ],
   "source": [
    "elasticities = logit_results.compute_elasticities()"
   ]
  },
  {
   "cell_type": "code",
   "execution_count": 12,
   "metadata": {},
   "outputs": [
    {
     "data": {
      "text/plain": [
       "<matplotlib.colorbar.Colorbar at 0x21029671780>"
      ]
     },
     "execution_count": 12,
     "metadata": {},
     "output_type": "execute_result"
    },
    {
     "data": {
      "image/png": "[encoded data removed]",
      "text/plain": [
       "<Figure size 288x288 with 2 Axes>"
      ]
     },
     "metadata": {
      "needs_background": "light"
     },
     "output_type": "display_data"
    }
   ],
   "source": [
    "%matplotlib inline\n",
    "import matplotlib.pyplot as plt\n",
    "single_market = product_data['market_ids'] == '131-2014'\n",
    "K=sum(single_market)\n",
    "plt.colorbar(plt.matshow(elasticities[single_market][:,:K]))"
   ]
  },
  {
   "cell_type": "code",
   "execution_count": 13,
   "metadata": {},
   "outputs": [
    {
     "data": {
      "text/plain": [
       "array([[-1.24806610e-01,  6.46284929e-04,  3.87333324e-04, ...,\n",
       "         1.14714901e-01,  8.73195123e-03,  5.21714615e-05],\n",
       "       [ 1.58574801e-04, -1.24318900e-01,  3.87333324e-04, ...,\n",
       "         1.14714901e-01,  8.73195123e-03,  5.21714615e-05],\n",
       "       [ 1.58574801e-04,  6.46284929e-04, -7.33938543e-02, ...,\n",
       "         1.14714901e-01,  8.73195123e-03,  5.21714615e-05],\n",
       "       ...,\n",
       "       [ 1.58574801e-04,  6.46284929e-04,  3.87333324e-04, ...,\n",
       "        -2.56754436e+00,  8.73195123e-03,  5.21714615e-05],\n",
       "       [ 1.58574801e-04,  6.46284929e-04,  3.87333324e-04, ...,\n",
       "         1.14714901e-01, -8.00138560e-01,  5.21714615e-05],\n",
       "       [ 1.58574801e-04,  6.46284929e-04,  3.87333324e-04, ...,\n",
       "         1.14714901e-01,  8.73195123e-03, -6.25665487e-02]])"
      ]
     },
     "execution_count": 13,
     "metadata": {},
     "output_type": "execute_result"
    }
   ],
   "source": [
    "elasticities[single_market][:,:K]"
   ]
  },
  {
   "cell_type": "code",
   "execution_count": 16,
   "metadata": {},
   "outputs": [
    {
     "name": "stdout",
     "output_type": "stream",
     "text": [
      "Computing diversion ratios with respect to prices ...\n",
      "Finished after 00:00:00.\n",
      "\n"
     ]
    },
    {
     "data": {
      "text/plain": [
       "<matplotlib.colorbar.Colorbar at 0x210299ba620>"
      ]
     },
     "execution_count": 16,
     "metadata": {},
     "output_type": "execute_result"
    },
    {
     "data": {
      "image/png": "[encoded data removed]",
      "text/plain": [
       "<Figure size 288x288 with 2 Axes>"
      ]
     },
     "metadata": {
      "needs_background": "light"
     },
     "output_type": "display_data"
    }
   ],
   "source": [
    "diversions = logit_results.compute_diversion_ratios()\n",
    "plt.colorbar(plt.matshow(diversions[single_market][:,:K]))"
   ]
  }
 ],
 "metadata": {
  "kernelspec": {
   "display_name": "Python 3",
   "language": "python",
   "name": "python3"
  },
  "language_info": {
   "codemirror_mode": {
    "name": "ipython",
    "version": 3
   },
   "file_extension": ".py",
   "mimetype": "text/x-python",
   "name": "python",
   "nbconvert_exporter": "python",
   "pygments_lexer": "ipython3",
   "version": "3.10.4"
  },
  "orig_nbformat": 4
 },
 "nbformat": 4,
 "nbformat_minor": 2
}
