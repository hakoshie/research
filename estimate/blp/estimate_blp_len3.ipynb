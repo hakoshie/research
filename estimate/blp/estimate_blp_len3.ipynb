{
 "cells": [
  {
   "cell_type": "code",
   "execution_count": 841,
   "metadata": {},
   "outputs": [],
   "source": [
    "import pandas as pd\n",
    "import numpy as np\n",
    "import statsmodels.api as sm\n",
    "# from linearmodels.panel.data import PanelData\n",
    "# from linearmodels.panel import PanelOLS, PooledOLS, RandomEffects, compare\n",
    "import matplotlib.pyplot as plt\n",
    "import pyblp"
   ]
  },
  {
   "cell_type": "code",
   "execution_count": 842,
   "metadata": {},
   "outputs": [
    {
     "name": "stdout",
     "output_type": "stream",
     "text": [
      "Index(['薬効分類', '薬効分類名称', '医薬品コード', '医薬品名', '薬価基準収載医薬品コード', '薬価_x', '後発品区分',\n",
      "       '総計', 'year', 'in_hospital', 'oral', 'id_l4', 'Approved', 'KEGG',\n",
      "       'Ingredient', 'date', 'release_year', '成分', 'variable', 'id_x'],\n",
      "      dtype='object')\n",
      "Index(['market_ids', 'firm_ids', 'prices', 'oral', 'generic', 'in_hospital',\n",
      "       '薬効分類', 'year', 'shares', 'id_l4', 'long_run', 'lag_sum_quantity',\n",
      "       'ones'],\n",
      "      dtype='object')\n",
      "(24448, 13)\n"
     ]
    },
    {
     "name": "stderr",
     "output_type": "stream",
     "text": [
      "C:\\Users\\hakos\\AppData\\Local\\Temp\\ipykernel_30620\\2470629864.py:2: DtypeWarning: Columns (118) have mixed types. Specify dtype option on import or set low_memory=False.\n",
      "  product_data=pd.read_csv(\"../../data/merged/len3_ndb_blp_DN_firm_FC.csv\",encoding=\"utf-8\",index_col=0)\n"
     ]
    }
   ],
   "source": [
    "save=0\n",
    "product_data=pd.read_csv(\"../../data/merged/len3_ndb_blp_DN_firm_FC.csv\",encoding=\"utf-8\",index_col=0)\n",
    "print(product_data.columns[:20])\n",
    "product_data=product_data.loc[product_data[\"year\"]>2014]\n",
    "product_data.loc[:,\"market_ids\"]=product_data.loc[:,\"薬効分類\"].astype(int).astype(str)+\"-\"+product_data.loc[:,\"year\"].astype(int).astype(str)\n",
    "product_data.loc[:,\"firm_ids\"]=product_data.loc[:,\"メーカー名\"].astype(str)\n",
    "product_data.loc[:,\"generic_share_q\"].fillna(0,inplace=True)\n",
    "product_data[\"generic_share_r\"].fillna(0,inplace=True)\n",
    "product_data.loc[:,\"lag_sum_quantity\"]=np.log(product_data[\"lag_sum_quantity\"]+0.001)\n",
    "product_data.loc[:,\"otc_dom\"]=np.log(product_data[\"otc_dom\"]+0.001)\n",
    "product_data.loc[:,\"薬価_x\"]=product_data[\"薬価_x\"].astype(float)\n",
    "product_data.loc[:,\"shares\"]=product_data[\"総計\"]/(120000000*100)\n",
    "\n",
    "product_data.loc[:,\"long_run\"]=product_data[\"同一剤形・規格の後発医薬品がある先発医薬品\"]\n",
    "product_data[\"long_run\"].fillna(0,inplace=True)\n",
    "product_data[\"long_run\"]=product_data[\"long_run\"].replace(\"○\",1)\n",
    "product_data.rename(columns={\"薬価_x\":\"prices\",\n",
    "                    # \"lag_mean_price\":\"demand_instruments0\",\n",
    "                    # \"lag_sum_quantity\":\"demand_instruments1\",\n",
    "                    # \"lag_generic_share_q\":\"demand_instruments2\",\n",
    "                    \"後発品区分\":\"generic\"},inplace=True)\n",
    "# drop which doesn't have generic\n",
    "# product_data=product_data[~((product_data[\"long_run\"]==0)&(zproduct_data[\"generic\"]==0))]\n",
    "\n",
    "\n",
    "\n",
    "product_data=product_data.loc[product_data[\"shares\"]>0]\n",
    "# product_data=product_data.loc[product_data[\"prices\"].isna()]\n",
    "# product_data=product_data.dropna(subset=[\"prices\"])\n",
    "product_data=product_data[[\"market_ids\",\"firm_ids\",\"prices\",\"oral\",\"generic\",\"in_hospital\",\"薬効分類\",\"year\",\"shares\",\"id_l4\",\"long_run\",\"lag_sum_quantity\"]]\n",
    "product_data[\"ones\"]=1\n",
    "# data[\"shares\"]=data[\"r_share\"]\n",
    "product_data.reset_index(drop=True,inplace=True)\n",
    "print(product_data.columns[:20])\n",
    "print(product_data.shape)\n",
    "# product_data.iloc[:,118].isna().sum()"
   ]
  },
  {
   "cell_type": "code",
   "execution_count": 843,
   "metadata": {},
   "outputs": [],
   "source": [
    "# product_data[\"long_run\"].value_counts()\n",
    "# product_data[\"lag_sum_quantity\"].isna().sum()\n",
    "# product_data.shape\n"
   ]
  },
  {
   "cell_type": "code",
   "execution_count": 844,
   "metadata": {},
   "outputs": [
    {
     "data": {
      "text/plain": [
       "((24448, 8), (24448, 13))"
      ]
     },
     "execution_count": 844,
     "metadata": {},
     "output_type": "execute_result"
    }
   ],
   "source": [
    "demand_instruments=pyblp.build_blp_instruments(pyblp.Formulation(\"1+generic+oral+generic+long_run\"),product_data=product_data)\n",
    "# demand_instruments=pyblp.build_blp_instruments(formulation=pyblp.Formulation(\"1+prices+generic+oral+in_hospital\"),product_data=product_data)\n",
    "demand_instruments\n",
    "demand_instruments.shape,product_data.shape"
   ]
  },
  {
   "cell_type": "code",
   "execution_count": 845,
   "metadata": {},
   "outputs": [
    {
     "data": {
      "text/plain": [
       "(Index(['market_ids', 'firm_ids', 'prices', 'oral', 'generic', 'in_hospital',\n",
       "        '薬効分類', 'year', 'shares', 'id_l4', 'long_run', 'lag_sum_quantity',\n",
       "        'ones', 'demand_instruments0', 'demand_instruments1',\n",
       "        'demand_instruments2', 'demand_instruments3', 'demand_instruments4',\n",
       "        'demand_instruments5', 'demand_instruments6', 'demand_instruments7'],\n",
       "       dtype='object'),\n",
       " (24448, 21))"
      ]
     },
     "execution_count": 845,
     "metadata": {},
     "output_type": "execute_result"
    }
   ],
   "source": [
    "N_DI=demand_instruments.shape[1]\n",
    "demand_instruments=pd.DataFrame(demand_instruments, columns=[f'demand_instruments{i}' for i in range(N_DI)])\n",
    "product_data=pd.concat([product_data,demand_instruments],axis=1)\n",
    "product_data.columns,product_data.shape"
   ]
  },
  {
   "cell_type": "code",
   "execution_count": 846,
   "metadata": {},
   "outputs": [
    {
     "data": {
      "text/plain": [
       "(24448, 21)"
      ]
     },
     "execution_count": 846,
     "metadata": {},
     "output_type": "execute_result"
    }
   ],
   "source": [
    "# lagged demand instruments\n",
    "# demand_instrument_columns = [col for col in product_data.columns if col.startswith('demand_instrument')]\n",
    "# def lag_demand_instruments(group):\n",
    "#     for col in demand_instrument_columns:\n",
    "#         for i in range(N_DI):  # 0から1までのラグを取得\n",
    "#             lagged_column_name = f'demand_instruments{i+N_DI}'\n",
    "#             group[lagged_column_name] = group[col].shift(1)\n",
    "#     return group\n",
    "# product_data=product_data.sort_values(['薬効分類', 'year'])\n",
    "# product_data = product_data.groupby('id_l4').apply(lag_demand_instruments)\n",
    "# product_data.shape\n",
    "\n",
    "# restrict by year\n",
    "product_data=product_data[product_data[\"year\"]>2014]\n",
    "# product_data=product_data[product_data[\"year\"]==2015]\n",
    "# product_data=product_data[product_data[\"year\"]==2021]\n",
    "product_data.shape"
   ]
  },
  {
   "cell_type": "code",
   "execution_count": 867,
   "metadata": {},
   "outputs": [
    {
     "name": "stdout",
     "output_type": "stream",
     "text": [
      "Initializing the problem ...\n",
      "Absorbing demand-side fixed effects ...\n"
     ]
    },
    {
     "name": "stderr",
     "output_type": "stream",
     "text": [
      "Detected collinearity issues with [demand_instruments4, oral, generic, long_run] and at least one other column in ZD. Absorbed fixed effects may be creating collinearity problems. To disable collinearity checks, set options.collinear_atol = options.collinear_rtol = 0.\n",
      "Detected that the 2SLS weighting matrix is nearly singular with condition number +3.508404E+17. To disable singularity checks, set options.singular_tol = numpy.inf.\n"
     ]
    },
    {
     "name": "stdout",
     "output_type": "stream",
     "text": [
      "Initialized the problem after 00:00:00.\n",
      "\n",
      "Dimensions:\n",
      "======================================\n",
      " T     N     F    K1    MD    ED    H \n",
      "---  -----  ---  ----  ----  ----  ---\n",
      "175  24448  189   5     12    2     2 \n",
      "======================================\n",
      "\n",
      "Formulations:\n",
      "========================================================================\n",
      "     Column Indices:          0      1         2          3        4    \n",
      "--------------------------  ------  ----  -----------  -------  --------\n",
      "X1: Linear Characteristics  prices  oral  in_hospital  generic  long_run\n",
      "========================================================================\n",
      "Solving the problem ...\n",
      "\n",
      "Rho Initial Values:\n",
      "=============\n",
      " All Groups  \n",
      "-------------\n",
      "+7.000000E-01\n",
      "=============\n",
      "\n",
      "Rho Lower Bounds:\n",
      "=============\n",
      " All Groups  \n",
      "-------------\n",
      "+0.000000E+00\n",
      "=============\n",
      "\n",
      "Rho Upper Bounds:\n",
      "=============\n",
      " All Groups  \n",
      "-------------\n",
      "+9.900000E-01\n",
      "=============\n",
      "\n",
      "Starting optimization ...\n",
      "\n",
      "GMM   Computation  Optimization   Objective   Fixed Point  Contraction  Clipped    Objective      Objective      Projected                 \n",
      "Step     Time       Iterations   Evaluations  Iterations   Evaluations  Shares       Value       Improvement   Gradient Norm      Theta    \n",
      "----  -----------  ------------  -----------  -----------  -----------  -------  -------------  -------------  -------------  -------------\n",
      " 1     00:00:01         0             1            0            0          0     -5.587855E+00                 +6.167965E+02  +7.000000E-01\n",
      " 1     00:00:01         0             2            0            0          0     +8.633370E+01                 +9.187198E+02  +2.881916E-09\n",
      " 1     00:00:01         1             3            0            0          0     +3.631919E+01                 +7.682571E+02  +4.114356E-01\n",
      " 1     00:00:01         1             4            0            0          0     +1.746926E+01                 +6.854965E+02  +5.832151E-01\n",
      " 1     00:00:01         1             5            0            0          0     +1.469680E+01                 +6.354594E+02  +6.557664E-01\n",
      " 1     00:00:01         1             6            0            0          0     +1.200310E+01                 +6.844427E+02  +6.873146E-01\n",
      " 1     00:00:01         1             7            0            0          0     +1.177363E+01                 +6.870073E+02  +6.980473E-01\n",
      " 1     00:00:01         1             8            0            0          0     +1.110583E+01                 +6.261480E+02  +6.998047E-01\n",
      " 1     00:00:01         1             9            0            0          0     +1.066898E+01                 +5.980662E+02  +6.999805E-01\n",
      " 1     00:00:01         1            10            0            0          0     +9.481306E+00                 +6.794343E+02  +6.999980E-01\n",
      " 1     00:00:01         1            11            0            0          0     +1.632503E+01                 +6.409131E+02  +6.999998E-01\n",
      " 1     00:00:01         1            12            0            0          0     +1.171694E+01                 +6.665226E+02  +7.000000E-01\n",
      "\n",
      "Optimization completed after 00:00:09.\n",
      "Computing the Hessian and and updating the weighting matrix ...\n"
     ]
    },
    {
     "name": "stderr",
     "output_type": "stream",
     "text": [
      "Detected that the estimated covariance matrix of aggregate GMM moments is nearly singular with condition number +7.305405E+17. To disable singularity checks, set options.singular_tol = numpy.inf.\n"
     ]
    },
    {
     "name": "stdout",
     "output_type": "stream",
     "text": [
      "Computed results after 00:00:02.\n",
      "\n",
      "Problem Results Summary:\n",
      "============================================================================\n",
      "GMM     Objective      Projected       Reduced     Clipped  Weighting Matrix\n",
      "Step      Value      Gradient Norm     Hessian     Shares   Condition Number\n",
      "----  -------------  -------------  -------------  -------  ----------------\n",
      " 1    +1.171694E+01  +6.665226E+02  -3.218997E+09     0      +1.534766E+17  \n",
      "============================================================================\n",
      "\n",
      "Starting optimization ...\n",
      "\n",
      "GMM   Computation  Optimization   Objective   Fixed Point  Contraction  Clipped    Objective      Objective      Projected                 \n",
      "Step     Time       Iterations   Evaluations  Iterations   Evaluations  Shares       Value       Improvement   Gradient Norm      Theta    \n",
      "----  -----------  ------------  -----------  -----------  -----------  -------  -------------  -------------  -------------  -------------\n",
      " 2     00:00:01         0             1            0            0          0     +2.195701E+01                 +8.014198E+01  +7.000000E-01\n",
      " 2     00:00:01         0             2            0            0          0     +7.683409E+01                 +2.369336E+02  +0.000000E+00\n",
      " 2     00:00:01         1             3            0            0          0     +1.486735E+01  +7.089659E+00  +2.207775E-08  +5.230725E-01\n",
      "\n",
      "Optimization completed after 00:00:03.\n",
      "Computing the Hessian and estimating standard errors ...\n",
      "Computed results after 00:00:02.\n",
      "\n",
      "Problem Results Summary:\n",
      "===============================================================================================\n",
      "GMM     Objective      Projected       Reduced     Clipped  Weighting Matrix  Covariance Matrix\n",
      "Step      Value      Gradient Norm     Hessian     Shares   Condition Number  Condition Number \n",
      "----  -------------  -------------  -------------  -------  ----------------  -----------------\n",
      " 2    +1.486735E+01  +2.207775E-08  +4.529705E+02     0      +1.287910E+17      +6.469574E+07  \n",
      "===============================================================================================\n",
      "\n",
      "Cumulative Statistics:\n",
      "=================================================\n",
      "Computation  Optimizer  Optimization   Objective \n",
      "   Time      Converged   Iterations   Evaluations\n",
      "-----------  ---------  ------------  -----------\n",
      " 00:00:17       Yes          3            17     \n",
      "=================================================\n",
      "\n",
      "Rho Estimates (Robust SEs in Parentheses):\n",
      "===============\n",
      "  All Groups   \n",
      "---------------\n",
      " +5.230725E-01 \n",
      "(+9.561517E-02)\n",
      "===============\n",
      "\n",
      "Beta Estimates (Robust SEs in Parentheses):\n",
      "===================================================================================\n",
      "    prices            oral          in_hospital        generic         long_run    \n",
      "---------------  ---------------  ---------------  ---------------  ---------------\n",
      " -1.210863E-04    +1.137253E+00    +2.273046E-01    -1.452967E-01    -4.851903E-01 \n",
      "(+9.187415E-05)  (+2.351747E-01)  (+4.515333E-02)  (+3.722758E-02)  (+1.263734E-01)\n",
      "===================================================================================\n"
     ]
    },
    {
     "name": "stderr",
     "output_type": "stream",
     "text": [
      "Detected that the estimated covariance matrix of aggregate GMM moments is nearly singular with condition number +1.001496E+18. To disable singularity checks, set options.singular_tol = numpy.inf.\n",
      "Detected that the estimated covariance matrix of aggregate GMM moments is nearly singular with condition number +7.655113E+17. To disable singularity checks, set options.singular_tol = numpy.inf.\n"
     ]
    },
    {
     "data": {
      "text/plain": [
       "Problem Results Summary:\n",
       "===============================================================================================\n",
       "GMM     Objective      Projected       Reduced     Clipped  Weighting Matrix  Covariance Matrix\n",
       "Step      Value      Gradient Norm     Hessian     Shares   Condition Number  Condition Number \n",
       "----  -------------  -------------  -------------  -------  ----------------  -----------------\n",
       " 2    +1.486735E+01  +2.207775E-08  +4.529705E+02     0      +1.287910E+17      +6.469574E+07  \n",
       "===============================================================================================\n",
       "\n",
       "Cumulative Statistics:\n",
       "=================================================\n",
       "Computation  Optimizer  Optimization   Objective \n",
       "   Time      Converged   Iterations   Evaluations\n",
       "-----------  ---------  ------------  -----------\n",
       " 00:00:17       Yes          3            17     \n",
       "=================================================\n",
       "\n",
       "Rho Estimates (Robust SEs in Parentheses):\n",
       "===============\n",
       "  All Groups   \n",
       "---------------\n",
       " +5.230725E-01 \n",
       "(+9.561517E-02)\n",
       "===============\n",
       "\n",
       "Beta Estimates (Robust SEs in Parentheses):\n",
       "===================================================================================\n",
       "    prices            oral          in_hospital        generic         long_run    \n",
       "---------------  ---------------  ---------------  ---------------  ---------------\n",
       " -1.210863E-04    +1.137253E+00    +2.273046E-01    -1.452967E-01    -4.851903E-01 \n",
       "(+9.187415E-05)  (+2.351747E-01)  (+4.515333E-02)  (+3.722758E-02)  (+1.263734E-01)\n",
       "==================================================================================="
      ]
     },
     "execution_count": 867,
     "metadata": {},
     "output_type": "execute_result"
    }
   ],
   "source": [
    "product_data[\"nesting_ids\"]=product_data[\"long_run\"]\n",
    "logit_formulation= pyblp.Formulation('prices+oral+in_hospital+generic+long_run', absorb='C(market_ids)+C(firm_ids)')\n",
    "# logit_formulation= pyblp.Formulation('prices+oral+in_hospital+long_run', absorb='C(market_ids)+C(firm_ids)')\n",
    "# logit_formulation = pyblp.Formulation('prices+oral+generic+long_run', absorb='C(market_ids)+C(firm_ids)')\n",
    "# logit_formulation = pyblp.Formulation('prices+oral+in_hospital+generic', absorb='C(薬効分類)+C(year)+C(firm_ids)')\n",
    "# logit_formulation = pyblp.Formulation('prices+oral+in_hospital+generic', absorb='C(薬効分類)')\n",
    "logit_formulation\n",
    "# product_data[\"shares\"]-=1e-10\n",
    "\n",
    "problem = pyblp.Problem(logit_formulation, product_data)\n",
    "optimization=pyblp.Optimization('slsqp')\n",
    "logit_results = problem.solve(rho=0.7, optimization=optimization)\n",
    "logit_results"
   ]
  },
  {
   "cell_type": "code",
   "execution_count": 902,
   "metadata": {},
   "outputs": [
    {
     "name": "stdout",
     "output_type": "stream",
     "text": [
      "[[-3.0000e-04  2.3845e+00  4.7660e-01 -3.0470e-01 -1.0173e+00]]\n"
     ]
    }
   ],
   "source": [
    "print(np.round(logit_results.beta.T/(1-logit_results.rho),4))"
   ]
  },
  {
   "cell_type": "code",
   "execution_count": 878,
   "metadata": {},
   "outputs": [
    {
     "name": "stdout",
     "output_type": "stream",
     "text": [
      "Computing optimal instruments for theta ...\n",
      "Computed optimal instruments after 00:00:01.\n",
      "\n",
      "Optimal Instrument Results Summary:\n",
      "=======================\n",
      "Computation  Error Term\n",
      "   Time        Draws   \n",
      "-----------  ----------\n",
      " 00:00:01        1     \n",
      "=======================\n"
     ]
    },
    {
     "data": {
      "text/plain": [
       "Optimal Instrument Results Summary:\n",
       "=======================\n",
       "Computation  Error Term\n",
       "   Time        Draws   \n",
       "-----------  ----------\n",
       " 00:00:01        1     \n",
       "======================="
      ]
     },
     "execution_count": 878,
     "metadata": {},
     "output_type": "execute_result"
    }
   ],
   "source": [
    "instruments_results=logit_results.compute_optimal_instruments()\n",
    "instruments_results"
   ]
  },
  {
   "cell_type": "code",
   "execution_count": 897,
   "metadata": {},
   "outputs": [
    {
     "name": "stdout",
     "output_type": "stream",
     "text": [
      "Re-creating the problem ...\n",
      "Absorbing demand-side fixed effects ...\n",
      "Re-created the problem after 00:00:00.\n",
      "\n",
      "Dimensions:\n",
      "======================================\n",
      " T     N     F    K1    MD    ED    H \n",
      "---  -----  ---  ----  ----  ----  ---\n",
      "175  24448  189   5     6     2     2 \n",
      "======================================\n",
      "\n",
      "Formulations:\n",
      "========================================================================\n",
      "     Column Indices:          0      1         2          3        4    \n",
      "--------------------------  ------  ----  -----------  -------  --------\n",
      "X1: Linear Characteristics  prices  oral  in_hospital  generic  long_run\n",
      "========================================================================\n",
      "Solving the problem ...\n",
      "\n",
      "Rho Initial Values:\n",
      "=============\n",
      " All Groups  \n",
      "-------------\n",
      "+7.000000E-01\n",
      "=============\n",
      "\n",
      "Rho Lower Bounds:\n",
      "=============\n",
      " All Groups  \n",
      "-------------\n",
      "+0.000000E+00\n",
      "=============\n",
      "\n",
      "Rho Upper Bounds:\n",
      "=============\n",
      " All Groups  \n",
      "-------------\n",
      "+9.900000E-01\n",
      "=============\n",
      "\n",
      "Starting optimization ...\n",
      "\n",
      "GMM   Computation  Optimization   Objective   Fixed Point  Contraction  Clipped    Objective      Objective      Projected                 \n",
      "Step     Time       Iterations   Evaluations  Iterations   Evaluations  Shares       Value       Improvement   Gradient Norm      Theta    \n",
      "----  -----------  ------------  -----------  -----------  -----------  -------  -------------  -------------  -------------  -------------\n",
      " 1     00:00:02         0             1            0            0          0     +2.682954E+02                 +1.325381E+03  +7.000000E-01\n",
      " 1     00:00:01         0             2            0            0          0     +1.425840E+02  +1.257115E+02  +9.662055E+02  +1.026096E-07\n",
      " 1     00:00:01         1             3            0            0          0     +3.119754E-20  +1.425840E+02  +1.640430E-13  +2.951422E-01\n",
      "\n",
      "Optimization completed after 00:00:04.\n",
      "Computing the Hessian and and updating the weighting matrix ...\n",
      "Computed results after 00:00:02.\n",
      "\n",
      "Problem Results Summary:\n",
      "============================================================================\n",
      "GMM     Objective      Projected       Reduced     Clipped  Weighting Matrix\n",
      "Step      Value      Gradient Norm     Hessian     Shares   Condition Number\n",
      "----  -------------  -------------  -------------  -------  ----------------\n",
      " 1    +3.119754E-20  +1.640430E-13  +3.273696E+03     0      +3.420369E+06  \n",
      "============================================================================\n",
      "\n",
      "Starting optimization ...\n",
      "\n",
      "GMM   Computation  Optimization   Objective   Fixed Point  Contraction  Clipped    Objective      Objective      Projected                 \n",
      "Step     Time       Iterations   Evaluations  Iterations   Evaluations  Shares       Value       Improvement   Gradient Norm      Theta    \n",
      "----  -----------  ------------  -----------  -----------  -----------  -------  -------------  -------------  -------------  -------------\n",
      " 2     00:00:01         0             1            0            0          0     +1.853313E-20                 +9.585652E-09  +2.951422E-01\n",
      "\n",
      "Optimization completed after 00:00:01.\n",
      "Computing the Hessian and estimating standard errors ...\n",
      "Computed results after 00:00:02.\n",
      "\n",
      "Problem Results Summary:\n",
      "===============================================================================================\n",
      "GMM     Objective      Projected       Reduced     Clipped  Weighting Matrix  Covariance Matrix\n",
      "Step      Value      Gradient Norm     Hessian     Shares   Condition Number  Condition Number \n",
      "----  -------------  -------------  -------------  -------  ----------------  -----------------\n",
      " 2    +1.853313E-20  +9.585652E-09  +2.553068E+03     0      +3.805327E+06      +3.688928E+06  \n",
      "===============================================================================================\n",
      "\n",
      "Cumulative Statistics:\n",
      "=================================================\n",
      "Computation  Optimizer  Optimization   Objective \n",
      "   Time      Converged   Iterations   Evaluations\n",
      "-----------  ---------  ------------  -----------\n",
      " 00:00:09       Yes          4             6     \n",
      "=================================================\n",
      "\n",
      "Rho Estimates (Robust SEs in Parentheses):\n",
      "===============\n",
      "  All Groups   \n",
      "---------------\n",
      " +2.951422E-01 \n",
      "(+2.798877E-02)\n",
      "===============\n",
      "\n",
      "Beta Estimates (Robust SEs in Parentheses):\n",
      "===================================================================================\n",
      "    prices            oral          in_hospital        generic         long_run    \n",
      "---------------  ---------------  ---------------  ---------------  ---------------\n",
      " -1.246652E-04    +1.694726E+00    +3.331316E-01    -1.660423E-01    -2.149281E-01 \n",
      "(+1.335944E-04)  (+7.955690E-02)  (+1.900607E-02)  (+5.384393E-02)  (+7.075766E-02)\n",
      "===================================================================================\n"
     ]
    },
    {
     "data": {
      "text/plain": [
       "Problem Results Summary:\n",
       "===============================================================================================\n",
       "GMM     Objective      Projected       Reduced     Clipped  Weighting Matrix  Covariance Matrix\n",
       "Step      Value      Gradient Norm     Hessian     Shares   Condition Number  Condition Number \n",
       "----  -------------  -------------  -------------  -------  ----------------  -----------------\n",
       " 2    +1.853313E-20  +9.585652E-09  +2.553068E+03     0      +3.805327E+06      +3.688928E+06  \n",
       "===============================================================================================\n",
       "\n",
       "Cumulative Statistics:\n",
       "=================================================\n",
       "Computation  Optimizer  Optimization   Objective \n",
       "   Time      Converged   Iterations   Evaluations\n",
       "-----------  ---------  ------------  -----------\n",
       " 00:00:09       Yes          4             6     \n",
       "=================================================\n",
       "\n",
       "Rho Estimates (Robust SEs in Parentheses):\n",
       "===============\n",
       "  All Groups   \n",
       "---------------\n",
       " +2.951422E-01 \n",
       "(+2.798877E-02)\n",
       "===============\n",
       "\n",
       "Beta Estimates (Robust SEs in Parentheses):\n",
       "===================================================================================\n",
       "    prices            oral          in_hospital        generic         long_run    \n",
       "---------------  ---------------  ---------------  ---------------  ---------------\n",
       " -1.246652E-04    +1.694726E+00    +3.331316E-01    -1.660423E-01    -2.149281E-01 \n",
       "(+1.335944E-04)  (+7.955690E-02)  (+1.900607E-02)  (+5.384393E-02)  (+7.075766E-02)\n",
       "==================================================================================="
      ]
     },
     "execution_count": 897,
     "metadata": {},
     "output_type": "execute_result"
    }
   ],
   "source": [
    "updated_problem=instruments_results.to_problem()\n",
    "updated_results=updated_problem.solve(rho=0.7,optimization=optimization)\n",
    "updated_results"
   ]
  },
  {
   "cell_type": "code",
   "execution_count": 898,
   "metadata": {},
   "outputs": [
    {
     "name": "stdout",
     "output_type": "stream",
     "text": [
      "[[-2.0000e-04  2.4044e+00  4.7260e-01 -2.3560e-01 -3.0490e-01]]\n"
     ]
    }
   ],
   "source": [
    "print(np.round(updated_results.beta.T/(1-updated_results.rho),4))"
   ]
  },
  {
   "cell_type": "code",
   "execution_count": 899,
   "metadata": {},
   "outputs": [
    {
     "name": "stdout",
     "output_type": "stream",
     "text": [
      "Computing marginal costs ...\n",
      "Finished after 00:00:01.\n",
      "\n"
     ]
    },
    {
     "data": {
      "image/png": "[encoded data removed]",
      "text/plain": [
       "<Figure size 432x288 with 1 Axes>"
      ]
     },
     "metadata": {
      "needs_background": "light"
     },
     "output_type": "display_data"
    },
    {
     "name": "stdout",
     "output_type": "stream",
     "text": [
      "Computing markups ...\n",
      "Finished after 00:00:00.\n",
      "\n"
     ]
    },
    {
     "data": {
      "text/plain": [
       "<matplotlib.legend.Legend at 0x211815f5660>"
      ]
     },
     "execution_count": 899,
     "metadata": {},
     "output_type": "execute_result"
    },
    {
     "data": {
      "image/png": "[encoded data removed]",
      "text/plain": [
       "<Figure size 432x288 with 1 Axes>"
      ]
     },
     "metadata": {
      "needs_background": "light"
     },
     "output_type": "display_data"
    }
   ],
   "source": [
    "costs = updated_results.compute_costs()\n",
    "plt.hist(costs, bins=50);\n",
    "plt.legend([\"Marginal Costs\"]);\n",
    "plt.show()\n",
    "markups = updated_results.compute_markups(costs=costs)\n",
    "plt.hist(markups, bins=50)\n",
    "plt.legend([\"Markups\"])"
   ]
  },
  {
   "cell_type": "code",
   "execution_count": 901,
   "metadata": {},
   "outputs": [
    {
     "name": "stdout",
     "output_type": "stream",
     "text": [
      "Computing consumer surpluses with the equation that assumes away nonlinear income effects ...\n",
      "Finished after 00:00:00.\n",
      "\n"
     ]
    },
    {
     "data": {
      "text/plain": [
       "array([274398.02882862])"
      ]
     },
     "execution_count": 901,
     "metadata": {},
     "output_type": "execute_result"
    }
   ],
   "source": [
    "cs=updated_results.compute_consumer_surpluses()\n",
    "sum(cs)"
   ]
  },
  {
   "cell_type": "code",
   "execution_count": 848,
   "metadata": {},
   "outputs": [],
   "source": [
    "import datetime\n",
    "\n",
    "# Get the current date and time\n",
    "current_time = datetime.datetime.now()\n",
    "\n",
    "# Format the time as a string\n",
    "time_string = current_time.strftime(\"%Y-%m-%d_%H-%M-%S\")\n",
    "if save:\n",
    "    logit_results.to_pickle(f\"./results/MNL_len3_{time_string}.pkl\")"
   ]
  },
  {
   "cell_type": "code",
   "execution_count": 849,
   "metadata": {},
   "outputs": [
    {
     "name": "stdout",
     "output_type": "stream",
     "text": [
      "Computing elasticities with respect to prices ...\n",
      "Finished after 00:00:00.\n",
      "\n"
     ]
    }
   ],
   "source": [
    "elasticities = logit_results.compute_elasticities()"
   ]
  },
  {
   "cell_type": "code",
   "execution_count": 850,
   "metadata": {},
   "outputs": [
    {
     "data": {
      "text/plain": [
       "<matplotlib.colorbar.Colorbar at 0x21172dcfc40>"
      ]
     },
     "execution_count": 850,
     "metadata": {},
     "output_type": "execute_result"
    },
    {
     "data": {
      "image/png": "[encoded data removed]",
      "text/plain": [
       "<Figure size 288x288 with 2 Axes>"
      ]
     },
     "metadata": {
      "needs_background": "light"
     },
     "output_type": "display_data"
    }
   ],
   "source": [
    "%matplotlib inline\n",
    "import matplotlib.pyplot as plt\n",
    "single_market = product_data['market_ids'] == '131-2015'\n",
    "K=sum(single_market)\n",
    "plt.colorbar(plt.matshow(elasticities[single_market][:,:K]))"
   ]
  },
  {
   "cell_type": "code",
   "execution_count": 851,
   "metadata": {},
   "outputs": [
    {
     "data": {
      "text/plain": [
       "((155, 22), 155)"
      ]
     },
     "execution_count": 851,
     "metadata": {},
     "output_type": "execute_result"
    }
   ],
   "source": [
    "product_data[single_market].shape,K"
   ]
  },
  {
   "cell_type": "code",
   "execution_count": 852,
   "metadata": {},
   "outputs": [
    {
     "data": {
      "text/plain": [
       "array([[-1.14756297e-02,  4.28626504e-05,  2.11230769e-04, ...,\n",
       "         2.23135966e-04,  9.84895328e-05,  1.61075434e-05],\n",
       "       [ 1.77845584e-04, -1.16106126e-02,  2.11230769e-04, ...,\n",
       "         2.23135966e-04,  9.84895328e-05,  1.61075434e-05],\n",
       "       [ 1.77845584e-04,  4.28626504e-05, -6.66914350e-03, ...,\n",
       "         2.23135966e-04,  9.84895328e-05,  1.61075434e-05],\n",
       "       ...,\n",
       "       [ 1.77845584e-04,  4.28626504e-05,  2.11230769e-04, ...,\n",
       "        -2.68898514e-01,  9.84895328e-05,  1.61075434e-05],\n",
       "       [ 1.77845584e-04,  4.28626504e-05,  2.11230769e-04, ...,\n",
       "         2.23135966e-04, -1.22504194e-01,  1.61075434e-05],\n",
       "       [ 1.77845584e-04,  4.28626504e-05,  2.11230769e-04, ...,\n",
       "         2.23135966e-04,  9.84895328e-05, -2.15136245e-02]])"
      ]
     },
     "execution_count": 852,
     "metadata": {},
     "output_type": "execute_result"
    }
   ],
   "source": [
    "elasticities[single_market][:,:K]"
   ]
  },
  {
   "cell_type": "code",
   "execution_count": 853,
   "metadata": {},
   "outputs": [
    {
     "name": "stdout",
     "output_type": "stream",
     "text": [
      "Computing diversion ratios with respect to prices ...\n",
      "Finished after 00:00:00.\n",
      "\n"
     ]
    },
    {
     "data": {
      "text/plain": [
       "<matplotlib.colorbar.Colorbar at 0x21173f322f0>"
      ]
     },
     "execution_count": 853,
     "metadata": {},
     "output_type": "execute_result"
    },
    {
     "data": {
      "image/png": "[encoded data removed]",
      "text/plain": [
       "<Figure size 288x288 with 2 Axes>"
      ]
     },
     "metadata": {
      "needs_background": "light"
     },
     "output_type": "display_data"
    }
   ],
   "source": [
    "diversions = logit_results.compute_diversion_ratios()\n",
    "plt.colorbar(plt.matshow(diversions[single_market][:,:K]))"
   ]
  }
 ],
 "metadata": {
  "kernelspec": {
   "display_name": "Python 3",
   "language": "python",
   "name": "python3"
  },
  "language_info": {
   "codemirror_mode": {
    "name": "ipython",
    "version": 3
   },
   "file_extension": ".py",
   "mimetype": "text/x-python",
   "name": "python",
   "nbconvert_exporter": "python",
   "pygments_lexer": "ipython3",
   "version": "3.10.4"
  },
  "orig_nbformat": 4
 },
 "nbformat": 4,
 "nbformat_minor": 2
}
