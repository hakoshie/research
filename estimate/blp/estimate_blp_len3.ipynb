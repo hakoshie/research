{
 "cells": [
  {
   "cell_type": "code",
   "execution_count": 310,
   "metadata": {},
   "outputs": [],
   "source": [
    "import pandas as pd\n",
    "import numpy as np\n",
    "import statsmodels.api as sm\n",
    "# from linearmodels.panel.data import PanelData\n",
    "# from linearmodels.panel import PanelOLS, PooledOLS, RandomEffects, compare\n",
    "import matplotlib.pyplot as plt\n",
    "import pyblp"
   ]
  },
  {
   "cell_type": "code",
   "execution_count": 311,
   "metadata": {},
   "outputs": [
    {
     "name": "stdout",
     "output_type": "stream",
     "text": [
      "Index(['薬効分類', '薬効分類名称', '医薬品コード', '医薬品名', '薬価基準収載医薬品コード', '薬価', 'generic',\n",
      "       '総計', 'year', 'in_hospital', 'oral', 'id_l4', 'Approved', 'KEGG',\n",
      "       'Ingredient', 'date', 'release_year', '成分', 'variable', 'id_x',\n",
      "       'revenue', 'elapsed', 'elapsed_m6', 'elapsed_m5', 'elapsed_m4',\n",
      "       'elapsed_m3', 'elapsed_m2', 'elapsed_m1', 'elapsed_0', 'elapsed_1'],\n",
      "      dtype='object')\n"
     ]
    },
    {
     "name": "stderr",
     "output_type": "stream",
     "text": [
      "C:\\Users\\hakos\\AppData\\Local\\Temp\\ipykernel_45344\\1869924167.py:2: DtypeWarning: Columns (118) have mixed types. Specify dtype option on import or set low_memory=False.\n",
      "  product_data=pd.read_csv(\"../../data/merged/len3_ndb_blp_DN_firm_FC.csv\",encoding=\"utf-8\",index_col=0)\n"
     ]
    }
   ],
   "source": [
    "drop_nonself,drop_self=0,0\n",
    "product_data=pd.read_csv(\"../../data/merged/len3_ndb_blp_DN_firm_FC.csv\",encoding=\"utf-8\",index_col=0)\n",
    "print(product_data.columns[:30])\n",
    "product_data=product_data.rename(columns={\"薬価\":\"prices\",\n",
    "                    # \"lag_mean_price\":\"demand_instruments0\",\n",
    "                    # \"lag_sum_quantity\":\"demand_instruments1\",\n",
    "                    # \"lag_generic_share_q\":\"demand_instruments2\",\n",
    "                    \"同一剤形・規格の後発医薬品がある先発医薬品\":\"long_term\"})\n",
    "# \"long_term\"列の欠損値を0で埋める\n",
    "product_data[\"long_term\"].fillna(0, inplace=True)\n",
    "# \"long_term\"列の\"○\"を1に置き換える\n",
    "product_data[\"long_term\"] = product_data[\"long_term\"].replace(\"○\", 1)\n",
    "# product_data.loc[product_data[\"メーカー名\"]==\"sotc\",\"prices\"]=product_data.loc[product_data[\"メーカー名\"]==\"sotc\",\"mean_price_g\"]\n",
    "# \"year\"列でフィルタリング\n",
    "product_data = product_data[product_data[\"year\"] > 2014]\n",
    "if drop_nonself:\n",
    "    product_data = product_data[product_data[\"メーカー名\"]!=\"nonself\"]\n",
    "if drop_self:\n",
    "    product_data = product_data[product_data[\"メーカー名\"]!=\"self\"]\n",
    "product_data[\"product_ids\"]=product_data[\"医薬品名\"]"
   ]
  },
  {
   "cell_type": "code",
   "execution_count": 312,
   "metadata": {},
   "outputs": [
    {
     "name": "stdout",
     "output_type": "stream",
     "text": [
      "Index(['product_ids', 'market_ids', 'firm_ids', 'prices', 'brand', 'oral',\n",
      "       'generic', 'in_hospital', '薬効分類', 'year', 'shares', 'id_l4', 'long_term',\n",
      "       'otc', 'Pharmacopoeia'],\n",
      "      dtype='object')\n",
      "(24673, 15)\n"
     ]
    }
   ],
   "source": [
    "save=1\n",
    "product_data.loc[:,\"market_ids\"]=product_data.loc[:,\"薬効分類\"].astype(int).astype(str)+\"-\"+product_data.loc[:,\"year\"].astype(int).astype(str)\n",
    "product_data.loc[:,\"firm_ids\"]=product_data.loc[:,\"メーカー名\"].astype(str)\n",
    "product_data.loc[:,\"shares\"]=product_data[\"総計\"]/(120000000*100)\n",
    "\n",
    "\n",
    "# drop which doesn't have generic\n",
    "# product_data=product_data[~((product_data[\"long_term\"]==0)&(product_data[\"generic\"]==0))]\n",
    "product_data=product_data.loc[product_data[\"shares\"]>0]\n",
    "\n",
    "product_data=product_data[[\"product_ids\",\"market_ids\",\"firm_ids\",\"prices\",\"brand\",\"oral\",\"generic\",\"in_hospital\",\"薬効分類\",\"year\",\"shares\",\"id_l4\",\"long_term\",\"otc\",\"Pharmacopoeia\"]]\n",
    "product_data=product_data.astype({\"prices\":float,\"shares\":float,\"oral\":float,\"generic\":int,\"otc\":int,\"in_hospital\":int,\"long_term\":int})\n",
    "# product_data.loc[product_data[\"product_ids\"]=='otc',\"generic\"]=0\n",
    "product_data.reset_index(drop=True,inplace=True)\n",
    "print(product_data.columns[:20])\n",
    "print(product_data.shape)"
   ]
  },
  {
   "cell_type": "code",
   "execution_count": 313,
   "metadata": {},
   "outputs": [],
   "source": [
    "# product_data[\"long_term\"].value_counts()\n",
    "# product_data[\"lag_sum_quantity\"].isna().sum()\n",
    "# product_data.shape\n"
   ]
  },
  {
   "cell_type": "code",
   "execution_count": 314,
   "metadata": {},
   "outputs": [
    {
     "data": {
      "text/plain": [
       "((24673, 12), (24673, 15))"
      ]
     },
     "execution_count": 314,
     "metadata": {},
     "output_type": "execute_result"
    }
   ],
   "source": [
    "demand_instruments=pyblp.build_blp_instruments(pyblp.Formulation(\"1+generic+in_hospital+oral+long_term+Pharmacopoeia\"),product_data=product_data)\n",
    "# demand_instruments=pyblp.build_blp_instruments(formulation=pyblp.Formulation(\"1+prices+generic+oral+in_hospital\"),product_data=product_data)\n",
    "demand_instruments\n",
    "demand_instruments.shape,product_data.shape"
   ]
  },
  {
   "cell_type": "code",
   "execution_count": 315,
   "metadata": {},
   "outputs": [
    {
     "data": {
      "text/plain": [
       "(Index(['product_ids', 'market_ids', 'firm_ids', 'prices', 'brand', 'oral',\n",
       "        'generic', 'in_hospital', '薬効分類', 'year', 'shares', 'id_l4', 'long_term',\n",
       "        'otc', 'Pharmacopoeia', 'demand_instruments0', 'demand_instruments1',\n",
       "        'demand_instruments2', 'demand_instruments3', 'demand_instruments4',\n",
       "        'demand_instruments5', 'demand_instruments6', 'demand_instruments7',\n",
       "        'demand_instruments8', 'demand_instruments9', 'demand_instruments10',\n",
       "        'demand_instruments11'],\n",
       "       dtype='object'),\n",
       " (24673, 27))"
      ]
     },
     "execution_count": 315,
     "metadata": {},
     "output_type": "execute_result"
    }
   ],
   "source": [
    "MD=demand_instruments.shape[1]\n",
    "demand_instruments=pd.DataFrame(demand_instruments, columns=[f'demand_instruments{i}' for i in range(MD)])\n",
    "product_data=pd.concat([product_data,demand_instruments],axis=1)\n",
    "product_data.columns,product_data.shape"
   ]
  },
  {
   "cell_type": "code",
   "execution_count": 316,
   "metadata": {},
   "outputs": [
    {
     "data": {
      "text/plain": [
       "Index(['product_ids', 'market_ids', 'firm_ids', 'prices', 'brand', 'oral',\n",
       "       'generic', 'in_hospital', '薬効分類', 'year', 'shares', 'id_l4', 'long_term',\n",
       "       'otc', 'Pharmacopoeia', 'demand_instruments0', 'demand_instruments1',\n",
       "       'demand_instruments2', 'demand_instruments3', 'demand_instruments4',\n",
       "       'demand_instruments5', 'demand_instruments6', 'demand_instruments7',\n",
       "       'demand_instruments8', 'demand_instruments9', 'demand_instruments10',\n",
       "       'demand_instruments11'],\n",
       "      dtype='object')"
      ]
     },
     "execution_count": 316,
     "metadata": {},
     "output_type": "execute_result"
    }
   ],
   "source": [
    "# lagged demand instruments\n",
    "# demand_instrument_columns = [col for col in product_data.columns if col.startswith('demand_instrument')]\n",
    "# def lag_demand_instruments(group):\n",
    "#     for col in demand_instrument_columns:\n",
    "#         for i in range(N_DI):  # 0から1までのラグを取得\n",
    "#             lagged_column_name = f'demand_instruments{i+N_DI}'\n",
    "#             group[lagged_column_name] = group[col].shift(1)\n",
    "#     return group\n",
    "# product_data=product_data.sort_values(['薬効分類', 'year'])\n",
    "# product_data = product_data.groupby('id_l4').apply(lag_demand_instruments)\n",
    "# product_data.shape\n",
    "\n",
    "product_data.shape\n",
    "product_data.columns[:30]"
   ]
  },
  {
   "cell_type": "code",
   "execution_count": 317,
   "metadata": {},
   "outputs": [
    {
     "data": {
      "text/plain": [
       "24449    2.411551e-05\n",
       "24451    1.879338e-06\n",
       "24453    4.078258e-06\n",
       "24455    1.492886e-07\n",
       "24456    2.772955e-08\n",
       "             ...     \n",
       "24663    6.163747e-06\n",
       "24667    3.567795e-07\n",
       "24669    5.274248e-06\n",
       "24670    2.759326e-07\n",
       "24672    3.052356e-06\n",
       "Name: shares, Length: 113, dtype: float64"
      ]
     },
     "execution_count": 317,
     "metadata": {},
     "output_type": "execute_result"
    }
   ],
   "source": [
    "product_data.loc[product_data[\"product_ids\"]==\"self\"][\"shares\"]"
   ]
  },
  {
   "cell_type": "code",
   "execution_count": 318,
   "metadata": {},
   "outputs": [
    {
     "name": "stdout",
     "output_type": "stream",
     "text": [
      "Initializing the problem ...\n",
      "Absorbing demand-side fixed effects ...\n"
     ]
    },
    {
     "name": "stderr",
     "output_type": "stream",
     "text": [
      "Detected collinearity issues with [otc] and at least one other column in X1. Absorbed fixed effects may be creating collinearity problems. To disable collinearity checks, set options.collinear_atol = options.collinear_rtol = 0.\n",
      "Detected collinearity issues with [demand_instruments6, oral, in_hospital, generic, otc, long_term, Pharmacopoeia] and at least one other column in ZD. Absorbed fixed effects may be creating collinearity problems. To disable collinearity checks, set options.collinear_atol = options.collinear_rtol = 0.\n",
      "Detected that the 2SLS weighting matrix is nearly singular with condition number +1.725500E+27. To disable singularity checks, set options.singular_tol = numpy.inf.\n"
     ]
    },
    {
     "name": "stdout",
     "output_type": "stream",
     "text": [
      "Initialized the problem after 00:00:01.\n",
      "\n",
      "Dimensions:\n",
      "======================================\n",
      " T     N     F    K1    MD    ED    H \n",
      "---  -----  ---  ----  ----  ----  ---\n",
      "175  24673  191   7     18    2     3 \n",
      "======================================\n",
      "\n",
      "Formulations:\n",
      "============================================================================================\n",
      "     Column Indices:          0      1         2          3      4      5            6      \n",
      "--------------------------  ------  ----  -----------  -------  ---  --------  -------------\n",
      "X1: Linear Characteristics  prices  oral  in_hospital  generic  otc  long_term  Pharmacopoeia\n",
      "============================================================================================\n",
      "Solving the problem ...\n",
      "\n",
      "Rho Initial Values:\n",
      "=============\n",
      " All Groups  \n",
      "-------------\n",
      "+7.000000E-01\n",
      "=============\n",
      "Starting optimization ...\n",
      "\n",
      "GMM   Computation  Optimization   Objective   Fixed Point  Contraction  Clipped    Objective      Objective      Gradient                  \n",
      "Step     Time       Iterations   Evaluations  Iterations   Evaluations  Shares       Value       Improvement       Norm           Theta    \n",
      "----  -----------  ------------  -----------  -----------  -----------  -------  -------------  -------------  -------------  -------------\n",
      " 1     00:00:01         0             1            0            0          0     +4.209608E+01                 +1.558599E+02  +7.000000E-01\n"
     ]
    },
    {
     "ename": "KeyboardInterrupt",
     "evalue": "",
     "output_type": "error",
     "traceback": [
      "\u001b[1;31m---------------------------------------------------------------------------\u001b[0m",
      "\u001b[1;31mKeyboardInterrupt\u001b[0m                         Traceback (most recent call last)",
      "\u001b[1;32mc:\\Users\\hakos\\GDrive\\Downloads\\Research\\estimate\\blp\\estimate_blp_len3.ipynb セル 9\u001b[0m line \u001b[0;36m<cell line: 12>\u001b[1;34m()\u001b[0m\n\u001b[0;32m     <a href='vscode-notebook-cell:/c%3A/Users/hakos/GDrive/Downloads/Research/estimate/blp/estimate_blp_len3.ipynb#X10sZmlsZQ%3D%3D?line=9'>10</a>\u001b[0m \u001b[39m# problem\u001b[39;00m\n\u001b[0;32m     <a href='vscode-notebook-cell:/c%3A/Users/hakos/GDrive/Downloads/Research/estimate/blp/estimate_blp_len3.ipynb#X10sZmlsZQ%3D%3D?line=10'>11</a>\u001b[0m optimization\u001b[39m=\u001b[39mpyblp\u001b[39m.\u001b[39mOptimization(\u001b[39m'\u001b[39m\u001b[39mbfgs\u001b[39m\u001b[39m'\u001b[39m)\n\u001b[1;32m---> <a href='vscode-notebook-cell:/c%3A/Users/hakos/GDrive/Downloads/Research/estimate/blp/estimate_blp_len3.ipynb#X10sZmlsZQ%3D%3D?line=11'>12</a>\u001b[0m logit_results \u001b[39m=\u001b[39m problem\u001b[39m.\u001b[39;49msolve(rho\u001b[39m=\u001b[39;49m\u001b[39m0.7\u001b[39;49m, optimization\u001b[39m=\u001b[39;49moptimization)\n\u001b[0;32m     <a href='vscode-notebook-cell:/c%3A/Users/hakos/GDrive/Downloads/Research/estimate/blp/estimate_blp_len3.ipynb#X10sZmlsZQ%3D%3D?line=12'>13</a>\u001b[0m logit_results\n",
      "File \u001b[1;32mc:\\Users\\hakos\\AppData\\Local\\Programs\\Python\\Python310\\lib\\site-packages\\pyblp\\economies\\problem.py:687\u001b[0m, in \u001b[0;36mProblemEconomy.solve\u001b[1;34m(self, sigma, pi, rho, beta, gamma, sigma_bounds, pi_bounds, rho_bounds, beta_bounds, gamma_bounds, delta, method, initial_update, optimization, scale_objective, check_optimality, finite_differences, error_behavior, error_punishment, delta_behavior, iteration, fp_type, shares_bounds, costs_bounds, W, center_moments, W_type, se_type, covariance_moments_mean, micro_moments, micro_sample_covariances, resample_agent_data)\u001b[0m\n\u001b[0;32m    685\u001b[0m output(\u001b[39mf\u001b[39m\u001b[39m\"\u001b[39m\u001b[39mStarting optimization ...\u001b[39m\u001b[39m\"\u001b[39m)\n\u001b[0;32m    686\u001b[0m output(\u001b[39m\"\u001b[39m\u001b[39m\"\u001b[39m)\n\u001b[1;32m--> 687\u001b[0m theta, optimization_stats \u001b[39m=\u001b[39m optimization\u001b[39m.\u001b[39;49m_optimize(theta, theta_bounds, wrapper)\n\u001b[0;32m    688\u001b[0m status \u001b[39m=\u001b[39m \u001b[39m\"\u001b[39m\u001b[39mcompleted\u001b[39m\u001b[39m\"\u001b[39m \u001b[39mif\u001b[39;00m optimization_stats\u001b[39m.\u001b[39mconverged \u001b[39melse\u001b[39;00m \u001b[39m\"\u001b[39m\u001b[39mfailed\u001b[39m\u001b[39m\"\u001b[39m\n\u001b[0;32m    689\u001b[0m optimization_end_time \u001b[39m=\u001b[39m time\u001b[39m.\u001b[39mtime()\n",
      "File \u001b[1;32mc:\\Users\\hakos\\AppData\\Local\\Programs\\Python\\Python310\\lib\\site-packages\\pyblp\\configurations\\optimization.py:290\u001b[0m, in \u001b[0;36mOptimization._optimize\u001b[1;34m(self, initial, bounds, verbose_objective_function)\u001b[0m\n\u001b[0;32m    287\u001b[0m raw_bounds \u001b[39m=\u001b[39m \u001b[39mNone\u001b[39;00m \u001b[39mif\u001b[39;00m bounds \u001b[39mis\u001b[39;00m \u001b[39mNone\u001b[39;00m \u001b[39mor\u001b[39;00m \u001b[39mnot\u001b[39;00m \u001b[39mself\u001b[39m\u001b[39m.\u001b[39m_supports_bounds \u001b[39melse\u001b[39;00m [(\u001b[39mfloat\u001b[39m(l), \u001b[39mfloat\u001b[39m(u)) \u001b[39mfor\u001b[39;00m l, u \u001b[39min\u001b[39;00m bounds]\n\u001b[0;32m    289\u001b[0m \u001b[39m# solve the problem and convert the raw final values to the same data type and shape as the initial values\u001b[39;00m\n\u001b[1;32m--> 290\u001b[0m raw_final, converged \u001b[39m=\u001b[39m \u001b[39mself\u001b[39m\u001b[39m.\u001b[39m_optimizer(\n\u001b[0;32m    291\u001b[0m     raw_initial, raw_bounds, objective_wrapper, iteration_callback, \u001b[39m*\u001b[39m\u001b[39m*\u001b[39m\u001b[39mself\u001b[39m\u001b[39m.\u001b[39m_method_options\n\u001b[0;32m    292\u001b[0m )\n\u001b[0;32m    293\u001b[0m final \u001b[39m=\u001b[39m np\u001b[39m.\u001b[39masanyarray(raw_final)\u001b[39m.\u001b[39mastype(initial\u001b[39m.\u001b[39mdtype, copy\u001b[39m=\u001b[39m\u001b[39mFalse\u001b[39;00m)\u001b[39m.\u001b[39mreshape(initial\u001b[39m.\u001b[39mshape)\n\u001b[0;32m    294\u001b[0m stats \u001b[39m=\u001b[39m SolverStats(converged, iterations, evaluations)\n",
      "File \u001b[1;32mc:\\Users\\hakos\\AppData\\Local\\Programs\\Python\\Python310\\lib\\site-packages\\pyblp\\configurations\\optimization.py:338\u001b[0m, in \u001b[0;36mscipy_optimizer\u001b[1;34m(initial_values, bounds, objective_function, iteration_callback, method, compute_gradient, **scipy_options)\u001b[0m\n\u001b[0;32m    336\u001b[0m \u001b[39m# call the SciPy function\u001b[39;00m\n\u001b[0;32m    337\u001b[0m callback \u001b[39m=\u001b[39m \u001b[39mlambda\u001b[39;00m \u001b[39m*\u001b[39m_: iteration_callback()\n\u001b[1;32m--> 338\u001b[0m results \u001b[39m=\u001b[39m scipy\u001b[39m.\u001b[39;49moptimize\u001b[39m.\u001b[39;49mminimize(\n\u001b[0;32m    339\u001b[0m     objective_wrapper, initial_values, method\u001b[39m=\u001b[39;49mmethod, jac\u001b[39m=\u001b[39;49mgradient_wrapper \u001b[39mif\u001b[39;49;00m compute_gradient \u001b[39melse\u001b[39;49;00m \u001b[39mFalse\u001b[39;49;00m,\n\u001b[0;32m    340\u001b[0m     hess\u001b[39m=\u001b[39;49mhess, bounds\u001b[39m=\u001b[39;49mbounds, callback\u001b[39m=\u001b[39;49mcallback, options\u001b[39m=\u001b[39;49mscipy_options\n\u001b[0;32m    341\u001b[0m )\n\u001b[0;32m    342\u001b[0m \u001b[39mreturn\u001b[39;00m results\u001b[39m.\u001b[39mx, results\u001b[39m.\u001b[39msuccess\n",
      "File \u001b[1;32mc:\\Users\\hakos\\AppData\\Local\\Programs\\Python\\Python310\\lib\\site-packages\\scipy\\optimize\\_minimize.py:691\u001b[0m, in \u001b[0;36mminimize\u001b[1;34m(fun, x0, args, method, jac, hess, hessp, bounds, constraints, tol, callback, options)\u001b[0m\n\u001b[0;32m    689\u001b[0m     res \u001b[39m=\u001b[39m _minimize_cg(fun, x0, args, jac, callback, \u001b[39m*\u001b[39m\u001b[39m*\u001b[39moptions)\n\u001b[0;32m    690\u001b[0m \u001b[39melif\u001b[39;00m meth \u001b[39m==\u001b[39m \u001b[39m'\u001b[39m\u001b[39mbfgs\u001b[39m\u001b[39m'\u001b[39m:\n\u001b[1;32m--> 691\u001b[0m     res \u001b[39m=\u001b[39m _minimize_bfgs(fun, x0, args, jac, callback, \u001b[39m*\u001b[39m\u001b[39m*\u001b[39moptions)\n\u001b[0;32m    692\u001b[0m \u001b[39melif\u001b[39;00m meth \u001b[39m==\u001b[39m \u001b[39m'\u001b[39m\u001b[39mnewton-cg\u001b[39m\u001b[39m'\u001b[39m:\n\u001b[0;32m    693\u001b[0m     res \u001b[39m=\u001b[39m _minimize_newtoncg(fun, x0, args, jac, hess, hessp, callback,\n\u001b[0;32m    694\u001b[0m                              \u001b[39m*\u001b[39m\u001b[39m*\u001b[39moptions)\n",
      "File \u001b[1;32mc:\\Users\\hakos\\AppData\\Local\\Programs\\Python\\Python310\\lib\\site-packages\\scipy\\optimize\\_optimize.py:1388\u001b[0m, in \u001b[0;36m_minimize_bfgs\u001b[1;34m(fun, x0, args, jac, callback, gtol, norm, eps, maxiter, disp, return_all, finite_diff_rel_step, xrtol, **unknown_options)\u001b[0m\n\u001b[0;32m   1385\u001b[0m pk \u001b[39m=\u001b[39m \u001b[39m-\u001b[39mnp\u001b[39m.\u001b[39mdot(Hk, gfk)\n\u001b[0;32m   1386\u001b[0m \u001b[39mtry\u001b[39;00m:\n\u001b[0;32m   1387\u001b[0m     alpha_k, fc, gc, old_fval, old_old_fval, gfkp1 \u001b[39m=\u001b[39m \\\n\u001b[1;32m-> 1388\u001b[0m              _line_search_wolfe12(f, myfprime, xk, pk, gfk,\n\u001b[0;32m   1389\u001b[0m                                   old_fval, old_old_fval, amin\u001b[39m=\u001b[39;49m\u001b[39m1e-100\u001b[39;49m, amax\u001b[39m=\u001b[39;49m\u001b[39m1e100\u001b[39;49m)\n\u001b[0;32m   1390\u001b[0m \u001b[39mexcept\u001b[39;00m _LineSearchError:\n\u001b[0;32m   1391\u001b[0m     \u001b[39m# Line search failed to find a better solution.\u001b[39;00m\n\u001b[0;32m   1392\u001b[0m     warnflag \u001b[39m=\u001b[39m \u001b[39m2\u001b[39m\n",
      "File \u001b[1;32mc:\\Users\\hakos\\AppData\\Local\\Programs\\Python\\Python310\\lib\\site-packages\\scipy\\optimize\\_optimize.py:1160\u001b[0m, in \u001b[0;36m_line_search_wolfe12\u001b[1;34m(f, fprime, xk, pk, gfk, old_fval, old_old_fval, **kwargs)\u001b[0m\n\u001b[0;32m   1146\u001b[0m \u001b[39m\"\"\"\u001b[39;00m\n\u001b[0;32m   1147\u001b[0m \u001b[39mSame as line_search_wolfe1, but fall back to line_search_wolfe2 if\u001b[39;00m\n\u001b[0;32m   1148\u001b[0m \u001b[39msuitable step length is not found, and raise an exception if a\u001b[39;00m\n\u001b[1;32m   (...)\u001b[0m\n\u001b[0;32m   1155\u001b[0m \n\u001b[0;32m   1156\u001b[0m \u001b[39m\"\"\"\u001b[39;00m\n\u001b[0;32m   1158\u001b[0m extra_condition \u001b[39m=\u001b[39m kwargs\u001b[39m.\u001b[39mpop(\u001b[39m'\u001b[39m\u001b[39mextra_condition\u001b[39m\u001b[39m'\u001b[39m, \u001b[39mNone\u001b[39;00m)\n\u001b[1;32m-> 1160\u001b[0m ret \u001b[39m=\u001b[39m line_search_wolfe1(f, fprime, xk, pk, gfk,\n\u001b[0;32m   1161\u001b[0m                          old_fval, old_old_fval,\n\u001b[0;32m   1162\u001b[0m                          \u001b[39m*\u001b[39m\u001b[39m*\u001b[39mkwargs)\n\u001b[0;32m   1164\u001b[0m \u001b[39mif\u001b[39;00m ret[\u001b[39m0\u001b[39m] \u001b[39mis\u001b[39;00m \u001b[39mnot\u001b[39;00m \u001b[39mNone\u001b[39;00m \u001b[39mand\u001b[39;00m extra_condition \u001b[39mis\u001b[39;00m \u001b[39mnot\u001b[39;00m \u001b[39mNone\u001b[39;00m:\n\u001b[0;32m   1165\u001b[0m     xp1 \u001b[39m=\u001b[39m xk \u001b[39m+\u001b[39m ret[\u001b[39m0\u001b[39m] \u001b[39m*\u001b[39m pk\n",
      "File \u001b[1;32mc:\\Users\\hakos\\AppData\\Local\\Programs\\Python\\Python310\\lib\\site-packages\\scipy\\optimize\\_linesearch.py:84\u001b[0m, in \u001b[0;36mline_search_wolfe1\u001b[1;34m(f, fprime, xk, pk, gfk, old_fval, old_old_fval, args, c1, c2, amax, amin, xtol)\u001b[0m\n\u001b[0;32m     80\u001b[0m     \u001b[39mreturn\u001b[39;00m np\u001b[39m.\u001b[39mdot(gval[\u001b[39m0\u001b[39m], pk)\n\u001b[0;32m     82\u001b[0m derphi0 \u001b[39m=\u001b[39m np\u001b[39m.\u001b[39mdot(gfk, pk)\n\u001b[1;32m---> 84\u001b[0m stp, fval, old_fval \u001b[39m=\u001b[39m scalar_search_wolfe1(\n\u001b[0;32m     85\u001b[0m         phi, derphi, old_fval, old_old_fval, derphi0,\n\u001b[0;32m     86\u001b[0m         c1\u001b[39m=\u001b[39;49mc1, c2\u001b[39m=\u001b[39;49mc2, amax\u001b[39m=\u001b[39;49mamax, amin\u001b[39m=\u001b[39;49mamin, xtol\u001b[39m=\u001b[39;49mxtol)\n\u001b[0;32m     88\u001b[0m \u001b[39mreturn\u001b[39;00m stp, fc[\u001b[39m0\u001b[39m], gc[\u001b[39m0\u001b[39m], fval, old_fval, gval[\u001b[39m0\u001b[39m]\n",
      "File \u001b[1;32mc:\\Users\\hakos\\AppData\\Local\\Programs\\Python\\Python310\\lib\\site-packages\\scipy\\optimize\\_linesearch.py:160\u001b[0m, in \u001b[0;36mscalar_search_wolfe1\u001b[1;34m(phi, derphi, phi0, old_phi0, derphi0, c1, c2, amax, amin, xtol)\u001b[0m\n\u001b[0;32m    158\u001b[0m \u001b[39mif\u001b[39;00m task[:\u001b[39m2\u001b[39m] \u001b[39m==\u001b[39m \u001b[39mb\u001b[39m\u001b[39m'\u001b[39m\u001b[39mFG\u001b[39m\u001b[39m'\u001b[39m:\n\u001b[0;32m    159\u001b[0m     alpha1 \u001b[39m=\u001b[39m stp\n\u001b[1;32m--> 160\u001b[0m     phi1 \u001b[39m=\u001b[39m phi(stp)\n\u001b[0;32m    161\u001b[0m     derphi1 \u001b[39m=\u001b[39m derphi(stp)\n\u001b[0;32m    162\u001b[0m \u001b[39melse\u001b[39;00m:\n",
      "File \u001b[1;32mc:\\Users\\hakos\\AppData\\Local\\Programs\\Python\\Python310\\lib\\site-packages\\scipy\\optimize\\_linesearch.py:75\u001b[0m, in \u001b[0;36mline_search_wolfe1.<locals>.phi\u001b[1;34m(s)\u001b[0m\n\u001b[0;32m     73\u001b[0m \u001b[39mdef\u001b[39;00m \u001b[39mphi\u001b[39m(s):\n\u001b[0;32m     74\u001b[0m     fc[\u001b[39m0\u001b[39m] \u001b[39m+\u001b[39m\u001b[39m=\u001b[39m \u001b[39m1\u001b[39m\n\u001b[1;32m---> 75\u001b[0m     \u001b[39mreturn\u001b[39;00m f(xk \u001b[39m+\u001b[39;49m s\u001b[39m*\u001b[39;49mpk, \u001b[39m*\u001b[39;49margs)\n",
      "File \u001b[1;32mc:\\Users\\hakos\\AppData\\Local\\Programs\\Python\\Python310\\lib\\site-packages\\scipy\\optimize\\_differentiable_functions.py:267\u001b[0m, in \u001b[0;36mScalarFunction.fun\u001b[1;34m(self, x)\u001b[0m\n\u001b[0;32m    265\u001b[0m \u001b[39mif\u001b[39;00m \u001b[39mnot\u001b[39;00m np\u001b[39m.\u001b[39marray_equal(x, \u001b[39mself\u001b[39m\u001b[39m.\u001b[39mx):\n\u001b[0;32m    266\u001b[0m     \u001b[39mself\u001b[39m\u001b[39m.\u001b[39m_update_x_impl(x)\n\u001b[1;32m--> 267\u001b[0m \u001b[39mself\u001b[39;49m\u001b[39m.\u001b[39;49m_update_fun()\n\u001b[0;32m    268\u001b[0m \u001b[39mreturn\u001b[39;00m \u001b[39mself\u001b[39m\u001b[39m.\u001b[39mf\n",
      "File \u001b[1;32mc:\\Users\\hakos\\AppData\\Local\\Programs\\Python\\Python310\\lib\\site-packages\\scipy\\optimize\\_differentiable_functions.py:251\u001b[0m, in \u001b[0;36mScalarFunction._update_fun\u001b[1;34m(self)\u001b[0m\n\u001b[0;32m    249\u001b[0m \u001b[39mdef\u001b[39;00m \u001b[39m_update_fun\u001b[39m(\u001b[39mself\u001b[39m):\n\u001b[0;32m    250\u001b[0m     \u001b[39mif\u001b[39;00m \u001b[39mnot\u001b[39;00m \u001b[39mself\u001b[39m\u001b[39m.\u001b[39mf_updated:\n\u001b[1;32m--> 251\u001b[0m         \u001b[39mself\u001b[39;49m\u001b[39m.\u001b[39;49m_update_fun_impl()\n\u001b[0;32m    252\u001b[0m         \u001b[39mself\u001b[39m\u001b[39m.\u001b[39mf_updated \u001b[39m=\u001b[39m \u001b[39mTrue\u001b[39;00m\n",
      "File \u001b[1;32mc:\\Users\\hakos\\AppData\\Local\\Programs\\Python\\Python310\\lib\\site-packages\\scipy\\optimize\\_differentiable_functions.py:155\u001b[0m, in \u001b[0;36mScalarFunction.__init__.<locals>.update_fun\u001b[1;34m()\u001b[0m\n\u001b[0;32m    154\u001b[0m \u001b[39mdef\u001b[39;00m \u001b[39mupdate_fun\u001b[39m():\n\u001b[1;32m--> 155\u001b[0m     \u001b[39mself\u001b[39m\u001b[39m.\u001b[39mf \u001b[39m=\u001b[39m fun_wrapped(\u001b[39mself\u001b[39;49m\u001b[39m.\u001b[39;49mx)\n",
      "File \u001b[1;32mc:\\Users\\hakos\\AppData\\Local\\Programs\\Python\\Python310\\lib\\site-packages\\scipy\\optimize\\_differentiable_functions.py:137\u001b[0m, in \u001b[0;36mScalarFunction.__init__.<locals>.fun_wrapped\u001b[1;34m(x)\u001b[0m\n\u001b[0;32m    133\u001b[0m \u001b[39mself\u001b[39m\u001b[39m.\u001b[39mnfev \u001b[39m+\u001b[39m\u001b[39m=\u001b[39m \u001b[39m1\u001b[39m\n\u001b[0;32m    134\u001b[0m \u001b[39m# Send a copy because the user may overwrite it.\u001b[39;00m\n\u001b[0;32m    135\u001b[0m \u001b[39m# Overwriting results in undefined behaviour because\u001b[39;00m\n\u001b[0;32m    136\u001b[0m \u001b[39m# fun(self.x) will change self.x, with the two no longer linked.\u001b[39;00m\n\u001b[1;32m--> 137\u001b[0m fx \u001b[39m=\u001b[39m fun(np\u001b[39m.\u001b[39;49mcopy(x), \u001b[39m*\u001b[39;49margs)\n\u001b[0;32m    138\u001b[0m \u001b[39m# Make sure the function returns a true scalar\u001b[39;00m\n\u001b[0;32m    139\u001b[0m \u001b[39mif\u001b[39;00m \u001b[39mnot\u001b[39;00m np\u001b[39m.\u001b[39misscalar(fx):\n",
      "File \u001b[1;32mc:\\Users\\hakos\\AppData\\Local\\Programs\\Python\\Python310\\lib\\site-packages\\pyblp\\configurations\\optimization.py:315\u001b[0m, in \u001b[0;36mscipy_optimizer.<locals>.objective_wrapper\u001b[1;34m(values)\u001b[0m\n\u001b[0;32m    313\u001b[0m \u001b[39mnonlocal\u001b[39;00m cache\n\u001b[0;32m    314\u001b[0m \u001b[39mif\u001b[39;00m cache \u001b[39mis\u001b[39;00m \u001b[39mNone\u001b[39;00m \u001b[39mor\u001b[39;00m \u001b[39mnot\u001b[39;00m np\u001b[39m.\u001b[39marray_equal(values, cache[\u001b[39m0\u001b[39m]):\n\u001b[1;32m--> 315\u001b[0m     cache \u001b[39m=\u001b[39m (values\u001b[39m.\u001b[39mcopy(), objective_function(values))\n\u001b[0;32m    316\u001b[0m \u001b[39mreturn\u001b[39;00m cache[\u001b[39m1\u001b[39m][\u001b[39m0\u001b[39m]\n",
      "File \u001b[1;32mc:\\Users\\hakos\\AppData\\Local\\Programs\\Python\\Python310\\lib\\site-packages\\pyblp\\configurations\\optimization.py:279\u001b[0m, in \u001b[0;36mOptimization._optimize.<locals>.objective_wrapper\u001b[1;34m(raw_values)\u001b[0m\n\u001b[0;32m    277\u001b[0m raw_values \u001b[39m=\u001b[39m np\u001b[39m.\u001b[39masanyarray(raw_values)\n\u001b[0;32m    278\u001b[0m values \u001b[39m=\u001b[39m raw_values\u001b[39m.\u001b[39mreshape(initial\u001b[39m.\u001b[39mshape)\u001b[39m.\u001b[39mastype(initial\u001b[39m.\u001b[39mdtype, copy\u001b[39m=\u001b[39m\u001b[39mFalse\u001b[39;00m)\n\u001b[1;32m--> 279\u001b[0m objective, gradient \u001b[39m=\u001b[39m verbose_objective_function(values, iterations, evaluations)\n\u001b[0;32m    280\u001b[0m \u001b[39mreturn\u001b[39;00m (\n\u001b[0;32m    281\u001b[0m     \u001b[39mfloat\u001b[39m(objective),\n\u001b[0;32m    282\u001b[0m     \u001b[39mNone\u001b[39;00m \u001b[39mif\u001b[39;00m gradient \u001b[39mis\u001b[39;00m \u001b[39mNone\u001b[39;00m \u001b[39melse\u001b[39;00m gradient\u001b[39m.\u001b[39mastype(raw_values\u001b[39m.\u001b[39mdtype, copy\u001b[39m=\u001b[39m\u001b[39mFalse\u001b[39;00m)\u001b[39m.\u001b[39mflatten()\n\u001b[0;32m    283\u001b[0m )\n",
      "File \u001b[1;32mc:\\Users\\hakos\\AppData\\Local\\Programs\\Python\\Python310\\lib\\site-packages\\pyblp\\economies\\problem.py:664\u001b[0m, in \u001b[0;36mProblemEconomy.solve.<locals>.wrapper\u001b[1;34m(new_theta, iterations, evaluations)\u001b[0m\n\u001b[0;32m    662\u001b[0m \u001b[39massert\u001b[39;00m optimization \u001b[39mis\u001b[39;00m \u001b[39mnot\u001b[39;00m \u001b[39mNone\u001b[39;00m \u001b[39mand\u001b[39;00m shares_bounds \u001b[39mis\u001b[39;00m \u001b[39mnot\u001b[39;00m \u001b[39mNone\u001b[39;00m \u001b[39mand\u001b[39;00m costs_bounds \u001b[39mis\u001b[39;00m \u001b[39mnot\u001b[39;00m \u001b[39mNone\u001b[39;00m\n\u001b[0;32m    663\u001b[0m progress_start_time \u001b[39m=\u001b[39m time\u001b[39m.\u001b[39mtime()\n\u001b[1;32m--> 664\u001b[0m progress \u001b[39m=\u001b[39m compute_step_progress(\n\u001b[0;32m    665\u001b[0m     new_theta, progress, optimization\u001b[39m.\u001b[39;49m_compute_gradient, compute_hessian\u001b[39m=\u001b[39;49m\u001b[39mFalse\u001b[39;49;00m,\n\u001b[0;32m    666\u001b[0m     compute_micro_covariances\u001b[39m=\u001b[39;49m\u001b[39mFalse\u001b[39;49;00m, detect_micro_collinearity\u001b[39m=\u001b[39;49mdetect_micro_collinearity,\n\u001b[0;32m    667\u001b[0m     compute_simulation_covariances\u001b[39m=\u001b[39;49m\u001b[39mFalse\u001b[39;49;00m,\n\u001b[0;32m    668\u001b[0m )\n\u001b[0;32m    669\u001b[0m iteration_stats\u001b[39m.\u001b[39mappend(progress\u001b[39m.\u001b[39miteration_stats)\n\u001b[0;32m    670\u001b[0m progress_time \u001b[39m=\u001b[39m time\u001b[39m.\u001b[39mtime() \u001b[39m-\u001b[39m progress_start_time\n",
      "File \u001b[1;32mc:\\Users\\hakos\\AppData\\Local\\Programs\\Python\\Python310\\lib\\site-packages\\pyblp\\economies\\problem.py:839\u001b[0m, in \u001b[0;36mProblemEconomy._compute_progress\u001b[1;34m(self, parameters, moments, iv, W, scale_objective, error_behavior, error_punishment, delta_behavior, iteration, fp_type, shares_bounds, costs_bounds, finite_differences, covariance_moments_mean, resample_agent_data, theta, progress, compute_gradient, compute_hessian, compute_micro_covariances, detect_micro_collinearity, compute_simulation_covariances, agents_override)\u001b[0m\n\u001b[0;32m    837\u001b[0m parts_collinearity_candidate_values: Dict[Hashable, Dict[MicroDataset, Array]] \u001b[39m=\u001b[39m {}\n\u001b[0;32m    838\u001b[0m generator \u001b[39m=\u001b[39m generate_items(\u001b[39mself\u001b[39m\u001b[39m.\u001b[39munique_market_ids, market_factory, ProblemMarket\u001b[39m.\u001b[39msolve)\n\u001b[1;32m--> 839\u001b[0m \u001b[39mfor\u001b[39;00m t, generated_t \u001b[39min\u001b[39;00m generator:\n\u001b[0;32m    840\u001b[0m     (\n\u001b[0;32m    841\u001b[0m         delta_t, xi_jacobian_t, parts_numerator_t, parts_denominator_t, parts_numerator_jacobian_t,\n\u001b[0;32m    842\u001b[0m         parts_denominator_jacobian_t, parts_covariances_numerator_t, weights_mapping_t, values_mapping_t,\n\u001b[0;32m    843\u001b[0m         clipped_shares_t, iteration_stats_t, tilde_costs_t, omega_jacobian_t, clipped_costs_t, errors_t\n\u001b[0;32m    844\u001b[0m     ) \u001b[39m=\u001b[39m generated_t\n\u001b[0;32m    846\u001b[0m     delta[\u001b[39mself\u001b[39m\u001b[39m.\u001b[39m_product_market_indices[t]] \u001b[39m=\u001b[39m delta_t\n",
      "File \u001b[1;32mc:\\Users\\hakos\\AppData\\Local\\Programs\\Python\\Python310\\lib\\site-packages\\pyblp\\utilities\\basics.py:164\u001b[0m, in \u001b[0;36m<genexpr>\u001b[1;34m(.0)\u001b[0m\n\u001b[0;32m    159\u001b[0m \u001b[39m\"\"\"Generate (key, method(*factory(key))) tuples for each key. The first element returned by factory is an instance\u001b[39;00m\n\u001b[0;32m    160\u001b[0m \u001b[39mof the class to which method is attached. If a process pool has been initialized, use multiprocessing; otherwise,\u001b[39;00m\n\u001b[0;32m    161\u001b[0m \u001b[39muse serial processing.\u001b[39;00m\n\u001b[0;32m    162\u001b[0m \u001b[39m\"\"\"\u001b[39;00m\n\u001b[0;32m    163\u001b[0m \u001b[39mif\u001b[39;00m pool \u001b[39mis\u001b[39;00m \u001b[39mNone\u001b[39;00m:\n\u001b[1;32m--> 164\u001b[0m     \u001b[39mreturn\u001b[39;00m (generate_items_worker((k, factory(k), method)) \u001b[39mfor\u001b[39;00m k \u001b[39min\u001b[39;00m keys)\n\u001b[0;32m    165\u001b[0m \u001b[39mreturn\u001b[39;00m pool\u001b[39m.\u001b[39mimap_unordered(generate_items_worker, ((k, factory(k), method) \u001b[39mfor\u001b[39;00m k \u001b[39min\u001b[39;00m keys))\n",
      "File \u001b[1;32mc:\\Users\\hakos\\AppData\\Local\\Programs\\Python\\Python310\\lib\\site-packages\\pyblp\\utilities\\basics.py:173\u001b[0m, in \u001b[0;36mgenerate_items_worker\u001b[1;34m(args)\u001b[0m\n\u001b[0;32m    169\u001b[0m \u001b[39m\"\"\"Call the specified method of a class instance with any additional arguments. Return the associated key along with\u001b[39;00m\n\u001b[0;32m    170\u001b[0m \u001b[39mthe returned object.\u001b[39;00m\n\u001b[0;32m    171\u001b[0m \u001b[39m\"\"\"\u001b[39;00m\n\u001b[0;32m    172\u001b[0m key, (instance, \u001b[39m*\u001b[39mmethod_args), method \u001b[39m=\u001b[39m args\n\u001b[1;32m--> 173\u001b[0m \u001b[39mreturn\u001b[39;00m key, method(instance, \u001b[39m*\u001b[39;49mmethod_args)\n",
      "File \u001b[1;32mc:\\Users\\hakos\\AppData\\Local\\Programs\\Python\\Python310\\lib\\site-packages\\pyblp\\utilities\\basics.py:665\u001b[0m, in \u001b[0;36mNumericalErrorHandler.__call__.<locals>.wrapper\u001b[1;34m(*args, **kwargs)\u001b[0m\n\u001b[0;32m    663\u001b[0m \u001b[39mwith\u001b[39;00m np\u001b[39m.\u001b[39merrstate(divide\u001b[39m=\u001b[39m\u001b[39m'\u001b[39m\u001b[39mcall\u001b[39m\u001b[39m'\u001b[39m, over\u001b[39m=\u001b[39m\u001b[39m'\u001b[39m\u001b[39mcall\u001b[39m\u001b[39m'\u001b[39m, under\u001b[39m=\u001b[39m\u001b[39m'\u001b[39m\u001b[39mignore\u001b[39m\u001b[39m'\u001b[39m, invalid\u001b[39m=\u001b[39m\u001b[39m'\u001b[39m\u001b[39mcall\u001b[39m\u001b[39m'\u001b[39m):\n\u001b[0;32m    664\u001b[0m     np\u001b[39m.\u001b[39mseterrcall(detector)\n\u001b[1;32m--> 665\u001b[0m     returned \u001b[39m=\u001b[39m decorated(\u001b[39m*\u001b[39margs, \u001b[39m*\u001b[39m\u001b[39m*\u001b[39mkwargs)\n\u001b[0;32m    666\u001b[0m \u001b[39mif\u001b[39;00m detector\u001b[39m.\u001b[39mdetected \u001b[39mis\u001b[39;00m \u001b[39mnot\u001b[39;00m \u001b[39mNone\u001b[39;00m:\n\u001b[0;32m    667\u001b[0m     returned[\u001b[39m-\u001b[39m\u001b[39m1\u001b[39m]\u001b[39m.\u001b[39mappend(detector\u001b[39m.\u001b[39mdetected)\n",
      "File \u001b[1;32mc:\\Users\\hakos\\AppData\\Local\\Programs\\Python\\Python310\\lib\\site-packages\\pyblp\\markets\\problem_market.py:66\u001b[0m, in \u001b[0;36mProblemMarket.solve\u001b[1;34m(self, delta, last_delta, last_tilde_costs, moments, iteration, fp_type, shares_bounds, costs_bounds, compute_jacobians, compute_micro_covariances, keep_micro_mappings)\u001b[0m\n\u001b[0;32m     64\u001b[0m \u001b[39mif\u001b[39;00m compute_jacobians:\n\u001b[0;32m     65\u001b[0m     \u001b[39massert\u001b[39;00m probabilities \u001b[39mis\u001b[39;00m \u001b[39mnot\u001b[39;00m \u001b[39mNone\u001b[39;00m\n\u001b[1;32m---> 66\u001b[0m     xi_jacobian, xi_jacobian_errors \u001b[39m=\u001b[39m \u001b[39mself\u001b[39;49m\u001b[39m.\u001b[39;49msafely_compute_xi_by_theta_jacobian(\n\u001b[0;32m     67\u001b[0m         probabilities, conditionals, probabilities_tangent_mapping\n\u001b[0;32m     68\u001b[0m     )\n\u001b[0;32m     69\u001b[0m     errors\u001b[39m.\u001b[39mextend(xi_jacobian_errors)\n\u001b[0;32m     71\u001b[0m \u001b[39m# if needed, adjust for the contribution of xi's dependence on theta\u001b[39;00m\n",
      "File \u001b[1;32mc:\\Users\\hakos\\AppData\\Local\\Programs\\Python\\Python310\\lib\\site-packages\\pyblp\\utilities\\basics.py:665\u001b[0m, in \u001b[0;36mNumericalErrorHandler.__call__.<locals>.wrapper\u001b[1;34m(*args, **kwargs)\u001b[0m\n\u001b[0;32m    663\u001b[0m \u001b[39mwith\u001b[39;00m np\u001b[39m.\u001b[39merrstate(divide\u001b[39m=\u001b[39m\u001b[39m'\u001b[39m\u001b[39mcall\u001b[39m\u001b[39m'\u001b[39m, over\u001b[39m=\u001b[39m\u001b[39m'\u001b[39m\u001b[39mcall\u001b[39m\u001b[39m'\u001b[39m, under\u001b[39m=\u001b[39m\u001b[39m'\u001b[39m\u001b[39mignore\u001b[39m\u001b[39m'\u001b[39m, invalid\u001b[39m=\u001b[39m\u001b[39m'\u001b[39m\u001b[39mcall\u001b[39m\u001b[39m'\u001b[39m):\n\u001b[0;32m    664\u001b[0m     np\u001b[39m.\u001b[39mseterrcall(detector)\n\u001b[1;32m--> 665\u001b[0m     returned \u001b[39m=\u001b[39m decorated(\u001b[39m*\u001b[39margs, \u001b[39m*\u001b[39m\u001b[39m*\u001b[39mkwargs)\n\u001b[0;32m    666\u001b[0m \u001b[39mif\u001b[39;00m detector\u001b[39m.\u001b[39mdetected \u001b[39mis\u001b[39;00m \u001b[39mnot\u001b[39;00m \u001b[39mNone\u001b[39;00m:\n\u001b[0;32m    667\u001b[0m     returned[\u001b[39m-\u001b[39m\u001b[39m1\u001b[39m]\u001b[39m.\u001b[39mappend(detector\u001b[39m.\u001b[39mdetected)\n",
      "File \u001b[1;32mc:\\Users\\hakos\\AppData\\Local\\Programs\\Python\\Python310\\lib\\site-packages\\pyblp\\markets\\problem_market.py:157\u001b[0m, in \u001b[0;36mProblemMarket.safely_compute_xi_by_theta_jacobian\u001b[1;34m(self, probabilities, conditionals, probabilities_tangent_mapping)\u001b[0m\n\u001b[0;32m    150\u001b[0m \u001b[39m@NumericalErrorHandler\u001b[39m(exceptions\u001b[39m.\u001b[39mXiByThetaJacobianNumericalError)\n\u001b[0;32m    151\u001b[0m \u001b[39mdef\u001b[39;00m \u001b[39msafely_compute_xi_by_theta_jacobian\u001b[39m(\n\u001b[0;32m    152\u001b[0m         \u001b[39mself\u001b[39m, probabilities: Array, conditionals: Optional[Array],\n\u001b[0;32m    153\u001b[0m         probabilities_tangent_mapping: Dict[\u001b[39mint\u001b[39m, Array]) \u001b[39m-\u001b[39m\u001b[39m>\u001b[39m Tuple[Array, List[Error]]:\n\u001b[0;32m    154\u001b[0m     \u001b[39m\"\"\"Compute the Jacobian (holding beta fixed) of xi (equivalently, of delta) with respect to theta, handling any\u001b[39;00m\n\u001b[0;32m    155\u001b[0m \u001b[39m    numerical errors.\u001b[39;00m\n\u001b[0;32m    156\u001b[0m \u001b[39m    \"\"\"\u001b[39;00m\n\u001b[1;32m--> 157\u001b[0m     \u001b[39mreturn\u001b[39;00m \u001b[39mself\u001b[39;49m\u001b[39m.\u001b[39;49mcompute_xi_by_theta_jacobian(probabilities, conditionals, probabilities_tangent_mapping)\n",
      "File \u001b[1;32mc:\\Users\\hakos\\AppData\\Local\\Programs\\Python\\Python310\\lib\\site-packages\\pyblp\\markets\\market.py:1349\u001b[0m, in \u001b[0;36mMarket.compute_xi_by_theta_jacobian\u001b[1;34m(self, probabilities, conditionals, probabilities_tangent_mapping)\u001b[0m\n\u001b[0;32m   1347\u001b[0m shares_by_xi_jacobian \u001b[39m=\u001b[39m \u001b[39mself\u001b[39m\u001b[39m.\u001b[39mcompute_shares_by_xi_jacobian(probabilities, conditionals)\n\u001b[0;32m   1348\u001b[0m shares_by_theta_jacobian \u001b[39m=\u001b[39m \u001b[39mself\u001b[39m\u001b[39m.\u001b[39mcompute_shares_by_theta_jacobian(probabilities_tangent_mapping)\n\u001b[1;32m-> 1349\u001b[0m xi_by_theta_jacobian, replacement \u001b[39m=\u001b[39m approximately_solve(shares_by_xi_jacobian, \u001b[39m-\u001b[39;49mshares_by_theta_jacobian)\n\u001b[0;32m   1350\u001b[0m \u001b[39mif\u001b[39;00m replacement:\n\u001b[0;32m   1351\u001b[0m     errors\u001b[39m.\u001b[39mappend(exceptions\u001b[39m.\u001b[39mSharesByXiJacobianInversionError(shares_by_xi_jacobian, replacement))\n",
      "File \u001b[1;32mc:\\Users\\hakos\\AppData\\Local\\Programs\\Python\\Python310\\lib\\site-packages\\pyblp\\utilities\\algebra.py:121\u001b[0m, in \u001b[0;36mapproximately_solve\u001b[1;34m(a, b)\u001b[0m\n\u001b[0;32m    119\u001b[0m     \u001b[39mwith\u001b[39;00m warnings\u001b[39m.\u001b[39mcatch_warnings():\n\u001b[0;32m    120\u001b[0m         warnings\u001b[39m.\u001b[39mfilterwarnings(\u001b[39m'\u001b[39m\u001b[39merror\u001b[39m\u001b[39m'\u001b[39m)\n\u001b[1;32m--> 121\u001b[0m         solved \u001b[39m=\u001b[39m scipy\u001b[39m.\u001b[39;49mlinalg\u001b[39m.\u001b[39;49msolve(a, b) \u001b[39mif\u001b[39;00m b\u001b[39m.\u001b[39msize \u001b[39m>\u001b[39m \u001b[39m0\u001b[39m \u001b[39melse\u001b[39;00m b\n\u001b[0;32m    122\u001b[0m         replacement \u001b[39m=\u001b[39m \u001b[39mNone\u001b[39;00m\n\u001b[0;32m    123\u001b[0m \u001b[39mexcept\u001b[39;00m \u001b[39mException\u001b[39;00m:\n",
      "File \u001b[1;32mc:\\Users\\hakos\\AppData\\Local\\Programs\\Python\\Python310\\lib\\site-packages\\scipy\\linalg\\_basic.py:222\u001b[0m, in \u001b[0;36msolve\u001b[1;34m(a, b, sym_pos, lower, overwrite_a, overwrite_b, check_finite, assume_a, transposed)\u001b[0m\n\u001b[0;32m    219\u001b[0m \u001b[39mif\u001b[39;00m assume_a \u001b[39m==\u001b[39m \u001b[39m'\u001b[39m\u001b[39mgen\u001b[39m\u001b[39m'\u001b[39m:\n\u001b[0;32m    220\u001b[0m     gecon, getrf, getrs \u001b[39m=\u001b[39m get_lapack_funcs((\u001b[39m'\u001b[39m\u001b[39mgecon\u001b[39m\u001b[39m'\u001b[39m, \u001b[39m'\u001b[39m\u001b[39mgetrf\u001b[39m\u001b[39m'\u001b[39m, \u001b[39m'\u001b[39m\u001b[39mgetrs\u001b[39m\u001b[39m'\u001b[39m),\n\u001b[0;32m    221\u001b[0m                                            (a1, b1))\n\u001b[1;32m--> 222\u001b[0m     lu, ipvt, info \u001b[39m=\u001b[39m getrf(a1, overwrite_a\u001b[39m=\u001b[39;49moverwrite_a)\n\u001b[0;32m    223\u001b[0m     _solve_check(n, info)\n\u001b[0;32m    224\u001b[0m     x, info \u001b[39m=\u001b[39m getrs(lu, ipvt, b1,\n\u001b[0;32m    225\u001b[0m                     trans\u001b[39m=\u001b[39mtrans, overwrite_b\u001b[39m=\u001b[39moverwrite_b)\n",
      "\u001b[1;31mKeyboardInterrupt\u001b[0m: "
     ]
    }
   ],
   "source": [
    "product_data[\"nesting_ids\"]=product_data[\"in_hospital\"].astype(int).astype(str)+product_data[\"otc\"].astype(int).astype(str)\n",
    "logit_formulation= pyblp.Formulation('prices+oral+in_hospital+generic+otc+long_term+Pharmacopoeia', absorb='C(market_ids)+C(firm_ids)')\n",
    "if drop_self and drop_nonself:\n",
    "    logit_formulation= pyblp.Formulation('prices+oral+in_hospital+generic+long_term+Pharmacopoeia', absorb='C(market_ids)+C(firm_ids)')\n",
    "# logit_formulation= pyblp.Formulation('prices+oral+in_hospital+long_term', absorb='C(market_ids)+C(firm_ids)')\n",
    "logit_formulation\n",
    "# product_data[\"shares\"]-=1e-10\n",
    "# typeで怒られがち\n",
    "problem = pyblp.Problem(product_formulations=logit_formulation, product_data=product_data)\n",
    "# problem\n",
    "optimization=pyblp.Optimization('bfgs')\n",
    "logit_results = problem.solve(rho=0.7, optimization=optimization)\n",
    "logit_results"
   ]
  },
  {
   "cell_type": "code",
   "execution_count": null,
   "metadata": {},
   "outputs": [
    {
     "name": "stdout",
     "output_type": "stream",
     "text": [
      "0.0005 2.5737 -2.5283 0.4433 0.0000 0.4400 0.1968\n",
      "0.0001 0.3267  0.0301 0.0440    nan 0.0533 0.0276\n"
     ]
    }
   ],
   "source": [
    "# print(np.round(logit_results.beta.T/(1-logit_results.rho),4))\n",
    "# print(np.round(logit_results.beta_se.T,6))\n",
    "data = np.vstack((logit_results.beta.T/(1-logit_results.rho),\n",
    "logit_results.beta_se.T))\n",
    "\n",
    "# Find the maximum width for each column\n",
    "max_widths = [max(len(f\"{num:.4f}\") for num in col) for col in zip(*data)]\n",
    "\n",
    "# Format and print the aligned data\n",
    "for row in data:\n",
    "    formatted_row = [f\"{num:.4f}\".rjust(max_width) for num, max_width in zip(row, max_widths)]\n",
    "    print(\" \".join(formatted_row))"
   ]
  },
  {
   "cell_type": "code",
   "execution_count": null,
   "metadata": {},
   "outputs": [
    {
     "name": "stdout",
     "output_type": "stream",
     "text": [
      "Computing optimal instruments for theta ...\n",
      "Computed optimal instruments after 00:00:01.\n",
      "\n",
      "Optimal Instrument Results Summary:\n",
      "=======================\n",
      "Computation  Error Term\n",
      "   Time        Draws   \n",
      "-----------  ----------\n",
      " 00:00:01        1     \n",
      "=======================\n"
     ]
    },
    {
     "data": {
      "text/plain": [
       "Optimal Instrument Results Summary:\n",
       "=======================\n",
       "Computation  Error Term\n",
       "   Time        Draws   \n",
       "-----------  ----------\n",
       " 00:00:01        1     \n",
       "======================="
      ]
     },
     "execution_count": 287,
     "metadata": {},
     "output_type": "execute_result"
    }
   ],
   "source": [
    "instruments_results=logit_results.compute_optimal_instruments()\n",
    "instruments_results"
   ]
  },
  {
   "cell_type": "code",
   "execution_count": null,
   "metadata": {},
   "outputs": [
    {
     "name": "stdout",
     "output_type": "stream",
     "text": [
      "Re-creating the problem ...\n",
      "Absorbing demand-side fixed effects ...\n"
     ]
    },
    {
     "name": "stderr",
     "output_type": "stream",
     "text": [
      "Detected collinearity issues with [otc] and at least one other column in X1. Absorbed fixed effects may be creating collinearity problems. To disable collinearity checks, set options.collinear_atol = options.collinear_rtol = 0.\n",
      "Detected collinearity issues with [otc] and at least one other column in ZD. Absorbed fixed effects may be creating collinearity problems. To disable collinearity checks, set options.collinear_atol = options.collinear_rtol = 0.\n",
      "Detected that the 2SLS weighting matrix is nearly singular with condition number +1.882560E+22. To disable singularity checks, set options.singular_tol = numpy.inf.\n"
     ]
    },
    {
     "name": "stdout",
     "output_type": "stream",
     "text": [
      "Re-created the problem after 00:00:00.\n",
      "\n",
      "Dimensions:\n",
      "======================================\n",
      " T     N     F    K1    MD    ED    H \n",
      "---  -----  ---  ----  ----  ----  ---\n",
      "175  24673  191   7     8     2     3 \n",
      "======================================\n",
      "\n",
      "Formulations:\n",
      "==========================================================================================\n",
      "     Column Indices:          0      1         2         3     4      5            6      \n",
      "--------------------------  ------  ----  -----------  -----  ---  --------  -------------\n",
      "X1: Linear Characteristics  prices  oral  in_hospital  brand  otc  long_term  Pharmacopoeia\n",
      "==========================================================================================\n",
      "Solving the problem ...\n",
      "\n",
      "Rho Initial Values:\n",
      "=============\n",
      " All Groups  \n",
      "-------------\n",
      "+7.000000E-01\n",
      "=============\n",
      "Starting optimization ...\n",
      "\n",
      "GMM   Computation  Optimization   Objective   Fixed Point  Contraction  Clipped    Objective      Objective      Gradient                  \n",
      "Step     Time       Iterations   Evaluations  Iterations   Evaluations  Shares       Value       Improvement       Norm           Theta    \n",
      "----  -----------  ------------  -----------  -----------  -----------  -------  -------------  -------------  -------------  -------------\n",
      " 1     00:00:01         0             1            0            0          0     +2.539243E+02                 +3.404380E+02  +7.000000E-01\n",
      " 1     00:00:01         0             2            0            0          0     +2.648630E+01  +2.274380E+02  +1.099598E+02  +1.710000E+00\n",
      " 1     00:00:01         1             3            0            0          0     +2.085015E-06  +2.648629E+01  +1.167478E-06  +2.191865E+00\n",
      "\n",
      "Optimization completed after 00:00:02.\n",
      "Computing the Hessian and and updating the weighting matrix ...\n"
     ]
    },
    {
     "name": "stderr",
     "output_type": "stream",
     "text": [
      "Detected that the estimated covariance matrix of aggregate GMM moments is nearly singular with condition number +1.717422E+23. To disable singularity checks, set options.singular_tol = numpy.inf.\n"
     ]
    },
    {
     "name": "stdout",
     "output_type": "stream",
     "text": [
      "Computed results after 00:00:03.\n",
      "\n",
      "Problem Results Summary:\n",
      "============================================================================\n",
      "GMM     Objective      Gradient                    Clipped  Weighting Matrix\n",
      "Step      Value          Norm          Hessian     Shares   Condition Number\n",
      "----  -------------  -------------  -------------  -------  ----------------\n",
      " 1    +2.085015E-06  +1.167478E-06  +2.281958E+02     0      +3.229207E+43  \n",
      "============================================================================\n",
      "\n",
      "Starting optimization ...\n",
      "\n",
      "GMM   Computation  Optimization   Objective   Fixed Point  Contraction  Clipped    Objective      Objective      Gradient                  \n",
      "Step     Time       Iterations   Evaluations  Iterations   Evaluations  Shares       Value       Improvement       Norm           Theta    \n",
      "----  -----------  ------------  -----------  -----------  -----------  -------  -------------  -------------  -------------  -------------\n",
      " 2     00:00:01         0             1            0            0          0     +4.023736E-08                 +1.317091E-03  +2.191865E+00\n",
      " 2     00:00:01         0             2            0            0          0     +1.700260E-05                 +2.707440E-02  +2.190548E+00\n",
      " 2     00:00:01         0             3            0            0          0     +9.650667E-25  +4.023736E-08  +1.050099E-12  +2.191804E+00\n",
      "\n",
      "Optimization completed after 00:00:02.\n",
      "Computing the Hessian and estimating standard errors ...\n",
      "Computed results after 00:00:02.\n",
      "\n",
      "Problem Results Summary:\n",
      "===============================================================================================\n",
      "GMM     Objective      Gradient                    Clipped  Weighting Matrix  Covariance Matrix\n",
      "Step      Value          Norm          Hessian     Shares   Condition Number  Condition Number \n",
      "----  -------------  -------------  -------------  -------  ----------------  -----------------\n",
      " 2    +9.650667E-25  +1.050099E-12  +2.155628E+01     0      +3.522846E+20      +1.327145E+22  \n",
      "===============================================================================================\n",
      "\n",
      "Cumulative Statistics:\n",
      "=================================================\n",
      "Computation  Optimizer  Optimization   Objective \n",
      "   Time      Converged   Iterations   Evaluations\n",
      "-----------  ---------  ------------  -----------\n",
      " 00:00:09       Yes          3             8     \n",
      "=================================================\n",
      "\n",
      "Rho Estimates (Robust SEs in Parentheses):\n",
      "===============\n",
      "  All Groups   \n",
      "---------------\n",
      " +2.191804E+00 \n",
      "(+3.045934E-01)\n",
      "===============\n",
      "\n",
      "Beta Estimates (Robust SEs in Parentheses):\n",
      "=====================================================================================================================\n",
      "    prices            oral          in_hospital         brand             otc           long_term       Pharmacopoeia \n",
      "---------------  ---------------  ---------------  ---------------  ---------------  ---------------  ---------------\n",
      " -1.131841E-04    -2.932165E+00    +9.416403E-01    -3.711179E-01    +1.700754E-15    -2.653275E-01    -2.235290E-01 \n",
      "(+2.188482E-04)  (+7.429490E-01)  (+6.941409E-02)  (+1.197134E-01)  (+2.655229E-16)  (+1.230432E-01)  (+6.472935E-02)\n",
      "=====================================================================================================================\n"
     ]
    },
    {
     "name": "stderr",
     "output_type": "stream",
     "text": [
      "Detected that the estimated covariance matrix of aggregate GMM moments is nearly singular with condition number +3.763940E+22. To disable singularity checks, set options.singular_tol = numpy.inf.\n",
      "Detected that the estimated covariance matrix of aggregate GMM moments is nearly singular with condition number +2.715846E+22. To disable singularity checks, set options.singular_tol = numpy.inf.\n"
     ]
    },
    {
     "data": {
      "text/plain": [
       "Problem Results Summary:\n",
       "===============================================================================================\n",
       "GMM     Objective      Gradient                    Clipped  Weighting Matrix  Covariance Matrix\n",
       "Step      Value          Norm          Hessian     Shares   Condition Number  Condition Number \n",
       "----  -------------  -------------  -------------  -------  ----------------  -----------------\n",
       " 2    +9.650667E-25  +1.050099E-12  +2.155628E+01     0      +3.522846E+20      +1.327145E+22  \n",
       "===============================================================================================\n",
       "\n",
       "Cumulative Statistics:\n",
       "=================================================\n",
       "Computation  Optimizer  Optimization   Objective \n",
       "   Time      Converged   Iterations   Evaluations\n",
       "-----------  ---------  ------------  -----------\n",
       " 00:00:09       Yes          3             8     \n",
       "=================================================\n",
       "\n",
       "Rho Estimates (Robust SEs in Parentheses):\n",
       "===============\n",
       "  All Groups   \n",
       "---------------\n",
       " +2.191804E+00 \n",
       "(+3.045934E-01)\n",
       "===============\n",
       "\n",
       "Beta Estimates (Robust SEs in Parentheses):\n",
       "=====================================================================================================================\n",
       "    prices            oral          in_hospital         brand             otc           long_term       Pharmacopoeia \n",
       "---------------  ---------------  ---------------  ---------------  ---------------  ---------------  ---------------\n",
       " -1.131841E-04    -2.932165E+00    +9.416403E-01    -3.711179E-01    +1.700754E-15    -2.653275E-01    -2.235290E-01 \n",
       "(+2.188482E-04)  (+7.429490E-01)  (+6.941409E-02)  (+1.197134E-01)  (+2.655229E-16)  (+1.230432E-01)  (+6.472935E-02)\n",
       "====================================================================================================================="
      ]
     },
     "execution_count": 288,
     "metadata": {},
     "output_type": "execute_result"
    }
   ],
   "source": [
    "updated_problem=instruments_results.to_problem()\n",
    "updated_results=updated_problem.solve(rho=0.7,optimization=optimization)\n",
    "updated_results"
   ]
  },
  {
   "cell_type": "code",
   "execution_count": null,
   "metadata": {},
   "outputs": [
    {
     "name": "stdout",
     "output_type": "stream",
     "text": [
      "[[ 1.0000e-04  2.4603e+00 -7.9010e-01  3.1140e-01 -0.0000e+00  2.2260e-01\n",
      "   1.8760e-01]]\n"
     ]
    }
   ],
   "source": [
    "print(np.round(updated_results.beta.T/(1-updated_results.rho),4))"
   ]
  },
  {
   "cell_type": "code",
   "execution_count": null,
   "metadata": {},
   "outputs": [
    {
     "name": "stdout",
     "output_type": "stream",
     "text": [
      "Computing marginal costs ...\n",
      "Finished after 00:00:01.\n",
      "\n"
     ]
    },
    {
     "data": {
      "image/png": "[encoded data removed]",
      "text/plain": [
       "<Figure size 432x288 with 1 Axes>"
      ]
     },
     "metadata": {
      "needs_background": "light"
     },
     "output_type": "display_data"
    },
    {
     "name": "stdout",
     "output_type": "stream",
     "text": [
      "Computing markups ...\n",
      "Finished after 00:00:00.\n",
      "\n"
     ]
    },
    {
     "data": {
      "text/plain": [
       "<matplotlib.legend.Legend at 0x2c6dc3aa260>"
      ]
     },
     "execution_count": 290,
     "metadata": {},
     "output_type": "execute_result"
    },
    {
     "data": {
      "image/png": "[encoded data removed]",
      "text/plain": [
       "<Figure size 432x288 with 1 Axes>"
      ]
     },
     "metadata": {
      "needs_background": "light"
     },
     "output_type": "display_data"
    }
   ],
   "source": [
    "costs = updated_results.compute_costs()\n",
    "plt.hist(costs, bins=50)\n",
    "plt.legend([\"Marginal Costs\"])\n",
    "plt.show()\n",
    "markups = updated_results.compute_markups(costs=costs)\n",
    "plt.hist(markups, bins=50)\n",
    "plt.legend([\"Markups\"])"
   ]
  },
  {
   "cell_type": "code",
   "execution_count": null,
   "metadata": {},
   "outputs": [
    {
     "name": "stdout",
     "output_type": "stream",
     "text": [
      "Computing consumer surpluses with the equation that assumes away nonlinear income effects ...\n",
      "Finished after 00:00:00.\n",
      "\n",
      "Computing consumer surpluses with the equation that assumes away nonlinear income effects ...\n",
      "\n",
      "Encountered a numerical error when computing a post-estimation output. Errors encountered: divide by zero.\n",
      "\n",
      "Finished after 00:00:00.\n",
      "\n",
      "Computing consumer surpluses with the equation that assumes away nonlinear income effects ...\n",
      "\n",
      "Encountered a numerical error when computing a post-estimation output. Errors encountered: divide by zero.\n",
      "\n",
      "Finished after 00:00:00.\n",
      "\n",
      "Computing consumer surpluses with the equation that assumes away nonlinear income effects ...\n",
      "\n",
      "Encountered a numerical error when computing a post-estimation output. Errors encountered: divide by zero.\n",
      "\n",
      "Finished after 00:00:00.\n",
      "\n",
      "[ 1. inf inf inf]\n",
      "[302262.15712788] [inf] [inf] [inf]\n"
     ]
    }
   ],
   "source": [
    "cs=updated_results.compute_consumer_surpluses()\n",
    "sum(cs),np.mean(cs)\n",
    "cs2=updated_results.compute_consumer_surpluses(eliminate_product_ids=[\"nonself\"])\n",
    "cs3=updated_results.compute_consumer_surpluses(eliminate_product_ids=[\"self\"])\n",
    "cs4=updated_results.compute_consumer_surpluses(eliminate_product_ids=[\"nonself\",\"self\"])\n",
    "print([np.mean(cs),np.mean(cs2),np.mean(cs3),np.mean(cs4)]/np.mean(cs))\n",
    "print(sum(cs),sum(cs2),sum(cs3),sum(cs4))"
   ]
  },
  {
   "cell_type": "code",
   "execution_count": null,
   "metadata": {},
   "outputs": [
    {
     "data": {
      "text/plain": [
       "3.630702545682845"
      ]
     },
     "execution_count": 300,
     "metadata": {},
     "output_type": "execute_result"
    }
   ],
   "source": [
    "np.mean(updated_results.delta)"
   ]
  },
  {
   "cell_type": "code",
   "execution_count": null,
   "metadata": {},
   "outputs": [],
   "source": [
    "import datetime\n",
    "\n",
    "# Get the current date and time\n",
    "current_time = datetime.datetime.now()\n",
    "\n",
    "# Format the time as a string\n",
    "time_string = current_time.strftime(\"%Y-%m-%d_%H-%M-%S\")\n",
    "if save:\n",
    "    logit_results.to_pickle(f\"./results/NL_len3_{time_string}_{drop_self}{drop_nonself}.pkl\")"
   ]
  },
  {
   "cell_type": "code",
   "execution_count": null,
   "metadata": {},
   "outputs": [
    {
     "name": "stdout",
     "output_type": "stream",
     "text": [
      "Computing elasticities with respect to prices ...\n",
      "Finished after 00:00:00.\n",
      "\n"
     ]
    }
   ],
   "source": [
    "elasticities = logit_results.compute_elasticities()"
   ]
  },
  {
   "cell_type": "code",
   "execution_count": null,
   "metadata": {},
   "outputs": [
    {
     "data": {
      "text/plain": [
       "<matplotlib.colorbar.Colorbar at 0x2c6da10d0f0>"
      ]
     },
     "execution_count": 295,
     "metadata": {},
     "output_type": "execute_result"
    },
    {
     "data": {
      "image/png": "[encoded data removed]",
      "text/plain": [
       "<Figure size 288x288 with 2 Axes>"
      ]
     },
     "metadata": {
      "needs_background": "light"
     },
     "output_type": "display_data"
    }
   ],
   "source": [
    "%matplotlib inline\n",
    "import matplotlib.pyplot as plt\n",
    "single_market = product_data['market_ids'] == '131-2015'\n",
    "K=sum(single_market)\n",
    "plt.colorbar(plt.matshow(elasticities[single_market][:,:K]))"
   ]
  },
  {
   "cell_type": "code",
   "execution_count": null,
   "metadata": {},
   "outputs": [
    {
     "data": {
      "text/plain": [
       "((157, 26), 157)"
      ]
     },
     "execution_count": 296,
     "metadata": {},
     "output_type": "execute_result"
    }
   ],
   "source": [
    "product_data[single_market].shape,K"
   ]
  },
  {
   "cell_type": "code",
   "execution_count": null,
   "metadata": {},
   "outputs": [
    {
     "data": {
      "text/plain": [
       "array([[ 2.06030376e-02,  2.87372109e-06, -2.70931147e-03, ...,\n",
       "         1.07992825e-06,  2.00271325e-06,  5.38004162e-08],\n",
       "       [ 1.19236352e-05,  2.26960341e-02,  1.41619407e-05, ...,\n",
       "        -7.06892446e-05,  2.00271325e-06,  5.38004162e-08],\n",
       "       [-2.28110272e-03,  2.87372109e-06,  1.08018040e-02, ...,\n",
       "         1.07992825e-06,  2.00271325e-06,  5.38004162e-08],\n",
       "       ...,\n",
       "       [ 1.19236352e-05, -1.88106176e-04,  1.41619407e-05, ...,\n",
       "         4.22076353e-02,  2.00271325e-06,  5.38004162e-08],\n",
       "       [ 1.19236352e-05,  2.87372109e-06,  1.41619407e-05, ...,\n",
       "         1.07992825e-06, -2.53514521e-02, -3.27381634e-03],\n",
       "       [ 1.19236352e-05,  2.87372109e-06,  1.41619407e-05, ...,\n",
       "         1.07992825e-06, -1.21867373e-01,  9.32421040e-02]])"
      ]
     },
     "execution_count": 297,
     "metadata": {},
     "output_type": "execute_result"
    }
   ],
   "source": [
    "elasticities[single_market][:,:K]"
   ]
  },
  {
   "cell_type": "code",
   "execution_count": null,
   "metadata": {},
   "outputs": [
    {
     "name": "stdout",
     "output_type": "stream",
     "text": [
      "Computing diversion ratios with respect to prices ...\n",
      "Finished after 00:00:00.\n",
      "\n"
     ]
    },
    {
     "data": {
      "text/plain": [
       "<matplotlib.colorbar.Colorbar at 0x2c6dee71690>"
      ]
     },
     "execution_count": 298,
     "metadata": {},
     "output_type": "execute_result"
    },
    {
     "data": {
      "image/png": "[encoded data removed]",
      "text/plain": [
       "<Figure size 288x288 with 2 Axes>"
      ]
     },
     "metadata": {
      "needs_background": "light"
     },
     "output_type": "display_data"
    }
   ],
   "source": [
    "diversions = logit_results.compute_diversion_ratios()\n",
    "plt.colorbar(plt.matshow(diversions[single_market][:,:K]))"
   ]
  }
 ],
 "metadata": {
  "kernelspec": {
   "display_name": "Python 3",
   "language": "python",
   "name": "python3"
  },
  "language_info": {
   "codemirror_mode": {
    "name": "ipython",
    "version": 3
   },
   "file_extension": ".py",
   "mimetype": "text/x-python",
   "name": "python",
   "nbconvert_exporter": "python",
   "pygments_lexer": "ipython3",
   "version": "3.10.4"
  },
  "orig_nbformat": 4
 },
 "nbformat": 4,
 "nbformat_minor": 2
}
