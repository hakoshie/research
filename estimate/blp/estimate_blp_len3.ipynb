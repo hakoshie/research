{
 "cells": [
  {
   "cell_type": "code",
   "execution_count": 95,
   "metadata": {},
   "outputs": [],
   "source": [
    "import pandas as pd\n",
    "import numpy as np\n",
    "import statsmodels.api as sm\n",
    "# from linearmodels.panel.data import PanelData\n",
    "# from linearmodels.panel import PanelOLS, PooledOLS, RandomEffects, compare\n",
    "import matplotlib.pyplot as plt\n",
    "import pyblp"
   ]
  },
  {
   "cell_type": "code",
   "execution_count": 96,
   "metadata": {},
   "outputs": [
    {
     "data": {
      "text/html": [
       "<div>\n",
       "<style scoped>\n",
       "    .dataframe tbody tr th:only-of-type {\n",
       "        vertical-align: middle;\n",
       "    }\n",
       "\n",
       "    .dataframe tbody tr th {\n",
       "        vertical-align: top;\n",
       "    }\n",
       "\n",
       "    .dataframe thead th {\n",
       "        text-align: right;\n",
       "    }\n",
       "</style>\n",
       "<table border=\"1\" class=\"dataframe\">\n",
       "  <thead>\n",
       "    <tr style=\"text-align: right;\">\n",
       "      <th></th>\n",
       "      <th>薬効分類</th>\n",
       "      <th>薬効分類名称</th>\n",
       "      <th>医薬品コード</th>\n",
       "      <th>医薬品名</th>\n",
       "      <th>薬価基準収載医薬品コード</th>\n",
       "      <th>prices</th>\n",
       "      <th>後発品区分</th>\n",
       "      <th>総計</th>\n",
       "      <th>year</th>\n",
       "      <th>in_hospital</th>\n",
       "      <th>...</th>\n",
       "      <th>id_449.0</th>\n",
       "      <th>id_625.0</th>\n",
       "      <th>id_629.0</th>\n",
       "      <th>id_799.0</th>\n",
       "      <th>shares</th>\n",
       "      <th>r_share</th>\n",
       "      <th>generic_share_q</th>\n",
       "      <th>generic_share_r</th>\n",
       "      <th>y_sq</th>\n",
       "      <th>market_ids</th>\n",
       "    </tr>\n",
       "  </thead>\n",
       "  <tbody>\n",
       "    <tr>\n",
       "      <th>1350</th>\n",
       "      <td>114.0</td>\n",
       "      <td>解熱鎮痛消炎剤</td>\n",
       "      <td>620007096.0</td>\n",
       "      <td>ボルタレン錠２５ｍｇ</td>\n",
       "      <td>1147002F1560</td>\n",
       "      <td>13.1</td>\n",
       "      <td>0.0</td>\n",
       "      <td>45728285.84</td>\n",
       "      <td>2015.0</td>\n",
       "      <td>1</td>\n",
       "      <td>...</td>\n",
       "      <td>0.0</td>\n",
       "      <td>0.0</td>\n",
       "      <td>0.0</td>\n",
       "      <td>0.0</td>\n",
       "      <td>0.011810</td>\n",
       "      <td>0.003594</td>\n",
       "      <td>0.296205</td>\n",
       "      <td>0.073029</td>\n",
       "      <td>4060225.0</td>\n",
       "      <td>114-2015</td>\n",
       "    </tr>\n",
       "    <tr>\n",
       "      <th>1351</th>\n",
       "      <td>114.0</td>\n",
       "      <td>解熱鎮痛消炎剤</td>\n",
       "      <td>620007095.0</td>\n",
       "      <td>ボルタレンＳＲカプセル３７．５ｍｇ</td>\n",
       "      <td>1147002N1174</td>\n",
       "      <td>23.2</td>\n",
       "      <td>0.0</td>\n",
       "      <td>24202887.10</td>\n",
       "      <td>2015.0</td>\n",
       "      <td>1</td>\n",
       "      <td>...</td>\n",
       "      <td>0.0</td>\n",
       "      <td>0.0</td>\n",
       "      <td>0.0</td>\n",
       "      <td>0.0</td>\n",
       "      <td>0.006251</td>\n",
       "      <td>0.003369</td>\n",
       "      <td>0.296205</td>\n",
       "      <td>0.073029</td>\n",
       "      <td>4060225.0</td>\n",
       "      <td>114-2015</td>\n",
       "    </tr>\n",
       "    <tr>\n",
       "      <th>1352</th>\n",
       "      <td>114.0</td>\n",
       "      <td>解熱鎮痛消炎剤</td>\n",
       "      <td>621212601.0</td>\n",
       "      <td>ジクロフェナクＮａ徐放カプセル３７．５ｍｇ「トーワ」</td>\n",
       "      <td>1147002N1190</td>\n",
       "      <td>7.6</td>\n",
       "      <td>1.0</td>\n",
       "      <td>12257154.00</td>\n",
       "      <td>2015.0</td>\n",
       "      <td>1</td>\n",
       "      <td>...</td>\n",
       "      <td>0.0</td>\n",
       "      <td>0.0</td>\n",
       "      <td>0.0</td>\n",
       "      <td>0.0</td>\n",
       "      <td>0.003166</td>\n",
       "      <td>0.000559</td>\n",
       "      <td>0.296205</td>\n",
       "      <td>0.073029</td>\n",
       "      <td>4060225.0</td>\n",
       "      <td>114-2015</td>\n",
       "    </tr>\n",
       "    <tr>\n",
       "      <th>1353</th>\n",
       "      <td>114.0</td>\n",
       "      <td>解熱鎮痛消炎剤</td>\n",
       "      <td>620079315.0</td>\n",
       "      <td>ジクロフェナクＮａ錠２５ｍｇ「トーワ」</td>\n",
       "      <td>1147002F1625</td>\n",
       "      <td>5.6</td>\n",
       "      <td>1.0</td>\n",
       "      <td>11395427.80</td>\n",
       "      <td>2015.0</td>\n",
       "      <td>1</td>\n",
       "      <td>...</td>\n",
       "      <td>0.0</td>\n",
       "      <td>0.0</td>\n",
       "      <td>0.0</td>\n",
       "      <td>0.0</td>\n",
       "      <td>0.002943</td>\n",
       "      <td>0.000383</td>\n",
       "      <td>0.296205</td>\n",
       "      <td>0.073029</td>\n",
       "      <td>4060225.0</td>\n",
       "      <td>114-2015</td>\n",
       "    </tr>\n",
       "    <tr>\n",
       "      <th>1354</th>\n",
       "      <td>114.0</td>\n",
       "      <td>解熱鎮痛消炎剤</td>\n",
       "      <td>620079305.0</td>\n",
       "      <td>ジクロフェナクＮａ錠２５ｍｇ「サワイ」</td>\n",
       "      <td>1147002F1650</td>\n",
       "      <td>5.6</td>\n",
       "      <td>1.0</td>\n",
       "      <td>10321178.76</td>\n",
       "      <td>2015.0</td>\n",
       "      <td>1</td>\n",
       "      <td>...</td>\n",
       "      <td>0.0</td>\n",
       "      <td>0.0</td>\n",
       "      <td>0.0</td>\n",
       "      <td>0.0</td>\n",
       "      <td>0.002666</td>\n",
       "      <td>0.000347</td>\n",
       "      <td>0.296205</td>\n",
       "      <td>0.073029</td>\n",
       "      <td>4060225.0</td>\n",
       "      <td>114-2015</td>\n",
       "    </tr>\n",
       "  </tbody>\n",
       "</table>\n",
       "<p>5 rows × 108 columns</p>\n",
       "</div>"
      ],
      "text/plain": [
       "       薬効分類   薬効分類名称       医薬品コード                        医薬品名  薬価基準収載医薬品コード  \\\n",
       "1350  114.0  解熱鎮痛消炎剤  620007096.0                  ボルタレン錠２５ｍｇ  1147002F1560   \n",
       "1351  114.0  解熱鎮痛消炎剤  620007095.0           ボルタレンＳＲカプセル３７．５ｍｇ  1147002N1174   \n",
       "1352  114.0  解熱鎮痛消炎剤  621212601.0  ジクロフェナクＮａ徐放カプセル３７．５ｍｇ「トーワ」  1147002N1190   \n",
       "1353  114.0  解熱鎮痛消炎剤  620079315.0         ジクロフェナクＮａ錠２５ｍｇ「トーワ」  1147002F1625   \n",
       "1354  114.0  解熱鎮痛消炎剤  620079305.0         ジクロフェナクＮａ錠２５ｍｇ「サワイ」  1147002F1650   \n",
       "\n",
       "      prices  後発品区分           総計    year  in_hospital  ...  id_449.0  \\\n",
       "1350    13.1    0.0  45728285.84  2015.0            1  ...       0.0   \n",
       "1351    23.2    0.0  24202887.10  2015.0            1  ...       0.0   \n",
       "1352     7.6    1.0  12257154.00  2015.0            1  ...       0.0   \n",
       "1353     5.6    1.0  11395427.80  2015.0            1  ...       0.0   \n",
       "1354     5.6    1.0  10321178.76  2015.0            1  ...       0.0   \n",
       "\n",
       "      id_625.0  id_629.0 id_799.0    shares   r_share  generic_share_q  \\\n",
       "1350       0.0       0.0      0.0  0.011810  0.003594         0.296205   \n",
       "1351       0.0       0.0      0.0  0.006251  0.003369         0.296205   \n",
       "1352       0.0       0.0      0.0  0.003166  0.000559         0.296205   \n",
       "1353       0.0       0.0      0.0  0.002943  0.000383         0.296205   \n",
       "1354       0.0       0.0      0.0  0.002666  0.000347         0.296205   \n",
       "\n",
       "     generic_share_r       y_sq  market_ids  \n",
       "1350        0.073029  4060225.0    114-2015  \n",
       "1351        0.073029  4060225.0    114-2015  \n",
       "1352        0.073029  4060225.0    114-2015  \n",
       "1353        0.073029  4060225.0    114-2015  \n",
       "1354        0.073029  4060225.0    114-2015  \n",
       "\n",
       "[5 rows x 108 columns]"
      ]
     },
     "execution_count": 96,
     "metadata": {},
     "output_type": "execute_result"
    }
   ],
   "source": [
    "save=0\n",
    "product_data=pd.read_csv(\"../../data/merged/len3_ndb_blp_imputed_lags.csv\",encoding=\"shift-jis\",index_col=0)\n",
    "product_data=product_data[product_data[\"year\"]>2014]\n",
    "product_data[\"market_ids\"]=product_data[\"薬効分類\"].astype(int).astype(str)+\"-\"+product_data[\"year\"].astype(int).astype(str)\n",
    "product_data[\"generic_share_q\"].fillna(0,inplace=True)\n",
    "product_data[\"generic_share_r\"].fillna(0,inplace=True)\n",
    "product_data[\"lag_sum_quantity\"]=np.log(product_data[\"lag_sum_quantity\"]+0.001)\n",
    "product_data[\"otc_dom\"]=np.log(product_data[\"otc_dom\"]+0.001)\n",
    "product_data.rename(columns={\"薬価\":\"prices\",\"q_share\":\"shares\",\n",
    "                    \"lag_mean_price\":\"demand_instruments0\",\n",
    "                    \"lag_sum_quantity\":\"demand_instruments1\",\n",
    "                    \"lag_generic_share_q\":\"demand_instruments2\",\n",
    "                    },inplace=True)\n",
    "product_data=product_data.loc[product_data[\"shares\"]>0]\n",
    "# data[\"shares\"]=data[\"r_share\"]\n",
    "product_data.head()"
   ]
  },
  {
   "cell_type": "code",
   "execution_count": 97,
   "metadata": {},
   "outputs": [],
   "source": [
    "# demand_instruments=pyblp.build_blp_instruments(formulation=\"pricesoral+in_hospital+後発品区分\",product_data=product_data)\n",
    "# demand_instruments"
   ]
  },
  {
   "cell_type": "code",
   "execution_count": 98,
   "metadata": {},
   "outputs": [],
   "source": [
    "# product_data[\"demand_instruments12\"].isna().sum()\n",
    "# product_data[\"lag_sum_quantity\"].isna().sum()"
   ]
  },
  {
   "cell_type": "code",
   "execution_count": 99,
   "metadata": {},
   "outputs": [
    {
     "data": {
      "text/plain": [
       "prices + oral + in_hospital + 後発品区分 + Absorb[C(薬効分類)] + Absorb[C(year)]"
      ]
     },
     "execution_count": 99,
     "metadata": {},
     "output_type": "execute_result"
    }
   ],
   "source": [
    "logit_formulation = pyblp.Formulation('prices+oral+in_hospital+後発品区分', absorb='C(薬効分類)+C(year)')\n",
    "logit_formulation"
   ]
  },
  {
   "cell_type": "code",
   "execution_count": 100,
   "metadata": {},
   "outputs": [
    {
     "name": "stdout",
     "output_type": "stream",
     "text": [
      "Initializing the problem ...\n",
      "Absorbing demand-side fixed effects ...\n",
      "Initialized the problem after 00:00:00.\n",
      "\n",
      "Dimensions:\n",
      "============================\n",
      " T     N     K1    MD    ED \n",
      "---  -----  ----  ----  ----\n",
      "175  24448   4     5     2  \n",
      "============================\n",
      "\n",
      "Formulations:\n",
      "============================================================\n",
      "     Column Indices:          0      1         2         3  \n",
      "--------------------------  ------  ----  -----------  -----\n",
      "X1: Linear Characteristics  prices  oral  in_hospital  後発品区分\n",
      "============================================================\n"
     ]
    },
    {
     "data": {
      "text/plain": [
       "Dimensions:\n",
       "============================\n",
       " T     N     K1    MD    ED \n",
       "---  -----  ----  ----  ----\n",
       "175  24448   4     5     2  \n",
       "============================\n",
       "\n",
       "Formulations:\n",
       "============================================================\n",
       "     Column Indices:          0      1         2         3  \n",
       "--------------------------  ------  ----  -----------  -----\n",
       "X1: Linear Characteristics  prices  oral  in_hospital  後発品区分\n",
       "============================================================"
      ]
     },
     "execution_count": 100,
     "metadata": {},
     "output_type": "execute_result"
    }
   ],
   "source": [
    "# product_data[\"shares\"]-=1e-10\n",
    "problem = pyblp.Problem(logit_formulation, product_data)\n",
    "problem"
   ]
  },
  {
   "cell_type": "code",
   "execution_count": 101,
   "metadata": {},
   "outputs": [
    {
     "name": "stdout",
     "output_type": "stream",
     "text": [
      "Solving the problem ...\n",
      "Updating the weighting matrix ...\n",
      "Computed results after 00:00:00.\n",
      "\n",
      "Problem Results Summary:\n",
      "==============================================\n",
      "GMM     Objective    Clipped  Weighting Matrix\n",
      "Step      Value      Shares   Condition Number\n",
      "----  -------------  -------  ----------------\n",
      " 1    +3.115418E+00     0      +2.798050E+06  \n",
      "==============================================\n",
      "\n",
      "Estimating standard errors ...\n",
      "Computed results after 00:00:00.\n",
      "\n",
      "Problem Results Summary:\n",
      "=================================================================\n",
      "GMM     Objective    Clipped  Weighting Matrix  Covariance Matrix\n",
      "Step      Value      Shares   Condition Number  Condition Number \n",
      "----  -------------  -------  ----------------  -----------------\n",
      " 2    +8.317372E-02     0      +1.232758E+07      +6.450829E+07  \n",
      "=================================================================\n",
      "\n",
      "Cumulative Statistics:\n",
      "========================\n",
      "Computation   Objective \n",
      "   Time      Evaluations\n",
      "-----------  -----------\n",
      " 00:00:00         2     \n",
      "========================\n",
      "\n",
      "Beta Estimates (Robust SEs in Parentheses):\n",
      "==================================================================\n",
      "    prices            oral          in_hospital         後発品区分     \n",
      "---------------  ---------------  ---------------  ---------------\n",
      " -7.785041E-04    +2.607196E+00    +4.870128E-01    -1.232588E+00 \n",
      "(+8.765980E-04)  (+6.699005E-02)  (+2.916913E-02)  (+4.835526E-01)\n",
      "==================================================================\n"
     ]
    },
    {
     "data": {
      "text/plain": [
       "Problem Results Summary:\n",
       "=================================================================\n",
       "GMM     Objective    Clipped  Weighting Matrix  Covariance Matrix\n",
       "Step      Value      Shares   Condition Number  Condition Number \n",
       "----  -------------  -------  ----------------  -----------------\n",
       " 2    +8.317372E-02     0      +1.232758E+07      +6.450829E+07  \n",
       "=================================================================\n",
       "\n",
       "Cumulative Statistics:\n",
       "========================\n",
       "Computation   Objective \n",
       "   Time      Evaluations\n",
       "-----------  -----------\n",
       " 00:00:00         2     \n",
       "========================\n",
       "\n",
       "Beta Estimates (Robust SEs in Parentheses):\n",
       "==================================================================\n",
       "    prices            oral          in_hospital         後発品区分     \n",
       "---------------  ---------------  ---------------  ---------------\n",
       " -7.785041E-04    +2.607196E+00    +4.870128E-01    -1.232588E+00 \n",
       "(+8.765980E-04)  (+6.699005E-02)  (+2.916913E-02)  (+4.835526E-01)\n",
       "=================================================================="
      ]
     },
     "execution_count": 101,
     "metadata": {},
     "output_type": "execute_result"
    }
   ],
   "source": [
    "logit_results = problem.solve()\n",
    "logit_results"
   ]
  },
  {
   "cell_type": "code",
   "execution_count": 102,
   "metadata": {},
   "outputs": [],
   "source": [
    "import datetime\n",
    "\n",
    "# Get the current date and time\n",
    "current_time = datetime.datetime.now()\n",
    "\n",
    "# Format the time as a string\n",
    "time_string = current_time.strftime(\"%Y-%m-%d_%H-%M-%S\")\n",
    "if save:\n",
    "    logit_results.to_pickle(f\"./results/MNL_len3_{time_string}.pkl\")"
   ]
  },
  {
   "cell_type": "code",
   "execution_count": 103,
   "metadata": {},
   "outputs": [],
   "source": [
    "# how to load pickle\n",
    "# import pickle\n",
    "# with open(\"./results/logit_blp_len3.pkl\", \"rb\") as f:\n",
    "#     example = pickle.load(f)\n",
    "# example"
   ]
  },
  {
   "cell_type": "code",
   "execution_count": 104,
   "metadata": {},
   "outputs": [
    {
     "name": "stdout",
     "output_type": "stream",
     "text": [
      "Computing elasticities with respect to prices ...\n",
      "Finished after 00:00:00.\n",
      "\n"
     ]
    }
   ],
   "source": [
    "elasticities = logit_results.compute_elasticities()"
   ]
  },
  {
   "cell_type": "code",
   "execution_count": 105,
   "metadata": {},
   "outputs": [
    {
     "data": {
      "text/plain": [
       "<matplotlib.colorbar.Colorbar at 0x22f00198550>"
      ]
     },
     "execution_count": 105,
     "metadata": {},
     "output_type": "execute_result"
    },
    {
     "data": {
      "image/png": "[encoded data removed]",
      "text/plain": [
       "<Figure size 288x288 with 2 Axes>"
      ]
     },
     "metadata": {
      "needs_background": "light"
     },
     "output_type": "display_data"
    }
   ],
   "source": [
    "%matplotlib inline\n",
    "import matplotlib.pyplot as plt\n",
    "single_market = product_data['market_ids'] == '131-2015'\n",
    "K=sum(single_market)\n",
    "plt.colorbar(plt.matshow(elasticities[single_market][:,:K]))"
   ]
  },
  {
   "cell_type": "code",
   "execution_count": 106,
   "metadata": {},
   "outputs": [
    {
     "data": {
      "text/plain": [
       "array([[-3.50241286e-02,  1.70926806e-04,  8.42341765e-04, ...,\n",
       "         8.89817069e-04,  3.92754557e-04,  6.42333341e-05],\n",
       "       [ 7.09209005e-04, -3.55624108e-02,  8.42341765e-04, ...,\n",
       "         8.89817069e-04,  3.92754557e-04,  6.42333341e-05],\n",
       "       [ 7.09209005e-04,  1.70926806e-04, -2.02551190e-02, ...,\n",
       "         8.89817069e-04,  3.92754557e-04,  6.42333341e-05],\n",
       "       ...,\n",
       "       [ 7.09209005e-04,  1.70926806e-04,  8.42341765e-04, ...,\n",
       "        -8.24324516e-01,  3.92754557e-04,  6.42333341e-05],\n",
       "       [ 7.09209005e-04,  1.70926806e-04,  8.42341765e-04, ...,\n",
       "         8.89817069e-04, -3.75546869e-01,  6.42333341e-05],\n",
       "       [ 7.09209005e-04,  1.70926806e-04,  8.42341765e-04, ...,\n",
       "         8.89817069e-04,  3.92754557e-04, -6.59529133e-02]])"
      ]
     },
     "execution_count": 106,
     "metadata": {},
     "output_type": "execute_result"
    }
   ],
   "source": [
    "elasticities[single_market][:,:K]"
   ]
  },
  {
   "cell_type": "code",
   "execution_count": 107,
   "metadata": {},
   "outputs": [
    {
     "name": "stdout",
     "output_type": "stream",
     "text": [
      "Computing diversion ratios with respect to prices ...\n",
      "Finished after 00:00:00.\n",
      "\n"
     ]
    },
    {
     "data": {
      "text/plain": [
       "<matplotlib.colorbar.Colorbar at 0x22f00368d30>"
      ]
     },
     "execution_count": 107,
     "metadata": {},
     "output_type": "execute_result"
    },
    {
     "data": {
      "image/png": "[encoded data removed]",
      "text/plain": [
       "<Figure size 288x288 with 2 Axes>"
      ]
     },
     "metadata": {
      "needs_background": "light"
     },
     "output_type": "display_data"
    }
   ],
   "source": [
    "diversions = logit_results.compute_diversion_ratios()\n",
    "plt.colorbar(plt.matshow(diversions[single_market][:,:K]))"
   ]
  }
 ],
 "metadata": {
  "kernelspec": {
   "display_name": "Python 3",
   "language": "python",
   "name": "python3"
  },
  "language_info": {
   "codemirror_mode": {
    "name": "ipython",
    "version": 3
   },
   "file_extension": ".py",
   "mimetype": "text/x-python",
   "name": "python",
   "nbconvert_exporter": "python",
   "pygments_lexer": "ipython3",
   "version": "3.10.4"
  },
  "orig_nbformat": 4
 },
 "nbformat": 4,
 "nbformat_minor": 2
}
