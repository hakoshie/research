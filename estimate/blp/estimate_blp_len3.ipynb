{
 "cells": [
  {
   "cell_type": "code",
   "execution_count": 40,
   "metadata": {},
   "outputs": [],
   "source": [
    "import pandas as pd\n",
    "import numpy as np\n",
    "import statsmodels.api as sm\n",
    "# from linearmodels.panel.data import PanelData\n",
    "# from linearmodels.panel import PanelOLS, PooledOLS, RandomEffects, compare\n",
    "import matplotlib.pyplot as plt\n",
    "import pyblp"
   ]
  },
  {
   "cell_type": "code",
   "execution_count": 41,
   "metadata": {},
   "outputs": [
    {
     "data": {
      "text/html": [
       "<div>\n",
       "<style scoped>\n",
       "    .dataframe tbody tr th:only-of-type {\n",
       "        vertical-align: middle;\n",
       "    }\n",
       "\n",
       "    .dataframe tbody tr th {\n",
       "        vertical-align: top;\n",
       "    }\n",
       "\n",
       "    .dataframe thead th {\n",
       "        text-align: right;\n",
       "    }\n",
       "</style>\n",
       "<table border=\"1\" class=\"dataframe\">\n",
       "  <thead>\n",
       "    <tr style=\"text-align: right;\">\n",
       "      <th></th>\n",
       "      <th>薬効分類</th>\n",
       "      <th>薬効分類名称</th>\n",
       "      <th>医薬品コード</th>\n",
       "      <th>医薬品名</th>\n",
       "      <th>薬価基準収載医薬品コード</th>\n",
       "      <th>prices</th>\n",
       "      <th>後発品区分</th>\n",
       "      <th>総計</th>\n",
       "      <th>year</th>\n",
       "      <th>in_hospital</th>\n",
       "      <th>...</th>\n",
       "      <th>id_441.0</th>\n",
       "      <th>id_449.0</th>\n",
       "      <th>id_625.0</th>\n",
       "      <th>id_629.0</th>\n",
       "      <th>id_799.0</th>\n",
       "      <th>q_share</th>\n",
       "      <th>shares</th>\n",
       "      <th>generic_share_q</th>\n",
       "      <th>demand_instruments1</th>\n",
       "      <th>market_ids</th>\n",
       "    </tr>\n",
       "  </thead>\n",
       "  <tbody>\n",
       "    <tr>\n",
       "      <th>0</th>\n",
       "      <td>114.0</td>\n",
       "      <td>解熱鎮痛消炎剤</td>\n",
       "      <td>661140242.0</td>\n",
       "      <td>インテバン坐剤５０　５０ｍｇ</td>\n",
       "      <td>1145700J3012</td>\n",
       "      <td>19.3</td>\n",
       "      <td>0.0</td>\n",
       "      <td>292190.95</td>\n",
       "      <td>2014.0</td>\n",
       "      <td>1</td>\n",
       "      <td>...</td>\n",
       "      <td>0.0</td>\n",
       "      <td>0.0</td>\n",
       "      <td>0.0</td>\n",
       "      <td>0.0</td>\n",
       "      <td>0.0</td>\n",
       "      <td>0.000085</td>\n",
       "      <td>0.000036</td>\n",
       "      <td>0.236031</td>\n",
       "      <td>0.053874</td>\n",
       "      <td>114-2014</td>\n",
       "    </tr>\n",
       "    <tr>\n",
       "      <th>1</th>\n",
       "      <td>114.0</td>\n",
       "      <td>解熱鎮痛消炎剤</td>\n",
       "      <td>661140216.0</td>\n",
       "      <td>インテバン坐剤２５　２５ｍｇ</td>\n",
       "      <td>1145700J2016</td>\n",
       "      <td>19.3</td>\n",
       "      <td>0.0</td>\n",
       "      <td>128832.00</td>\n",
       "      <td>2014.0</td>\n",
       "      <td>1</td>\n",
       "      <td>...</td>\n",
       "      <td>0.0</td>\n",
       "      <td>0.0</td>\n",
       "      <td>0.0</td>\n",
       "      <td>0.0</td>\n",
       "      <td>0.0</td>\n",
       "      <td>0.000038</td>\n",
       "      <td>0.000016</td>\n",
       "      <td>0.236031</td>\n",
       "      <td>0.053874</td>\n",
       "      <td>114-2014</td>\n",
       "    </tr>\n",
       "    <tr>\n",
       "      <th>2</th>\n",
       "      <td>114.0</td>\n",
       "      <td>解熱鎮痛消炎剤</td>\n",
       "      <td>661140020.0</td>\n",
       "      <td>インドメタシン坐剤　５０ｍｇ</td>\n",
       "      <td>1145700J3012</td>\n",
       "      <td>19.3</td>\n",
       "      <td>0.0</td>\n",
       "      <td>106328.00</td>\n",
       "      <td>2014.0</td>\n",
       "      <td>1</td>\n",
       "      <td>...</td>\n",
       "      <td>0.0</td>\n",
       "      <td>0.0</td>\n",
       "      <td>0.0</td>\n",
       "      <td>0.0</td>\n",
       "      <td>0.0</td>\n",
       "      <td>0.000031</td>\n",
       "      <td>0.000013</td>\n",
       "      <td>0.236031</td>\n",
       "      <td>0.053874</td>\n",
       "      <td>114-2014</td>\n",
       "    </tr>\n",
       "    <tr>\n",
       "      <th>3</th>\n",
       "      <td>114.0</td>\n",
       "      <td>解熱鎮痛消炎剤</td>\n",
       "      <td>661140242.0</td>\n",
       "      <td>インテバン坐剤５０　５０ｍｇ</td>\n",
       "      <td>1145700J3012</td>\n",
       "      <td>19.3</td>\n",
       "      <td>0.0</td>\n",
       "      <td>658257.00</td>\n",
       "      <td>2014.0</td>\n",
       "      <td>0</td>\n",
       "      <td>...</td>\n",
       "      <td>0.0</td>\n",
       "      <td>0.0</td>\n",
       "      <td>0.0</td>\n",
       "      <td>0.0</td>\n",
       "      <td>0.0</td>\n",
       "      <td>0.000192</td>\n",
       "      <td>0.000081</td>\n",
       "      <td>0.236031</td>\n",
       "      <td>0.053874</td>\n",
       "      <td>114-2014</td>\n",
       "    </tr>\n",
       "    <tr>\n",
       "      <th>4</th>\n",
       "      <td>114.0</td>\n",
       "      <td>解熱鎮痛消炎剤</td>\n",
       "      <td>661140216.0</td>\n",
       "      <td>インテバン坐剤２５　２５ｍｇ</td>\n",
       "      <td>1145700J2016</td>\n",
       "      <td>19.3</td>\n",
       "      <td>0.0</td>\n",
       "      <td>418727.50</td>\n",
       "      <td>2014.0</td>\n",
       "      <td>0</td>\n",
       "      <td>...</td>\n",
       "      <td>0.0</td>\n",
       "      <td>0.0</td>\n",
       "      <td>0.0</td>\n",
       "      <td>0.0</td>\n",
       "      <td>0.0</td>\n",
       "      <td>0.000122</td>\n",
       "      <td>0.000051</td>\n",
       "      <td>0.236031</td>\n",
       "      <td>0.053874</td>\n",
       "      <td>114-2014</td>\n",
       "    </tr>\n",
       "  </tbody>\n",
       "</table>\n",
       "<p>5 rows × 118 columns</p>\n",
       "</div>"
      ],
      "text/plain": [
       "    薬効分類   薬効分類名称       医薬品コード            医薬品名  薬価基準収載医薬品コード  prices  後発品区分  \\\n",
       "0  114.0  解熱鎮痛消炎剤  661140242.0  インテバン坐剤５０　５０ｍｇ  1145700J3012    19.3    0.0   \n",
       "1  114.0  解熱鎮痛消炎剤  661140216.0  インテバン坐剤２５　２５ｍｇ  1145700J2016    19.3    0.0   \n",
       "2  114.0  解熱鎮痛消炎剤  661140020.0  インドメタシン坐剤　５０ｍｇ  1145700J3012    19.3    0.0   \n",
       "3  114.0  解熱鎮痛消炎剤  661140242.0  インテバン坐剤５０　５０ｍｇ  1145700J3012    19.3    0.0   \n",
       "4  114.0  解熱鎮痛消炎剤  661140216.0  インテバン坐剤２５　２５ｍｇ  1145700J2016    19.3    0.0   \n",
       "\n",
       "          総計    year  in_hospital  ...  id_441.0  id_449.0  id_625.0 id_629.0  \\\n",
       "0  292190.95  2014.0            1  ...       0.0       0.0       0.0      0.0   \n",
       "1  128832.00  2014.0            1  ...       0.0       0.0       0.0      0.0   \n",
       "2  106328.00  2014.0            1  ...       0.0       0.0       0.0      0.0   \n",
       "3  658257.00  2014.0            0  ...       0.0       0.0       0.0      0.0   \n",
       "4  418727.50  2014.0            0  ...       0.0       0.0       0.0      0.0   \n",
       "\n",
       "  id_799.0   q_share    shares  generic_share_q  demand_instruments1  \\\n",
       "0      0.0  0.000085  0.000036         0.236031             0.053874   \n",
       "1      0.0  0.000038  0.000016         0.236031             0.053874   \n",
       "2      0.0  0.000031  0.000013         0.236031             0.053874   \n",
       "3      0.0  0.000192  0.000081         0.236031             0.053874   \n",
       "4      0.0  0.000122  0.000051         0.236031             0.053874   \n",
       "\n",
       "   market_ids  \n",
       "0    114-2014  \n",
       "1    114-2014  \n",
       "2    114-2014  \n",
       "3    114-2014  \n",
       "4    114-2014  \n",
       "\n",
       "[5 rows x 118 columns]"
      ]
     },
     "execution_count": 41,
     "metadata": {},
     "output_type": "execute_result"
    }
   ],
   "source": [
    "product_data=pd.read_csv(\"../../data/merged/len3_ndb_agg_blp_imputed_lags.csv\",encoding=\"shift-jis\",index_col=0)\n",
    "product_data[\"market_ids\"]=product_data[\"薬効分類\"].astype(int).astype(str)+\"-\"+product_data[\"year\"].astype(int).astype(str)\n",
    "product_data[\"generic_share_q\"].fillna(0,inplace=True)\n",
    "product_data[\"generic_share_r\"].fillna(0,inplace=True)\n",
    "product_data.rename(columns={\"薬価\":\"prices\",\"r_share\":\"shares\",\n",
    "                    # \"elasped_0\":\"demand_instruments0\",\n",
    "                    # \"elasped_1\":\"demand_instruments1\",\n",
    "                    # 'elasped_2': 'demand_instruments2',\n",
    "                    # 'elasped_3': 'demand_instruments3',\n",
    "                    # 'elasped_4': 'demand_instruments4',\n",
    "                    # 'elasped_5': 'demand_instruments5',\n",
    "                    # 'elasped_6': 'demand_instruments6',\n",
    "                    # 'elasped_7': 'demand_instruments7',\n",
    "                    # 'elasped_8': 'demand_instruments8',\n",
    "                    # 'elasped_9': 'demand_instruments9',\n",
    "                    # \"year\":\"demand_instruments2\",\n",
    "                    # \"generic_per\":\"demand_instruments4\",\n",
    "                    \"mean_price\":\"demand_instruments2\",\n",
    "                    # \"otc_dom\":\"demand_instruments2\",\n",
    "                    \"lag_mean_price\":\"demand_instruments0\",\n",
    "                    # \"generic_share_q\":\"demand_instruments7\",\n",
    "                    \"generic_share_r\":\"demand_instruments1\"\n",
    "                    },inplace=True)\n",
    "product_data=product_data.loc[product_data[\"shares\"]>0]\n",
    "# data[\"shares\"]=data[\"r_share\"]\n",
    "product_data.head()"
   ]
  },
  {
   "cell_type": "code",
   "execution_count": 42,
   "metadata": {},
   "outputs": [
    {
     "data": {
      "text/plain": [
       "prices + oral + in_hospital + 後発品区分 + year + Absorb[C(薬効分類)]"
      ]
     },
     "execution_count": 42,
     "metadata": {},
     "output_type": "execute_result"
    }
   ],
   "source": [
    "logit_formulation = pyblp.Formulation('prices+oral+in_hospital+後発品区分+year', absorb='C(薬効分類)')\n",
    "logit_formulation"
   ]
  },
  {
   "cell_type": "code",
   "execution_count": 43,
   "metadata": {},
   "outputs": [
    {
     "name": "stdout",
     "output_type": "stream",
     "text": [
      "Initializing the problem ...\n",
      "Absorbing demand-side fixed effects ...\n",
      "Initialized the problem after 00:00:00.\n",
      "\n",
      "Dimensions:\n",
      "============================\n",
      " T     N     K1    MD    ED \n",
      "---  -----  ----  ----  ----\n",
      "264  29653   5     7     1  \n",
      "============================\n",
      "\n",
      "Formulations:\n",
      "==================================================================\n",
      "     Column Indices:          0      1         2         3     4  \n",
      "--------------------------  ------  ----  -----------  -----  ----\n",
      "X1: Linear Characteristics  prices  oral  in_hospital  後発品区分  year\n",
      "==================================================================\n"
     ]
    },
    {
     "data": {
      "text/plain": [
       "Dimensions:\n",
       "============================\n",
       " T     N     K1    MD    ED \n",
       "---  -----  ----  ----  ----\n",
       "264  29653   5     7     1  \n",
       "============================\n",
       "\n",
       "Formulations:\n",
       "==================================================================\n",
       "     Column Indices:          0      1         2         3     4  \n",
       "--------------------------  ------  ----  -----------  -----  ----\n",
       "X1: Linear Characteristics  prices  oral  in_hospital  後発品区分  year\n",
       "=================================================================="
      ]
     },
     "execution_count": 43,
     "metadata": {},
     "output_type": "execute_result"
    }
   ],
   "source": [
    "# product_data[\"shares\"]-=1e-10\n",
    "problem = pyblp.Problem(logit_formulation, product_data)\n",
    "problem"
   ]
  },
  {
   "cell_type": "code",
   "execution_count": 44,
   "metadata": {},
   "outputs": [
    {
     "name": "stdout",
     "output_type": "stream",
     "text": [
      "Solving the problem ...\n",
      "Updating the weighting matrix ...\n",
      "Computed results after 00:00:00.\n",
      "\n",
      "Problem Results Summary:\n",
      "==============================================\n",
      "GMM     Objective    Clipped  Weighting Matrix\n",
      "Step      Value      Shares   Condition Number\n",
      "----  -------------  -------  ----------------\n",
      " 1    +2.509843E+01     0      +7.386914E+06  \n",
      "==============================================\n",
      "\n",
      "Estimating standard errors ...\n",
      "Computed results after 00:00:00.\n",
      "\n",
      "Problem Results Summary:\n",
      "=================================================================\n",
      "GMM     Objective    Clipped  Weighting Matrix  Covariance Matrix\n",
      "Step      Value      Shares   Condition Number  Condition Number \n",
      "----  -------------  -------  ----------------  -----------------\n",
      " 2    +1.159458E+00     0      +6.485091E+07      +1.601063E+07  \n",
      "=================================================================\n",
      "\n",
      "Cumulative Statistics:\n",
      "========================\n",
      "Computation   Objective \n",
      "   Time      Evaluations\n",
      "-----------  -----------\n",
      " 00:00:00         2     \n",
      "========================\n",
      "\n",
      "Beta Estimates (Robust SEs in Parentheses):\n",
      "===================================================================================\n",
      "    prices            oral          in_hospital         後発品区分            year      \n",
      "---------------  ---------------  ---------------  ---------------  ---------------\n",
      " -1.064690E-03    +1.859786E+00    +4.565015E-01    -2.129777E+00    -3.163753E-02 \n",
      "(+8.250819E-04)  (+8.076097E-02)  (+3.754095E-02)  (+3.812767E-01)  (+9.970818E-03)\n",
      "===================================================================================\n"
     ]
    },
    {
     "data": {
      "text/plain": [
       "Problem Results Summary:\n",
       "=================================================================\n",
       "GMM     Objective    Clipped  Weighting Matrix  Covariance Matrix\n",
       "Step      Value      Shares   Condition Number  Condition Number \n",
       "----  -------------  -------  ----------------  -----------------\n",
       " 2    +1.159458E+00     0      +6.485091E+07      +1.601063E+07  \n",
       "=================================================================\n",
       "\n",
       "Cumulative Statistics:\n",
       "========================\n",
       "Computation   Objective \n",
       "   Time      Evaluations\n",
       "-----------  -----------\n",
       " 00:00:00         2     \n",
       "========================\n",
       "\n",
       "Beta Estimates (Robust SEs in Parentheses):\n",
       "===================================================================================\n",
       "    prices            oral          in_hospital         後発品区分            year      \n",
       "---------------  ---------------  ---------------  ---------------  ---------------\n",
       " -1.064690E-03    +1.859786E+00    +4.565015E-01    -2.129777E+00    -3.163753E-02 \n",
       "(+8.250819E-04)  (+8.076097E-02)  (+3.754095E-02)  (+3.812767E-01)  (+9.970818E-03)\n",
       "==================================================================================="
      ]
     },
     "execution_count": 44,
     "metadata": {},
     "output_type": "execute_result"
    }
   ],
   "source": [
    "logit_results = problem.solve()\n",
    "logit_results"
   ]
  },
  {
   "cell_type": "code",
   "execution_count": 45,
   "metadata": {},
   "outputs": [
    {
     "name": "stdout",
     "output_type": "stream",
     "text": [
      "Computing elasticities with respect to prices ...\n",
      "Finished after 00:00:00.\n",
      "\n"
     ]
    }
   ],
   "source": [
    "elasticities = logit_results.compute_elasticities()"
   ]
  },
  {
   "cell_type": "code",
   "execution_count": 60,
   "metadata": {},
   "outputs": [
    {
     "data": {
      "image/png": "[encoded data removed]",
      "text/plain": [
       "<Figure size 288x288 with 2 Axes>"
      ]
     },
     "metadata": {
      "needs_background": "light"
     },
     "output_type": "display_data"
    }
   ],
   "source": [
    "%matplotlib inline\n",
    "import matplotlib.pyplot as plt\n",
    "single_market = product_data['market_ids'] == '131-2014'\n",
    "K=sum(single_market)\n",
    "plt.colorbar(plt.matshow(elasticities[single_market][:,:K]));"
   ]
  },
  {
   "cell_type": "code",
   "execution_count": 58,
   "metadata": {},
   "outputs": [
    {
     "data": {
      "text/plain": [
       "array([[-2.05477734e-02,  3.23954544e-07,  2.67367104e-07, ...,\n",
       "         2.87893333e-03,  9.44878556e-03,  5.91009603e-05],\n",
       "       [ 7.34728839e-07, -2.05481842e-02,  2.67367104e-07, ...,\n",
       "         2.87893333e-03,  9.44878556e-03,  5.91009603e-05],\n",
       "       [ 7.34728839e-07,  3.23954544e-07, -2.05482408e-02, ...,\n",
       "         2.87893333e-03,  9.44878556e-03,  5.91009603e-05],\n",
       "       ...,\n",
       "       [ 7.34728839e-07,  3.23954544e-07,  2.67367104e-07, ...,\n",
       "        -1.67166478e+00,  9.44878556e-03,  5.91009603e-05],\n",
       "       [ 7.34728839e-07,  3.23954544e-07,  2.67367104e-07, ...,\n",
       "         2.87893333e-03, -1.66509493e+00,  5.91009603e-05],\n",
       "       [ 7.34728839e-07,  3.23954544e-07,  2.67367104e-07, ...,\n",
       "         2.87893333e-03,  9.44878556e-03, -1.82428687e-01]])"
      ]
     },
     "execution_count": 58,
     "metadata": {},
     "output_type": "execute_result"
    }
   ],
   "source": [
    "elasticities[single_market][:,:K]"
   ]
  }
 ],
 "metadata": {
  "kernelspec": {
   "display_name": "Python 3",
   "language": "python",
   "name": "python3"
  },
  "language_info": {
   "codemirror_mode": {
    "name": "ipython",
    "version": 3
   },
   "file_extension": ".py",
   "mimetype": "text/x-python",
   "name": "python",
   "nbconvert_exporter": "python",
   "pygments_lexer": "ipython3",
   "version": "3.10.4"
  },
  "orig_nbformat": 4
 },
 "nbformat": 4,
 "nbformat_minor": 2
}
