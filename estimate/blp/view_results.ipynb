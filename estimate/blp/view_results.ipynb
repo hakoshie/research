{
 "cells": [
  {
   "cell_type": "code",
   "execution_count": 4,
   "metadata": {},
   "outputs": [],
   "source": [
    "import pickle\n",
    "import os"
   ]
  },
  {
   "cell_type": "code",
   "execution_count": 5,
   "metadata": {},
   "outputs": [
    {
     "name": "stdout",
     "output_type": "stream",
     "text": [
      "0 MNL_len3_2023-09-05_21-06-56.pkl\n",
      "1 MNL_len4_2023-09-05_21-04-58.pkl\n",
      "2 RCL_len3_2023-09-05_23-34-50.pkl\n",
      "3 RCL_len4_2023-09-05_21-02-48.pkl\n"
     ]
    }
   ],
   "source": [
    "# ディレクトリのパス\n",
    "directory_path = \"./results/\"\n",
    "\n",
    "# ディレクトリ内のファイルをリストとして取得\n",
    "file_list = os.listdir(directory_path)\n",
    "\n",
    "# ファイルリストを表示\n",
    "for i,file in enumerate(file_list):\n",
    "    print(i,file)"
   ]
  },
  {
   "cell_type": "code",
   "execution_count": 6,
   "metadata": {},
   "outputs": [],
   "source": [
    "file_name=file_list[2]\n",
    "with open(f\"./results/{file_name}\", \"rb\") as f:\n",
    "    result = pickle.load(f)"
   ]
  },
  {
   "cell_type": "code",
   "execution_count": 7,
   "metadata": {},
   "outputs": [
    {
     "data": {
      "text/plain": [
       "(Dimensions:\n",
       " =============================================\n",
       "  T     N     I     K1    K2    D    MD    ED \n",
       " ---  -----  ----  ----  ----  ---  ----  ----\n",
       " 264  29653  5280   3     2     1    6     2  \n",
       " =============================================\n",
       " \n",
       " Formulations:\n",
       " ============================================================\n",
       "        Column Indices:            0          1          2   \n",
       " -----------------------------  -------  -----------  -------\n",
       "  X1: Linear Characteristics     oral    in_hospital  generic\n",
       " X2: Nonlinear Characteristics  -prices    generic           \n",
       "        d: Demographics            1                         \n",
       " ============================================================,\n",
       " ['log', 'linear'])"
      ]
     },
     "execution_count": 7,
     "metadata": {},
     "output_type": "execute_result"
    }
   ],
   "source": [
    "# problem and rc_types\n",
    "result.problem, result.problem.rc_types"
   ]
  },
  {
   "cell_type": "code",
   "execution_count": 8,
   "metadata": {},
   "outputs": [
    {
     "data": {
      "text/plain": [
       "((array([[  0.,   0.],\n",
       "         [  0., -inf]]),\n",
       "  array([[inf,  0.],\n",
       "         [ 0., inf]])),\n",
       " (array([[  0.],\n",
       "         [-inf]]),\n",
       "  array([[inf],\n",
       "         [inf]])))"
      ]
     },
     "execution_count": 8,
     "metadata": {},
     "output_type": "execute_result"
    }
   ],
   "source": [
    "# constraints\n",
    "result.sigma_bounds,result.pi_bounds"
   ]
  },
  {
   "cell_type": "code",
   "execution_count": 9,
   "metadata": {},
   "outputs": [
    {
     "data": {
      "text/plain": [
       "Problem Results Summary:\n",
       "==================================================================================================================\n",
       "GMM     Objective      Projected    Reduced Hessian  Reduced Hessian  Clipped  Weighting Matrix  Covariance Matrix\n",
       "Step      Value      Gradient Norm  Min Eigenvalue   Max Eigenvalue   Shares   Condition Number  Condition Number \n",
       "----  -------------  -------------  ---------------  ---------------  -------  ----------------  -----------------\n",
       " 2    +2.716276E+02  +1.402970E-12   -2.068178E-04    +2.121198E-04     551     +4.581420E+08      +5.317757E+16  \n",
       "==================================================================================================================\n",
       "\n",
       "Cumulative Statistics:\n",
       "===========================================================================\n",
       "Computation  Optimizer  Optimization   Objective   Fixed Point  Contraction\n",
       "   Time      Converged   Iterations   Evaluations  Iterations   Evaluations\n",
       "-----------  ---------  ------------  -----------  -----------  -----------\n",
       " 02:26:24       Yes          2             7         2352314      7060160  \n",
       "===========================================================================\n",
       "\n",
       "Nonlinear Coefficient Estimates (Robust SEs in Parentheses):\n",
       "=================================================================================\n",
       "Types:  |  Sigma:       -prices          generic      |    Pi:           1       \n",
       "------  |  -------  ---------------  ---------------  |  -------  ---------------\n",
       " Log    |  -prices   +1.677411E+00                    |  -prices   +1.735605E+00 \n",
       "        |           (+5.044894E+14)                   |           (+1.339013E+14)\n",
       "        |                                             |                          \n",
       "Linear  |  generic   +0.000000E+00    +9.996893E-01   |  generic   +9.991967E-01 \n",
       "        |                            (+2.579551E+17)  |           (+6.184537E+16)\n",
       "=================================================================================\n",
       "\n",
       "Beta Estimates (Robust SEs in Parentheses):\n",
       "=================================================\n",
       "     oral          in_hospital        generic    \n",
       "---------------  ---------------  ---------------\n",
       " -1.153835E+16    -3.889423E+16    -1.050368E+17 \n",
       "(+2.107718E+17)  (+7.650885E+16)  (+3.697680E+16)\n",
       "================================================="
      ]
     },
     "execution_count": 9,
     "metadata": {},
     "output_type": "execute_result"
    }
   ],
   "source": [
    "# result\n",
    "result"
   ]
  },
  {
   "cell_type": "code",
   "execution_count": 10,
   "metadata": {},
   "outputs": [
    {
     "data": {
      "text/plain": [
       "146.39867493311564"
      ]
     },
     "execution_count": 10,
     "metadata": {},
     "output_type": "execute_result"
    }
   ],
   "source": [
    "# time in minutes\n",
    "result.cumulative_total_time/60"
   ]
  }
 ],
 "metadata": {
  "kernelspec": {
   "display_name": "Python 3",
   "language": "python",
   "name": "python3"
  },
  "language_info": {
   "codemirror_mode": {
    "name": "ipython",
    "version": 3
   },
   "file_extension": ".py",
   "mimetype": "text/x-python",
   "name": "python",
   "nbconvert_exporter": "python",
   "pygments_lexer": "ipython3",
   "version": "3.10.4"
  },
  "orig_nbformat": 4
 },
 "nbformat": 4,
 "nbformat_minor": 2
}
