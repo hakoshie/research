{
 "cells": [
  {
   "cell_type": "code",
   "execution_count": 133,
   "metadata": {},
   "outputs": [
    {
     "name": "stdout",
     "output_type": "stream",
     "text": [
      "0 MNL_len3_2023-09-05_21-06-56.pkl\n",
      "1 MNL_len3_2023-09-13_19-15-05.pkl\n",
      "2 MNL_len4_2023-09-05_21-04-58.pkl\n",
      "3 NL_len3_2023-10-02_21-40-47_00.pkl\n",
      "4 NL_len3_2023-10-02_21-43-19_01.pkl\n",
      "5 NL_len3_2023-10-02_21-44-38_10.pkl\n",
      "6 NL_len3_2023-10-02_21-45-30_11.pkl\n",
      "7 NL_len3_2023-11-22_03-37-50_00.pkl\n",
      "8 NL_len3_2023-12-06_08-07-53_00.pkl\n",
      "9 NL_len3_2023-12-06_08-09-58_00.pkl\n",
      "10 RCL_len3_2023-09-05_23-34-50.pkl\n",
      "11 RCL_len3_2023-09-07_10-26-25.pkl\n",
      "12 RCL_len3_2023-09-14_01-27-16.pkl\n",
      "13 RCL_len3_2023-09-15_20-29-44.pkl\n",
      "14 RCL_len4_2023-09-05_21-02-48.pkl\n",
      "15 RCNL_len3_2023-11-23_13-38-58.pkl\n",
      "16 RCNL_len3_2023-11-24_14-37-50.pkl\n",
      "17 RCNL_len3_2023-11-24_19-29-56.pkl\n"
     ]
    }
   ],
   "source": [
    "import pickle\n",
    "import os\n",
    "import pyblp\n",
    "import pandas as pd\n",
    "import matplotlib.pyplot as plt\n",
    "import numpy as np\n",
    "%matplotlib inline\n",
    "# ディレクトリのパス\n",
    "directory_path = \"./results/\"\n",
    "\n",
    "# ディレクトリ内のファイルをリストとして取得\n",
    "file_list = os.listdir(directory_path)\n",
    "\n",
    "# ファイルリストを表示\n",
    "for i,file in enumerate(file_list):\n",
    "    print(i,file)\n"
   ]
  },
  {
   "cell_type": "code",
   "execution_count": 134,
   "metadata": {},
   "outputs": [],
   "source": [
    "# file_name=file_list[6]\n",
    "# with open(f\"./results/{file_name}\", \"rb\") as f:\n",
    "#     result = pickle.load(f)\n",
    "file_index=[7]\n",
    "results=[]\n",
    "for i in file_index:\n",
    "    with open(f\"./results/{file_list[i]}\", \"rb\") as f:\n",
    "        results.append(pickle.load(f))\n"
   ]
  },
  {
   "cell_type": "code",
   "execution_count": 135,
   "metadata": {},
   "outputs": [
    {
     "name": "stdout",
     "output_type": "stream",
     "text": [
      "-5.922542147403463\n"
     ]
    }
   ],
   "source": [
    "for res in results:\n",
    "    print(np.mean(res.delta))"
   ]
  },
  {
   "cell_type": "code",
   "execution_count": 136,
   "metadata": {},
   "outputs": [
    {
     "data": {
      "text/plain": [
       "Problem Results Summary:\n",
       "===============================================================================================\n",
       "GMM     Objective      Projected       Reduced     Clipped  Weighting Matrix  Covariance Matrix\n",
       "Step      Value      Gradient Norm     Hessian     Shares   Condition Number  Condition Number \n",
       "----  -------------  -------------  -------------  -------  ----------------  -----------------\n",
       " 2    +1.706481E+02  +3.692564E-08  +7.548881E+02     0      +1.923798E+04      +4.004498E+09  \n",
       "===============================================================================================\n",
       "\n",
       "Cumulative Statistics:\n",
       "=================================================\n",
       "Computation  Optimizer  Optimization   Objective \n",
       "   Time      Converged   Iterations   Evaluations\n",
       "-----------  ---------  ------------  -----------\n",
       " 00:00:09       Yes          2             8     \n",
       "=================================================\n",
       "\n",
       "Rho Estimates (Robust SEs in Parentheses):\n",
       "===============\n",
       "  All Groups   \n",
       "---------------\n",
       " +4.784758E-01 \n",
       "(+4.935661E-02)\n",
       "===============\n",
       "\n",
       "Beta Estimates (Robust SEs in Parentheses):\n",
       "=====================================================================================================================\n",
       "    prices         in_hospital         oral            generic            otc           long_term      Pharmacopoeia \n",
       "---------------  ---------------  ---------------  ---------------  ---------------  ---------------  ---------------\n",
       " -6.958107E-05    +2.550082E-01    +1.227009E+00    -5.850748E-01    -1.840785E+00    -1.402544E-01    +1.302518E-01 \n",
       "(+2.275860E-05)  (+2.576117E-02)  (+1.259410E-01)  (+4.767135E-02)  (+6.795073E-01)  (+4.993146E-02)  (+1.793841E-02)\n",
       "====================================================================================================================="
      ]
     },
     "execution_count": 136,
     "metadata": {},
     "output_type": "execute_result"
    }
   ],
   "source": [
    "results[0]"
   ]
  },
  {
   "cell_type": "code",
   "execution_count": 137,
   "metadata": {},
   "outputs": [
    {
     "name": "stdout",
     "output_type": "stream",
     "text": [
      "Computing consumer surpluses with the equation that assumes away nonlinear income effects ...\n",
      "Finished after 00:00:00.\n",
      "\n",
      "Computing consumer surpluses with the equation that assumes away nonlinear income effects ...\n",
      "\n",
      "Encountered a numerical error when computing a post-estimation output. Errors encountered: divide by zero.\n",
      "\n",
      "Finished after 00:00:00.\n",
      "\n",
      "Computing consumer surpluses with the equation that assumes away nonlinear income effects ...\n",
      "\n",
      "Encountered a numerical error when computing a post-estimation output. Errors encountered: divide by zero.\n",
      "\n",
      "Finished after 00:00:00.\n",
      "\n",
      "Computing consumer surpluses with the equation that assumes away nonlinear income effects ...\n",
      "\n",
      "Encountered a numerical error when computing a post-estimation output. Errors encountered: divide by zero.\n",
      "\n",
      "Finished after 00:00:00.\n",
      "\n",
      "consumer surplus\n",
      "[1.         0.98408477 0.96436383 0.94789161]\n"
     ]
    },
    {
     "data": {
      "text/plain": [
       "(array([545964.56923871]),\n",
       " array([537275.41778745]),\n",
       " array([526508.48135812]),\n",
       " array([517515.23297075]))"
      ]
     },
     "execution_count": 137,
     "metadata": {},
     "output_type": "execute_result"
    }
   ],
   "source": [
    "import sys\n",
    "# sys.exit()  \n",
    "cs=results[0].compute_consumer_surpluses()\n",
    "cs2=results[0].compute_consumer_surpluses(eliminate_product_ids=[\"self\"])\n",
    "cs3=results[0].compute_consumer_surpluses(eliminate_product_ids=[\"nonself\"])\n",
    "cs4=results[0].compute_consumer_surpluses(eliminate_product_ids=[\"nonself\",\"self\"])\n",
    "# unmute()\n",
    "print(\"consumer surplus\")\n",
    "print([np.mean(cs),np.mean(cs2),np.mean(cs3),np.mean(cs4)]/np.mean(cs))\n",
    "sum(cs),sum(cs2),sum(cs3),sum(cs4)"
   ]
  },
  {
   "cell_type": "code",
   "execution_count": 138,
   "metadata": {},
   "outputs": [
    {
     "data": {
      "text/plain": [
       "'114-2015'"
      ]
     },
     "execution_count": 138,
     "metadata": {},
     "output_type": "execute_result"
    }
   ],
   "source": [
    "logit_results.problem.products[\"market_ids\"][0][0]"
   ]
  },
  {
   "cell_type": "code",
   "execution_count": 139,
   "metadata": {},
   "outputs": [
    {
     "name": "stdout",
     "output_type": "stream",
     "text": [
      "Computing consumer surpluses with the equation that assumes away nonlinear income effects ...\n",
      "Finished after 00:00:00.\n",
      "\n",
      "Computing consumer surpluses with the equation that assumes away nonlinear income effects ...\n",
      "\n",
      "Encountered a numerical error when computing a post-estimation output. Errors encountered: divide by zero.\n",
      "\n",
      "Finished after 00:00:00.\n",
      "\n",
      "Computing consumer surpluses with the equation that assumes away nonlinear income effects ...\n",
      "Finished after 00:00:00.\n",
      "\n",
      "Computing consumer surpluses with the equation that assumes away nonlinear income effects ...\n",
      "\n",
      "Encountered a numerical error when computing a post-estimation output. Errors encountered: divide by zero.\n",
      "\n",
      "Finished after 00:00:00.\n",
      "\n",
      "Computing consumer surpluses with the equation that assumes away nonlinear income effects ...\n",
      "Finished after 00:00:00.\n",
      "\n",
      "Computing consumer surpluses with the equation that assumes away nonlinear income effects ...\n",
      "\n",
      "Encountered a numerical error when computing a post-estimation output. Errors encountered: divide by zero.\n",
      "\n",
      "Finished after 00:00:00.\n",
      "\n",
      "Computing consumer surpluses with the equation that assumes away nonlinear income effects ...\n",
      "\n",
      "Encountered a numerical error when computing a post-estimation output. Errors encountered: divide by zero.\n",
      "\n",
      "Finished after 00:00:00.\n",
      "\n",
      "Computing consumer surpluses with the equation that assumes away nonlinear income effects ...\n",
      "\n",
      "Encountered a numerical error when computing a post-estimation output. Errors encountered: divide by zero.\n",
      "\n",
      "Finished after 00:00:00.\n",
      "\n",
      "Computing consumer surpluses with the equation that assumes away nonlinear income effects ...\n",
      "Finished after 00:00:00.\n",
      "\n",
      "Computing consumer surpluses with the equation that assumes away nonlinear income effects ...\n",
      "\n",
      "Encountered a numerical error when computing a post-estimation output. Errors encountered: divide by zero.\n",
      "\n",
      "Finished after 00:00:00.\n",
      "\n",
      "Computing consumer surpluses with the equation that assumes away nonlinear income effects ...\n",
      "\n",
      "Encountered a numerical error when computing a post-estimation output. Errors encountered: divide by zero.\n",
      "\n",
      "Finished after 00:00:00.\n",
      "\n",
      "Computing consumer surpluses with the equation that assumes away nonlinear income effects ...\n",
      "\n",
      "Encountered a numerical error when computing a post-estimation output. Errors encountered: divide by zero.\n",
      "\n",
      "Finished after 00:00:00.\n",
      "\n",
      "Computing consumer surpluses with the equation that assumes away nonlinear income effects ...\n",
      "Finished after 00:00:00.\n",
      "\n",
      "Computing consumer surpluses with the equation that assumes away nonlinear income effects ...\n",
      "\n",
      "Encountered a numerical error when computing a post-estimation output. Errors encountered: divide by zero.\n",
      "\n",
      "Finished after 00:00:00.\n",
      "\n",
      "Computing consumer surpluses with the equation that assumes away nonlinear income effects ...\n",
      "\n",
      "Encountered a numerical error when computing a post-estimation output. Errors encountered: divide by zero.\n",
      "\n",
      "Finished after 00:00:00.\n",
      "\n",
      "Computing consumer surpluses with the equation that assumes away nonlinear income effects ...\n",
      "\n",
      "Encountered a numerical error when computing a post-estimation output. Errors encountered: divide by zero.\n",
      "\n",
      "Finished after 00:00:00.\n",
      "\n",
      "Computing consumer surpluses with the equation that assumes away nonlinear income effects ...\n",
      "Finished after 00:00:00.\n",
      "\n",
      "Computing consumer surpluses with the equation that assumes away nonlinear income effects ...\n",
      "\n",
      "Encountered a numerical error when computing a post-estimation output. Errors encountered: divide by zero.\n",
      "\n",
      "Finished after 00:00:00.\n",
      "\n",
      "Computing consumer surpluses with the equation that assumes away nonlinear income effects ...\n",
      "Finished after 00:00:00.\n",
      "\n",
      "Computing consumer surpluses with the equation that assumes away nonlinear income effects ...\n",
      "\n",
      "Encountered a numerical error when computing a post-estimation output. Errors encountered: divide by zero.\n",
      "\n",
      "Finished after 00:00:00.\n",
      "\n",
      "Computing consumer surpluses with the equation that assumes away nonlinear income effects ...\n",
      "Finished after 00:00:00.\n",
      "\n",
      "Computing consumer surpluses with the equation that assumes away nonlinear income effects ...\n",
      "\n",
      "Encountered a numerical error when computing a post-estimation output. Errors encountered: divide by zero.\n",
      "\n",
      "Finished after 00:00:00.\n",
      "\n",
      "Computing consumer surpluses with the equation that assumes away nonlinear income effects ...\n",
      "Finished after 00:00:00.\n",
      "\n",
      "Computing consumer surpluses with the equation that assumes away nonlinear income effects ...\n",
      "\n",
      "Encountered a numerical error when computing a post-estimation output. Errors encountered: divide by zero.\n",
      "\n",
      "Finished after 00:00:00.\n",
      "\n",
      "Computing consumer surpluses with the equation that assumes away nonlinear income effects ...\n",
      "Finished after 00:00:00.\n",
      "\n",
      "Computing consumer surpluses with the equation that assumes away nonlinear income effects ...\n",
      "\n",
      "Encountered a numerical error when computing a post-estimation output. Errors encountered: divide by zero.\n",
      "\n",
      "Finished after 00:00:00.\n",
      "\n",
      "Computing consumer surpluses with the equation that assumes away nonlinear income effects ...\n",
      "\n",
      "Encountered a numerical error when computing a post-estimation output. Errors encountered: divide by zero.\n",
      "\n",
      "Finished after 00:00:00.\n",
      "\n",
      "Computing consumer surpluses with the equation that assumes away nonlinear income effects ...\n",
      "\n",
      "Encountered a numerical error when computing a post-estimation output. Errors encountered: divide by zero.\n",
      "\n",
      "Finished after 00:00:00.\n",
      "\n",
      "Computing consumer surpluses with the equation that assumes away nonlinear income effects ...\n",
      "Finished after 00:00:00.\n",
      "\n",
      "Computing consumer surpluses with the equation that assumes away nonlinear income effects ...\n",
      "\n",
      "Encountered a numerical error when computing a post-estimation output. Errors encountered: divide by zero.\n",
      "\n",
      "Finished after 00:00:00.\n",
      "\n",
      "Computing consumer surpluses with the equation that assumes away nonlinear income effects ...\n",
      "\n",
      "Encountered a numerical error when computing a post-estimation output. Errors encountered: divide by zero.\n",
      "\n",
      "Finished after 00:00:00.\n",
      "\n",
      "Computing consumer surpluses with the equation that assumes away nonlinear income effects ...\n",
      "Finished after 00:00:00.\n",
      "\n",
      "Computing consumer surpluses with the equation that assumes away nonlinear income effects ...\n",
      "Finished after 00:00:00.\n",
      "\n",
      "Computing consumer surpluses with the equation that assumes away nonlinear income effects ...\n",
      "Finished after 00:00:00.\n",
      "\n",
      "Computing consumer surpluses with the equation that assumes away nonlinear income effects ...\n",
      "Finished after 00:00:00.\n",
      "\n",
      "Computing consumer surpluses with the equation that assumes away nonlinear income effects ...\n",
      "Finished after 00:00:00.\n",
      "\n",
      "Computing consumer surpluses with the equation that assumes away nonlinear income effects ...\n",
      "Finished after 00:00:00.\n",
      "\n",
      "Computing consumer surpluses with the equation that assumes away nonlinear income effects ...\n",
      "Finished after 00:00:00.\n",
      "\n",
      "Computing consumer surpluses with the equation that assumes away nonlinear income effects ...\n",
      "Finished after 00:00:00.\n",
      "\n",
      "Computing consumer surpluses with the equation that assumes away nonlinear income effects ...\n",
      "Finished after 00:00:00.\n",
      "\n",
      "Computing consumer surpluses with the equation that assumes away nonlinear income effects ...\n",
      "Finished after 00:00:00.\n",
      "\n",
      "Computing consumer surpluses with the equation that assumes away nonlinear income effects ...\n",
      "\n",
      "Encountered a numerical error when computing a post-estimation output. Errors encountered: divide by zero.\n",
      "\n",
      "Finished after 00:00:00.\n",
      "\n",
      "Computing consumer surpluses with the equation that assumes away nonlinear income effects ...\n",
      "\n",
      "Encountered a numerical error when computing a post-estimation output. Errors encountered: divide by zero.\n",
      "\n",
      "Finished after 00:00:00.\n",
      "\n",
      "Computing consumer surpluses with the equation that assumes away nonlinear income effects ...\n",
      "\n",
      "Encountered a numerical error when computing a post-estimation output. Errors encountered: divide by zero.\n",
      "\n",
      "Finished after 00:00:00.\n",
      "\n",
      "Computing consumer surpluses with the equation that assumes away nonlinear income effects ...\n",
      "Finished after 00:00:00.\n",
      "\n",
      "Computing consumer surpluses with the equation that assumes away nonlinear income effects ...\n",
      "\n",
      "Encountered a numerical error when computing a post-estimation output. Errors encountered: divide by zero.\n",
      "\n",
      "Finished after 00:00:00.\n",
      "\n",
      "Computing consumer surpluses with the equation that assumes away nonlinear income effects ...\n",
      "\n",
      "Encountered a numerical error when computing a post-estimation output. Errors encountered: divide by zero.\n",
      "\n",
      "Finished after 00:00:00.\n",
      "\n",
      "Computing consumer surpluses with the equation that assumes away nonlinear income effects ...\n",
      "\n",
      "Encountered a numerical error when computing a post-estimation output. Errors encountered: divide by zero.\n",
      "\n",
      "Finished after 00:00:00.\n",
      "\n",
      "Computing consumer surpluses with the equation that assumes away nonlinear income effects ...\n",
      "Finished after 00:00:00.\n",
      "\n",
      "Computing consumer surpluses with the equation that assumes away nonlinear income effects ...\n",
      "\n",
      "Encountered a numerical error when computing a post-estimation output. Errors encountered: divide by zero.\n",
      "\n",
      "Finished after 00:00:00.\n",
      "\n",
      "Computing consumer surpluses with the equation that assumes away nonlinear income effects ...\n",
      "\n",
      "Encountered a numerical error when computing a post-estimation output. Errors encountered: divide by zero.\n",
      "\n",
      "Finished after 00:00:00.\n",
      "\n",
      "Computing consumer surpluses with the equation that assumes away nonlinear income effects ...\n",
      "\n",
      "Encountered a numerical error when computing a post-estimation output. Errors encountered: divide by zero.\n",
      "\n",
      "Finished after 00:00:00.\n",
      "\n",
      "Computing consumer surpluses with the equation that assumes away nonlinear income effects ...\n",
      "Finished after 00:00:00.\n",
      "\n",
      "Computing consumer surpluses with the equation that assumes away nonlinear income effects ...\n",
      "Finished after 00:00:00.\n",
      "\n",
      "Computing consumer surpluses with the equation that assumes away nonlinear income effects ...\n",
      "Finished after 00:00:00.\n",
      "\n",
      "Computing consumer surpluses with the equation that assumes away nonlinear income effects ...\n",
      "Finished after 00:00:00.\n",
      "\n",
      "Computing consumer surpluses with the equation that assumes away nonlinear income effects ...\n",
      "Finished after 00:00:00.\n",
      "\n",
      "Computing consumer surpluses with the equation that assumes away nonlinear income effects ...\n",
      "\n",
      "Encountered a numerical error when computing a post-estimation output. Errors encountered: divide by zero.\n",
      "\n",
      "Finished after 00:00:00.\n",
      "\n",
      "Computing consumer surpluses with the equation that assumes away nonlinear income effects ...\n",
      "\n",
      "Encountered a numerical error when computing a post-estimation output. Errors encountered: divide by zero.\n",
      "\n",
      "Finished after 00:00:00.\n",
      "\n",
      "Computing consumer surpluses with the equation that assumes away nonlinear income effects ...\n",
      "\n",
      "Encountered a numerical error when computing a post-estimation output. Errors encountered: divide by zero.\n",
      "\n",
      "Finished after 00:00:00.\n",
      "\n",
      "Computing consumer surpluses with the equation that assumes away nonlinear income effects ...\n",
      "Finished after 00:00:00.\n",
      "\n",
      "Computing consumer surpluses with the equation that assumes away nonlinear income effects ...\n",
      "\n",
      "Encountered a numerical error when computing a post-estimation output. Errors encountered: divide by zero.\n",
      "\n",
      "Finished after 00:00:00.\n",
      "\n",
      "Computing consumer surpluses with the equation that assumes away nonlinear income effects ...\n",
      "\n",
      "Encountered a numerical error when computing a post-estimation output. Errors encountered: divide by zero.\n",
      "\n",
      "Finished after 00:00:00.\n",
      "\n",
      "Computing consumer surpluses with the equation that assumes away nonlinear income effects ...\n",
      "\n",
      "Encountered a numerical error when computing a post-estimation output. Errors encountered: divide by zero.\n",
      "\n",
      "Finished after 00:00:00.\n",
      "\n",
      "Computing consumer surpluses with the equation that assumes away nonlinear income effects ...\n",
      "Finished after 00:00:00.\n",
      "\n",
      "Computing consumer surpluses with the equation that assumes away nonlinear income effects ...\n",
      "Finished after 00:00:00.\n",
      "\n",
      "Computing consumer surpluses with the equation that assumes away nonlinear income effects ...\n",
      "Finished after 00:00:00.\n",
      "\n",
      "Computing consumer surpluses with the equation that assumes away nonlinear income effects ...\n",
      "Finished after 00:00:00.\n",
      "\n",
      "Computing consumer surpluses with the equation that assumes away nonlinear income effects ...\n",
      "Finished after 00:00:00.\n",
      "\n",
      "Computing consumer surpluses with the equation that assumes away nonlinear income effects ...\n",
      "\n",
      "Encountered a numerical error when computing a post-estimation output. Errors encountered: divide by zero.\n",
      "\n",
      "Finished after 00:00:00.\n",
      "\n",
      "Computing consumer surpluses with the equation that assumes away nonlinear income effects ...\n",
      "\n",
      "Encountered a numerical error when computing a post-estimation output. Errors encountered: divide by zero.\n",
      "\n",
      "Finished after 00:00:00.\n",
      "\n",
      "Computing consumer surpluses with the equation that assumes away nonlinear income effects ...\n",
      "\n",
      "Encountered a numerical error when computing a post-estimation output. Errors encountered: divide by zero.\n",
      "\n",
      "Finished after 00:00:00.\n",
      "\n",
      "Computing consumer surpluses with the equation that assumes away nonlinear income effects ...\n",
      "Finished after 00:00:00.\n",
      "\n",
      "Computing consumer surpluses with the equation that assumes away nonlinear income effects ...\n",
      "Finished after 00:00:00.\n",
      "\n",
      "Computing consumer surpluses with the equation that assumes away nonlinear income effects ...\n",
      "Finished after 00:00:00.\n",
      "\n",
      "Computing consumer surpluses with the equation that assumes away nonlinear income effects ...\n",
      "Finished after 00:00:00.\n",
      "\n",
      "Computing consumer surpluses with the equation that assumes away nonlinear income effects ...\n",
      "Finished after 00:00:00.\n",
      "\n",
      "Computing consumer surpluses with the equation that assumes away nonlinear income effects ...\n",
      "\n",
      "Encountered a numerical error when computing a post-estimation output. Errors encountered: divide by zero.\n",
      "\n",
      "Finished after 00:00:00.\n",
      "\n",
      "Computing consumer surpluses with the equation that assumes away nonlinear income effects ...\n",
      "\n",
      "Encountered a numerical error when computing a post-estimation output. Errors encountered: divide by zero.\n",
      "\n",
      "Finished after 00:00:00.\n",
      "\n",
      "Computing consumer surpluses with the equation that assumes away nonlinear income effects ...\n",
      "\n",
      "Encountered a numerical error when computing a post-estimation output. Errors encountered: divide by zero.\n",
      "\n",
      "Finished after 00:00:00.\n",
      "\n",
      "Computing consumer surpluses with the equation that assumes away nonlinear income effects ...\n",
      "Finished after 00:00:00.\n",
      "\n",
      "Computing consumer surpluses with the equation that assumes away nonlinear income effects ...\n",
      "Finished after 00:00:00.\n",
      "\n",
      "Computing consumer surpluses with the equation that assumes away nonlinear income effects ...\n",
      "Finished after 00:00:00.\n",
      "\n",
      "Computing consumer surpluses with the equation that assumes away nonlinear income effects ...\n",
      "Finished after 00:00:00.\n",
      "\n",
      "Computing consumer surpluses with the equation that assumes away nonlinear income effects ...\n",
      "Finished after 00:00:00.\n",
      "\n",
      "Computing consumer surpluses with the equation that assumes away nonlinear income effects ...\n",
      "\n",
      "Encountered a numerical error when computing a post-estimation output. Errors encountered: divide by zero.\n",
      "\n",
      "Finished after 00:00:00.\n",
      "\n",
      "Computing consumer surpluses with the equation that assumes away nonlinear income effects ...\n",
      "\n",
      "Encountered a numerical error when computing a post-estimation output. Errors encountered: divide by zero.\n",
      "\n",
      "Finished after 00:00:00.\n",
      "\n",
      "Computing consumer surpluses with the equation that assumes away nonlinear income effects ...\n",
      "\n",
      "Encountered a numerical error when computing a post-estimation output. Errors encountered: divide by zero.\n",
      "\n",
      "Finished after 00:00:00.\n",
      "\n",
      "Computing consumer surpluses with the equation that assumes away nonlinear income effects ...\n",
      "Finished after 00:00:00.\n",
      "\n",
      "Computing consumer surpluses with the equation that assumes away nonlinear income effects ...\n",
      "\n",
      "Encountered a numerical error when computing a post-estimation output. Errors encountered: divide by zero.\n",
      "\n",
      "Finished after 00:00:00.\n",
      "\n",
      "Computing consumer surpluses with the equation that assumes away nonlinear income effects ...\n",
      "\n",
      "Encountered a numerical error when computing a post-estimation output. Errors encountered: divide by zero.\n",
      "\n",
      "Finished after 00:00:00.\n",
      "\n",
      "Computing consumer surpluses with the equation that assumes away nonlinear income effects ...\n",
      "Finished after 00:00:00.\n",
      "\n",
      "Computing consumer surpluses with the equation that assumes away nonlinear income effects ...\n",
      "Finished after 00:00:00.\n",
      "\n",
      "Computing consumer surpluses with the equation that assumes away nonlinear income effects ...\n",
      "\n",
      "Encountered a numerical error when computing a post-estimation output. Errors encountered: divide by zero.\n",
      "\n",
      "Finished after 00:00:00.\n",
      "\n",
      "Computing consumer surpluses with the equation that assumes away nonlinear income effects ...\n",
      "\n",
      "Encountered a numerical error when computing a post-estimation output. Errors encountered: divide by zero.\n",
      "\n",
      "Finished after 00:00:00.\n",
      "\n",
      "Computing consumer surpluses with the equation that assumes away nonlinear income effects ...\n",
      "Finished after 00:00:00.\n",
      "\n",
      "Computing consumer surpluses with the equation that assumes away nonlinear income effects ...\n",
      "Finished after 00:00:00.\n",
      "\n",
      "Computing consumer surpluses with the equation that assumes away nonlinear income effects ...\n",
      "\n",
      "Encountered a numerical error when computing a post-estimation output. Errors encountered: divide by zero.\n",
      "\n",
      "Finished after 00:00:00.\n",
      "\n",
      "Computing consumer surpluses with the equation that assumes away nonlinear income effects ...\n",
      "\n",
      "Encountered a numerical error when computing a post-estimation output. Errors encountered: divide by zero.\n",
      "\n",
      "Finished after 00:00:00.\n",
      "\n",
      "Computing consumer surpluses with the equation that assumes away nonlinear income effects ...\n",
      "\n",
      "Encountered a numerical error when computing a post-estimation output. Errors encountered: divide by zero.\n",
      "\n",
      "Finished after 00:00:00.\n",
      "\n"
     ]
    },
    {
     "data": {
      "text/plain": [
       "array([78129.05633325, 74220.2852268 , 76976.4282147 , 75409.57997411])"
      ]
     },
     "execution_count": 139,
     "metadata": {},
     "output_type": "execute_result"
    }
   ],
   "source": [
    "logit_results=results[0]\n",
    "# css = logit_results.compute_consumer_surpluses(market_id=)\n",
    "(logit_results.problem.products[\"firm_ids\"]==\"self\").shape\n",
    "# Get a boolean array where True indicates that the market_id contains \"2021\"\n",
    "# Get the market_ids that contain \"2021\"\n",
    "market_ids_2021 = set([id[0] for id in logit_results.problem.products[\"market_ids\"] if \"2021\" in id[0]])\n",
    "\n",
    "cs_sum=[]\n",
    "for id in market_ids_2021:\n",
    "    cs_i=[]\n",
    "    cs_i.append(logit_results.compute_consumer_surpluses(market_id=id)[0][0])\n",
    "    cs_i.append(logit_results.compute_consumer_surpluses(market_id=id,eliminate_product_ids=[\"nonself\",\"self\"])[0][0])\n",
    "    cs_i.append(logit_results.compute_consumer_surpluses(market_id=id,eliminate_product_ids=[\"self\"])[0][0])\n",
    "    cs_i.append(logit_results.compute_consumer_surpluses(market_id=id,eliminate_product_ids=[\"nonself\"])[0][0])\n",
    "    cs_sum.append(cs_i)\n",
    "np.array(cs_sum).sum(axis=0)"
   ]
  },
  {
   "cell_type": "code",
   "execution_count": 140,
   "metadata": {},
   "outputs": [
    {
     "name": "stdout",
     "output_type": "stream",
     "text": [
      "Computing elasticities with respect to prices ...\n",
      "Finished after 00:00:00.\n",
      "\n"
     ]
    }
   ],
   "source": [
    "# mean\n",
    "logit_results=results[0]\n",
    "elasticities = logit_results.compute_elasticities()\n",
    "(logit_results.problem.products[\"firm_ids\"]==\"self\").shape\n",
    "self_e=np.array(pd.DataFrame(elasticities).loc[logit_results.problem.products[\"firm_ids\"]==\"self\"].mean(axis=1))\n",
    "nonself_e=np.array(pd.DataFrame(elasticities).loc[logit_results.problem.products[\"firm_ids\"]==\"nonself\"].mean(axis=1))\n",
    "other_e = np.array(pd.DataFrame(elasticities).loc[~np.isin(logit_results.problem.products[\"firm_ids\"], [\"self\", \"nonself\"])].mean(axis=1))\n",
    "# len(self_m),len(nonself_m),len(other_m) \n",
    "# np.mean(self_m),np.mean(nonself_m),np.mean(other_m)\n",
    "# np.std(self_m),np.std(nonself_m),np.std(other_m)"
   ]
  },
  {
   "cell_type": "code",
   "execution_count": 141,
   "metadata": {},
   "outputs": [
    {
     "name": "stdout",
     "output_type": "stream",
     "text": [
      "Computing elasticities with respect to prices ...\n",
      "Finished after 00:00:00.\n",
      "\n"
     ]
    }
   ],
   "source": [
    "logit_results=results[0]\n",
    "elasticities = logit_results.compute_elasticities()\n",
    "(logit_results.problem.products[\"firm_ids\"]==\"self\").shape\n",
    "self_e=np.array(pd.DataFrame(elasticities).loc[logit_results.problem.products[\"firm_ids\"]==\"self\"].values.flatten())\n",
    "nonself_e=np.array(pd.DataFrame(elasticities).loc[logit_results.problem.products[\"firm_ids\"]==\"nonself\"].values.flatten())\n",
    "other_e = np.array(pd.DataFrame(elasticities).loc[~np.isin(logit_results.problem.products[\"firm_ids\"], [\"self\", \"nonself\"])].values.flatten())\n",
    "\n",
    "self_o=self_e[self_e<0]\n",
    "nonself_o=nonself_e[nonself_e<0]\n",
    "other_o=other_e[other_e<0]\n",
    "# only positive values\n",
    "self_e=self_e[self_e>0]\n",
    "nonself_e=nonself_e[nonself_e>0]\n",
    "other_e=other_e[other_e>0]\n"
   ]
  },
  {
   "cell_type": "code",
   "execution_count": 151,
   "metadata": {},
   "outputs": [
    {
     "data": {
      "text/plain": [
       "(-0.16201219800521197, -0.019919998056172908, -0.023184997853072556)"
      ]
     },
     "execution_count": 151,
     "metadata": {},
     "output_type": "execute_result"
    }
   ],
   "source": [
    "np.mean(other_o),np.mean(self_o),np.mean(nonself_o)"
   ]
  },
  {
   "cell_type": "code",
   "execution_count": 152,
   "metadata": {},
   "outputs": [
    {
     "data": {
      "text/plain": [
       "(0.9450886548390531, 0.04480461794889942, 0.05097312590758097)"
      ]
     },
     "execution_count": 152,
     "metadata": {},
     "output_type": "execute_result"
    }
   ],
   "source": [
    "np.std(other_o),np.std(self_o),np.std(nonself_o)"
   ]
  },
  {
   "cell_type": "code",
   "execution_count": 143,
   "metadata": {},
   "outputs": [
    {
     "data": {
      "text/plain": [
       "(0, 4588815, 0, 15791, 0, 16568)"
      ]
     },
     "execution_count": 143,
     "metadata": {},
     "output_type": "execute_result"
    }
   ],
   "source": [
    "sum(other_e<0),sum(other_e>0),sum(self_e<0),sum(self_e>0),sum(nonself_e<0),sum(nonself_e>0)"
   ]
  },
  {
   "cell_type": "code",
   "execution_count": 144,
   "metadata": {},
   "outputs": [
    {
     "data": {
      "text/plain": [
       "(0.00023303265118003474, 1.459632735808747e-05, 1.5857725353930637e-05)"
      ]
     },
     "execution_count": 144,
     "metadata": {},
     "output_type": "execute_result"
    }
   ],
   "source": [
    "np.std(self_e),np.std(nonself_e),np.std(other_e),np.mean(self_e),np.mean(nonself_e),np.mean(other_e)\n",
    "np.mean(other_e),np.mean(self_e),np.mean(nonself_e)"
   ]
  },
  {
   "cell_type": "code",
   "execution_count": 145,
   "metadata": {},
   "outputs": [
    {
     "data": {
      "text/plain": [
       "(0.002520903806479662, 6.629369696564325e-05, 6.311264918934013e-05)"
      ]
     },
     "execution_count": 145,
     "metadata": {},
     "output_type": "execute_result"
    }
   ],
   "source": [
    "np.std(other_e),np.std(self_e),np.std(nonself_e)"
   ]
  },
  {
   "cell_type": "code",
   "execution_count": 146,
   "metadata": {},
   "outputs": [
    {
     "data": {
      "image/png": "[encoded data removed]",
      "text/plain": [
       "<Figure size 432x288 with 1 Axes>"
      ]
     },
     "metadata": {
      "needs_background": "light"
     },
     "output_type": "display_data"
    }
   ],
   "source": [
    "# ビンの範囲を指定\n",
    "bins = np.linspace(0, 1e-3, 50)\n",
    "\n",
    "import seaborn as sns\n",
    "\n",
    "# カラーパレットを設定\n",
    "colors = sns.color_palette(\"muted\", 3)\n",
    "\n",
    "# elasticities histogram\n",
    "plt.hist(self_e,  alpha=0.5, color=colors[0], bins=bins)\n",
    "plt.hist(nonself_e, alpha=0.5, color=colors[1], bins=bins)\n",
    "plt.hist(other_e,   alpha=0.5, color=colors[2], bins=bins)\n",
    "plt.legend([\"self\",\"nonself\",\"RX\"])\n",
    "plt.xlim(0,4e-4)\n",
    "plt.ticklabel_format(axis=\"x\", style=\"sci\", scilimits=(0,0))\n",
    "plt.title(\"Cross price elasticities\")\n",
    "plt.xlabel(\"Elasticities\")\n",
    "plt.ylabel(\"Density\")\n",
    "plt.show()"
   ]
  },
  {
   "cell_type": "code",
   "execution_count": 147,
   "metadata": {},
   "outputs": [
    {
     "data": {
      "image/png": "[encoded data removed]",
      "text/plain": [
       "<Figure size 1296x360 with 3 Axes>"
      ]
     },
     "metadata": {
      "needs_background": "light"
     },
     "output_type": "display_data"
    }
   ],
   "source": [
    "import seaborn as sns\n",
    "import matplotlib.pyplot as plt\n",
    "import numpy as np\n",
    "\n",
    "# ビンの範囲を指定\n",
    "xmax=1e-3\n",
    "bins = np.linspace(0, xmax, 30)\n",
    "\n",
    "# カラーパレットを設定\n",
    "colors = sns.color_palette(\"hls\", 3)\n",
    "\n",
    "# elasticities histogram\n",
    "fig, axs = plt.subplots(1, 3, figsize=(18,5))\n",
    "\n",
    "# データのリスト\n",
    "data_list = [other_e,self_e, nonself_e]\n",
    "legend_list = [\"RX\",\"self\",\"nonself\"]\n",
    "for i in range(3):\n",
    "    axs[i].hist(data_list[i], bins=bins, density=True, alpha=.8, color=colors[i])\n",
    "    # sns.kdeplot(data_list[i], ax=axs[i], color=colors[i], clip=(-xmax/30, xmax))  # KDEを追加し、x軸の範囲を制限\n",
    "    axs[i].set_xlim(-xmax/30,xmax)\n",
    "    axs[i].set_ylim(0,3e4)\n",
    "    axs[i].ticklabel_format(axis=\"x\", style=\"sci\", scilimits=(0,0))\n",
    "\n",
    "# レジェンドとタイトルは最後のサブプロットにのみ適用\n",
    "    axs[i].legend([legend_list[i]])\n",
    "    axs[i].set_title(\"Cross price elasticities\")\n",
    "    axs[i].set_xlabel(\"Elasticities\")\n",
    "    axs[i].set_ylabel(\"Density\")\n",
    "\n",
    "plt.show()"
   ]
  },
  {
   "cell_type": "code",
   "execution_count": 148,
   "metadata": {},
   "outputs": [
    {
     "data": {
      "image/png": "[encoded data removed]",
      "text/plain": [
       "<Figure size 432x288 with 1 Axes>"
      ]
     },
     "metadata": {
      "needs_background": "light"
     },
     "output_type": "display_data"
    }
   ],
   "source": [
    "# ビンの範囲を指定\n",
    "bins = np.linspace(-1e-2, 1e-2, 500)\n",
    "\n",
    "# elasticities histogram\n",
    "plt.hist(self_e, bins=bins, density=True, alpha=0.6)\n",
    "plt.hist(nonself_e, bins=bins, density=True, alpha=0.5)\n",
    "plt.hist(other_e, bins=bins, density=True, alpha=0.4)\n",
    "plt.legend([\"self\",\"nonself\",\"other\"])\n",
    "plt.xlim(-1e-4,3e-3)\n",
    "plt.show()"
   ]
  },
  {
   "cell_type": "code",
   "execution_count": 149,
   "metadata": {},
   "outputs": [
    {
     "ename": "SystemExit",
     "evalue": "",
     "output_type": "error",
     "traceback": [
      "An exception has occurred, use %tb to see the full traceback.\n",
      "\u001b[1;31mSystemExit\u001b[0m\n"
     ]
    },
    {
     "name": "stderr",
     "output_type": "stream",
     "text": [
      "c:\\Users\\hakos\\AppData\\Local\\Programs\\Python\\Python310\\lib\\site-packages\\IPython\\core\\interactiveshell.py:3377: UserWarning: To exit: use 'exit', 'quit', or Ctrl-D.\n",
      "  warn(\"To exit: use 'exit', 'quit', or Ctrl-D.\", stacklevel=1)\n"
     ]
    }
   ],
   "source": [
    "sys.exit()"
   ]
  },
  {
   "cell_type": "code",
   "execution_count": null,
   "metadata": {},
   "outputs": [
    {
     "ename": "KeyboardInterrupt",
     "evalue": "",
     "output_type": "error",
     "traceback": [
      "\u001b[1;31m---------------------------------------------------------------------------\u001b[0m",
      "\u001b[1;31mKeyboardInterrupt\u001b[0m                         Traceback (most recent call last)",
      "\u001b[1;32mc:\\Users\\hakos\\GDrive\\Downloads\\Research\\estimate\\blp\\view_results.ipynb セル 14\u001b[0m line \u001b[0;36m<cell line: 11>\u001b[1;34m()\u001b[0m\n\u001b[0;32m      <a href='vscode-notebook-cell:/c%3A/Users/hakos/GDrive/Downloads/Research/estimate/blp/view_results.ipynb#X15sZmlsZQ%3D%3D?line=8'>9</a>\u001b[0m sns\u001b[39m.\u001b[39mhistplot(x\u001b[39m=\u001b[39mnonself_m, label\u001b[39m=\u001b[39m\u001b[39m'\u001b[39m\u001b[39mnonself\u001b[39m\u001b[39m'\u001b[39m,stat\u001b[39m=\u001b[39m\u001b[39m\"\u001b[39m\u001b[39mprobability\u001b[39m\u001b[39m\"\u001b[39m,bins\u001b[39m=\u001b[39mbins,alpha\u001b[39m=\u001b[39m\u001b[39m.2\u001b[39m,kde\u001b[39m=\u001b[39m\u001b[39mTrue\u001b[39;00m,kde_kws\u001b[39m=\u001b[39m{\u001b[39m\"\u001b[39m\u001b[39mclip\u001b[39m\u001b[39m\"\u001b[39m: (\u001b[39m0\u001b[39m, lim)},color\u001b[39m=\u001b[39mcolors[\u001b[39m1\u001b[39m])\n\u001b[0;32m     <a href='vscode-notebook-cell:/c%3A/Users/hakos/GDrive/Downloads/Research/estimate/blp/view_results.ipynb#X15sZmlsZQ%3D%3D?line=9'>10</a>\u001b[0m \u001b[39m# sns.kdeplot(x=other_m, label='other',alpha=1,clip=(0,lim))\u001b[39;00m\n\u001b[1;32m---> <a href='vscode-notebook-cell:/c%3A/Users/hakos/GDrive/Downloads/Research/estimate/blp/view_results.ipynb#X15sZmlsZQ%3D%3D?line=10'>11</a>\u001b[0m sns\u001b[39m.\u001b[39;49mhistplot(x\u001b[39m=\u001b[39;49mother_m, label\u001b[39m=\u001b[39;49m\u001b[39m'\u001b[39;49m\u001b[39mother\u001b[39;49m\u001b[39m'\u001b[39;49m,stat\u001b[39m=\u001b[39;49m\u001b[39m\"\u001b[39;49m\u001b[39mprobability\u001b[39;49m\u001b[39m\"\u001b[39;49m,bins\u001b[39m=\u001b[39;49mbins,alpha\u001b[39m=\u001b[39;49m\u001b[39m.2\u001b[39;49m,kde\u001b[39m=\u001b[39;49m\u001b[39mTrue\u001b[39;49;00m,kde_kws\u001b[39m=\u001b[39;49m{\u001b[39m\"\u001b[39;49m\u001b[39mclip\u001b[39;49m\u001b[39m\"\u001b[39;49m: (\u001b[39m0\u001b[39;49m, lim)},color\u001b[39m=\u001b[39;49mcolors[\u001b[39m2\u001b[39;49m])\n\u001b[0;32m     <a href='vscode-notebook-cell:/c%3A/Users/hakos/GDrive/Downloads/Research/estimate/blp/view_results.ipynb#X15sZmlsZQ%3D%3D?line=11'>12</a>\u001b[0m plt\u001b[39m.\u001b[39mtitle(\u001b[39m'\u001b[39m\u001b[39mElasticity Distribution\u001b[39m\u001b[39m'\u001b[39m)\n\u001b[0;32m     <a href='vscode-notebook-cell:/c%3A/Users/hakos/GDrive/Downloads/Research/estimate/blp/view_results.ipynb#X15sZmlsZQ%3D%3D?line=12'>13</a>\u001b[0m plt\u001b[39m.\u001b[39mlegend()\n",
      "File \u001b[1;32mc:\\Users\\hakos\\AppData\\Local\\Programs\\Python\\Python310\\lib\\site-packages\\seaborn\\distributions.py:1432\u001b[0m, in \u001b[0;36mhistplot\u001b[1;34m(data, x, y, hue, weights, stat, bins, binwidth, binrange, discrete, cumulative, common_bins, common_norm, multiple, element, fill, shrink, kde, kde_kws, line_kws, thresh, pthresh, pmax, cbar, cbar_ax, cbar_kws, palette, hue_order, hue_norm, color, log_scale, legend, ax, **kwargs)\u001b[0m\n\u001b[0;32m   1421\u001b[0m estimate_kws \u001b[39m=\u001b[39m \u001b[39mdict\u001b[39m(\n\u001b[0;32m   1422\u001b[0m     stat\u001b[39m=\u001b[39mstat,\n\u001b[0;32m   1423\u001b[0m     bins\u001b[39m=\u001b[39mbins,\n\u001b[1;32m   (...)\u001b[0m\n\u001b[0;32m   1427\u001b[0m     cumulative\u001b[39m=\u001b[39mcumulative,\n\u001b[0;32m   1428\u001b[0m )\n\u001b[0;32m   1430\u001b[0m \u001b[39mif\u001b[39;00m p\u001b[39m.\u001b[39munivariate:\n\u001b[1;32m-> 1432\u001b[0m     p\u001b[39m.\u001b[39mplot_univariate_histogram(\n\u001b[0;32m   1433\u001b[0m         multiple\u001b[39m=\u001b[39mmultiple,\n\u001b[0;32m   1434\u001b[0m         element\u001b[39m=\u001b[39melement,\n\u001b[0;32m   1435\u001b[0m         fill\u001b[39m=\u001b[39mfill,\n\u001b[0;32m   1436\u001b[0m         shrink\u001b[39m=\u001b[39mshrink,\n\u001b[0;32m   1437\u001b[0m         common_norm\u001b[39m=\u001b[39mcommon_norm,\n\u001b[0;32m   1438\u001b[0m         common_bins\u001b[39m=\u001b[39mcommon_bins,\n\u001b[0;32m   1439\u001b[0m         kde\u001b[39m=\u001b[39mkde,\n\u001b[0;32m   1440\u001b[0m         kde_kws\u001b[39m=\u001b[39mkde_kws,\n\u001b[0;32m   1441\u001b[0m         color\u001b[39m=\u001b[39mcolor,\n\u001b[0;32m   1442\u001b[0m         legend\u001b[39m=\u001b[39mlegend,\n\u001b[0;32m   1443\u001b[0m         estimate_kws\u001b[39m=\u001b[39mestimate_kws,\n\u001b[0;32m   1444\u001b[0m         line_kws\u001b[39m=\u001b[39mline_kws,\n\u001b[0;32m   1445\u001b[0m         \u001b[39m*\u001b[39m\u001b[39m*\u001b[39mkwargs,\n\u001b[0;32m   1446\u001b[0m     )\n\u001b[0;32m   1448\u001b[0m \u001b[39melse\u001b[39;00m:\n\u001b[0;32m   1450\u001b[0m     p\u001b[39m.\u001b[39mplot_bivariate_histogram(\n\u001b[0;32m   1451\u001b[0m         common_bins\u001b[39m=\u001b[39mcommon_bins,\n\u001b[0;32m   1452\u001b[0m         common_norm\u001b[39m=\u001b[39mcommon_norm,\n\u001b[1;32m   (...)\u001b[0m\n\u001b[0;32m   1462\u001b[0m         \u001b[39m*\u001b[39m\u001b[39m*\u001b[39mkwargs,\n\u001b[0;32m   1463\u001b[0m     )\n",
      "File \u001b[1;32mc:\\Users\\hakos\\AppData\\Local\\Programs\\Python\\Python310\\lib\\site-packages\\seaborn\\distributions.py:451\u001b[0m, in \u001b[0;36m_DistributionPlotter.plot_univariate_histogram\u001b[1;34m(self, multiple, element, fill, common_norm, common_bins, shrink, kde, kde_kws, color, legend, line_kws, estimate_kws, **plot_kws)\u001b[0m\n\u001b[0;32m    449\u001b[0m     kde_kws[\u001b[39m\"\u001b[39m\u001b[39mcumulative\u001b[39m\u001b[39m\"\u001b[39m] \u001b[39m=\u001b[39m estimate_kws[\u001b[39m\"\u001b[39m\u001b[39mcumulative\u001b[39m\u001b[39m\"\u001b[39m]\n\u001b[0;32m    450\u001b[0m     log_scale \u001b[39m=\u001b[39m \u001b[39mself\u001b[39m\u001b[39m.\u001b[39m_log_scaled(\u001b[39mself\u001b[39m\u001b[39m.\u001b[39mdata_variable)\n\u001b[1;32m--> 451\u001b[0m     densities \u001b[39m=\u001b[39m \u001b[39mself\u001b[39;49m\u001b[39m.\u001b[39;49m_compute_univariate_density(\n\u001b[0;32m    452\u001b[0m         \u001b[39mself\u001b[39;49m\u001b[39m.\u001b[39;49mdata_variable,\n\u001b[0;32m    453\u001b[0m         common_norm,\n\u001b[0;32m    454\u001b[0m         common_bins,\n\u001b[0;32m    455\u001b[0m         kde_kws,\n\u001b[0;32m    456\u001b[0m         log_scale,\n\u001b[0;32m    457\u001b[0m         warn_singular\u001b[39m=\u001b[39;49m\u001b[39mFalse\u001b[39;49;00m,\n\u001b[0;32m    458\u001b[0m     )\n\u001b[0;32m    460\u001b[0m \u001b[39m# First pass through the data to compute the histograms\u001b[39;00m\n\u001b[0;32m    461\u001b[0m \u001b[39mfor\u001b[39;00m sub_vars, sub_data \u001b[39min\u001b[39;00m \u001b[39mself\u001b[39m\u001b[39m.\u001b[39miter_data(\u001b[39m\"\u001b[39m\u001b[39mhue\u001b[39m\u001b[39m\"\u001b[39m, from_comp_data\u001b[39m=\u001b[39m\u001b[39mTrue\u001b[39;00m):\n\u001b[0;32m    462\u001b[0m \n\u001b[0;32m    463\u001b[0m     \u001b[39m# Prepare the relevant data\u001b[39;00m\n",
      "File \u001b[1;32mc:\\Users\\hakos\\AppData\\Local\\Programs\\Python\\Python310\\lib\\site-packages\\seaborn\\distributions.py:349\u001b[0m, in \u001b[0;36m_DistributionPlotter._compute_univariate_density\u001b[1;34m(self, data_variable, common_norm, common_grid, estimate_kws, log_scale, warn_singular)\u001b[0m\n\u001b[0;32m    345\u001b[0m \u001b[39mtry\u001b[39;00m:\n\u001b[0;32m    346\u001b[0m     \u001b[39mif\u001b[39;00m \u001b[39mnot\u001b[39;00m singular:\n\u001b[0;32m    347\u001b[0m         \u001b[39m# Convoluted approach needed because numerical failures\u001b[39;00m\n\u001b[0;32m    348\u001b[0m         \u001b[39m# can manifest in a few different ways.\u001b[39;00m\n\u001b[1;32m--> 349\u001b[0m         density, support \u001b[39m=\u001b[39m estimator(observations, weights\u001b[39m=\u001b[39;49mweights)\n\u001b[0;32m    350\u001b[0m \u001b[39mexcept\u001b[39;00m np\u001b[39m.\u001b[39mlinalg\u001b[39m.\u001b[39mLinAlgError:\n\u001b[0;32m    351\u001b[0m     singular \u001b[39m=\u001b[39m \u001b[39mTrue\u001b[39;00m\n",
      "File \u001b[1;32mc:\\Users\\hakos\\AppData\\Local\\Programs\\Python\\Python310\\lib\\site-packages\\seaborn\\_statistics.py:192\u001b[0m, in \u001b[0;36mKDE.__call__\u001b[1;34m(self, x1, x2, weights)\u001b[0m\n\u001b[0;32m    190\u001b[0m \u001b[39m\"\"\"Fit and evaluate on univariate or bivariate data.\"\"\"\u001b[39;00m\n\u001b[0;32m    191\u001b[0m \u001b[39mif\u001b[39;00m x2 \u001b[39mis\u001b[39;00m \u001b[39mNone\u001b[39;00m:\n\u001b[1;32m--> 192\u001b[0m     \u001b[39mreturn\u001b[39;00m \u001b[39mself\u001b[39;49m\u001b[39m.\u001b[39;49m_eval_univariate(x1, weights)\n\u001b[0;32m    193\u001b[0m \u001b[39melse\u001b[39;00m:\n\u001b[0;32m    194\u001b[0m     \u001b[39mreturn\u001b[39;00m \u001b[39mself\u001b[39m\u001b[39m.\u001b[39m_eval_bivariate(x1, x2, weights)\n",
      "File \u001b[1;32mc:\\Users\\hakos\\AppData\\Local\\Programs\\Python\\Python310\\lib\\site-packages\\seaborn\\_statistics.py:161\u001b[0m, in \u001b[0;36mKDE._eval_univariate\u001b[1;34m(self, x, weights)\u001b[0m\n\u001b[0;32m    157\u001b[0m     density \u001b[39m=\u001b[39m np\u001b[39m.\u001b[39marray([\n\u001b[0;32m    158\u001b[0m         kde\u001b[39m.\u001b[39mintegrate_box_1d(s_0, s_i) \u001b[39mfor\u001b[39;00m s_i \u001b[39min\u001b[39;00m support\n\u001b[0;32m    159\u001b[0m     ])\n\u001b[0;32m    160\u001b[0m \u001b[39melse\u001b[39;00m:\n\u001b[1;32m--> 161\u001b[0m     density \u001b[39m=\u001b[39m kde(support)\n\u001b[0;32m    163\u001b[0m \u001b[39mreturn\u001b[39;00m density, support\n",
      "File \u001b[1;32mc:\\Users\\hakos\\AppData\\Local\\Programs\\Python\\Python310\\lib\\site-packages\\scipy\\stats\\_kde.py:268\u001b[0m, in \u001b[0;36mgaussian_kde.evaluate\u001b[1;34m(self, points)\u001b[0m\n\u001b[0;32m    265\u001b[0m         \u001b[39mraise\u001b[39;00m \u001b[39mValueError\u001b[39;00m(msg)\n\u001b[0;32m    267\u001b[0m output_dtype, spec \u001b[39m=\u001b[39m _get_output_dtype(\u001b[39mself\u001b[39m\u001b[39m.\u001b[39mcovariance, points)\n\u001b[1;32m--> 268\u001b[0m result \u001b[39m=\u001b[39m gaussian_kernel_estimate[spec](\n\u001b[0;32m    269\u001b[0m     \u001b[39mself\u001b[39;49m\u001b[39m.\u001b[39;49mdataset\u001b[39m.\u001b[39;49mT, \u001b[39mself\u001b[39;49m\u001b[39m.\u001b[39;49mweights[:, \u001b[39mNone\u001b[39;49;00m],\n\u001b[0;32m    270\u001b[0m     points\u001b[39m.\u001b[39;49mT, \u001b[39mself\u001b[39;49m\u001b[39m.\u001b[39;49mcho_cov, output_dtype)\n\u001b[0;32m    272\u001b[0m \u001b[39mreturn\u001b[39;00m result[:, \u001b[39m0\u001b[39m]\n",
      "\u001b[1;31mKeyboardInterrupt\u001b[0m: "
     ]
    },
    {
     "data": {
      "image/png": "[encoded data removed]",
      "text/plain": [
       "<Figure size 432x288 with 1 Axes>"
      ]
     },
     "metadata": {
      "needs_background": "light"
     },
     "output_type": "display_data"
    }
   ],
   "source": [
    "# elasticity distribution\n",
    "import seaborn as sns\n",
    "colors = sns.color_palette(\"muted\", 3)\n",
    "lim=1e-1\n",
    "bins=np.linspace(0,lim,50)\n",
    "# sns.kdeplot(x=self_m, label='self',alpha=1,clip=(0,lim))\n",
    "sns.histplot(x=self_e, label='self',stat=\"probability\",bins=bins,alpha=.2,kde=True,kde_kws={\"clip\": (0, lim)},color=colors[0])\n",
    "# sns.kdeplot(x=nonself_m, label='nonself',alpha=1,clip=(0,lim))\n",
    "sns.histplot(x=nonself_e, label='nonself',stat=\"probability\",bins=bins,alpha=.2,kde=True,kde_kws={\"clip\": (0, lim)},color=colors[1])\n",
    "# sns.kdeplot(x=other_m, label='other',alpha=1,clip=(0,lim))\n",
    "sns.histplot(x=other_e, label='other',stat=\"probability\",bins=bins,alpha=.2,kde=True,kde_kws={\"clip\": (0, lim)},color=colors[2])\n",
    "plt.title('Elasticity Distribution')\n",
    "plt.legend()\n",
    "\n",
    "plt.xlim(0,lim)\n",
    "plt.ticklabel_format(axis=\"x\", style=\"sci\", scilimits=(0,0))\n",
    "plt.show()"
   ]
  },
  {
   "cell_type": "code",
   "execution_count": null,
   "metadata": {},
   "outputs": [
    {
     "data": {
      "image/png": "[encoded data removed]",
      "text/plain": [
       "<Figure size 432x288 with 1 Axes>"
      ]
     },
     "metadata": {
      "needs_background": "light"
     },
     "output_type": "display_data"
    }
   ],
   "source": [
    "# elasticity distribution\n",
    "import seaborn as sns\n",
    "def x_weights(data):\n",
    "    x_weights = np.ones_like(data) / len(data)\n",
    "    return x_weights\n",
    "lim=1e0\n",
    "bins=np.linspace(0,lim,30)\n",
    "sns.kdeplot(x=self_e, label='self',alpha=1,clip=(0,lim),cut=0)\n",
    "# sns.histplot(x=self_m, label='self',stat=\"density\",bins=bins,alpha=.4)\n",
    "sns.kdeplot(x=nonself_e, label='nonself',alpha=1,clip=(0,lim),cut=0)\n",
    "# sns.histplot(x=nonself_m, label='nonself',stat=\"density\",bins=bins,alpha=.4)\n",
    "sns.kdeplot(x=other_e, label='other',alpha=1,clip=(0,lim),cut=0)\n",
    "# sns.histplot(x=other_m, label='other',stat=\"density\",bins=bins,alpha=.4)\n",
    "plt.title('Elasticity Distribution')\n",
    "plt.legend()\n",
    "# plt.xlim(-.1e-3,.8e-3)\n",
    "\n",
    "plt.xlim(0,lim)\n",
    "plt.ticklabel_format(axis=\"x\", style=\"sci\", scilimits=(0,0))\n",
    "plt.show()"
   ]
  },
  {
   "cell_type": "code",
   "execution_count": null,
   "metadata": {},
   "outputs": [
    {
     "data": {
      "image/png": "[encoded data removed]",
      "text/plain": [
       "<Figure size 432x288 with 1 Axes>"
      ]
     },
     "metadata": {
      "needs_background": "light"
     },
     "output_type": "display_data"
    }
   ],
   "source": [
    "# elasticity distribution\n",
    "import seaborn as sns\n",
    "def x_weights(data):\n",
    "    x_weights = np.ones_like(data) / len(data)\n",
    "    return x_weights\n",
    "sns.kdeplot(x=self_e, label='self',fill=True,weights=x_weights(self_e))\n",
    "sns.kdeplot(x=nonself_e, label='nonself',fill=True,weights=x_weights(nonself_e))\n",
    "sns.kdeplot(x=other_e, label='other',fill=True,weights=x_weights(other_e))\n",
    "plt.title('Elasticity Distribution')\n",
    "plt.legend()\n",
    "plt.xlim(-.1e-3,.8e-3)\n",
    "plt.ticklabel_format(axis=\"x\", style=\"sci\", scilimits=(0,0))\n",
    "plt.show()"
   ]
  },
  {
   "cell_type": "code",
   "execution_count": null,
   "metadata": {},
   "outputs": [
    {
     "data": {
      "text/plain": [
       "(-0.0001, 0.1)"
      ]
     },
     "execution_count": 58,
     "metadata": {},
     "output_type": "execute_result"
    },
    {
     "data": {
      "image/png": "[encoded data removed]",
      "text/plain": [
       "<Figure size 360x360 with 1 Axes>"
      ]
     },
     "metadata": {
      "needs_background": "light"
     },
     "output_type": "display_data"
    }
   ],
   "source": [
    "import seaborn as sns\n",
    "\n",
    "\n",
    "# ヒストグラムとKDEを同時にプロット\n",
    "sns.displot(self_e, kde = True, \n",
    "             bins = int(180/5), color = 'darkblue', \n",
    "             edgecolor='black', linewidth=2)\n",
    "plt.xlim(-.1e-3,1e-1)"
   ]
  },
  {
   "cell_type": "code",
   "execution_count": null,
   "metadata": {},
   "outputs": [
    {
     "ename": "SystemExit",
     "evalue": "",
     "output_type": "error",
     "traceback": [
      "An exception has occurred, use %tb to see the full traceback.\n",
      "\u001b[1;31mSystemExit\u001b[0m\n"
     ]
    },
    {
     "name": "stderr",
     "output_type": "stream",
     "text": [
      "c:\\Users\\hakos\\AppData\\Local\\Programs\\Python\\Python310\\lib\\site-packages\\IPython\\core\\interactiveshell.py:3377: UserWarning: To exit: use 'exit', 'quit', or Ctrl-D.\n",
      "  warn(\"To exit: use 'exit', 'quit', or Ctrl-D.\", stacklevel=1)\n"
     ]
    }
   ],
   "source": [
    "import sys\n",
    "sys.exit()\n",
    "opt_results=[]\n",
    "for res in results:\n",
    "    optimization=pyblp.Optimization('bfgs')\n",
    "    instruments_results=res.compute_optimal_instruments().to_problem().solve(rho=0.7,optimization=optimization)\n",
    "    opt_results.append(instruments_results)\n",
    "    # print(np.mean(instruments_results.delta))"
   ]
  },
  {
   "cell_type": "code",
   "execution_count": null,
   "metadata": {},
   "outputs": [
    {
     "name": "stdout",
     "output_type": "stream",
     "text": [
      "3.998081497643444\n",
      "13.706269236956667\n",
      "36.5894767483755\n",
      "-61.145998577438874\n"
     ]
    }
   ],
   "source": [
    "for res in opt_results:\n",
    "    print(np.mean(res.delta))"
   ]
  },
  {
   "cell_type": "code",
   "execution_count": null,
   "metadata": {},
   "outputs": [
    {
     "data": {
      "text/plain": [
       "(Dimensions:\n",
       " =========================================\n",
       "  T     N      I     K1    K2    MD    ED \n",
       " ---  -----  -----  ----  ----  ----  ----\n",
       " 200  25798  40000   4     2     6     2  \n",
       " =========================================\n",
       " \n",
       " Formulations:\n",
       " =====================================================================\n",
       "        Column Indices:            0        1          2          3   \n",
       " -----------------------------  -------  -------  -----------  -------\n",
       "  X1: Linear Characteristics    prices    oral    in_hospital  generic\n",
       " X2: Nonlinear Characteristics  -prices  generic                      \n",
       " =====================================================================,\n",
       " ['log', 'linear'])"
      ]
     },
     "execution_count": 5,
     "metadata": {},
     "output_type": "execute_result"
    }
   ],
   "source": [
    "# problem and rc_types\n",
    "result.problem, result.problem.rc_types"
   ]
  },
  {
   "cell_type": "code",
   "execution_count": null,
   "metadata": {},
   "outputs": [
    {
     "data": {
      "text/plain": [
       "((array([[  0.,   0.],\n",
       "         [  0., -inf]]),\n",
       "  array([[inf,  0.],\n",
       "         [ 0., inf]])),\n",
       " (array([], shape=(2, 0), dtype=float64),\n",
       "  array([], shape=(2, 0), dtype=float64)))"
      ]
     },
     "execution_count": 6,
     "metadata": {},
     "output_type": "execute_result"
    }
   ],
   "source": [
    "# constraints\n",
    "result.sigma_bounds,result.pi_bounds"
   ]
  },
  {
   "cell_type": "code",
   "execution_count": null,
   "metadata": {},
   "outputs": [
    {
     "data": {
      "text/plain": [
       "Problem Results Summary:\n",
       "==================================================================================================================\n",
       "GMM     Objective      Projected    Reduced Hessian  Reduced Hessian  Clipped  Weighting Matrix  Covariance Matrix\n",
       "Step      Value      Gradient Norm  Min Eigenvalue   Max Eigenvalue   Shares   Condition Number  Condition Number \n",
       "----  -------------  -------------  ---------------  ---------------  -------  ----------------  -----------------\n",
       " 2    +5.133956E-01  +8.633399E-01   -2.678789E+07    +8.260620E+07      0      +3.757242E+08      +2.720855E+08  \n",
       "==================================================================================================================\n",
       "\n",
       "Cumulative Statistics:\n",
       "===========================================================================\n",
       "Computation  Optimizer  Optimization   Objective   Fixed Point  Contraction\n",
       "   Time      Converged   Iterations   Evaluations  Iterations   Evaluations\n",
       "-----------  ---------  ------------  -----------  -----------  -----------\n",
       " 01:38:56       Yes          3            12         2811523      8438415  \n",
       "===========================================================================\n",
       "\n",
       "Nonlinear Coefficient Estimates (Robust SEs in Parentheses):\n",
       "====================================================\n",
       "Types:  |  Sigma:       -prices          generic    \n",
       "------  |  -------  ---------------  ---------------\n",
       " Log    |  -prices   +9.994861E-01                  \n",
       "        |           (+2.767361E+00)                 \n",
       "        |                                           \n",
       "Linear  |  generic   +0.000000E+00    +1.320356E-07 \n",
       "        |                            (+8.046798E+02)\n",
       "====================================================\n",
       "\n",
       "Beta Estimates (Robust SEs in Parentheses):\n",
       "==================================================================\n",
       "    prices            oral          in_hospital        generic    \n",
       "---------------  ---------------  ---------------  ---------------\n",
       " -9.193606E-01    +3.696901E+01    +2.014195E+01    -1.089350E+03 \n",
       "(+1.663862E+00)  (+7.888950E+01)  (+4.629716E+01)  (+9.800045E+02)\n",
       "=================================================================="
      ]
     },
     "execution_count": 7,
     "metadata": {},
     "output_type": "execute_result"
    }
   ],
   "source": [
    "# result\n",
    "result"
   ]
  },
  {
   "cell_type": "code",
   "execution_count": null,
   "metadata": {},
   "outputs": [
    {
     "data": {
      "text/plain": [
       "98.9275143901507"
      ]
     },
     "execution_count": 8,
     "metadata": {},
     "output_type": "execute_result"
    }
   ],
   "source": [
    "# time in minutes\n",
    "result.cumulative_total_time/60"
   ]
  },
  {
   "cell_type": "code",
   "execution_count": null,
   "metadata": {},
   "outputs": [],
   "source": [
    "\n",
    "product_data=pd.DataFrame(pyblp.data_to_dict(result.problem.products))"
   ]
  },
  {
   "cell_type": "code",
   "execution_count": null,
   "metadata": {},
   "outputs": [
    {
     "name": "stdout",
     "output_type": "stream",
     "text": [
      "Computing elasticities with respect to prices ...\n",
      "Finished after 00:00:00.\n",
      "\n"
     ]
    },
    {
     "data": {
      "text/plain": [
       "<matplotlib.colorbar.Colorbar at 0x1f8e8ba02e0>"
      ]
     },
     "execution_count": 10,
     "metadata": {},
     "output_type": "execute_result"
    },
    {
     "data": {
      "image/png": "[encoded data removed]",
      "text/plain": [
       "<Figure size 288x288 with 2 Axes>"
      ]
     },
     "metadata": {
      "needs_background": "light"
     },
     "output_type": "display_data"
    }
   ],
   "source": [
    "%matplotlib inline\n",
    "import matplotlib.pyplot as plt\n",
    "elasticities = result.compute_elasticities()\n",
    "single_market = product_data['market_ids'] == '131-2014.0'\n",
    "K=sum(single_market)\n",
    "plt.colorbar(plt.matshow(elasticities[single_market][:,:K]))\n",
    "# plt.colorbar(plt.matshow(elasticities))"
   ]
  },
  {
   "cell_type": "code",
   "execution_count": null,
   "metadata": {},
   "outputs": [
    {
     "name": "stdout",
     "output_type": "stream",
     "text": [
      "Computing diversion ratios with respect to prices ...\n",
      "\n",
      "Encountered a numerical error when computing a post-estimation output. Errors encountered: divide by zero.\n",
      "\n",
      "Finished after 00:00:00.\n",
      "\n"
     ]
    },
    {
     "data": {
      "text/plain": [
       "<matplotlib.colorbar.Colorbar at 0x1f89f367f40>"
      ]
     },
     "execution_count": 11,
     "metadata": {},
     "output_type": "execute_result"
    },
    {
     "data": {
      "image/png": "[encoded data removed]",
      "text/plain": [
       "<Figure size 288x288 with 2 Axes>"
      ]
     },
     "metadata": {
      "needs_background": "light"
     },
     "output_type": "display_data"
    }
   ],
   "source": [
    "diversions = result.compute_diversion_ratios()\n",
    "plt.colorbar(plt.matshow(diversions[single_market][:,:K]))"
   ]
  }
 ],
 "metadata": {
  "kernelspec": {
   "display_name": "Python 3",
   "language": "python",
   "name": "python3"
  },
  "language_info": {
   "codemirror_mode": {
    "name": "ipython",
    "version": 3
   },
   "file_extension": ".py",
   "mimetype": "text/x-python",
   "name": "python",
   "nbconvert_exporter": "python",
   "pygments_lexer": "ipython3",
   "version": "3.10.4"
  },
  "orig_nbformat": 4
 },
 "nbformat": 4,
 "nbformat_minor": 2
}
