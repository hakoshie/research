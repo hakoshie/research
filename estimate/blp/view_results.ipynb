{
 "cells": [
  {
   "cell_type": "code",
   "execution_count": 29,
   "metadata": {},
   "outputs": [],
   "source": [
    "import pickle\n",
    "import os\n",
    "import pyblp\n",
    "import pandas as pd\n",
    "import matplotlib.pyplot as plt\n",
    "%matplotlib inline"
   ]
  },
  {
   "cell_type": "code",
   "execution_count": 30,
   "metadata": {},
   "outputs": [
    {
     "name": "stdout",
     "output_type": "stream",
     "text": [
      "0 MNL_len3_2023-09-05_21-06-56.pkl\n",
      "1 MNL_len3_2023-09-13_19-15-05.pkl\n",
      "2 MNL_len4_2023-09-05_21-04-58.pkl\n",
      "3 RCL_len3_2023-09-05_23-34-50.pkl\n",
      "4 RCL_len3_2023-09-07_10-26-25.pkl\n",
      "5 RCL_len3_2023-09-14_01-27-16.pkl\n",
      "6 RCL_len3_2023-09-15_20-29-44.pkl\n",
      "7 RCL_len4_2023-09-05_21-02-48.pkl\n"
     ]
    }
   ],
   "source": [
    "# ディレクトリのパス\n",
    "directory_path = \"./results/\"\n",
    "\n",
    "# ディレクトリ内のファイルをリストとして取得\n",
    "file_list = os.listdir(directory_path)\n",
    "\n",
    "# ファイルリストを表示\n",
    "for i,file in enumerate(file_list):\n",
    "    print(i,file)"
   ]
  },
  {
   "cell_type": "code",
   "execution_count": 31,
   "metadata": {},
   "outputs": [],
   "source": [
    "file_name=file_list[6]\n",
    "with open(f\"./results/{file_name}\", \"rb\") as f:\n",
    "    result = pickle.load(f)"
   ]
  },
  {
   "cell_type": "code",
   "execution_count": 32,
   "metadata": {},
   "outputs": [
    {
     "data": {
      "text/plain": [
       "(Dimensions:\n",
       " =========================================\n",
       "  T     N      I     K1    K2    MD    ED \n",
       " ---  -----  -----  ----  ----  ----  ----\n",
       " 200  25798  40000   4     2     6     2  \n",
       " =========================================\n",
       " \n",
       " Formulations:\n",
       " =====================================================================\n",
       "        Column Indices:            0        1          2          3   \n",
       " -----------------------------  -------  -------  -----------  -------\n",
       "  X1: Linear Characteristics    prices    oral    in_hospital  generic\n",
       " X2: Nonlinear Characteristics  -prices  generic                      \n",
       " =====================================================================,\n",
       " ['log', 'linear'])"
      ]
     },
     "execution_count": 32,
     "metadata": {},
     "output_type": "execute_result"
    }
   ],
   "source": [
    "# problem and rc_types\n",
    "result.problem, result.problem.rc_types"
   ]
  },
  {
   "cell_type": "code",
   "execution_count": 33,
   "metadata": {},
   "outputs": [
    {
     "data": {
      "text/plain": [
       "((array([[  0.,   0.],\n",
       "         [  0., -inf]]),\n",
       "  array([[inf,  0.],\n",
       "         [ 0., inf]])),\n",
       " (array([], shape=(2, 0), dtype=float64),\n",
       "  array([], shape=(2, 0), dtype=float64)))"
      ]
     },
     "execution_count": 33,
     "metadata": {},
     "output_type": "execute_result"
    }
   ],
   "source": [
    "# constraints\n",
    "result.sigma_bounds,result.pi_bounds"
   ]
  },
  {
   "cell_type": "code",
   "execution_count": 34,
   "metadata": {},
   "outputs": [
    {
     "data": {
      "text/plain": [
       "Problem Results Summary:\n",
       "==================================================================================================================\n",
       "GMM     Objective      Projected    Reduced Hessian  Reduced Hessian  Clipped  Weighting Matrix  Covariance Matrix\n",
       "Step      Value      Gradient Norm  Min Eigenvalue   Max Eigenvalue   Shares   Condition Number  Condition Number \n",
       "----  -------------  -------------  ---------------  ---------------  -------  ----------------  -----------------\n",
       " 2    +5.133956E-01  +8.633399E-01   -2.678789E+07    +8.260620E+07      0      +3.757242E+08      +2.720855E+08  \n",
       "==================================================================================================================\n",
       "\n",
       "Cumulative Statistics:\n",
       "===========================================================================\n",
       "Computation  Optimizer  Optimization   Objective   Fixed Point  Contraction\n",
       "   Time      Converged   Iterations   Evaluations  Iterations   Evaluations\n",
       "-----------  ---------  ------------  -----------  -----------  -----------\n",
       " 01:38:56       Yes          3            12         2811523      8438415  \n",
       "===========================================================================\n",
       "\n",
       "Nonlinear Coefficient Estimates (Robust SEs in Parentheses):\n",
       "====================================================\n",
       "Types:  |  Sigma:       -prices          generic    \n",
       "------  |  -------  ---------------  ---------------\n",
       " Log    |  -prices   +9.994861E-01                  \n",
       "        |           (+2.767361E+00)                 \n",
       "        |                                           \n",
       "Linear  |  generic   +0.000000E+00    +1.320356E-07 \n",
       "        |                            (+8.046798E+02)\n",
       "====================================================\n",
       "\n",
       "Beta Estimates (Robust SEs in Parentheses):\n",
       "==================================================================\n",
       "    prices            oral          in_hospital        generic    \n",
       "---------------  ---------------  ---------------  ---------------\n",
       " -9.193606E-01    +3.696901E+01    +2.014195E+01    -1.089350E+03 \n",
       "(+1.663862E+00)  (+7.888950E+01)  (+4.629716E+01)  (+9.800045E+02)\n",
       "=================================================================="
      ]
     },
     "execution_count": 34,
     "metadata": {},
     "output_type": "execute_result"
    }
   ],
   "source": [
    "# result\n",
    "result"
   ]
  },
  {
   "cell_type": "code",
   "execution_count": 35,
   "metadata": {},
   "outputs": [
    {
     "data": {
      "text/plain": [
       "98.9275143901507"
      ]
     },
     "execution_count": 35,
     "metadata": {},
     "output_type": "execute_result"
    }
   ],
   "source": [
    "# time in minutes\n",
    "result.cumulative_total_time/60"
   ]
  },
  {
   "cell_type": "code",
   "execution_count": 36,
   "metadata": {},
   "outputs": [],
   "source": [
    "\n",
    "product_data=pd.DataFrame(pyblp.data_to_dict(result.problem.products))"
   ]
  },
  {
   "cell_type": "code",
   "execution_count": 38,
   "metadata": {},
   "outputs": [
    {
     "name": "stdout",
     "output_type": "stream",
     "text": [
      "Computing elasticities with respect to prices ...\n",
      "Finished after 00:00:00.\n",
      "\n"
     ]
    },
    {
     "data": {
      "text/plain": [
       "<matplotlib.colorbar.Colorbar at 0x25e97d0eb30>"
      ]
     },
     "execution_count": 38,
     "metadata": {},
     "output_type": "execute_result"
    },
    {
     "data": {
      "image/png": "[encoded data removed]",
      "text/plain": [
       "<Figure size 288x288 with 2 Axes>"
      ]
     },
     "metadata": {
      "needs_background": "light"
     },
     "output_type": "display_data"
    }
   ],
   "source": [
    "%matplotlib inline\n",
    "import matplotlib.pyplot as plt\n",
    "elasticities = result.compute_elasticities()\n",
    "single_market = product_data['market_ids'] == '131-2014.0'\n",
    "K=sum(single_market)\n",
    "plt.colorbar(plt.matshow(elasticities[single_market][:,:K]))\n",
    "# plt.colorbar(plt.matshow(elasticities))"
   ]
  },
  {
   "cell_type": "code",
   "execution_count": 39,
   "metadata": {},
   "outputs": [
    {
     "name": "stdout",
     "output_type": "stream",
     "text": [
      "Computing diversion ratios with respect to prices ...\n",
      "\n",
      "Encountered a numerical error when computing a post-estimation output. Errors encountered: divide by zero.\n",
      "\n",
      "Finished after 00:00:00.\n",
      "\n"
     ]
    },
    {
     "data": {
      "text/plain": [
       "<matplotlib.colorbar.Colorbar at 0x25e99229930>"
      ]
     },
     "execution_count": 39,
     "metadata": {},
     "output_type": "execute_result"
    },
    {
     "data": {
      "image/png": "[encoded data removed]",
      "text/plain": [
       "<Figure size 288x288 with 2 Axes>"
      ]
     },
     "metadata": {
      "needs_background": "light"
     },
     "output_type": "display_data"
    }
   ],
   "source": [
    "diversions = result.compute_diversion_ratios()\n",
    "plt.colorbar(plt.matshow(diversions[single_market][:,:K]))"
   ]
  }
 ],
 "metadata": {
  "kernelspec": {
   "display_name": "Python 3",
   "language": "python",
   "name": "python3"
  },
  "language_info": {
   "codemirror_mode": {
    "name": "ipython",
    "version": 3
   },
   "file_extension": ".py",
   "mimetype": "text/x-python",
   "name": "python",
   "nbconvert_exporter": "python",
   "pygments_lexer": "ipython3",
   "version": "3.10.4"
  },
  "orig_nbformat": 4
 },
 "nbformat": 4,
 "nbformat_minor": 2
}
