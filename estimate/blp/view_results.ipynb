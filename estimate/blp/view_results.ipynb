{
 "cells": [
  {
   "cell_type": "code",
   "execution_count": 21,
   "metadata": {},
   "outputs": [],
   "source": [
    "import pickle\n",
    "import os"
   ]
  },
  {
   "cell_type": "code",
   "execution_count": 22,
   "metadata": {},
   "outputs": [
    {
     "name": "stdout",
     "output_type": "stream",
     "text": [
      "0 blp_0902.txt\n",
      "1 blp_0904.txt\n",
      "2 blp_0904_2015_slsqp.txt\n",
      "3 logit_blp_len3.pkl\n",
      "4 MNL_len3_2023-09-05_21-06-56.pkl\n",
      "5 MNL_len4_2023-09-05_21-04-58.pkl\n",
      "6 RCL_len4_2023-09-05_21-02-48.pkl\n"
     ]
    }
   ],
   "source": [
    "# ディレクトリのパス\n",
    "directory_path = \"./results/\"\n",
    "\n",
    "# ディレクトリ内のファイルをリストとして取得\n",
    "file_list = os.listdir(directory_path)\n",
    "\n",
    "# ファイルリストを表示\n",
    "for i,file in enumerate(file_list):\n",
    "    print(i,file)"
   ]
  },
  {
   "cell_type": "code",
   "execution_count": 23,
   "metadata": {},
   "outputs": [],
   "source": [
    "file_name=file_list[5]\n",
    "with open(f\"./results/{file_name}\", \"rb\") as f:\n",
    "    result = pickle.load(f)"
   ]
  },
  {
   "cell_type": "code",
   "execution_count": 24,
   "metadata": {},
   "outputs": [
    {
     "data": {
      "text/plain": [
       "(Dimensions:\n",
       " ============================\n",
       "  T     N     K1    MD    ED \n",
       " ---  -----  ----  ----  ----\n",
       " 344  29653   4     8     2  \n",
       " ============================\n",
       " \n",
       " Formulations:\n",
       " ============================================================\n",
       "      Column Indices:          0      1         2         3  \n",
       " --------------------------  ------  ----  -----------  -----\n",
       " X1: Linear Characteristics  prices  oral  in_hospital  後発品区分\n",
       " ============================================================,\n",
       " [])"
      ]
     },
     "execution_count": 24,
     "metadata": {},
     "output_type": "execute_result"
    }
   ],
   "source": [
    "# problem and rc_types\n",
    "result.problem, result.problem.rc_types"
   ]
  },
  {
   "cell_type": "code",
   "execution_count": 25,
   "metadata": {},
   "outputs": [
    {
     "data": {
      "text/plain": [
       "((array([], shape=(0, 0), dtype=float64),\n",
       "  array([], shape=(0, 0), dtype=float64)),\n",
       " (array([], shape=(0, 0), dtype=float64),\n",
       "  array([], shape=(0, 0), dtype=float64)))"
      ]
     },
     "execution_count": 25,
     "metadata": {},
     "output_type": "execute_result"
    }
   ],
   "source": [
    "# constraints\n",
    "result.sigma_bounds,result.pi_bounds"
   ]
  },
  {
   "cell_type": "code",
   "execution_count": 26,
   "metadata": {},
   "outputs": [
    {
     "data": {
      "text/plain": [
       "Problem Results Summary:\n",
       "=================================================================\n",
       "GMM     Objective    Clipped  Weighting Matrix  Covariance Matrix\n",
       "Step      Value      Shares   Condition Number  Condition Number \n",
       "----  -------------  -------  ----------------  -----------------\n",
       " 2    +5.926081E+00     0      +2.982098E+18      +5.480772E+07  \n",
       "=================================================================\n",
       "\n",
       "Cumulative Statistics:\n",
       "========================\n",
       "Computation   Objective \n",
       "   Time      Evaluations\n",
       "-----------  -----------\n",
       " 00:00:00         2     \n",
       "========================\n",
       "\n",
       "Beta Estimates (Robust SEs in Parentheses):\n",
       "==================================================================\n",
       "    prices            oral          in_hospital         後発品区分     \n",
       "---------------  ---------------  ---------------  ---------------\n",
       " -1.509749E-03    +1.522522E+00    +4.543447E-01    -2.449966E+00 \n",
       "(+1.578384E-03)  (+9.525010E-02)  (+4.288114E-02)  (+7.768697E-01)\n",
       "=================================================================="
      ]
     },
     "execution_count": 26,
     "metadata": {},
     "output_type": "execute_result"
    }
   ],
   "source": [
    "# result\n",
    "result"
   ]
  },
  {
   "cell_type": "code",
   "execution_count": 27,
   "metadata": {},
   "outputs": [
    {
     "data": {
      "text/plain": [
       "0.0006142377853393555"
      ]
     },
     "execution_count": 27,
     "metadata": {},
     "output_type": "execute_result"
    }
   ],
   "source": [
    "# time in minutes\n",
    "result.cumulative_total_time/60"
   ]
  }
 ],
 "metadata": {
  "kernelspec": {
   "display_name": "Python 3",
   "language": "python",
   "name": "python3"
  },
  "language_info": {
   "codemirror_mode": {
    "name": "ipython",
    "version": 3
   },
   "file_extension": ".py",
   "mimetype": "text/x-python",
   "name": "python",
   "nbconvert_exporter": "python",
   "pygments_lexer": "ipython3",
   "version": "3.10.4"
  },
  "orig_nbformat": 4
 },
 "nbformat": 4,
 "nbformat_minor": 2
}
