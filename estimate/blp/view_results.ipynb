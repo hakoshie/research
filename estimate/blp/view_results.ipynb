{
 "cells": [
  {
   "cell_type": "code",
   "execution_count": 3,
   "metadata": {},
   "outputs": [
    {
     "name": "stdout",
     "output_type": "stream",
     "text": [
      "0 MNL_len3_2023-09-05_21-06-56.pkl\n",
      "1 MNL_len3_2023-09-13_19-15-05.pkl\n",
      "2 MNL_len4_2023-09-05_21-04-58.pkl\n",
      "3 NL_len3_2023-10-02_21-40-47_00.pkl\n",
      "4 NL_len3_2023-10-02_21-43-19_01.pkl\n",
      "5 NL_len3_2023-10-02_21-44-38_10.pkl\n",
      "6 NL_len3_2023-10-02_21-45-30_11.pkl\n",
      "7 NL_len3_2023-11-22_03-37-50_00.pkl\n",
      "8 RCL_len3_2023-09-05_23-34-50.pkl\n",
      "9 RCL_len3_2023-09-07_10-26-25.pkl\n",
      "10 RCL_len3_2023-09-14_01-27-16.pkl\n",
      "11 RCL_len3_2023-09-15_20-29-44.pkl\n",
      "12 RCL_len4_2023-09-05_21-02-48.pkl\n"
     ]
    }
   ],
   "source": [
    "import pickle\n",
    "import os\n",
    "import pyblp\n",
    "import pandas as pd\n",
    "import matplotlib.pyplot as plt\n",
    "import numpy as np\n",
    "%matplotlib inline\n",
    "# ディレクトリのパス\n",
    "directory_path = \"./results/\"\n",
    "\n",
    "# ディレクトリ内のファイルをリストとして取得\n",
    "file_list = os.listdir(directory_path)\n",
    "\n",
    "# ファイルリストを表示\n",
    "for i,file in enumerate(file_list):\n",
    "    print(i,file)\n"
   ]
  },
  {
   "cell_type": "code",
   "execution_count": 4,
   "metadata": {},
   "outputs": [],
   "source": [
    "# file_name=file_list[6]\n",
    "# with open(f\"./results/{file_name}\", \"rb\") as f:\n",
    "#     result = pickle.load(f)\n",
    "file_index=[7]\n",
    "results=[]\n",
    "for i in file_index:\n",
    "    with open(f\"./results/{file_list[i]}\", \"rb\") as f:\n",
    "        results.append(pickle.load(f))\n"
   ]
  },
  {
   "cell_type": "code",
   "execution_count": 5,
   "metadata": {},
   "outputs": [
    {
     "name": "stdout",
     "output_type": "stream",
     "text": [
      "-5.922542147403463\n"
     ]
    }
   ],
   "source": [
    "for res in results:\n",
    "    print(np.mean(res.delta))"
   ]
  },
  {
   "cell_type": "code",
   "execution_count": 6,
   "metadata": {},
   "outputs": [
    {
     "data": {
      "text/plain": [
       "Problem Results Summary:\n",
       "===============================================================================================\n",
       "GMM     Objective      Projected       Reduced     Clipped  Weighting Matrix  Covariance Matrix\n",
       "Step      Value      Gradient Norm     Hessian     Shares   Condition Number  Condition Number \n",
       "----  -------------  -------------  -------------  -------  ----------------  -----------------\n",
       " 2    +1.706481E+02  +3.692564E-08  +7.548881E+02     0      +1.923798E+04      +4.004498E+09  \n",
       "===============================================================================================\n",
       "\n",
       "Cumulative Statistics:\n",
       "=================================================\n",
       "Computation  Optimizer  Optimization   Objective \n",
       "   Time      Converged   Iterations   Evaluations\n",
       "-----------  ---------  ------------  -----------\n",
       " 00:00:09       Yes          2             8     \n",
       "=================================================\n",
       "\n",
       "Rho Estimates (Robust SEs in Parentheses):\n",
       "===============\n",
       "  All Groups   \n",
       "---------------\n",
       " +4.784758E-01 \n",
       "(+4.935661E-02)\n",
       "===============\n",
       "\n",
       "Beta Estimates (Robust SEs in Parentheses):\n",
       "=====================================================================================================================\n",
       "    prices         in_hospital         oral            generic            otc           long_term      Pharmacopoeia \n",
       "---------------  ---------------  ---------------  ---------------  ---------------  ---------------  ---------------\n",
       " -6.958107E-05    +2.550082E-01    +1.227009E+00    -5.850748E-01    -1.840785E+00    -1.402544E-01    +1.302518E-01 \n",
       "(+2.275860E-05)  (+2.576117E-02)  (+1.259410E-01)  (+4.767135E-02)  (+6.795073E-01)  (+4.993146E-02)  (+1.793841E-02)\n",
       "====================================================================================================================="
      ]
     },
     "execution_count": 6,
     "metadata": {},
     "output_type": "execute_result"
    }
   ],
   "source": [
    "results[0]"
   ]
  },
  {
   "cell_type": "code",
   "execution_count": 7,
   "metadata": {},
   "outputs": [
    {
     "name": "stdout",
     "output_type": "stream",
     "text": [
      "Computing elasticities with respect to prices ...\n",
      "Finished after 00:00:00.\n",
      "\n"
     ]
    },
    {
     "data": {
      "text/plain": [
       "(0.00022203724491606244, 0.0004970533001789853, 0.007509073991519506)"
      ]
     },
     "execution_count": 7,
     "metadata": {},
     "output_type": "execute_result"
    }
   ],
   "source": [
    "logit_results=results[0]\n",
    "elasticities = logit_results.compute_elasticities()\n",
    "(logit_results.problem.products[\"firm_ids\"]==\"self\").shape\n",
    "self_m=np.array(pd.DataFrame(elasticities).loc[logit_results.problem.products[\"firm_ids\"]==\"self\"].mean(axis=1))\n",
    "nonself_m=np.array(pd.DataFrame(elasticities).loc[logit_results.problem.products[\"firm_ids\"]==\"nonself\"].mean(axis=1))\n",
    "other_m = np.array(pd.DataFrame(elasticities).loc[~np.isin(logit_results.problem.products[\"firm_ids\"], [\"self\", \"nonself\"])].mean(axis=1))\n",
    "# len(self_m),len(nonself_m),len(other_m) \n",
    "# np.mean(self_m),np.mean(nonself_m),np.mean(other_m)\n",
    "# np.std(self_m),np.std(nonself_m),np.std(other_m)"
   ]
  },
  {
   "cell_type": "code",
   "execution_count": 67,
   "metadata": {},
   "outputs": [
    {
     "name": "stdout",
     "output_type": "stream",
     "text": [
      "Computing elasticities with respect to prices ...\n",
      "Finished after 00:00:00.\n",
      "\n"
     ]
    }
   ],
   "source": [
    "logit_results=results[0]\n",
    "elasticities = logit_results.compute_elasticities()\n",
    "(logit_results.problem.products[\"firm_ids\"]==\"self\").shape\n",
    "self_m=np.array(pd.DataFrame(elasticities).loc[logit_results.problem.products[\"firm_ids\"]==\"self\"].values.flatten())\n",
    "nonself_m=np.array(pd.DataFrame(elasticities).loc[logit_results.problem.products[\"firm_ids\"]==\"nonself\"].values.flatten())\n",
    "other_m = np.array(pd.DataFrame(elasticities).loc[~np.isin(logit_results.problem.products[\"firm_ids\"], [\"self\", \"nonself\"])].values.flatten())\n",
    "# only positive values\n",
    "self_m=self_m[self_m>0]\n",
    "nonself_m=nonself_m[nonself_m>0]\n",
    "other_m=other_m[other_m>0]\n"
   ]
  },
  {
   "cell_type": "code",
   "execution_count": 68,
   "metadata": {},
   "outputs": [
    {
     "data": {
      "text/plain": [
       "(0, 4588815, 0, 15791, 0, 16568)"
      ]
     },
     "execution_count": 68,
     "metadata": {},
     "output_type": "execute_result"
    }
   ],
   "source": [
    "sum(other_m<0),sum(other_m>0),sum(self_m<0),sum(self_m>0),sum(nonself_m<0),sum(nonself_m>0)"
   ]
  },
  {
   "cell_type": "code",
   "execution_count": 96,
   "metadata": {},
   "outputs": [
    {
     "data": {
      "text/plain": [
       "(6.629369696564325e-05,\n",
       " 6.311264918934013e-05,\n",
       " 0.002520903806479662,\n",
       " 1.459632735808747e-05,\n",
       " 1.5857725353930637e-05,\n",
       " 0.00023303265118003474)"
      ]
     },
     "execution_count": 96,
     "metadata": {},
     "output_type": "execute_result"
    }
   ],
   "source": [
    "np.std(self_m),np.std(nonself_m),np.std(other_m),np.mean(self_m),np.mean(nonself_m),np.mean(other_m)"
   ]
  },
  {
   "cell_type": "code",
   "execution_count": 97,
   "metadata": {},
   "outputs": [
    {
     "data": {
      "image/png": "[encoded data removed]",
      "text/plain": [
       "<Figure size 432x288 with 1 Axes>"
      ]
     },
     "metadata": {
      "needs_background": "light"
     },
     "output_type": "display_data"
    }
   ],
   "source": [
    "# ビンの範囲を指定\n",
    "bins = np.linspace(-1e-3, 1e-3, 100)\n",
    "\n",
    "import seaborn as sns\n",
    "\n",
    "# カラーパレットを設定\n",
    "colors = sns.color_palette(\"hls\", 3)\n",
    "\n",
    "# elasticities histogram\n",
    "plt.hist(self_m, bins=bins, density=True, alpha=0.5, color=colors[0])\n",
    "plt.hist(nonself_m, bins=bins, density=True, alpha=0.5, color=colors[1])\n",
    "plt.hist(other_m, bins=bins, density=True, alpha=0.4, color=colors[2])\n",
    "plt.legend([\"self\",\"nonself\",\"other\"])\n",
    "plt.xlim(-.3e-4,.4e-3)\n",
    "plt.ticklabel_format(axis=\"x\", style=\"sci\", scilimits=(0,0))\n",
    "plt.title(\"Cross price elasticities\")\n",
    "plt.xlabel(\"Elasticities\")\n",
    "plt.ylabel(\"Density\")\n",
    "plt.show()"
   ]
  },
  {
   "cell_type": "code",
   "execution_count": 76,
   "metadata": {},
   "outputs": [
    {
     "data": {
      "image/png": "[encoded data removed]",
      "text/plain": [
       "<Figure size 432x288 with 1 Axes>"
      ]
     },
     "metadata": {
      "needs_background": "light"
     },
     "output_type": "display_data"
    }
   ],
   "source": [
    "# ビンの範囲を指定\n",
    "bins = np.linspace(-1e-2, 1e-2, 500)\n",
    "\n",
    "# elasticities histogram\n",
    "plt.hist(self_m, bins=bins, density=True, alpha=0.5)\n",
    "plt.hist(nonself_m, bins=bins, density=True, alpha=0.5)\n",
    "plt.hist(other_m, bins=bins, density=True, alpha=0.4)\n",
    "plt.legend([\"self\",\"nonself\",\"other\"])\n",
    "plt.xlim(-1e-4,3e-3)\n",
    "plt.show()"
   ]
  },
  {
   "cell_type": "code",
   "execution_count": 88,
   "metadata": {},
   "outputs": [
    {
     "data": {
      "image/png": "[encoded data removed]",
      "text/plain": [
       "<Figure size 432x288 with 1 Axes>"
      ]
     },
     "metadata": {
      "needs_background": "light"
     },
     "output_type": "display_data"
    }
   ],
   "source": [
    "# elasticity distribution\n",
    "import seaborn as sns\n",
    "def x_weights(data):\n",
    "    x_weights = np.ones_like(data) / len(data)\n",
    "    return x_weights\n",
    "sns.kdeplot(x=self_m, label='self',fill=True)\n",
    "sns.kdeplot(x=nonself_m, label='nonself',fill=True)\n",
    "sns.kdeplot(x=other_m, label='other',fill=True)\n",
    "plt.title('Elasticity Distribution')\n",
    "plt.legend()\n",
    "plt.xlim(-.1e-3,.8e-3)\n",
    "plt.ticklabel_format(axis=\"x\", style=\"sci\", scilimits=(0,0))\n",
    "plt.show()"
   ]
  },
  {
   "cell_type": "code",
   "execution_count": 85,
   "metadata": {},
   "outputs": [
    {
     "data": {
      "image/png": "[encoded data removed]",
      "text/plain": [
       "<Figure size 432x288 with 1 Axes>"
      ]
     },
     "metadata": {
      "needs_background": "light"
     },
     "output_type": "display_data"
    }
   ],
   "source": [
    "# elasticity distribution\n",
    "import seaborn as sns\n",
    "def x_weights(data):\n",
    "    x_weights = np.ones_like(data) / len(data)\n",
    "    return x_weights\n",
    "sns.kdeplot(x=self_m, label='self',fill=True,weights=x_weights(self_m))\n",
    "sns.kdeplot(x=nonself_m, label='nonself',fill=True,weights=x_weights(nonself_m))\n",
    "sns.kdeplot(x=other_m, label='other',fill=True,weights=x_weights(other_m))\n",
    "plt.title('Elasticity Distribution')\n",
    "plt.legend()\n",
    "plt.xlim(-.1e-3,.8e-3)\n",
    "plt.ticklabel_format(axis=\"x\", style=\"sci\", scilimits=(0,0))\n",
    "plt.show()"
   ]
  },
  {
   "cell_type": "code",
   "execution_count": null,
   "metadata": {},
   "outputs": [],
   "source": []
  },
  {
   "cell_type": "code",
   "execution_count": 72,
   "metadata": {},
   "outputs": [
    {
     "ename": "SystemExit",
     "evalue": "",
     "output_type": "error",
     "traceback": [
      "An exception has occurred, use %tb to see the full traceback.\n",
      "\u001b[1;31mSystemExit\u001b[0m\n"
     ]
    },
    {
     "name": "stderr",
     "output_type": "stream",
     "text": [
      "c:\\Users\\hakos\\AppData\\Local\\Programs\\Python\\Python310\\lib\\site-packages\\IPython\\core\\interactiveshell.py:3377: UserWarning: To exit: use 'exit', 'quit', or Ctrl-D.\n",
      "  warn(\"To exit: use 'exit', 'quit', or Ctrl-D.\", stacklevel=1)\n"
     ]
    }
   ],
   "source": [
    "import sys\n",
    "sys.exit()\n",
    "opt_results=[]\n",
    "for res in results:\n",
    "    optimization=pyblp.Optimization('bfgs')\n",
    "    instruments_results=res.compute_optimal_instruments().to_problem().solve(rho=0.7,optimization=optimization)\n",
    "    opt_results.append(instruments_results)\n",
    "    # print(np.mean(instruments_results.delta))"
   ]
  },
  {
   "cell_type": "code",
   "execution_count": null,
   "metadata": {},
   "outputs": [
    {
     "name": "stdout",
     "output_type": "stream",
     "text": [
      "3.998081497643444\n",
      "13.706269236956667\n",
      "36.5894767483755\n",
      "-61.145998577438874\n"
     ]
    }
   ],
   "source": [
    "for res in opt_results:\n",
    "    print(np.mean(res.delta))"
   ]
  },
  {
   "cell_type": "code",
   "execution_count": null,
   "metadata": {},
   "outputs": [
    {
     "data": {
      "text/plain": [
       "(Dimensions:\n",
       " =========================================\n",
       "  T     N      I     K1    K2    MD    ED \n",
       " ---  -----  -----  ----  ----  ----  ----\n",
       " 200  25798  40000   4     2     6     2  \n",
       " =========================================\n",
       " \n",
       " Formulations:\n",
       " =====================================================================\n",
       "        Column Indices:            0        1          2          3   \n",
       " -----------------------------  -------  -------  -----------  -------\n",
       "  X1: Linear Characteristics    prices    oral    in_hospital  generic\n",
       " X2: Nonlinear Characteristics  -prices  generic                      \n",
       " =====================================================================,\n",
       " ['log', 'linear'])"
      ]
     },
     "execution_count": 5,
     "metadata": {},
     "output_type": "execute_result"
    }
   ],
   "source": [
    "# problem and rc_types\n",
    "result.problem, result.problem.rc_types"
   ]
  },
  {
   "cell_type": "code",
   "execution_count": null,
   "metadata": {},
   "outputs": [
    {
     "data": {
      "text/plain": [
       "((array([[  0.,   0.],\n",
       "         [  0., -inf]]),\n",
       "  array([[inf,  0.],\n",
       "         [ 0., inf]])),\n",
       " (array([], shape=(2, 0), dtype=float64),\n",
       "  array([], shape=(2, 0), dtype=float64)))"
      ]
     },
     "execution_count": 6,
     "metadata": {},
     "output_type": "execute_result"
    }
   ],
   "source": [
    "# constraints\n",
    "result.sigma_bounds,result.pi_bounds"
   ]
  },
  {
   "cell_type": "code",
   "execution_count": null,
   "metadata": {},
   "outputs": [
    {
     "data": {
      "text/plain": [
       "Problem Results Summary:\n",
       "==================================================================================================================\n",
       "GMM     Objective      Projected    Reduced Hessian  Reduced Hessian  Clipped  Weighting Matrix  Covariance Matrix\n",
       "Step      Value      Gradient Norm  Min Eigenvalue   Max Eigenvalue   Shares   Condition Number  Condition Number \n",
       "----  -------------  -------------  ---------------  ---------------  -------  ----------------  -----------------\n",
       " 2    +5.133956E-01  +8.633399E-01   -2.678789E+07    +8.260620E+07      0      +3.757242E+08      +2.720855E+08  \n",
       "==================================================================================================================\n",
       "\n",
       "Cumulative Statistics:\n",
       "===========================================================================\n",
       "Computation  Optimizer  Optimization   Objective   Fixed Point  Contraction\n",
       "   Time      Converged   Iterations   Evaluations  Iterations   Evaluations\n",
       "-----------  ---------  ------------  -----------  -----------  -----------\n",
       " 01:38:56       Yes          3            12         2811523      8438415  \n",
       "===========================================================================\n",
       "\n",
       "Nonlinear Coefficient Estimates (Robust SEs in Parentheses):\n",
       "====================================================\n",
       "Types:  |  Sigma:       -prices          generic    \n",
       "------  |  -------  ---------------  ---------------\n",
       " Log    |  -prices   +9.994861E-01                  \n",
       "        |           (+2.767361E+00)                 \n",
       "        |                                           \n",
       "Linear  |  generic   +0.000000E+00    +1.320356E-07 \n",
       "        |                            (+8.046798E+02)\n",
       "====================================================\n",
       "\n",
       "Beta Estimates (Robust SEs in Parentheses):\n",
       "==================================================================\n",
       "    prices            oral          in_hospital        generic    \n",
       "---------------  ---------------  ---------------  ---------------\n",
       " -9.193606E-01    +3.696901E+01    +2.014195E+01    -1.089350E+03 \n",
       "(+1.663862E+00)  (+7.888950E+01)  (+4.629716E+01)  (+9.800045E+02)\n",
       "=================================================================="
      ]
     },
     "execution_count": 7,
     "metadata": {},
     "output_type": "execute_result"
    }
   ],
   "source": [
    "# result\n",
    "result"
   ]
  },
  {
   "cell_type": "code",
   "execution_count": null,
   "metadata": {},
   "outputs": [
    {
     "data": {
      "text/plain": [
       "98.9275143901507"
      ]
     },
     "execution_count": 8,
     "metadata": {},
     "output_type": "execute_result"
    }
   ],
   "source": [
    "# time in minutes\n",
    "result.cumulative_total_time/60"
   ]
  },
  {
   "cell_type": "code",
   "execution_count": null,
   "metadata": {},
   "outputs": [],
   "source": [
    "\n",
    "product_data=pd.DataFrame(pyblp.data_to_dict(result.problem.products))"
   ]
  },
  {
   "cell_type": "code",
   "execution_count": null,
   "metadata": {},
   "outputs": [
    {
     "name": "stdout",
     "output_type": "stream",
     "text": [
      "Computing elasticities with respect to prices ...\n",
      "Finished after 00:00:00.\n",
      "\n"
     ]
    },
    {
     "data": {
      "text/plain": [
       "<matplotlib.colorbar.Colorbar at 0x1f8e8ba02e0>"
      ]
     },
     "execution_count": 10,
     "metadata": {},
     "output_type": "execute_result"
    },
    {
     "data": {
      "image/png": "[encoded data removed]",
      "text/plain": [
       "<Figure size 288x288 with 2 Axes>"
      ]
     },
     "metadata": {
      "needs_background": "light"
     },
     "output_type": "display_data"
    }
   ],
   "source": [
    "%matplotlib inline\n",
    "import matplotlib.pyplot as plt\n",
    "elasticities = result.compute_elasticities()\n",
    "single_market = product_data['market_ids'] == '131-2014.0'\n",
    "K=sum(single_market)\n",
    "plt.colorbar(plt.matshow(elasticities[single_market][:,:K]))\n",
    "# plt.colorbar(plt.matshow(elasticities))"
   ]
  },
  {
   "cell_type": "code",
   "execution_count": null,
   "metadata": {},
   "outputs": [
    {
     "name": "stdout",
     "output_type": "stream",
     "text": [
      "Computing diversion ratios with respect to prices ...\n",
      "\n",
      "Encountered a numerical error when computing a post-estimation output. Errors encountered: divide by zero.\n",
      "\n",
      "Finished after 00:00:00.\n",
      "\n"
     ]
    },
    {
     "data": {
      "text/plain": [
       "<matplotlib.colorbar.Colorbar at 0x1f89f367f40>"
      ]
     },
     "execution_count": 11,
     "metadata": {},
     "output_type": "execute_result"
    },
    {
     "data": {
      "image/png": "[encoded data removed]",
      "text/plain": [
       "<Figure size 288x288 with 2 Axes>"
      ]
     },
     "metadata": {
      "needs_background": "light"
     },
     "output_type": "display_data"
    }
   ],
   "source": [
    "diversions = result.compute_diversion_ratios()\n",
    "plt.colorbar(plt.matshow(diversions[single_market][:,:K]))"
   ]
  }
 ],
 "metadata": {
  "kernelspec": {
   "display_name": "Python 3",
   "language": "python",
   "name": "python3"
  },
  "language_info": {
   "codemirror_mode": {
    "name": "ipython",
    "version": 3
   },
   "file_extension": ".py",
   "mimetype": "text/x-python",
   "name": "python",
   "nbconvert_exporter": "python",
   "pygments_lexer": "ipython3",
   "version": "3.10.4"
  },
  "orig_nbformat": 4
 },
 "nbformat": 4,
 "nbformat_minor": 2
}
