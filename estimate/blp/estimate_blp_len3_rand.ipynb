{
 "cells": [
  {
   "cell_type": "code",
   "execution_count": 1,
   "metadata": {},
   "outputs": [],
   "source": [
    "import pandas as pd\n",
    "import numpy as np\n",
    "import statsmodels.api as sm\n",
    "# from linearmodels.panel.data import PanelData\n",
    "# from linearmodels.panel import PanelOLS, PooledOLS, RandomEffects, compare\n",
    "import matplotlib.pyplot as plt\n",
    "import pyblp\n",
    "import sys\n",
    "import datetime\n",
    "import warnings\n",
    "\n",
    "# Suppress all warnings\n",
    "# warnings.filterwarnings(\"ignore\")"
   ]
  },
  {
   "cell_type": "code",
   "execution_count": 2,
   "metadata": {},
   "outputs": [
    {
     "name": "stdout",
     "output_type": "stream",
     "text": [
      "Insufficient parameters. Please provide two parameters.\n",
      "Index(['薬効分類', '薬効分類名称', '医薬品コード', '医薬品名', '薬価基準収載医薬品コード', '薬価', 'generic',\n",
      "       '総計', 'year', 'in_hospital', 'oral', 'id_l4', 'Approved', 'KEGG',\n",
      "       'Ingredient', 'date', 'release_year', '成分', 'variable', 'id_x',\n",
      "       'revenue', 'elapsed', 'elapsed_m6', 'elapsed_m5', 'elapsed_m4',\n",
      "       'elapsed_m3', 'elapsed_m2', 'elapsed_m1', 'elapsed_0', 'elapsed_1'],\n",
      "      dtype='object')\n"
     ]
    },
    {
     "name": "stderr",
     "output_type": "stream",
     "text": [
      "C:\\Users\\hakos\\AppData\\Local\\Temp\\ipykernel_20392\\551973862.py:18: DtypeWarning: Columns (118) have mixed types. Specify dtype option on import or set low_memory=False.\n",
      "  product_data=pd.read_csv(\"../../data/merged/len3_ndb_blp_DN_firm_FC.csv\",encoding=\"utf-8\",index_col=0)\n"
     ]
    }
   ],
   "source": [
    "\n",
    "\n",
    "def mute():\n",
    "    sys.stdout = open('nul', 'w')\n",
    "    # a=0\n",
    "def unmute():\n",
    "    sys.stdout = sys.__stdout__\n",
    "\n",
    "drop_self,drop_nonself=0,0\n",
    "if len(sys.argv) > 2:\n",
    "    drop_self = int(sys.argv[1])\n",
    "    drop_nonself = int(sys.argv[2])\n",
    "    print(f\"Received parameters: param1={drop_self}, param2={drop_nonself}\")\n",
    "else:\n",
    "    print(\"Insufficient parameters. Please provide two parameters.\")\n",
    "# Call the function with suppressed output\n",
    "# mute()\n",
    "save=1\n",
    "\n",
    "product_data=pd.read_csv(\"../../data/merged/len3_ndb_blp_DN_firm_FC.csv\",encoding=\"utf-8\",index_col=0)\n",
    "print(product_data.columns[:30])\n",
    "# rename\n",
    "product_data=product_data.rename(columns={\"薬価\":\"prices\",\n",
    "                    \"同一剤形・規格の後発医薬品がある先発医薬品\":\"long_term\",\n",
    "                    \"医薬品名\":\"product_ids\",\n",
    "                    \"薬効分類\":\"TClass\",\n",
    "                    \"メーカー名\":\"firm_ids\"})\n",
    "\n",
    "product_data[\"long_term\"] = product_data[\"long_term\"].replace(\"○\", 1).fillna(0)\n",
    "product_data.loc[product_data[\"firm_ids\"]==\"self\",\"prices\"]=product_data.loc[product_data[\"firm_ids\"]==\"self\",\"mean_price\"]*0.5\n",
    "product_data.loc[product_data[\"firm_ids\"]==\"nonself\",\"prices\"]=product_data.loc[product_data[\"firm_ids\"]==\"nonself\",\"mean_price\"]*0.5*0.7\n",
    "product_data = product_data[product_data[\"year\"] > 2014]\n",
    "product_data.loc[:,\"market_ids\"]=product_data.loc[:,\"TClass\"].astype(int).astype(str)+\"-\"+product_data.loc[:,\"year\"].astype(int).astype(str)\n",
    "product_data.loc[:,\"shares\"]=product_data[\"総計\"]/(120000000*100)\n",
    "if drop_nonself:\n",
    "    product_data = product_data[product_data[\"firm_ids\"]!=\"nonself\"]\n",
    "if drop_self:\n",
    "    product_data = product_data[product_data[\"firm_ids\"]!=\"self\"]\n",
    "\n",
    "product_data[\"prices\"]=product_data[\"prices\"]*3.4\n",
    "product_data=product_data.loc[product_data[\"shares\"]>0]\n",
    "product_data=product_data[[\"wholesale_price\",\"markup\",\"product_ids\",\"market_ids\",\"firm_ids\",\"prices\",\"brand\",\"oral\",\"generic\",\"in_hospital\",\"TClass\",\"year\",\"shares\",\"id_l4\",\"long_term\",\"otc\",\"Pharmacopoeia\"]]\n",
    "product_data=product_data.astype({\"prices\":float,\"shares\":float,\"oral\":float,\"generic\":int,\"otc\":int,\"in_hospital\":int,\"long_term\":int})\n",
    "product_data.reset_index(drop=True,inplace=True)"
   ]
  },
  {
   "cell_type": "code",
   "execution_count": 3,
   "metadata": {},
   "outputs": [],
   "source": [
    "# specify instruments\n",
    "demand_instruments=pyblp.build_blp_instruments(pyblp.Formulation(\"1+generic+in_hospital+oral+long_term+Pharmacopoeia\"),product_data=product_data)\n",
    "# demand_instruments=pyblp.build_blp_instruments(formulation=pyblp.Formulation(\"1+prices+generic+oral+in_hospital\"),product_data=product_data)\n",
    "\n",
    "MD=demand_instruments.shape[1]\n",
    "demand_instruments=pd.DataFrame(demand_instruments, columns=[f'demand_instruments{i}' for i in range(MD)])\n",
    "product_data=pd.concat([product_data,demand_instruments],axis=1)\n",
    "# unmute()\n",
    "# print(product_data.corr().to_csv('correlation_matrix.csv', sep='\\t'))\n",
    "# print(product_data.corr()>0.1)\n",
    "# mute()\n",
    "# lagged demand instruments\n",
    "# demand_instrument_columns = [col for col in product_data.columns if col.startswith('demand_instrument')]\n",
    "# def lag_demand_instruments(group):\n",
    "#     for col in demand_instrument_columns:\n",
    "#         for i in range(N_DI):  # 0から1までのラグを取得\n",
    "#             lagged_column_name = f'demand_instruments{i+N_DI}'\n",
    "#             group[lagged_column_name] = group[col].shift(1)\n",
    "#     return group\n",
    "# product_data=product_data.sort_values(['TClass', 'year'])\n",
    "# product_data = product_data.groupby('id_l4').apply(lag_demand_instruments)\n",
    "# product_data.shape\n",
    "\n",
    "product_data.loc[product_data[\"product_ids\"]==\"self\"][\"shares\"]\n",
    "# nesting\n",
    "product_data[\"nesting_ids\"]=product_data[\"generic\"].astype(str)+product_data[\"otc\"].astype(str)\n",
    "X1_formulation= pyblp.Formulation('prices+in_hospital+oral+generic+otc+long_term+Pharmacopoeia', absorb='C(TClass)+C(year)+C(firm_ids)')\n",
    "if drop_self and drop_nonself:\n",
    "    X1_formulation= pyblp.Formulation('prices+in_hospital+oral+generic+long_term+Pharmacopoeia', absorb='C(TClass)+C(year)+C(firm_ids)')\n",
    "# logit_formulation= pyblp.Formulation('prices+oral+in_hospital+long_term', absorb='C(market_ids)+C(firm_ids)')\n",
    "X2_formulation=pyblp.Formulation(\"-1+I(-prices)\")\n",
    "agent_num=200\n",
    "N=product_data.shape[0]\n",
    "values=[.3,.1]\n",
    "probs=[.6,.4]\n",
    "agent_data=pd.DataFrame(np.random.choice(values, size=(N*agent_num, 1), p=probs))\n",
    "\n",
    "agent_data[\"market_ids\"]=product_data[\"market_ids\"].repeat(agent_num).reset_index(drop=True)\n",
    "\n",
    "product_formulations=(X1_formulation,X2_formulation)\n"
   ]
  },
  {
   "cell_type": "markdown",
   "metadata": {},
   "source": [
    "## random coef"
   ]
  },
  {
   "cell_type": "code",
   "execution_count": 4,
   "metadata": {},
   "outputs": [],
   "source": [
    "# product_data=product_data.loc[product_data[\"year\"]==2015]\n",
    "N=product_data.shape[0]\n",
    "product_formulations = (X1_formulation, X2_formulation)\n",
    "agent_formulation = pyblp.Formulation('-1+I(-burden)')\n",
    "\n",
    "\n",
    "\n",
    "# optim = pyblp.Optimization('nelder-mead',compute_gradient=False)\n",
    "# optim = pyblp.Optimization('slsqp')\n"
   ]
  },
  {
   "cell_type": "code",
   "execution_count": 5,
   "metadata": {},
   "outputs": [
    {
     "data": {
      "text/plain": [
       "5.8441558441558454e-08"
      ]
     },
     "execution_count": 5,
     "metadata": {},
     "output_type": "execute_result"
    }
   ],
   "source": [
    "product_data[\"shares\"].min()"
   ]
  },
  {
   "cell_type": "code",
   "execution_count": 6,
   "metadata": {},
   "outputs": [],
   "source": [
    "agent_num=200\n",
    "N=product_data.shape[0]\n",
    "values=[.3,.1]\n",
    "probs=[.6,.4]\n",
    "agent_data=pd.DataFrame({\"burden\":np.random.choice(values, size=(N*agent_num, 1), p=probs).flatten()})\n",
    "\n",
    "agent_data[\"market_ids\"]=product_data[\"market_ids\"].repeat(agent_num).reset_index(drop=True)"
   ]
  },
  {
   "cell_type": "code",
   "execution_count": 7,
   "metadata": {},
   "outputs": [
    {
     "data": {
      "text/html": [
       "<div>\n",
       "<style scoped>\n",
       "    .dataframe tbody tr th:only-of-type {\n",
       "        vertical-align: middle;\n",
       "    }\n",
       "\n",
       "    .dataframe tbody tr th {\n",
       "        vertical-align: top;\n",
       "    }\n",
       "\n",
       "    .dataframe thead th {\n",
       "        text-align: right;\n",
       "    }\n",
       "</style>\n",
       "<table border=\"1\" class=\"dataframe\">\n",
       "  <thead>\n",
       "    <tr style=\"text-align: right;\">\n",
       "      <th></th>\n",
       "      <th>burden</th>\n",
       "      <th>market_ids</th>\n",
       "    </tr>\n",
       "  </thead>\n",
       "  <tbody>\n",
       "    <tr>\n",
       "      <th>0</th>\n",
       "      <td>0.1</td>\n",
       "      <td>114-2015</td>\n",
       "    </tr>\n",
       "    <tr>\n",
       "      <th>1</th>\n",
       "      <td>0.3</td>\n",
       "      <td>114-2015</td>\n",
       "    </tr>\n",
       "    <tr>\n",
       "      <th>2</th>\n",
       "      <td>0.3</td>\n",
       "      <td>114-2015</td>\n",
       "    </tr>\n",
       "    <tr>\n",
       "      <th>3</th>\n",
       "      <td>0.1</td>\n",
       "      <td>114-2015</td>\n",
       "    </tr>\n",
       "    <tr>\n",
       "      <th>4</th>\n",
       "      <td>0.1</td>\n",
       "      <td>114-2015</td>\n",
       "    </tr>\n",
       "    <tr>\n",
       "      <th>...</th>\n",
       "      <td>...</td>\n",
       "      <td>...</td>\n",
       "    </tr>\n",
       "    <tr>\n",
       "      <th>4934595</th>\n",
       "      <td>0.3</td>\n",
       "      <td>799-2021</td>\n",
       "    </tr>\n",
       "    <tr>\n",
       "      <th>4934596</th>\n",
       "      <td>0.3</td>\n",
       "      <td>799-2021</td>\n",
       "    </tr>\n",
       "    <tr>\n",
       "      <th>4934597</th>\n",
       "      <td>0.1</td>\n",
       "      <td>799-2021</td>\n",
       "    </tr>\n",
       "    <tr>\n",
       "      <th>4934598</th>\n",
       "      <td>0.1</td>\n",
       "      <td>799-2021</td>\n",
       "    </tr>\n",
       "    <tr>\n",
       "      <th>4934599</th>\n",
       "      <td>0.1</td>\n",
       "      <td>799-2021</td>\n",
       "    </tr>\n",
       "  </tbody>\n",
       "</table>\n",
       "<p>4934600 rows × 2 columns</p>\n",
       "</div>"
      ],
      "text/plain": [
       "         burden market_ids\n",
       "0           0.1   114-2015\n",
       "1           0.3   114-2015\n",
       "2           0.3   114-2015\n",
       "3           0.1   114-2015\n",
       "4           0.1   114-2015\n",
       "...         ...        ...\n",
       "4934595     0.3   799-2021\n",
       "4934596     0.3   799-2021\n",
       "4934597     0.1   799-2021\n",
       "4934598     0.1   799-2021\n",
       "4934599     0.1   799-2021\n",
       "\n",
       "[4934600 rows x 2 columns]"
      ]
     },
     "execution_count": 7,
     "metadata": {},
     "output_type": "execute_result"
    }
   ],
   "source": [
    "agent_data"
   ]
  },
  {
   "cell_type": "code",
   "execution_count": 8,
   "metadata": {},
   "outputs": [
    {
     "name": "stdout",
     "output_type": "stream",
     "text": [
      "Initializing the problem ...\n",
      "Absorbing demand-side fixed effects ...\n",
      "Initialized the problem after 00:00:23.\n",
      "\n",
      "Dimensions:\n",
      "========================================================\n",
      " T     N     F     I     K1    K2    D    MD    ED    H \n",
      "---  -----  ---  -----  ----  ----  ---  ----  ----  ---\n",
      "175  24673  198  35000   7     1     1    18    3     4 \n",
      "========================================================\n",
      "\n",
      "Formulations:\n",
      "=================================================================================================\n",
      "       Column Indices:            0          1        2       3      4       5            6      \n",
      "-----------------------------  -------  -----------  ----  -------  ---  ---------  -------------\n",
      " X1: Linear Characteristics    prices   in_hospital  oral  generic  otc  long_term  Pharmacopoeia\n",
      "X2: Nonlinear Characteristics  -prices                                                           \n",
      "       d: Demographics         -burden                                                           \n",
      "=================================================================================================\n"
     ]
    },
    {
     "data": {
      "text/plain": [
       "Dimensions:\n",
       "========================================================\n",
       " T     N     F     I     K1    K2    D    MD    ED    H \n",
       "---  -----  ---  -----  ----  ----  ---  ----  ----  ---\n",
       "175  24673  198  35000   7     1     1    18    3     4 \n",
       "========================================================\n",
       "\n",
       "Formulations:\n",
       "=================================================================================================\n",
       "       Column Indices:            0          1        2       3      4       5            6      \n",
       "-----------------------------  -------  -----------  ----  -------  ---  ---------  -------------\n",
       " X1: Linear Characteristics    prices   in_hospital  oral  generic  otc  long_term  Pharmacopoeia\n",
       "X2: Nonlinear Characteristics  -prices                                                           \n",
       "       d: Demographics         -burden                                                           \n",
       "================================================================================================="
      ]
     },
     "execution_count": 8,
     "metadata": {},
     "output_type": "execute_result"
    }
   ],
   "source": [
    "mc_integration = pyblp.Integration('monte_carlo', size=agent_num, specification_options={'seed': 0})\n",
    "mc_integration\n",
    "# mc_problem = pyblp.Problem(product_formulations, product_data ,agent_formulation,agent_data,integration=mc_integration,rc_types=[\"log\",\"linear\"])\n",
    "mc_problem = pyblp.Problem(product_formulations, product_data ,agent_formulation,agent_data,integration=mc_integration,rc_types=[\"linear\"])\n",
    "mc_problem"
   ]
  },
  {
   "cell_type": "code",
   "execution_count": 9,
   "metadata": {},
   "outputs": [
    {
     "name": "stdout",
     "output_type": "stream",
     "text": [
      "Solving the problem ...\n",
      "\n",
      "Nonlinear Coefficient Initial Values:\n",
      "=================================================\n",
      "Sigma:      -prices     |    Pi:       -burden   \n",
      "-------  -------------  |  -------  -------------\n",
      "-prices  +1.000000E+00  |  -prices  +1.000000E+00\n",
      "=================================================\n",
      "\n",
      "Rho Initial Values:\n",
      "=============\n",
      " All Groups  \n",
      "-------------\n",
      "+7.000000E-01\n",
      "=============\n",
      "\n",
      "Nonlinear Coefficient Lower Bounds:\n",
      "=================================================\n",
      "Sigma:      -prices     |    Pi:       -burden   \n",
      "-------  -------------  |  -------  -------------\n",
      "-prices  +0.000000E+00  |  -prices  +0.000000E+00\n",
      "=================================================\n",
      "\n",
      "Rho Lower Bounds:\n",
      "=============\n",
      " All Groups  \n",
      "-------------\n",
      "+0.000000E+00\n",
      "=============\n",
      "\n",
      "Nonlinear Coefficient Upper Bounds:\n",
      "=================================================\n",
      "Sigma:      -prices     |    Pi:       -burden   \n",
      "-------  -------------  |  -------  -------------\n",
      "-prices      +INF       |  -prices      +INF     \n",
      "=================================================\n",
      "\n",
      "Rho Upper Bounds:\n",
      "=============\n",
      " All Groups  \n",
      "-------------\n",
      "+9.900000E-01\n",
      "=============\n",
      "\n",
      "Starting optimization ...\n",
      "\n"
     ]
    }
   ],
   "source": [
    "optim = pyblp.Optimization('l-bfgs-b',{'gtol': 1e-4})\n",
    "# optim = pyblp.Optimization('nelder-mead',compute_gradient=False)\n",
    "# optim = pyblp.Optimization('slsqp')\n",
    "lb=-10\n",
    "ub=10\n",
    "# results1 = mc_problem.solve(sigma=np.eye(2),pi=[[1],[0]],sigma_bounds = [((lb, lb), (lb, lb)),\n",
    "#                ((ub, ub), (ub, ub))],pi_bounds=((0,0),(10,10)),optimization=optim)\n",
    "# in case of agent data exists\n",
    "# results1 = mc_problem.solve(sigma=np.eye(2),pi=[[1],[0]],sigma_bounds = (((0,0),(0,None)),((None,None),(None,None))) ,pi_bounds=((0,None),(None,None)),optimization=optim)\n",
    "# without agent data\n",
    "# unmute()\n",
    "n_beta=7\n",
    "results1 = mc_problem.solve(rho=0.7,sigma=[1],beta_bounds=([lb]*7,[ub]*7),pi=1,pi_bounds=(0,None),sigma_bounds = (0,None) ,optimization=optim)\n",
    "# results1"
   ]
  },
  {
   "cell_type": "code",
   "execution_count": null,
   "metadata": {},
   "outputs": [
    {
     "data": {
      "text/plain": [
       "(array([-1199554.99939403]),\n",
       " array([-1199554.99939403]),\n",
       " array([-1199554.99939403]),\n",
       " array([-1199554.99939403]))"
      ]
     },
     "execution_count": 15,
     "metadata": {},
     "output_type": "execute_result"
    }
   ],
   "source": [
    "# mute()\n",
    "cs=results1.compute_consumer_surpluses()\n",
    "cs2=results1.compute_consumer_surpluses(eliminate_product_ids=[\"self\"])\n",
    "cs3=results1.compute_consumer_surpluses(eliminate_product_ids=[\"nonself\"])\n",
    "cs4=results1.compute_consumer_surpluses(eliminate_product_ids=[\"nonself\",\"self\"])\n",
    "# unmute()\n",
    "print(\"consumer surplus\")\n",
    "print([np.mean(cs),np.mean(cs2),np.mean(cs3),np.mean(cs4)]/np.mean(cs))\n",
    "sum(cs),sum(cs2),sum(cs3),sum(cs4)"
   ]
  },
  {
   "cell_type": "code",
   "execution_count": null,
   "metadata": {},
   "outputs": [],
   "source": [
    "import datetime\n",
    "\n",
    "# Get the current date and time\n",
    "current_time = datetime.datetime.now()\n",
    "\n",
    "# Format the time as a string\n",
    "time_string = current_time.strftime(\"%Y-%m-%d_%H-%M-%S\")\n",
    "# save=1\n",
    "if save:\n",
    "    results1.to_pickle(f\"./results/RCNL_len3_{time_string}.pkl\")"
   ]
  },
  {
   "cell_type": "code",
   "execution_count": null,
   "metadata": {},
   "outputs": [],
   "source": [
    "# pr_integration = pyblp.Integration('product', size=5)\n",
    "# # pr_problem = pyblp.Problem(product_formulations, product_data,agent_formulation,agent_data,integration=pr_integration,rc_types=[\"log\",\"linear\"])\n",
    "# pr_problem = pyblp.Problem(product_formulations, product_data,agent_formulation,agent_data,integration=pr_integration,rc_types=[\"log\",\"linear\"])\n",
    "# optim = pyblp.Optimization('bfgs',{'gtol': 1e-4})\n",
    "# # with pyblp.parallel(3):\n",
    "# results2 = pr_problem.solve(sigma=np.eye(2),pi=[[1],[1]], optimization=optim)\n",
    "# results2\n"
   ]
  }
 ],
 "metadata": {
  "kernelspec": {
   "display_name": "Python 3",
   "language": "python",
   "name": "python3"
  },
  "language_info": {
   "codemirror_mode": {
    "name": "ipython",
    "version": 3
   },
   "file_extension": ".py",
   "mimetype": "text/x-python",
   "name": "python",
   "nbconvert_exporter": "python",
   "pygments_lexer": "ipython3",
   "version": "3.10.4"
  },
  "orig_nbformat": 4
 },
 "nbformat": 4,
 "nbformat_minor": 2
}
