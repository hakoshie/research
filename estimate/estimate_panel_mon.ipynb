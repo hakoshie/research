{
 "cells": [
  {
   "cell_type": "code",
   "execution_count": 10,
   "metadata": {},
   "outputs": [],
   "source": [
    "import pandas as pd\n",
    "import numpy as np\n",
    "import statsmodels.api as sm\n",
    "from linearmodels.panel.data import PanelData\n",
    "from linearmodels.panel import PanelOLS, PooledOLS, RandomEffects, compare\n",
    "import matplotlib.pyplot as plt"
   ]
  },
  {
   "cell_type": "code",
   "execution_count": 11,
   "metadata": {},
   "outputs": [],
   "source": [
    "df=pd.read_csv(\"../data/merged/len3_ship_mon_agg_drop_never.csv\",encoding=\"shift-jis\",index_col=0)"
   ]
  },
  {
   "cell_type": "markdown",
   "metadata": {},
   "source": [
    "Estimation"
   ]
  },
  {
   "cell_type": "code",
   "execution_count": 12,
   "metadata": {},
   "outputs": [
    {
     "name": "stdout",
     "output_type": "stream",
     "text": [
      "['id', 'elasped_m5', 'elasped_m4', 'elasped_m3', 'elasped_m2', 'elasped_m1', 'elasped_0', 'elasped_1', 'elasped_2', 'elasped_3', 'elasped_4', 'elasped_5', 'elasped_6', 'elasped_7', 'elasped_8', 'elasped_9', 'elasped_10', 'elasped_11', 'elasped_12', 'elasped_13', 'elasped_14', 'elasped_15', 'elasped_16', 'elasped_17', 'elasped_18', 'elasped_19', 'elasped_20', 'id_114', 'id_121', 'id_123', 'id_124', 'id_131', 'id_132', 'id_211', 'id_217', 'id_218', 'id_222', 'id_223', 'id_224', 'id_225', 'id_229', 'id_231', 'id_232', 'id_235', 'id_239', 'id_245', 'id_252', 'id_259', 'id_264', 'id_265', 'id_279', 'id_313', 'id_321', 'id_332', 'id_339', 'id_391', 'id_399', 'id_441', 'id_449', 'id_625', 'id_629', 'id_799']\n"
     ]
    }
   ],
   "source": [
    "## processing\n",
    "df_columns = df.columns # 列名をリストとして取得\n",
    "import re\n",
    "\n",
    "# 正規表現パターンを作成します\n",
    "pattern = r'id|^elasped_(m[0-5]|[0-9]|1\\d|20)$'\n",
    "\n",
    "# 列名のリストを作成します\n",
    "column_names = [col for col in df_columns if re.search(pattern, col)]\n",
    "\n",
    "# 列名のリストを表示します\n",
    "print(column_names)\n",
    "rest_columns=[\"year\",\"generic_per\",\"month\",\"year_month\"]\n",
    "column_names=rest_columns+column_names\n",
    "# try:\n",
    "#     column_names.remove(\"elasped_m1\")\n",
    "# except:\n",
    "#     1\n",
    "\n",
    "try:\n",
    "    column_names.remove(\"elasped\")\n",
    "except:\n",
    "    1\n",
    "try:\n",
    "    column_names.remove(\"id\")\n",
    "except:\n",
    "    1\n",
    "# try:\n",
    "#     column_names.remove(\"id_114\")\n",
    "# except:\n",
    "#     1\n",
    "# column_names"
   ]
  },
  {
   "cell_type": "code",
   "execution_count": 13,
   "metadata": {},
   "outputs": [
    {
     "data": {
      "text/plain": [
       "0       1\n",
       "1       0\n",
       "2       0\n",
       "3       0\n",
       "4       0\n",
       "       ..\n",
       "5867    0\n",
       "5868    0\n",
       "5869    0\n",
       "5870    0\n",
       "5871    0\n",
       "Name: mon_1, Length: 5872, dtype: uint8"
      ]
     },
     "execution_count": 13,
     "metadata": {},
     "output_type": "execute_result"
    }
   ],
   "source": [
    "df=pd.concat([df,pd.get_dummies(df[\"month\"],prefix=\"mon\")],axis=1)\n",
    "df[\"mon_1\"]"
   ]
  },
  {
   "cell_type": "code",
   "execution_count": 14,
   "metadata": {},
   "outputs": [],
   "source": [
    "# normalization of year\n",
    "# 2008で正規化するかで結構estimateが変わります、1ぐらい\n",
    "# df[\"year\"]=df[\"year\"]-2008\n",
    "\n",
    "#前処理\n",
    "df.replace('-',\"0\",inplace=True)\n",
    "df[\"otc_dom\"].replace(\",\",\"\",regex=True,inplace=True)\n",
    "df[\"rx_dom\"].replace(\",\",\"\",regex=True,inplace=True)\n",
    "df[\"stock_otc_lag\"].replace(\",\",\"\",regex=True,inplace=True)\n",
    "df[\"stock_rx_lag\"].replace(\",\",\"\",regex=True,inplace=True)\n",
    "# fillna\n",
    "df[\"otc_dom\"].fillna(0,inplace=True)\n",
    "df[\"rx_dom\"].fillna(0,inplace=True)\n",
    "df[\"stock_otc_lag\"].fillna(0,inplace=True)\n",
    "df[\"stock_rx_lag\"].fillna(0,inplace=True)\n",
    "\n",
    "df[\"otc_dom\"]=df[\"otc_dom\"].astype(int)\n",
    "df[\"rx_dom\"]=df[\"rx_dom\"].astype(int)\n",
    "df[\"stock_otc_lag\"]=df[\"stock_otc_lag\"].astype(int)\n",
    "df[\"stock_rx_lag\"]=df[\"stock_rx_lag\"].astype(float)\n",
    "#ここはかなり重要でセレクションバイアスみたいなので有意性が変わるらしい\n",
    "df=df.loc[df[\"otc_dom\"]>0]\n",
    "df=df.loc[df[\"rx_dom\"]>0]\n",
    "df=df.loc[df[\"stock_otc_lag\"]>0]\n",
    "df=df.loc[df[\"stock_rx_lag\"]>0]\n",
    "\n",
    "# make log columns\n",
    "df[\"log_rx_dom\"]=np.log(df[\"rx_dom\"])\n",
    "df[\"log_otc_dom\"]=np.log(df[\"otc_dom\"])\n",
    "df[\"log_stock_rx_lag\"]=np.log(df[\"stock_rx_lag\"])\n",
    "df[\"log_stock_otc_lag\"]=np.log(df[\"stock_otc_lag\"])\n",
    "\n",
    "# make year trend\n",
    "df[\"year_trend\"]=df[\"year\"]-2008"
   ]
  },
  {
   "cell_type": "code",
   "execution_count": 15,
   "metadata": {},
   "outputs": [
    {
     "name": "stdout",
     "output_type": "stream",
     "text": [
      "<class 'pandas.core.frame.DataFrame'>\n",
      "MultiIndex: 2339 entries, (114, Timestamp('2009-11-26 00:00:00')) to (799, Timestamp('2022-12-26 00:00:00'))\n",
      "Columns: 125 entries, year to year_trend\n",
      "dtypes: float64(11), int32(3), int64(93), object(6), uint8(12)\n",
      "memory usage: 2.0+ MB\n"
     ]
    },
    {
     "data": {
      "text/plain": [
       "(125, 167, 27)"
      ]
     },
     "execution_count": 15,
     "metadata": {},
     "output_type": "execute_result"
    }
   ],
   "source": [
    "# change to the datetime format\n",
    "df['year_month'] = pd.to_datetime(df[['year', 'month']].assign(day=26))\n",
    "df=df.set_index([\"id\",\"year_month\"])\n",
    "\n",
    "df.info()\n",
    "# make this to paneldata\n",
    "df=PanelData(df,convert_dummies=False)\n",
    "df.shape"
   ]
  },
  {
   "cell_type": "code",
   "execution_count": 19,
   "metadata": {},
   "outputs": [],
   "source": [
    "months=\"+mon_1+mon_2+mon_3+mon_4+mon_5+mon_6+mon_7+mon_8+mon_9+mon_10+mon_11\"\n",
    "ytrend=\"+year_trend\""
   ]
  },
  {
   "cell_type": "markdown",
   "metadata": {},
   "source": [
    "stockのlag(むしろgeneric?)とtime effectは共存できないらしい"
   ]
  },
  {
   "cell_type": "markdown",
   "metadata": {},
   "source": [
    "## RX"
   ]
  },
  {
   "cell_type": "code",
   "execution_count": 17,
   "metadata": {},
   "outputs": [
    {
     "name": "stdout",
     "output_type": "stream",
     "text": [
      "                             Parameter Estimates                              \n",
      "==============================================================================\n",
      "            Parameter  Std. Err.     T-stat    P-value    Lower CI    Upper CI\n",
      "------------------------------------------------------------------------------\n",
      "elasped_m5 -1.343e+06   4.32e+05    -3.1075     0.0019   -2.19e+06  -4.953e+05\n",
      "elasped_m4  -1.71e+06  4.756e+05    -3.5951     0.0003  -2.643e+06  -7.772e+05\n",
      "elasped_m3  -8.64e+05  1.911e+06    -0.4522     0.6512  -4.611e+06   2.883e+06\n",
      "elasped_m2 -1.411e+06  9.527e+05    -1.4809     0.1388  -3.279e+06   4.574e+05\n",
      "elasped_m1 -2.814e+06  8.201e+05    -3.4320     0.0006  -4.423e+06  -1.206e+06\n",
      "elasped_0  -3.122e+06  6.826e+05    -4.5743     0.0000  -4.461e+06  -1.784e+06\n",
      "elasped_1  -2.699e+06   6.73e+05    -4.0105     0.0001  -4.019e+06  -1.379e+06\n",
      "elasped_2  -1.163e+06  6.802e+05    -1.7106     0.0873  -2.497e+06   1.704e+05\n",
      "elasped_3  -1.447e+05  5.258e+05    -0.2753     0.7831  -1.176e+06   8.864e+05\n",
      "elasped_4   -1.17e+06  6.779e+05    -1.7266     0.0844    -2.5e+06   1.589e+05\n",
      "elasped_5   -7.51e+05  4.795e+05    -1.5660     0.1175  -1.691e+06   1.894e+05\n",
      "elasped_6   2.011e+05  3.139e+05     0.6405     0.5219  -4.146e+05   8.167e+05\n",
      "elasped_7  -3.617e+05  3.335e+05    -1.0845     0.2783  -1.016e+06   2.924e+05\n",
      "elasped_8   1.129e+05  6.837e+05     0.1651     0.8689  -1.228e+06   1.454e+06\n",
      "elasped_9  -1.089e+05  4.174e+05    -0.2609     0.7942  -9.274e+05   7.096e+05\n",
      "elasped_10  -9.72e+05  6.119e+05    -1.5885     0.1123  -2.172e+06    2.28e+05\n",
      "elasped_11 -8.678e+05  6.807e+05    -1.2748     0.2025  -2.203e+06   4.672e+05\n",
      "elasped_12   -1.5e+06  6.919e+05    -2.1684     0.0302  -2.857e+06  -1.434e+05\n",
      "elasped_13 -6.797e+04  7.395e+05    -0.0919     0.9268  -1.518e+06   1.382e+06\n",
      "elasped_14 -4.155e+05  6.399e+05    -0.6492     0.5162   -1.67e+06   8.395e+05\n",
      "elasped_15  1.391e+06  1.088e+06     1.2783     0.2013   -7.43e+05   3.525e+06\n",
      "==============================================================================\n"
     ]
    },
    {
     "name": "stderr",
     "output_type": "stream",
     "text": [
      "C:\\Users\\hakos\\AppData\\Local\\Temp\\ipykernel_17712\\1095135707.py:13: AbsorbingEffectWarning: \n",
      "Variables have been fully absorbed and have removed from the regression:\n",
      "\n",
      "year_trend, generic_per\n",
      "\n",
      "  res_fe=mod_fe.fit(cov_type='clustered', cluster_entity=True)\n"
     ]
    }
   ],
   "source": [
    "formula=\"rx_dom ~ elasped_m5+elasped_m4+elasped_m3+elasped_m2+elasped_m1+elasped_0+elasped_1+elasped_2+elasped_3+elasped_4+elasped_5+elasped_6+elasped_7+elasped_8+elasped_9+elasped_10+elasped_11+elasped_12+elasped_13+elasped_14+elasped_15+generic_per+TimeEffects+EntityEffects\"\n",
    "\n",
    "# stock lag\n",
    "# formula=\"rx_dom ~ elasped_m5+elasped_m4+elasped_m3+elasped_m2+elasped_0+elasped_1+elasped_2+elasped_3+elasped_4+elasped_5+elasped_6+elasped_7+elasped_8+elasped_9+elasped_10+elasped_11+elasped_12+elasped_13+elasped_14+elasped_15+generic_per+stock_rx_lag+TimeEffects+EntityEffects\"\n",
    "\n",
    "# with month dummies\n",
    "# formula+=months\n",
    "\n",
    "# ytrend\n",
    "# formula+=ytrend\n",
    "\n",
    "# mod_fe=PanelOLS.from_formula(formula, data=df,check_rank=False,drop_absorbed=True)\n",
    "# drop_absorbed=True\n",
    "mod_fe=PanelOLS.from_formula(formula, data=df,check_rank=False,drop_absorbed=True)\n",
    "res_fe=mod_fe.fit(cov_type='clustered', cluster_entity=True)\n",
    "print(res_fe.summary.tables[1])\n",
    "# print(res_fe.summary.tables[0])"
   ]
  },
  {
   "cell_type": "code",
   "execution_count": 21,
   "metadata": {},
   "outputs": [
    {
     "name": "stdout",
     "output_type": "stream",
     "text": [
      "                             Parameter Estimates                              \n",
      "==============================================================================\n",
      "            Parameter  Std. Err.     T-stat    P-value    Lower CI    Upper CI\n",
      "------------------------------------------------------------------------------\n",
      "elasped_m5    -0.0750     0.1540    -0.4868     0.6264     -0.3770      0.2270\n",
      "elasped_m4    -0.2802     0.1004    -2.7892     0.0053     -0.4772     -0.0832\n",
      "elasped_m3    -0.0772     0.0791    -0.9763     0.3290     -0.2322      0.0779\n",
      "elasped_m2    -0.1154     0.0588    -1.9607     0.0500     -0.2308   2.034e-05\n",
      "elasped_m1    -0.1553     0.0576    -2.6973     0.0070     -0.2682     -0.0424\n",
      "elasped_0     -0.2095     0.0529    -3.9605     0.0001     -0.3133     -0.1058\n",
      "elasped_1     -0.1611     0.0667    -2.4165     0.0158     -0.2918     -0.0304\n",
      "elasped_2     -0.1188     0.0694    -1.7122     0.0870     -0.2550      0.0173\n",
      "elasped_3      0.0365     0.0554     0.6593     0.5098     -0.0721      0.1452\n",
      "elasped_4      0.0259     0.0783     0.3311     0.7406     -0.1276      0.1794\n",
      "elasped_5     -0.0088     0.1162    -0.0755     0.9399     -0.2367      0.2192\n",
      "elasped_6      0.0707     0.0869     0.8133     0.4161     -0.0997      0.2411\n",
      "elasped_7      0.0378     0.0889     0.4251     0.6708     -0.1366      0.2122\n",
      "elasped_8      0.0278     0.0792     0.3505     0.7260     -0.1275      0.1830\n",
      "elasped_9     -0.0037     0.0761    -0.0483     0.9614     -0.1529      0.1455\n",
      "elasped_10    -0.0335     0.0651    -0.5142     0.6072     -0.1611      0.0942\n",
      "elasped_11    -0.0193     0.0693    -0.2783     0.7808     -0.1553      0.1167\n",
      "elasped_12    -0.0994     0.0841    -1.1826     0.2371     -0.2643      0.0655\n",
      "elasped_13    -0.0069     0.0820    -0.0843     0.9328     -0.1676      0.1538\n",
      "elasped_14     0.0436     0.0642     0.6794     0.4970     -0.0823      0.1696\n",
      "elasped_15     0.0374     0.0715     0.5236     0.6006     -0.1028      0.1776\n",
      "==============================================================================\n",
      "                          PanelOLS Estimation Summary                           \n",
      "================================================================================\n",
      "Dep. Variable:             log_rx_dom   R-squared:                        0.0431\n",
      "Estimator:                   PanelOLS   R-squared (Between):             -0.0091\n",
      "No. Observations:                2339   R-squared (Within):               0.0322\n",
      "Date:                Fri, Aug 18 2023   R-squared (Overall):             -0.0101\n",
      "Time:                        13:38:46   Log-likelihood                   -939.49\n",
      "Cov. Estimator:             Clustered                                           \n",
      "                                        F-statistic:                      4.5581\n",
      "Entities:                          27   P-value                           0.0000\n",
      "Avg Obs:                       86.630   Distribution:                 F(21,2125)\n",
      "Min Obs:                       47.000                                           \n",
      "Max Obs:                       167.00   F-statistic (robust):             23.103\n",
      "                                        P-value                           0.0000\n",
      "Time periods:                     167   Distribution:                 F(21,2125)\n",
      "Avg Obs:                       14.006                                           \n",
      "Min Obs:                       5.0000                                           \n",
      "Max Obs:                       27.000                                           \n",
      "                                                                                \n",
      "================================================================================\n"
     ]
    },
    {
     "name": "stderr",
     "output_type": "stream",
     "text": [
      "C:\\Users\\hakos\\AppData\\Local\\Temp\\ipykernel_17712\\3469882702.py:13: AbsorbingEffectWarning: \n",
      "Variables have been fully absorbed and have removed from the regression:\n",
      "\n",
      "generic_per\n",
      "\n",
      "  res_fe=mod_fe.fit(cov_type='clustered', cluster_entity=True)\n"
     ]
    }
   ],
   "source": [
    "# take log\n",
    "formula=\"log_rx_dom ~ elasped_m5+elasped_m4+elasped_m3+elasped_m2+elasped_m1+elasped_0+elasped_1+elasped_2+elasped_3+elasped_4+elasped_5+elasped_6+elasped_7+elasped_8+elasped_9+elasped_10+elasped_11+elasped_12+elasped_13+elasped_14+elasped_15+generic_per+TimeEffects+EntityEffects\"\n",
    "# stock lag version and month dummies\n",
    "# formula=\"log_rx_dom ~ generic_per+log_stock_rx_lag+elasped_m5+elasped_m4+elasped_m3+elasped_m2+elasped_m1+elasped_0+elasped_1+elasped_2+elasped_3+elasped_4+elasped_5+elasped_6+elasped_7+elasped_8+elasped_9+elasped_10+elasped_11+elasped_12+elasped_13+elasped_14+elasped_15+TimeEffects+EntityEffects\"\n",
    "\n",
    "# with months\n",
    "# formula+=months\n",
    "\n",
    "# ytrend\n",
    "# formula+=ytrend\n",
    "\n",
    "mod_fe=PanelOLS.from_formula(formula, data=df,drop_absorbed=True,check_rank=False)\n",
    "res_fe=mod_fe.fit(cov_type='clustered', cluster_entity=True)\n",
    "print(res_fe.summary.tables[1])\n",
    "print(res_fe.summary.tables[0])"
   ]
  },
  {
   "cell_type": "markdown",
   "metadata": {},
   "source": [
    "### OTC"
   ]
  },
  {
   "cell_type": "code",
   "execution_count": 22,
   "metadata": {},
   "outputs": [
    {
     "name": "stdout",
     "output_type": "stream",
     "text": [
      "                             Parameter Estimates                              \n",
      "==============================================================================\n",
      "            Parameter  Std. Err.     T-stat    P-value    Lower CI    Upper CI\n",
      "------------------------------------------------------------------------------\n",
      "elasped_m5 -6.943e+04  2.201e+05    -0.3154     0.7525  -5.012e+05   3.623e+05\n",
      "elasped_m4 -2.507e+05  1.993e+05    -1.2581     0.2085  -6.416e+05   1.401e+05\n",
      "elasped_m3 -3.778e+05  2.309e+05    -1.6363     0.1019  -8.306e+05   7.499e+04\n",
      "elasped_m2  -1.49e+05  3.948e+05    -0.3775     0.7058  -9.233e+05   6.252e+05\n",
      "elasped_m1  4.556e+05  2.829e+05     1.6107     0.1074  -9.912e+04    1.01e+06\n",
      "elasped_0   3.893e+05  2.789e+05     1.3956     0.1630  -1.577e+05   9.363e+05\n",
      "elasped_1   6.632e+05  3.503e+05     1.8934     0.0584  -2.371e+04    1.35e+06\n",
      "elasped_2   3.156e+05  4.373e+05     0.7218     0.4705  -5.419e+05   1.173e+06\n",
      "elasped_3  -1.301e+05  3.957e+05    -0.3287     0.7424  -9.061e+05   6.459e+05\n",
      "elasped_4  -4.425e+05  3.859e+05    -1.1466     0.2517  -1.199e+06   3.143e+05\n",
      "elasped_5  -7.083e+05  5.004e+05    -1.4155     0.1571   -1.69e+06    2.73e+05\n",
      "elasped_6  -3.869e+05  2.703e+05    -1.4314     0.1525  -9.169e+05   1.432e+05\n",
      "elasped_7  -3.205e+05  4.399e+05    -0.7286     0.4663  -1.183e+06   5.422e+05\n",
      "elasped_8  -7.862e+04  3.607e+05    -0.2180     0.8275   -7.86e+05   6.287e+05\n",
      "elasped_9   6.468e+05  4.645e+05     1.3925     0.1639  -2.641e+05   1.558e+06\n",
      "elasped_10  1.191e+06  5.495e+05     2.1680     0.0303   1.137e+05   2.269e+06\n",
      "elasped_11  1.304e+06  5.933e+05     2.1973     0.0281   1.401e+05   2.467e+06\n",
      "elasped_12  1.353e+06  4.427e+05     3.0559     0.0023   4.847e+05   2.221e+06\n",
      "elasped_13  1.228e+06  4.164e+05     2.9499     0.0032   4.118e+05   2.045e+06\n",
      "elasped_14  5.585e+05   1.72e+05     3.2470     0.0012   2.212e+05   8.958e+05\n",
      "elasped_15  5.096e+04  2.464e+05     0.2068     0.8361  -4.322e+05   5.342e+05\n",
      "==============================================================================\n",
      "                          PanelOLS Estimation Summary                           \n",
      "================================================================================\n",
      "Dep. Variable:                otc_dom   R-squared:                        0.4652\n",
      "Estimator:                   PanelOLS   R-squared (Between):             -1.1387\n",
      "No. Observations:                2339   R-squared (Within):               0.5377\n",
      "Date:                Fri, Aug 18 2023   R-squared (Overall):              0.3506\n",
      "Time:                        13:39:06   Log-likelihood                -3.474e+04\n",
      "Cov. Estimator:             Clustered                                           \n",
      "                                        F-statistic:                      88.007\n",
      "Entities:                          27   P-value                           0.0000\n",
      "Avg Obs:                       86.630   Distribution:                 F(21,2125)\n",
      "Min Obs:                       47.000                                           \n",
      "Max Obs:                       167.00   F-statistic (robust):             990.12\n",
      "                                        P-value                           0.0000\n",
      "Time periods:                     167   Distribution:                 F(21,2125)\n",
      "Avg Obs:                       14.006                                           \n",
      "Min Obs:                       5.0000                                           \n",
      "Max Obs:                       27.000                                           \n",
      "                                                                                \n",
      "================================================================================\n"
     ]
    },
    {
     "name": "stderr",
     "output_type": "stream",
     "text": [
      "C:\\Users\\hakos\\AppData\\Local\\Temp\\ipykernel_17712\\1328480728.py:14: AbsorbingEffectWarning: \n",
      "Variables have been fully absorbed and have removed from the regression:\n",
      "\n",
      "generic_per, year_trend\n",
      "\n",
      "  res_fe=mod_fe.fit(cov_type='clustered', cluster_entity=True)\n"
     ]
    }
   ],
   "source": [
    "\n",
    "formula=\"otc_dom ~ elasped_m5+elasped_m4+elasped_m3+elasped_m2+elasped_m1+elasped_0+elasped_1+elasped_2+elasped_3+elasped_4+elasped_5+elasped_6+elasped_7+elasped_8+elasped_9+elasped_10+elasped_11+elasped_12+elasped_13+elasped_14+elasped_15+generic_per+TimeEffects+EntityEffects\"\n",
    "# without stock lag\n",
    "# formula=\"otc_dom ~ elasped_m5+elasped_m4+elasped_m3+elasped_m2+elasped_0+elasped_1+elasped_2+elasped_3+elasped_4+elasped_5+elasped_6+elasped_7+elasped_8+elasped_9+elasped_10+elasped_11+elasped_12+elasped_13+elasped_14+elasped_15+generic_per+EntityEffects+TimeEffects\"\n",
    "\n",
    "# stock lag only\n",
    "# formula=\"otc_dom ~ stock_otc_lag+elasped_m5+elasped_m4+elasped_m3+elasped_m2+elasped_m1+elasped_0+elasped_1+elasped_2+elasped_3+elasped_4+elasped_5+elasped_6+elasped_7+elasped_8+elasped_9+elasped_10+elasped_11+elasped_12+elasped_13+elasped_14+elasped_15+generic_per+TimeEffects+EntityEffects\"\n",
    "\n",
    "# with months\n",
    "# formula+=months\n",
    "\n",
    "ytrend\n",
    "formula+=ytrend\n",
    "mod_fe=PanelOLS.from_formula(formula, data=df, drop_absorbed=True)\n",
    "res_fe=mod_fe.fit(cov_type='clustered', cluster_entity=True)\n",
    "print(res_fe.summary.tables[1])\n",
    "print(res_fe.summary.tables[0])"
   ]
  },
  {
   "cell_type": "code",
   "execution_count": 23,
   "metadata": {},
   "outputs": [
    {
     "name": "stdout",
     "output_type": "stream",
     "text": [
      "                                 Parameter Estimates                                 \n",
      "=====================================================================================\n",
      "                   Parameter  Std. Err.     T-stat    P-value    Lower CI    Upper CI\n",
      "-------------------------------------------------------------------------------------\n",
      "elasped_m5           -1.0392     0.5612    -1.8518     0.0642     -2.1397      0.0613\n",
      "elasped_m4           -0.8377     0.3316    -2.5264     0.0116     -1.4879     -0.1875\n",
      "elasped_m3           -0.5499     0.3196    -1.7208     0.0854     -1.1766      0.0768\n",
      "elasped_m2            0.0427     0.4712     0.0906     0.9278     -0.8813      0.9667\n",
      "elasped_m1           -0.1113     0.3590    -0.3101     0.7565     -0.8154      0.5927\n",
      "elasped_0            -0.1623     0.3345    -0.4851     0.6276     -0.8183      0.4937\n",
      "elasped_1            -0.0690     0.3937    -0.1754     0.8608     -0.8411      0.7030\n",
      "elasped_2            -0.8322     0.4139    -2.0104     0.0445     -1.6439     -0.0204\n",
      "elasped_3            -0.6672     0.5311    -1.2563     0.2092     -1.7087      0.3743\n",
      "elasped_4            -1.3156     0.4455    -2.9532     0.0032     -2.1892     -0.4419\n",
      "elasped_5            -1.3175     0.4619    -2.8523     0.0044     -2.2234     -0.4117\n",
      "elasped_6            -0.5350     0.3978    -1.3449     0.1788     -1.3150      0.2451\n",
      "elasped_7            -0.6345     0.3333    -1.9035     0.0571     -1.2881      0.0192\n",
      "elasped_8            -0.5804     0.2863    -2.0274     0.0427     -1.1418     -0.0190\n",
      "elasped_9            -0.6113     0.4043    -1.5119     0.1307     -1.4043      0.1816\n",
      "elasped_10           -0.8052     0.4689    -1.7173     0.0861     -1.7248      0.1143\n",
      "elasped_11           -0.6923     0.5400    -1.2818     0.2000     -1.7513      0.3668\n",
      "elasped_12           -1.0679     0.3753    -2.8457     0.0045     -1.8039     -0.3320\n",
      "elasped_13           -1.2053     0.3979    -3.0291     0.0025     -1.9856     -0.4250\n",
      "elasped_14           -1.1947     0.3518    -3.3961     0.0007     -1.8846     -0.5048\n",
      "elasped_15           -1.1630     0.2762    -4.2103     0.0000     -1.7047     -0.6213\n",
      "elasped_16           -0.8894     0.2137    -4.1622     0.0000     -1.3084     -0.4703\n",
      "elasped_17            0.0132     0.2273     0.0579     0.9539     -0.4327      0.4590\n",
      "elasped_18            0.3608     0.3016     1.1964     0.2317     -0.2306      0.9522\n",
      "elasped_19            0.6404     0.3629     1.7646     0.0778     -0.0713      1.3521\n",
      "elasped_20            0.6458     0.2114     3.0547     0.0023      0.2312      1.0603\n",
      "log_stock_otc_lag     0.3458     0.1051     3.2912     0.0010      0.1398      0.5519\n",
      "=====================================================================================\n",
      "                          PanelOLS Estimation Summary                           \n",
      "================================================================================\n",
      "Dep. Variable:            log_otc_dom   R-squared:                        0.1046\n",
      "Estimator:                   PanelOLS   R-squared (Between):              0.4067\n",
      "No. Observations:                2339   R-squared (Within):               0.3351\n",
      "Date:                Fri, Aug 18 2023   R-squared (Overall):              0.3964\n",
      "Time:                        13:39:15   Log-likelihood                   -3932.6\n",
      "Cov. Estimator:             Clustered                                           \n",
      "                                        F-statistic:                      9.1670\n",
      "Entities:                          27   P-value                           0.0000\n",
      "Avg Obs:                       86.630   Distribution:                 F(27,2119)\n",
      "Min Obs:                       47.000                                           \n",
      "Max Obs:                       167.00   F-statistic (robust):          1.466e+11\n",
      "                                        P-value                           0.0000\n",
      "Time periods:                     167   Distribution:                 F(27,2119)\n",
      "Avg Obs:                       14.006                                           \n",
      "Min Obs:                       5.0000                                           \n",
      "Max Obs:                       27.000                                           \n",
      "                                                                                \n",
      "================================================================================\n"
     ]
    },
    {
     "name": "stderr",
     "output_type": "stream",
     "text": [
      "C:\\Users\\hakos\\AppData\\Local\\Temp\\ipykernel_17712\\2913409798.py:19: AbsorbingEffectWarning: \n",
      "Variables have been fully absorbed and have removed from the regression:\n",
      "\n",
      "generic_per, year_trend\n",
      "\n",
      "  res_fe=mod_fe.fit(cov_type='clustered', cluster_entity=True)\n"
     ]
    }
   ],
   "source": [
    "# take log\n",
    "\n",
    "# till 20\n",
    "formula=\"log_otc_dom ~ elasped_m5+elasped_m4+elasped_m3+elasped_m2+elasped_m1+elasped_0+elasped_1+elasped_2+elasped_3+elasped_4+elasped_5+elasped_6+elasped_7+elasped_8+elasped_9+elasped_10+elasped_11+elasped_12+elasped_13+elasped_14+elasped_15+elasped_16+elasped_17+elasped_18+elasped_19+elasped_20+generic_per+TimeEffects+EntityEffects\"\n",
    "\n",
    "# till 15\n",
    "# formula=\"log_otc_dom ~ generic_per+elasped_m5+elasped_m4+elasped_m3+elasped_m2+elasped_m1+elasped_0+elasped_1+elasped_2+elasped_3+elasped_4+elasped_5+elasped_6+elasped_7+elasped_8+elasped_9+elasped_10+elasped_11+elasped_12+elasped_13+elasped_14+elasped_15+TimeEffects+EntityEffects\"\n",
    "\n",
    "# add lagged stock\n",
    "formula+=\"+log_stock_otc_lag\"\n",
    "\n",
    "# with month dummies\n",
    "# formula+=months\n",
    "\n",
    "# ytrend\n",
    "formula+=ytrend\n",
    "\n",
    "mod_fe=PanelOLS.from_formula(formula, data=df,drop_absorbed=True)\n",
    "res_fe=mod_fe.fit(cov_type='clustered', cluster_entity=True)\n",
    "# res_fe=mod_fe.fit()\n",
    "print(res_fe.summary.tables[1])\n",
    "print(res_fe.summary.tables[0])\n",
    "# print(res_fe)"
   ]
  },
  {
   "cell_type": "code",
   "execution_count": 24,
   "metadata": {},
   "outputs": [
    {
     "data": {
      "image/png": "[encoded data removed]",
      "text/plain": [
       "<Figure size 720x432 with 1 Axes>"
      ]
     },
     "metadata": {
      "needs_background": "light"
     },
     "output_type": "display_data"
    }
   ],
   "source": [
    "# 天才やん\n",
    "summary_table=pd.DataFrame(res_fe.summary.tables[1].data[2:28],columns=res_fe.summary.tables[1].data[0])\n",
    "summary_table[\"Time\"]=np.array(list(range(-5,21)))\n",
    "# make each column of summary_table numeric\n",
    "summary_table=summary_table.apply(pd.to_numeric, errors='ignore')\n",
    "plt.figure(figsize=(10, 6))  # Adjust figure size as needed\n",
    "\n",
    "# Plot coefficients as points\n",
    "plt.plot(summary_table['Time'], summary_table[\"Parameter\"], 'o-', label='Coefficients', color='b')\n",
    "\n",
    "# Plot confidence intervals as error bars\n",
    "plt.errorbar(summary_table['Time'], summary_table[\"Parameter\"],\n",
    "             yerr=[summary_table[\"Parameter\"] - summary_table['Lower CI'],\n",
    "                   summary_table['Upper CI'] - summary_table[\"Parameter\"]],\n",
    "             fmt='none', ecolor='orange', elinewidth=2, capsize=4, label='Confidence Intervals')\n",
    "\n",
    "plt.xlabel('Time')\n",
    "plt.ylabel(\"Parameter\")\n",
    "plt.title('Event Study Coefficients with Confidence Intervals')\n",
    "plt.legend()\n",
    "plt.grid(True)\n",
    "plt.show()"
   ]
  }
 ],
 "metadata": {
  "kernelspec": {
   "display_name": "Python 3",
   "language": "python",
   "name": "python3"
  },
  "language_info": {
   "codemirror_mode": {
    "name": "ipython",
    "version": 3
   },
   "file_extension": ".py",
   "mimetype": "text/x-python",
   "name": "python",
   "nbconvert_exporter": "python",
   "pygments_lexer": "ipython3",
   "version": "3.10.4"
  },
  "orig_nbformat": 4
 },
 "nbformat": 4,
 "nbformat_minor": 2
}
