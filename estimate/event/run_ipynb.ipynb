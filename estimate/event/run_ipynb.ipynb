{
 "cells": [
  {
   "cell_type": "code",
   "execution_count": 5,
   "metadata": {},
   "outputs": [
    {
     "name": "stdout",
     "output_type": "stream",
     "text": [
      "Executed: ./estimate_ndb.ipynb\n",
      "Executed: ./estimate_ndb_all.ipynb\n",
      "Executed: ./estimate_ndb_in_oral.ipynb\n",
      "Executed: ./estimate_panel.ipynb\n",
      "Executed: ./estimate_panel_mon.ipynb\n",
      "Executed: ./estimate_panel_mon_prod.ipynb\n",
      "Executed: ./estimate_panel_mon_prod_Q.ipynb\n",
      "Executed: ./estimate_panel_mon_prod_Y.ipynb\n",
      "Executed: ./estimate_panel_mon_Q.ipynb\n",
      "Executed: ./estimate_panel_mon_Y.ipynb\n",
      "Executed: ./estimate_panel_prod.ipynb\n",
      "Executed: ./plot_png.ipynb\n"
     ]
    }
   ],
   "source": [
    "import os\n",
    "import subprocess\n",
    "\n",
    "# 実行したいノートブックがあるディレクトリ\n",
    "directory = './'\n",
    "\n",
    "# ディレクトリ内の全ての.ipynbファイルを取得\n",
    "for filename in os.listdir(directory):\n",
    "    if filename.endswith(\".ipynb\"):\n",
    "        # ファイルのフルパスを取得\n",
    "        file_path = os.path.join(directory, filename)\n",
    "        if filename !=\"run_ipynb.ipynb\":\n",
    "        # ノートブックを実行\n",
    "            subprocess.check_call([\"jupyter\", \"nbconvert\", \"--execute\", file_path,\"--to\",\"notebook\",\"--inplace\"])\n",
    "            print(\"Executed: {}\".format(file_path))"
   ]
  }
 ],
 "metadata": {
  "kernelspec": {
   "display_name": "Python 3",
   "language": "python",
   "name": "python3"
  },
  "language_info": {
   "codemirror_mode": {
    "name": "ipython",
    "version": 3
   },
   "file_extension": ".py",
   "mimetype": "text/x-python",
   "name": "python",
   "nbconvert_exporter": "python",
   "pygments_lexer": "ipython3",
   "version": "3.10.4"
  }
 },
 "nbformat": 4,
 "nbformat_minor": 2
}
