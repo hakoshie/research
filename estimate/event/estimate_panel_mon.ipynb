{
 "cells": [
  {
   "cell_type": "code",
   "execution_count": 34,
   "metadata": {},
   "outputs": [],
   "source": [
    "import pandas as pd\n",
    "import numpy as np\n",
    "import statsmodels.api as sm\n",
    "from linearmodels.panel.data import PanelData\n",
    "from linearmodels.panel import PanelOLS, PooledOLS, RandomEffects, compare\n",
    "import matplotlib.pyplot as plt"
   ]
  },
  {
   "cell_type": "code",
   "execution_count": 35,
   "metadata": {},
   "outputs": [],
   "source": [
    "def plot_result(result,start_from=1,period=25,insert_index=9,time_start=-10,file_name=\"result\",title=\"Event Study Coefficients with Confidence Intervals\"):\n",
    "    summary_table=pd.DataFrame(result.summary.tables[1].data[start_from:start_from+period],columns=result.summary.tables[1].data[0])\n",
    "    new_row=[0]*len(summary_table.columns)\n",
    "    # insert_index = 4\n",
    "    summary_table = pd.concat([summary_table.iloc[:insert_index], pd.DataFrame([new_row],columns=summary_table.columns), summary_table.iloc[insert_index:]]).reset_index(drop=True)\n",
    "\n",
    "    summary_table[\"Time\"]=np.array(list(range(time_start,period+time_start+1)))\n",
    "    # make each column of summary_table numeric\n",
    "    summary_table=summary_table.apply(pd.to_numeric, errors='ignore')\n",
    "    plt.figure(figsize=(10, 6))  # Adjust figure size as needed\n",
    "\n",
    "    # Plot coefficients as points\n",
    "    plt.plot(summary_table['Time'], summary_table[\"Parameter\"], 'o-', label='Coefficients', color='b')\n",
    "\n",
    "    # Plot confidence intervals as error bars\n",
    "    # plt.errorbar(summary_table['Time'], summary_table[\"Parameter\"],\n",
    "    #              yerr=[summary_table[\"Parameter\"] - summary_table['Lower CI'],\n",
    "    #                    summary_table['Upper CI'] - summary_table[\"Parameter\"]],\n",
    "    #              fmt='none', ecolor='orange', elinewidth=2, capsize=4, label='Confidence Intervals')\n",
    "\n",
    "    plt.fill_between(summary_table['Time'], summary_table['Lower CI'], summary_table['Upper CI'], color='orange', alpha=0.3, label='Confidence Intervals')\n",
    "\n",
    "    plt.xlabel('Time')\n",
    "    # Set y-axis properties\n",
    "    plt.ylim(-3, 3)  # Set the y-axis limits    \n",
    "    plt.ylabel(\"Parameter\")\n",
    "    plt.title(title)\n",
    "    plt.legend()\n",
    "    plt.grid(True)\n",
    "    plt.savefig(\"./plots/{}.png\".format(file_name),dpi=300,bbox_inches=\"tight\",transparent=False,facecolor=\"white\")\n",
    "    plt.show()\n",
    "    # return summary_table"
   ]
  },
  {
   "cell_type": "code",
   "execution_count": 36,
   "metadata": {},
   "outputs": [],
   "source": [
    "df=pd.read_csv(\"../../data/merged/len3_ship_mon_agg_drop_never.csv\",encoding=\"shift-jis\",index_col=0)"
   ]
  },
  {
   "cell_type": "markdown",
   "metadata": {},
   "source": [
    "Estimation"
   ]
  },
  {
   "cell_type": "code",
   "execution_count": 37,
   "metadata": {},
   "outputs": [
    {
     "data": {
      "text/plain": [
       "0       1\n",
       "1       0\n",
       "2       0\n",
       "3       0\n",
       "4       0\n",
       "       ..\n",
       "5867    0\n",
       "5868    0\n",
       "5869    0\n",
       "5870    0\n",
       "5871    0\n",
       "Name: mon_1, Length: 5872, dtype: uint8"
      ]
     },
     "execution_count": 37,
     "metadata": {},
     "output_type": "execute_result"
    }
   ],
   "source": [
    "df=pd.concat([df,pd.get_dummies(df[\"month\"],prefix=\"mon\")],axis=1)\n",
    "df[\"mon_1\"]"
   ]
  },
  {
   "cell_type": "code",
   "execution_count": 38,
   "metadata": {},
   "outputs": [],
   "source": [
    "# normalization of year\n",
    "# 2008で正規化するかで結構estimateが変わります、1ぐらい\n",
    "# df[\"year\"]=df[\"year\"]-2008\n",
    "\n",
    "#前処理\n",
    "df.replace('-',\"0\",inplace=True)\n",
    "df[\"otc_dom\"].replace(\",\",\"\",regex=True,inplace=True)\n",
    "df[\"rx_dom\"].replace(\",\",\"\",regex=True,inplace=True)\n",
    "df[\"stock_otc_lag\"].replace(\",\",\"\",regex=True,inplace=True)\n",
    "df[\"stock_rx_lag\"].replace(\",\",\"\",regex=True,inplace=True)\n",
    "# fillna\n",
    "df[\"otc_dom\"].fillna(0,inplace=True)\n",
    "df[\"rx_dom\"].fillna(0,inplace=True)\n",
    "df[\"stock_otc_lag\"].fillna(0,inplace=True)\n",
    "df[\"stock_rx_lag\"].fillna(0,inplace=True)\n",
    "\n",
    "df[\"otc_dom\"]=df[\"otc_dom\"].astype(int)\n",
    "df[\"rx_dom\"]=df[\"rx_dom\"].astype(int)\n",
    "df[\"stock_otc_lag\"]=df[\"stock_otc_lag\"].astype(int)\n",
    "df[\"stock_rx_lag\"]=df[\"stock_rx_lag\"].astype(float)\n",
    "#ここはかなり重要でセレクションバイアスみたいなので有意性が変わるらしい\n",
    "df=df.loc[df[\"otc_dom\"]>0]\n",
    "df=df.loc[df[\"rx_dom\"]>0]\n",
    "df=df.loc[df[\"stock_otc_lag\"]>0]\n",
    "df=df.loc[df[\"stock_rx_lag\"]>0]\n",
    "\n",
    "# make log columns\n",
    "df[\"log_rx_dom\"]=np.log(df[\"rx_dom\"])\n",
    "df[\"log_otc_dom\"]=np.log(df[\"otc_dom\"])\n",
    "df[\"log_stock_rx_lag\"]=np.log(df[\"stock_rx_lag\"])\n",
    "df[\"log_stock_otc_lag\"]=np.log(df[\"stock_otc_lag\"])\n",
    "\n",
    "# make year trend\n",
    "df[\"year_trend\"]=df[\"year\"]-2008"
   ]
  },
  {
   "cell_type": "code",
   "execution_count": 39,
   "metadata": {},
   "outputs": [
    {
     "name": "stdout",
     "output_type": "stream",
     "text": [
      "<class 'pandas.core.frame.DataFrame'>\n",
      "MultiIndex: 2339 entries, (114, Timestamp('2009-11-26 00:00:00')) to (799, Timestamp('2022-12-26 00:00:00'))\n",
      "Columns: 125 entries, year to year_trend\n",
      "dtypes: float64(11), int32(3), int64(93), object(6), uint8(12)\n",
      "memory usage: 2.0+ MB\n"
     ]
    },
    {
     "data": {
      "text/plain": [
       "(125, 167, 27)"
      ]
     },
     "execution_count": 39,
     "metadata": {},
     "output_type": "execute_result"
    }
   ],
   "source": [
    "# change to the datetime format\n",
    "df['year_month'] = pd.to_datetime(df[['year', 'month']].assign(day=26))\n",
    "df=df.set_index([\"id\",\"year_month\"])\n",
    "\n",
    "df.info()\n",
    "# make this to paneldata\n",
    "df=PanelData(df,convert_dummies=False)\n",
    "df.shape"
   ]
  },
  {
   "cell_type": "code",
   "execution_count": 40,
   "metadata": {},
   "outputs": [],
   "source": [
    "months=\"+mon_1+mon_2+mon_3+mon_4+mon_5+mon_6+mon_7+mon_8+mon_9+mon_10+mon_11\"\n",
    "ytrend=\"+year_trend\""
   ]
  },
  {
   "cell_type": "markdown",
   "metadata": {},
   "source": [
    "stockのlag(むしろgeneric?)とtime effectは共存できないらしい"
   ]
  },
  {
   "cell_type": "markdown",
   "metadata": {},
   "source": [
    "## RX"
   ]
  },
  {
   "cell_type": "code",
   "execution_count": 41,
   "metadata": {},
   "outputs": [],
   "source": [
    "# formula=\"rx_dom ~ +elasped_m10+elasped_m9+elasped_m8+elasped_m7+elasped_m6+elasped_m5+elasped_m4+elasped_m3+elasped_m2+elasped_0+elasped_1+elasped_2+elasped_3+elasped_4+elasped_5+elasped_6+elasped_7+elasped_8+elasped_9+elasped_10+elasped_11+elasped_12+elasped_13+elasped_14+elasped_15+generic_per+TimeEffects+EntityEffects\"\n",
    "\n",
    "# # stock lag\n",
    "# # formula=\"rx_dom ~ elasped_m5+elasped_m4+elasped_m3+elasped_m2+elasped_0+elasped_1+elasped_2+elasped_3+elasped_4+elasped_5+elasped_6+elasped_7+elasped_8+elasped_9+elasped_10+elasped_11+elasped_12+elasped_13+elasped_14+elasped_15+generic_per+stock_rx_lag+TimeEffects+EntityEffects\"\n",
    "\n",
    "# # with month dummies\n",
    "# # formula+=months\n",
    "\n",
    "# # ytrend\n",
    "# # formula+=ytrend\n",
    "\n",
    "# # mod_fe=PanelOLS.from_formula(formula, data=df,check_rank=False,drop_absorbed=True)\n",
    "# # drop_absorbed=True\n",
    "# mod_fe=PanelOLS.from_formula(formula, data=df,check_rank=False,drop_absorbed=True)\n",
    "# res_fe=mod_fe.fit(cov_type='clustered', cluster_entity=True)\n",
    "# print(res_fe.summary.tables[1])\n",
    "# # print(res_fe.summary.tables[0])\n",
    "# plot_result(res_fe,file_name=\"rx_mon\",title=\"rx_mon\")"
   ]
  },
  {
   "cell_type": "code",
   "execution_count": 42,
   "metadata": {},
   "outputs": [
    {
     "name": "stdout",
     "output_type": "stream",
     "text": [
      "                              Parameter Estimates                              \n",
      "===============================================================================\n",
      "             Parameter  Std. Err.     T-stat    P-value    Lower CI    Upper CI\n",
      "-------------------------------------------------------------------------------\n",
      "elasped_m10    -0.2949     0.2700    -1.0920     0.2749     -0.8244      0.2346\n",
      "elasped_m9     -0.3495     0.2295    -1.5228     0.1279     -0.7996      0.1006\n",
      "elasped_m8     -0.2585     0.1978    -1.3066     0.1915     -0.6464      0.1295\n",
      "elasped_m7     -0.4089     0.2319    -1.7634     0.0780     -0.8637      0.0458\n",
      "elasped_m6     -0.3415     0.1515    -2.2540     0.0243     -0.6386     -0.0444\n",
      "elasped_m5     -0.2239     0.1647    -1.3595     0.1741     -0.5468      0.0991\n",
      "elasped_m4     -0.4066     0.1643    -2.4757     0.0134     -0.7288     -0.0845\n",
      "elasped_m3     -0.1120     0.1296    -0.8638     0.3878     -0.3662      0.1422\n",
      "elasped_m2     -0.1418     0.0758    -1.8701     0.0616     -0.2905      0.0069\n",
      "elasped_0      -0.2238     0.0567    -3.9472     0.0001     -0.3350     -0.1126\n",
      "elasped_1      -0.1291     0.0543    -2.3762     0.0176     -0.2357     -0.0226\n",
      "elasped_2      -0.0709     0.0597    -1.1874     0.2352     -0.1880      0.0462\n",
      "elasped_3       0.0712     0.0519     1.3707     0.1706     -0.0307      0.1730\n",
      "elasped_4       0.1376     0.0506     2.7168     0.0066      0.0383      0.2369\n",
      "elasped_5       0.0961     0.0855     1.1242     0.2610     -0.0715      0.2637\n",
      "elasped_6       0.0951     0.0717     1.3269     0.1847     -0.0455      0.2358\n",
      "elasped_7       0.0891     0.0774     1.1515     0.2496     -0.0627      0.2410\n",
      "elasped_8       0.0282     0.1061     0.2658     0.7904     -0.1798      0.2362\n",
      "elasped_9      -0.0037     0.0805    -0.0463     0.9631     -0.1615      0.1541\n",
      "elasped_10     -0.0747     0.0685    -1.0900     0.2758     -0.2091      0.0597\n",
      "elasped_11     -0.0282     0.0781    -0.3612     0.7179     -0.1813      0.1249\n",
      "elasped_12     -0.1281     0.0692    -1.8522     0.0641     -0.2638      0.0075\n",
      "elasped_13     -0.0188     0.0859    -0.2184     0.8271     -0.1873      0.1497\n",
      "elasped_14      0.0547     0.0657     0.8316     0.4057     -0.0742      0.1836\n",
      "elasped_15      0.0451     0.0657     0.6869     0.4922     -0.0837      0.1738\n",
      "===============================================================================\n",
      "                          PanelOLS Estimation Summary                           \n",
      "================================================================================\n",
      "Dep. Variable:             log_rx_dom   R-squared:                        0.0527\n",
      "Estimator:                   PanelOLS   R-squared (Between):             -0.0088\n",
      "No. Observations:                2339   R-squared (Within):               0.0364\n",
      "Date:                Wed, Sep 06 2023   R-squared (Overall):             -0.0104\n",
      "Time:                        08:52:26   Log-likelihood                   -927.66\n",
      "Cov. Estimator:             Clustered                                           \n",
      "                                        F-statistic:                      4.7233\n",
      "Entities:                          27   P-value                           0.0000\n",
      "Avg Obs:                       86.630   Distribution:                 F(25,2121)\n",
      "Min Obs:                       47.000                                           \n",
      "Max Obs:                       167.00   F-statistic (robust):             709.79\n",
      "                                        P-value                           0.0000\n",
      "Time periods:                     167   Distribution:                 F(25,2121)\n",
      "Avg Obs:                       14.006                                           \n",
      "Min Obs:                       5.0000                                           \n",
      "Max Obs:                       27.000                                           \n",
      "                                                                                \n",
      "================================================================================\n"
     ]
    },
    {
     "name": "stderr",
     "output_type": "stream",
     "text": [
      "C:\\Users\\hakos\\AppData\\Local\\Temp\\ipykernel_9528\\3043761385.py:13: AbsorbingEffectWarning: \n",
      "Variables have been fully absorbed and have removed from the regression:\n",
      "\n",
      "generic_per\n",
      "\n",
      "  res_fe=mod_fe.fit(cov_type='clustered', cluster_entity=True)\n"
     ]
    },
    {
     "data": {
      "image/png": "[encoded data removed]",
      "text/plain": [
       "<Figure size 720x432 with 1 Axes>"
      ]
     },
     "metadata": {
      "needs_background": "light"
     },
     "output_type": "display_data"
    }
   ],
   "source": [
    "# take log\n",
    "formula=\"log_rx_dom ~ elasped_m10+elasped_m9+elasped_m8+elasped_m7+elasped_m6+elasped_m5+elasped_m4+elasped_m3+elasped_m2+elasped_0+elasped_1+elasped_2+elasped_3+elasped_4+elasped_5+elasped_6+elasped_7+elasped_8+elasped_9+elasped_10+elasped_11+elasped_12+elasped_13+elasped_14+elasped_15+generic_per+TimeEffects+EntityEffects\"\n",
    "# stock lag version and month dummies\n",
    "# formula=\"log_rx_dom ~ generic_per+log_stock_rx_lag+elasped_m5+elasped_m4+elasped_m3+elasped_m2+elasped_0+elasped_1+elasped_2+elasped_3+elasped_4+elasped_5+elasped_6+elasped_7+elasped_8+elasped_9+elasped_10+elasped_11+elasped_12+elasped_13+elasped_14+elasped_15+TimeEffects+EntityEffects\"\n",
    "\n",
    "# with months\n",
    "# formula+=months\n",
    "\n",
    "# ytrend\n",
    "# formula+=ytrend\n",
    "\n",
    "mod_fe=PanelOLS.from_formula(formula, data=df,drop_absorbed=True,check_rank=False)\n",
    "res_fe=mod_fe.fit(cov_type='clustered', cluster_entity=True)\n",
    "print(res_fe.summary.tables[1])\n",
    "print(res_fe.summary.tables[0])\n",
    "plot_result(res_fe,file_name=\"rx_log_mon\",title=\"rx_log_mon\")"
   ]
  },
  {
   "cell_type": "markdown",
   "metadata": {},
   "source": [
    "### OTC"
   ]
  },
  {
   "cell_type": "code",
   "execution_count": 43,
   "metadata": {},
   "outputs": [],
   "source": [
    "\n",
    "# formula=\"otc_dom ~ elasped_m10+elasped_m9+elasped_m8+elasped_m7+elasped_m6+elasped_m5+elasped_m4+elasped_m3+elasped_m2+elasped_0+elasped_1+elasped_2+elasped_3+elasped_4+elasped_5+elasped_6+elasped_7+elasped_8+elasped_9+elasped_10+elasped_11+elasped_12+elasped_13+elasped_14+elasped_15+generic_per+TimeEffects+EntityEffects\"\n",
    "\n",
    "\n",
    "# # stock lag only\n",
    "# # formula+=\"+stock_otc_lag\"\n",
    "\n",
    "# # # with months\n",
    "# # formula+=months\n",
    "\n",
    "# # # ytrend\n",
    "# # formula+=ytrend\n",
    "\n",
    "\n",
    "# mod_fe=PanelOLS.from_formula(formula, data=df, drop_absorbed=True)\n",
    "# res_fe=mod_fe.fit(cov_type='clustered', cluster_entity=True)\n",
    "# print(res_fe.summary.tables[1])\n",
    "# print(res_fe.summary.tables[0])\n",
    "# plot_result(res_fe,file_name=\"otc_mon\",title=\"otc_mon\")"
   ]
  },
  {
   "cell_type": "code",
   "execution_count": 44,
   "metadata": {},
   "outputs": [
    {
     "name": "stderr",
     "output_type": "stream",
     "text": [
      "C:\\Users\\hakos\\AppData\\Local\\Temp\\ipykernel_9528\\3789889101.py:25: AbsorbingEffectWarning: \n",
      "Variables have been fully absorbed and have removed from the regression:\n",
      "\n",
      "generic_per\n",
      "\n",
      "  res_fe=mod_fe.fit(cov_type='clustered', cluster_entity=True)\n"
     ]
    },
    {
     "name": "stdout",
     "output_type": "stream",
     "text": [
      "                              Parameter Estimates                              \n",
      "===============================================================================\n",
      "             Parameter  Std. Err.     T-stat    P-value    Lower CI    Upper CI\n",
      "-------------------------------------------------------------------------------\n",
      "elasped_m10    -0.5474     0.8148    -0.6719     0.5017     -2.1453      1.0505\n",
      "elasped_m9     -1.6325     1.2382    -1.3184     0.1875     -4.0608      0.7958\n",
      "elasped_m8     -2.1315     1.1662    -1.8278     0.0677     -4.4185      0.1554\n",
      "elasped_m7     -2.8890     1.0734    -2.6915     0.0072     -4.9940     -0.7840\n",
      "elasped_m6     -1.1011     0.9736    -1.1309     0.2582     -3.0105      0.8083\n",
      "elasped_m5     -2.1789     0.9468    -2.3014     0.0215     -4.0356     -0.3222\n",
      "elasped_m4     -1.8950     0.5971    -3.1737     0.0015     -3.0659     -0.7240\n",
      "elasped_m3     -1.1298     0.4685    -2.4113     0.0160     -2.0486     -0.2109\n",
      "elasped_m2     -0.4531     0.3458    -1.3106     0.1901     -1.1312      0.2249\n",
      "elasped_0      -0.6883     0.4158    -1.6553     0.0980     -1.5038      0.1272\n",
      "elasped_1      -0.5909     0.4728    -1.2498     0.2115     -1.5181      0.3363\n",
      "elasped_2      -0.9184     0.6159    -1.4912     0.1361     -2.1261      0.2894\n",
      "elasped_3      -0.4208     0.4875    -0.8631     0.3882     -1.3768      0.5353\n",
      "elasped_4      -0.3826     0.4061    -0.9422     0.3462     -1.1791      0.4138\n",
      "elasped_5      -0.5733     0.3996    -1.4348     0.1515     -1.3570      0.2103\n",
      "elasped_6       0.0965     0.3499     0.2756     0.7828     -0.5898      0.7827\n",
      "elasped_7      -0.2205     0.2101    -1.0494     0.2941     -0.6326      0.1916\n",
      "elasped_8      -1.0302     0.3017    -3.4140     0.0007     -1.6219     -0.4384\n",
      "elasped_9      -0.9961     0.3313    -3.0065     0.0027     -1.6458     -0.3463\n",
      "elasped_10     -1.1058     0.5525    -2.0015     0.0455     -2.1892     -0.0224\n",
      "elasped_11     -0.9814     0.5646    -1.7381     0.0823     -2.0887      0.1259\n",
      "elasped_12     -1.1567     0.5412    -2.1372     0.0327     -2.2181     -0.0953\n",
      "elasped_13     -1.0767     0.6500    -1.6566     0.0977     -2.3514      0.1979\n",
      "elasped_14     -0.7658     0.4471    -1.7128     0.0869     -1.6427      0.1110\n",
      "elasped_15     -0.7693     0.2842    -2.7066     0.0069     -1.3268     -0.2119\n",
      "===============================================================================\n",
      "                          PanelOLS Estimation Summary                           \n",
      "================================================================================\n",
      "Dep. Variable:            log_otc_dom   R-squared:                        0.0723\n",
      "Estimator:                   PanelOLS   R-squared (Between):             -0.3214\n",
      "No. Observations:                2339   R-squared (Within):               0.0820\n",
      "Date:                Wed, Sep 06 2023   R-squared (Overall):             -0.3324\n",
      "Time:                        08:52:26   Log-likelihood                   -3974.0\n",
      "Cov. Estimator:             Clustered                                           \n",
      "                                        F-statistic:                      6.6140\n",
      "Entities:                          27   P-value                           0.0000\n",
      "Avg Obs:                       86.630   Distribution:                 F(25,2121)\n",
      "Min Obs:                       47.000                                           \n",
      "Max Obs:                       167.00   F-statistic (robust):          1.595e+05\n",
      "                                        P-value                           0.0000\n",
      "Time periods:                     167   Distribution:                 F(25,2121)\n",
      "Avg Obs:                       14.006                                           \n",
      "Min Obs:                       5.0000                                           \n",
      "Max Obs:                       27.000                                           \n",
      "                                                                                \n",
      "================================================================================\n"
     ]
    },
    {
     "data": {
      "image/png": "[encoded data removed]",
      "text/plain": [
       "<Figure size 720x432 with 1 Axes>"
      ]
     },
     "metadata": {
      "needs_background": "light"
     },
     "output_type": "display_data"
    }
   ],
   "source": [
    "# take log\n",
    "\n",
    "# till 20\n",
    "# formula=\"log_otc_dom ~ elasped_m5+elasped_m4+elasped_m3+elasped_m2+elasped_0+elasped_1+elasped_2+elasped_3+elasped_4+elasped_5+elasped_6+elasped_7+elasped_8+elasped_9+elasped_10+elasped_11+elasped_12+elasped_13+elasped_14+elasped_15+elasped_16+elasped_17+elasped_18+elasped_19+elasped_20+generic_per+TimeEffects+EntityEffects\"\n",
    "\n",
    "# till 15\n",
    "formula=\"log_otc_dom ~ elasped_m10+elasped_m9+elasped_m8+elasped_m7+elasped_m6+elasped_m5+elasped_m4+elasped_m3+elasped_m2+elasped_0+elasped_1+elasped_2+elasped_3+elasped_4+elasped_5+elasped_6+elasped_7+elasped_8+elasped_9+elasped_10+elasped_11+elasped_12+elasped_13+elasped_14+elasped_15\"\n",
    "\n",
    "# gemeric_per\n",
    "formula+=\" + generic_per\"\n",
    "\n",
    "# fixed effects\n",
    "formula+=\" + EntityEffects + TimeEffects\"\n",
    "\n",
    "# add lagged stock\n",
    "# formula+=\"+log_stock_otc_lag\"\n",
    "\n",
    "# with month dummies\n",
    "# formula+=months\n",
    "\n",
    "# ytrend\n",
    "# formula+=ytrend\n",
    "\n",
    "mod_fe=PanelOLS.from_formula(formula, data=df,drop_absorbed=True)\n",
    "res_fe=mod_fe.fit(cov_type='clustered', cluster_entity=True)\n",
    "# res_fe=mod_fe.fit()\n",
    "print(res_fe.summary.tables[1])\n",
    "print(res_fe.summary.tables[0])\n",
    "# print(res_fe)\n",
    "plot_result(res_fe,file_name=\"otc_log_mon\",title=\"otc_log_mon\")"
   ]
  }
 ],
 "metadata": {
  "kernelspec": {
   "display_name": "Python 3",
   "language": "python",
   "name": "python3"
  },
  "language_info": {
   "codemirror_mode": {
    "name": "ipython",
    "version": 3
   },
   "file_extension": ".py",
   "mimetype": "text/x-python",
   "name": "python",
   "nbconvert_exporter": "python",
   "pygments_lexer": "ipython3",
   "version": "3.10.4"
  },
  "orig_nbformat": 4
 },
 "nbformat": 4,
 "nbformat_minor": 2
}
