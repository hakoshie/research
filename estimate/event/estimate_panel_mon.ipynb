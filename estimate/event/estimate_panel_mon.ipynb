{
 "cells": [
  {
   "cell_type": "code",
   "execution_count": 1,
   "metadata": {},
   "outputs": [],
   "source": [
    "import pandas as pd\n",
    "import numpy as np\n",
    "import statsmodels.api as sm\n",
    "from linearmodels.panel.data import PanelData\n",
    "from linearmodels.panel import PanelOLS, PooledOLS, RandomEffects, compare\n",
    "import matplotlib.pyplot as plt"
   ]
  },
  {
   "cell_type": "code",
   "execution_count": 2,
   "metadata": {},
   "outputs": [],
   "source": [
    "def plot_result(result,start_from=1,period=25,insert_index=9,time_start=-10,file_name=\"result\",title=\"Event Study Coefficients with Confidence Intervals\"):\n",
    "    summary_table=pd.DataFrame(result.summary.tables[1].data[start_from:start_from+period],columns=result.summary.tables[1].data[0])\n",
    "    new_row=[0]*len(summary_table.columns)\n",
    "    # insert_index = 4\n",
    "    summary_table = pd.concat([summary_table.iloc[:insert_index], pd.DataFrame([new_row],columns=summary_table.columns), summary_table.iloc[insert_index:]]).reset_index(drop=True)\n",
    "\n",
    "    summary_table[\"Time\"]=np.array(list(range(time_start,period+time_start+1)))\n",
    "    # make each column of summary_table numeric\n",
    "    summary_table=summary_table.apply(pd.to_numeric, errors='ignore')\n",
    "    plt.figure(figsize=(10, 6))  # Adjust figure size as needed\n",
    "\n",
    "    # Plot coefficients as points\n",
    "    plt.plot(summary_table['Time'], summary_table[\"Parameter\"], 'o-', label='Coefficients', color='b')\n",
    "\n",
    "    # Plot confidence intervals as error bars\n",
    "    # plt.errorbar(summary_table['Time'], summary_table[\"Parameter\"],\n",
    "    #              yerr=[summary_table[\"Parameter\"] - summary_table['Lower CI'],\n",
    "    #                    summary_table['Upper CI'] - summary_table[\"Parameter\"]],\n",
    "    #              fmt='none', ecolor='orange', elinewidth=2, capsize=4, label='Confidence Intervals')\n",
    "\n",
    "    plt.fill_between(summary_table['Time'], summary_table['Lower CI'], summary_table['Upper CI'], color='orange', alpha=0.3, label='Confidence Intervals')\n",
    "\n",
    "    plt.xlabel('Time')\n",
    "    # Set y-axis properties\n",
    "    plt.ylim(-3, 3)  # Set the y-axis limits    \n",
    "    plt.ylabel(\"Parameter\")\n",
    "    plt.title(title)\n",
    "    plt.legend()\n",
    "    plt.grid(True)\n",
    "    plt.savefig(\"./plots/{}.png\".format(file_name),dpi=300,bbox_inches=\"tight\",transparent=False,facecolor=\"white\")\n",
    "    plt.show()\n",
    "    # return summary_table"
   ]
  },
  {
   "cell_type": "code",
   "execution_count": 3,
   "metadata": {},
   "outputs": [],
   "source": [
    "df=pd.read_csv(\"../../data/merged/len3_ship_mon_agg_drop_never.csv\",encoding=\"shift-jis\",index_col=0)"
   ]
  },
  {
   "cell_type": "markdown",
   "metadata": {},
   "source": [
    "Estimation"
   ]
  },
  {
   "cell_type": "code",
   "execution_count": 4,
   "metadata": {},
   "outputs": [
    {
     "data": {
      "text/plain": [
       "0       1\n",
       "1       0\n",
       "2       0\n",
       "3       0\n",
       "4       0\n",
       "       ..\n",
       "5531    0\n",
       "5532    0\n",
       "5533    0\n",
       "5534    0\n",
       "5535    0\n",
       "Name: mon_1, Length: 5536, dtype: uint8"
      ]
     },
     "execution_count": 4,
     "metadata": {},
     "output_type": "execute_result"
    }
   ],
   "source": [
    "df=pd.concat([df,pd.get_dummies(df[\"month\"],prefix=\"mon\")],axis=1)\n",
    "df[\"mon_1\"]"
   ]
  },
  {
   "cell_type": "code",
   "execution_count": 5,
   "metadata": {},
   "outputs": [],
   "source": [
    "# normalization of year\n",
    "# 2008で正規化するかで結構estimateが変わります、1ぐらい\n",
    "# df[\"year\"]=df[\"year\"]-2008\n",
    "\n",
    "#前処理\n",
    "df.replace('-',\"0\",inplace=True)\n",
    "df[\"otc_dom\"].replace(\",\",\"\",regex=True,inplace=True)\n",
    "df[\"rx_dom\"].replace(\",\",\"\",regex=True,inplace=True)\n",
    "df[\"stock_otc_lag\"].replace(\",\",\"\",regex=True,inplace=True)\n",
    "df[\"stock_rx_lag\"].replace(\",\",\"\",regex=True,inplace=True)\n",
    "# fillna\n",
    "df[\"otc_dom\"].fillna(0,inplace=True)\n",
    "df[\"rx_dom\"].fillna(0,inplace=True)\n",
    "df[\"stock_otc_lag\"].fillna(0,inplace=True)\n",
    "df[\"stock_rx_lag\"].fillna(0,inplace=True)\n",
    "\n",
    "df[\"otc_dom\"]=df[\"otc_dom\"].astype(int)\n",
    "df[\"rx_dom\"]=df[\"rx_dom\"].astype(int)\n",
    "df[\"stock_otc_lag\"]=df[\"stock_otc_lag\"].astype(int)\n",
    "df[\"stock_rx_lag\"]=df[\"stock_rx_lag\"].astype(float)\n",
    "#ここはかなり重要でセレクションバイアスみたいなので有意性が変わるらしい\n",
    "df=df.loc[df[\"otc_dom\"]>0]\n",
    "df=df.loc[df[\"rx_dom\"]>0]\n",
    "df=df.loc[df[\"stock_otc_lag\"]>0]\n",
    "df=df.loc[df[\"stock_rx_lag\"]>0]\n",
    "\n",
    "# make log columns\n",
    "df[\"log_rx_dom\"]=np.log(df[\"rx_dom\"])\n",
    "df[\"log_otc_dom\"]=np.log(df[\"otc_dom\"])\n",
    "df[\"log_stock_rx_lag\"]=np.log(df[\"stock_rx_lag\"])\n",
    "df[\"log_stock_otc_lag\"]=np.log(df[\"stock_otc_lag\"])\n",
    "\n",
    "# make year trend\n",
    "df[\"year_trend\"]=df[\"year\"]-2008"
   ]
  },
  {
   "cell_type": "code",
   "execution_count": 6,
   "metadata": {},
   "outputs": [
    {
     "name": "stdout",
     "output_type": "stream",
     "text": [
      "<class 'pandas.core.frame.DataFrame'>\n",
      "MultiIndex: 2188 entries, (114, Timestamp('2009-11-26 00:00:00')) to (799, Timestamp('2022-12-26 00:00:00'))\n",
      "Columns: 126 entries, year to year_trend\n",
      "dtypes: float64(14), int32(3), int64(91), object(6), uint8(12)\n",
      "memory usage: 1.9+ MB\n"
     ]
    },
    {
     "data": {
      "text/plain": [
       "(126, 167, 26)"
      ]
     },
     "execution_count": 6,
     "metadata": {},
     "output_type": "execute_result"
    }
   ],
   "source": [
    "# change to the datetime format\n",
    "df['year_month'] = pd.to_datetime(df[['year', 'month']].assign(day=26))\n",
    "df=df.set_index([\"id\",\"year_month\"])\n",
    "\n",
    "df.info()\n",
    "# make this to paneldata\n",
    "df=PanelData(df,convert_dummies=False)\n",
    "df.shape"
   ]
  },
  {
   "cell_type": "code",
   "execution_count": 7,
   "metadata": {},
   "outputs": [],
   "source": [
    "months=\"+mon_1+mon_2+mon_3+mon_4+mon_5+mon_6+mon_7+mon_8+mon_9+mon_10+mon_11\"\n",
    "ytrend=\"+year_trend\""
   ]
  },
  {
   "cell_type": "markdown",
   "metadata": {},
   "source": [
    "stockのlag(むしろgeneric?)とtime effectは共存できないらしい"
   ]
  },
  {
   "cell_type": "markdown",
   "metadata": {},
   "source": [
    "## RX"
   ]
  },
  {
   "cell_type": "code",
   "execution_count": 8,
   "metadata": {},
   "outputs": [],
   "source": [
    "# formula=\"rx_dom ~ +elasped_m10+elasped_m9+elasped_m8+elasped_m7+elasped_m6+elasped_m5+elasped_m4+elasped_m3+elasped_m2+elasped_0+elasped_1+elasped_2+elasped_3+elasped_4+elasped_5+elasped_6+elasped_7+elasped_8+elasped_9+elasped_10+elasped_11+elasped_12+elasped_13+elasped_14+elasped_15+generic_per+TimeEffects+EntityEffects\"\n",
    "\n",
    "# # stock lag\n",
    "# # formula=\"rx_dom ~ elasped_m5+elasped_m4+elasped_m3+elasped_m2+elasped_0+elasped_1+elasped_2+elasped_3+elasped_4+elasped_5+elasped_6+elasped_7+elasped_8+elasped_9+elasped_10+elasped_11+elasped_12+elasped_13+elasped_14+elasped_15+generic_per+stock_rx_lag+TimeEffects+EntityEffects\"\n",
    "\n",
    "# # with month dummies\n",
    "# # formula+=months\n",
    "\n",
    "# # ytrend\n",
    "# # formula+=ytrend\n",
    "\n",
    "# # mod_fe=PanelOLS.from_formula(formula, data=df,check_rank=False,drop_absorbed=True)\n",
    "# # drop_absorbed=True\n",
    "# mod_fe=PanelOLS.from_formula(formula, data=df,check_rank=False,drop_absorbed=True)\n",
    "# res_fe=mod_fe.fit(cov_type='clustered', cluster_entity=True)\n",
    "# print(res_fe.summary.tables[1])\n",
    "# # print(res_fe.summary.tables[0])\n",
    "# plot_result(res_fe,file_name=\"rx_mon\",title=\"rx_mon\")"
   ]
  },
  {
   "cell_type": "code",
   "execution_count": 12,
   "metadata": {},
   "outputs": [
    {
     "name": "stderr",
     "output_type": "stream",
     "text": [
      "C:\\Users\\hakos\\AppData\\Local\\Temp\\ipykernel_8956\\2029733755.py:20: AbsorbingEffectWarning: \n",
      "Variables have been fully absorbed and have removed from the regression:\n",
      "\n",
      "generic_per\n",
      "\n",
      "  res_fe=mod_fe.fit(cov_type='clustered', cluster_entity=True)\n"
     ]
    },
    {
     "name": "stdout",
     "output_type": "stream",
     "text": [
      "                                Parameter Estimates                                 \n",
      "====================================================================================\n",
      "                  Parameter  Std. Err.     T-stat    P-value    Lower CI    Upper CI\n",
      "------------------------------------------------------------------------------------\n",
      "elasped_m10         -0.3320     0.3264    -1.0173     0.3091     -0.9721      0.3080\n",
      "elasped_m9          -0.4075     0.2980    -1.3672     0.1717     -0.9919      0.1770\n",
      "elasped_m8          -0.3078     0.2126    -1.4482     0.1477     -0.7247      0.1091\n",
      "elasped_m7          -0.3832     0.2927    -1.3091     0.1907     -0.9572      0.1909\n",
      "elasped_m6          -0.3604     0.2283    -1.5785     0.1146     -0.8082      0.0874\n",
      "elasped_m5          -0.1183     0.1439    -0.8220     0.4112     -0.4006      0.1640\n",
      "elasped_m4          -0.3212     0.1953    -1.6443     0.1003     -0.7043      0.0619\n",
      "elasped_m3          -0.0311     0.1357    -0.2289     0.8190     -0.2972      0.2351\n",
      "elasped_m2          -0.1157     0.0725    -1.5957     0.1107     -0.2579      0.0265\n",
      "elasped_0           -0.1256     0.0510    -2.4626     0.0139     -0.2257     -0.0256\n",
      "elasped_1           -0.0159     0.0807    -0.1971     0.8438     -0.1741      0.1423\n",
      "elasped_2            0.0461     0.0727     0.6342     0.5260     -0.0964      0.1886\n",
      "elasped_3            0.1988     0.0906     2.1955     0.0282      0.0212      0.3765\n",
      "elasped_4            0.1298     0.0865     1.5002     0.1337     -0.0399      0.2996\n",
      "elasped_5            0.0547     0.0923     0.5931     0.5532     -0.1263      0.2358\n",
      "elasped_6            0.0284     0.0705     0.4033     0.6867     -0.1099      0.1668\n",
      "elasped_7            0.0075     0.0892     0.0840     0.9331     -0.1675      0.1825\n",
      "elasped_8            0.0137     0.1166     0.1177     0.9063     -0.2149      0.2423\n",
      "elasped_9            0.0305     0.0972     0.3134     0.7540     -0.1602      0.2211\n",
      "elasped_10           0.0171     0.0878     0.1954     0.8451     -0.1550      0.1893\n",
      "elasped_11           0.0708     0.1055     0.6717     0.5019     -0.1360      0.2777\n",
      "elasped_12          -0.0539     0.0975    -0.5521     0.5809     -0.2452      0.1374\n",
      "elasped_13          -0.0100     0.0843    -0.1182     0.9059     -0.1753      0.1553\n",
      "elasped_14           0.0707     0.0694     1.0196     0.3080     -0.0653      0.2068\n",
      "elasped_15           0.0439     0.0700     0.6272     0.5306     -0.0934      0.1812\n",
      "log_stock_rx_lag     0.0690     0.0694     0.9935     0.3206     -0.0672      0.2052\n",
      "generic_share_r     -3.7498     1.6411    -2.2849     0.0224     -6.9684     -0.5313\n",
      "generic_share_q      2.2762     1.1020     2.0654     0.0390      0.1149      4.4375\n",
      "====================================================================================\n",
      "                          PanelOLS Estimation Summary                           \n",
      "================================================================================\n",
      "Dep. Variable:             log_rx_dom   R-squared:                        0.1031\n",
      "Estimator:                   PanelOLS   R-squared (Between):              0.1407\n",
      "No. Observations:                2188   R-squared (Within):               0.0648\n",
      "Date:                Wed, Sep 06 2023   R-squared (Overall):              0.1332\n",
      "Time:                        20:50:02   Log-likelihood                   -804.53\n",
      "Cov. Estimator:             Clustered                                           \n",
      "                                        F-statistic:                      8.0783\n",
      "Entities:                          26   P-value                           0.0000\n",
      "Avg Obs:                       84.154   Distribution:                 F(28,1968)\n",
      "Min Obs:                       47.000                                           \n",
      "Max Obs:                       167.00   F-statistic (robust):           1.38e+14\n",
      "                                        P-value                           0.0000\n",
      "Time periods:                     167   Distribution:                 F(28,1968)\n",
      "Avg Obs:                       13.102                                           \n",
      "Min Obs:                       5.0000                                           \n",
      "Max Obs:                       26.000                                           \n",
      "                                                                                \n",
      "================================================================================\n"
     ]
    },
    {
     "data": {
      "image/png": "[encoded data removed]",
      "text/plain": [
       "<Figure size 720x432 with 1 Axes>"
      ]
     },
     "metadata": {
      "needs_background": "light"
     },
     "output_type": "display_data"
    }
   ],
   "source": [
    "# take log\n",
    "formula=\"log_rx_dom ~ elasped_m10+elasped_m9+elasped_m8+elasped_m7+elasped_m6+elasped_m5+elasped_m4+elasped_m3+elasped_m2+elasped_0+elasped_1+elasped_2+elasped_3+elasped_4+elasped_5+elasped_6+elasped_7+elasped_8+elasped_9+elasped_10+elasped_11+elasped_12+elasped_13+elasped_14+elasped_15+generic_per+TimeEffects+EntityEffects\"\n",
    "# stock lag version and month dummies\n",
    "# formula=\"log_rx_dom ~ generic_per+log_stock_rx_lag+elasped_m5+elasped_m4+elasped_m3+elasped_m2+elasped_0+elasped_1+elasped_2+elasped_3+elasped_4+elasped_5+elasped_6+elasped_7+elasped_8+elasped_9+elasped_10+elasped_11+elasped_12+elasped_13+elasped_14+elasped_15+TimeEffects+EntityEffects\"\n",
    "\n",
    "# with months\n",
    "# formula+=months\n",
    "\n",
    "# log_stock_rx_lag\n",
    "formula+=\" + log_stock_rx_lag\"\n",
    "# ytrend\n",
    "# formula+=ytrend\n",
    "\n",
    "# generic_share_r\n",
    "formula+=\" + generic_share_r\"\n",
    "# generic_share_q\n",
    "formula+=\" + generic_share_q\"\n",
    "\n",
    "mod_fe=PanelOLS.from_formula(formula, data=df,drop_absorbed=True,check_rank=False)\n",
    "res_fe=mod_fe.fit(cov_type='clustered', cluster_entity=True)\n",
    "print(res_fe.summary.tables[1])\n",
    "print(res_fe.summary.tables[0])\n",
    "plot_result(res_fe,file_name=\"rx_log_mon\",title=\"rx_log_mon\")"
   ]
  },
  {
   "cell_type": "markdown",
   "metadata": {},
   "source": [
    "### OTC"
   ]
  },
  {
   "cell_type": "code",
   "execution_count": 10,
   "metadata": {},
   "outputs": [],
   "source": [
    "\n",
    "# formula=\"otc_dom ~ elasped_m10+elasped_m9+elasped_m8+elasped_m7+elasped_m6+elasped_m5+elasped_m4+elasped_m3+elasped_m2+elasped_0+elasped_1+elasped_2+elasped_3+elasped_4+elasped_5+elasped_6+elasped_7+elasped_8+elasped_9+elasped_10+elasped_11+elasped_12+elasped_13+elasped_14+elasped_15+generic_per+TimeEffects+EntityEffects\"\n",
    "\n",
    "\n",
    "# # stock lag only\n",
    "# # formula+=\"+stock_otc_lag\"\n",
    "\n",
    "# # # with months\n",
    "# # formula+=months\n",
    "\n",
    "# # # ytrend\n",
    "# # formula+=ytrend\n",
    "\n",
    "\n",
    "# mod_fe=PanelOLS.from_formula(formula, data=df, drop_absorbed=True)\n",
    "# res_fe=mod_fe.fit(cov_type='clustered', cluster_entity=True)\n",
    "# print(res_fe.summary.tables[1])\n",
    "# print(res_fe.summary.tables[0])\n",
    "# plot_result(res_fe,file_name=\"otc_mon\",title=\"otc_mon\")"
   ]
  },
  {
   "cell_type": "code",
   "execution_count": 11,
   "metadata": {},
   "outputs": [
    {
     "name": "stderr",
     "output_type": "stream",
     "text": [
      "C:\\Users\\hakos\\AppData\\Local\\Temp\\ipykernel_8956\\1564310108.py:29: AbsorbingEffectWarning: \n",
      "Variables have been fully absorbed and have removed from the regression:\n",
      "\n",
      "generic_per\n",
      "\n",
      "  res_fe=mod_fe.fit(cov_type='clustered', cluster_entity=True)\n"
     ]
    },
    {
     "name": "stdout",
     "output_type": "stream",
     "text": [
      "                                 Parameter Estimates                                 \n",
      "=====================================================================================\n",
      "                   Parameter  Std. Err.     T-stat    P-value    Lower CI    Upper CI\n",
      "-------------------------------------------------------------------------------------\n",
      "elasped_m10          -0.4781     0.7630    -0.6266     0.5310     -1.9746      1.0183\n",
      "elasped_m9           -1.6472     1.1595    -1.4207     0.1556     -3.9212      0.6267\n",
      "elasped_m8           -1.9886     1.1945    -1.6648     0.0961     -4.3312      0.3540\n",
      "elasped_m7           -3.1188     1.2533    -2.4885     0.0129     -5.5768     -0.6609\n",
      "elasped_m6           -1.5105     1.1074    -1.3641     0.1727     -3.6822      0.6612\n",
      "elasped_m5           -2.3701     1.1304    -2.0966     0.0362     -4.5871     -0.1531\n",
      "elasped_m4           -1.6113     0.8027    -2.0075     0.0448     -3.1854     -0.0372\n",
      "elasped_m3           -1.1301     0.5738    -1.9694     0.0490     -2.2554     -0.0047\n",
      "elasped_m2           -0.1325     0.2940    -0.4506     0.6523     -0.7091      0.4441\n",
      "elasped_0            -0.4826     0.4032    -1.1969     0.2315     -1.2732      0.3081\n",
      "elasped_1            -0.4615     0.4813    -0.9590     0.3377     -1.4054      0.4824\n",
      "elasped_2            -0.9322     0.6566    -1.4198     0.1558     -2.2198      0.3554\n",
      "elasped_3            -0.3748     0.6169    -0.6075     0.5436     -1.5846      0.8351\n",
      "elasped_4            -0.2211     0.5861    -0.3772     0.7061     -1.3705      0.9284\n",
      "elasped_5            -0.4415     0.5502    -0.8025     0.4224     -1.5204      0.6375\n",
      "elasped_6             0.3068     0.5176     0.5929     0.5533     -0.7082      1.3219\n",
      "elasped_7            -0.1693     0.3094    -0.5473     0.5843     -0.7762      0.4375\n",
      "elasped_8            -0.8723     0.3710    -2.3510     0.0188     -1.5999     -0.1446\n",
      "elasped_9            -0.9153     0.3937    -2.3249     0.0202     -1.6874     -0.1432\n",
      "elasped_10           -1.0498     0.5442    -1.9290     0.0539     -2.1172      0.0175\n",
      "elasped_11           -0.7966     0.5545    -1.4365     0.1510     -1.8840      0.2909\n",
      "elasped_12           -1.0807     0.5263    -2.0533     0.0402     -2.1130     -0.0485\n",
      "elasped_13           -0.9871     0.6039    -1.6345     0.1023     -2.1715      0.1973\n",
      "elasped_14           -0.8698     0.4645    -1.8727     0.0613     -1.7808      0.0411\n",
      "elasped_15           -0.8219     0.3482    -2.3602     0.0184     -1.5048     -0.1390\n",
      "log_stock_otc_lag     0.3877     0.1560     2.4848     0.0130      0.0817      0.6937\n",
      "generic_share_r      -0.4881     4.2973    -0.1136     0.9096     -8.9158      7.9396\n",
      "generic_share_q      -4.9260     5.0120    -0.9828     0.3258     -14.755      4.9034\n",
      "=====================================================================================\n",
      "                          PanelOLS Estimation Summary                           \n",
      "================================================================================\n",
      "Dep. Variable:            log_otc_dom   R-squared:                        0.1714\n",
      "Estimator:                   PanelOLS   R-squared (Between):              0.1757\n",
      "No. Observations:                2188   R-squared (Within):               0.2225\n",
      "Date:                Wed, Sep 06 2023   R-squared (Overall):              0.1997\n",
      "Time:                        20:49:30   Log-likelihood                   -3579.9\n",
      "Cov. Estimator:             Clustered                                           \n",
      "                                        F-statistic:                      14.535\n",
      "Entities:                          26   P-value                           0.0000\n",
      "Avg Obs:                       84.154   Distribution:                 F(28,1968)\n",
      "Min Obs:                       47.000                                           \n",
      "Max Obs:                       167.00   F-statistic (robust):         -8.091e+12\n",
      "                                        P-value                           1.0000\n",
      "Time periods:                     167   Distribution:                 F(28,1968)\n",
      "Avg Obs:                       13.102                                           \n",
      "Min Obs:                       5.0000                                           \n",
      "Max Obs:                       26.000                                           \n",
      "                                                                                \n",
      "================================================================================\n"
     ]
    },
    {
     "data": {
      "image/png": "[encoded data removed]",
      "text/plain": [
       "<Figure size 720x432 with 1 Axes>"
      ]
     },
     "metadata": {
      "needs_background": "light"
     },
     "output_type": "display_data"
    }
   ],
   "source": [
    "# take log\n",
    "\n",
    "# till 20\n",
    "# formula=\"log_otc_dom ~ elasped_m5+elasped_m4+elasped_m3+elasped_m2+elasped_0+elasped_1+elasped_2+elasped_3+elasped_4+elasped_5+elasped_6+elasped_7+elasped_8+elasped_9+elasped_10+elasped_11+elasped_12+elasped_13+elasped_14+elasped_15+elasped_16+elasped_17+elasped_18+elasped_19+elasped_20+generic_per+TimeEffects+EntityEffects\"\n",
    "\n",
    "# till 15\n",
    "formula=\"log_otc_dom ~ elasped_m10+elasped_m9+elasped_m8+elasped_m7+elasped_m6+elasped_m5+elasped_m4+elasped_m3+elasped_m2+elasped_0+elasped_1+elasped_2+elasped_3+elasped_4+elasped_5+elasped_6+elasped_7+elasped_8+elasped_9+elasped_10+elasped_11+elasped_12+elasped_13+elasped_14+elasped_15\"\n",
    "\n",
    "# gemeric_per\n",
    "formula+=\" + generic_per\"\n",
    "\n",
    "# fixed effects\n",
    "formula+=\" + EntityEffects + TimeEffects\"\n",
    "\n",
    "# add lagged stock\n",
    "formula+=\"+log_stock_otc_lag\"\n",
    "\n",
    "# with month dummies\n",
    "# formula+=months\n",
    "\n",
    "# ytrend\n",
    "# formula+=ytrend\n",
    "\n",
    "# generic_share_r\n",
    "formula+=\" + generic_share_r\"\n",
    "# generic_share_q\n",
    "formula+=\" + generic_share_q\"\n",
    "mod_fe=PanelOLS.from_formula(formula, data=df,drop_absorbed=True)\n",
    "res_fe=mod_fe.fit(cov_type='clustered', cluster_entity=True)\n",
    "# res_fe=mod_fe.fit()\n",
    "print(res_fe.summary.tables[1])\n",
    "print(res_fe.summary.tables[0])\n",
    "# print(res_fe)\n",
    "plot_result(res_fe,file_name=\"otc_log_mon\",title=\"otc_log_mon\")"
   ]
  }
 ],
 "metadata": {
  "kernelspec": {
   "display_name": "Python 3",
   "language": "python",
   "name": "python3"
  },
  "language_info": {
   "codemirror_mode": {
    "name": "ipython",
    "version": 3
   },
   "file_extension": ".py",
   "mimetype": "text/x-python",
   "name": "python",
   "nbconvert_exporter": "python",
   "pygments_lexer": "ipython3",
   "version": "3.10.4"
  },
  "orig_nbformat": 4
 },
 "nbformat": 4,
 "nbformat_minor": 2
}
