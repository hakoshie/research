{
 "cells": [
  {
   "cell_type": "code",
   "execution_count": 1,
   "metadata": {},
   "outputs": [],
   "source": [
    "import pandas as pd\n",
    "import numpy as np\n",
    "import statsmodels.api as sm\n",
    "from linearmodels.panel.data import PanelData\n",
    "from linearmodels.panel import PanelOLS, PooledOLS, RandomEffects, compare\n",
    "import matplotlib.pyplot as plt"
   ]
  },
  {
   "cell_type": "code",
   "execution_count": 2,
   "metadata": {},
   "outputs": [],
   "source": [
    "def plot_result(result,start_from=1,period=20,insert_index=4,time_start=-5,file_name=\"result\",title=\"Event Study Coefficients with Confidence Intervals\"):\n",
    "    summary_table=pd.DataFrame(result.summary.tables[1].data[start_from:start_from+period],columns=result.summary.tables[1].data[0])\n",
    "    new_row=[0]*len(summary_table.columns)\n",
    "    # insert_index = 4\n",
    "    summary_table = pd.concat([summary_table.iloc[:insert_index], pd.DataFrame([new_row],columns=summary_table.columns), summary_table.iloc[insert_index:]]).reset_index(drop=True)\n",
    "\n",
    "    summary_table[\"Time\"]=np.array(list(range(time_start,period+time_start+1)))\n",
    "    # make each column of summary_table numeric\n",
    "    summary_table=summary_table.apply(pd.to_numeric, errors='ignore')\n",
    "    plt.figure(figsize=(10, 6))  # Adjust figure size as needed\n",
    "\n",
    "    # Plot coefficients as points\n",
    "    plt.plot(summary_table['Time'], summary_table[\"Parameter\"], 'o-', label='Coefficients', color='b')\n",
    "\n",
    "    # Plot confidence intervals as error bars\n",
    "    # plt.errorbar(summary_table['Time'], summary_table[\"Parameter\"],\n",
    "    #              yerr=[summary_table[\"Parameter\"] - summary_table['Lower CI'],\n",
    "    #                    summary_table['Upper CI'] - summary_table[\"Parameter\"]],\n",
    "    #              fmt='none', ecolor='orange', elinewidth=2, capsize=4, label='Confidence Intervals')\n",
    "\n",
    "    plt.fill_between(summary_table['Time'], summary_table['Lower CI'], summary_table['Upper CI'], color='orange', alpha=0.3, label='Confidence Intervals')\n",
    "\n",
    "    plt.xlabel('Time')\n",
    "    # Set y-axis properties\n",
    "    plt.ylim(-1, 1)  # Set the y-axis limits\n",
    "    plt.ylabel(\"Parameter\")\n",
    "    plt.title(title)\n",
    "    plt.legend()\n",
    "    plt.grid(True)\n",
    "    plt.savefig(\"./plots/{}.png\".format(file_name),dpi=300,bbox_inches=\"tight\",transparent=False,facecolor=\"white\")\n",
    "    plt.show()\n",
    "    # return summary_table"
   ]
  },
  {
   "cell_type": "code",
   "execution_count": 3,
   "metadata": {},
   "outputs": [],
   "source": [
    "df=pd.read_csv(\"../../data/merged/len3_ship_agg_drop_never.csv\",encoding=\"shift-jis\",index_col=0)\n",
    "# sum ver.\n",
    "# df=pd.read_csv(\"../data/merged/len3_ship_sum_agg_drop_never.csv\",encoding=\"shift-jis\",index_col=0)"
   ]
  },
  {
   "cell_type": "markdown",
   "metadata": {},
   "source": [
    "Estimation"
   ]
  },
  {
   "cell_type": "code",
   "execution_count": 4,
   "metadata": {},
   "outputs": [
    {
     "name": "stdout",
     "output_type": "stream",
     "text": [
      "['id', 'elasped_m5', 'elasped_m4', 'elasped_m3', 'elasped_m2', 'elasped_m1', 'elasped_0', 'elasped_1', 'elasped_2', 'elasped_3', 'elasped_4', 'elasped_5', 'elasped_6', 'elasped_7', 'elasped_8', 'elasped_9', 'elasped_10', 'elasped_11', 'elasped_12', 'elasped_13', 'elasped_14', 'elasped_15', 'elasped_16', 'elasped_17', 'elasped_18', 'elasped_19', 'elasped_20', 'id_114', 'id_121', 'id_123', 'id_124', 'id_131', 'id_132', 'id_211', 'id_218', 'id_222', 'id_223', 'id_224', 'id_225', 'id_229', 'id_231', 'id_232', 'id_235', 'id_239', 'id_245', 'id_252', 'id_259', 'id_264', 'id_265', 'id_313', 'id_321', 'id_332', 'id_339', 'id_391', 'id_399', 'id_441', 'id_449', 'id_625', 'id_629', 'id_799']\n"
     ]
    }
   ],
   "source": [
    "## processing\n",
    "df_columns = df.columns # 列名をリストとして取得\n",
    "import re\n",
    "\n",
    "# 正規表現パターンを作成します\n",
    "pattern = r'id|^elasped_(m[0-5]|[0-9]|1\\d|20)$'\n",
    "\n",
    "# 列名のリストを作成します\n",
    "column_names = [col for col in df_columns if re.search(pattern, col)]\n",
    "\n",
    "# 列名のリストを表示します\n",
    "print(column_names)\n",
    "rest_columns=[\"year\",\"generic_per\"]\n",
    "column_names=rest_columns+column_names\n",
    "# try:\n",
    "#     column_names.remove(\"elasped_m1\")\n",
    "# except:\n",
    "#     1\n",
    "\n",
    "try:\n",
    "    column_names.remove(\"elasped\")\n",
    "except:\n",
    "    1\n",
    "try:\n",
    "    column_names.remove(\"id\")\n",
    "except:\n",
    "    1\n",
    "try:\n",
    "    column_names.remove(\"id_114\")\n",
    "except:\n",
    "    1\n",
    "# column_names"
   ]
  },
  {
   "cell_type": "code",
   "execution_count": 5,
   "metadata": {},
   "outputs": [],
   "source": [
    "# normalization of year\n",
    "# 2008で正規化するかで結構estimateが変わります、1ぐらい\n",
    "# df[\"year\"]=df[\"year\"]-2008\n",
    "\n",
    "#ここはかなり重要でセレクションバイアスみたいなので有意性が変わるらしい\n",
    "df=df.loc[df[\"otc_dom\"]>0]\n",
    "df=df.loc[df[\"rx_dom\"]>0]\n",
    "\n",
    "# make log columns\n",
    "df[\"log_rx_dom\"]=np.log(df[\"rx_dom\"])\n",
    "df[\"log_otc_dom\"]=np.log(df[\"otc_dom\"])\n",
    "df[\"log_stock_rx_lag\"]=np.log(df[\"stock_rx_lag\"]+0.001)\n",
    "df[\"log_stock_otc_lag\"]=np.log(df[\"stock_otc_lag\"]+0.001)\n",
    "df[\"year_trend\"]=df[\"year\"]-2008"
   ]
  },
  {
   "cell_type": "code",
   "execution_count": 6,
   "metadata": {},
   "outputs": [
    {
     "name": "stdout",
     "output_type": "stream",
     "text": [
      "<class 'pandas.core.frame.DataFrame'>\n",
      "MultiIndex: 372 entries, (114, 2008) to (799, 2021)\n",
      "Columns: 111 entries, efficacy to year_trend\n",
      "dtypes: float64(17), int64(90), object(4)\n",
      "memory usage: 325.3+ KB\n"
     ]
    },
    {
     "data": {
      "text/plain": [
       "(182, 14, 29)"
      ]
     },
     "execution_count": 6,
     "metadata": {},
     "output_type": "execute_result"
    }
   ],
   "source": [
    "df=df.set_index([\"id\",\"year\"])\n",
    "df.info()\n",
    "# make this to paneldata\n",
    "df=PanelData(df)\n",
    "df.shape"
   ]
  },
  {
   "cell_type": "markdown",
   "metadata": {},
   "source": [
    "stockのlag(むしろgeneric?)とtime effectは共存できないらしい"
   ]
  },
  {
   "cell_type": "markdown",
   "metadata": {},
   "source": [
    "## RX"
   ]
  },
  {
   "cell_type": "code",
   "execution_count": 7,
   "metadata": {},
   "outputs": [],
   "source": [
    "# formula=\"rx_dom ~ year_trend+elasped_m10+elasped_m9+elasped_m8+elasped_m7+elasped_m6+elasped_m5+elasped_m4+elasped_m3+elasped_m2+elasped_0+elasped_1+elasped_2+elasped_3+elasped_4+elasped_5+elasped_6+elasped_7+elasped_8+elasped_9+elasped_10+elasped_11+elasped_12+elasped_13+elasped_14+elasped_15+generic_per+TimeEffects+EntityEffects\"\n",
    "# # stock lag version\n",
    "# # formula+=\"+stock_rx_lag\"\n",
    "# # gemeric_per\n",
    "# formula+=\" + generic_per\"\n",
    "# mod_fe=PanelOLS.from_formula(formula, data=df,drop_absorbed=True)\n",
    "# res_fe=mod_fe.fit(cov_type='clustered', cluster_entity=True)\n",
    "# # print(res_fe.summary.tables[1])\n",
    "# # print(res_fe.summary.tables[0])\n",
    "# print(res_fe)\n",
    "# plot_result(res_fe,file_name=\"rx\",title=\"rx\",period=25,insert_index=9,time_start=-10)\n",
    "# # print(x)"
   ]
  },
  {
   "cell_type": "code",
   "execution_count": 8,
   "metadata": {},
   "outputs": [
    {
     "data": {
      "text/plain": [
       "[0, 0, 0, 0, 0]"
      ]
     },
     "execution_count": 8,
     "metadata": {},
     "output_type": "execute_result"
    }
   ],
   "source": [
    "[0]*5"
   ]
  },
  {
   "cell_type": "code",
   "execution_count": 9,
   "metadata": {},
   "outputs": [
    {
     "name": "stdout",
     "output_type": "stream",
     "text": [
      "                                Parameter Estimates                                 \n",
      "====================================================================================\n",
      "                  Parameter  Std. Err.     T-stat    P-value    Lower CI    Upper CI\n",
      "------------------------------------------------------------------------------------\n",
      "elasped_m10         -0.1377     0.1153    -1.1942     0.2334     -0.3648      0.0893\n",
      "elasped_m9          -0.0913     0.1260    -0.7250     0.4690     -0.3393      0.1566\n",
      "elasped_m8          -0.0012     0.0655    -0.0185     0.9852     -0.1302      0.1278\n",
      "elasped_m7          -0.0256     0.0723    -0.3545     0.7232     -0.1679      0.1166\n",
      "elasped_m6           0.0356     0.0655     0.5434     0.5873     -0.0934      0.1646\n",
      "elasped_m5           0.0896     0.0652     1.3740     0.1706     -0.0388      0.2179\n",
      "elasped_m4          -0.0329     0.0577    -0.5705     0.5688     -0.1464      0.0806\n",
      "elasped_m3           0.0240     0.0272     0.8824     0.3783     -0.0295      0.0775\n",
      "elasped_m2           0.0439     0.0501     0.8770     0.3813     -0.0547      0.1425\n",
      "elasped_0            0.0365     0.0505     0.7226     0.4706     -0.0630      0.1360\n",
      "elasped_1            0.0941     0.0403     2.3376     0.0201      0.0149      0.1734\n",
      "elasped_2            0.0367     0.0558     0.6574     0.5115     -0.0732      0.1465\n",
      "elasped_3            0.0240     0.0598     0.4007     0.6889     -0.0938      0.1417\n",
      "elasped_4           -0.0352     0.0577    -0.6105     0.5420     -0.1488      0.0784\n",
      "elasped_5           -0.0247     0.0583    -0.4230     0.6726     -0.1394      0.0901\n",
      "elasped_6           -0.0139     0.0472    -0.2949     0.7683     -0.1069      0.0791\n",
      "elasped_7           -0.0037     0.0478    -0.0780     0.9379     -0.0979      0.0904\n",
      "elasped_8            0.0260     0.0567     0.4593     0.6464     -0.0856      0.1377\n",
      "elasped_9            0.0908     0.0420     2.1638     0.0313      0.0082      0.1734\n",
      "elasped_10           0.0861     0.0476     1.8072     0.0718     -0.0077      0.1799\n",
      "elasped_11           0.0667     0.0408     1.6344     0.1033     -0.0136      0.1470\n",
      "elasped_12           0.0215     0.0395     0.5443     0.5867     -0.0562      0.0992\n",
      "elasped_13           0.0746     0.0756     0.9878     0.3241     -0.0741      0.2234\n",
      "elasped_14           0.0190     0.0434     0.4378     0.6619     -0.0664      0.1043\n",
      "elasped_15           0.0160     0.0417     0.3826     0.7023     -0.0662      0.0982\n",
      "log_stock_rx_lag     0.1874     0.0557     3.3626     0.0009      0.0777      0.2971\n",
      "generic_share_r     -2.0149     0.5898    -3.4160     0.0007     -3.1761     -0.8538\n",
      "generic_share_q      0.2822     0.5037     0.5603     0.5758     -0.7094      1.2737\n",
      "====================================================================================\n",
      "                          PanelOLS Estimation Summary                           \n",
      "================================================================================\n",
      "Dep. Variable:             log_rx_dom   R-squared:                        0.2818\n",
      "Estimator:                   PanelOLS   R-squared (Between):              0.2794\n",
      "No. Observations:                 346   R-squared (Within):               0.2358\n",
      "Date:                Wed, Sep 06 2023   R-squared (Overall):              0.2788\n",
      "Time:                        20:56:20   Log-likelihood                    41.892\n",
      "Cov. Estimator:             Clustered                                           \n",
      "                                        F-statistic:                      3.8826\n",
      "Entities:                          29   P-value                           0.0000\n",
      "Avg Obs:                       11.931   Distribution:                  F(28,277)\n",
      "Min Obs:                       1.0000                                           \n",
      "Max Obs:                       13.000   F-statistic (robust):          1.034e+14\n",
      "                                        P-value                           0.0000\n",
      "Time periods:                      13   Distribution:                  F(28,277)\n",
      "Avg Obs:                       26.615                                           \n",
      "Min Obs:                       26.000                                           \n",
      "Max Obs:                       28.000                                           \n",
      "                                                                                \n",
      "================================================================================\n"
     ]
    },
    {
     "name": "stderr",
     "output_type": "stream",
     "text": [
      "c:\\Users\\hakos\\AppData\\Local\\Programs\\Python\\Python310\\lib\\site-packages\\linearmodels\\panel\\model.py:1214: MissingValueWarning: \n",
      "Inputs contain missing values. Dropping rows with missing observations.\n",
      "  super().__init__(dependent, exog, weights=weights, check_rank=check_rank)\n",
      "C:\\Users\\hakos\\AppData\\Local\\Temp\\ipykernel_16192\\1100424910.py:16: AbsorbingEffectWarning: \n",
      "Variables have been fully absorbed and have removed from the regression:\n",
      "\n",
      "year_trend, generic_per\n",
      "\n",
      "  res_fe=mod_fe.fit(cov_type='clustered', cluster_entity=True)\n"
     ]
    },
    {
     "data": {
      "image/png": "[encoded data removed]",
      "text/plain": [
       "<Figure size 720x432 with 1 Axes>"
      ]
     },
     "metadata": {
      "needs_background": "light"
     },
     "output_type": "display_data"
    }
   ],
   "source": [
    "# take log\n",
    "formula=\"log_rx_dom ~ year_trend+elasped_m10+elasped_m9+elasped_m8+elasped_m7+elasped_m6+elasped_m5+elasped_m4+elasped_m3+elasped_m2+elasped_0+elasped_1+elasped_2+elasped_3+elasped_4+elasped_5+elasped_6+elasped_7+elasped_8+elasped_9+elasped_10+elasped_11+elasped_12+elasped_13+elasped_14+elasped_15+TimeEffects+EntityEffects\"\n",
    "# stock lag version\n",
    "formula+=\"+log_stock_rx_lag\"\n",
    "\n",
    "# generic_per\n",
    "formula+=\" + generic_per\"\n",
    "\n",
    "# generic_share_r\n",
    "formula+=\" + generic_share_r\"\n",
    "\n",
    "# generic_share_q\n",
    "formula+=\" + generic_share_q\"\n",
    "\n",
    "mod_fe=PanelOLS.from_formula(formula, data=df,drop_absorbed=True)\n",
    "res_fe=mod_fe.fit(cov_type='clustered', cluster_entity=True)\n",
    "print(res_fe.summary.tables[1])\n",
    "print(res_fe.summary.tables[0])\n",
    "plot_result(res_fe,file_name=\"rx_log\",title=\"RX log\",period=25,insert_index=9,time_start=-10)"
   ]
  },
  {
   "cell_type": "markdown",
   "metadata": {},
   "source": [
    "### OTC"
   ]
  },
  {
   "cell_type": "code",
   "execution_count": 10,
   "metadata": {},
   "outputs": [],
   "source": [
    "\n",
    "# formula=\"otc_dom ~ year_trend+elasped_m10+elasped_m9+elasped_m8+elasped_m7+elasped_m6+elasped_m5+elasped_m4+elasped_m3+elasped_m2+elasped_0+elasped_1+elasped_2+elasped_3+elasped_4+elasped_5+elasped_6+elasped_7+elasped_8+elasped_9+elasped_10+elasped_11+elasped_12+elasped_13+elasped_14+elasped_15+generic_per+TimeEffects+EntityEffects\"\n",
    "# # stock lag version\n",
    "# # formula+=\"+stock_otc_lag\"\n",
    "# # gemeric_per\n",
    "# formula+=\" + generic_per\"\n",
    "# mod_fe=PanelOLS.from_formula(formula, data=df, drop_absorbed=True)\n",
    "# # mod_fe=PanelOLS.from_formula(formula, data=df, drop_absorbed=False)\n",
    "# res_fe=mod_fe.fit(cov_type='clustered', cluster_entity=True)\n",
    "# print(res_fe.summary.tables[1])\n",
    "# print(res_fe.summary.tables[0])\n",
    "# plot_result(res_fe,file_name=\"otc\",title=\"OTC\",period=25,insert_index=9,time_start=-10)"
   ]
  },
  {
   "cell_type": "code",
   "execution_count": 11,
   "metadata": {},
   "outputs": [
    {
     "name": "stderr",
     "output_type": "stream",
     "text": [
      "c:\\Users\\hakos\\AppData\\Local\\Programs\\Python\\Python310\\lib\\site-packages\\linearmodels\\panel\\model.py:1214: MissingValueWarning: \n",
      "Inputs contain missing values. Dropping rows with missing observations.\n",
      "  super().__init__(dependent, exog, weights=weights, check_rank=check_rank)\n",
      "C:\\Users\\hakos\\AppData\\Local\\Temp\\ipykernel_16192\\3646895726.py:22: AbsorbingEffectWarning: \n",
      "Variables have been fully absorbed and have removed from the regression:\n",
      "\n",
      "generic_per\n",
      "\n",
      "  res_fe=mod_fe.fit(cov_type='clustered', cluster_entity=True)\n"
     ]
    },
    {
     "name": "stdout",
     "output_type": "stream",
     "text": [
      "                          PanelOLS Estimation Summary                           \n",
      "================================================================================\n",
      "Dep. Variable:            log_otc_dom   R-squared:                        0.2835\n",
      "Estimator:                   PanelOLS   R-squared (Between):              0.0900\n",
      "No. Observations:                 346   R-squared (Within):               0.2705\n",
      "Date:                Wed, Sep 06 2023   R-squared (Overall):              0.0914\n",
      "Time:                        20:56:21   Log-likelihood                   -184.73\n",
      "Cov. Estimator:             Clustered                                           \n",
      "                                        F-statistic:                      3.9139\n",
      "Entities:                          29   P-value                           0.0000\n",
      "Avg Obs:                       11.931   Distribution:                  F(28,277)\n",
      "Min Obs:                       1.0000                                           \n",
      "Max Obs:                       13.000   F-statistic (robust):          2.313e+13\n",
      "                                        P-value                           0.0000\n",
      "Time periods:                      13   Distribution:                  F(28,277)\n",
      "Avg Obs:                       26.615                                           \n",
      "Min Obs:                       26.000                                           \n",
      "Max Obs:                       28.000                                           \n",
      "                                                                                \n",
      "                                 Parameter Estimates                                 \n",
      "=====================================================================================\n",
      "                   Parameter  Std. Err.     T-stat    P-value    Lower CI    Upper CI\n",
      "-------------------------------------------------------------------------------------\n",
      "elasped_m10          -0.0751     0.1513    -0.4961     0.6202     -0.3730      0.2228\n",
      "elasped_m9            0.0848     0.1089     0.7793     0.4365     -0.1295      0.2991\n",
      "elasped_m8            0.0518     0.3508     0.1477     0.8827     -0.6389      0.7425\n",
      "elasped_m7            0.0455     0.3659     0.1242     0.9012     -0.6748      0.7657\n",
      "elasped_m6            0.1441     0.3841     0.3752     0.7078     -0.6120      0.9003\n",
      "elasped_m5            0.0475     0.2154     0.2205     0.8257     -0.3765      0.4715\n",
      "elasped_m4           -0.1025     0.1436    -0.7137     0.4760     -0.3853      0.1802\n",
      "elasped_m3           -0.2055     0.2117    -0.9707     0.3325     -0.6221      0.2112\n",
      "elasped_m2            0.1468     0.2088     0.7032     0.4825     -0.2642      0.5579\n",
      "elasped_0             0.2091     0.1606     1.3025     0.1938     -0.1069      0.5252\n",
      "elasped_1             0.3533     0.1239     2.8515     0.0047      0.1094      0.5972\n",
      "elasped_2             0.3131     0.1707     1.8338     0.0678     -0.0230      0.6492\n",
      "elasped_3             0.4366     0.2000     2.1824     0.0299      0.0428      0.8304\n",
      "elasped_4             0.4246     0.1907     2.2268     0.0268      0.0492      0.8000\n",
      "elasped_5             0.3020     0.1530     1.9738     0.0494      0.0008      0.6031\n",
      "elasped_6             0.4324     0.1825     2.3698     0.0185      0.0732      0.7915\n",
      "elasped_7             0.4570     0.1066     4.2892     0.0000      0.2473      0.6668\n",
      "elasped_8             0.5987     0.1498     3.9975     0.0001      0.3039      0.8935\n",
      "elasped_9             0.6136     0.1474     4.1636     0.0000      0.3235      0.9036\n",
      "elasped_10            0.5771     0.1511     3.8203     0.0002      0.2797      0.8744\n",
      "elasped_11            0.5501     0.1933     2.8453     0.0048      0.1695      0.9307\n",
      "elasped_12            0.5343     0.1051     5.0817     0.0000      0.3273      0.7413\n",
      "elasped_13            0.4788     0.1306     3.6663     0.0003      0.2217      0.7358\n",
      "elasped_14            0.3140     0.1940     1.6182     0.1068     -0.0680      0.6959\n",
      "elasped_15            0.3738     0.2331     1.6039     0.1099     -0.0850      0.8326\n",
      "log_stock_otc_lag     0.0175     0.0134     1.3044     0.1932     -0.0089      0.0439\n",
      "generic_share_r       0.3853     1.0390     0.3708     0.7111     -1.6601      2.4306\n",
      "generic_share_q      -1.0752     0.7642    -1.4070     0.1606     -2.5796      0.4292\n",
      "=====================================================================================\n",
      "\n",
      "F-test for Poolability: 114.72\n",
      "P-value: 0.0000\n",
      "Distribution: F(40,277)\n",
      "\n",
      "Included effects: Entity, Time\n"
     ]
    },
    {
     "data": {
      "image/png": "[encoded data removed]",
      "text/plain": [
       "<Figure size 720x432 with 1 Axes>"
      ]
     },
     "metadata": {
      "needs_background": "light"
     },
     "output_type": "display_data"
    }
   ],
   "source": [
    "# take log\n",
    "formula=\"log_otc_dom ~elasped_m10+elasped_m9+elasped_m8+elasped_m7+elasped_m6+ elasped_m5+elasped_m4+elasped_m3+elasped_m2+elasped_0+elasped_1+elasped_2+elasped_3+elasped_4+elasped_5+elasped_6+elasped_7+elasped_8+elasped_9+elasped_10+elasped_11+elasped_12+elasped_13+elasped_14+elasped_15+generic_per+TimeEffects+EntityEffects\"\n",
    "\n",
    "# till 15\n",
    "formula=\"log_otc_dom ~elasped_m10+elasped_m9+elasped_m8+elasped_m7+elasped_m6+elasped_m5+elasped_m4+elasped_m3+elasped_m2+elasped_0+elasped_1+elasped_2+elasped_3+elasped_4+elasped_5+elasped_6+elasped_7+elasped_8+elasped_9+elasped_10+elasped_11+elasped_12+elasped_13+elasped_14+elasped_15+TimeEffects+EntityEffects\"\n",
    "\n",
    "# stock lag version\n",
    "formula+=\"+log_stock_otc_lag\"\n",
    "\n",
    "# year trend\n",
    "# formula+=\"+year_trend\"\n",
    "\n",
    "# gemeric_per\n",
    "formula+=\" + generic_per\"\n",
    "\n",
    "# generic_share_r\n",
    "formula+=\" + generic_share_r\"\n",
    "# generic_share_q\n",
    "formula+=\" + generic_share_q\"\n",
    "\n",
    "mod_fe=PanelOLS.from_formula(formula, data=df,drop_absorbed=True)\n",
    "res_fe=mod_fe.fit(cov_type='clustered', cluster_entity=True)\n",
    "# res_fe=mod_fe.fit()\n",
    "# print(res_fe.summary.tables[1])\n",
    "# print(res_fe.summary.tables[0])\n",
    "print(res_fe)\n",
    "plot_result(res_fe,file_name=\"otc_log\",title=\"OTC log\",period=25,insert_index=9,time_start=-10)"
   ]
  },
  {
   "cell_type": "code",
   "execution_count": null,
   "metadata": {},
   "outputs": [],
   "source": []
  }
 ],
 "metadata": {
  "kernelspec": {
   "display_name": "Python 3",
   "language": "python",
   "name": "python3"
  },
  "language_info": {
   "codemirror_mode": {
    "name": "ipython",
    "version": 3
   },
   "file_extension": ".py",
   "mimetype": "text/x-python",
   "name": "python",
   "nbconvert_exporter": "python",
   "pygments_lexer": "ipython3",
   "version": "3.10.4"
  },
  "orig_nbformat": 4
 },
 "nbformat": 4,
 "nbformat_minor": 2
}
