{
 "cells": [
  {
   "cell_type": "code",
   "execution_count": 12,
   "metadata": {},
   "outputs": [],
   "source": [
    "import pandas as pd\n",
    "import numpy as np\n",
    "import statsmodels.api as sm\n",
    "from linearmodels.panel.data import PanelData\n",
    "from linearmodels.panel import PanelOLS, PooledOLS, RandomEffects, compare\n",
    "import matplotlib.pyplot as plt"
   ]
  },
  {
   "cell_type": "code",
   "execution_count": 13,
   "metadata": {},
   "outputs": [],
   "source": [
    "def plot_result(result,start_from=1,period=20,insert_index=4,time_start=-5,file_name=\"result\",title=\"Event Study Coefficients with Confidence Intervals\"):\n",
    "    summary_table=pd.DataFrame(result.summary.tables[1].data[start_from:start_from+period],columns=result.summary.tables[1].data[0])\n",
    "    new_row=[0]*len(summary_table.columns)\n",
    "    # insert_index = 4\n",
    "    summary_table = pd.concat([summary_table.iloc[:insert_index], pd.DataFrame([new_row],columns=summary_table.columns), summary_table.iloc[insert_index:]]).reset_index(drop=True)\n",
    "\n",
    "    summary_table[\"Time\"]=np.array(list(range(time_start,period+time_start+1)))\n",
    "    # make each column of summary_table numeric\n",
    "    summary_table=summary_table.apply(pd.to_numeric, errors='ignore')\n",
    "    plt.figure(figsize=(10, 6))  # Adjust figure size as needed\n",
    "\n",
    "    # Plot coefficients as points\n",
    "    plt.plot(summary_table['Time'], summary_table[\"Parameter\"], 'o-', label='Coefficients', color='b')\n",
    "\n",
    "    # Plot confidence intervals as error bars\n",
    "    # plt.errorbar(summary_table['Time'], summary_table[\"Parameter\"],\n",
    "    #              yerr=[summary_table[\"Parameter\"] - summary_table['Lower CI'],\n",
    "    #                    summary_table['Upper CI'] - summary_table[\"Parameter\"]],\n",
    "    #              fmt='none', ecolor='orange', elinewidth=2, capsize=4, label='Confidence Intervals')\n",
    "\n",
    "    plt.fill_between(summary_table['Time'], summary_table['Lower CI'], summary_table['Upper CI'], color='orange', alpha=0.3, label='Confidence Intervals')\n",
    "\n",
    "    plt.xlabel('Time')\n",
    "    # Set y-axis properties\n",
    "    plt.ylim(-1.5, 1.5)  # Set the y-axis limits\n",
    "    plt.ylabel(\"Parameter\")\n",
    "    plt.title(title)\n",
    "    plt.legend()\n",
    "    plt.grid(True)\n",
    "    plt.savefig(\"./plots/{}.png\".format(file_name),dpi=300,bbox_inches=\"tight\",transparent=False,facecolor=\"white\")\n",
    "    plt.show()\n",
    "    # return summary_table"
   ]
  },
  {
   "cell_type": "code",
   "execution_count": 14,
   "metadata": {},
   "outputs": [],
   "source": [
    "df=pd.read_csv(\"../../data/merged/len3_ship_agg_drop_never.csv\",encoding=\"shift-jis\",index_col=0)\n",
    "# sum ver.\n",
    "# df=pd.read_csv(\"../data/merged/len3_ship_sum_agg_drop_never.csv\",encoding=\"shift-jis\",index_col=0)"
   ]
  },
  {
   "cell_type": "markdown",
   "metadata": {},
   "source": [
    "Estimation"
   ]
  },
  {
   "cell_type": "code",
   "execution_count": 15,
   "metadata": {},
   "outputs": [
    {
     "name": "stdout",
     "output_type": "stream",
     "text": [
      "['id', 'elasped_m5', 'elasped_m4', 'elasped_m3', 'elasped_m2', 'elasped_m1', 'elasped_0', 'elasped_1', 'elasped_2', 'elasped_3', 'elasped_4', 'elasped_5', 'elasped_6', 'elasped_7', 'elasped_8', 'elasped_9', 'elasped_10', 'elasped_11', 'elasped_12', 'elasped_13', 'elasped_14', 'elasped_15', 'elasped_16', 'elasped_17', 'elasped_18', 'elasped_19', 'elasped_20', 'id_114', 'id_121', 'id_123', 'id_124', 'id_131', 'id_132', 'id_211', 'id_217', 'id_218', 'id_222', 'id_223', 'id_224', 'id_225', 'id_229', 'id_231', 'id_232', 'id_235', 'id_239', 'id_245', 'id_252', 'id_259', 'id_264', 'id_265', 'id_279', 'id_313', 'id_321', 'id_332', 'id_339', 'id_391', 'id_399', 'id_441', 'id_449', 'id_625', 'id_629', 'id_799']\n"
     ]
    }
   ],
   "source": [
    "## processing\n",
    "df_columns = df.columns # 列名をリストとして取得\n",
    "import re\n",
    "\n",
    "# 正規表現パターンを作成します\n",
    "pattern = r'id|^elasped_(m[0-5]|[0-9]|1\\d|20)$'\n",
    "\n",
    "# 列名のリストを作成します\n",
    "column_names = [col for col in df_columns if re.search(pattern, col)]\n",
    "\n",
    "# 列名のリストを表示します\n",
    "print(column_names)\n",
    "rest_columns=[\"year\",\"generic_per\"]\n",
    "column_names=rest_columns+column_names\n",
    "# try:\n",
    "#     column_names.remove(\"elasped_m1\")\n",
    "# except:\n",
    "#     1\n",
    "\n",
    "try:\n",
    "    column_names.remove(\"elasped\")\n",
    "except:\n",
    "    1\n",
    "try:\n",
    "    column_names.remove(\"id\")\n",
    "except:\n",
    "    1\n",
    "try:\n",
    "    column_names.remove(\"id_114\")\n",
    "except:\n",
    "    1\n",
    "# column_names"
   ]
  },
  {
   "cell_type": "code",
   "execution_count": 16,
   "metadata": {},
   "outputs": [],
   "source": [
    "# normalization of year\n",
    "# 2008で正規化するかで結構estimateが変わります、1ぐらい\n",
    "# df[\"year\"]=df[\"year\"]-2008\n",
    "\n",
    "#ここはかなり重要でセレクションバイアスみたいなので有意性が変わるらしい\n",
    "df=df.loc[df[\"otc_dom\"]>0]\n",
    "df=df.loc[df[\"rx_dom\"]>0]\n",
    "\n",
    "# make log columns\n",
    "df[\"log_rx_dom\"]=np.log(df[\"rx_dom\"])\n",
    "df[\"log_otc_dom\"]=np.log(df[\"otc_dom\"])\n",
    "df[\"log_stock_rx_lag\"]=np.log(df[\"stock_rx_lag\"]+0.001)\n",
    "df[\"log_stock_otc_lag\"]=np.log(df[\"stock_otc_lag\"]+0.001)\n",
    "df[\"year_trend\"]=df[\"year\"]-2008"
   ]
  },
  {
   "cell_type": "code",
   "execution_count": 17,
   "metadata": {},
   "outputs": [
    {
     "name": "stdout",
     "output_type": "stream",
     "text": [
      "<class 'pandas.core.frame.DataFrame'>\n",
      "MultiIndex: 386 entries, (114, 2008) to (799, 2021)\n",
      "Columns: 110 entries, efficacy to year_trend\n",
      "dtypes: float64(14), int64(92), object(4)\n",
      "memory usage: 334.5+ KB\n"
     ]
    },
    {
     "data": {
      "text/plain": [
       "(184, 14, 30)"
      ]
     },
     "execution_count": 17,
     "metadata": {},
     "output_type": "execute_result"
    }
   ],
   "source": [
    "df=df.set_index([\"id\",\"year\"])\n",
    "df.info()\n",
    "# make this to paneldata\n",
    "df=PanelData(df)\n",
    "df.shape"
   ]
  },
  {
   "cell_type": "markdown",
   "metadata": {},
   "source": [
    "stockのlag(むしろgeneric?)とtime effectは共存できないらしい"
   ]
  },
  {
   "cell_type": "markdown",
   "metadata": {},
   "source": [
    "## RX"
   ]
  },
  {
   "cell_type": "code",
   "execution_count": 18,
   "metadata": {},
   "outputs": [],
   "source": [
    "# formula=\"rx_dom ~ year_trend+elasped_m10+elasped_m9+elasped_m8+elasped_m7+elasped_m6+elasped_m5+elasped_m4+elasped_m3+elasped_m2+elasped_0+elasped_1+elasped_2+elasped_3+elasped_4+elasped_5+elasped_6+elasped_7+elasped_8+elasped_9+elasped_10+elasped_11+elasped_12+elasped_13+elasped_14+elasped_15+generic_per+TimeEffects+EntityEffects\"\n",
    "# # stock lag version\n",
    "# # formula+=\"+stock_rx_lag\"\n",
    "# # gemeric_per\n",
    "# formula+=\" + generic_per\"\n",
    "# mod_fe=PanelOLS.from_formula(formula, data=df,drop_absorbed=True)\n",
    "# res_fe=mod_fe.fit(cov_type='clustered', cluster_entity=True)\n",
    "# # print(res_fe.summary.tables[1])\n",
    "# # print(res_fe.summary.tables[0])\n",
    "# print(res_fe)\n",
    "# plot_result(res_fe,file_name=\"rx\",title=\"rx\",period=25,insert_index=9,time_start=-10)\n",
    "# # print(x)"
   ]
  },
  {
   "cell_type": "code",
   "execution_count": 19,
   "metadata": {},
   "outputs": [
    {
     "data": {
      "text/plain": [
       "[0, 0, 0, 0, 0]"
      ]
     },
     "execution_count": 19,
     "metadata": {},
     "output_type": "execute_result"
    }
   ],
   "source": [
    "[0]*5"
   ]
  },
  {
   "cell_type": "code",
   "execution_count": 20,
   "metadata": {},
   "outputs": [
    {
     "name": "stdout",
     "output_type": "stream",
     "text": [
      "                              Parameter Estimates                              \n",
      "===============================================================================\n",
      "             Parameter  Std. Err.     T-stat    P-value    Lower CI    Upper CI\n",
      "-------------------------------------------------------------------------------\n",
      "elasped_m10    -0.1537     0.1192    -1.2900     0.1980     -0.3882      0.0807\n",
      "elasped_m9     -0.0955     0.1080    -0.8845     0.3771     -0.3080      0.1170\n",
      "elasped_m8      0.0404     0.0736     0.5490     0.5834     -0.1043      0.1851\n",
      "elasped_m7     -0.0265     0.0753    -0.3519     0.7251     -0.1748      0.1217\n",
      "elasped_m6      0.0160     0.0796     0.2006     0.8411     -0.1407      0.1726\n",
      "elasped_m5      0.0462     0.0580     0.7970     0.4260     -0.0678      0.1602\n",
      "elasped_m4      0.0654     0.0578     1.1317     0.2586     -0.0483      0.1790\n",
      "elasped_m3      0.1268     0.0509     2.4897     0.0133      0.0266      0.2270\n",
      "elasped_m2      0.0762     0.0770     0.9896     0.3231     -0.0753      0.2276\n",
      "elasped_0       0.0820     0.0708     1.1567     0.2482     -0.0574      0.2213\n",
      "elasped_1       0.1271     0.0639     1.9880     0.0477      0.0013      0.2528\n",
      "elasped_2       0.0925     0.0852     1.0852     0.2786     -0.0752      0.2602\n",
      "elasped_3       0.0597     0.0766     0.7797     0.4362     -0.0910      0.2105\n",
      "elasped_4       0.0551     0.0773     0.7132     0.4762     -0.0969      0.2072\n",
      "elasped_5       0.0687     0.0728     0.9444     0.3457     -0.0744      0.2119\n",
      "elasped_6       0.0860     0.0685     1.2546     0.2105     -0.0488      0.2207\n",
      "elasped_7       0.0639     0.0678     0.9432     0.3463     -0.0694      0.1973\n",
      "elasped_8       0.1204     0.0799     1.5060     0.1331     -0.0369      0.2776\n",
      "elasped_9       0.1721     0.0747     2.3047     0.0218      0.0252      0.3190\n",
      "elasped_10      0.1395     0.0650     2.1473     0.0325      0.0117      0.2673\n",
      "elasped_11      0.0938     0.0595     1.5776     0.1156     -0.0232      0.2108\n",
      "elasped_12      0.0676     0.0512     1.3189     0.1882     -0.0332      0.1683\n",
      "elasped_13      0.1219     0.0753     1.6189     0.1065     -0.0262      0.2700\n",
      "elasped_14      0.0793     0.0423     1.8767     0.0615     -0.0038      0.1625\n",
      "elasped_15      0.0933     0.0478     1.9539     0.0516     -0.0006      0.1873\n",
      "===============================================================================\n",
      "                          PanelOLS Estimation Summary                           \n",
      "================================================================================\n",
      "Dep. Variable:             log_rx_dom   R-squared:                        0.0611\n",
      "Estimator:                   PanelOLS   R-squared (Between):              0.0178\n",
      "No. Observations:                 386   R-squared (Within):               0.0485\n",
      "Date:                Wed, Sep 06 2023   R-squared (Overall):              0.0187\n",
      "Time:                        08:46:36   Log-likelihood                   -14.783\n",
      "Cov. Estimator:             Clustered                                           \n",
      "                                        F-statistic:                      0.8281\n",
      "Entities:                          30   P-value                           0.7052\n",
      "Avg Obs:                       12.867   Distribution:                  F(25,318)\n",
      "Min Obs:                       1.0000                                           \n",
      "Max Obs:                       14.000   F-statistic (robust):             113.60\n",
      "                                        P-value                           0.0000\n",
      "Time periods:                      14   Distribution:                  F(25,318)\n",
      "Avg Obs:                       27.571                                           \n",
      "Min Obs:                       27.000                                           \n",
      "Max Obs:                       29.000                                           \n",
      "                                                                                \n",
      "================================================================================\n"
     ]
    },
    {
     "name": "stderr",
     "output_type": "stream",
     "text": [
      "C:\\Users\\hakos\\AppData\\Local\\Temp\\ipykernel_23260\\1106599198.py:8: AbsorbingEffectWarning: \n",
      "Variables have been fully absorbed and have removed from the regression:\n",
      "\n",
      "year_trend, generic_per\n",
      "\n",
      "  res_fe=mod_fe.fit(cov_type='clustered', cluster_entity=True)\n"
     ]
    },
    {
     "data": {
      "image/png": "[encoded data removed]",
      "text/plain": [
       "<Figure size 720x432 with 1 Axes>"
      ]
     },
     "metadata": {
      "needs_background": "light"
     },
     "output_type": "display_data"
    }
   ],
   "source": [
    "# take log\n",
    "formula=\"log_rx_dom ~ year_trend+elasped_m10+elasped_m9+elasped_m8+elasped_m7+elasped_m6+elasped_m5+elasped_m4+elasped_m3+elasped_m2+elasped_0+elasped_1+elasped_2+elasped_3+elasped_4+elasped_5+elasped_6+elasped_7+elasped_8+elasped_9+elasped_10+elasped_11+elasped_12+elasped_13+elasped_14+elasped_15+generic_per+TimeEffects+EntityEffects\"\n",
    "# stock lag version\n",
    "# formula+=\"+stock_rx_lag\"\n",
    "# gemeric_per\n",
    "formula+=\" + generic_per\"\n",
    "mod_fe=PanelOLS.from_formula(formula, data=df,drop_absorbed=True)\n",
    "res_fe=mod_fe.fit(cov_type='clustered', cluster_entity=True)\n",
    "print(res_fe.summary.tables[1])\n",
    "print(res_fe.summary.tables[0])\n",
    "plot_result(res_fe,file_name=\"rx_log\",title=\"RX log\",period=25,insert_index=9,time_start=-10)"
   ]
  },
  {
   "cell_type": "markdown",
   "metadata": {},
   "source": [
    "### OTC"
   ]
  },
  {
   "cell_type": "code",
   "execution_count": 21,
   "metadata": {},
   "outputs": [],
   "source": [
    "\n",
    "# formula=\"otc_dom ~ year_trend+elasped_m10+elasped_m9+elasped_m8+elasped_m7+elasped_m6+elasped_m5+elasped_m4+elasped_m3+elasped_m2+elasped_0+elasped_1+elasped_2+elasped_3+elasped_4+elasped_5+elasped_6+elasped_7+elasped_8+elasped_9+elasped_10+elasped_11+elasped_12+elasped_13+elasped_14+elasped_15+generic_per+TimeEffects+EntityEffects\"\n",
    "# # stock lag version\n",
    "# # formula+=\"+stock_otc_lag\"\n",
    "# # gemeric_per\n",
    "# formula+=\" + generic_per\"\n",
    "# mod_fe=PanelOLS.from_formula(formula, data=df, drop_absorbed=True)\n",
    "# # mod_fe=PanelOLS.from_formula(formula, data=df, drop_absorbed=False)\n",
    "# res_fe=mod_fe.fit(cov_type='clustered', cluster_entity=True)\n",
    "# print(res_fe.summary.tables[1])\n",
    "# print(res_fe.summary.tables[0])\n",
    "# plot_result(res_fe,file_name=\"otc\",title=\"OTC\",period=25,insert_index=9,time_start=-10)"
   ]
  },
  {
   "cell_type": "code",
   "execution_count": 22,
   "metadata": {},
   "outputs": [
    {
     "name": "stdout",
     "output_type": "stream",
     "text": [
      "                          PanelOLS Estimation Summary                           \n",
      "================================================================================\n",
      "Dep. Variable:            log_otc_dom   R-squared:                        0.2352\n",
      "Estimator:                   PanelOLS   R-squared (Between):          -7.284e+21\n",
      "No. Observations:                 386   R-squared (Within):           -4.813e+23\n",
      "Date:                Wed, Sep 06 2023   R-squared (Overall):          -7.399e+21\n",
      "Time:                        08:46:36   Log-likelihood                   -215.28\n",
      "Cov. Estimator:             Clustered                                           \n",
      "                                        F-statistic:                      3.7495\n",
      "Entities:                          30   P-value                           0.0000\n",
      "Avg Obs:                       12.867   Distribution:                  F(26,317)\n",
      "Min Obs:                       1.0000                                           \n",
      "Max Obs:                       14.000   F-statistic (robust):             206.09\n",
      "                                        P-value                           0.0000\n",
      "Time periods:                      14   Distribution:                  F(26,317)\n",
      "Avg Obs:                       27.571                                           \n",
      "Min Obs:                       27.000                                           \n",
      "Max Obs:                       29.000                                           \n",
      "                                                                                \n",
      "                              Parameter Estimates                              \n",
      "===============================================================================\n",
      "             Parameter  Std. Err.     T-stat    P-value    Lower CI    Upper CI\n",
      "-------------------------------------------------------------------------------\n",
      "elasped_m10    -0.0953     0.1243    -0.7669     0.4437     -0.3400      0.1493\n",
      "elasped_m9      0.0867     0.1012     0.8568     0.3922     -0.1124      0.2858\n",
      "elasped_m8      0.0212     0.3432     0.0618     0.9508     -0.6540      0.6964\n",
      "elasped_m7      0.0401     0.3338     0.1200     0.9045     -0.6166      0.6967\n",
      "elasped_m6      0.1078     0.3340     0.3227     0.7471     -0.5494      0.7650\n",
      "elasped_m5      0.0625     0.1668     0.3747     0.7081     -0.2657      0.3907\n",
      "elasped_m4     -0.1070     0.1352    -0.7914     0.4293     -0.3731      0.1590\n",
      "elasped_m3     -0.1321     0.1794    -0.7363     0.4621     -0.4851      0.2209\n",
      "elasped_m2      0.0587     0.1515     0.3876     0.6986     -0.2393      0.3567\n",
      "elasped_0       0.2114     0.1199     1.7627     0.0789     -0.0246      0.4474\n",
      "elasped_1       0.3031     0.1521     1.9935     0.0471      0.0040      0.6023\n",
      "elasped_2       0.2493     0.1520     1.6407     0.1019     -0.0497      0.5483\n",
      "elasped_3       0.3472     0.1740     1.9958     0.0468      0.0049      0.6895\n",
      "elasped_4       0.3323     0.1755     1.8934     0.0592     -0.0130      0.6775\n",
      "elasped_5       0.2358     0.1476     1.5975     0.1111     -0.0546      0.5263\n",
      "elasped_6       0.4160     0.1587     2.6218     0.0092      0.1038      0.7282\n",
      "elasped_7       0.4131     0.1067     3.8721     0.0001      0.2032      0.6230\n",
      "elasped_8       0.5121     0.1307     3.9186     0.0001      0.2550      0.7692\n",
      "elasped_9       0.5625     0.1543     3.6445     0.0003      0.2588      0.8661\n",
      "elasped_10      0.4758     0.1333     3.5684     0.0004      0.2134      0.7381\n",
      "elasped_11      0.4668     0.1820     2.5646     0.0108      0.1087      0.8249\n",
      "elasped_12      0.4617     0.1262     3.6598     0.0003      0.2135      0.7100\n",
      "elasped_13      0.3459     0.1247     2.7744     0.0059      0.1006      0.5912\n",
      "elasped_14      0.2720     0.2142     1.2696     0.2051     -0.1495      0.6935\n",
      "elasped_15      0.3952     0.2477     1.5953     0.1116     -0.0922      0.8826\n",
      "generic_per  2.188e+10  6.211e+11     0.0352     0.9719    -1.2e+12   1.244e+12\n",
      "===============================================================================\n",
      "\n",
      "F-test for Poolability: 227.53\n",
      "P-value: 0.0000\n",
      "Distribution: F(42,317)\n",
      "\n",
      "Included effects: Entity, Time\n"
     ]
    },
    {
     "data": {
      "image/png": "[encoded data removed]",
      "text/plain": [
       "<Figure size 720x432 with 1 Axes>"
      ]
     },
     "metadata": {
      "needs_background": "light"
     },
     "output_type": "display_data"
    }
   ],
   "source": [
    "# take log\n",
    "formula=\"log_otc_dom ~elasped_m10+elasped_m9+elasped_m8+elasped_m7+elasped_m6+ elasped_m5+elasped_m4+elasped_m3+elasped_m2+elasped_0+elasped_1+elasped_2+elasped_3+elasped_4+elasped_5+elasped_6+elasped_7+elasped_8+elasped_9+elasped_10+elasped_11+elasped_12+elasped_13+elasped_14+elasped_15+generic_per+TimeEffects+EntityEffects\"\n",
    "\n",
    "# till 15\n",
    "formula=\"log_otc_dom ~elasped_m10+elasped_m9+elasped_m8+elasped_m7+elasped_m6+elasped_m5+elasped_m4+elasped_m3+elasped_m2+elasped_0+elasped_1+elasped_2+elasped_3+elasped_4+elasped_5+elasped_6+elasped_7+elasped_8+elasped_9+elasped_10+elasped_11+elasped_12+elasped_13+elasped_14+elasped_15+TimeEffects+EntityEffects\"\n",
    "\n",
    "# stock lag version\n",
    "# formula+=\"+log_stock_otc_lag\"\n",
    "\n",
    "# year trend\n",
    "# formula+=\"+year_trend\"\n",
    "\n",
    "# gemeric_per\n",
    "formula+=\" + generic_per\"\n",
    "\n",
    "mod_fe=PanelOLS.from_formula(formula, data=df,drop_absorbed=True)\n",
    "res_fe=mod_fe.fit(cov_type='clustered', cluster_entity=True)\n",
    "# res_fe=mod_fe.fit()\n",
    "# print(res_fe.summary.tables[1])\n",
    "# print(res_fe.summary.tables[0])\n",
    "print(res_fe)\n",
    "plot_result(res_fe,file_name=\"otc_log\",title=\"OTC log\",period=25,insert_index=9,time_start=-10)"
   ]
  },
  {
   "cell_type": "code",
   "execution_count": null,
   "metadata": {},
   "outputs": [],
   "source": []
  }
 ],
 "metadata": {
  "kernelspec": {
   "display_name": "Python 3",
   "language": "python",
   "name": "python3"
  },
  "language_info": {
   "codemirror_mode": {
    "name": "ipython",
    "version": 3
   },
   "file_extension": ".py",
   "mimetype": "text/x-python",
   "name": "python",
   "nbconvert_exporter": "python",
   "pygments_lexer": "ipython3",
   "version": "3.10.4"
  },
  "orig_nbformat": 4
 },
 "nbformat": 4,
 "nbformat_minor": 2
}
