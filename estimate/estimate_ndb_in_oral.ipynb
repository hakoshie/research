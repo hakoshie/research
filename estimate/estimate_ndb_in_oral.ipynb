{
 "cells": [
  {
   "cell_type": "code",
   "execution_count": 63,
   "metadata": {},
   "outputs": [],
   "source": [
    "import pandas as pd\n",
    "import numpy as np\n",
    "import statsmodels.api as sm\n",
    "from linearmodels.panel.data import PanelData\n",
    "from linearmodels.panel import PanelOLS, PooledOLS, RandomEffects, compare\n",
    "import matplotlib.pyplot as plt"
   ]
  },
  {
   "cell_type": "code",
   "execution_count": 64,
   "metadata": {},
   "outputs": [],
   "source": [
    "df=pd.read_csv(\"../data/merged/len4_ndb_agg_in_oral_DropNever.csv\",encoding=\"shift-jis\",index_col=0)"
   ]
  },
  {
   "cell_type": "code",
   "execution_count": 65,
   "metadata": {},
   "outputs": [
    {
     "name": "stdout",
     "output_type": "stream",
     "text": [
      "['id', 'id_l4', 'elasped_m5', 'elasped_m4', 'elasped_m3', 'elasped_m2', 'elasped_m1', 'elasped_0', 'elasped_1', 'elasped_2', 'elasped_3', 'elasped_4', 'elasped_5', 'elasped_6', 'elasped_7', 'elasped_8', 'elasped_9', 'elasped_10', 'elasped_11', 'elasped_12', 'elasped_13', 'elasped_14', 'elasped_15', 'elasped_16', 'elasped_17', 'elasped_18', 'elasped_19', 'elasped_20', 'id_1145.0', 'id_1147.0', 'id_1149.0', 'id_1219.0', 'id_1231.0', 'id_1242.0', 'id_1249.0', 'id_1319.0', 'id_1324.0', 'id_1329.0', 'id_2119.0', 'id_2189.0', 'id_2229.0', 'id_2234.0', 'id_2239.0', 'id_2249.0', 'id_2259.0', 'id_2290.0', 'id_2319.0', 'id_2325.0', 'id_2329.0', 'id_2359.0', 'id_2399.0', 'id_2454.0', 'id_2459.0', 'id_2529.0', 'id_2590.0', 'id_2646.0', 'id_2649.0', 'id_2655.0', 'id_2659.0', 'id_3136.0', 'id_3214.0', 'id_3327.0', 'id_3399.0', 'id_3919.0', 'id_3992.0', 'id_3999.0', 'id_4413.0', 'id_4490.0', 'id_6250.0', 'id_6290.0', 'id_7990.0']\n"
     ]
    },
    {
     "data": {
      "text/plain": [
       "['year',\n",
       " 'generic_per',\n",
       " '後発品区分',\n",
       " 'id',\n",
       " 'id_l4',\n",
       " 'elasped_m5',\n",
       " 'elasped_m4',\n",
       " 'elasped_m3',\n",
       " 'elasped_m2',\n",
       " 'elasped_m1',\n",
       " 'elasped_0',\n",
       " 'elasped_1',\n",
       " 'elasped_2',\n",
       " 'elasped_3',\n",
       " 'elasped_4',\n",
       " 'elasped_5',\n",
       " 'elasped_6',\n",
       " 'elasped_7',\n",
       " 'elasped_8',\n",
       " 'elasped_9',\n",
       " 'elasped_10',\n",
       " 'elasped_11',\n",
       " 'elasped_12',\n",
       " 'elasped_13',\n",
       " 'elasped_14',\n",
       " 'elasped_15',\n",
       " 'elasped_16',\n",
       " 'elasped_17',\n",
       " 'elasped_18',\n",
       " 'elasped_19',\n",
       " 'elasped_20',\n",
       " 'id_1145.0',\n",
       " 'id_1147.0',\n",
       " 'id_1149.0',\n",
       " 'id_1219.0',\n",
       " 'id_1231.0',\n",
       " 'id_1242.0',\n",
       " 'id_1249.0',\n",
       " 'id_1319.0',\n",
       " 'id_1324.0',\n",
       " 'id_1329.0',\n",
       " 'id_2119.0',\n",
       " 'id_2189.0',\n",
       " 'id_2229.0',\n",
       " 'id_2234.0',\n",
       " 'id_2239.0',\n",
       " 'id_2249.0',\n",
       " 'id_2259.0',\n",
       " 'id_2290.0',\n",
       " 'id_2319.0',\n",
       " 'id_2325.0',\n",
       " 'id_2329.0',\n",
       " 'id_2359.0',\n",
       " 'id_2399.0',\n",
       " 'id_2454.0',\n",
       " 'id_2459.0',\n",
       " 'id_2529.0',\n",
       " 'id_2590.0',\n",
       " 'id_2646.0',\n",
       " 'id_2649.0',\n",
       " 'id_2655.0',\n",
       " 'id_2659.0',\n",
       " 'id_3136.0',\n",
       " 'id_3214.0',\n",
       " 'id_3327.0',\n",
       " 'id_3399.0',\n",
       " 'id_3919.0',\n",
       " 'id_3992.0',\n",
       " 'id_3999.0',\n",
       " 'id_4413.0',\n",
       " 'id_4490.0',\n",
       " 'id_6250.0',\n",
       " 'id_6290.0',\n",
       " 'id_7990.0']"
      ]
     },
     "execution_count": 65,
     "metadata": {},
     "output_type": "execute_result"
    }
   ],
   "source": [
    "## processing\n",
    "df_columns = df.columns # 列名をリストとして取得\n",
    "import re\n",
    "\n",
    "# 正規表現パターンを作成します\n",
    "pattern = r'id|^elasped_(m[0-5]|[0-9]|1\\d|20)$'\n",
    "\n",
    "# 列名のリストを作成します\n",
    "column_names = [col for col in df_columns if re.search(pattern, col)]\n",
    "\n",
    "# 列名のリストを表示します\n",
    "print(column_names)\n",
    "rest_columns=[\"year\",\"generic_per\",\"後発品区分\"]\n",
    "column_names=rest_columns+column_names\n",
    "column_names"
   ]
  },
  {
   "cell_type": "code",
   "execution_count": 66,
   "metadata": {},
   "outputs": [],
   "source": [
    "df[\"year2\"]=df[\"year\"]-2014\n",
    "df[\"log_quantity\"]=np.log(df[\"総計\"]+0.001)\n",
    "df[\"log_revenue\"]=np.log(df[\"revenue\"]+0.001)\n",
    "df_generic=df.copy()\n",
    "df_branded=df.copy()\n",
    "df_branded=df_branded.loc[df_branded[\"後発品区分\"]==0]\n",
    "df_generic=df_generic.loc[df_generic[\"後発品区分\"]==1]\n",
    "df_branded=df_branded.set_index([\"id\",\"year\"])\n",
    "df_generic=df_generic.set_index([\"id\",\"year\"])\n",
    "df=df.set_index([\"id\",\"year\"])\n",
    "df_branded=PanelData(df_branded,convert_dummies=False)\n",
    "df_generic=PanelData(df_generic,convert_dummies=False)\n",
    "df=PanelData(df,convert_dummies=False)"
   ]
  },
  {
   "cell_type": "code",
   "execution_count": 67,
   "metadata": {},
   "outputs": [],
   "source": [
    "# df_year=df.dataframe.reset_index()\n",
    "# df_year[\"year2\"]=df_year[\"year\"]\n",
    "# df_year=df_year.set_index([\"id\",\"year\"])\n",
    "# df_year=PanelData(df_year,convert_dummies=False)"
   ]
  },
  {
   "cell_type": "code",
   "execution_count": 68,
   "metadata": {},
   "outputs": [
    {
     "name": "stdout",
     "output_type": "stream",
     "text": [
      "                              Parameter Estimates                              \n",
      "===============================================================================\n",
      "             Parameter  Std. Err.     T-stat    P-value    Lower CI    Upper CI\n",
      "-------------------------------------------------------------------------------\n",
      "year2           4.5682     0.1410     32.401     0.0000      4.2917      4.8448\n",
      "後発品区分          -0.5288     0.2898    -1.8247     0.0682     -1.0973      0.0396\n",
      "oral            3.0332     0.7966     3.8076     0.0001      1.4707      4.5957\n",
      "in_hospital     0.1207     0.1611     0.7490     0.4540     -0.1953      0.4366\n",
      "elasped_m5     -0.0578     0.0923    -0.6262     0.5313     -0.2388      0.1232\n",
      "elasped_m4      0.1041     0.0845     1.2316     0.2183     -0.0617      0.2699\n",
      "elasped_m3     -0.0236     0.1050    -0.2253     0.8218     -0.2295      0.1822\n",
      "elasped_m2      0.1445     0.0972     1.4861     0.1374     -0.0462      0.3351\n",
      "elasped_m1      0.1137     0.1280     0.8883     0.3745     -0.1374      0.3648\n",
      "elasped_0       0.0504     0.1351     0.3733     0.7090     -0.2145      0.3154\n",
      "elasped_1       0.1543     0.1361     1.1333     0.2573     -0.1127      0.4213\n",
      "elasped_2       0.0912     0.1131     0.8060     0.4203     -0.1307      0.3131\n",
      "elasped_3      -0.0399     0.1423    -0.2802     0.7794     -0.3189      0.2392\n",
      "elasped_4      -0.1034     0.0974    -1.0618     0.2885     -0.2945      0.0876\n",
      "elasped_5      -0.2762     0.2025    -1.3640     0.1727     -0.6733      0.1210\n",
      "elasped_6      -0.1896     0.1124    -1.6878     0.0916     -0.4100      0.0307\n",
      "elasped_7      -0.3080     0.1841    -1.6725     0.0946     -0.6691      0.0532\n",
      "elasped_8      -0.1426     0.1329    -1.0733     0.2833     -0.4032      0.1180\n",
      "elasped_9      -0.2975     0.1792    -1.6598     0.0972     -0.6490      0.0541\n",
      "elasped_10     -0.1509     0.1423    -1.0608     0.2889     -0.4300      0.1281\n",
      "elasped_11     -0.1447     0.1242    -1.1647     0.2443     -0.3883      0.0990\n",
      "elasped_12     -0.2380     0.1261    -1.8876     0.0593     -0.4852      0.0093\n",
      "elasped_13     -0.1345     0.1249    -1.0765     0.2819     -0.3795      0.1105\n",
      "elasped_14     -0.2044     0.1072    -1.9077     0.0566     -0.4146      0.0058\n",
      "elasped_15     -0.0623     0.0706    -0.8824     0.3777     -0.2008      0.0762\n",
      "===============================================================================\n"
     ]
    }
   ],
   "source": [
    "# all data\n",
    "formula=\"log_quantity~ year2+後発品区分+oral+in_hospital+elasped_m5+elasped_m4+elasped_m3+elasped_m2+elasped_m1+elasped_0+elasped_1+elasped_2+elasped_3+elasped_4+elasped_5+elasped_6+elasped_7+elasped_8+elasped_9+elasped_10+elasped_11+elasped_12+elasped_13+elasped_14+elasped_15+TimeEffects+EntityEffects\"\n",
    "mod_fe=PanelOLS.from_formula(formula, data=df,check_rank=False,drop_absorbed=True)\n",
    "res_fe=mod_fe.fit(cov_type='clustered', cluster_entity=True)\n",
    "print(res_fe.summary.tables[1])\n",
    "# print(res_fe.summary.tables[0])\n",
    "# print(res_fe)"
   ]
  },
  {
   "cell_type": "code",
   "execution_count": 69,
   "metadata": {},
   "outputs": [
    {
     "name": "stdout",
     "output_type": "stream",
     "text": [
      "                          PanelOLS Estimation Summary                           \n",
      "================================================================================\n",
      "Dep. Variable:           log_quantity   R-squared:                        0.3426\n",
      "Estimator:                   PanelOLS   R-squared (Between):             -0.7043\n",
      "No. Observations:                 747   R-squared (Within):              -56.365\n",
      "Date:                Thu, Aug 17 2023   R-squared (Overall):             -12.081\n",
      "Time:                        21:01:00   Log-likelihood                   -1107.8\n",
      "Cov. Estimator:             Clustered                                           \n",
      "                                        F-statistic:                      19.685\n",
      "Entities:                          42   P-value                           0.0000\n",
      "Avg Obs:                       17.786   Distribution:                  F(18,680)\n",
      "Min Obs:                       6.0000                                           \n",
      "Max Obs:                       32.000   F-statistic (robust):          8.647e+07\n",
      "                                        P-value                           0.0000\n",
      "Time periods:                       8   Distribution:                  F(18,680)\n",
      "Avg Obs:                       93.375                                           \n",
      "Min Obs:                       85.000                                           \n",
      "Max Obs:                       96.000                                           \n",
      "                                                                                \n",
      "                              Parameter Estimates                              \n",
      "===============================================================================\n",
      "             Parameter  Std. Err.     T-stat    P-value    Lower CI    Upper CI\n",
      "-------------------------------------------------------------------------------\n",
      "oral            2.7648     0.9386     2.9456     0.0033      0.9218      4.6077\n",
      "in_hospital     0.3103     0.1712     1.8127     0.0703     -0.0258      0.6464\n",
      "year2           4.4450     0.1871     23.756     0.0000      4.0776      4.8124\n",
      "elasped_m5     -0.2264     0.1339    -1.6910     0.0913     -0.4893      0.0365\n",
      "elasped_m4     -0.0903     0.1093    -0.8263     0.4089     -0.3048      0.1243\n",
      "elasped_m3     -0.1415     0.1192    -1.1877     0.2354     -0.3755      0.0925\n",
      "elasped_m2     -0.0735     0.1066    -0.6900     0.4905     -0.2828      0.1357\n",
      "elasped_m1     -0.0820     0.1430    -0.5737     0.5664     -0.3627      0.1987\n",
      "elasped_0       0.0966     0.2091     0.4618     0.6443     -0.3140      0.5072\n",
      "elasped_1       0.0043     0.1689     0.0256     0.9796     -0.3272      0.3359\n",
      "elasped_2      -0.0097     0.1803    -0.0537     0.9572     -0.3636      0.3443\n",
      "elasped_3      -0.1806     0.1169    -1.5452     0.1228     -0.4101      0.0489\n",
      "elasped_4      -0.0558     0.1160    -0.4814     0.6304     -0.2836      0.1719\n",
      "elasped_5      -0.1457     0.0951    -1.5326     0.1258     -0.3325      0.0410\n",
      "elasped_6      -0.2654     0.1153    -2.3009     0.0217     -0.4919     -0.0389\n",
      "elasped_7      -0.2458     0.0931    -2.6412     0.0085     -0.4285     -0.0631\n",
      "elasped_8      -0.1200     0.0907    -1.3232     0.1862     -0.2981      0.0581\n",
      "elasped_9      -0.1933     0.0921    -2.0997     0.0361     -0.3741     -0.0125\n",
      "elasped_10     -0.0125     0.0535    -0.2329     0.8159     -0.1175      0.0926\n",
      "===============================================================================\n",
      "\n",
      "F-test for Poolability: 360.17\n",
      "P-value: 0.0000\n",
      "Distribution: F(48,680)\n",
      "\n",
      "Included effects: Entity, Time\n"
     ]
    },
    {
     "name": "stderr",
     "output_type": "stream",
     "text": [
      "C:\\Users\\hakos\\AppData\\Local\\Temp\\ipykernel_16544\\2744887352.py:4: AbsorbingEffectWarning: \n",
      "Variables have been fully absorbed and have removed from the regression:\n",
      "\n",
      "generic_per\n",
      "\n",
      "  res_fe=mod_fe.fit(cov_type='clustered', cluster_entity=True)\n"
     ]
    }
   ],
   "source": [
    "# generic data\n",
    "formula=\"log_quantity~oral+in_hospital+year2+generic_per+elasped_m5+elasped_m4+elasped_m3+elasped_m2+elasped_m1+elasped_0+elasped_1+elasped_2+elasped_3+elasped_4+elasped_5+elasped_6+elasped_7+elasped_8+elasped_9+elasped_10+TimeEffects+EntityEffects\"\n",
    "mod_fe=PanelOLS.from_formula(formula, data=df_generic,check_rank=False,drop_absorbed=True)\n",
    "res_fe=mod_fe.fit(cov_type='clustered', cluster_entity=True)\n",
    "# print(res_fe.summary.tables[1])\n",
    "# print(res_fe.summary.tables[0])\n",
    "print(res_fe)"
   ]
  },
  {
   "cell_type": "code",
   "execution_count": 71,
   "metadata": {},
   "outputs": [
    {
     "name": "stdout",
     "output_type": "stream",
     "text": [
      "                          PanelOLS Estimation Summary                           \n",
      "================================================================================\n",
      "Dep. Variable:           log_quantity   R-squared:                        0.3324\n",
      "Estimator:                   PanelOLS   R-squared (Between):             -0.4134\n",
      "No. Observations:                 940   R-squared (Within):              -21.847\n",
      "Date:                Thu, Aug 17 2023   R-squared (Overall):             -11.256\n",
      "Time:                        21:02:23   Log-likelihood                   -1875.5\n",
      "Cov. Estimator:             Clustered                                           \n",
      "                                        F-statistic:                      24.116\n",
      "Entities:                          43   P-value                           0.0000\n",
      "Avg Obs:                       21.860   Distribution:                  F(18,872)\n",
      "Min Obs:                       14.000                                           \n",
      "Max Obs:                       32.000   F-statistic (robust):          4.189e+07\n",
      "                                        P-value                           0.0000\n",
      "Time periods:                       8   Distribution:                  F(18,872)\n",
      "Avg Obs:                       117.50                                           \n",
      "Min Obs:                       113.00                                           \n",
      "Max Obs:                       119.00                                           \n",
      "                                                                                \n",
      "                              Parameter Estimates                              \n",
      "===============================================================================\n",
      "             Parameter  Std. Err.     T-stat    P-value    Lower CI    Upper CI\n",
      "-------------------------------------------------------------------------------\n",
      "oral            3.3480     0.9285     3.6056     0.0003      1.5256      5.1704\n",
      "in_hospital     0.0123     0.2006     0.0615     0.9510     -0.3813      0.4060\n",
      "year2           4.4315     0.1436     30.869     0.0000      4.1497      4.7132\n",
      "elasped_m5     -0.0442     0.1581    -0.2796     0.7799     -0.3545      0.2661\n",
      "elasped_m4      0.2544     0.1709     1.4880     0.1371     -0.0811      0.5899\n",
      "elasped_m3      0.0485     0.1679     0.2886     0.7729     -0.2810      0.3779\n",
      "elasped_m2      0.3362     0.1954     1.7209     0.0856     -0.0472      0.7197\n",
      "elasped_m1      0.2016     0.1764     1.1427     0.2535     -0.1447      0.5479\n",
      "elasped_0       0.1898     0.1576     1.2038     0.2290     -0.1196      0.4991\n",
      "elasped_1       0.4401     0.1602     2.7467     0.0061      0.1256      0.7546\n",
      "elasped_2       0.4435     0.1859     2.3860     0.0172      0.0787      0.8083\n",
      "elasped_3       0.2160     0.1946     1.1101     0.2673     -0.1659      0.5978\n",
      "elasped_4       0.0931     0.1445     0.6443     0.5196     -0.1905      0.3768\n",
      "elasped_5      -0.2150     0.2870    -0.7490     0.4540     -0.7783      0.3484\n",
      "elasped_6       0.0900     0.0918     0.9810     0.3269     -0.0901      0.2701\n",
      "elasped_7      -0.1078     0.2363    -0.4561     0.6484     -0.5715      0.3560\n",
      "elasped_8       0.1319     0.0983     1.3415     0.1801     -0.0611      0.3249\n",
      "elasped_9      -0.0420     0.1946    -0.2160     0.8291     -0.4239      0.3398\n",
      "elasped_10      0.0838     0.0798     1.0498     0.2941     -0.0729      0.2405\n",
      "===============================================================================\n",
      "\n",
      "F-test for Poolability: 203.74\n",
      "P-value: 0.0000\n",
      "Distribution: F(49,872)\n",
      "\n",
      "Included effects: Entity, Time\n"
     ]
    },
    {
     "name": "stderr",
     "output_type": "stream",
     "text": [
      "C:\\Users\\hakos\\AppData\\Local\\Temp\\ipykernel_16544\\2934924666.py:4: AbsorbingEffectWarning: \n",
      "Variables have been fully absorbed and have removed from the regression:\n",
      "\n",
      "generic_per\n",
      "\n",
      "  res_fe=mod_fe.fit(cov_type='clustered', cluster_entity=True)\n"
     ]
    }
   ],
   "source": [
    "# branded data\n",
    "formula=\"log_quantity~ oral+in_hospital+year2+generic_per+elasped_m5+elasped_m4+elasped_m3+elasped_m2+elasped_m1+elasped_0+elasped_1+elasped_2+elasped_3+elasped_4+elasped_5+elasped_6+elasped_7+elasped_8+elasped_9+elasped_10+TimeEffects+EntityEffects\"\n",
    "mod_fe=PanelOLS.from_formula(formula, data=df_branded,check_rank=False,drop_absorbed=True)\n",
    "res_fe=mod_fe.fit(cov_type='clustered', cluster_entity=True)\n",
    "# print(res_fe.summary.tables[1])\n",
    "# print(res_fe.summary.tables[0])\n",
    "print(res_fe)"
   ]
  }
 ],
 "metadata": {
  "kernelspec": {
   "display_name": "Python 3",
   "language": "python",
   "name": "python3"
  },
  "language_info": {
   "codemirror_mode": {
    "name": "ipython",
    "version": 3
   },
   "file_extension": ".py",
   "mimetype": "text/x-python",
   "name": "python",
   "nbconvert_exporter": "python",
   "pygments_lexer": "ipython3",
   "version": "3.10.4"
  },
  "orig_nbformat": 4
 },
 "nbformat": 4,
 "nbformat_minor": 2
}
