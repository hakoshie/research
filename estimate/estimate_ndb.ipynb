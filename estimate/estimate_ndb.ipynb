{
 "cells": [
  {
   "cell_type": "code",
   "execution_count": 69,
   "metadata": {},
   "outputs": [],
   "source": [
    "import pandas as pd\n",
    "import numpy as np\n",
    "import statsmodels.api as sm\n",
    "from linearmodels.panel.data import PanelData\n",
    "from linearmodels.panel import PanelOLS, PooledOLS, RandomEffects, compare\n",
    "import matplotlib.pyplot as plt"
   ]
  },
  {
   "cell_type": "code",
   "execution_count": 70,
   "metadata": {},
   "outputs": [],
   "source": [
    "df=pd.read_csv(\"../data/merged/len4_ndb_agg_DropNever.csv\",encoding=\"shift-jis\",index_col=0)"
   ]
  },
  {
   "cell_type": "code",
   "execution_count": 71,
   "metadata": {},
   "outputs": [
    {
     "name": "stdout",
     "output_type": "stream",
     "text": [
      "['id', 'id_l4', 'elasped_m5', 'elasped_m4', 'elasped_m3', 'elasped_m2', 'elasped_m1', 'elasped_0', 'elasped_1', 'elasped_2', 'elasped_3', 'elasped_4', 'elasped_5', 'elasped_6', 'elasped_7', 'elasped_8', 'elasped_9', 'elasped_10', 'elasped_11', 'elasped_12', 'elasped_13', 'elasped_14', 'elasped_15', 'elasped_16', 'elasped_17', 'elasped_18', 'elasped_19', 'elasped_20', 'id_1145.0', 'id_1147.0', 'id_1149.0', 'id_1219.0', 'id_1231.0', 'id_1242.0', 'id_1249.0', 'id_1319.0', 'id_1324.0', 'id_1329.0', 'id_2119.0', 'id_2189.0', 'id_2229.0', 'id_2234.0', 'id_2239.0', 'id_2249.0', 'id_2259.0', 'id_2290.0', 'id_2319.0', 'id_2325.0', 'id_2329.0', 'id_2359.0', 'id_2399.0', 'id_2454.0', 'id_2459.0', 'id_2529.0', 'id_2590.0', 'id_2646.0', 'id_2649.0', 'id_2655.0', 'id_2659.0', 'id_3136.0', 'id_3214.0', 'id_3327.0', 'id_3399.0', 'id_3919.0', 'id_3992.0', 'id_3999.0', 'id_4413.0', 'id_4490.0', 'id_6250.0', 'id_6290.0', 'id_7990.0']\n"
     ]
    },
    {
     "data": {
      "text/plain": [
       "['year',\n",
       " 'generic_per',\n",
       " '後発品区分',\n",
       " 'id',\n",
       " 'id_l4',\n",
       " 'elasped_m5',\n",
       " 'elasped_m4',\n",
       " 'elasped_m3',\n",
       " 'elasped_m2',\n",
       " 'elasped_m1',\n",
       " 'elasped_0',\n",
       " 'elasped_1',\n",
       " 'elasped_2',\n",
       " 'elasped_3',\n",
       " 'elasped_4',\n",
       " 'elasped_5',\n",
       " 'elasped_6',\n",
       " 'elasped_7',\n",
       " 'elasped_8',\n",
       " 'elasped_9',\n",
       " 'elasped_10',\n",
       " 'elasped_11',\n",
       " 'elasped_12',\n",
       " 'elasped_13',\n",
       " 'elasped_14',\n",
       " 'elasped_15',\n",
       " 'elasped_16',\n",
       " 'elasped_17',\n",
       " 'elasped_18',\n",
       " 'elasped_19',\n",
       " 'elasped_20',\n",
       " 'id_1145.0',\n",
       " 'id_1147.0',\n",
       " 'id_1149.0',\n",
       " 'id_1219.0',\n",
       " 'id_1231.0',\n",
       " 'id_1242.0',\n",
       " 'id_1249.0',\n",
       " 'id_1319.0',\n",
       " 'id_1324.0',\n",
       " 'id_1329.0',\n",
       " 'id_2119.0',\n",
       " 'id_2189.0',\n",
       " 'id_2229.0',\n",
       " 'id_2234.0',\n",
       " 'id_2239.0',\n",
       " 'id_2249.0',\n",
       " 'id_2259.0',\n",
       " 'id_2290.0',\n",
       " 'id_2319.0',\n",
       " 'id_2325.0',\n",
       " 'id_2329.0',\n",
       " 'id_2359.0',\n",
       " 'id_2399.0',\n",
       " 'id_2454.0',\n",
       " 'id_2459.0',\n",
       " 'id_2529.0',\n",
       " 'id_2590.0',\n",
       " 'id_2646.0',\n",
       " 'id_2649.0',\n",
       " 'id_2655.0',\n",
       " 'id_2659.0',\n",
       " 'id_3136.0',\n",
       " 'id_3214.0',\n",
       " 'id_3327.0',\n",
       " 'id_3399.0',\n",
       " 'id_3919.0',\n",
       " 'id_3992.0',\n",
       " 'id_3999.0',\n",
       " 'id_4413.0',\n",
       " 'id_4490.0',\n",
       " 'id_6250.0',\n",
       " 'id_6290.0',\n",
       " 'id_7990.0']"
      ]
     },
     "execution_count": 71,
     "metadata": {},
     "output_type": "execute_result"
    }
   ],
   "source": [
    "## processing\n",
    "df_columns = df.columns # 列名をリストとして取得\n",
    "import re\n",
    "\n",
    "# 正規表現パターンを作成します\n",
    "pattern = r'id|^elasped_(m[0-5]|[0-9]|1\\d|20)$'\n",
    "\n",
    "# 列名のリストを作成します\n",
    "column_names = [col for col in df_columns if re.search(pattern, col)]\n",
    "\n",
    "# 列名のリストを表示します\n",
    "print(column_names)\n",
    "rest_columns=[\"year\",\"generic_per\",\"後発品区分\"]\n",
    "column_names=rest_columns+column_names\n",
    "column_names"
   ]
  },
  {
   "cell_type": "code",
   "execution_count": 72,
   "metadata": {},
   "outputs": [],
   "source": [
    "df[\"log_quantity\"]=np.log(df[\"総計\"])\n",
    "df[\"log_revenue\"]=np.log(df[\"revenue\"])\n",
    "df_generic=df.copy()\n",
    "df_branded=df.copy()\n",
    "df_branded=df_branded.loc[df_branded[\"後発品区分\"]==0]\n",
    "df_generic=df_generic.loc[df_generic[\"後発品区分\"]==1]\n",
    "df_branded=df_branded.set_index([\"id\",\"year\"])\n",
    "df_generic=df_generic.set_index([\"id\",\"year\"])\n",
    "df=df.set_index([\"id\",\"year\"])\n",
    "df_branded=PanelData(df_branded,convert_dummies=False)\n",
    "df_generic=PanelData(df_generic,convert_dummies=False)\n",
    "df=PanelData(df,convert_dummies=False)"
   ]
  },
  {
   "cell_type": "code",
   "execution_count": 81,
   "metadata": {},
   "outputs": [
    {
     "name": "stdout",
     "output_type": "stream",
     "text": [
      "                              Parameter Estimates                              \n",
      "===============================================================================\n",
      "             Parameter  Std. Err.     T-stat    P-value    Lower CI    Upper CI\n",
      "-------------------------------------------------------------------------------\n",
      "後発品区分          -0.7953     0.2850    -2.7909     0.0054     -1.3549     -0.2356\n",
      "generic_per     0.2916     0.0024     121.35     0.0000      0.2869      0.2963\n",
      "elasped_m5     -0.0791     0.0976    -0.8102     0.4181     -0.2707      0.1126\n",
      "elasped_m4     -0.0046     0.0689    -0.0666     0.9469     -0.1399      0.1307\n",
      "elasped_m3     -0.0466     0.0795    -0.5857     0.5583     -0.2027      0.1096\n",
      "elasped_m2      0.0323     0.0836     0.3865     0.6992     -0.1319      0.1966\n",
      "elasped_m1      0.0974     0.1042     0.9343     0.3505     -0.1073      0.3020\n",
      "elasped_0       0.0079     0.1562     0.0508     0.9595     -0.2988      0.3147\n",
      "elasped_1       0.0335     0.1120     0.2996     0.7646     -0.1864      0.2535\n",
      "elasped_2       0.0179     0.1151     0.1559     0.8762     -0.2081      0.2439\n",
      "elasped_3      -0.0363     0.1064    -0.3411     0.7332     -0.2452      0.1726\n",
      "elasped_4      -0.0536     0.0925    -0.5796     0.5624     -0.2352      0.1280\n",
      "elasped_5      -0.0989     0.0938    -1.0550     0.2919     -0.2830      0.0852\n",
      "elasped_6      -0.0852     0.1048    -0.8127     0.4167     -0.2910      0.1206\n",
      "elasped_7      -0.0745     0.0954    -0.7808     0.4352     -0.2619      0.1129\n",
      "elasped_8      -0.0459     0.1116    -0.4111     0.6811     -0.2651      0.1733\n",
      "elasped_9      -0.0812     0.1236    -0.6569     0.5115     -0.3239      0.1615\n",
      "elasped_10      0.0057     0.1173     0.0488     0.9611     -0.2246      0.2360\n",
      "elasped_11      0.0497     0.1061     0.4684     0.6397     -0.1587      0.2581\n",
      "elasped_12     -0.0221     0.1209    -0.1825     0.8553     -0.2595      0.2154\n",
      "elasped_13      0.0582     0.1124     0.5176     0.6049     -0.1626      0.2789\n",
      "elasped_14     -0.0639     0.1204    -0.5309     0.5957     -0.3005      0.1726\n",
      "elasped_15      0.1190     0.0928     1.2819     0.2004     -0.0633      0.3014\n",
      "===============================================================================\n"
     ]
    }
   ],
   "source": [
    "# all data\n",
    "formula=\"log_quantity~ 後発品区分+generic_per+elasped_m5+elasped_m4+elasped_m3+elasped_m2+elasped_m1+elasped_0+elasped_1+elasped_2+elasped_3+elasped_4+elasped_5+elasped_6+elasped_7+elasped_8+elasped_9+elasped_10+elasped_11+elasped_12+elasped_13+elasped_14+elasped_15+TimeEffects+EntityEffects\"\n",
    "mod_fe=PanelOLS.from_formula(formula, data=df,check_rank=False,drop_absorbed=True)\n",
    "res_fe=mod_fe.fit(cov_type='clustered', cluster_entity=True)\n",
    "print(res_fe.summary.tables[1])\n",
    "# print(res_fe.summary.tables[0])\n",
    "# print(res_fe)"
   ]
  },
  {
   "cell_type": "code",
   "execution_count": 89,
   "metadata": {},
   "outputs": [
    {
     "name": "stdout",
     "output_type": "stream",
     "text": [
      "                             Parameter Estimates                              \n",
      "==============================================================================\n",
      "            Parameter  Std. Err.     T-stat    P-value    Lower CI    Upper CI\n",
      "------------------------------------------------------------------------------\n",
      "Intercept      19.053     0.0615     309.57     0.0000      18.932      19.174\n",
      "elasped_m5    -0.2578     0.1736    -1.4855     0.1386     -0.5996      0.0840\n",
      "elasped_m4    -0.0479     0.1208    -0.3963     0.6922     -0.2858      0.1900\n",
      "elasped_m3    -0.1449     0.1422    -1.0189     0.3092     -0.4249      0.1351\n",
      "elasped_m2    -0.0232     0.1617    -0.1432     0.8863     -0.3417      0.2953\n",
      "elasped_m1     0.0511     0.1819     0.2811     0.7788     -0.3071      0.4094\n",
      "elasped_0      0.0163     0.2321     0.0703     0.9440     -0.4408      0.4734\n",
      "elasped_1      0.0821     0.1847     0.4444     0.6571     -0.2816      0.4457\n",
      "elasped_2      0.0345     0.1839     0.1875     0.8514     -0.3277      0.3967\n",
      "elasped_3     -0.0658     0.1537    -0.4280     0.6690     -0.3685      0.2369\n",
      "elasped_4     -0.0710     0.1201    -0.5914     0.5548     -0.3075      0.1655\n",
      "elasped_5     -0.1959     0.1359    -1.4410     0.1508     -0.4635      0.0718\n",
      "elasped_6     -0.1844     0.1300    -1.4182     0.1573     -0.4404      0.0716\n",
      "elasped_7     -0.1444     0.0905    -1.5956     0.1118     -0.3225      0.0338\n",
      "elasped_8     -0.0707     0.1062    -0.6656     0.5062     -0.2798      0.1384\n",
      "elasped_9     -0.1651     0.1080    -1.5287     0.1276     -0.3778      0.0476\n",
      "elasped_10     0.0216     0.0863     0.2500     0.8028     -0.1484      0.1915\n",
      "==============================================================================\n"
     ]
    },
    {
     "name": "stderr",
     "output_type": "stream",
     "text": [
      "C:\\Users\\hakos\\AppData\\Local\\Temp\\ipykernel_18104\\633409709.py:4: AbsorbingEffectWarning: \n",
      "Variables have been fully absorbed and have removed from the regression:\n",
      "\n",
      "generic_per\n",
      "\n",
      "  res_fe=mod_fe.fit(cov_type='clustered', cluster_entity=True)\n"
     ]
    }
   ],
   "source": [
    "# generic data\n",
    "formula=\"log_quantity~1+generic_per+elasped_m5+elasped_m4+elasped_m3+elasped_m2+elasped_m1+elasped_0+elasped_1+elasped_2+elasped_3+elasped_4+elasped_5+elasped_6+elasped_7+elasped_8+elasped_9+elasped_10+TimeEffects+EntityEffects\"\n",
    "mod_fe=PanelOLS.from_formula(formula, data=df_generic,check_rank=False,drop_absorbed=True)\n",
    "res_fe=mod_fe.fit(cov_type='clustered', cluster_entity=True)\n",
    "print(res_fe.summary.tables[1])\n",
    "# print(res_fe.summary.tables[0])\n",
    "# print(res_fe)"
   ]
  },
  {
   "cell_type": "code",
   "execution_count": 103,
   "metadata": {},
   "outputs": [
    {
     "name": "stdout",
     "output_type": "stream",
     "text": [
      "                          PanelOLS Estimation Summary                           \n",
      "================================================================================\n",
      "Dep. Variable:           log_quantity   R-squared:                        0.0437\n",
      "Estimator:                   PanelOLS   R-squared (Between):             -0.0117\n",
      "No. Observations:                 343   R-squared (Within):              -0.0733\n",
      "Date:                Thu, Aug 17 2023   R-squared (Overall):             -0.0127\n",
      "Time:                        13:18:56   Log-likelihood                    62.265\n",
      "Cov. Estimator:             Clustered                                           \n",
      "                                        F-statistic:                      0.7919\n",
      "Entities:                          43   P-value                           0.6946\n",
      "Avg Obs:                       7.9767   Distribution:                  F(16,277)\n",
      "Min Obs:                       7.0000                                           \n",
      "Max Obs:                       8.0000   F-statistic (robust):             2.3990\n",
      "                                        P-value                           0.0022\n",
      "Time periods:                       8   Distribution:                  F(16,277)\n",
      "Avg Obs:                       42.875                                           \n",
      "Min Obs:                       42.000                                           \n",
      "Max Obs:                       43.000                                           \n",
      "                                                                                \n",
      "                             Parameter Estimates                              \n",
      "==============================================================================\n",
      "            Parameter  Std. Err.     T-stat    P-value    Lower CI    Upper CI\n",
      "------------------------------------------------------------------------------\n",
      "Intercept      19.660     0.0314     625.76     0.0000      19.598      19.722\n",
      "elasped_m5    -0.0712     0.0671    -1.0612     0.2895     -0.2034      0.0609\n",
      "elasped_m4    -0.0060     0.0550    -0.1085     0.9137     -0.1142      0.1023\n",
      "elasped_m3    -0.0135     0.0821    -0.1642     0.8697     -0.1751      0.1481\n",
      "elasped_m2     0.0320     0.0576     0.5564     0.5784     -0.0813      0.1454\n",
      "elasped_m1     0.0632     0.0682     0.9275     0.3545     -0.0710      0.1975\n",
      "elasped_0      0.1011     0.0907     1.1139     0.2663     -0.0775      0.2797\n",
      "elasped_1      0.0973     0.0986     0.9866     0.3247     -0.0968      0.2915\n",
      "elasped_2      0.1590     0.0664     2.3930     0.0174      0.0282      0.2897\n",
      "elasped_3     -0.0320     0.0707    -0.4531     0.6509     -0.1711      0.1071\n",
      "elasped_4     -0.0665     0.0649    -1.0238     0.3068     -0.1943      0.0614\n",
      "elasped_5     -0.0845     0.0637    -1.3264     0.1858     -0.2098      0.0409\n",
      "elasped_6     -0.0368     0.0548    -0.6710     0.5028     -0.1447      0.0711\n",
      "elasped_7     -0.0609     0.0616    -0.9888     0.3236     -0.1822      0.0603\n",
      "elasped_8     -0.0698     0.0663    -1.0535     0.2930     -0.2002      0.0606\n",
      "elasped_9     -0.0033     0.0596    -0.0555     0.9558     -0.1207      0.1141\n",
      "elasped_10     0.0084     0.0457     0.1841     0.8541     -0.0816      0.0984\n",
      "==============================================================================\n",
      "\n",
      "F-test for Poolability: 424.64\n",
      "P-value: 0.0000\n",
      "Distribution: F(49,277)\n",
      "\n",
      "Included effects: Entity, Time\n"
     ]
    }
   ],
   "source": [
    "# branded data\n",
    "formula=\"log_quantity~ elasped_m5+elasped_m4+elasped_m3+elasped_m2+elasped_m1+elasped_0+elasped_1+elasped_2+elasped_3+elasped_4+elasped_5+elasped_6+elasped_7+elasped_8+elasped_9+elasped_10+TimeEffects+EntityEffects\"\n",
    "mod_fe=PanelOLS.from_formula(formula, data=df_branded,check_rank=False,drop_absorbed=True)\n",
    "res_fe=mod_fe.fit(cov_type='clustered', cluster_entity=True)\n",
    "# print(res_fe.summary.tables[1])\n",
    "# print(res_fe.summary.tables[0])\n",
    "print(res_fe)"
   ]
  }
 ],
 "metadata": {
  "kernelspec": {
   "display_name": "Python 3",
   "language": "python",
   "name": "python3"
  },
  "language_info": {
   "codemirror_mode": {
    "name": "ipython",
    "version": 3
   },
   "file_extension": ".py",
   "mimetype": "text/x-python",
   "name": "python",
   "nbconvert_exporter": "python",
   "pygments_lexer": "ipython3",
   "version": "3.10.4"
  },
  "orig_nbformat": 4
 },
 "nbformat": 4,
 "nbformat_minor": 2
}
