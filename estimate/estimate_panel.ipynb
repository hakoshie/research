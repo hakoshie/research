{
 "cells": [
  {
   "cell_type": "code",
   "execution_count": 12,
   "metadata": {},
   "outputs": [],
   "source": [
    "import pandas as pd\n",
    "import numpy as np\n",
    "import statsmodels.api as sm\n",
    "from linearmodels.panel.data import PanelData\n",
    "from linearmodels.panel import PanelOLS, PooledOLS, RandomEffects, compare\n",
    "import matplotlib.pyplot as plt"
   ]
  },
  {
   "cell_type": "code",
   "execution_count": 13,
   "metadata": {},
   "outputs": [],
   "source": [
    "df=pd.read_csv(\"../data/merged/len3_ship_agg_drop_never.csv\",encoding=\"shift-jis\",index_col=0)"
   ]
  },
  {
   "cell_type": "markdown",
   "metadata": {},
   "source": [
    "Estimation"
   ]
  },
  {
   "cell_type": "code",
   "execution_count": 14,
   "metadata": {},
   "outputs": [
    {
     "name": "stdout",
     "output_type": "stream",
     "text": [
      "['id', 'elasped_m5', 'elasped_m4', 'elasped_m3', 'elasped_m2', 'elasped_m1', 'elasped_0', 'elasped_1', 'elasped_2', 'elasped_3', 'elasped_4', 'elasped_5', 'elasped_6', 'elasped_7', 'elasped_8', 'elasped_9', 'elasped_10', 'elasped_11', 'elasped_12', 'elasped_13', 'elasped_14', 'elasped_15', 'elasped_16', 'elasped_17', 'elasped_18', 'elasped_19', 'elasped_20', 'id_114', 'id_121', 'id_123', 'id_124', 'id_131', 'id_132', 'id_211', 'id_217', 'id_218', 'id_222', 'id_223', 'id_224', 'id_225', 'id_229', 'id_231', 'id_232', 'id_235', 'id_239', 'id_245', 'id_252', 'id_259', 'id_264', 'id_265', 'id_279', 'id_313', 'id_321', 'id_332', 'id_339', 'id_391', 'id_399', 'id_441', 'id_449', 'id_625', 'id_629', 'id_799']\n"
     ]
    }
   ],
   "source": [
    "## processing\n",
    "df_columns = df.columns # 列名をリストとして取得\n",
    "import re\n",
    "\n",
    "# 正規表現パターンを作成します\n",
    "pattern = r'id|^elasped_(m[0-5]|[0-9]|1\\d|20)$'\n",
    "\n",
    "# 列名のリストを作成します\n",
    "column_names = [col for col in df_columns if re.search(pattern, col)]\n",
    "\n",
    "# 列名のリストを表示します\n",
    "print(column_names)\n",
    "rest_columns=[\"year\",\"generic_per\"]\n",
    "column_names=rest_columns+column_names\n",
    "# try:\n",
    "#     column_names.remove(\"elasped_m1\")\n",
    "# except:\n",
    "#     1\n",
    "\n",
    "try:\n",
    "    column_names.remove(\"elasped\")\n",
    "except:\n",
    "    1\n",
    "try:\n",
    "    column_names.remove(\"id\")\n",
    "except:\n",
    "    1\n",
    "try:\n",
    "    column_names.remove(\"id_114\")\n",
    "except:\n",
    "    1\n",
    "# column_names"
   ]
  },
  {
   "cell_type": "code",
   "execution_count": 15,
   "metadata": {},
   "outputs": [],
   "source": [
    "# normalization of year\n",
    "# 2008で正規化するかで結構estimateが変わります、1ぐらい\n",
    "# df[\"year\"]=df[\"year\"]-2008\n",
    "\n",
    "#ここはかなり重要でセレクションバイアスみたいなので有意性が変わるらしい\n",
    "df=df.loc[df[\"otc_dom\"]>0]\n",
    "df=df.loc[df[\"rx_dom\"]>0]\n",
    "\n",
    "# make log columns\n",
    "df[\"log_rx_dom\"]=np.log(df[\"rx_dom\"])\n",
    "df[\"log_otc_dom\"]=np.log(df[\"otc_dom\"])\n",
    "df[\"log_stock_rx_lag\"]=np.log(df[\"stock_rx_lag\"]+0.001)\n",
    "df[\"log_stock_otc_lag\"]=np.log(df[\"stock_otc_lag\"]+0.001)\n",
    "df[\"year_trend\"]=df[\"year\"]-2008"
   ]
  },
  {
   "cell_type": "code",
   "execution_count": 16,
   "metadata": {},
   "outputs": [
    {
     "name": "stdout",
     "output_type": "stream",
     "text": [
      "<class 'pandas.core.frame.DataFrame'>\n",
      "MultiIndex: 386 entries, (114, 2008) to (799, 2021)\n",
      "Columns: 110 entries, efficacy to year_trend\n",
      "dtypes: float64(14), int64(92), object(4)\n",
      "memory usage: 334.5+ KB\n"
     ]
    },
    {
     "data": {
      "text/plain": [
       "(184, 14, 30)"
      ]
     },
     "execution_count": 16,
     "metadata": {},
     "output_type": "execute_result"
    }
   ],
   "source": [
    "df=df.set_index([\"id\",\"year\"])\n",
    "df.info()\n",
    "# make this to paneldata\n",
    "df=PanelData(df)\n",
    "df.shape"
   ]
  },
  {
   "cell_type": "markdown",
   "metadata": {},
   "source": [
    "stockのlag(むしろgeneric?)とtime effectは共存できないらしい"
   ]
  },
  {
   "cell_type": "markdown",
   "metadata": {},
   "source": [
    "## RX"
   ]
  },
  {
   "cell_type": "code",
   "execution_count": 33,
   "metadata": {},
   "outputs": [
    {
     "name": "stdout",
     "output_type": "stream",
     "text": [
      "                          PanelOLS Estimation Summary                           \n",
      "================================================================================\n",
      "Dep. Variable:                 rx_dom   R-squared:                        0.1043\n",
      "Estimator:                   PanelOLS   R-squared (Between):              0.3648\n",
      "No. Observations:                 386   R-squared (Within):               0.0876\n",
      "Date:                Fri, Aug 18 2023   R-squared (Overall):              0.3495\n",
      "Time:                        13:45:36   Log-likelihood                   -7311.0\n",
      "Cov. Estimator:             Clustered                                           \n",
      "                                        F-statistic:                      1.7854\n",
      "Entities:                          30   P-value                           0.0192\n",
      "Avg Obs:                       12.867   Distribution:                  F(21,322)\n",
      "Min Obs:                       1.0000                                           \n",
      "Max Obs:                       14.000   F-statistic (robust):             644.14\n",
      "                                        P-value                           0.0000\n",
      "Time periods:                      14   Distribution:                  F(21,322)\n",
      "Avg Obs:                       27.571                                           \n",
      "Min Obs:                       27.000                                           \n",
      "Max Obs:                       29.000                                           \n",
      "                                                                                \n",
      "                             Parameter Estimates                              \n",
      "==============================================================================\n",
      "            Parameter  Std. Err.     T-stat    P-value    Lower CI    Upper CI\n",
      "------------------------------------------------------------------------------\n",
      "elasped_m5  1.758e+07  8.676e+06     2.0262     0.0436   5.108e+05   3.465e+07\n",
      "elasped_m4  2.707e+07  1.288e+07     2.1012     0.0364   1.725e+06   5.241e+07\n",
      "elasped_m3  2.771e+07  1.455e+07     1.9043     0.0578  -9.172e+05   5.635e+07\n",
      "elasped_m2  3.425e+07  1.912e+07     1.7917     0.0741  -3.357e+06   7.186e+07\n",
      "elasped_m1  2.717e+07  1.888e+07     1.4391     0.1511  -9.974e+06   6.431e+07\n",
      "elasped_0   2.866e+07  2.081e+07     1.3772     0.1694  -1.228e+07   6.961e+07\n",
      "elasped_1   3.484e+07  2.277e+07     1.5305     0.1269  -9.947e+06   7.963e+07\n",
      "elasped_2   1.539e+07  1.091e+07     1.4109     0.1592  -6.071e+06   3.686e+07\n",
      "elasped_3    1.37e+07  1.179e+07     1.1623     0.2460   -9.49e+06   3.689e+07\n",
      "elasped_4   1.058e+07  1.328e+07     0.7970     0.4261  -1.554e+07   3.671e+07\n",
      "elasped_5   1.452e+07  1.241e+07     1.1700     0.2429  -9.895e+06   3.893e+07\n",
      "elasped_6   2.035e+07  1.074e+07     1.8955     0.0589  -7.712e+05   4.147e+07\n",
      "elasped_7   2.772e+07  1.576e+07     1.7589     0.0795  -3.285e+06   5.872e+07\n",
      "elasped_8   3.379e+07   1.64e+07     2.0603     0.0402   1.524e+06   6.605e+07\n",
      "elasped_9   3.582e+07  1.878e+07     1.9078     0.0573  -1.119e+06   7.276e+07\n",
      "elasped_10  2.308e+07  1.094e+07     2.1100     0.0356    1.56e+06   4.459e+07\n",
      "elasped_11  2.461e+07  1.428e+07     1.7230     0.0858   -3.49e+06   5.271e+07\n",
      "elasped_12  1.554e+07  1.272e+07     1.2210     0.2230  -9.497e+06   4.057e+07\n",
      "elasped_13  2.114e+07  1.628e+07     1.2985     0.1951  -1.089e+07   5.317e+07\n",
      "elasped_14  2.569e+07  1.536e+07     1.6733     0.0952  -4.515e+06    5.59e+07\n",
      "elasped_15  3.117e+07  1.491e+07     2.0898     0.0374   1.826e+06   6.051e+07\n",
      "==============================================================================\n",
      "\n",
      "F-test for Poolability: 74.813\n",
      "P-value: 0.0000\n",
      "Distribution: F(42,322)\n",
      "\n",
      "Included effects: Entity, Time\n"
     ]
    },
    {
     "name": "stderr",
     "output_type": "stream",
     "text": [
      "C:\\Users\\hakos\\AppData\\Local\\Temp\\ipykernel_7508\\3923074894.py:5: AbsorbingEffectWarning: \n",
      "Variables have been fully absorbed and have removed from the regression:\n",
      "\n",
      "year_trend, generic_per\n",
      "\n",
      "  res_fe=mod_fe.fit(cov_type='clustered', cluster_entity=True)\n"
     ]
    }
   ],
   "source": [
    "formula=\"rx_dom ~ year_trend+elasped_m5+elasped_m4+elasped_m3+elasped_m2+elasped_m1+elasped_0+elasped_1+elasped_2+elasped_3+elasped_4+elasped_5+elasped_6+elasped_7+elasped_8+elasped_9+elasped_10+elasped_11+elasped_12+elasped_13+elasped_14+elasped_15+generic_per+TimeEffects+EntityEffects\"\n",
    "# stock lag version\n",
    "# formula+=\"+stock_rx_lag\"\n",
    "mod_fe=PanelOLS.from_formula(formula, data=df,drop_absorbed=True)\n",
    "res_fe=mod_fe.fit(cov_type='clustered', cluster_entity=True)\n",
    "# print(res_fe.summary.tables[1])\n",
    "# print(res_fe.summary.tables[0])\n",
    "print(res_fe)"
   ]
  },
  {
   "cell_type": "code",
   "execution_count": 58,
   "metadata": {},
   "outputs": [
    {
     "name": "stdout",
     "output_type": "stream",
     "text": [
      "                             Parameter Estimates                              \n",
      "==============================================================================\n",
      "            Parameter  Std. Err.     T-stat    P-value    Lower CI    Upper CI\n",
      "------------------------------------------------------------------------------\n",
      "elasped_m5     0.0659     0.0473     1.3944     0.1642     -0.0271      0.1590\n",
      "elasped_m4     0.0861     0.0482     1.7875     0.0748     -0.0087      0.1808\n",
      "elasped_m3     0.1390     0.0544     2.5520     0.0112      0.0318      0.2461\n",
      "elasped_m2     0.0937     0.0642     1.4577     0.1459     -0.0327      0.2201\n",
      "elasped_m1     0.0539     0.0593     0.9083     0.3644     -0.0629      0.1707\n",
      "elasped_0      0.0857     0.0731     1.1717     0.2422     -0.0582      0.2295\n",
      "elasped_1      0.1410     0.0773     1.8243     0.0690     -0.0111      0.2931\n",
      "elasped_2      0.1058     0.0890     1.1885     0.2355     -0.0694      0.2810\n",
      "elasped_3      0.0789     0.0813     0.9702     0.3327     -0.0811      0.2388\n",
      "elasped_4      0.0565     0.0809     0.6988     0.4852     -0.1026      0.2156\n",
      "elasped_5      0.0800     0.0786     1.0179     0.3095     -0.0746      0.2347\n",
      "elasped_6      0.1040     0.0696     1.4950     0.1359     -0.0329      0.2409\n",
      "elasped_7      0.0889     0.0674     1.3187     0.1882     -0.0437      0.2216\n",
      "elasped_8      0.1450     0.0822     1.7632     0.0788     -0.0168      0.3068\n",
      "elasped_9      0.1927     0.0772     2.4957     0.0131      0.0408      0.3446\n",
      "elasped_10     0.1621     0.0693     2.3381     0.0200      0.0257      0.2985\n",
      "elasped_11     0.1169     0.0699     1.6710     0.0957     -0.0207      0.2544\n",
      "elasped_12     0.0809     0.0554     1.4588     0.1456     -0.0282      0.1899\n",
      "elasped_13     0.1276     0.0762     1.6754     0.0948     -0.0222      0.2774\n",
      "elasped_14     0.0983     0.0507     1.9391     0.0534     -0.0014      0.1979\n",
      "elasped_15     0.1105     0.0476     2.3229     0.0208      0.0169      0.2042\n",
      "==============================================================================\n",
      "                          PanelOLS Estimation Summary                           \n",
      "================================================================================\n",
      "Dep. Variable:             log_rx_dom   R-squared:                        0.0531\n",
      "Estimator:                   PanelOLS   R-squared (Between):              0.0220\n",
      "No. Observations:                 386   R-squared (Within):               0.0416\n",
      "Date:                Fri, Aug 18 2023   R-squared (Overall):              0.0232\n",
      "Time:                        14:08:32   Log-likelihood                   -16.422\n",
      "Cov. Estimator:             Clustered                                           \n",
      "                                        F-statistic:                      0.8601\n",
      "Entities:                          30   P-value                           0.6435\n",
      "Avg Obs:                       12.867   Distribution:                  F(21,322)\n",
      "Min Obs:                       1.0000                                           \n",
      "Max Obs:                       14.000   F-statistic (robust):             10.001\n",
      "                                        P-value                           0.0000\n",
      "Time periods:                      14   Distribution:                  F(21,322)\n",
      "Avg Obs:                       27.571                                           \n",
      "Min Obs:                       27.000                                           \n",
      "Max Obs:                       29.000                                           \n",
      "                                                                                \n",
      "================================================================================\n"
     ]
    },
    {
     "name": "stderr",
     "output_type": "stream",
     "text": [
      "C:\\Users\\hakos\\AppData\\Local\\Temp\\ipykernel_7508\\2067984981.py:6: AbsorbingEffectWarning: \n",
      "Variables have been fully absorbed and have removed from the regression:\n",
      "\n",
      "year_trend, generic_per\n",
      "\n",
      "  res_fe=mod_fe.fit(cov_type='clustered', cluster_entity=True)\n"
     ]
    }
   ],
   "source": [
    "# take log\n",
    "formula=\"log_rx_dom ~ year_trend+ elasped_m5+elasped_m4+elasped_m3+elasped_m2+elasped_m1+elasped_0+elasped_1+elasped_2+elasped_3+elasped_4+elasped_5+elasped_6+elasped_7+elasped_8+elasped_9+elasped_10+elasped_11+elasped_12+elasped_13+elasped_14+elasped_15+generic_per+TimeEffects+EntityEffects\"\n",
    "# stock lag version\n",
    "# formula+=\"+stock_rx_lag\"\n",
    "mod_fe=PanelOLS.from_formula(formula, data=df,drop_absorbed=True)\n",
    "res_fe=mod_fe.fit(cov_type='clustered', cluster_entity=True)\n",
    "print(res_fe.summary.tables[1])\n",
    "print(res_fe.summary.tables[0])"
   ]
  },
  {
   "cell_type": "markdown",
   "metadata": {},
   "source": [
    "### OTC"
   ]
  },
  {
   "cell_type": "code",
   "execution_count": 41,
   "metadata": {},
   "outputs": [
    {
     "name": "stdout",
     "output_type": "stream",
     "text": [
      "                             Parameter Estimates                              \n",
      "==============================================================================\n",
      "            Parameter  Std. Err.     T-stat    P-value    Lower CI    Upper CI\n",
      "------------------------------------------------------------------------------\n",
      "elasped_m5   4.53e+06  5.691e+06     0.7961     0.4266  -6.665e+06   1.573e+07\n",
      "elasped_m4  7.723e+05  1.379e+06     0.5602     0.5757   -1.94e+06   3.484e+06\n",
      "elasped_m3  3.191e+05  1.426e+06     0.2237     0.8231  -2.487e+06   3.125e+06\n",
      "elasped_m2  2.731e+05  1.702e+06     0.1604     0.8727  -3.076e+06   3.622e+06\n",
      "elasped_m1 -1.979e+06  9.552e+05    -2.0718     0.0391  -3.858e+06  -9.974e+04\n",
      "elasped_0  -1.294e+06  5.698e+05    -2.2704     0.0238  -2.414e+06  -1.726e+05\n",
      "elasped_1  -2.722e+05  2.038e+06    -0.1336     0.8938  -4.281e+06   3.737e+06\n",
      "elasped_2  -9.347e+05  1.684e+06    -0.5550     0.5793  -4.248e+06   2.379e+06\n",
      "elasped_3  -5.264e+05  1.274e+06    -0.4133     0.6797  -3.033e+06    1.98e+06\n",
      "elasped_4  -1.039e+06  2.023e+06    -0.5134     0.6080  -5.019e+06   2.941e+06\n",
      "elasped_5   2.749e+06  1.642e+06     1.6747     0.0950  -4.804e+05   5.979e+06\n",
      "elasped_6   2.946e+06   2.24e+06     1.3154     0.1893   -1.46e+06   7.353e+06\n",
      "elasped_7   1.053e+05   1.12e+06     0.0940     0.9252  -2.098e+06   2.309e+06\n",
      "elasped_8   1.921e+06  1.246e+06     1.5425     0.1239  -5.291e+05   4.372e+06\n",
      "elasped_9   5.094e+06  3.216e+06     1.5839     0.1142  -1.233e+06   1.142e+07\n",
      "elasped_10  1.776e+06  1.062e+06     1.6717     0.0955   -3.14e+05   3.865e+06\n",
      "elasped_11  1.426e+06  1.127e+06     1.2646     0.2069  -7.922e+05   3.643e+06\n",
      "elasped_12  3.459e+06  1.555e+06     2.2250     0.0268   4.006e+05   6.518e+06\n",
      "elasped_13  4.642e+05  1.355e+06     0.3425     0.7322  -2.202e+06    3.13e+06\n",
      "elasped_14  6.145e+04   2.46e+06     0.0250     0.9801  -4.777e+06     4.9e+06\n",
      "elasped_15  1.484e+06  1.895e+06     0.7831     0.4341  -2.245e+06   5.213e+06\n",
      "==============================================================================\n",
      "                          PanelOLS Estimation Summary                           \n",
      "================================================================================\n",
      "Dep. Variable:                otc_dom   R-squared:                        0.1751\n",
      "Estimator:                   PanelOLS   R-squared (Between):              0.1448\n",
      "No. Observations:                 386   R-squared (Within):               0.2228\n",
      "Date:                Fri, Aug 18 2023   R-squared (Overall):              0.1499\n",
      "Time:                        13:47:17   Log-likelihood                   -6490.0\n",
      "Cov. Estimator:             Clustered                                           \n",
      "                                        F-statistic:                      3.2557\n",
      "Entities:                          30   P-value                           0.0000\n",
      "Avg Obs:                       12.867   Distribution:                  F(21,322)\n",
      "Min Obs:                       1.0000                                           \n",
      "Max Obs:                       14.000   F-statistic (robust):             68.428\n",
      "                                        P-value                           0.0000\n",
      "Time periods:                      14   Distribution:                  F(21,322)\n",
      "Avg Obs:                       27.571                                           \n",
      "Min Obs:                       27.000                                           \n",
      "Max Obs:                       29.000                                           \n",
      "                                                                                \n",
      "================================================================================\n"
     ]
    },
    {
     "name": "stderr",
     "output_type": "stream",
     "text": [
      "C:\\Users\\hakos\\AppData\\Local\\Temp\\ipykernel_7508\\3965633803.py:5: AbsorbingEffectWarning: \n",
      "Variables have been fully absorbed and have removed from the regression:\n",
      "\n",
      "year_trend, generic_per\n",
      "\n",
      "  res_fe=mod_fe.fit(cov_type='clustered', cluster_entity=True)\n"
     ]
    }
   ],
   "source": [
    "\n",
    "formula=\"otc_dom ~ year_trend+elasped_m5+elasped_m4+elasped_m3+elasped_m2+elasped_m1+elasped_0+elasped_1+elasped_2+elasped_3+elasped_4+elasped_5+elasped_6+elasped_7+elasped_8+elasped_9+elasped_10+elasped_11+elasped_12+elasped_13+elasped_14+elasped_15+generic_per+TimeEffects+EntityEffects\"\n",
    "# stock lag version\n",
    "# formula+=\"+stock_rx_lag\"\n",
    "mod_fe=PanelOLS.from_formula(formula, data=df, drop_absorbed=True)\n",
    "res_fe=mod_fe.fit(cov_type='clustered', cluster_entity=True)\n",
    "print(res_fe.summary.tables[1])\n",
    "print(res_fe.summary.tables[0])"
   ]
  },
  {
   "cell_type": "code",
   "execution_count": 43,
   "metadata": {},
   "outputs": [
    {
     "name": "stdout",
     "output_type": "stream",
     "text": [
      "                          PanelOLS Estimation Summary                           \n",
      "================================================================================\n",
      "Dep. Variable:            log_otc_dom   R-squared:                        0.2740\n",
      "Estimator:                   PanelOLS   R-squared (Between):              0.1219\n",
      "No. Observations:                 359   R-squared (Within):               0.2758\n",
      "Date:                Fri, Aug 18 2023   R-squared (Overall):              0.1230\n",
      "Time:                        13:48:02   Log-likelihood                   -191.05\n",
      "Cov. Estimator:             Clustered                                           \n",
      "                                        F-statistic:                      5.0601\n",
      "Entities:                          30   P-value                           0.0000\n",
      "Avg Obs:                       11.967   Distribution:                  F(22,295)\n",
      "Min Obs:                       1.0000                                           \n",
      "Max Obs:                       13.000   F-statistic (robust):             48.799\n",
      "                                        P-value                           0.0000\n",
      "Time periods:                      13   Distribution:                  F(22,295)\n",
      "Avg Obs:                       27.615                                           \n",
      "Min Obs:                       27.000                                           \n",
      "Max Obs:                       29.000                                           \n",
      "                                                                                \n",
      "                                 Parameter Estimates                                 \n",
      "=====================================================================================\n",
      "                   Parameter  Std. Err.     T-stat    P-value    Lower CI    Upper CI\n",
      "-------------------------------------------------------------------------------------\n",
      "log_stock_otc_lag     0.0180     0.0128     1.4113     0.1592     -0.0071      0.0432\n",
      "elasped_m5            0.0315     0.1070     0.2946     0.7685     -0.1790      0.2421\n",
      "elasped_m4           -0.1155     0.1381    -0.8362     0.4037     -0.3874      0.1564\n",
      "elasped_m3           -0.1858     0.1847    -1.0059     0.3153     -0.5493      0.1777\n",
      "elasped_m2            0.1390     0.1741     0.7985     0.4252     -0.2036      0.4816\n",
      "elasped_m1            0.1849     0.1250     1.4796     0.1400     -0.0610      0.4309\n",
      "elasped_0             0.2090     0.1154     1.8116     0.0711     -0.0180      0.4360\n",
      "elasped_1             0.4422     0.1396     3.1687     0.0017      0.1676      0.7169\n",
      "elasped_2             0.3244     0.1811     1.7912     0.0743     -0.0320      0.6807\n",
      "elasped_3             0.4533     0.2044     2.2181     0.0273      0.0511      0.8555\n",
      "elasped_4             0.4167     0.2005     2.0782     0.0386      0.0221      0.8113\n",
      "elasped_5             0.3293     0.1754     1.8781     0.0613     -0.0158      0.6745\n",
      "elasped_6             0.4409     0.1975     2.2321     0.0264      0.0522      0.8297\n",
      "elasped_7             0.5093     0.1098     4.6396     0.0000      0.2933      0.7254\n",
      "elasped_8             0.6220     0.1535     4.0535     0.0001      0.3200      0.9241\n",
      "elasped_9             0.6548     0.1539     4.2540     0.0000      0.3519      0.9577\n",
      "elasped_10            0.5856     0.1506     3.8884     0.0001      0.2892      0.8820\n",
      "elasped_11            0.5646     0.1988     2.8396     0.0048      0.1733      0.9559\n",
      "elasped_12            0.5220     0.1177     4.4349     0.0000      0.2904      0.7536\n",
      "elasped_13            0.4603     0.1435     3.2081     0.0015      0.1779      0.7427\n",
      "elasped_14            0.3208     0.2040     1.5729     0.1168     -0.0806      0.7223\n",
      "elasped_15            0.3643     0.2587     1.4083     0.1601     -0.1448      0.8735\n",
      "=====================================================================================\n",
      "\n",
      "F-test for Poolability: 119.08\n",
      "P-value: 0.0000\n",
      "Distribution: F(41,295)\n",
      "\n",
      "Included effects: Entity, Time\n"
     ]
    },
    {
     "name": "stderr",
     "output_type": "stream",
     "text": [
      "c:\\Users\\hakos\\AppData\\Local\\Programs\\Python\\Python310\\lib\\site-packages\\linearmodels\\panel\\model.py:1214: MissingValueWarning: \n",
      "Inputs contain missing values. Dropping rows with missing observations.\n",
      "  super().__init__(dependent, exog, weights=weights, check_rank=check_rank)\n",
      "C:\\Users\\hakos\\AppData\\Local\\Temp\\ipykernel_7508\\2568749483.py:14: AbsorbingEffectWarning: \n",
      "Variables have been fully absorbed and have removed from the regression:\n",
      "\n",
      "generic_per, year_trend\n",
      "\n",
      "  res_fe=mod_fe.fit(cov_type='clustered', cluster_entity=True)\n"
     ]
    }
   ],
   "source": [
    "# take log\n",
    "formula=\"log_otc_dom ~ elasped_m5+elasped_m4+elasped_m3+elasped_m2+elasped_m1+elasped_0+elasped_1+elasped_2+elasped_3+elasped_4+elasped_5+elasped_6+elasped_7+elasped_8+elasped_9+elasped_10+elasped_11+elasped_12+elasped_13+elasped_14+elasped_15+generic_per+TimeEffects+EntityEffects\"\n",
    "\n",
    "# till 15\n",
    "formula=\"log_otc_dom ~ generic_per+log_stock_otc_lag+elasped_m5+elasped_m4+elasped_m3+elasped_m2+elasped_m1+elasped_0+elasped_1+elasped_2+elasped_3+elasped_4+elasped_5+elasped_6+elasped_7+elasped_8+elasped_9+elasped_10+elasped_11+elasped_12+elasped_13+elasped_14+elasped_15+TimeEffects+EntityEffects\"\n",
    "\n",
    "# stock lag version\n",
    "# formula+=\"+stock_rx_lag\"\n",
    "\n",
    "# year trend\n",
    "formula+=\"+year_trend\"\n",
    "\n",
    "mod_fe=PanelOLS.from_formula(formula, data=df,drop_absorbed=True)\n",
    "res_fe=mod_fe.fit(cov_type='clustered', cluster_entity=True)\n",
    "# res_fe=mod_fe.fit()\n",
    "# print(res_fe.summary.tables[1])\n",
    "# print(res_fe.summary.tables[0])\n",
    "print(res_fe)"
   ]
  },
  {
   "cell_type": "code",
   "execution_count": 21,
   "metadata": {},
   "outputs": [],
   "source": [
    "# 天才やん\n",
    "summary_table=pd.DataFrame(res_fe.summary.tables[1].data[2:23],columns=res_fe.summary.tables[1].data[0])\n",
    "summary_table[\"Time\"]=np.array(list(range(-5,16)))\n",
    "# make each column of summary_table numeric\n",
    "summary_table=summary_table.apply(pd.to_numeric, errors='ignore')"
   ]
  },
  {
   "cell_type": "code",
   "execution_count": 54,
   "metadata": {},
   "outputs": [
    {
     "data": {
      "image/png": "[encoded data removed]",
      "text/plain": [
       "<Figure size 720x432 with 1 Axes>"
      ]
     },
     "metadata": {
      "needs_background": "light"
     },
     "output_type": "display_data"
    }
   ],
   "source": [
    "plt.figure(figsize=(10, 6))  # Adjust figure size as needed\n",
    "\n",
    "# Plot coefficients as points\n",
    "plt.plot(summary_table['Time'], summary_table[\"Parameter\"], 'o-', label='Coefficients', color='b')\n",
    "\n",
    "# Plot confidence intervals as error bars\n",
    "# plt.errorbar(summary_table['Time'], summary_table[\"Parameter\"],\n",
    "#              yerr=[summary_table[\"Parameter\"] - summary_table['Lower CI'],\n",
    "#                    summary_table['Upper CI'] - summary_table[\"Parameter\"]],\n",
    "#              fmt='none', ecolor='orange', elinewidth=2, capsize=4, label='Confidence Intervals')\n",
    "\n",
    "plt.fill_between(summary_table['Time'], summary_table['Lower CI'], summary_table['Upper CI'], color='orange', alpha=0.3, label='Confidence Intervals')\n",
    "\n",
    "plt.xlabel('Time')\n",
    "plt.ylabel(\"Parameter\")\n",
    "plt.title('Event Study Coefficients with Confidence Intervals')\n",
    "plt.legend()\n",
    "plt.grid(True)\n",
    "plt.show()"
   ]
  }
 ],
 "metadata": {
  "kernelspec": {
   "display_name": "Python 3",
   "language": "python",
   "name": "python3"
  },
  "language_info": {
   "codemirror_mode": {
    "name": "ipython",
    "version": 3
   },
   "file_extension": ".py",
   "mimetype": "text/x-python",
   "name": "python",
   "nbconvert_exporter": "python",
   "pygments_lexer": "ipython3",
   "version": "3.10.4"
  },
  "orig_nbformat": 4
 },
 "nbformat": 4,
 "nbformat_minor": 2
}
