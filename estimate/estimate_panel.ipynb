{
 "cells": [
  {
   "cell_type": "code",
   "execution_count": 1,
   "metadata": {},
   "outputs": [],
   "source": [
    "import pandas as pd\n",
    "import numpy as np\n",
    "import statsmodels.api as sm\n",
    "from linearmodels.panel.data import PanelData\n",
    "from linearmodels.panel import PanelOLS, PooledOLS, RandomEffects, compare\n",
    "import matplotlib.pyplot as plt"
   ]
  },
  {
   "cell_type": "code",
   "execution_count": 2,
   "metadata": {},
   "outputs": [],
   "source": [
    "df=pd.read_csv(\"../data/merged/len3_ship_agg_drop_never.csv\",encoding=\"shift-jis\",index_col=0)"
   ]
  },
  {
   "cell_type": "markdown",
   "metadata": {},
   "source": [
    "Estimation"
   ]
  },
  {
   "cell_type": "code",
   "execution_count": 3,
   "metadata": {},
   "outputs": [
    {
     "name": "stdout",
     "output_type": "stream",
     "text": [
      "['id', 'elasped_m5', 'elasped_m4', 'elasped_m3', 'elasped_m2', 'elasped_m1', 'elasped_0', 'elasped_1', 'elasped_2', 'elasped_3', 'elasped_4', 'elasped_5', 'elasped_6', 'elasped_7', 'elasped_8', 'elasped_9', 'elasped_10', 'elasped_11', 'elasped_12', 'elasped_13', 'elasped_14', 'elasped_15', 'elasped_16', 'elasped_17', 'elasped_18', 'elasped_19', 'elasped_20', 'id_114', 'id_121', 'id_123', 'id_124', 'id_131', 'id_132', 'id_211', 'id_217', 'id_218', 'id_222', 'id_223', 'id_224', 'id_225', 'id_229', 'id_231', 'id_232', 'id_235', 'id_239', 'id_245', 'id_252', 'id_259', 'id_264', 'id_265', 'id_279', 'id_313', 'id_321', 'id_332', 'id_339', 'id_391', 'id_399', 'id_441', 'id_449', 'id_625', 'id_629', 'id_799']\n"
     ]
    }
   ],
   "source": [
    "## processing\n",
    "df_columns = df.columns # 列名をリストとして取得\n",
    "import re\n",
    "\n",
    "# 正規表現パターンを作成します\n",
    "pattern = r'id|^elasped_(m[0-5]|[0-9]|1\\d|20)$'\n",
    "\n",
    "# 列名のリストを作成します\n",
    "column_names = [col for col in df_columns if re.search(pattern, col)]\n",
    "\n",
    "# 列名のリストを表示します\n",
    "print(column_names)\n",
    "rest_columns=[\"year\",\"generic_per\"]\n",
    "column_names=rest_columns+column_names\n",
    "# try:\n",
    "#     column_names.remove(\"elasped_m1\")\n",
    "# except:\n",
    "#     1\n",
    "\n",
    "try:\n",
    "    column_names.remove(\"elasped\")\n",
    "except:\n",
    "    1\n",
    "try:\n",
    "    column_names.remove(\"id\")\n",
    "except:\n",
    "    1\n",
    "try:\n",
    "    column_names.remove(\"id_114\")\n",
    "except:\n",
    "    1\n",
    "# column_names"
   ]
  },
  {
   "cell_type": "code",
   "execution_count": 4,
   "metadata": {},
   "outputs": [],
   "source": [
    "# normalization of year\n",
    "# 2008で正規化するかで結構estimateが変わります、1ぐらい\n",
    "# df[\"year\"]=df[\"year\"]-2008\n",
    "\n",
    "#ここはかなり重要でセレクションバイアスみたいなので有意性が変わるらしい\n",
    "df=df.loc[df[\"otc_dom\"]>0]\n",
    "df=df.loc[df[\"rx_dom\"]>0]\n",
    "\n",
    "# make log columns\n",
    "df[\"log_rx_dom\"]=np.log(df[\"rx_dom\"]+0.001)\n",
    "df[\"log_otc_dom\"]=np.log(df[\"otc_dom\"]+0.001)\n",
    "df[\"log_stock_rx_lag\"]=np.log(df[\"stock_rx_lag\"]+0.001)\n",
    "df[\"log_stock_otc_lag\"]=np.log(df[\"stock_otc_lag\"]+0.001)"
   ]
  },
  {
   "cell_type": "code",
   "execution_count": 5,
   "metadata": {},
   "outputs": [
    {
     "name": "stdout",
     "output_type": "stream",
     "text": [
      "<class 'pandas.core.frame.DataFrame'>\n",
      "MultiIndex: 386 entries, (114, 2008) to (799, 2021)\n",
      "Columns: 109 entries, efficacy to log_stock_otc_lag\n",
      "dtypes: float64(14), int64(91), object(4)\n",
      "memory usage: 331.5+ KB\n"
     ]
    },
    {
     "data": {
      "text/plain": [
       "(183, 14, 30)"
      ]
     },
     "execution_count": 5,
     "metadata": {},
     "output_type": "execute_result"
    }
   ],
   "source": [
    "df=df.set_index([\"id\",\"year\"])\n",
    "df.info()\n",
    "# make this to paneldata\n",
    "df=PanelData(df)\n",
    "df.shape"
   ]
  },
  {
   "cell_type": "markdown",
   "metadata": {},
   "source": [
    "stockのlag(むしろgeneric?)とtime effectは共存できないらしい"
   ]
  },
  {
   "cell_type": "markdown",
   "metadata": {},
   "source": [
    "## RX"
   ]
  },
  {
   "cell_type": "code",
   "execution_count": 6,
   "metadata": {},
   "outputs": [
    {
     "name": "stdout",
     "output_type": "stream",
     "text": [
      "                              Parameter Estimates                              \n",
      "===============================================================================\n",
      "             Parameter  Std. Err.     T-stat    P-value    Lower CI    Upper CI\n",
      "-------------------------------------------------------------------------------\n",
      "elasped_m5   1.823e+07  6.265e+06     2.9106     0.0038   5.911e+06   3.056e+07\n",
      "elasped_m4   2.489e+07  1.081e+07     2.3023     0.0219   3.624e+06   4.615e+07\n",
      "elasped_m3   2.213e+07   1.17e+07     1.8909     0.0595  -8.916e+05   4.514e+07\n",
      "elasped_m2   2.809e+07  1.699e+07     1.6527     0.0993  -5.343e+06   6.152e+07\n",
      "elasped_0     2.29e+07  1.701e+07     1.3465     0.1791  -1.055e+07   5.635e+07\n",
      "elasped_1    2.767e+07   1.88e+07     1.4718     0.1420  -9.312e+06   6.465e+07\n",
      "elasped_2    1.157e+07   1.06e+07     1.0916     0.2758  -9.279e+06   3.242e+07\n",
      "elasped_3    1.288e+07  1.096e+07     1.1754     0.2407  -8.675e+06   3.443e+07\n",
      "elasped_4    1.352e+07  1.307e+07     1.0348     0.3015  -1.218e+07   3.923e+07\n",
      "elasped_5     1.61e+07  1.008e+07     1.5960     0.1114  -3.742e+06   3.593e+07\n",
      "elasped_6    2.154e+07  1.085e+07     1.9850     0.0480    1.95e+05   4.289e+07\n",
      "elasped_7    2.426e+07  1.486e+07     1.6320     0.1036   -4.98e+06   5.349e+07\n",
      "elasped_8    2.954e+07   1.55e+07     1.9057     0.0575  -9.507e+05   6.003e+07\n",
      "elasped_9    3.033e+07  1.857e+07     1.6330     0.1034  -6.205e+06   6.686e+07\n",
      "elasped_10   1.814e+07   1.09e+07     1.6636     0.0971  -3.308e+06   3.958e+07\n",
      "elasped_11   1.603e+07  1.439e+07     1.1139     0.2661  -1.228e+07   4.435e+07\n",
      "elasped_12   9.788e+06  1.394e+07     0.7020     0.4832  -1.764e+07   3.722e+07\n",
      "elasped_13   1.817e+07  1.695e+07     1.0722     0.2844  -1.517e+07   5.151e+07\n",
      "elasped_14   2.557e+07  1.413e+07     1.8097     0.0712  -2.223e+06   5.337e+07\n",
      "elasped_15   2.914e+07  1.399e+07     2.0832     0.0380   1.624e+06   5.665e+07\n",
      "generic_per  2.255e+05  3.805e+05     0.5928     0.5537  -5.228e+05   9.739e+05\n",
      "===============================================================================\n"
     ]
    }
   ],
   "source": [
    "formula=\"rx_dom ~ elasped_m5+elasped_m4+elasped_m3+elasped_m2+elasped_m1+elasped_0+elasped_1+elasped_2+elasped_3+elasped_4+elasped_5+elasped_6+elasped_7+elasped_8+elasped_9+elasped_10+elasped_11+elasped_12+elasped_13+elasped_14+elasped_15+generic_per+TimeEffects+EntityEffects\"\n",
    "# stock lag version\n",
    "formula=\"rx_dom ~ elasped_m5+elasped_m4+elasped_m3+elasped_m2+elasped_0+elasped_1+elasped_2+elasped_3+elasped_4+elasped_5+elasped_6+elasped_7+elasped_8+elasped_9+elasped_10+elasped_11+elasped_12+elasped_13+elasped_14+elasped_15+generic_per+stock_rx_lagLTimeEffects+EntityEffects\"\n",
    "mod_fe=PanelOLS.from_formula(formula, data=df)\n",
    "res_fe=mod_fe.fit(cov_type='clustered', cluster_entity=True)\n",
    "print(res_fe.summary.tables[1])\n",
    "# print(res_fe.summary.tables[0])"
   ]
  },
  {
   "cell_type": "code",
   "execution_count": 7,
   "metadata": {},
   "outputs": [
    {
     "name": "stdout",
     "output_type": "stream",
     "text": [
      "                                Parameter Estimates                                 \n",
      "====================================================================================\n",
      "                  Parameter  Std. Err.     T-stat    P-value    Lower CI    Upper CI\n",
      "------------------------------------------------------------------------------------\n",
      "generic_per        4.69e+09  2.336e+11     0.0201     0.9840  -4.551e+11   4.645e+11\n",
      "log_stock_rx_lag     0.2507     0.0651     3.8518     0.0001      0.1226      0.3788\n",
      "elasped_m5           0.1085     0.0627     1.7291     0.0848     -0.0150      0.2319\n",
      "elasped_m4          -0.0121     0.0463    -0.2606     0.7946     -0.1033      0.0791\n",
      "elasped_m3           0.0518     0.0422     1.2283     0.2203     -0.0312      0.1348\n",
      "elasped_m2           0.0939     0.0709     1.3245     0.1864     -0.0456      0.2334\n",
      "elasped_m1          -0.0039     0.0624    -0.0623     0.9503     -0.1268      0.1190\n",
      "elasped_0            0.0229     0.0596     0.3847     0.7007     -0.0944      0.1403\n",
      "elasped_1            0.0963     0.0472     2.0384     0.0424      0.0033      0.1893\n",
      "elasped_2            0.0422     0.0672     0.6271     0.5311     -0.0901      0.1744\n",
      "elasped_3            0.0571     0.0695     0.8215     0.4120     -0.0797      0.1940\n",
      "elasped_4            0.0123     0.0727     0.1693     0.8656     -0.1307      0.1553\n",
      "elasped_5            0.0118     0.0628     0.1874     0.8514     -0.1119      0.1355\n",
      "elasped_6            0.0279     0.0564     0.4939     0.6217     -0.0832      0.1390\n",
      "elasped_7            0.0295     0.0500     0.5895     0.5560     -0.0689      0.1278\n",
      "elasped_8            0.0688     0.0691     0.9958     0.3202     -0.0672      0.2048\n",
      "elasped_9            0.1123     0.0549     2.0466     0.0416      0.0043      0.2203\n",
      "elasped_10           0.0805     0.0566     1.4223     0.1560     -0.0309      0.1920\n",
      "elasped_11           0.0560     0.0502     1.1153     0.2657     -0.0428      0.1549\n",
      "elasped_12           0.0145     0.0477     0.3049     0.7607     -0.0793      0.1083\n",
      "elasped_13           0.0708     0.0808     0.8760     0.3817     -0.0882      0.2298\n",
      "elasped_14           0.0320     0.0558     0.5735     0.5667     -0.0778      0.1418\n",
      "elasped_15           0.0556     0.0521     1.0679     0.2864     -0.0469      0.1581\n",
      "====================================================================================\n",
      "                          PanelOLS Estimation Summary                           \n",
      "================================================================================\n",
      "Dep. Variable:             log_rx_dom   R-squared:                        0.1857\n",
      "Estimator:                   PanelOLS   R-squared (Between):          -2.386e+20\n",
      "No. Observations:                 359   R-squared (Within):           -7.759e+22\n",
      "Date:                Tue, Aug 01 2023   R-squared (Overall):          -2.562e+20\n",
      "Time:                        12:18:31   Log-likelihood                    18.992\n",
      "Cov. Estimator:             Clustered                                           \n",
      "                                        F-statistic:                      2.9152\n",
      "Entities:                          30   P-value                           0.0000\n",
      "Avg Obs:                       11.967   Distribution:                  F(23,294)\n",
      "Min Obs:                       1.0000                                           \n",
      "Max Obs:                       13.000   F-statistic (robust):             24.184\n",
      "                                        P-value                           0.0000\n",
      "Time periods:                      13   Distribution:                  F(23,294)\n",
      "Avg Obs:                       27.615                                           \n",
      "Min Obs:                       27.000                                           \n",
      "Max Obs:                       29.000                                           \n",
      "                                                                                \n",
      "================================================================================\n"
     ]
    },
    {
     "name": "stderr",
     "output_type": "stream",
     "text": [
      "c:\\Users\\hakos\\AppData\\Local\\Programs\\Python\\Python310\\lib\\site-packages\\linearmodels\\panel\\model.py:1214: MissingValueWarning: \n",
      "Inputs contain missing values. Dropping rows with missing observations.\n",
      "  super().__init__(dependent, exog, weights=weights, check_rank=check_rank)\n"
     ]
    }
   ],
   "source": [
    "# take log\n",
    "formula=\"log_rx_dom ~ elasped_m5+elasped_m4+elasped_m3+elasped_m2+elasped_m1+elasped_0+elasped_1+elasped_2+elasped_3+elasped_4+elasped_5+elasped_6+elasped_7+elasped_8+elasped_9+elasped_10+elasped_11+elasped_12+elasped_13+elasped_14+elasped_15+generic_per+TimeEffects+EntityEffects\"\n",
    "# stock lag version\n",
    "formula=\"log_rx_dom ~ generic_per+log_stock_rx_lag+elasped_m5+elasped_m4+elasped_m3+elasped_m2+elasped_m1+elasped_0+elasped_1+elasped_2+elasped_3+elasped_4+elasped_5+elasped_6+elasped_7+elasped_8+elasped_9+elasped_10+elasped_11+elasped_12+elasped_13+elasped_14+elasped_15+TimeEffects+EntityEffects\"\n",
    "mod_fe=PanelOLS.from_formula(formula, data=df,drop_absorbed=True)\n",
    "res_fe=mod_fe.fit(cov_type='clustered', cluster_entity=True)\n",
    "print(res_fe.summary.tables[1])\n",
    "print(res_fe.summary.tables[0])"
   ]
  },
  {
   "cell_type": "markdown",
   "metadata": {},
   "source": [
    "### OTC"
   ]
  },
  {
   "cell_type": "code",
   "execution_count": 95,
   "metadata": {},
   "outputs": [
    {
     "name": "stdout",
     "output_type": "stream",
     "text": [
      "                               Parameter Estimates                               \n",
      "=================================================================================\n",
      "               Parameter  Std. Err.     T-stat    P-value    Lower CI    Upper CI\n",
      "---------------------------------------------------------------------------------\n",
      "elasped_m5     5.874e+06  6.345e+06     0.9257     0.3553  -6.613e+06   1.836e+07\n",
      "elasped_m4     7.635e+05  1.301e+06     0.5869     0.5577  -1.797e+06   3.324e+06\n",
      "elasped_m3     1.104e+06  1.604e+06     0.6884     0.4917  -2.053e+06   4.262e+06\n",
      "elasped_m2     2.981e+06  2.305e+06     1.2932     0.1969  -1.555e+06   7.518e+06\n",
      "elasped_0      -1.47e+06  8.691e+05    -1.6910     0.0919   -3.18e+06   2.408e+05\n",
      "elasped_1     -2.143e+04  2.179e+06    -0.0098     0.9922   -4.31e+06   4.267e+06\n",
      "elasped_2      2.053e+04   1.78e+06     0.0115     0.9908  -3.482e+06   3.523e+06\n",
      "elasped_3      4.323e+05  1.499e+06     0.2883     0.7733  -2.518e+06   3.383e+06\n",
      "elasped_4     -7.326e+05  2.268e+06    -0.3230     0.7469  -5.196e+06   3.731e+06\n",
      "elasped_5      3.012e+06  1.765e+06     1.7063     0.0890  -4.619e+05   6.486e+06\n",
      "elasped_6      4.082e+06  2.133e+06     1.9138     0.0566  -1.155e+05   8.279e+06\n",
      "elasped_7      4.943e+05  9.075e+05     0.5447     0.5864  -1.292e+06    2.28e+06\n",
      "elasped_8      1.923e+06  1.246e+06     1.5437     0.1237  -5.285e+05   4.374e+06\n",
      "elasped_9       4.78e+06  2.661e+06     1.7964     0.0734  -4.565e+05   1.002e+07\n",
      "elasped_10     1.363e+06  1.009e+06     1.3504     0.1779  -6.233e+05   3.349e+06\n",
      "elasped_11     1.023e+06  1.157e+06     0.8839     0.3775  -1.254e+06     3.3e+06\n",
      "elasped_12     2.709e+06  1.054e+06     2.5701     0.0107   6.347e+05   4.783e+06\n",
      "elasped_13     1.035e+06  1.567e+06     0.6605     0.5095  -2.049e+06   4.119e+06\n",
      "elasped_14     8.826e+05  1.859e+06     0.4749     0.6352  -2.775e+06    4.54e+06\n",
      "elasped_15     8.245e+05  2.059e+06     0.4005     0.6891  -3.227e+06   4.876e+06\n",
      "stock_otc_lag     1.4656     0.3504     4.1830     0.0000      0.7761      2.1551\n",
      "=================================================================================\n"
     ]
    },
    {
     "name": "stderr",
     "output_type": "stream",
     "text": [
      "c:\\Users\\hakos\\AppData\\Local\\Programs\\Python\\Python310\\lib\\site-packages\\linearmodels\\panel\\model.py:1214: MissingValueWarning: \n",
      "Inputs contain missing values. Dropping rows with missing observations.\n",
      "  super().__init__(dependent, exog, weights=weights, check_rank=check_rank)\n",
      "C:\\Users\\hakos\\AppData\\Local\\Temp\\ipykernel_24656\\2243972062.py:5: AbsorbingEffectWarning: \n",
      "Variables have been fully absorbed and have removed from the regression:\n",
      "\n",
      "generic_per\n",
      "\n",
      "  res_fe=mod_fe.fit(cov_type='clustered', cluster_entity=True)\n"
     ]
    },
    {
     "name": "stdout",
     "output_type": "stream",
     "text": [
      "                          PanelOLS Estimation Summary                           \n",
      "================================================================================\n",
      "Dep. Variable:                otc_dom   R-squared:                        0.2395\n",
      "Estimator:                   PanelOLS   R-squared (Between):              0.5058\n",
      "No. Observations:                 359   R-squared (Within):               0.2831\n",
      "Date:                Mon, Jul 31 2023   R-squared (Overall):              0.4944\n",
      "Time:                        17:01:40   Log-likelihood                   -6020.9\n",
      "Cov. Estimator:             Clustered                                           \n",
      "                                        F-statistic:                      4.4387\n",
      "Entities:                          30   P-value                           0.0000\n",
      "Avg Obs:                       11.967   Distribution:                  F(21,296)\n",
      "Min Obs:                       1.0000                                           \n",
      "Max Obs:                       13.000   F-statistic (robust):             170.77\n",
      "                                        P-value                           0.0000\n",
      "Time periods:                      13   Distribution:                  F(21,296)\n",
      "Avg Obs:                       27.615                                           \n",
      "Min Obs:                       27.000                                           \n",
      "Max Obs:                       29.000                                           \n",
      "                                                                                \n",
      "================================================================================\n"
     ]
    }
   ],
   "source": [
    "\n",
    "formula=\"otc_dom ~ elasped_m5+elasped_m4+elasped_m3+elasped_m2+elasped_m1+elasped_0+elasped_1+elasped_2+elasped_3+elasped_4+elasped_5+elasped_6+elasped_7+elasped_8+elasped_9+elasped_10+elasped_11+elasped_12+elasped_13+elasped_14+elasped_15+generic_per+TimeEffects+EntityEffects\"\n",
    "# stock lag version\n",
    "formula=\"otc_dom ~ elasped_m5+elasped_m4+elasped_m3+elasped_m2+elasped_0+elasped_1+elasped_2+elasped_3+elasped_4+elasped_5+elasped_6+elasped_7+elasped_8+elasped_9+elasped_10+elasped_11+elasped_12+elasped_13+elasped_14+elasped_15+generic_per+stock_otc_lag+EntityEffects+TimeEffects\"\n",
    "mod_fe=PanelOLS.from_formula(formula, data=df, drop_absorbed=True)\n",
    "res_fe=mod_fe.fit(cov_type='clustered', cluster_entity=True)\n",
    "print(res_fe.summary.tables[1])\n",
    "print(res_fe.summary.tables[0])"
   ]
  },
  {
   "cell_type": "code",
   "execution_count": 96,
   "metadata": {},
   "outputs": [
    {
     "name": "stdout",
     "output_type": "stream",
     "text": [
      "                          PanelOLS Estimation Summary                           \n",
      "================================================================================\n",
      "Dep. Variable:            log_otc_dom   R-squared:                        0.2740\n",
      "Estimator:                   PanelOLS   R-squared (Between):              0.1219\n",
      "No. Observations:                 359   R-squared (Within):               0.2758\n",
      "Date:                Mon, Jul 31 2023   R-squared (Overall):              0.1230\n",
      "Time:                        17:01:40   Log-likelihood                   -191.05\n",
      "Cov. Estimator:             Clustered                                           \n",
      "                                        F-statistic:                      5.0601\n",
      "Entities:                          30   P-value                           0.0000\n",
      "Avg Obs:                       11.967   Distribution:                  F(22,295)\n",
      "Min Obs:                       1.0000                                           \n",
      "Max Obs:                       13.000   F-statistic (robust):             48.799\n",
      "                                        P-value                           0.0000\n",
      "Time periods:                      13   Distribution:                  F(22,295)\n",
      "Avg Obs:                       27.615                                           \n",
      "Min Obs:                       27.000                                           \n",
      "Max Obs:                       29.000                                           \n",
      "                                                                                \n",
      "                                 Parameter Estimates                                 \n",
      "=====================================================================================\n",
      "                   Parameter  Std. Err.     T-stat    P-value    Lower CI    Upper CI\n",
      "-------------------------------------------------------------------------------------\n",
      "log_stock_otc_lag     0.0180     0.0128     1.4113     0.1592     -0.0071      0.0432\n",
      "elasped_m5            0.0315     0.1070     0.2946     0.7685     -0.1790      0.2421\n",
      "elasped_m4           -0.1155     0.1381    -0.8362     0.4037     -0.3874      0.1564\n",
      "elasped_m3           -0.1858     0.1847    -1.0059     0.3153     -0.5493      0.1777\n",
      "elasped_m2            0.1390     0.1741     0.7985     0.4252     -0.2036      0.4816\n",
      "elasped_m1            0.1849     0.1250     1.4796     0.1400     -0.0610      0.4309\n",
      "elasped_0             0.2090     0.1154     1.8116     0.0711     -0.0180      0.4360\n",
      "elasped_1             0.4422     0.1396     3.1687     0.0017      0.1676      0.7169\n",
      "elasped_2             0.3244     0.1811     1.7912     0.0743     -0.0320      0.6807\n",
      "elasped_3             0.4533     0.2044     2.2181     0.0273      0.0511      0.8555\n",
      "elasped_4             0.4167     0.2005     2.0782     0.0386      0.0221      0.8113\n",
      "elasped_5             0.3293     0.1754     1.8781     0.0613     -0.0158      0.6745\n",
      "elasped_6             0.4409     0.1975     2.2321     0.0264      0.0522      0.8297\n",
      "elasped_7             0.5093     0.1098     4.6396     0.0000      0.2933      0.7254\n",
      "elasped_8             0.6220     0.1535     4.0535     0.0001      0.3200      0.9241\n",
      "elasped_9             0.6548     0.1539     4.2540     0.0000      0.3519      0.9577\n",
      "elasped_10            0.5856     0.1506     3.8884     0.0001      0.2892      0.8820\n",
      "elasped_11            0.5646     0.1988     2.8396     0.0048      0.1733      0.9559\n",
      "elasped_12            0.5220     0.1177     4.4349     0.0000      0.2904      0.7536\n",
      "elasped_13            0.4603     0.1435     3.2081     0.0015      0.1779      0.7427\n",
      "elasped_14            0.3208     0.2040     1.5729     0.1168     -0.0806      0.7223\n",
      "elasped_15            0.3643     0.2587     1.4083     0.1601     -0.1448      0.8735\n",
      "=====================================================================================\n",
      "\n",
      "F-test for Poolability: 119.08\n",
      "P-value: 0.0000\n",
      "Distribution: F(41,295)\n",
      "\n",
      "Included effects: Entity, Time\n"
     ]
    },
    {
     "name": "stderr",
     "output_type": "stream",
     "text": [
      "c:\\Users\\hakos\\AppData\\Local\\Programs\\Python\\Python310\\lib\\site-packages\\linearmodels\\panel\\model.py:1214: MissingValueWarning: \n",
      "Inputs contain missing values. Dropping rows with missing observations.\n",
      "  super().__init__(dependent, exog, weights=weights, check_rank=check_rank)\n",
      "C:\\Users\\hakos\\AppData\\Local\\Temp\\ipykernel_24656\\2487830583.py:8: AbsorbingEffectWarning: \n",
      "Variables have been fully absorbed and have removed from the regression:\n",
      "\n",
      "generic_per\n",
      "\n",
      "  res_fe=mod_fe.fit(cov_type='clustered', cluster_entity=True)\n"
     ]
    }
   ],
   "source": [
    "# take log\n",
    "formula=\"log_otc_dom ~ elasped_m5+elasped_m4+elasped_m3+elasped_m2+elasped_m1+elasped_0+elasped_1+elasped_2+elasped_3+elasped_4+elasped_5+elasped_6+elasped_7+elasped_8+elasped_9+elasped_10+elasped_11+elasped_12+elasped_13+elasped_14+elasped_15+generic_per+TimeEffects+EntityEffects\"\n",
    "# stock lag version\n",
    "formula=\"log_otc_dom ~ generic_per+log_stock_otc_lag+elasped_m5+elasped_m4+elasped_m3+elasped_m2+elasped_m1+elasped_0+elasped_1+elasped_2+elasped_3+elasped_4+elasped_5+elasped_6+elasped_7+elasped_8+elasped_9+elasped_10+elasped_11+elasped_12+elasped_13+elasped_14+elasped_15+elasped_16+elasped_17+elasped_18+elasped_19+elasped_20+TimeEffects+EntityEffects\"\n",
    "# till 15\n",
    "formula=\"log_otc_dom ~ generic_per+log_stock_otc_lag+elasped_m5+elasped_m4+elasped_m3+elasped_m2+elasped_m1+elasped_0+elasped_1+elasped_2+elasped_3+elasped_4+elasped_5+elasped_6+elasped_7+elasped_8+elasped_9+elasped_10+elasped_11+elasped_12+elasped_13+elasped_14+elasped_15+TimeEffects+EntityEffects\"\n",
    "mod_fe=PanelOLS.from_formula(formula, data=df,drop_absorbed=True)\n",
    "res_fe=mod_fe.fit(cov_type='clustered', cluster_entity=True)\n",
    "# res_fe=mod_fe.fit()\n",
    "# print(res_fe.summary.tables[1])\n",
    "# print(res_fe.summary.tables[0])\n",
    "print(res_fe)"
   ]
  },
  {
   "cell_type": "code",
   "execution_count": 8,
   "metadata": {},
   "outputs": [],
   "source": [
    "# 天才やん\n",
    "summary_table=pd.DataFrame(res_fe.summary.tables[1].data[2:23],columns=res_fe.summary.tables[1].data[0])\n",
    "summary_table[\"Time\"]=np.array(list(range(-5,16)))\n",
    "# make each column of summary_table numeric\n",
    "summary_table=summary_table.apply(pd.to_numeric, errors='ignore')"
   ]
  },
  {
   "cell_type": "code",
   "execution_count": 9,
   "metadata": {},
   "outputs": [
    {
     "data": {
      "image/png": "[encoded data removed]",
      "text/plain": [
       "<Figure size 720x432 with 1 Axes>"
      ]
     },
     "metadata": {
      "needs_background": "light"
     },
     "output_type": "display_data"
    }
   ],
   "source": [
    "plt.figure(figsize=(10, 6))  # Adjust figure size as needed\n",
    "\n",
    "# Plot coefficients as points\n",
    "plt.plot(summary_table['Time'], summary_table[\"Parameter\"], 'o-', label='Coefficients', color='b')\n",
    "\n",
    "# Plot confidence intervals as error bars\n",
    "plt.errorbar(summary_table['Time'], summary_table[\"Parameter\"],\n",
    "             yerr=[summary_table[\"Parameter\"] - summary_table['Lower CI'],\n",
    "                   summary_table['Upper CI'] - summary_table[\"Parameter\"]],\n",
    "             fmt='none', ecolor='orange', elinewidth=2, capsize=4, label='Confidence Intervals')\n",
    "\n",
    "plt.xlabel('Time')\n",
    "plt.ylabel(\"Parameter\")\n",
    "plt.title('Event Study Coefficients with Confidence Intervals')\n",
    "plt.legend()\n",
    "plt.grid(True)\n",
    "plt.show()"
   ]
  }
 ],
 "metadata": {
  "kernelspec": {
   "display_name": "Python 3",
   "language": "python",
   "name": "python3"
  },
  "language_info": {
   "codemirror_mode": {
    "name": "ipython",
    "version": 3
   },
   "file_extension": ".py",
   "mimetype": "text/x-python",
   "name": "python",
   "nbconvert_exporter": "python",
   "pygments_lexer": "ipython3",
   "version": "3.10.4"
  },
  "orig_nbformat": 4
 },
 "nbformat": 4,
 "nbformat_minor": 2
}
